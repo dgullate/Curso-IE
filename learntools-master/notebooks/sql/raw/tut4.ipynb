{
 "cells": [
  {
   "cell_type": "markdown",
   "metadata": {},
   "source": [
    "# Introduction\n",
    "\n",
    "So far, you've learned how to use several SQL clauses.  For instance, you know how to use **SELECT** to pull specific columns from a table, along with **WHERE** to pull rows that meet specified criteria.  You also know how to use aggregate functions like **COUNT()**, along with **GROUP BY** to treat multiple rows as a single group.  \n",
    "\n",
    "Now you'll learn how to change the order of your results using the **ORDER BY** clause, and you'll explore a popular use case by applying ordering to dates.  To illustrate what you'll learn in this tutorial, we'll work with a slightly modified version of our familiar `pets` table.\n",
    "\n",
    "![](https://i.imgur.com/b99zTLv.png)\n",
    "\n",
    "# ORDER BY\n",
    "\n",
    "**ORDER BY** is usually the last clause in your query, and it sorts the results returned by the rest of your query.\n",
    "\n",
    "Notice that the rows are not ordered by the `ID` column.  We can quickly remedy this with the query below.\n",
    "\n",
    "![](https://i.imgur.com/6o9LuTA.png)\n",
    "\n",
    "The **ORDER BY** clause also works for columns containing text, where the results show up in alphabetical order.\n",
    "\n",
    "![](https://i.imgur.com/ooxuzw3.png)\n",
    "\n",
    "You can reverse the order using the **DESC** argument (short for 'descending').  The next query sorts the table by the `Animal` column, where the values that are last in alphabetic order are returned first.\n",
    "\n",
    "![](https://i.imgur.com/IElLJrR.png)\n",
    " \n",
    "# Dates\n",
    "\n",
    "Next, we'll talk about dates, because they come up very frequently in real-world databases. There are two ways that dates can be stored in BigQuery: as a **DATE** or as a **DATETIME**. \n",
    "\n",
    "The **DATE** format has the year first, then the month, and then the day. It looks like this:\n",
    "\n",
    "```\n",
    "YYYY-[M]M-[D]D\n",
    "```\n",
    "    \n",
    "* `YYYY`: Four-digit year\n",
    "* `[M]M`: One or two digit month\n",
    "* `[D]D`: One or two digit day\n",
    "\n",
    "So `2019-01-10` is interpreted as January 10, 2019.\n",
    "\n",
    "The **DATETIME** format is like the date format ... but with time added at the end.\n",
    "\n",
    "# EXTRACT\n",
    "\n",
    "Often you'll want to look at part of a date, like the year or the day. You can do this with **EXTRACT**.  We'll illustrate this with a slightly different table, called `pets_with_date`.\n",
    "\n",
    "![](https://i.imgur.com/vhvHIh0.png)\n",
    "\n",
    "The query below returns two columns, where column `Day` contains the day corresponding to each entry the `Date` column from the `pets_with_date` table: \n",
    "            \n",
    "![](https://i.imgur.com/PhoWBO0.png)\n",
    "\n",
    "SQL is very smart about dates, and we can ask for information beyond just extracting part of the cell. For example, this query returns one column with just the week in the year (between 1 and 53) for each date in the `Date` column: \n",
    "\n",
    "![](https://i.imgur.com/A5hqGxY.png)\n",
    "\n",
    "You can find all the functions you can use with dates in BigQuery in [this documentation](https://cloud.google.com/bigquery/docs/reference/legacy-sql#datetimefunctions) under \"Date and time functions\".  "
   ]
  },
  {
   "cell_type": "markdown",
   "metadata": {},
   "source": [
    "# Example: Which day of the week has the most fatal motor accidents?\n",
    "\n",
    "Let's use the US Traffic Fatality Records database, which contains information on traffic accidents in the US where at least one person died.\n",
    "\n",
    "We'll investigate the `accident_2015` table. Here is a view of the first few rows.  (_We have hidden the corresponding code. To take a peek, click on the \"Code\" button below._)"
   ]
  },
  {
   "cell_type": "code",
   "execution_count": null,
   "metadata": {
    "_kg_hide-input": true
   },
   "outputs": [],
   "source": [
    "#$HIDE_INPUT$\n",
    "from google.cloud import bigquery\n",
    "\n",
    "# Create a \"Client\" object\n",
    "client = bigquery.Client()\n",
    "\n",
    "# Construct a reference to the \"nhtsa_traffic_fatalities\" dataset\n",
    "dataset_ref = client.dataset(\"nhtsa_traffic_fatalities\", project=\"bigquery-public-data\")\n",
    "\n",
    "# API request - fetch the dataset\n",
    "dataset = client.get_dataset(dataset_ref)\n",
    "\n",
    "# Construct a reference to the \"accident_2015\" table\n",
    "table_ref = dataset_ref.table(\"accident_2015\")\n",
    "\n",
    "# API request - fetch the table\n",
    "table = client.get_table(table_ref)\n",
    "\n",
    "# Preview the first five lines of the \"accident_2015\" table\n",
    "client.list_rows(table, max_results=5).to_dataframe()"
   ]
  },
  {
   "cell_type": "markdown",
   "metadata": {},
   "source": [
    "Let's use the table to determine how the number of accidents varies with the day of the week.  Since:\n",
    "- the `consecutive_number` column contains a unique ID for each accident, and\n",
    "- the `timestamp_of_crash` column contains the date of the accident in DATETIME format,\n",
    "\n",
    "we can:\n",
    "- **EXTRACT** the day of the week (as `day_of_week` in the query below) from the `timestamp_of_crash` column, and\n",
    "- **GROUP BY** the day of the week, before we **COUNT** the `consecutive_number` column to determine the number of accidents for each day of the week.\n",
    "\n",
    "Then we sort the table with an **ORDER BY** clause, so the days with the most accidents are returned first."
   ]
  },
  {
   "cell_type": "code",
   "execution_count": null,
   "metadata": {},
   "outputs": [],
   "source": [
    "# Query to find out the number of accidents for each day of the week\n",
    "query = \"\"\"\n",
    "        SELECT COUNT(consecutive_number) AS num_accidents, \n",
    "               EXTRACT(DAYOFWEEK FROM timestamp_of_crash) AS day_of_week\n",
    "        FROM `bigquery-public-data.nhtsa_traffic_fatalities.accident_2015`\n",
    "        GROUP BY day_of_week\n",
    "        ORDER BY num_accidents DESC\n",
    "        \"\"\""
   ]
  },
  {
   "cell_type": "markdown",
   "metadata": {},
   "source": [
    "As usual, we run it as follows:"
   ]
  },
  {
   "cell_type": "code",
   "execution_count": null,
   "metadata": {},
   "outputs": [],
   "source": [
    "# Set up the query (cancel the query if it would use too much of \n",
    "# your quota, with the limit set to 1 GB)\n",
    "safe_config = bigquery.QueryJobConfig(maximum_bytes_billed=1e9)\n",
    "query_job = client.query(query, job_config=safe_config)\n",
    "\n",
    "# API request - run the query, and convert the results to a pandas DataFrame\n",
    "accidents_by_day = query_job.to_dataframe()\n",
    "\n",
    "# Print the DataFrame\n",
    "accidents_by_day"
   ]
  },
  {
   "cell_type": "markdown",
   "metadata": {},
   "source": [
    "Notice that the data is sorted by the `num_accidents` column, where the days with more traffic accidents appear first.\n",
    "\n",
    "To map the numbers returned for the `day_of_week` column to the actual day, you might consult [the BigQuery documentation](https://cloud.google.com/bigquery/docs/reference/legacy-sql#dayofweek) on the DAYOFWEEK function. It says that it returns \"an integer between 1 (Sunday) and 7 (Saturday), inclusively\". So, in 2015, most fatal motor accidents in the US occured on Sunday and Saturday, while the fewest happened on Tuesday."
   ]
  },
  {
   "cell_type": "markdown",
   "metadata": {},
   "source": [
    "# Your Turn\n",
    "**ORDER BY** can make your results easier to interpret. **[Try it yourself](#$NEXT_NOTEBOOK_URL$)**.\n"
   ]
  }
 ],
 "metadata": {
  "kernelspec": {
   "display_name": "Python 3",
   "language": "python",
   "name": "python3"
  },
  "language_info": {
   "codemirror_mode": {
    "name": "ipython",
    "version": 3
   },
   "file_extension": ".py",
   "mimetype": "text/x-python",
   "name": "python",
   "nbconvert_exporter": "python",
   "pygments_lexer": "ipython3",
   "version": "3.6.5"
  }
 },
 "nbformat": 4,
 "nbformat_minor": 1
}
