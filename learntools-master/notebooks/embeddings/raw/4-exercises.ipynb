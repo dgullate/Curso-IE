{
 "cells": [
  {
   "cell_type": "markdown",
   "metadata": {},
   "source": [
    "# Exercise (t-SNE)\n",
    "\n",
    "One practical application of visualizing trained embeddings with t-SNE is understanding what information about the embedded entities our model has (and hasn't) learned. This can give us some intuition about how our model works, what latent features it thinks are useful, whether adding certain additional data explicitly might improve the model's accuracy, and so on.\n",
    "\n",
    "In the [tutorial](#$TUTORIAL_URL(4)$), we briefly explored the question of whether our embeddings were sensitive to genre. In this exercise, we'll see if we can identify patterns in our 2-d embedding space when we group or filter by some other movie metadata."
   ]
  },
  {
   "cell_type": "markdown",
   "metadata": {},
   "source": [
    "To get started, run the code cell below to import the necessary libraries, and load a copy of the t-SNE mapping we learned in the lesson."
   ]
  },
  {
   "cell_type": "code",
   "execution_count": null,
   "metadata": {},
   "outputs": [],
   "source": [
    "import os\n",
    "import numpy as np\n",
    "import pandas as pd\n",
    "from matplotlib import pyplot as plt\n",
    "import matplotlib as mpl\n",
    "\n",
    "from learntools.core import binder; binder.bind(globals())\n",
    "from learntools.embeddings.ex4_tsne import *\n",
    "\n",
    "#_RM_\n",
    "input_dir = '.'\n",
    "#_UNCOMMENT_\n",
    "#input_dir = '../input/visualizing-embeddings-with-t-sne'\n",
    "csv_path = os.path.join(input_dir, 'movies_tsne.csv')\n",
    "df = pd.read_csv(csv_path, index_col=0)"
   ]
  },
  {
   "cell_type": "markdown",
   "metadata": {},
   "source": [
    "# 1. Release year\n",
    "\n",
    "The code cell below shows how we can use the `c` keyword arg of [`Axes.scatter`](https://matplotlib.org/api/_as_gen/matplotlib.axes.Axes.scatter.html) to specify a color for each point of a scatter plot. Right now, we're graphing the positions of our movie embeddings (after t-SNE dimensionality reduction) and assigning color randomly.\n",
    "\n",
    "Update the code below so that a movie's point is colored according to its year of release."
   ]
  },
  {
   "cell_type": "code",
   "execution_count": null,
   "metadata": {},
   "outputs": [],
   "source": [
    "FS = (13, 9)\n",
    "fig, ax = plt.subplots(figsize=FS)\n",
    "\n",
    "c = np.random.rand(len(df))\n",
    "\n",
    "pts = ax.scatter(df.x, df.y, c=c)\n",
    "\n",
    "cbar = fig.colorbar(pts)"
   ]
  },
  {
   "cell_type": "code",
   "execution_count": null,
   "metadata": {},
   "outputs": [],
   "source": [
    "#%%RM_IF(PROD)%%\n",
    "# Correct (solution code)\n",
    "FS = (13, 9)\n",
    "fig, ax = plt.subplots(figsize=FS)\n",
    "\n",
    "c = df.year\n",
    "\n",
    "pts = ax.scatter(df.x, df.y, c=c)\n",
    "\n",
    "cbar = fig.colorbar(pts)"
   ]
  },
  {
   "cell_type": "code",
   "execution_count": null,
   "metadata": {},
   "outputs": [],
   "source": [
    "#%%RM_IF(PROD)%%\n",
    "# Custom cmap\n",
    "FS = (13, 9)\n",
    "fig, ax = plt.subplots(figsize=FS)\n",
    "\n",
    "c = df.year\n",
    "\n",
    "pts = ax.scatter(df.x, df.y, c=c, cmap='cubehelix')\n",
    "\n",
    "cbar = fig.colorbar(pts)"
   ]
  },
  {
   "cell_type": "code",
   "execution_count": null,
   "metadata": {},
   "outputs": [],
   "source": [
    "#%%RM_IF(PROD)%%\n",
    "# Solution w/ sampling\n",
    "FS = (13, 9)\n",
    "fig, ax = plt.subplots(figsize=FS)\n",
    "\n",
    "n = 2000\n",
    "_df = df.sample(n, random_state=1).copy()\n",
    "c = _df.year\n",
    "\n",
    "pts = ax.scatter(_df.x, _df.y, c=c)\n",
    "\n",
    "cbar = fig.colorbar(pts)"
   ]
  },
  {
   "cell_type": "markdown",
   "metadata": {},
   "source": [
    "Are our movie embeddings sensitive to year? \n",
    "\n",
    "Is there a global pattern to year of release in our t-SNE mapping? i.e. is it possible to draw a straight line through our embeddings such that year tends to increase as we move in that direction? \n",
    "\n",
    "## Bonus\n",
    "\n",
    "If you'd like to push yourself further, try some of the following exercises:\n",
    "\n",
    "- Try experimenting with different color maps, using the `cmap` keyword argument to `scatter`. You can browse the colormaps that ship with matplotlib [here](https://matplotlib.org/examples/color/colormaps_reference.html). Do different colormaps offer different insights into the data? What if you use one of the \"qualitative colormaps\"?\n",
    "- By default, the smallest and largest numerical values in the data are mapped to the extremes of our colormap. In the case of year, the earliest movie in our dataset is from 1902, but there are very few movies in the first few decades of the 20th century. Would our results be easier to interpret if we started our colormap at 1930 or 1940? Give it a try. Hint: check out the `norm` argument to [`ax.scatter`](https://matplotlib.org/api/_as_gen/matplotlib.axes.Axes.scatter.html) and the documentation for [`matplotlib.colors.Normalize`](https://matplotlib.org/api/_as_gen/matplotlib.colors.Normalize.html#matplotlib.colors.Normalize).\n",
    "- Can you identify any exceptions to the overall trend in your graph? Try zooming in on the area of an anomaly and looking at the labels of the points. How many movies make up the anomaly? Do you have a hypothesis about why our algorithm would have placed them there? (Suggestion: try reusing some of the helper functions defined in [the tutorial](#$TUTORIAL_URL(4)$) such as `plot_region`)"
   ]
  },
  {
   "cell_type": "code",
   "execution_count": null,
   "metadata": {},
   "outputs": [],
   "source": [
    "#_COMMENT_IF(PROD)_\n",
    "part1.solution()"
   ]
  },
  {
   "cell_type": "markdown",
   "metadata": {},
   "source": [
    "# 2. Average rating\n",
    "\n",
    "This is a very salient question for our problem of predicting user-assigned ratings. Does a movie's \"goodness\" or \"badness\", as measured by its average user rating, manifest in its embedding? \n",
    "\n",
    "To find out, create a scatter plot of our movie embeddings where a movie's color is set according to its mean rating.\n",
    "\n",
    "**Hint**: Use the code from part 1 as a model."
   ]
  },
  {
   "cell_type": "code",
   "execution_count": null,
   "metadata": {},
   "outputs": [],
   "source": [
    "# Your code goes here"
   ]
  },
  {
   "cell_type": "markdown",
   "metadata": {},
   "source": [
    "Again, is there a global pattern to the distribution of mean rating?"
   ]
  },
  {
   "cell_type": "code",
   "execution_count": null,
   "metadata": {},
   "outputs": [],
   "source": [
    "#_COMMENT_IF(PROD)_\n",
    "part2.hint()"
   ]
  },
  {
   "cell_type": "code",
   "execution_count": null,
   "metadata": {},
   "outputs": [],
   "source": [
    "#%%RM_IF(PROD)%%\n",
    "FS = (13, 9)\n",
    "fig, ax = plt.subplots(figsize=FS)\n",
    "\n",
    "c = df.mean_rating\n",
    "\n",
    "pts = ax.scatter(df.x, df.y, c=c, cmap='cubehelix')\n",
    "\n",
    "cbar = fig.colorbar(pts)"
   ]
  },
  {
   "cell_type": "code",
   "execution_count": null,
   "metadata": {},
   "outputs": [],
   "source": [
    "#_COMMENT_IF(PROD)_\n",
    "part2.solution()"
   ]
  },
  {
   "cell_type": "markdown",
   "metadata": {},
   "source": [
    "**Bonus**: Some movies are divisive - you either love them, or you hate them. Is this reflected in our embeddings? You'll have to come up with a way to calculate a measure of how 'spread out' the user ratings are for each movie."
   ]
  },
  {
   "cell_type": "markdown",
   "metadata": {},
   "source": [
    "# 3. Number of ratings\n",
    "\n",
    "Do our embeddings reflect the number of ratings we have in the dataset for each movie? (We might think of this as a proxy for how popular or obscure a movie is.)\n",
    "\n",
    "Run the code cell below to generate a visualization similar to the previous two, this time using color to represent number of ratings:"
   ]
  },
  {
   "cell_type": "code",
   "execution_count": null,
   "metadata": {},
   "outputs": [],
   "source": [
    "fig, ax = plt.subplots(figsize=FS)\n",
    "\n",
    "c = df.n_ratings\n",
    "\n",
    "pts = ax.scatter(df.x, df.y, c=c)\n",
    "\n",
    "cbar = fig.colorbar(pts)"
   ]
  },
  {
   "cell_type": "markdown",
   "metadata": {},
   "source": [
    "Yikes, this is pretty hard to read. Most of our movies have on the order of hundreds of ratings, but there's also a long tail of movies with tends of thousands of ratings, which makes a linear scale a poor choice. \n",
    "\n",
    "Try improving the visualization above to help us answer our original question: are our embeddings sensitive to number of ratings? (And to what degree is the trend global vs. local?)\n",
    "\n",
    "**Hint**: Check out the `norm` keyword argument to [`Axes.scatter`](https://matplotlib.org/api/_as_gen/matplotlib.axes.Axes.scatter.html)."
   ]
  },
  {
   "cell_type": "code",
   "execution_count": null,
   "metadata": {},
   "outputs": [],
   "source": [
    "part3.solution()"
   ]
  },
  {
   "cell_type": "code",
   "execution_count": null,
   "metadata": {},
   "outputs": [],
   "source": [
    "#%%RM_IF(PROD)%%\n",
    "# Solution code\n",
    "fig, ax = plt.subplots(figsize=FS)\n",
    "c = df.n_ratings\n",
    "pts = ax.scatter(df.x, df.y, c=c, norm=mpl.colors.LogNorm())\n",
    "cbar = fig.colorbar(pts)\n"
   ]
  },
  {
   "cell_type": "markdown",
   "metadata": {},
   "source": [
    "# 4. (Bonus) Going further afield\n",
    "\n",
    "If you're feeling ambitious, try searching for another Kaggle movie dataset and visualizing one or more variables you find there. You'll need to do a join with our MovieLens data on title.\n",
    "\n",
    "For example, [imdb-data](https://www.kaggle.com/PromptCloudHQ/imdb-data) has some interesting features we're missing including box office revenue, runtime, and director.\n",
    "\n",
    "---"
   ]
  },
  {
   "cell_type": "markdown",
   "metadata": {},
   "source": [
    "And that's it for t-SNE. Though, if you're so inclined, I encourage you to do your own exploration of the embedding space using the helper functions defined in [the tutorial notebook](#$TUTORIAL_URL$) (or defining your own). It's a lot of fun! Well, at least if you're a movie buff. And if you discover an interesting pattern, or build a visualization you're especially proud of, do share it on [the forums](https://www.kaggle.com/learn-forum)!\n",
    "\n",
    "As you've probably heard me say several times now, this course is still in beta and I'd love to get your feedback on how to make it better. If you have a moment to [fill out a super-short survey](https://form.jotform.com/82826732184260) about this exercise one last time, I'd greatly appreciate it.\n",
    "\n",
    "Thanks for sticking around through the whole embeddings course! I hope you had fun and/or learned something useful!"
   ]
  }
 ],
 "metadata": {
  "kernelspec": {
   "display_name": "Python 3",
   "language": "python",
   "name": "python3"
  },
  "language_info": {
   "codemirror_mode": {
    "name": "ipython",
    "version": 3
   },
   "file_extension": ".py",
   "mimetype": "text/x-python",
   "name": "python",
   "nbconvert_exporter": "python",
   "pygments_lexer": "ipython3",
   "version": "3.6.5"
  },
  "learntools_metadata": {
   "lesson_index": 3,
   "type": "exercise"
  }
 },
 "nbformat": 4,
 "nbformat_minor": 2
}
