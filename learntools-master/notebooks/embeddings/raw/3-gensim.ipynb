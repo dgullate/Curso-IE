{
 "cells": [
  {
   "cell_type": "markdown",
   "metadata": {},
   "source": [
    "Earlier we trained a model to predict the ratings users would give to movies using a network with embeddings learned for each movie and user. Embeddings are powerful! But how do they actually work? \n",
    "\n",
    "Previously, I claimed that embeddings capture the 'meaning' of the objects they represent, and discover useful latent structure. Let's put that to the test!\n",
    "\n",
    "# Looking up embeddings\n",
    "\n",
    "Let's load a model we trained earlier so we can investigate the embedding weights that it learned."
   ]
  },
  {
   "cell_type": "code",
   "execution_count": null,
   "metadata": {},
   "outputs": [],
   "source": [
    "import os\n",
    "\n",
    "import numpy as np\n",
    "import pandas as pd\n",
    "from matplotlib import pyplot as plt\n",
    "import tensorflow as tf\n",
    "from tensorflow import keras\n",
    "\n",
    "#_RM_\n",
    "input_dir = '../input/movielens_preprocessed'\n",
    "#_UNCOMMENT_\n",
    "#input_dir = '../input/movielens-preprocessing'\n",
    "#_RM_\n",
    "model_dir = '.'\n",
    "#_UNCOMMENT_\n",
    "#model_dir = '../input/movielens-spiffy-model'\n",
    "model_path = os.path.join(model_dir, 'movie_svd_model_32.h5')\n",
    "model = keras.models.load_model(model_path)"
   ]
  },
  {
   "cell_type": "markdown",
   "metadata": {},
   "source": [
    "The embedding weights are part of the model's internals, so we'll have to do a bit of digging around to access them. We'll grab the layer responsible for embedding movies, and use the `get_weights()` method to get its learned weights."
   ]
  },
  {
   "cell_type": "code",
   "execution_count": null,
   "metadata": {},
   "outputs": [],
   "source": [
    "emb_layer = model.get_layer('movie_embedding')\n",
    "(w,) = emb_layer.get_weights()\n",
    "w.shape"
   ]
  },
  {
   "cell_type": "markdown",
   "metadata": {},
   "source": [
    "Our weight matrix has 26,744 rows for that many movies. Each row is 32 numbers - the size of our movie embeddings.\n",
    "\n",
    "Let's look at an example movie vector:"
   ]
  },
  {
   "cell_type": "code",
   "execution_count": null,
   "metadata": {},
   "outputs": [],
   "source": [
    "w[0]"
   ]
  },
  {
   "cell_type": "markdown",
   "metadata": {},
   "source": [
    "What movie is this the embedding of? Let's load up our dataframe of movie metadata."
   ]
  },
  {
   "cell_type": "code",
   "execution_count": null,
   "metadata": {},
   "outputs": [],
   "source": [
    "movies_path = os.path.join(input_dir, 'movie.csv')\n",
    "movies_df = pd.read_csv(movies_path, index_col=0)\n",
    "movies_df.head()"
   ]
  },
  {
   "cell_type": "markdown",
   "metadata": {},
   "source": [
    "Of course, it's *Toy Story*! I should have recognized that vector anywhere.\n",
    "\n",
    "Okay, I'm being facetious. It's hard to make anything of these vectors at this point. We never directed the model about how to use any particular embedding dimension. We left it alone to learn whatever representation it found useful.\n",
    "\n",
    "So how do we check whether these representations are sane and coherent?\n",
    "\n",
    "## Vector similarity\n",
    "\n",
    "A simple way to test this is to look at how close or distant pairs of movies are in the embedding space. Embeddings can be thought of as a smart distance metric. If our embedding matrix is any good, it should map similar movies (like *Toy Story* and *Shrek*) to similar vectors."
   ]
  },
  {
   "cell_type": "code",
   "execution_count": null,
   "metadata": {},
   "outputs": [],
   "source": [
    "i_toy_story = 0\n",
    "i_shrek = movies_df.loc[\n",
    "    movies_df.title == 'Shrek',\n",
    "    'movieId'\n",
    "].iloc[0]\n",
    "\n",
    "toy_story_vec = w[i_toy_story]\n",
    "shrek_vec = w[i_shrek]\n",
    "\n",
    "print(\n",
    "    toy_story_vec,\n",
    "    shrek_vec,\n",
    "    sep='\\n',\n",
    ")"
   ]
  },
  {
   "cell_type": "markdown",
   "metadata": {},
   "source": [
    "Comparing dimension-by-dimension, these look vaguely similar. If we wanted to assign a single number to their similarity, we could calculate the euclidean distance between these two vectors. (This is our conventional 'as the crow flies' notion of distance between two points. Easy to grok in 1, 2, or 3 dimensions. Mathematically, we can also extend it to 32 dimensions, though good luck visualizing it.)"
   ]
  },
  {
   "cell_type": "code",
   "execution_count": null,
   "metadata": {},
   "outputs": [],
   "source": [
    "from scipy.spatial import distance\n",
    "\n",
    "distance.euclidean(toy_story_vec, shrek_vec)"
   ]
  },
  {
   "cell_type": "markdown",
   "metadata": {},
   "source": [
    "How does this compare to a pair of movies that we would think of as very different?"
   ]
  },
  {
   "cell_type": "code",
   "execution_count": null,
   "metadata": {},
   "outputs": [],
   "source": [
    "i_exorcist = movies_df.loc[\n",
    "    movies_df.title == 'The Exorcist',\n",
    "    'movieId'\n",
    "].iloc[0]\n",
    "\n",
    "exorcist_vec = w[i_exorcist]\n",
    "\n",
    "distance.euclidean(toy_story_vec, exorcist_vec)"
   ]
  },
  {
   "cell_type": "markdown",
   "metadata": {},
   "source": [
    "As expected, much further apart.\n",
    "\n",
    "## Cosine Distance\n",
    "\n",
    "If you check out [the docs for the `scipy.spatial` module](https://docs.scipy.org/doc/scipy-0.14.0/reference/spatial.distance.html), you'll see there are actually a *lot* of different measures of distance that people use for different tasks.\n",
    "\n",
    "When judging the similarity of embeddings, it's more common to use [cosine similarity](https://en.wikipedia.org/wiki/Cosine_similarity).\n",
    "\n",
    "In brief, the cosine similarity of two vectors ranges from -1 to 1, and is a function of the *angle* between the vectors. If two vectors point in the same direction, their cosine similarity is 1. If they point in opposite directions, it's -1. If they're orthogonal (i.e. at right angles), their cosine similarity is 0.\n",
    "\n",
    "Cosine distance is just defined as 1 minus the cosine similarity (and therefore ranges from 0 to 2).\n",
    "\n",
    "Let's calculate a couple cosine distances between movie vectors:"
   ]
  },
  {
   "cell_type": "code",
   "execution_count": null,
   "metadata": {},
   "outputs": [],
   "source": [
    "print(\n",
    "    distance.cosine(toy_story_vec, shrek_vec),\n",
    "    distance.cosine(toy_story_vec, exorcist_vec),\n",
    "    sep='\\n'\n",
    ")"
   ]
  },
  {
   "cell_type": "markdown",
   "metadata": {},
   "source": [
    "> **Aside:** *Why* is cosine distance commonly used when working with embeddings? The short answer, as with so many deep learning techniques, is \"empirically, it works well\". In the exercise coming up, you'll get to do a little hands-on investigation that digs into this question more deeply.\n",
    "\n",
    "Which movies are most similar to *Toy Story*? Which movies fall right between *Psycho* and *Scream* in the embedding space? We could write a bunch of code to work out questions like this, but it'd be pretty tedious. Fortunately, there's already a library for exactly this sort of work: **Gensim**.\n",
    "\n",
    "# Exploring embeddings with Gensim\n",
    "\n",
    "I'll instantiate an instance of [`WordEmbeddingsKeyedVectors`](https://radimrehurek.com/gensim/models/keyedvectors.html#gensim.models.keyedvectors.WordEmbeddingsKeyedVectors) with our model's movie embeddings and the titles of the corresponding movies.\n",
    "\n",
    "> Aside: You may notice that Gensim's docs and many of its class and method names refer to *word* embeddings. While the library is most frequently used in the text domain, we can use it to explore embeddings of any sort."
   ]
  },
  {
   "cell_type": "code",
   "execution_count": null,
   "metadata": {},
   "outputs": [],
   "source": [
    "from gensim.models.keyedvectors import WordEmbeddingsKeyedVectors\n",
    "\n",
    "# Limit to movies with at least this many ratings in the dataset\n",
    "threshold = 100\n",
    "mainstream_movies = movies_df[movies_df.n_ratings >= threshold].reset_index(drop=True)\n",
    "\n",
    "movie_embedding_size = w.shape[1]\n",
    "kv = WordEmbeddingsKeyedVectors(movie_embedding_size)\n",
    "kv.add(\n",
    "    mainstream_movies['key'].values,\n",
    "    w[mainstream_movies.movieId]\n",
    ")"
   ]
  },
  {
   "cell_type": "markdown",
   "metadata": {},
   "source": [
    "Okay, so which movies are most similar to *Toy Story*?"
   ]
  },
  {
   "cell_type": "code",
   "execution_count": null,
   "metadata": {},
   "outputs": [],
   "source": [
    "kv.most_similar('Toy Story')"
   ]
  },
  {
   "cell_type": "markdown",
   "metadata": {},
   "source": [
    "Wow, these are pretty great! It makes perfect sense that *Toy Story 2* is the most similar movie to *Toy Story*. And most of the rest are animated kids movies with a similar computer-animated style."
   ]
  },
  {
   "cell_type": "markdown",
   "metadata": {},
   "source": [
    "So it's learned something about 3-d animated kids flick, but maybe that was just a fluke. Let's look at the closest neighbours for a few more movies from a variety of genres:"
   ]
  },
  {
   "cell_type": "code",
   "execution_count": null,
   "metadata": {},
   "outputs": [],
   "source": [
    "#$HIDE_INPUT$\n",
    "import textwrap\n",
    "movies = ['Eyes Wide Shut', 'American Pie', 'Iron Man 3', 'West Side Story',\n",
    "          'Battleship Potemkin', 'Clueless'\n",
    "]\n",
    "\n",
    "def plot_most_similar(movie, ax, topn=5):\n",
    "    sim = kv.most_similar(movie, topn=topn)[::-1]\n",
    "    y = np.arange(len(sim))\n",
    "    w = [t[1] for t in sim]\n",
    "    ax.barh(y, w)\n",
    "    left = min(.6, min(w))\n",
    "    ax.set_xlim(right=1.0, left=left)\n",
    "    # Split long titles over multiple lines\n",
    "    labels = [textwrap.fill(t[0] , width=24)\n",
    "              for t in sim]\n",
    "    ax.set_yticks(y)\n",
    "    ax.set_yticklabels(labels)\n",
    "    ax.set_title(movie)    \n",
    "\n",
    "fig, axes = plt.subplots(3, 2, figsize=(15, 9))\n",
    "\n",
    "for movie, ax in zip(movies, axes.flatten()):\n",
    "    plot_most_similar(movie, ax)\n",
    "    \n",
    "fig.tight_layout()"
   ]
  },
  {
   "cell_type": "markdown",
   "metadata": {},
   "source": [
    "Artsy erotic dramas, raunchy sophomoric comedies, old-school musicals, superhero movies... our embeddings manage to nail a wide variety of cinematic niches!"
   ]
  },
  {
   "cell_type": "markdown",
   "metadata": {},
   "source": [
    "# Semantic vector math\n",
    "\n",
    "The [`most_similar`](https://radimrehurek.com/gensim/models/keyedvectors.html#gensim.models.keyedvectors.WordEmbeddingsKeyedVectors.most_similar) method optionally takes a second argument, `negative`. If we call `kv.most_similar(a, b)`, then instead of finding the vector closest to `a`, it will find the closest vector to `a - b`.\n",
    "\n",
    "Why would you want to do that? It turns out that doing addition and subtraction of embedding vectors often gives surprisingly meaningful results. For example, how would you fill in the following equation?\n",
    "\n",
    "    Scream = Psycho + ________\n",
    "\n",
    "*Scream* and *Psycho* are similar in that they're violent, scary movies somewhere on the border between Horror and Thriller. The biggest difference is that *Scream* has elements of comedy. So I'd say *Scream* is what you'd get if you combined *Psycho* with a comedy.\n",
    "\n",
    "But we can actually ask Gensim to fill in the blank for us via vector math (after some rearranging):\n",
    "\n",
    "    ________ = Scream - Psycho"
   ]
  },
  {
   "cell_type": "code",
   "execution_count": null,
   "metadata": {},
   "outputs": [],
   "source": [
    "kv.most_similar(\n",
    "    positive = ['Scream'],\n",
    "    negative = ['Psycho (1960)']\n",
    ")"
   ]
  },
  {
   "cell_type": "markdown",
   "metadata": {},
   "source": [
    "If you are familiar with these movies, you'll see that the missing ingredient that takes us from *Psycho* to *Scream* is comedy (and also late-90's-teen-movie-ness)."
   ]
  },
  {
   "cell_type": "markdown",
   "metadata": {},
   "source": [
    "## Analogy solving\n",
    "\n",
    "The SAT test which is used to get into American colleges and universities poses analogy questions like:\n",
    "\n",
    "    shower : deluge :: _____ : stare\n",
    "    \n",
    "(Read \"shower is to deluge as ___ is to stare\")\n",
    "\n",
    "To solve this, we find the relationship between deluge and shower, and apply it to stare. A shower is a milder form of a deluge. What's a milder form of stare? A good answer here would be \"glance\", or \"look\". \n",
    "\n",
    "It's kind of astounding that this works, but people have found that these can often be effectively solved by simple vector math on word embeddings. Can we solve movie analogies with our embeddings? Let's try. What about:\n",
    "\n",
    "    Brave : Cars 2 :: Pocahontas : _____\n",
    "    \n",
    "The answer is not clear. One interpretation would be that *Brave* is like *Cars 2*, except that the latter is aimed primarily at boys, and the former might be more appealing to girls, given its female protagonist. So maybe the answer should be, like *Pocahontas*, a mid-90's conventional animation kids movie, but more of a 'boy movie'. *Hercules*? *The Lion King*? \n",
    "\n",
    "Let's ask our embeddings what they think.\n",
    "\n",
    "In terms of vector math, we can frame this as...\n",
    "\n",
    "    Cars 2 = Brave + X\n",
    "    _____  = Pocahontas + X\n",
    "    \n",
    "Rearranging, we get:\n",
    "\n",
    "    ____ = Pocahontas + (Cars 2 - Brave)\n",
    "\n",
    "We can solve this by passing in two movies (*Pocahontas* and *Cars 2*) for the positive argument to `most_similar`, with *Brave* as the negative argument:"
   ]
  },
  {
   "cell_type": "code",
   "execution_count": null,
   "metadata": {},
   "outputs": [],
   "source": [
    "kv.most_similar(\n",
    "    ['Pocahontas', 'Cars 2'],\n",
    "    negative = ['Brave']\n",
    ")"
   ]
  },
  {
   "cell_type": "markdown",
   "metadata": {},
   "source": [
    "This weakly fits our prediction: the 4 closest movies are indeed kids animated movies from the 90s. After that, the results are a bit more perplexing.\n",
    "\n",
    "Is our model wrong, or were we? Another difference we failed to account for between *Cars 2* and *Brave* is that the former is a sequel, and the latter is not. 7/10 of our results are also sequels. This tells us something interesting about our learned embeddings (and, ultimately, about the problem of predicting movie preferences). \"Sequelness\" is an important property to our model - which suggests that some of the variance in our data is accounted for the fact that some people tend to like sequels more than others."
   ]
  },
  {
   "cell_type": "markdown",
   "metadata": {},
   "source": [
    "#$YOURTURN$\n",
    "#$TUT_BETA_NOTE(82826473884269)$"
   ]
  },
  {
   "cell_type": "code",
   "execution_count": null,
   "metadata": {},
   "outputs": [],
   "source": [
    "#%%RM_BELOW%%"
   ]
  },
  {
   "cell_type": "code",
   "execution_count": null,
   "metadata": {},
   "outputs": [],
   "source": [
    "# scratch space below - please ignore\n",
    "\n",
    "kv.most_similar(k('Star Wars: Episode I - The Phantom Menace'))"
   ]
  },
  {
   "cell_type": "code",
   "execution_count": null,
   "metadata": {},
   "outputs": [],
   "source": [
    "kv.most_similar(k('Harry Potter and the Goblet of Fire'))"
   ]
  },
  {
   "cell_type": "code",
   "execution_count": null,
   "metadata": {},
   "outputs": [],
   "source": [
    "kv.most_similar(k('Harry Potter and the Goblet of Fire'))"
   ]
  },
  {
   "cell_type": "code",
   "execution_count": null,
   "metadata": {},
   "outputs": [],
   "source": [
    "kv.most_similar(k('Harry Potter and the Deathly Hallows: Part 2'))"
   ]
  },
  {
   "cell_type": "code",
   "execution_count": null,
   "metadata": {},
   "outputs": [],
   "source": [
    "kv.distance(\n",
    "    k('Harry Potter and the Goblet of Fire'),\n",
    "    k('Harry Potter and the Deathly Hallows: Part 2'),\n",
    ")"
   ]
  },
  {
   "cell_type": "code",
   "execution_count": null,
   "metadata": {},
   "outputs": [],
   "source": [
    "print(\n",
    "    k('Harry Potter and the Goblet of Fire'),\n",
    "    k('Harry Potter and the Deathly Hallows: Part 2'),\n",
    "    sep='\\n',\n",
    ")"
   ]
  },
  {
   "cell_type": "code",
   "execution_count": null,
   "metadata": {},
   "outputs": [],
   "source": [
    "v = kv.vocab['Harry Potter and the Deathly Hallows: Part 2 (2011)']\n",
    "print(v.count, v.index)"
   ]
  },
  {
   "cell_type": "code",
   "execution_count": null,
   "metadata": {},
   "outputs": [],
   "source": []
  },
  {
   "cell_type": "code",
   "execution_count": null,
   "metadata": {},
   "outputs": [],
   "source": [
    "df = mainstream_movies\n",
    "key_counts = df['key'].value_counts()\n",
    "key_counts[key_counts > 1]"
   ]
  },
  {
   "cell_type": "code",
   "execution_count": null,
   "metadata": {},
   "outputs": [],
   "source": [
    "\n",
    "df[df.title.str.contains('Harry Potter')]"
   ]
  },
  {
   "cell_type": "code",
   "execution_count": null,
   "metadata": {},
   "outputs": [],
   "source": [
    "assert False\n",
    "# XXX. temp hack. Remove once 0-preproc is rerun.\n",
    "# (Though I guess we could get even better coverage if we do this after thresholding)\n",
    "title_counts = movies_df.groupby('title').size()\n",
    "unique_titles = title_counts.index[title_counts == 1]\n",
    "unique_ids = movies_df.index[movies_df.title.isin(unique_titles)]\n",
    "movies_df.loc[unique_ids, 'key'] = movies_df.loc[unique_ids, 'title']"
   ]
  }
 ],
 "metadata": {
  "kernelspec": {
   "display_name": "Python 3",
   "language": "python",
   "name": "python3"
  },
  "language_info": {
   "codemirror_mode": {
    "name": "ipython",
    "version": 3
   },
   "file_extension": ".py",
   "mimetype": "text/x-python",
   "name": "python",
   "nbconvert_exporter": "python",
   "pygments_lexer": "ipython3",
   "version": "3.6.5"
  },
  "learntools_metadata": {
   "lesson_index": 2,
   "type": "tutorial"
  }
 },
 "nbformat": 4,
 "nbformat_minor": 2
}
