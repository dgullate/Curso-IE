{
 "cells": [
  {
   "cell_type": "markdown",
   "metadata": {},
   "source": [
    "Now that you are familiar with the coding environment, it's time to learn how to make your own charts!  \n",
    "\n",
    "In this tutorial, you'll learn just enough Python to create professional looking **line charts**.  Then, in the following exercise, you'll put your new skills to work with a real-world dataset.  \n",
    "\n",
    "# Set up the notebook\n",
    "\n",
    "We begin by setting up the coding environment.  (_This code is hidden, but you can un-hide it by clicking on the \"Code\" button immediately below this text, on the right._)"
   ]
  },
  {
   "cell_type": "code",
   "execution_count": null,
   "metadata": {},
   "outputs": [],
   "source": [
    "#$HIDE$\n",
    "import pandas as pd\n",
    "import matplotlib.pyplot as plt\n",
    "%matplotlib inline\n",
    "import seaborn as sns\n",
    "print(\"Setup Complete\")"
   ]
  },
  {
   "cell_type": "markdown",
   "metadata": {},
   "source": [
    "# Select a dataset\n",
    "\n",
    "The dataset for this tutorial tracks global daily streams on the music streaming service [Spotify](https://en.wikipedia.org/wiki/Spotify).  We focus on five popular songs from 2017 and 2018:\n",
    "1. \"Shape of You\", by Ed Sheeran [(link)](https://en.wikipedia.org/wiki/Shape_of_You)\n",
    "2. \"Despacito\", by Luis Fonzi [(link)](https://en.wikipedia.org/wiki/Despacito)\n",
    "3. \"Something Just Like This\", by The Chainsmokers and Coldplay [(link)](https://en.wikipedia.org/wiki/Something_Just_like_This)\n",
    "4. \"HUMBLE.\", by Kendrick Lamar [(link)](https://en.wikipedia.org/wiki/Humble_(song))\n",
    "5. \"Unforgettable\", by French Montana [(link)](https://en.wikipedia.org/wiki/Unforgettable_(French_Montana_song))\n",
    "\n",
    "![tut1_spotify_head](https://i.imgur.com/GAGf6Td.png)\n",
    "\n",
    "Notice that the first date that appears is January 6, 2017, corresponding to the release date of \"The Shape of You\", by Ed Sheeran.  And, using the table, you can see that \"The Shape of You\" was streamed 12,287,078 times globally on the day of its release.  Notice that the other songs have missing values in the first row, because they weren't released until later!\n",
    "\n",
    "# Load the data\n",
    "\n",
    "As you learned in the previous tutorial, we load the dataset using the `pd.read_csv` command."
   ]
  },
  {
   "cell_type": "code",
   "execution_count": null,
   "metadata": {},
   "outputs": [],
   "source": [
    "# Path of the file to read\n",
    "spotify_filepath = \"../input/spotify.csv\"\n",
    "\n",
    "# Read the file into a variable spotify_data\n",
    "spotify_data = pd.read_csv(spotify_filepath, index_col=\"Date\", parse_dates=True)"
   ]
  },
  {
   "cell_type": "markdown",
   "metadata": {},
   "source": [
    "The end result of running both lines of code above is that we can now access the dataset by using `spotify_data`.\n",
    "\n",
    "# Examine the data\n",
    "\n",
    "We can print the _first_ five rows of the dataset by using the `head` command that you learned about in the previous tutorial."
   ]
  },
  {
   "cell_type": "code",
   "execution_count": null,
   "metadata": {},
   "outputs": [],
   "source": [
    "# Print the first 5 rows of the data\n",
    "spotify_data.head()"
   ]
  },
  {
   "cell_type": "markdown",
   "metadata": {},
   "source": [
    "Check now that the first five rows agree with the image of the dataset (_from when we saw what it would look like in Excel_) above.\n",
    "\n",
    "> Empty entries will appear as `NaN`, which is short for \"Not a Number\".\n",
    "\n",
    "We can also take a look at the _last_ five rows of the data by making only one small change (where `.head()` becomes `.tail()`):"
   ]
  },
  {
   "cell_type": "code",
   "execution_count": null,
   "metadata": {},
   "outputs": [],
   "source": [
    "# Print the last five rows of the data\n",
    "spotify_data.tail()"
   ]
  },
  {
   "cell_type": "markdown",
   "metadata": {},
   "source": [
    "Thankfully, everything looks about right, with millions of daily global streams for each song, and we can proceed to plotting the data!\n",
    "\n",
    "# Plot the data\n",
    "\n",
    "Now that the dataset is loaded into the notebook, we need only one line of code to make a line chart!  "
   ]
  },
  {
   "cell_type": "code",
   "execution_count": null,
   "metadata": {},
   "outputs": [],
   "source": [
    "# Line chart showing daily global streams of each song \n",
    "sns.lineplot(data=spotify_data)"
   ]
  },
  {
   "cell_type": "markdown",
   "metadata": {},
   "source": [
    "As you can see above, the line of code is relatively short and has two main components:\n",
    "- `sns.lineplot` tells the notebook that we want to create a line chart. \n",
    " - _Every command that you learn about in this course will start with `sns`, which indicates that the command comes from the [seaborn](https://seaborn.pydata.org/) package. For instance, we use `sns.lineplot` to make line charts.  Soon, you'll learn that we use `sns.barplot` and `sns.heatmap` to make bar charts and heatmaps, respectively._\n",
    "- `data=spotify_data` selects the data that will be used to create the chart.\n",
    "\n",
    "Note that you will always use this same format when you create a line chart, and **_the only thing that changes with a new dataset is the name of the dataset_**.  So, if you were working with a different dataset named `financial_data`, for instance, the line of code would appear as follows:\n",
    "```\n",
    "sns.lineplot(data=financial_data)\n",
    "```\n",
    "\n",
    "Sometimes there are additional details we'd like to modify, like the size of the figure and the title of the chart.  Each of these options can easily be set with a single line of code."
   ]
  },
  {
   "cell_type": "code",
   "execution_count": null,
   "metadata": {},
   "outputs": [],
   "source": [
    "# Set the width and height of the figure\n",
    "plt.figure(figsize=(14,6))\n",
    "\n",
    "# Add title\n",
    "plt.title(\"Daily Global Streams of Popular Songs in 2017-2018\")\n",
    "\n",
    "# Line chart showing daily global streams of each song \n",
    "sns.lineplot(data=spotify_data)"
   ]
  },
  {
   "cell_type": "markdown",
   "metadata": {},
   "source": [
    "The first line of code sets the size of the figure to `14` inches (in width) by `6` inches (in height).  To set the size of _any figure_, you need only copy the same line of code as it appears.  Then, if you'd like to use a custom size, change the provided values of `14` and `6` to the desired width and height.\n",
    "\n",
    "The second line of code sets the title of the figure.  Note that the title must *always* be enclosed in quotation marks (`\"...\"`)!\n",
    "\n",
    "# Plot a subset of the data\n",
    "\n",
    "So far, you've learned how to plot a line for _every_ column in the dataset.  In this section, you'll learn how to plot a _subset_ of the columns.\n",
    "\n",
    "We'll begin by printing the names of all columns.  This is done with one line of code and can be adapted for any dataset by just swapping out the name of the dataset (in this case, `spotify_data`)."
   ]
  },
  {
   "cell_type": "code",
   "execution_count": null,
   "metadata": {},
   "outputs": [],
   "source": [
    "list(spotify_data.columns)"
   ]
  },
  {
   "cell_type": "markdown",
   "metadata": {},
   "source": [
    "In the next code cell, we plot the lines corresponding to the first two columns in the dataset."
   ]
  },
  {
   "cell_type": "code",
   "execution_count": null,
   "metadata": {},
   "outputs": [],
   "source": [
    "# Set the width and height of the figure\n",
    "plt.figure(figsize=(14,6))\n",
    "\n",
    "# Add title\n",
    "plt.title(\"Daily Global Streams of Popular Songs in 2017-2018\")\n",
    "\n",
    "# Line chart showing daily global streams of 'Shape of You'\n",
    "sns.lineplot(data=spotify_data['Shape of You'], label=\"Shape of You\")\n",
    "\n",
    "# Line chart showing daily global streams of 'Despacito'\n",
    "sns.lineplot(data=spotify_data['Despacito'], label=\"Despacito\")\n",
    "\n",
    "# Add label for horizontal axis\n",
    "plt.xlabel(\"Date\")"
   ]
  },
  {
   "cell_type": "markdown",
   "metadata": {},
   "source": [
    "The first two lines of code set the title and size of the figure (_and should look very familiar!_).\n",
    "\n",
    "The next two lines each add a line to the line chart.  For instance, consider the first one, which adds the line for \"Shape of You\":\n",
    "\n",
    "```python\n",
    "# Line chart showing daily global streams of 'Shape of You'\n",
    "sns.lineplot(data=spotify_data['Shape of You'], label=\"Shape of You\")\n",
    "```\n",
    "This line looks really similar to the code we used when we plotted every line in the dataset, but it has a few key differences:\n",
    "- Instead of setting `data=spotify_data`, we set `data=spotify_data['Shape of You']`.  In general, to plot only a single column, we use this format with putting the name of the column in single quotes and enclosing it in square brackets.  (_To make sure that you correctly specify the name of the column, you can print the list of all column names using the command you learned above._)\n",
    "- We also add `label=\"Shape of You\"` to make the line appear in the legend and set its corresponding label.\n",
    "\n",
    "The final line of code modifies the label for the horizontal axis (or x-axis), where the desired label is placed in quotation marks (`\"...\"`).\n",
    "\n",
    "# What's next?\n",
    "\n",
    "Put your new skills to work in a **[coding exercise](#$NEXT_NOTEBOOK_URL$)**!"
   ]
  }
 ],
 "metadata": {
  "kernelspec": {
   "display_name": "Python 3",
   "language": "python",
   "name": "python3"
  },
  "language_info": {
   "codemirror_mode": {
    "name": "ipython",
    "version": 3
   },
   "file_extension": ".py",
   "mimetype": "text/x-python",
   "name": "python",
   "nbconvert_exporter": "python",
   "pygments_lexer": "ipython3",
   "version": "3.6.5"
  }
 },
 "nbformat": 4,
 "nbformat_minor": 2
}
