{
 "cells": [
  {
   "cell_type": "markdown",
   "metadata": {},
   "source": [
    "In this tutorial, you'll learn how to create advanced **scatter plots**.\n",
    "\n",
    "# Set up the notebook\n",
    "\n",
    "As always, we begin by setting up the coding environment.  (_This code is hidden, but you can un-hide it by clicking on the \"Code\" button immediately below this text, on the right._)"
   ]
  },
  {
   "cell_type": "code",
   "execution_count": null,
   "metadata": {},
   "outputs": [],
   "source": [
    "#$HIDE$\n",
    "import pandas as pd\n",
    "import matplotlib.pyplot as plt\n",
    "%matplotlib inline\n",
    "import seaborn as sns\n",
    "print(\"Setup Complete\")"
   ]
  },
  {
   "cell_type": "markdown",
   "metadata": {},
   "source": [
    "# Load and examine the data\n",
    "\n",
    "We'll work with a (_synthetic_) dataset of insurance charges, to see if we can understand why some customers pay more than others.  \n",
    "\n",
    "![tut3_insurance](https://i.imgur.com/1nmy2YO.png)\n",
    "\n",
    "If you like, you can read more about the dataset [here](https://www.kaggle.com/mirichoi0218/insurance/home)."
   ]
  },
  {
   "cell_type": "code",
   "execution_count": null,
   "metadata": {},
   "outputs": [],
   "source": [
    "# Path of the file to read\n",
    "insurance_filepath = \"../input/insurance.csv\"\n",
    "\n",
    "# Read the file into a variable insurance_data\n",
    "insurance_data = pd.read_csv(insurance_filepath)"
   ]
  },
  {
   "cell_type": "markdown",
   "metadata": {},
   "source": [
    "As always, we check that the dataset loaded properly by printing the first five rows."
   ]
  },
  {
   "cell_type": "code",
   "execution_count": null,
   "metadata": {},
   "outputs": [],
   "source": [
    "insurance_data.head()"
   ]
  },
  {
   "cell_type": "markdown",
   "metadata": {},
   "source": [
    "# Scatter plots\n",
    "\n",
    "To create a simple **scatter plot**, we use the `sns.scatterplot` command and specify the values for:\n",
    "- the horizontal x-axis (`x=insurance_data['bmi']`), and \n",
    "- the vertical y-axis (`y=insurance_data['charges']`)."
   ]
  },
  {
   "cell_type": "code",
   "execution_count": null,
   "metadata": {},
   "outputs": [],
   "source": [
    "sns.scatterplot(x=insurance_data['bmi'], y=insurance_data['charges'])"
   ]
  },
  {
   "cell_type": "markdown",
   "metadata": {},
   "source": [
    "The scatterplot above suggests that [body mass index](https://en.wikipedia.org/wiki/Body_mass_index) (BMI) and insurance charges are **positively correlated**, where customers with higher BMI typically also tend to pay more in insurance costs.  (_This pattern makes sense, since high BMI is typically associated with higher risk of chronic disease._)\n",
    "\n",
    "To double-check the strength of this relationship, you might like to add a **regression line**, or the line that best fits the data.  We do this by changing the command to `sns.regplot`."
   ]
  },
  {
   "cell_type": "code",
   "execution_count": null,
   "metadata": {},
   "outputs": [],
   "source": [
    "sns.regplot(x=insurance_data['bmi'], y=insurance_data['charges'])"
   ]
  },
  {
   "cell_type": "markdown",
   "metadata": {},
   "source": [
    "# Color-coded scatter plots\n",
    "\n",
    "We can use scatter plots to display the relationships between (_not two, but..._) three variables!  One way of doing this is by color-coding the points.  \n",
    "\n",
    "For instance, to understand how smoking affects the relationship between BMI and insurance costs, we can color-code the points by `'smoker'`, and plot the other two columns (`'bmi'`, `'charges'`) on the axes."
   ]
  },
  {
   "cell_type": "code",
   "execution_count": null,
   "metadata": {},
   "outputs": [],
   "source": [
    "sns.scatterplot(x=insurance_data['bmi'], y=insurance_data['charges'], hue=insurance_data['smoker'])"
   ]
  },
  {
   "cell_type": "markdown",
   "metadata": {},
   "source": [
    "This scatter plot shows that while nonsmokers to tend to pay slightly more with increasing BMI, smokers pay MUCH more.\n",
    "\n",
    "To further emphasize this fact, we can use the `sns.lmplot` command to add two regression lines, corresponding to smokers and nonsmokers.  (_You'll notice that the regression line for smokers has a much steeper slope, relative to the line for nonsmokers!_)"
   ]
  },
  {
   "cell_type": "code",
   "execution_count": null,
   "metadata": {},
   "outputs": [],
   "source": [
    "sns.lmplot(x=\"bmi\", y=\"charges\", hue=\"smoker\", data=insurance_data)"
   ]
  },
  {
   "cell_type": "markdown",
   "metadata": {},
   "source": [
    "The `sns.lmplot` command above works slightly differently than the commands you have learned about so far:\n",
    "- Instead of setting `x=insurance_data['bmi']` to select the `'bmi'` column in `insurance_data`, we set `x=\"bmi\"` to specify the name of the column only.  \n",
    "- Similarly, `y=\"charges\"` and `hue=\"smoker\"` also contain the names of columns.  \n",
    "- We specify the dataset with `data=insurance_data`.\n",
    "\n",
    "Finally, there's one more plot that you'll learn about, that might look slightly different from how you're used to seeing scatter plots.  Usually, we use scatter plots to highlight the relationship between two continuous variables (like `\"bmi\"` and `\"charges\"`).  However, we can adapt the design of the scatter plot to feature a categorical variable (like `\"smoker\"`) on one of the main axes.  We'll refer to this plot type as a **categorical scatter plot**, and we build it with the `sns.swarmplot` command."
   ]
  },
  {
   "cell_type": "code",
   "execution_count": null,
   "metadata": {},
   "outputs": [],
   "source": [
    "sns.swarmplot(x=insurance_data['smoker'],\n",
    "              y=insurance_data['charges'])"
   ]
  },
  {
   "cell_type": "markdown",
   "metadata": {},
   "source": [
    "Among other things, this plot shows us that:\n",
    "- on average, non-smokers are charged less than smokers, and\n",
    "- the customers who pay the most are smokers; whereas the customers who pay the least are non-smokers.\n",
    "\n",
    "# What's next?\n",
    "\n",
    "Apply your new skills to solve a real-world scenario with a **[coding exercise](#$NEXT_NOTEBOOK_URL$)**!"
   ]
  }
 ],
 "metadata": {
  "kernelspec": {
   "display_name": "Python 3",
   "language": "python",
   "name": "python3"
  },
  "language_info": {
   "codemirror_mode": {
    "name": "ipython",
    "version": 3
   },
   "file_extension": ".py",
   "mimetype": "text/x-python",
   "name": "python",
   "nbconvert_exporter": "python",
   "pygments_lexer": "ipython3",
   "version": "3.6.5"
  }
 },
 "nbformat": 4,
 "nbformat_minor": 2
}
