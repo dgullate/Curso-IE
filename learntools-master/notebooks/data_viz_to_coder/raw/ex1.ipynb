{
 "cells": [
  {
   "cell_type": "markdown",
   "metadata": {},
   "source": [
    "In this exercise, you will write your first lines of code and learn how to use the coding environment for the micro-course!\n",
    "\n",
    "## Setup\n",
    "\n",
    "First, you'll learn how to run code, and we'll start with the code cell below.  (Remember that a **code cell** in a notebook is just a gray box containing code that we'd like to run.)\n",
    "- Begin by clicking inside the code cell.  \n",
    "- Click on the blue triangle (in the shape of a \"Play button\") that appears to the left of the code cell.\n",
    "- If your code was run sucessfully, you will see `Setup Complete` as output below the cell.\n",
    "\n",
    "![ex0_run_code](https://i.imgur.com/TOk6Ot4.png)"
   ]
  },
  {
   "cell_type": "code",
   "execution_count": null,
   "metadata": {},
   "outputs": [],
   "source": [
    "import pandas as pd\n",
    "import matplotlib.pyplot as plt\n",
    "%matplotlib inline\n",
    "import seaborn as sns\n",
    "print(\"Setup Complete\")"
   ]
  },
  {
   "cell_type": "markdown",
   "metadata": {},
   "source": [
    "The code cell above imports and configures the Python libraries that you need to complete the exercise.\n",
    "\n",
    "Now, follow the same process to run the code cell below.  If successful, you'll see `Setup Complete` as output."
   ]
  },
  {
   "cell_type": "code",
   "execution_count": null,
   "metadata": {},
   "outputs": [],
   "source": [
    "# Set up code checking\n",
    "from learntools.core import binder\n",
    "binder.bind(globals())\n",
    "from learntools.data_viz_to_coder.ex1 import *\n",
    "print(\"Setup Complete\")"
   ]
  },
  {
   "cell_type": "markdown",
   "metadata": {},
   "source": [
    "The code that you just ran sets up the system that will give you feedback on your work.  You'll learn more about the feedback system in the next step.\n",
    "\n",
    "## Step 1: Explore the feedback system\n",
    "\n",
    "In order to successfully finish this micro-course, you'll need to complete various hands-on coding exercises.  Each  exercise allows you to put your new skills to work with a real-world dataset.  Along the way, you'll receive feedback on your work.  We'll tell you if an answer you've written is correct or incorrect, provide customized hints, and show you our official solution (_if you'd like to take a look!_).\n",
    "\n",
    "To explore the feedback system, we'll start with a simple example of a coding problem.  Follow the following steps in order:\n",
    "1. Begin by running the code cell below without making any edits.  This should return the following output: \n",
    "> <font color='#ccaa33'>Check:</font> When you've updated the starter code, `check()` will tell you whether your code is correct. You need to update the code that creates variable `one`\n",
    "\n",
    "    This feedback tells us that there are some necessary changes to the code that we haven't made yet: we need to set the variable `one` to something other than the blank provided below (`____`).  \n",
    "\n",
    "\n",
    "2. Replace the underline with a value of `2`, so that the line of code appears as `one = 2`.  Then, run the code cell.  This should return the following output:\n",
    "> <font color='#cc3333'>Incorrect:</font> Incorrect value for `one`: `2`\n",
    "\n",
    "    This feedback tells us that the value that we've provided is incorrect: `2` is not the correct answer here!\n",
    "\n",
    "\n",
    "3. Now, change the value of `2` to `1`, so that the line of code appears as `one = 1`.  Then, run the code cell.  The answer should be marked as <font color='#33cc33'>Correct</font>. You have now completed this problem!"
   ]
  },
  {
   "cell_type": "code",
   "execution_count": null,
   "metadata": {},
   "outputs": [],
   "source": [
    "# Fill in the line below\n",
    "one = ____\n",
    "\n",
    "# Check your answer\n",
    "step_1.check()"
   ]
  },
  {
   "cell_type": "code",
   "execution_count": null,
   "metadata": {},
   "outputs": [],
   "source": [
    "#%%RM_IF(PROD)%%\n",
    "one = 1\n",
    "step_1.assert_check_passed()"
   ]
  },
  {
   "cell_type": "markdown",
   "metadata": {},
   "source": [
    "In this exercise, you were responsible for filling in the line of code that sets the value of variable `one`.  **Please never edit the code that is used to check your answer.**  So, lines of code like `step_1.check()` and `step_2.check()` should always be left as provided.\n",
    "\n",
    "This problem was relatively straightforward, but for more difficult problems, you may like to receive a hint or view the official solution.  Run the code cell below now to receive both for this problem."
   ]
  },
  {
   "cell_type": "code",
   "execution_count": null,
   "metadata": {},
   "outputs": [],
   "source": [
    "step_1.hint()\n",
    "step_1.solution()"
   ]
  },
  {
   "cell_type": "markdown",
   "metadata": {},
   "source": [
    "## Step 2: Load the data\n",
    "\n",
    "Now, we're ready to get started with some data visualization code!  You'll begin by loading the dataset from the previous tutorial.  \n",
    "\n",
    "We have provided the this code for you, and you need only run the cell below.  If running the code returns a <font color='#33cc33'>Correct</font> result, you're ready to move on!"
   ]
  },
  {
   "cell_type": "code",
   "execution_count": null,
   "metadata": {},
   "outputs": [],
   "source": [
    "# Path of the file to read\n",
    "fifa_filepath = \"../input/fifa.csv\"\n",
    "\n",
    "# Read the file into a variable fifa_data\n",
    "fifa_data = pd.read_csv(fifa_filepath, index_col=\"Date\", parse_dates=True)\n",
    "\n",
    "# Check your answer\n",
    "step_2.check()"
   ]
  },
  {
   "cell_type": "code",
   "execution_count": null,
   "metadata": {},
   "outputs": [],
   "source": [
    "#%%RM_IF(PROD)%%\n",
    "fifa_data = pd.read_csv(fifa_filepath, index_col=\"Date\", parse_dates=True)\n",
    "step_2.assert_check_passed()"
   ]
  },
  {
   "cell_type": "markdown",
   "metadata": {},
   "source": [
    "Next, recall the difference between comments and executable code:\n",
    "- **Comments** are preceded by a pound sign (`#`) and contain text that appear faded and italicized.  They are completely ignored by the computer when the code is run.\n",
    "- **Executable code** is code that is run by the computer.\n",
    "\n",
    "In the code cell below, every line is a comment:\n",
    "```python\n",
    "# Uncomment the line below to receive a hint\n",
    "#step_2.hint()\n",
    "#step_2.solution()\n",
    "```\n",
    "\n",
    "If you run the code cell below without making any changes, it won't return any output.  Try this now!"
   ]
  },
  {
   "cell_type": "code",
   "execution_count": null,
   "metadata": {},
   "outputs": [],
   "source": [
    "# Uncomment the line below to receive a hint\n",
    "#_COMMENT_IF(PROD)_\n",
    "step_2.hint()\n",
    "# Uncomment the line below to see the solution\n",
    "#_COMMENT_IF(PROD)_\n",
    "step_2.solution()"
   ]
  },
  {
   "cell_type": "markdown",
   "metadata": {},
   "source": [
    "Next, remove the pound sign before `step_2.hint()` so that the code cell above appears as follows:\n",
    "```python\n",
    "# Uncomment the line below to receive a hint\n",
    "step_2.hint()\n",
    "#step_2.solution()\n",
    "```\n",
    "When we remove the pound sign before a line of code, we say we **uncomment** the line.  This turns the comment into a line of executable code that is run by the computer.  Run the code cell now, which should return the <font color='#3366cc'>Hint</font> as output.\n",
    "\n",
    "Finally, uncomment the line to see the solution, so the code cell appears as follows:\n",
    "```python\n",
    "# Uncomment the line below to receive a hint\n",
    "step_2.hint()\n",
    "step_2.solution()\n",
    "```\n",
    "Then, run the code cell.  You should receive both a <font color='#3366cc'>Hint</font> and the <font color='#33cc99'>Solution</font>.\n",
    "\n",
    "If at any point you're having trouble with coming up with the correct answer to a problem, you are welcome to obtain either a hint or the solution before completing the cell.  (So, you don't need to get a <font color='#33cc33'>Correct</font> result before running the code that gives you a <font color='#3366cc'>Hint</font> or the <font color='#33cc99'>Solution</font>.)\n",
    "\n",
    "## Step 3: Plot the data\n",
    "\n",
    "Now that the data is loaded into the notebook, you're ready to visualize it!  \n",
    "\n",
    "Run the next code cell without changes to make a line chart.  This code may not make sense just yet - you'll learn all about it in the next tutorial!"
   ]
  },
  {
   "cell_type": "code",
   "execution_count": null,
   "metadata": {},
   "outputs": [],
   "source": [
    "# Set the width and height of the figure\n",
    "plt.figure(figsize=(16,6))\n",
    "\n",
    "# Line chart showing how FIFA rankings evolved over time\n",
    "sns.lineplot(data=fifa_data)\n",
    "\n",
    "# Check your answer\n",
    "step_3.a.check()"
   ]
  },
  {
   "cell_type": "markdown",
   "metadata": {},
   "source": [
    "Some of the questions that you'll encounter won't require you to write any code.  Instead, you'll need to interpret visualizations.  These questions don't require a <font color='#33cc33'>Correct</font> result, and you won't be able to check your answer.  \n",
    "\n",
    "However, you can receive a <font color='#3366cc'>Hint</font> to guide the way you think about the question, or you can view our official <font color='#33cc99'>Solution</font>.  \n",
    "\n",
    "As an example, consider the question: Considering only the years represented in the dataset, which countries spent at least 5 consecutive years in the #1 ranked spot?\n",
    "\n",
    "To receive a <font color='#3366cc'>Hint</font>, uncomment the line below, and run the code cell."
   ]
  },
  {
   "cell_type": "code",
   "execution_count": null,
   "metadata": {},
   "outputs": [],
   "source": [
    "#_COMMENT_IF(PROD)_\n",
    "step_3.b.hint()"
   ]
  },
  {
   "cell_type": "markdown",
   "metadata": {},
   "source": [
    "To see the <font color='#33cc99'>Solution</font>, uncomment the line and run the code cell."
   ]
  },
  {
   "cell_type": "code",
   "execution_count": null,
   "metadata": {},
   "outputs": [],
   "source": [
    "#_COMMENT_IF(PROD)_\n",
    "step_3.b.solution()"
   ]
  },
  {
   "cell_type": "markdown",
   "metadata": {},
   "source": [
    "Congratulations - you have completed your first coding exercise!\n",
    "\n",
    "# Keep going\n",
    "\n",
    "Move on to learn to create your own **[line charts](#$NEXT_NOTEBOOK_URL$)** with a new dataset."
   ]
  }
 ],
 "metadata": {
  "kernelspec": {
   "display_name": "Python 3",
   "language": "python",
   "name": "python3"
  },
  "language_info": {
   "codemirror_mode": {
    "name": "ipython",
    "version": 3
   },
   "file_extension": ".py",
   "mimetype": "text/x-python",
   "name": "python",
   "nbconvert_exporter": "python",
   "pygments_lexer": "ipython3",
   "version": "3.6.5"
  }
 },
 "nbformat": 4,
 "nbformat_minor": 2
}
