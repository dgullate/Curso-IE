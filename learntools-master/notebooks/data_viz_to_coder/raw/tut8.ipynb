{
 "cells": [
  {
   "cell_type": "markdown",
   "metadata": {},
   "source": [
    "Congratulations for making it to the end of the micro-course!\n",
    "\n",
    "In this final tutorial, you'll learn an efficient workflow that you can use after the micro-course to continue creating your own stunning data visualizations on the Kaggle website.\n",
    "\n",
    "Watch the video below to learn more about these steps.  The details are also covered in the text below the notebook."
   ]
  },
  {
   "cell_type": "code",
   "execution_count": null,
   "metadata": {},
   "outputs": [],
   "source": [
    "#$HIDE_INPUT$\n",
    "from IPython.display import YouTubeVideo\n",
    "YouTubeVideo('afVV6_xtbLw', width=800, height=450)"
   ]
  },
  {
   "cell_type": "markdown",
   "metadata": {},
   "source": [
    "## Workflow\n",
    "\n",
    "Begin by navigating to the site for Kaggle Kernels:\n",
    "> https://www.kaggle.com/kernels\n",
    "\n",
    "Then, in the top right corner, click on **[New Kernel]**.\n",
    "\n",
    "![tut7_new_kernel](https://i.imgur.com/ZqW6V2X.png)\n",
    "\n",
    "This opens a pop-up window with two options.  Select **Notebook**.\n",
    "\n",
    "![tut7_notebook](https://i.imgur.com/UPIXFSs.png)\n",
    "\n",
    "This opens a notebook with some default code.  **_Please erase this code, and replace it with the code in the cell below._**  (_This is the same code that you used in all of the exercises to set up your Python environment._)"
   ]
  },
  {
   "cell_type": "code",
   "execution_count": null,
   "metadata": {},
   "outputs": [],
   "source": [
    "import pandas as pd\n",
    "import matplotlib.pyplot as plt\n",
    "%matplotlib inline\n",
    "import seaborn as sns\n",
    "print(\"Setup Complete\")"
   ]
  },
  {
   "cell_type": "markdown",
   "metadata": {},
   "source": [
    "The next step is to attach a dataset, before writing code to visualize it.  \n",
    "\n",
    "Then, once you have generated a figure, you need only save it as an image file that you can easily add to your presentations!"
   ]
  }
 ],
 "metadata": {
  "kernelspec": {
   "display_name": "Python 3",
   "language": "python",
   "name": "python3"
  },
  "language_info": {
   "codemirror_mode": {
    "name": "ipython",
    "version": 3
   },
   "file_extension": ".py",
   "mimetype": "text/x-python",
   "name": "python",
   "nbconvert_exporter": "python",
   "pygments_lexer": "ipython3",
   "version": "3.6.5"
  }
 },
 "nbformat": 4,
 "nbformat_minor": 2
}
