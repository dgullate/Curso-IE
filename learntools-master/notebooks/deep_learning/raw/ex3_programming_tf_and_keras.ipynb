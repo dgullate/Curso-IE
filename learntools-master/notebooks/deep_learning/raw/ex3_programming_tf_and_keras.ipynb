{
 "cells": [
  {
   "cell_type": "markdown",
   "metadata": {},
   "source": [
    "# Intro\n",
    "The TV show *Silicon Valley* had an app called \"See Food\" that promised to identify food. \n",
    "\n",
    "In this notebook, you will write code using and comparing pre-trained models to choose one as an engine for the See Food app.\n",
    "\n",
    "You won't go too deep into Keras or TensorFlow details in this particular exercise.  Don't worry. You'll go deeper into model development soon.  For now, you'll make sure you know how to use pre-trained models.\n",
    "\n",
    "# Set-Up"
   ]
  },
  {
   "cell_type": "markdown",
   "metadata": {},
   "source": [
    "We will run a few steps of environmental set-up before writing your own code. **You don't need to understand the details of this set-up code.** You can just run each code cell until you get to the exercises.\n",
    "\n",
    "### 1) Create Image Paths\n",
    "This workspace includes image files you will use to test your models. Run the cell below to store a few filepaths to these images in a variable `img_paths`."
   ]
  },
  {
   "cell_type": "code",
   "execution_count": null,
   "metadata": {
    "collapsed": true
   },
   "outputs": [],
   "source": [
    "import os\n",
    "from os.path import join\n",
    "\n",
    "\n",
    "hot_dog_image_dir = '../input/hot-dog-not-hot-dog/seefood/train/hot_dog'\n",
    "\n",
    "hot_dog_paths = [join(hot_dog_image_dir,filename) for filename in \n",
    "                            ['1000288.jpg',\n",
    "                             '127117.jpg']]\n",
    "\n",
    "not_hot_dog_image_dir = '../input/hot-dog-not-hot-dog/seefood/train/not_hot_dog'\n",
    "not_hot_dog_paths = [join(not_hot_dog_image_dir, filename) for filename in\n",
    "                            ['823536.jpg',\n",
    "                             '99890.jpg']]\n",
    "\n",
    "img_paths = hot_dog_paths + not_hot_dog_paths"
   ]
  },
  {
   "cell_type": "markdown",
   "metadata": {},
   "source": [
    "### 2) Run an Example Model\n",
    "Here is the code you saw in the tutorial. It loads data, loads a pre-trained model, and makes predictions. Run this cell too."
   ]
  },
  {
   "cell_type": "code",
   "execution_count": null,
   "metadata": {
    "collapsed": true
   },
   "outputs": [],
   "source": [
    "from IPython.display import Image, display\n",
    "from learntools.deep_learning.decode_predictions import decode_predictions\n",
    "import numpy as np\n",
    "from tensorflow.keras.applications.resnet50 import preprocess_input\n",
    "from tensorflow.keras.applications import ResNet50\n",
    "from tensorflow.keras.preprocessing.image import load_img, img_to_array\n",
    "\n",
    "\n",
    "image_size = 224\n",
    "\n",
    "def read_and_prep_images(img_paths, img_height=image_size, img_width=image_size):\n",
    "    imgs = [load_img(img_path, target_size=(img_height, img_width)) for img_path in img_paths]\n",
    "    img_array = np.array([img_to_array(img) for img in imgs])\n",
    "    output = preprocess_input(img_array)\n",
    "    return(output)\n",
    "\n",
    "\n",
    "my_model = ResNet50(weights='../input/resnet50/resnet50_weights_tf_dim_ordering_tf_kernels.h5')\n",
    "test_data = read_and_prep_images(img_paths)\n",
    "preds = my_model.predict(test_data)\n",
    "\n",
    "most_likely_labels = decode_predictions(preds, top=3)"
   ]
  },
  {
   "cell_type": "markdown",
   "metadata": {},
   "source": [
    "### 3) Visualize Predictions"
   ]
  },
  {
   "cell_type": "code",
   "execution_count": null,
   "metadata": {},
   "outputs": [],
   "source": [
    "for i, img_path in enumerate(img_paths):\n",
    "    display(Image(img_path))\n",
    "    print(most_likely_labels[i])"
   ]
  },
  {
   "cell_type": "markdown",
   "metadata": {},
   "source": [
    "### 4) Set Up Code Checking\n",
    "As a last step before writing your own code, run the following cell to enable feedback on your code."
   ]
  },
  {
   "cell_type": "code",
   "execution_count": null,
   "metadata": {},
   "outputs": [],
   "source": [
    "# Set up code checking\n",
    "from learntools.core import binder\n",
    "binder.bind(globals())\n",
    "from learntools.deep_learning.exercise_3 import *\n",
    "print(\"Setup Complete\")"
   ]
  },
  {
   "cell_type": "markdown",
   "metadata": {},
   "source": [
    "# Exercises\n",
    "\n",
    "You will write a couple useful functions in the next exercises. Then you will put these functions together to compare the effectiveness of various pretrained models for your hot-dog detection program.\n",
    "\n",
    "### Exercise 1\n",
    "\n",
    "We want to distinguish whether an image is a hot dog or not. But our models classify pictures into 1000 different categories. Write a function that takes the models predictions (in the same format as `preds` from the set-up code) and returns a list of `True` and `False` values.\n",
    "\n",
    "Some tips:\n",
    "- Work iteratively. Figure out one line at a time outsie the function, and print that line's output to make sure it's right. Once you have all the code you need, move it into the function `is_hot_dog`. If you get an error, check that you have copied the right code and haven't left anything out.\n",
    "- The raw data we loaded in `img_paths` had two images of hot dogs, followed by two images of other foods. So, if you run your function on `preds`, which represents the output of the model on these images, your function should return `[True, True, False, False]`.\n",
    "- You will want to use the `decode_predictions` function that was also used in the code provided above. We provided a line with this in the code cell to get you started.\n",
    "\n",
    "\n"
   ]
  },
  {
   "cell_type": "code",
   "execution_count": null,
   "metadata": {},
   "outputs": [],
   "source": [
    "# Experiment with code outside the function, then move it into the function once you think it is right\n",
    "\n",
    "# the following lines are given as a hint to get you started\n",
    "decoded = decode_predictions(preds, top=1)\n",
    "print(decoded)\n",
    "\n",
    "def is_hot_dog(preds):\n",
    "    '''\n",
    "    inputs:\n",
    "    preds_array:  array of predictions from pre-trained model\n",
    "\n",
    "    outputs:\n",
    "    is_hot_dog_list: a list indicating which predictions show hotdog as the most likely label\n",
    "    '''\n",
    "    pass\n",
    "    \n",
    "q_1.check()"
   ]
  },
  {
   "cell_type": "markdown",
   "metadata": {},
   "source": [
    "If you'd like to see a hint or the solution, uncomment the appropriate line below.\n",
    "\n",
    "**If you did not get a working solution, copy the solution code into your code cell above and run it. You will need this function for the next step.**"
   ]
  },
  {
   "cell_type": "code",
   "execution_count": null,
   "metadata": {},
   "outputs": [],
   "source": [
    "# q_1.hint()\n",
    "# q_1.solution()"
   ]
  },
  {
   "cell_type": "code",
   "execution_count": null,
   "metadata": {},
   "outputs": [],
   "source": [
    "#%%RM_IF(PROD)%%\n",
    "def is_hot_dog(preds):\n",
    "    decoded = decode_predictions(preds, top=1)\n",
    "\n",
    "    # pull out predicted label, which is in d[0][1] due to how decode_predictions structures results\n",
    "    labels = [d[0][1] for d in decoded]\n",
    "    out = [l == 'hotdog' for l in labels]\n",
    "    return out\n",
    "q_1.assert_check_passed()"
   ]
  },
  {
   "cell_type": "markdown",
   "metadata": {},
   "source": [
    "### Exercise 2: Evaluate Model Accuracy\n",
    "\n",
    "You have a model (called `my_model`). Is it good enough to build your app around? \n",
    "\n",
    "Find out by writing a function that calculates a model's accuracy (fraction correct). You will try an alternative model in the next step. So we will put this logic in a reusable function that takes data and the model as arguments, and returns the accuracy.\n",
    "\n",
    "Tips:\n",
    "\n",
    " - Use the `is_hot_dog` function from above to help write your function\n",
    " - To save you some scrolling, here is the code from above where we used a TensorFlow model to make predictions:\n",
    "\n",
    "```\n",
    "my_model = ResNet50(weights='../input/resnet50/resnet50_weights_tf_dim_ordering_tf_kernels.h5')\n",
    "test_data = read_and_prep_images(img_paths)\n",
    "preds = my_model.predict(test_data)\n",
    "```"
   ]
  },
  {
   "cell_type": "code",
   "execution_count": null,
   "metadata": {},
   "outputs": [],
   "source": [
    "def calc_accuracy(model, paths_to_hotdog_images, paths_to_other_images):\n",
    "    pass\n",
    "\n",
    "# Code to call calc_accuracy.  my_model, hot_dog_paths and not_hot_dog_paths were created in the setup code\n",
    "my_model_accuracy = calc_accuracy(my_model, hot_dog_paths, not_hot_dog_paths)\n",
    "print(\"Fraction correct in small test set: {}\".format(my_model_accuracy))\n",
    "\n",
    "# checks that your function calc_accuracy works correctly\n",
    "q_2.check()"
   ]
  },
  {
   "cell_type": "markdown",
   "metadata": {},
   "source": [
    "If you'd like a hint or the solution, uncomment the appropriate line below"
   ]
  },
  {
   "cell_type": "code",
   "execution_count": null,
   "metadata": {},
   "outputs": [],
   "source": [
    "#_COMMENT_IF(PROD)_\n",
    "q_2.hint()\n",
    "# q_2.solution()"
   ]
  },
  {
   "cell_type": "code",
   "execution_count": null,
   "metadata": {},
   "outputs": [],
   "source": [
    "#%%RM_IF(PROD)%%\n",
    "def calc_accuracy(model, paths_to_hotdog_images, paths_to_other_images):\n",
    "    # We'll use the counts for denominator of accuracy calculation\n",
    "    num_hot_dog_images = len(paths_to_hotdog_images)\n",
    "    num_other_images = len(paths_to_other_images)\n",
    "\n",
    "    hotdog_image_data = read_and_prep_images(paths_to_hotdog_images)\n",
    "    preds_for_hotdogs = model.predict(hotdog_image_data)\n",
    "    # Summing list of binary variables gives a count of True values\n",
    "    num_correct_hotdog_preds = sum(is_hot_dog(preds_for_hotdogs))\n",
    "\n",
    "    other_image_data = read_and_prep_images(paths_to_other_images)\n",
    "    preds_other_images = model.predict(other_image_data)\n",
    "    # Number correct is the number judged not to be hot dogs\n",
    "    num_correct_other_preds = num_other_images - sum(is_hot_dog(preds_other_images))\n",
    "\n",
    "    total_correct = num_correct_hotdog_preds + num_correct_other_preds\n",
    "    total_preds = num_hot_dog_images + num_other_images\n",
    "    return total_correct / total_preds\n",
    "q_2.assert_check_passed()"
   ]
  },
  {
   "cell_type": "markdown",
   "metadata": {},
   "source": [
    "### Exercise 3:\n",
    "There are other models besides the ResNet model (which we have loaded). For example, an earlier winner of the ImageNet competition is the VGG16 model.  Don't worry about the differences between these models yet. We'll come back to that later. For now, just focus on the mechanics of applying these models to a problem.\n",
    "\n",
    "The code used to load a pretrained ResNet50 model was\n",
    "\n",
    "```\n",
    "my_model = ResNet50(weights='../input/resnet50/resnet50_weights_tf_dim_ordering_tf_kernels.h5')\n",
    "```\n",
    "\n",
    "The weights for the model are stored at `../input/vgg16/vgg16_weights_tf_dim_ordering_tf_kernels.h5`.\n",
    "\n",
    "In the cell below, create a VGG16 model with the preloaded weights. Then use your `calc_accuracy` function to determine what fraction of images the VGG16 model correctly classifies.  Is it better or worse than the pretrained ResNet model?"
   ]
  },
  {
   "cell_type": "code",
   "execution_count": null,
   "metadata": {},
   "outputs": [],
   "source": [
    "# import the model\n",
    "from tensorflow.keras.applications import VGG16\n",
    "\n",
    "\n",
    "vgg16_model = ____\n",
    "# calculate accuracy on small dataset as a test\n",
    "vgg16_accuracy = ____\n",
    "\n",
    "print(\"Fraction correct in small dataset: {}\".format(vgg16_accuracy))\n",
    "q_3.check()\n"
   ]
  },
  {
   "cell_type": "markdown",
   "metadata": {},
   "source": [
    "Uncomment the appropriate line below if you'd like a hint or the solution"
   ]
  },
  {
   "cell_type": "code",
   "execution_count": null,
   "metadata": {},
   "outputs": [],
   "source": [
    "#_COMMENT_IF(PROD)_\n",
    "q_3.hint()\n",
    "#q_3.solution()"
   ]
  },
  {
   "cell_type": "code",
   "execution_count": null,
   "metadata": {},
   "outputs": [],
   "source": [
    "#%%RM_IF(PROD)%%\n",
    "from tensorflow.keras.applications import VGG16\n",
    "vgg16_model = VGG16('../input/vgg16/vgg16_weights_tf_dim_ordering_tf_kernels.h5')\n",
    "vgg16_accuracy = calc_accuracy(vgg16_model, hot_dog_paths, not_hot_dog_paths)\n",
    "q_3.assert_check_passed()"
   ]
  },
  {
   "cell_type": "markdown",
   "metadata": {},
   "source": [
    "If this model is used for an app that runs on a phone, what factors besides accuracy might you care about? After you've thought about it, keep going below."
   ]
  },
  {
   "cell_type": "markdown",
   "metadata": {},
   "source": [
    "# Keep Going\n",
    "You are ready for **[Transfer Learning](https://www.kaggle.com/dansbecker/transfer-learning/)**, which will allow you to apply the same level of power for your custom purposes.\n"
   ]
  }
 ],
 "metadata": {
  "kernelspec": {
   "display_name": "Python 3",
   "language": "python",
   "name": "python3"
  },
  "language_info": {
   "codemirror_mode": {
    "name": "ipython",
    "version": 3
   },
   "file_extension": ".py",
   "mimetype": "text/x-python",
   "name": "python",
   "nbconvert_exporter": "python",
   "pygments_lexer": "ipython3",
   "version": "3.6.5"
  }
 },
 "nbformat": 4,
 "nbformat_minor": 2
}
