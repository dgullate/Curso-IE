{
 "cells": [
  {
   "cell_type": "markdown",
   "metadata": {},
   "source": [
    "### Welcome to [Kaggle Learn](https://www.kaggle.com/learn/overview)'s _Intermediate Machine Learning_ micro-course!\n",
    "\n",
    "If you have some background in machine learning and you'd like to learn how to quickly improve the quality of your models, you're in the right place!  In this micro-course, you will accelerate your machine learning expertise by learning how to:\n",
    "- tackle data types often found in real-world datasets (**missing values**, **categorical variables**),\n",
    "- design **pipelines** to improve the quality of your machine learning code,\n",
    "- use advanced techniques for model validation (**cross-validation**),\n",
    "- build state-of-the-art models that are widely used to win Kaggle competitions (**XGBoost**), and\n",
    "- avoid common and important data science mistakes (**leakage**).\n",
    "\n",
    "Along the way, you'll cement your knowledge by completing a hands-on exercise with real-world data for each new topic.  Most exercises use data from the [Housing Prices Competition for Kaggle Learn Users](https://www.kaggle.com/c/home-data-for-ml-course), where the goal is to use 79 different explanatory variables (such as the type of roof, number of bedrooms, and number of bathrooms) to predict home prices.  You'll measure your progress by submitting predictions to this competition and watching your position rise on [the leaderboard](https://www.kaggle.com/c/home-data-for-ml-course/leaderboard)!\n",
    "\n",
    "![tut1_competition](https://i.imgur.com/6hNMveQ.png)\n",
    "\n",
    "# Prerequisites\n",
    "\n",
    "You're ready for this micro-course if you've built a machine learning model before, and you're familiar with topics such as [model validation](https://www.kaggle.com/dansbecker/model-validation), [underfitting and overfitting](https://www.kaggle.com/dansbecker/underfitting-and-overfitting), and [random forests](https://www.kaggle.com/dansbecker/random-forests).  \n",
    "\n",
    "If you're completely new to machine learning, please check out our [introductory micro-course](https://www.kaggle.com/learn/machine-learning), which covers everything you need to prepare for this intermediate micro-course.\n",
    "\n",
    "\n",
    "# Your Turn\n",
    "\n",
    "Continue to the **[first exercise](#$NEXT_NOTEBOOK_URL$)** to learn how to submit predictions to a Kaggle competition and determine what you might need to review before getting started."
   ]
  }
 ],
 "metadata": {
  "kernelspec": {
   "display_name": "Python 3",
   "language": "python",
   "name": "python3"
  },
  "language_info": {
   "codemirror_mode": {
    "name": "ipython",
    "version": 3
   },
   "file_extension": ".py",
   "mimetype": "text/x-python",
   "name": "python",
   "nbconvert_exporter": "python",
   "pygments_lexer": "ipython3",
   "version": "3.6.5"
  }
 },
 "nbformat": 4,
 "nbformat_minor": 2
}
