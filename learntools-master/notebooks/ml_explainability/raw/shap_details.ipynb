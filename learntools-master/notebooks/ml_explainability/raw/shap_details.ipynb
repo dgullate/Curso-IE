{
 "cells": [
  {
   "cell_type": "markdown",
   "metadata": {},
   "source": [
    "It is easy to explain individual predictions when using very simple models.  For example, consider the equation\n",
    "\n",
    "```prediction = 10 + X1 + 2*x2```\n",
    "\n",
    "and consider a case where the **average** values of x1 and x2 are 0. Making predictions for when x1 and x2 are both 3, we could reasonably claim\n",
    "- Our prediction increased by 3 because x1 is 3 (instead of 0)\n",
    "- Our prediction increased by 6 because x2 is 3 (instead of 0)\n",
    "\n",
    "Summing these together, we'd claim `our prediction is 9 greater than average because x1 and x2 are both 3.` This is correct, as the prediction for average values is 10, and the prediction for these values is 19.\n",
    "\n",
    "But most machine learning models are more complex due to interactions between variables. We can illustrate the difficulty caused by interactions with another simple algebraic equation:\n",
    "\n",
    "```prediction = 10 + x1 + 2*x2 + x1*x2```\n",
    "\n",
    "What is the impact of having `x2` be 3 instead of it's average value of 0?  \n",
    "\n",
    "If we evaluate this when `x1` is 0, then the effect of x2 is 6.  But if we consider it when `x1` is 3, we must consider the last term as well, and the total impact of `x2` is 15.\n",
    "\n",
    "So the impact of having a non-average value for `x2` depends on the value of `x1`, and vice versa. This is an even bigger problem when considering many features `x1`, `x2`, `x3`, `x4`, etc. \n",
    "\n",
    "For a given row of data, each feature takes on a specific numerical value. And if we want to know the effect of a single variable, say `X2` it depends what other variables we change away from their average values before `x2` and which we change after `x2`.\n",
    "\n",
    "Shap values address this by considering all the possible orderings with which we could set variables to non-average values. We get a different estimate of the effect of `x2` for different orderings of other variables we could change. And the Shap value averages the estimates from all the orderings of changing variables (using some clever tricks to speed up the calculation).\n"
   ]
  }
 ],
 "metadata": {
  "kernelspec": {
   "display_name": "Python 3",
   "language": "python",
   "name": "python3"
  },
  "language_info": {
   "codemirror_mode": {
    "name": "ipython",
    "version": 3
   },
   "file_extension": ".py",
   "mimetype": "text/x-python",
   "name": "python",
   "nbconvert_exporter": "python",
   "pygments_lexer": "ipython3",
   "version": "3.6.5"
  }
 },
 "nbformat": 4,
 "nbformat_minor": 2
}
