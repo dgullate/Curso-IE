{
 "cells": [
  {
   "cell_type": "code",
   "execution_count": 7,
   "metadata": {
    "ExecuteTime": {
     "end_time": "2019-03-04T12:55:23.306962Z",
     "start_time": "2019-03-04T12:55:21.686397Z"
    }
   },
   "outputs": [],
   "source": [
    "import lyricsgenius\n",
    "import pandas as pd"
   ]
  },
  {
   "cell_type": "code",
   "execution_count": 10,
   "metadata": {
    "ExecuteTime": {
     "end_time": "2019-03-04T12:56:37.529634Z",
     "start_time": "2019-03-04T12:56:29.218792Z"
    }
   },
   "outputs": [
    {
     "name": "stdout",
     "output_type": "stream",
     "text": [
      "Searching for songs by Joaquín Sabina...\n",
      "\n",
      "Song 1: \"1968\"\n",
      "Song 2: \"19 días y 500 noches\"\n",
      "Song 3: \"40 Orsett Terrace\"\n",
      "\n",
      "Reached user-specified song limit (3).\n",
      "Done. Found 3 songs.\n",
      "[('1968', 'Joaquín Sabina'), ('19 días y 500 noches', 'Joaquín Sabina'), ('40 Orsett Terrace', 'Joaquín Sabina')]\n"
     ]
    }
   ],
   "source": [
    "artist_name = 'Joaquín Sabina'\n",
    "genius = lyricsgenius.Genius('Fz8_mx7lXTVotUo8yoQ6hljk89x6H1i8Enq8s39aiJO_uGZNl2EaTBG2KaNN0Q-7')\n",
    "artist = genius.search_artist(artist_name, max_songs=3, sort=\"title\")\n",
    "print(artist.songs)"
   ]
  },
  {
   "cell_type": "code",
   "execution_count": 17,
   "metadata": {
    "ExecuteTime": {
     "end_time": "2019-03-04T13:00:31.596948Z",
     "start_time": "2019-03-04T13:00:31.583859Z"
    }
   },
   "outputs": [
    {
     "data": {
      "text/plain": [
       "'Joaquín Sabina'"
      ]
     },
     "execution_count": 17,
     "metadata": {},
     "output_type": "execute_result"
    }
   ],
   "source": []
  },
  {
   "cell_type": "code",
   "execution_count": 16,
   "metadata": {
    "ExecuteTime": {
     "end_time": "2019-03-04T12:59:23.289355Z",
     "start_time": "2019-03-04T12:59:23.275677Z"
    }
   },
   "outputs": [
    {
     "data": {
      "text/plain": [
       "{'_body': {'annotation_count': 1,\n",
       "  'api_path': '/songs/1603658',\n",
       "  'apple_music_id': '128127147',\n",
       "  'apple_music_player_url': 'https://genius.com/songs/1603658/apple_music_player',\n",
       "  'description': {'plain': '?'},\n",
       "  'embed_content': \"<div id='rg_embed_link_1603658' class='rg_embed_link' data-song-id='1603658'>Read <a href='https://genius.com/Joaquin-sabina-1968-lyrics'>“1968” by Joaquín\\xa0Sabina</a> on Genius</div> <script crossorigin src='//genius.com/songs/1603658/embed.js'></script>\",\n",
       "  'featured_video': False,\n",
       "  'full_title': '1968 by\\xa0Joaquín\\xa0Sabina',\n",
       "  'header_image_thumbnail_url': 'https://images.genius.com/a479ec994442f5cd46a3972ded42c0e8.300x300x1.jpg',\n",
       "  'header_image_url': 'https://images.genius.com/a479ec994442f5cd46a3972ded42c0e8.939x939x1.jpg',\n",
       "  'id': 1603658,\n",
       "  'lyrics_owner_id': 1549345,\n",
       "  'lyrics_state': 'complete',\n",
       "  'path': '/Joaquin-sabina-1968-lyrics',\n",
       "  'pyongs_count': None,\n",
       "  'recording_location': None,\n",
       "  'release_date': None,\n",
       "  'song_art_image_thumbnail_url': 'https://images.genius.com/a479ec994442f5cd46a3972ded42c0e8.300x300x1.jpg',\n",
       "  'song_art_image_url': 'https://images.genius.com/a479ec994442f5cd46a3972ded42c0e8.939x939x1.jpg',\n",
       "  'stats': {'accepted_annotations': 0,\n",
       "   'contributors': 1,\n",
       "   'hot': False,\n",
       "   'iq_earners': 0,\n",
       "   'transcribers': 1,\n",
       "   'unreviewed_annotations': 0,\n",
       "   'verified_annotations': 0},\n",
       "  'title': '1968',\n",
       "  'title_with_featured': '1968',\n",
       "  'url': 'https://genius.com/Joaquin-sabina-1968-lyrics',\n",
       "  'current_user_metadata': {'permissions': ['view_apple_music_player',\n",
       "    'create_comment',\n",
       "    'view_song_story_gallery'],\n",
       "   'excluded_permissions': ['follow',\n",
       "    'award_transcription_iq',\n",
       "    'remove_transcription_iq',\n",
       "    'see_pageviews',\n",
       "    'pyong',\n",
       "    'edit_lyrics',\n",
       "    'view_annotation_engagement_data',\n",
       "    'publish',\n",
       "    'unpublish',\n",
       "    'edit_spotify_details',\n",
       "    'hide',\n",
       "    'unhide',\n",
       "    'toggle_featured_video',\n",
       "    'add_pinned_annotation_to',\n",
       "    'add_community_annotation_to',\n",
       "    'destroy',\n",
       "    'mark_as_not_spam',\n",
       "    'edit_spotify_annotations_for',\n",
       "    'verify_lyrics',\n",
       "    'unverify_lyrics',\n",
       "    'edit_anything',\n",
       "    'edit_any_media',\n",
       "    'edit',\n",
       "    'rename',\n",
       "    'edit_tags',\n",
       "    'watch_fact_track',\n",
       "    'reindex',\n",
       "    'view_lyrics_synchronization',\n",
       "    'enable_media',\n",
       "    'disable_media',\n",
       "    'edit_lyrics_or_annotation_brackets',\n",
       "    'see_editorial_indicators',\n",
       "    'view_attribution_visualization',\n",
       "    'edit_annotation_brackets',\n",
       "    'preview_lyrics_for_export',\n",
       "    'hide_apple_player',\n",
       "    'unhide_apple_player',\n",
       "    'trigger_apple_match',\n",
       "    'mark_lyrics_evaluation_as_approved',\n",
       "    'mark_lyrics_evaluation_as_staff_approved',\n",
       "    'mark_lyrics_evaluation_as_unapproved',\n",
       "    'mark_lyrics_evaluation_as_un_staff_approved',\n",
       "    'view_transcriber_media_player',\n",
       "    'override_apple_match',\n",
       "    'edit_youtube_url',\n",
       "    'edit_soundcloud_url',\n",
       "    'edit_spotify_uuid',\n",
       "    'edit_vevo_url',\n",
       "    'moderate_annotations',\n",
       "    'create_annotation',\n",
       "    'see_short_id',\n",
       "    'manage_chart_item',\n",
       "    'create_tag',\n",
       "    'propose_lyrics_edit',\n",
       "    'moderate_lyrics_edit_proposals'],\n",
       "   'interactions': {'pyong': False, 'following': False},\n",
       "   'relationships': {},\n",
       "   'iq_by_action': {}},\n",
       "  'album': {'api_path': '/albums/167209',\n",
       "   'cover_art_url': 'https://images.genius.com/a479ec994442f5cd46a3972ded42c0e8.939x939x1.jpg',\n",
       "   'full_title': 'Inventario by Joaquín Sabina',\n",
       "   'id': 167209,\n",
       "   'name': 'Inventario',\n",
       "   'url': 'https://genius.com/albums/Joaquin-sabina/Inventario',\n",
       "   'artist': {'api_path': '/artists/315233',\n",
       "    'header_image_url': 'https://images.genius.com/aea270718cbc9456caa15158adcdc441.640x640x1.jpg',\n",
       "    'id': 315233,\n",
       "    'image_url': 'https://images.genius.com/aea270718cbc9456caa15158adcdc441.640x640x1.jpg',\n",
       "    'is_meme_verified': False,\n",
       "    'is_verified': False,\n",
       "    'name': 'Joaquín Sabina',\n",
       "    'url': 'https://genius.com/artists/Joaquin-sabina'}},\n",
       "  'custom_performances': [],\n",
       "  'description_annotation': {'_type': 'referent',\n",
       "   'annotator_id': 1549345,\n",
       "   'annotator_login': 'pressburg',\n",
       "   'api_path': '/referents/6118433',\n",
       "   'classification': 'needs_exegesis',\n",
       "   'fragment': '1968',\n",
       "   'id': 6118433,\n",
       "   'is_description': True,\n",
       "   'path': '/6118433/Joaquin-sabina-1968/1968',\n",
       "   'range': {'content': '1968'},\n",
       "   'song_id': 1603658,\n",
       "   'url': 'https://genius.com/6118433/Joaquin-sabina-1968/1968',\n",
       "   'verified_annotator_ids': [],\n",
       "   'annotatable': {'api_path': '/songs/1603658',\n",
       "    'client_timestamps': {'updated_by_human_at': 1479147561,\n",
       "     'lyrics_updated_at': 1429899472},\n",
       "    'context': 'Joaquín Sabina',\n",
       "    'id': 1603658,\n",
       "    'image_url': 'https://images.genius.com/a479ec994442f5cd46a3972ded42c0e8.939x939x1.jpg',\n",
       "    'link_title': '1968 by\\xa0Joaquín\\xa0Sabina',\n",
       "    'title': '1968',\n",
       "    'type': 'Song',\n",
       "    'url': 'https://genius.com/Joaquin-sabina-1968-lyrics'},\n",
       "   'annotations': [{'api_path': '/annotations/6118433',\n",
       "     'body': {'plain': ''},\n",
       "     'comment_count': 0,\n",
       "     'community': True,\n",
       "     'custom_preview': None,\n",
       "     'has_voters': False,\n",
       "     'id': 6118433,\n",
       "     'pinned': False,\n",
       "     'share_url': 'https://genius.com/6118433',\n",
       "     'source': None,\n",
       "     'state': 'needs_exegesis',\n",
       "     'url': 'https://genius.com/6118433/Joaquin-sabina-1968/1968',\n",
       "     'verified': False,\n",
       "     'votes_total': 0,\n",
       "     'current_user_metadata': {'permissions': [],\n",
       "      'excluded_permissions': ['vote',\n",
       "       'edit',\n",
       "       'cosign',\n",
       "       'uncosign',\n",
       "       'destroy',\n",
       "       'accept',\n",
       "       'reject',\n",
       "       'see_unreviewed',\n",
       "       'clear_votes',\n",
       "       'propose_edit_to',\n",
       "       'pin_to_profile',\n",
       "       'unpin_from_profile',\n",
       "       'update_source',\n",
       "       'edit_custom_preview',\n",
       "       'create_comment'],\n",
       "      'interactions': {'cosign': False, 'pyong': False, 'vote': None},\n",
       "      'iq_by_action': {}},\n",
       "     'authors': [{'attribution': 1.0,\n",
       "       'pinned_role': None,\n",
       "       'user': {'api_path': '/users/1549345',\n",
       "        'avatar': {'tiny': {'url': 'https://images.rapgenius.com/avatars/tiny/04d14b7ca5774ab1736acddc83edd261',\n",
       "          'bounding_box': {'width': 16, 'height': 16}},\n",
       "         'thumb': {'url': 'https://images.rapgenius.com/avatars/thumb/04d14b7ca5774ab1736acddc83edd261',\n",
       "          'bounding_box': {'width': 32, 'height': 32}},\n",
       "         'small': {'url': 'https://images.rapgenius.com/avatars/small/04d14b7ca5774ab1736acddc83edd261',\n",
       "          'bounding_box': {'width': 100, 'height': 100}},\n",
       "         'medium': {'url': 'https://images.rapgenius.com/avatars/medium/04d14b7ca5774ab1736acddc83edd261',\n",
       "          'bounding_box': {'width': 300, 'height': 400}}},\n",
       "        'header_image_url': 'https://images.rapgenius.com/avatars/medium/04d14b7ca5774ab1736acddc83edd261',\n",
       "        'human_readable_role_for_display': None,\n",
       "        'id': 1549345,\n",
       "        'iq': 0,\n",
       "        'login': 'pressburg',\n",
       "        'name': 'pressburg',\n",
       "        'role_for_display': None,\n",
       "        'url': 'https://genius.com/pressburg',\n",
       "        'current_user_metadata': {'permissions': [],\n",
       "         'excluded_permissions': ['follow'],\n",
       "         'interactions': {'following': False},\n",
       "         'features': []}}}],\n",
       "     'cosigned_by': [],\n",
       "     'rejection_comment': None,\n",
       "     'verified_by': None}]},\n",
       "  'featured_artists': [],\n",
       "  'lyrics_marked_complete_by': None,\n",
       "  'media': [],\n",
       "  'primary_artist': {'api_path': '/artists/315233',\n",
       "   'header_image_url': 'https://images.genius.com/aea270718cbc9456caa15158adcdc441.640x640x1.jpg',\n",
       "   'id': 315233,\n",
       "   'image_url': 'https://images.genius.com/aea270718cbc9456caa15158adcdc441.640x640x1.jpg',\n",
       "   'is_meme_verified': False,\n",
       "   'is_verified': False,\n",
       "   'name': 'Joaquín Sabina',\n",
       "   'url': 'https://genius.com/artists/Joaquin-sabina'},\n",
       "  'producer_artists': [],\n",
       "  'song_relationships': [{'type': 'samples', 'songs': []},\n",
       "   {'type': 'sampled_in', 'songs': []},\n",
       "   {'type': 'interpolates', 'songs': []},\n",
       "   {'type': 'interpolated_by', 'songs': []},\n",
       "   {'type': 'cover_of', 'songs': []},\n",
       "   {'type': 'covered_by', 'songs': []},\n",
       "   {'type': 'remix_of', 'songs': []},\n",
       "   {'type': 'remixed_by', 'songs': []},\n",
       "   {'type': 'live_version_of', 'songs': []},\n",
       "   {'type': 'performed_live_as', 'songs': []}],\n",
       "  'verified_annotations_by': [],\n",
       "  'verified_contributors': [],\n",
       "  'verified_lyrics_by': [],\n",
       "  'writer_artists': [],\n",
       "  'lyrics': 'Aquel año mayo duró doce meses\\nTú y yo acabábamos de nacer\\nY un señor muy serio moría del disgusto\\nEn la primera página del ABC\\nLos claveles mordían a los magistrados\\nParís era un barrio con acordeón\\nMarx prohibió a sus hijos que llegaran tarde\\nA la dulce hoguera de la insurrección\\n\\nLa poesía salió a la calle\\nReconocimos nuestros rostros\\nSupimos que todo es posible\\nEn 1968\\n\\n¿Jean Paul Sartre y Dilan? cantaban a dúo\\nJugaban al corro Lenin y Rambo\\nLos relojes marcaban 40 de fiebre\\nSe hablaba de sexo en la empresa Renault\\nDos y dos ya nunca más sumaron cuatro\\nSufrió mal de amores hasta De Gaulle\\nEn medio de Praga crecían amapolas\\nComo un reto rojo al gris hormigón\\n\\nLa poesía salió a la calle\\nReconocimos nuestros rostros\\nSupimos que todo es posible\\nEn 1968\\n\\nPero no pudimos reinventar la historia\\nMascaba la muerte chicle en Vietnam\\nPisaban los tanques las flores de Praga\\nEn México lindo tiraban a dar\\nMientras Ché cavaba su tumba en Bolivia\\nCantaba Massiel en Eurovisión\\nY mi padre llegaba puntual al trabajo\\nCon el cuello blanco y el traje marrón\\n\\nSi ahora encuentro a aquel amigo\\nLeo en el fondo de sus ojos\\nQue ya se secaron las flores de\\nDe 1968\\n\\nLos cuadros hicieron huelga en los museos\\nParís era rojo, San Francisco azul\\nUn vagabundo fue elegido alcalde\\nY la sorbona estaba en Catmandú\\nSobreviva imbécil, es el roco la muerte\\nBeba Cola-Cola, cante esta canción\\nQue la primavera va a durar muy poco\\nQue mañana es lunes y anoche llovió\\n\\nSi ahora encuentro a aquel amigo\\nLeo en el fondo de sus ojos\\nQue ya se secaron las flores de\\nDe 1968'},\n",
       " '_url': 'https://genius.com/Joaquin-sabina-1968-lyrics',\n",
       " '_api_path': '/songs/1603658',\n",
       " '_id': 1603658}"
      ]
     },
     "execution_count": 16,
     "metadata": {},
     "output_type": "execute_result"
    }
   ],
   "source": [
    "artist.songs[0].__dict__"
   ]
  },
  {
   "cell_type": "code",
   "execution_count": 24,
   "metadata": {
    "ExecuteTime": {
     "end_time": "2019-03-04T13:05:43.782421Z",
     "start_time": "2019-03-04T13:05:43.772140Z"
    }
   },
   "outputs": [],
   "source": [
    "columns = ['author', 'album', 'title', 'lyrics']\n",
    "df = pd.DataFrame(columns=columns)"
   ]
  },
  {
   "cell_type": "code",
   "execution_count": 25,
   "metadata": {
    "ExecuteTime": {
     "end_time": "2019-03-04T13:06:37.650293Z",
     "start_time": "2019-03-04T13:06:37.637198Z"
    }
   },
   "outputs": [],
   "source": [
    "for song in artist.songs:\n",
    "    author = artist.name\n",
    "    lyrics = song.lyrics\n",
    "    title = song.title\n",
    "    album = song.album\n",
    "    df = df.append([[author,album,title,lyrics]],columns = co)\n",
    "#     print(song.lyrics)\n",
    "    \n",
    "    break"
   ]
  },
  {
   "cell_type": "code",
   "execution_count": 26,
   "metadata": {
    "ExecuteTime": {
     "end_time": "2019-03-04T13:06:39.338315Z",
     "start_time": "2019-03-04T13:06:39.324505Z"
    }
   },
   "outputs": [
    {
     "data": {
      "text/html": [
       "<div>\n",
       "<style scoped>\n",
       "    .dataframe tbody tr th:only-of-type {\n",
       "        vertical-align: middle;\n",
       "    }\n",
       "\n",
       "    .dataframe tbody tr th {\n",
       "        vertical-align: top;\n",
       "    }\n",
       "\n",
       "    .dataframe thead th {\n",
       "        text-align: right;\n",
       "    }\n",
       "</style>\n",
       "<table border=\"1\" class=\"dataframe\">\n",
       "  <thead>\n",
       "    <tr style=\"text-align: right;\">\n",
       "      <th></th>\n",
       "      <th>author</th>\n",
       "      <th>album</th>\n",
       "      <th>title</th>\n",
       "      <th>lyrics</th>\n",
       "      <th>0</th>\n",
       "      <th>1</th>\n",
       "      <th>2</th>\n",
       "      <th>3</th>\n",
       "    </tr>\n",
       "  </thead>\n",
       "  <tbody>\n",
       "    <tr>\n",
       "      <th>0</th>\n",
       "      <td>NaN</td>\n",
       "      <td>NaN</td>\n",
       "      <td>NaN</td>\n",
       "      <td>NaN</td>\n",
       "      <td>Joaquín Sabina</td>\n",
       "      <td>Inventario</td>\n",
       "      <td>1968</td>\n",
       "      <td>Aquel año mayo duró doce meses\\nTú y yo acabáb...</td>\n",
       "    </tr>\n",
       "  </tbody>\n",
       "</table>\n",
       "</div>"
      ],
      "text/plain": [
       "  author album title lyrics               0           1     2  \\\n",
       "0    NaN   NaN   NaN    NaN  Joaquín Sabina  Inventario  1968   \n",
       "\n",
       "                                                   3  \n",
       "0  Aquel año mayo duró doce meses\\nTú y yo acabáb...  "
      ]
     },
     "execution_count": 26,
     "metadata": {},
     "output_type": "execute_result"
    }
   ],
   "source": [
    "df"
   ]
  },
  {
   "cell_type": "code",
   "execution_count": 25,
   "metadata": {
    "ExecuteTime": {
     "end_time": "2019-02-28T21:07:34.635295Z",
     "start_time": "2019-02-28T21:07:32.334260Z"
    }
   },
   "outputs": [
    {
     "name": "stdout",
     "output_type": "stream",
     "text": [
      "Searching for \"19 días y 500 noches\" by Joaquín Sabina...\n",
      "Done.\n",
      "Lo nuestro duró\n",
      "Lo que duran dos peces de hielo\n",
      "En un güisqui on the rocks\n",
      "En vez de fingir\n",
      "O, estrellarme una copa de celos\n",
      "Le dio por reír\n",
      "De pronto me vi\n",
      "Como un perro de nadie\n",
      "Ladrando, a las puertas del cielo\n",
      "Me dejó un neceser con agravios\n",
      "La miel en los labios\n",
      "Y escarcha en el pelo\n",
      "Tenían razón\n",
      "Mis amantes\n",
      "En eso de que, antes\n",
      "El malo era yo\n",
      "Con una excepción:\n",
      "Esta vez\n",
      "Yo quería quererla querer\n",
      "Y ella no\n",
      "Así que se fue\n",
      "Me dejó el corazón\n",
      "En los huesos\n",
      "Y yo de rodillas\n",
      "Desde el taxi\n",
      "Y, haciendo un exceso\n",
      "Me tiró dos besos...\n",
      "Uno por mejilla\n",
      "Y regresé\n",
      "A la maldición\n",
      "Del cajón sin su ropa\n",
      "A la perdición\n",
      "De los bares de copas\n",
      "A las cenicientas\n",
      "De saldo y esquina\n",
      "Y, por esas ventas\n",
      "Del fino Laina\n",
      "Pagando las cuentas\n",
      "De gente sin alma\n",
      "Que pierde la calma\n",
      "Con la cocaína\n",
      "Volviéndome loco\n",
      "Derrochando\n",
      "La bolsa y la vida\n",
      "La fuí, poco a poco\n",
      "Dando por perdida\n",
      "Y eso que yo\n",
      "Para no agobiar con\n",
      "Flores a María\n",
      "Para no asediarla\n",
      "Con mi antología\n",
      "De sábanas frías\n",
      "Y alcobas vacías\n",
      "Para no comprarla\n",
      "Con bisutería\n",
      "Ni ser el fantoche\n",
      "Que va, en romería\n",
      "Con la cofradía\n",
      "Del Santo Reproche\n",
      "Tanto la quería\n",
      "Que, tardé, en aprender\n",
      "A olvidarla, diecinueve días\n",
      "Y quinientas noches\n",
      "Dijo hola y adiós\n",
      "Y, el portazo, sonó\n",
      "Como un signo de interrogación\n",
      "Sospecho que, así\n",
      "Se vengaba, a través del olvido\n",
      "Cupido de mi\n",
      "No pido perdón\n",
      "¿para qué? si me va a perdonar\n",
      "Porque ya no le importa...\n",
      "Siempre tuvo la frente muy alta\n",
      "La lengua muy larga\n",
      "Y la falda muy corta\n",
      "Me abandonó\n",
      "Como se abandonan\n",
      "Los zapatos viejos\n",
      "Destrozó el cristal\n",
      "De mis gafas de lejos\n",
      "Sacó del espejo\n",
      "Su vivo retrato\n",
      "Y, fui, tan torero\n",
      "Por los callejones\n",
      "Del juego y el vino\n",
      "Que, ayer, el portero\n",
      "Me echó del casino\n",
      "De Torrelodones\n",
      "Qué pena tan grande\n",
      "Negaría el Santo Sacramento\n",
      "En el mismo momento\n",
      "Que ella me lo mande\n",
      "Y eso que yo\n",
      "Para no agobiar con\n",
      "Flores a María\n",
      "Para no asediarla\n",
      "Con mi antología\n",
      "De sábanas frías\n",
      "Y alcobas vacías\n",
      "Para no comprarla\n",
      "Con bisutería\n",
      "Ni ser el fantoche\n",
      "Que va, en romería\n",
      "Con la cofradía\n",
      "Del Santo Reproche\n",
      "Tanto la quería\n",
      "Que, tardé, en aprender\n",
      "A olvidarla, diecinueve días\n",
      "Y quinientas noches\n",
      "\n",
      "Y regresé...\n"
     ]
    }
   ],
   "source": [
    "song_name = \"19 días y 500 noches\"\n",
    "song = genius.search_song(song_name, artist.name)\n",
    "print(song.lyrics)"
   ]
  },
  {
   "cell_type": "code",
   "execution_count": null,
   "metadata": {
    "lines_to_next_cell": 2
   },
   "outputs": [],
   "source": []
  }
 ],
 "metadata": {
  "jupytext": {
   "text_representation": {
    "extension": ".py",
    "format_name": "percent",
    "format_version": "1.2",
    "jupytext_version": "0.8.6"
   }
  },
  "kernelspec": {
   "display_name": "Python 3",
   "language": "python",
   "name": "python3"
  },
  "language_info": {
   "codemirror_mode": {
    "name": "ipython",
    "version": 3
   },
   "file_extension": ".py",
   "mimetype": "text/x-python",
   "name": "python",
   "nbconvert_exporter": "python",
   "pygments_lexer": "ipython3",
   "version": "3.6.6"
  },
  "varInspector": {
   "cols": {
    "lenName": 16,
    "lenType": 16,
    "lenVar": 40
   },
   "kernels_config": {
    "python": {
     "delete_cmd_postfix": "",
     "delete_cmd_prefix": "del ",
     "library": "var_list.py",
     "varRefreshCmd": "print(var_dic_list())"
    },
    "r": {
     "delete_cmd_postfix": ") ",
     "delete_cmd_prefix": "rm(",
     "library": "var_list.r",
     "varRefreshCmd": "cat(var_dic_list()) "
    }
   },
   "types_to_exclude": [
    "module",
    "function",
    "builtin_function_or_method",
    "instance",
    "_Feature"
   ],
   "window_display": false
  }
 },
 "nbformat": 4,
 "nbformat_minor": 2
}
