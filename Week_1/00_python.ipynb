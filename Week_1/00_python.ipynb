{
 "cells": [
  {
   "cell_type": "markdown",
   "metadata": {},
   "source": [
    "# Python fundamentals"
   ]
  },
  {
   "cell_type": "markdown",
   "metadata": {},
   "source": [
    "## Random things"
   ]
  },
  {
   "cell_type": "markdown",
   "metadata": {},
   "source": [
    "Python has a large number of built-in functions, you can check them in\n",
    "\n",
    "https://www.programiz.com/python-programming/methods/built-in"
   ]
  },
  {
   "cell_type": "markdown",
   "metadata": {},
   "source": [
    "You can autocomplete when typing using TAB.\n",
    "You can access to the help of a function pressing shift + TAB (one, two or three times). You can also use the `help` method. "
   ]
  },
  {
   "cell_type": "code",
   "execution_count": 1,
   "metadata": {
    "ExecuteTime": {
     "end_time": "2019-03-11T14:57:06.476231Z",
     "start_time": "2019-03-11T14:57:06.466453Z"
    }
   },
   "outputs": [
    {
     "name": "stdout",
     "output_type": "stream",
     "text": [
      "Help on built-in function len in module builtins:\n",
      "\n",
      "len(obj, /)\n",
      "    Return the number of items in a container.\n",
      "\n"
     ]
    }
   ],
   "source": [
    "help(len)"
   ]
  },
  {
   "cell_type": "markdown",
   "metadata": {},
   "source": [
    "The last instruction in the cell is printed automatically.\n",
    "You can use bash commands within Jupyter."
   ]
  },
  {
   "cell_type": "code",
   "execution_count": 1,
   "metadata": {
    "ExecuteTime": {
     "end_time": "2019-03-08T14:44:48.872452Z",
     "start_time": "2019-03-08T14:44:48.723885Z"
    }
   },
   "outputs": [
    {
     "name": "stdout",
     "output_type": "stream",
     "text": [
      "python_fundamentals.ipynb python_fundamentals.py\r\n"
     ]
    }
   ],
   "source": [
    "! ls"
   ]
  },
  {
   "cell_type": "code",
   "execution_count": 11,
   "metadata": {
    "ExecuteTime": {
     "end_time": "2019-03-08T14:45:56.738916Z",
     "start_time": "2019-03-08T14:45:56.720179Z"
    }
   },
   "outputs": [
    {
     "data": {
      "text/plain": [
       "'/Users/danky/_CURSOS/2019_03_Curso_IFT/test/class_00'"
      ]
     },
     "execution_count": 11,
     "metadata": {},
     "output_type": "execute_result"
    }
   ],
   "source": [
    "a = ! pwd\n",
    "a = a[0]\n",
    "a"
   ]
  },
  {
   "cell_type": "code",
   "execution_count": 12,
   "metadata": {
    "ExecuteTime": {
     "end_time": "2019-03-08T14:46:09.148004Z",
     "start_time": "2019-03-08T14:46:08.988206Z"
    }
   },
   "outputs": [
    {
     "name": "stdout",
     "output_type": "stream",
     "text": [
      "/Users/danky/anaconda3/envs/ML_Course/bin/pip\r\n"
     ]
    }
   ],
   "source": [
    "! which pip"
   ]
  },
  {
   "cell_type": "markdown",
   "metadata": {},
   "source": [
    "You can even install packages while you are in the notebook."
   ]
  },
  {
   "cell_type": "code",
   "execution_count": 223,
   "metadata": {
    "ExecuteTime": {
     "end_time": "2019-03-08T17:45:54.699831Z",
     "start_time": "2019-03-08T17:45:52.516109Z"
    }
   },
   "outputs": [
    {
     "name": "stdout",
     "output_type": "stream",
     "text": [
      "Requirement already satisfied: matplotlib in /Users/danky/anaconda3/envs/ML_Course/lib/python3.6/site-packages\n",
      "Requirement already satisfied: numpy>=1.10.0 in /Users/danky/anaconda3/envs/ML_Course/lib/python3.6/site-packages (from matplotlib)\n",
      "Requirement already satisfied: cycler>=0.10 in /Users/danky/anaconda3/envs/ML_Course/lib/python3.6/site-packages (from matplotlib)\n",
      "Requirement already satisfied: pyparsing!=2.0.4,!=2.1.2,!=2.1.6,>=2.0.1 in /Users/danky/anaconda3/envs/ML_Course/lib/python3.6/site-packages (from matplotlib)\n",
      "Requirement already satisfied: kiwisolver>=1.0.1 in /Users/danky/anaconda3/envs/ML_Course/lib/python3.6/site-packages (from matplotlib)\n",
      "Requirement already satisfied: python-dateutil>=2.1 in /Users/danky/anaconda3/envs/ML_Course/lib/python3.6/site-packages (from matplotlib)\n",
      "Requirement already satisfied: six in /Users/danky/anaconda3/envs/ML_Course/lib/python3.6/site-packages (from cycler>=0.10->matplotlib)\n",
      "Requirement already satisfied: setuptools in /Users/danky/anaconda3/envs/ML_Course/lib/python3.6/site-packages (from kiwisolver>=1.0.1->matplotlib)\n",
      "\u001b[33mYou are using pip version 9.0.1, however version 19.0.3 is available.\n",
      "You should consider upgrading via the 'pip install --upgrade pip' command.\u001b[0m\n"
     ]
    }
   ],
   "source": [
    "! pip install matplotlib"
   ]
  },
  {
   "cell_type": "markdown",
   "metadata": {
    "heading_collapsed": true
   },
   "source": [
    "## Variables\n",
    "`print`,`type`,`del`"
   ]
  },
  {
   "cell_type": "markdown",
   "metadata": {
    "hidden": true
   },
   "source": [
    "A variable is a named place in the memory where data is stored, and you can access to it later using the variable name.\n",
    "\n",
    "Python does not require to explicitly declare the variable's type, this is done automatically when assigning a value to it.\n",
    "You assign a value to a variable doing:"
   ]
  },
  {
   "cell_type": "code",
   "execution_count": 43,
   "metadata": {
    "ExecuteTime": {
     "end_time": "2019-03-08T15:24:42.152361Z",
     "start_time": "2019-03-08T15:24:42.143450Z"
    },
    "hidden": true
   },
   "outputs": [
    {
     "name": "stdout",
     "output_type": "stream",
     "text": [
      "a= 3 , b= 6.0 , c= I am a string , e= True\n",
      "a= 10 , b= 6.0 , c= I am a string , e= True\n"
     ]
    }
   ],
   "source": [
    "a = 3 # Integer\n",
    "b = a + 3. # Float\n",
    "c = 'I am a string' # String\n",
    "d = \"I am a string\" # The same string, you can use single or double quotation marks\n",
    "e = c == d # Boolean, to check that the two strings are the same\n",
    "print('a=',a,', b=',b,', c=',c,', e=',e)\n",
    "a = 10 # Redefinition of a DOES NOT change b\n",
    "print('a=',a,', b=',b,', c=',c,', e=',e)"
   ]
  },
  {
   "cell_type": "markdown",
   "metadata": {
    "ExecuteTime": {
     "end_time": "2019-03-08T15:12:10.958279Z",
     "start_time": "2019-03-08T15:12:10.954737Z"
    },
    "hidden": true
   },
   "source": [
    "You can check the type"
   ]
  },
  {
   "cell_type": "code",
   "execution_count": 44,
   "metadata": {
    "ExecuteTime": {
     "end_time": "2019-03-08T15:24:42.716013Z",
     "start_time": "2019-03-08T15:24:42.711745Z"
    },
    "hidden": true
   },
   "outputs": [
    {
     "name": "stdout",
     "output_type": "stream",
     "text": [
      "<class 'int'>\n",
      "<class 'float'>\n",
      "<class 'str'>\n",
      "<class 'str'>\n"
     ]
    }
   ],
   "source": [
    "print(type(a))\n",
    "print(type(b))\n",
    "print(type(c))\n",
    "print(type(d))"
   ]
  },
  {
   "cell_type": "markdown",
   "metadata": {
    "hidden": true
   },
   "source": [
    "The instruction `del` allows to free variables from memory"
   ]
  },
  {
   "cell_type": "code",
   "execution_count": 45,
   "metadata": {
    "ExecuteTime": {
     "end_time": "2019-03-08T15:24:43.531118Z",
     "start_time": "2019-03-08T15:24:43.521077Z"
    },
    "hidden": true
   },
   "outputs": [
    {
     "ename": "NameError",
     "evalue": "name 'a' is not defined",
     "output_type": "error",
     "traceback": [
      "\u001b[0;31m---------------------------------------------------------------------------\u001b[0m",
      "\u001b[0;31mNameError\u001b[0m                                 Traceback (most recent call last)",
      "\u001b[0;32m<ipython-input-45-9fb8600323e4>\u001b[0m in \u001b[0;36m<module>\u001b[0;34m\u001b[0m\n\u001b[1;32m      1\u001b[0m \u001b[0;32mdel\u001b[0m\u001b[0;34m(\u001b[0m\u001b[0ma\u001b[0m\u001b[0;34m)\u001b[0m\u001b[0;34m\u001b[0m\u001b[0;34m\u001b[0m\u001b[0m\n\u001b[0;32m----> 2\u001b[0;31m \u001b[0ma\u001b[0m\u001b[0;34m\u001b[0m\u001b[0;34m\u001b[0m\u001b[0m\n\u001b[0m",
      "\u001b[0;31mNameError\u001b[0m: name 'a' is not defined"
     ]
    }
   ],
   "source": [
    "del(a)\n",
    "a"
   ]
  },
  {
   "cell_type": "markdown",
   "metadata": {
    "heading_collapsed": true
   },
   "source": [
    "## Data Type Conversion\n",
    "`str`,`float`,`int`,`bool`,`tuple`,`set`,`list`"
   ]
  },
  {
   "cell_type": "markdown",
   "metadata": {
    "hidden": true
   },
   "source": [
    "Python defines type conversion functions to directly convert one data type to another which is useful in day to day programming."
   ]
  },
  {
   "cell_type": "code",
   "execution_count": 5,
   "metadata": {
    "ExecuteTime": {
     "end_time": "2019-03-09T11:47:07.140281Z",
     "start_time": "2019-03-09T11:47:07.133643Z"
    },
    "hidden": true
   },
   "outputs": [
    {
     "name": "stdout",
     "output_type": "stream",
     "text": [
      "This is an int =  3\n",
      "The type of the variable str3 is =  <class 'str'>\n",
      "This is an str =  3\n",
      "This is an float =  3.0\n",
      "This is an str =  3.0\n"
     ]
    }
   ],
   "source": [
    "int3 = 3 # We define an integer\n",
    "print('This is an int = ',int3)\n",
    "str3 = str(int3) # Trasnform it into a string\n",
    "print('The type of the variable str3 is = ',type(str3))\n",
    "print('This is an str = ',str3)\n",
    "float3 = float(str3) # Transform the string into a float\n",
    "print('This is an float = ',float3)\n",
    "strfloat3 = str(float3)\n",
    "print('This is an str = ',strfloat3)"
   ]
  },
  {
   "cell_type": "markdown",
   "metadata": {
    "hidden": true
   },
   "source": [
    "Boolean variables are converted into `0`, `1`. In the opposite direction, `0` and `0.0` are converted into `False`, the rest into `True`."
   ]
  },
  {
   "cell_type": "code",
   "execution_count": 253,
   "metadata": {
    "ExecuteTime": {
     "end_time": "2019-03-08T17:58:23.701454Z",
     "start_time": "2019-03-08T17:58:23.693116Z"
    },
    "hidden": true
   },
   "outputs": [
    {
     "name": "stdout",
     "output_type": "stream",
     "text": [
      "1\n",
      "0\n",
      "1.0\n",
      "0.0\n",
      "False\n",
      "False\n",
      "True\n",
      "True\n",
      "True\n",
      "True\n",
      "4\n"
     ]
    }
   ],
   "source": [
    "print(int(True))\n",
    "print(int(False))\n",
    "print(float(True))\n",
    "print(float(False))\n",
    "print(bool(0))\n",
    "print(bool(0.0))\n",
    "print(bool(1))\n",
    "print(bool(9999))\n",
    "print(bool(0.5))\n",
    "print(bool(-0.5))\n",
    "print((True + True)**2)"
   ]
  },
  {
   "cell_type": "code",
   "execution_count": 1,
   "metadata": {
    "ExecuteTime": {
     "end_time": "2019-03-09T20:23:51.053075Z",
     "start_time": "2019-03-09T20:23:50.989361Z"
    },
    "hidden": true
   },
   "outputs": [
    {
     "name": "stdout",
     "output_type": "stream",
     "text": [
      "This is a list =  ['a', 'b', 1, 2, 3, 1]\n",
      "This is a tuple =  ('a', 'b', 1, 2, 3, 1)\n",
      "This is a set =  {'b', 2, 3, 1, 'a'}\n",
      "This is a list =  ['b', 2, 3, 1, 'a']\n"
     ]
    }
   ],
   "source": [
    "l1 = ['a','b',1,2,3,1]\n",
    "print('This is a list = ',l1)\n",
    "t1 = tuple(l1)\n",
    "print('This is a tuple = ',t1)\n",
    "s1 = set(t1)\n",
    "print('This is a set = ',s1)\n",
    "l2 = list(s1)\n",
    "print('This is a list = ',l2)"
   ]
  },
  {
   "cell_type": "markdown",
   "metadata": {
    "heading_collapsed": true
   },
   "source": [
    "## Variable types"
   ]
  },
  {
   "cell_type": "markdown",
   "metadata": {
    "ExecuteTime": {
     "end_time": "2019-03-08T20:03:22.480631Z",
     "start_time": "2019-03-08T20:03:22.474177Z"
    },
    "hidden": true
   },
   "source": [
    "* Booleans: `True` and `False`\n",
    "* Numbers\n",
    "* Lists\n",
    "* Strings\n",
    "* Tuples\n",
    "* Dictionaries"
   ]
  },
  {
   "cell_type": "markdown",
   "metadata": {
    "heading_collapsed": true,
    "hidden": true
   },
   "source": [
    "### Numbers\n",
    "`complex`"
   ]
  },
  {
   "cell_type": "markdown",
   "metadata": {
    "hidden": true
   },
   "source": [
    "1) The integer numbers (e.g. 2, 4, 20) have type `int`.\n",
    "\n",
    "To do floor division and get an integer result (discarding any fractional result) you can use the `//` operator; to calculate the remainder you can use `%`:"
   ]
  },
  {
   "cell_type": "code",
   "execution_count": 6,
   "metadata": {
    "ExecuteTime": {
     "end_time": "2019-03-09T11:50:09.150310Z",
     "start_time": "2019-03-09T11:50:09.134540Z"
    },
    "hidden": true
   },
   "outputs": [
    {
     "name": "stdout",
     "output_type": "stream",
     "text": [
      "<class 'int'>\n",
      "3\n",
      "1\n"
     ]
    }
   ],
   "source": [
    "a = 1\n",
    "b = 2\n",
    "print(type(a))\n",
    "print(10//3) # Integer division\n",
    "print(10%3) # Modulus - remainder of the division of left operand by the right"
   ]
  },
  {
   "cell_type": "markdown",
   "metadata": {
    "hidden": true
   },
   "source": [
    "2) The ones with a fractional part (e.g. 5.0, 1.6) have type `float`.\n",
    "\n",
    "Division (/) always returns a float."
   ]
  },
  {
   "cell_type": "code",
   "execution_count": 11,
   "metadata": {
    "ExecuteTime": {
     "end_time": "2019-03-09T11:52:38.250333Z",
     "start_time": "2019-03-09T11:52:38.240422Z"
    },
    "hidden": true
   },
   "outputs": [
    {
     "name": "stdout",
     "output_type": "stream",
     "text": [
      "a =  1 ,  <class 'int'> . b =  2 ,  <class 'int'>\n",
      "c =  0.5 ,  <class 'float'>\n",
      "a/b = 0.5 ,  <class 'float'>\n",
      "b/a = 2.0 ,  <class 'float'>\n"
     ]
    }
   ],
   "source": [
    "c = 0.5\n",
    "print('a = ',a,', ',type(a),'. b = ',b,', ',type(b))\n",
    "print('c = ',c,', ',type(c))\n",
    "print('a/b =', a/b,', ',type(a/b))\n",
    "print('b/a =', b/a,', ',type(b/a))"
   ]
  },
  {
   "cell_type": "markdown",
   "metadata": {
    "hidden": true
   },
   "source": [
    "3) You can also define complex numbers with the type `complex`"
   ]
  },
  {
   "cell_type": "code",
   "execution_count": 61,
   "metadata": {
    "ExecuteTime": {
     "end_time": "2019-03-08T15:53:45.062006Z",
     "start_time": "2019-03-08T15:53:45.055817Z"
    },
    "hidden": true
   },
   "outputs": [
    {
     "name": "stdout",
     "output_type": "stream",
     "text": [
      "<class 'complex'> (1+2j)\n"
     ]
    }
   ],
   "source": [
    "d = complex(a,b)\n",
    "print(type(d),d)"
   ]
  },
  {
   "cell_type": "markdown",
   "metadata": {
    "heading_collapsed": true,
    "hidden": true
   },
   "source": [
    "### Lists\n",
    "`len`,`copy`,`append`, `insert`,  `remove`, `pop`,  `reverse`, `sort`, `index`"
   ]
  },
  {
   "cell_type": "markdown",
   "metadata": {
    "hidden": true
   },
   "source": [
    "Lists are the most versatile of Python's compound data types. A list contains items separated by commas and enclosed within square brackets (`[]`). \n",
    "\n",
    "List can be **modified** and its size can be changed. Items belonging to a list can be of **different data type**, although it is common that they share the same type.\n",
    "\n",
    "The values stored in a list can be accessed using the slice operator (`[ ]` and `[:]`) with **indexes starting at 0** in the beginning of the list and working their way to end -1. \n",
    "\n",
    "The plus `+` sign is the list **concatenation** operator, and the asterisk `*` is the **repetition** operator."
   ]
  },
  {
   "cell_type": "code",
   "execution_count": 154,
   "metadata": {
    "ExecuteTime": {
     "end_time": "2019-03-08T17:11:00.826083Z",
     "start_time": "2019-03-08T17:11:00.820064Z"
    },
    "hidden": true
   },
   "outputs": [
    {
     "data": {
      "text/plain": [
       "['hola', 'adios', 17]"
      ]
     },
     "execution_count": 154,
     "metadata": {},
     "output_type": "execute_result"
    }
   ],
   "source": [
    "l1 = ['hola', 'adios', 17]\n",
    "l1"
   ]
  },
  {
   "cell_type": "code",
   "execution_count": 155,
   "metadata": {
    "ExecuteTime": {
     "end_time": "2019-03-08T17:11:01.014869Z",
     "start_time": "2019-03-08T17:11:01.010235Z"
    },
    "hidden": true
   },
   "outputs": [
    {
     "name": "stdout",
     "output_type": "stream",
     "text": [
      "['adios']\n",
      "17\n"
     ]
    }
   ],
   "source": [
    "print(l1[1:-1])\n",
    "print(l1[2])"
   ]
  },
  {
   "cell_type": "code",
   "execution_count": 173,
   "metadata": {
    "ExecuteTime": {
     "end_time": "2019-03-08T17:22:10.183015Z",
     "start_time": "2019-03-08T17:22:10.178951Z"
    },
    "hidden": true
   },
   "outputs": [
    {
     "name": "stdout",
     "output_type": "stream",
     "text": [
      "['a', 'b', 'c', 'd']\n",
      "['1', '2', '1', '2', '1', '2']\n"
     ]
    }
   ],
   "source": [
    "list_concat = ['a','b'] + ['c','d']\n",
    "print(list_concat)\n",
    "list_mult = ['1','2'] * 3\n",
    "print(list_mult)"
   ]
  },
  {
   "cell_type": "markdown",
   "metadata": {
    "hidden": true
   },
   "source": [
    "You can get the length of a list with the command `len`"
   ]
  },
  {
   "cell_type": "code",
   "execution_count": 349,
   "metadata": {
    "ExecuteTime": {
     "end_time": "2019-03-08T18:56:50.015458Z",
     "start_time": "2019-03-08T18:56:50.011530Z"
    },
    "hidden": true
   },
   "outputs": [
    {
     "name": "stdout",
     "output_type": "stream",
     "text": [
      "6\n"
     ]
    }
   ],
   "source": [
    "print(len(list_mult))"
   ]
  },
  {
   "cell_type": "markdown",
   "metadata": {
    "hidden": true,
    "run_control": {
     "marked": false
    }
   },
   "source": [
    "You can create list of lists. \n",
    "\n",
    "**IMPORTANT**: If we create a new item using a list, `l1`, what it is saved is the pointer to `l1`. So, if we modify it the list containing it, `l2` will automatically be updated. Notice that this not happens with the other variable `a`. Here we show some examples to show how that works, be sure you understand all of them."
   ]
  },
  {
   "cell_type": "code",
   "execution_count": 19,
   "metadata": {
    "ExecuteTime": {
     "end_time": "2019-03-09T12:03:32.548154Z",
     "start_time": "2019-03-09T12:03:32.541624Z"
    },
    "hidden": true
   },
   "outputs": [
    {
     "name": "stdout",
     "output_type": "stream",
     "text": [
      "list_of_lists =  [['a', 'b'], ['a', 'b'], 1]\n"
     ]
    }
   ],
   "source": [
    "l1 = ['a','b'] # We define a list\n",
    "a = 1\n",
    "list_of_lists = [l1,l1,a] # We define a list containing the previous list and other variable, a\n",
    "print('list_of_lists = ',list_of_lists)"
   ]
  },
  {
   "cell_type": "markdown",
   "metadata": {
    "hidden": true
   },
   "source": [
    "Now we change both, the inner list `l1` and the variable `a`"
   ]
  },
  {
   "cell_type": "code",
   "execution_count": 20,
   "metadata": {
    "ExecuteTime": {
     "end_time": "2019-03-09T12:03:34.391086Z",
     "start_time": "2019-03-09T12:03:34.385354Z"
    },
    "hidden": true
   },
   "outputs": [
    {
     "name": "stdout",
     "output_type": "stream",
     "text": [
      "list_of_lists =  [['a', 'b', 'new'], ['a', 'b', 'new'], 1]\n"
     ]
    }
   ],
   "source": [
    "l1 += ['new']\n",
    "a = 5\n",
    "print('list_of_lists = ',list_of_lists)"
   ]
  },
  {
   "cell_type": "markdown",
   "metadata": {
    "hidden": true
   },
   "source": [
    "**Notice that only the part associated to the inner list `l1` has been updated!**\n",
    "\n",
    "When we modify the `l1` part of `list_of_lists`, also `l1` is updated. But this does not happens with the variable `a`."
   ]
  },
  {
   "cell_type": "code",
   "execution_count": 21,
   "metadata": {
    "ExecuteTime": {
     "end_time": "2019-03-09T12:03:36.817523Z",
     "start_time": "2019-03-09T12:03:36.811828Z"
    },
    "hidden": true
   },
   "outputs": [
    {
     "name": "stdout",
     "output_type": "stream",
     "text": [
      "l1 =  ['a', 'b', 'XXXXX'] \n",
      "\n",
      "list_of_lists =  [['a', 'b', 'XXXXX'], ['a', 'b', 'XXXXX'], 1]\n"
     ]
    }
   ],
   "source": [
    "list_of_lists[0][2] = 'XXXXX' # We modify the 'new' input in l1\n",
    "print('l1 = ',l1,'\\n')\n",
    "print('list_of_lists = ',list_of_lists)"
   ]
  },
  {
   "cell_type": "code",
   "execution_count": 22,
   "metadata": {
    "ExecuteTime": {
     "end_time": "2019-03-09T12:04:17.399406Z",
     "start_time": "2019-03-09T12:04:17.391421Z"
    },
    "hidden": true
   },
   "outputs": [
    {
     "name": "stdout",
     "output_type": "stream",
     "text": [
      "a =  5 \n",
      "\n",
      "list_of_lists =  [['a', 'b', 'XXXXX'], ['a', 'b', 'XXXXX'], 999]\n"
     ]
    }
   ],
   "source": [
    "list_of_lists[2] = 999\n",
    "print('a = ',a,'\\n')\n",
    "print('list_of_lists = ',list_of_lists)"
   ]
  },
  {
   "cell_type": "markdown",
   "metadata": {
    "hidden": true
   },
   "source": [
    "You can avoid pointing to the sublist making a **copy of the list**, this is done with the copy method, or using slicing."
   ]
  },
  {
   "cell_type": "code",
   "execution_count": 23,
   "metadata": {
    "ExecuteTime": {
     "end_time": "2019-03-09T12:05:34.852134Z",
     "start_time": "2019-03-09T12:05:34.835134Z"
    },
    "hidden": true
   },
   "outputs": [
    {
     "name": "stdout",
     "output_type": "stream",
     "text": [
      "list_of_lists =  [['a', 'b'], ['a', 'b'], ['a', 'b']]\n"
     ]
    }
   ],
   "source": [
    "l1 = ['a','b']\n",
    "list_of_lists = [l1 , l1.copy() , l1[:]] # Now the last two entries are copies of l1\n",
    "print('list_of_lists = ',list_of_lists)"
   ]
  },
  {
   "cell_type": "markdown",
   "metadata": {
    "hidden": true
   },
   "source": [
    "If we modify the inner list, `l1`, only the first entry is gonna be modified.\n",
    "But if we change any of the other two entries of `list_of_lists`, they won't affect each other or `l1`."
   ]
  },
  {
   "cell_type": "code",
   "execution_count": 25,
   "metadata": {
    "ExecuteTime": {
     "end_time": "2019-03-09T12:07:05.947602Z",
     "start_time": "2019-03-09T12:07:05.942673Z"
    },
    "hidden": true
   },
   "outputs": [
    {
     "name": "stdout",
     "output_type": "stream",
     "text": [
      "l1 =  ['a', 'B'] \n",
      "\n",
      "list_of_lists =  [['a', 'B'], ['a', 'b'], ['a', 'b']]\n"
     ]
    }
   ],
   "source": [
    "l1[1] = 'B'\n",
    "print('l1 = ',l1,'\\n')\n",
    "print('list_of_lists = ',list_of_lists)"
   ]
  },
  {
   "cell_type": "code",
   "execution_count": 26,
   "metadata": {
    "ExecuteTime": {
     "end_time": "2019-03-09T12:08:24.870929Z",
     "start_time": "2019-03-09T12:08:24.847568Z"
    },
    "hidden": true
   },
   "outputs": [
    {
     "name": "stdout",
     "output_type": "stream",
     "text": [
      "l1 =  ['a', 'B'] \n",
      "\n",
      "list_of_lists =  [['a', 'B'], ['a', 'b'], ['a', 'XXX']]\n"
     ]
    }
   ],
   "source": [
    "list_of_lists[2][1] = 'XXX'\n",
    "print('l1 = ',l1,'\\n')\n",
    "print('list_of_lists = ',list_of_lists)"
   ]
  },
  {
   "cell_type": "markdown",
   "metadata": {
    "heading_collapsed": true,
    "hidden": true
   },
   "source": [
    "#### Methods for lists"
   ]
  },
  {
   "cell_type": "markdown",
   "metadata": {
    "hidden": true
   },
   "source": [
    "Python offers methods to work directly on lists. These methods **directly modify the list instead of returning a modified copy of it**.\n",
    "\n",
    "To check the methods that you can apply to an object in Python, you use the method `dir`.\n",
    "\n",
    "The methods starting with '__' are considered private. However, unlike other languages, you can use them."
   ]
  },
  {
   "cell_type": "code",
   "execution_count": 257,
   "metadata": {
    "ExecuteTime": {
     "end_time": "2019-03-08T18:01:13.845836Z",
     "start_time": "2019-03-08T18:01:13.840713Z"
    },
    "hidden": true
   },
   "outputs": [
    {
     "data": {
      "text/plain": [
       "['__add__',\n",
       " '__class__',\n",
       " '__contains__',\n",
       " '__delattr__',\n",
       " '__delitem__',\n",
       " '__dir__',\n",
       " '__doc__',\n",
       " '__eq__',\n",
       " '__format__',\n",
       " '__ge__',\n",
       " '__getattribute__',\n",
       " '__getitem__',\n",
       " '__gt__',\n",
       " '__hash__',\n",
       " '__iadd__',\n",
       " '__imul__',\n",
       " '__init__',\n",
       " '__init_subclass__',\n",
       " '__iter__',\n",
       " '__le__',\n",
       " '__len__',\n",
       " '__lt__',\n",
       " '__mul__',\n",
       " '__ne__',\n",
       " '__new__',\n",
       " '__reduce__',\n",
       " '__reduce_ex__',\n",
       " '__repr__',\n",
       " '__reversed__',\n",
       " '__rmul__',\n",
       " '__setattr__',\n",
       " '__setitem__',\n",
       " '__sizeof__',\n",
       " '__str__',\n",
       " '__subclasshook__',\n",
       " 'append',\n",
       " 'clear',\n",
       " 'copy',\n",
       " 'count',\n",
       " 'extend',\n",
       " 'index',\n",
       " 'insert',\n",
       " 'pop',\n",
       " 'remove',\n",
       " 'reverse',\n",
       " 'sort']"
      ]
     },
     "execution_count": 257,
     "metadata": {},
     "output_type": "execute_result"
    }
   ],
   "source": [
    "l = [1,'a']\n",
    "dir(l)"
   ]
  },
  {
   "cell_type": "markdown",
   "metadata": {
    "hidden": true
   },
   "source": [
    "Some useful methods are\n",
    "- `append`, appends a new element at the end of the list\n",
    "- `insert`, insert a new element in a given index\n",
    "- `remove`, remove first occurrence of an element in list\n",
    "- `pop`, removes element at given index\n",
    "- `reverse`, reverses a list\n",
    "- `sort`, sorts elements of a list\n",
    "- `index`, gives the smallest index in which an element appears"
   ]
  },
  {
   "cell_type": "code",
   "execution_count": 258,
   "metadata": {
    "ExecuteTime": {
     "end_time": "2019-03-08T18:01:15.735871Z",
     "start_time": "2019-03-08T18:01:15.730012Z"
    },
    "hidden": true
   },
   "outputs": [
    {
     "name": "stdout",
     "output_type": "stream",
     "text": [
      "[1, 'a']\n",
      "[1, 'a', 'new']\n"
     ]
    }
   ],
   "source": [
    "l = [1,'a']\n",
    "print(l)\n",
    "l.append('new')\n",
    "print(l)"
   ]
  },
  {
   "cell_type": "code",
   "execution_count": 260,
   "metadata": {
    "ExecuteTime": {
     "end_time": "2019-03-08T18:01:24.730204Z",
     "start_time": "2019-03-08T18:01:24.721425Z"
    },
    "hidden": true
   },
   "outputs": [
    {
     "name": "stdout",
     "output_type": "stream",
     "text": [
      "[1, 'a']\n",
      "[1, 'new', 'a']\n"
     ]
    }
   ],
   "source": [
    "l = [1,'a']\n",
    "print(l)\n",
    "l.insert(1,'new')\n",
    "print(l)"
   ]
  },
  {
   "cell_type": "code",
   "execution_count": 263,
   "metadata": {
    "ExecuteTime": {
     "end_time": "2019-03-08T18:02:25.751884Z",
     "start_time": "2019-03-08T18:02:25.745864Z"
    },
    "hidden": true
   },
   "outputs": [
    {
     "name": "stdout",
     "output_type": "stream",
     "text": [
      "[1, 'a', 'b', 'a']\n",
      "[1, 'b', 'a']\n"
     ]
    }
   ],
   "source": [
    "l = [1,'a','b','a']\n",
    "print(l)\n",
    "l.remove('a')\n",
    "print(l)"
   ]
  },
  {
   "cell_type": "code",
   "execution_count": 265,
   "metadata": {
    "ExecuteTime": {
     "end_time": "2019-03-08T18:02:41.860067Z",
     "start_time": "2019-03-08T18:02:41.855016Z"
    },
    "hidden": true
   },
   "outputs": [
    {
     "name": "stdout",
     "output_type": "stream",
     "text": [
      "[1, 'a', 'b', 'a']\n",
      "[1, 'a', 'b']\n"
     ]
    }
   ],
   "source": [
    "l = [1,'a','b','a']\n",
    "print(l)\n",
    "l.pop(-1)\n",
    "print(l)"
   ]
  },
  {
   "cell_type": "code",
   "execution_count": 266,
   "metadata": {
    "ExecuteTime": {
     "end_time": "2019-03-08T18:03:56.187087Z",
     "start_time": "2019-03-08T18:03:56.180582Z"
    },
    "hidden": true
   },
   "outputs": [
    {
     "name": "stdout",
     "output_type": "stream",
     "text": [
      "[1, 'a', 'b', 'a']\n",
      "['a', 'b', 'a', 1]\n"
     ]
    }
   ],
   "source": [
    "l = [1,'a','b','a']\n",
    "print(l)\n",
    "l.reverse()\n",
    "print(l)"
   ]
  },
  {
   "cell_type": "code",
   "execution_count": 275,
   "metadata": {
    "ExecuteTime": {
     "end_time": "2019-03-08T18:06:04.281841Z",
     "start_time": "2019-03-08T18:06:04.276897Z"
    },
    "hidden": true
   },
   "outputs": [
    {
     "name": "stdout",
     "output_type": "stream",
     "text": [
      "['z', 'a', 'b', 'a', 'ñ', 'h', '.', '1', '0.1']\n",
      "['.', '0.1', '1', 'a', 'a', 'b', 'h', 'z', 'ñ']\n"
     ]
    }
   ],
   "source": [
    "l = ['z','a','b','a','ñ','h','.','1','0.1']\n",
    "print(l)\n",
    "l.sort()\n",
    "print(l)"
   ]
  },
  {
   "cell_type": "markdown",
   "metadata": {
    "hidden": true
   },
   "source": [
    "You need that all the elements have a **compatible type** to apply `sort`."
   ]
  },
  {
   "cell_type": "code",
   "execution_count": 268,
   "metadata": {
    "ExecuteTime": {
     "end_time": "2019-03-08T18:04:21.506801Z",
     "start_time": "2019-03-08T18:04:21.496761Z"
    },
    "hidden": true
   },
   "outputs": [
    {
     "name": "stdout",
     "output_type": "stream",
     "text": [
      "[1, 'a', 'b', 'a']\n"
     ]
    },
    {
     "ename": "TypeError",
     "evalue": "'<' not supported between instances of 'str' and 'int'",
     "output_type": "error",
     "traceback": [
      "\u001b[0;31m---------------------------------------------------------------------------\u001b[0m",
      "\u001b[0;31mTypeError\u001b[0m                                 Traceback (most recent call last)",
      "\u001b[0;32m<ipython-input-268-a603dd9c6ee5>\u001b[0m in \u001b[0;36m<module>\u001b[0;34m\u001b[0m\n\u001b[1;32m      1\u001b[0m \u001b[0ml\u001b[0m \u001b[0;34m=\u001b[0m \u001b[0;34m[\u001b[0m\u001b[0;36m1\u001b[0m\u001b[0;34m,\u001b[0m\u001b[0;34m'a'\u001b[0m\u001b[0;34m,\u001b[0m\u001b[0;34m'b'\u001b[0m\u001b[0;34m,\u001b[0m\u001b[0;34m'a'\u001b[0m\u001b[0;34m]\u001b[0m\u001b[0;34m\u001b[0m\u001b[0;34m\u001b[0m\u001b[0m\n\u001b[1;32m      2\u001b[0m \u001b[0mprint\u001b[0m\u001b[0;34m(\u001b[0m\u001b[0ml\u001b[0m\u001b[0;34m)\u001b[0m\u001b[0;34m\u001b[0m\u001b[0;34m\u001b[0m\u001b[0m\n\u001b[0;32m----> 3\u001b[0;31m \u001b[0ml\u001b[0m\u001b[0;34m.\u001b[0m\u001b[0msort\u001b[0m\u001b[0;34m(\u001b[0m\u001b[0;34m)\u001b[0m\u001b[0;34m\u001b[0m\u001b[0;34m\u001b[0m\u001b[0m\n\u001b[0m\u001b[1;32m      4\u001b[0m \u001b[0mprint\u001b[0m\u001b[0;34m(\u001b[0m\u001b[0ml\u001b[0m\u001b[0;34m)\u001b[0m\u001b[0;34m\u001b[0m\u001b[0;34m\u001b[0m\u001b[0m\n",
      "\u001b[0;31mTypeError\u001b[0m: '<' not supported between instances of 'str' and 'int'"
     ]
    }
   ],
   "source": [
    "l = [1,'a','b','a']\n",
    "print(l)\n",
    "l.sort()\n",
    "print(l)"
   ]
  },
  {
   "cell_type": "code",
   "execution_count": 281,
   "metadata": {
    "ExecuteTime": {
     "end_time": "2019-03-08T18:07:32.760614Z",
     "start_time": "2019-03-08T18:07:32.754429Z"
    },
    "hidden": true
   },
   "outputs": [
    {
     "name": "stdout",
     "output_type": "stream",
     "text": [
      "['z', 'a', 'b', 'a', 'ñ', 'h', '.', '1', '0.1']\n"
     ]
    },
    {
     "data": {
      "text/plain": [
       "5"
      ]
     },
     "execution_count": 281,
     "metadata": {},
     "output_type": "execute_result"
    }
   ],
   "source": [
    "l = ['z','a','b','a','ñ','h','.','1','0.1']\n",
    "print(l)\n",
    "l.index('h')"
   ]
  },
  {
   "cell_type": "code",
   "execution_count": 289,
   "metadata": {
    "ExecuteTime": {
     "end_time": "2019-03-08T18:09:49.251613Z",
     "start_time": "2019-03-08T18:09:49.245423Z"
    },
    "hidden": true
   },
   "outputs": [
    {
     "name": "stdout",
     "output_type": "stream",
     "text": [
      "['a', 'b', 'b', 'c', 'c', 'c']\n"
     ]
    },
    {
     "data": {
      "text/plain": [
       "2"
      ]
     },
     "execution_count": 289,
     "metadata": {},
     "output_type": "execute_result"
    }
   ],
   "source": [
    "l = ['a','b','b','c','c','c']\n",
    "print(l)\n",
    "l.count('b')"
   ]
  },
  {
   "cell_type": "markdown",
   "metadata": {
    "heading_collapsed": true,
    "hidden": true
   },
   "source": [
    "### Strings\n",
    "`split`"
   ]
  },
  {
   "cell_type": "markdown",
   "metadata": {
    "hidden": true
   },
   "source": [
    "Strings in Python are identified as a contiguous set of characters represented in the quotation marks. Python allows for either pairs of single or double quotes. Subsets of strings can be taken using the slice operator (`[ ]` and `[:]` ) with **indexes starting at 0** in the beginning of the string and working their way from -1 at the end.\n",
    "\n",
    "The plus `+` sign is the list **concatenation** operator, and the asterisk `*` is the **repetition** operator."
   ]
  },
  {
   "cell_type": "code",
   "execution_count": 29,
   "metadata": {
    "ExecuteTime": {
     "end_time": "2019-03-09T12:12:38.928444Z",
     "start_time": "2019-03-09T12:12:38.921696Z"
    },
    "hidden": true
   },
   "outputs": [
    {
     "name": "stdout",
     "output_type": "stream",
     "text": [
      "<class 'str'>\n",
      "My name is Manolo\n",
      "My name isManolo\n"
     ]
    }
   ],
   "source": [
    "name = \"Manolo\"\n",
    "print(type(name))\n",
    "print(\"My name is\",name)\n",
    "print(\"My name is\" + name) # Concatenating strings. Notice that in this case we have to add the space manually"
   ]
  },
  {
   "cell_type": "code",
   "execution_count": 70,
   "metadata": {
    "ExecuteTime": {
     "end_time": "2019-03-08T16:21:16.896457Z",
     "start_time": "2019-03-08T16:21:16.891141Z"
    },
    "hidden": true
   },
   "outputs": [
    {
     "name": "stdout",
     "output_type": "stream",
     "text": [
      "Let's play with strings!\n",
      "L\n",
      "play\n",
      " play with strings!\n",
      "ManoloManolo\n",
      "Manolo. Let's play with strings!\n"
     ]
    }
   ],
   "source": [
    "string = \"Let's play with strings!\"\n",
    "\n",
    "print(string)    # Prints complete string\n",
    "print(string[0])        # Prints first character of the string\n",
    "print(string[6:10])      # Prints characters starting from 3rd to 5th\n",
    "print(string[5:])       # Prints string starting from 3rd character\n",
    "print(name*2)    # Prints string two times\n",
    "print(name + '. ' + string)  # Prints concatenated string"
   ]
  },
  {
   "cell_type": "markdown",
   "metadata": {
    "hidden": true
   },
   "source": [
    "The `split` command returns a list of the words of the string, or the string separated by a given character."
   ]
  },
  {
   "cell_type": "code",
   "execution_count": 74,
   "metadata": {
    "ExecuteTime": {
     "end_time": "2019-03-08T16:31:01.781915Z",
     "start_time": "2019-03-08T16:31:01.776735Z"
    },
    "hidden": true
   },
   "outputs": [
    {
     "data": {
      "text/plain": [
       "[\"Let's\", 'play', 'with', 'strings!']"
      ]
     },
     "execution_count": 74,
     "metadata": {},
     "output_type": "execute_result"
    }
   ],
   "source": [
    "string.split()"
   ]
  },
  {
   "cell_type": "code",
   "execution_count": 75,
   "metadata": {
    "ExecuteTime": {
     "end_time": "2019-03-08T16:31:11.138708Z",
     "start_time": "2019-03-08T16:31:11.133795Z"
    },
    "hidden": true,
    "scrolled": false
   },
   "outputs": [
    {
     "data": {
      "text/plain": [
       "[\"Let'\", ' play with ', 'tring', '!']"
      ]
     },
     "execution_count": 75,
     "metadata": {},
     "output_type": "execute_result"
    }
   ],
   "source": [
    "string.split('s')"
   ]
  },
  {
   "cell_type": "markdown",
   "metadata": {
    "heading_collapsed": true,
    "hidden": true
   },
   "source": [
    "### <span style=\"color:red\">**Exercise**</span>"
   ]
  },
  {
   "cell_type": "markdown",
   "metadata": {
    "hidden": true
   },
   "source": [
    "Create two strings, `name` with your first and last name; and an integer variable `age` with your age. \n",
    "Print the following sentece using the two defined variables: \n",
    "\n",
    "\"My name is `first_name`, and my last name is `last_name` and I am `age` years old.\""
   ]
  },
  {
   "cell_type": "markdown",
   "metadata": {
    "heading_collapsed": true,
    "hidden": true
   },
   "source": [
    "### <span style=\"color:red\">**Exercise**</span>"
   ]
  },
  {
   "cell_type": "markdown",
   "metadata": {
    "hidden": true
   },
   "source": [
    "Print the name of the folder where the notebook is located. Hint: You can use the `pwd` bash command."
   ]
  },
  {
   "cell_type": "markdown",
   "metadata": {
    "heading_collapsed": true,
    "hidden": true
   },
   "source": [
    "### Tuples"
   ]
  },
  {
   "cell_type": "markdown",
   "metadata": {
    "hidden": true
   },
   "source": [
    "A `tuple` is another sequence data type that is similar to the list. A tuple consists of a number of values separated by commas. Unlike lists, however, tuples are enclosed within parentheses.\n",
    "\n",
    "The main differences between lists and tuples are: Lists are enclosed in brackets ( `[ ]` ) and their elements and size can be changed, while tuples are enclosed in parentheses ( `( )` ) and cannot be updated. Tuples can be thought of as read-only lists.\n",
    "\n",
    "The plus `+` sign is the list **concatenation** operator, and the asterisk `*` is the **repetition** operator."
   ]
  },
  {
   "cell_type": "code",
   "execution_count": 32,
   "metadata": {
    "ExecuteTime": {
     "end_time": "2019-03-09T12:15:33.072495Z",
     "start_time": "2019-03-09T12:15:33.041537Z"
    },
    "hidden": true
   },
   "outputs": [
    {
     "data": {
      "text/plain": [
       "('Manolo', 56)"
      ]
     },
     "execution_count": 32,
     "metadata": {},
     "output_type": "execute_result"
    }
   ],
   "source": [
    "t = ('Manolo', 56)\n",
    "t"
   ]
  },
  {
   "cell_type": "code",
   "execution_count": 34,
   "metadata": {
    "ExecuteTime": {
     "end_time": "2019-03-09T12:16:05.383175Z",
     "start_time": "2019-03-09T12:16:05.373912Z"
    },
    "hidden": true
   },
   "outputs": [
    {
     "name": "stdout",
     "output_type": "stream",
     "text": [
      "Tuple s =  (56, 'Manolo', ('Manolo', 56))\n",
      "Element of s with index 2 = ('Manolo', 56)\n"
     ]
    }
   ],
   "source": [
    "s = (t[1], t[0], t)\n",
    "print('Tuple s = ',s)\n",
    "print('Element of s with index 2 =',s[2])"
   ]
  },
  {
   "cell_type": "code",
   "execution_count": 39,
   "metadata": {
    "ExecuteTime": {
     "end_time": "2019-03-09T12:19:24.689427Z",
     "start_time": "2019-03-09T12:19:24.682845Z"
    },
    "hidden": true
   },
   "outputs": [
    {
     "name": "stdout",
     "output_type": "stream",
     "text": [
      "Concatenating s and (1,2) =  (56, 'Manolo', ('Manolo', 56), 1, 2)\n",
      "Duplicating s =  (56, 'Manolo', ('Manolo', 56), 56, 'Manolo', ('Manolo', 56))\n"
     ]
    }
   ],
   "source": [
    "print('Concatenating s and (1,2) = ', s + (1,2) )\n",
    "print('Duplicating s = ', s * 2)"
   ]
  },
  {
   "cell_type": "markdown",
   "metadata": {
    "hidden": true
   },
   "source": [
    "**The following code is invalid with tuple, because we attempted to update a tuple, which is not allowed.**"
   ]
  },
  {
   "cell_type": "code",
   "execution_count": 40,
   "metadata": {
    "ExecuteTime": {
     "end_time": "2019-03-09T12:19:40.536555Z",
     "start_time": "2019-03-09T12:19:40.466176Z"
    },
    "hidden": true
   },
   "outputs": [
    {
     "ename": "TypeError",
     "evalue": "'tuple' object does not support item assignment",
     "output_type": "error",
     "traceback": [
      "\u001b[0;31m---------------------------------------------------------------------------\u001b[0m",
      "\u001b[0;31mTypeError\u001b[0m                                 Traceback (most recent call last)",
      "\u001b[0;32m<ipython-input-40-242e211eab40>\u001b[0m in \u001b[0;36m<module>\u001b[0;34m\u001b[0m\n\u001b[0;32m----> 1\u001b[0;31m \u001b[0ms\u001b[0m\u001b[0;34m[\u001b[0m\u001b[0;36m0\u001b[0m\u001b[0;34m]\u001b[0m \u001b[0;34m=\u001b[0m \u001b[0;36m57\u001b[0m\u001b[0;34m\u001b[0m\u001b[0;34m\u001b[0m\u001b[0m\n\u001b[0m",
      "\u001b[0;31mTypeError\u001b[0m: 'tuple' object does not support item assignment"
     ]
    }
   ],
   "source": [
    "s[0] = 57"
   ]
  },
  {
   "cell_type": "markdown",
   "metadata": {
    "ExecuteTime": {
     "end_time": "2019-03-08T17:28:40.732542Z",
     "start_time": "2019-03-08T17:28:40.729113Z"
    },
    "heading_collapsed": true,
    "hidden": true
   },
   "source": [
    "### Dictionaries\n",
    "`keys`,`values`,`items`"
   ]
  },
  {
   "cell_type": "markdown",
   "metadata": {
    "hidden": true
   },
   "source": [
    "A dictionary is a collection which is **unordered**, changeable and indexed. Python dictionaries have **keys** and **values**.\n",
    "A dictionary key can be almost any Python type, but are usually numbers or strings. Values, on the other hand, can be any arbitrary Python object.\n",
    "\n",
    "Dictionaries are enclosed by curly braces (`{ }`) and values can be assigned and accessed using square braces (`[]`)."
   ]
  },
  {
   "cell_type": "code",
   "execution_count": 293,
   "metadata": {
    "ExecuteTime": {
     "end_time": "2019-03-08T18:18:15.366378Z",
     "start_time": "2019-03-08T18:18:15.360657Z"
    },
    "hidden": true
   },
   "outputs": [
    {
     "name": "stdout",
     "output_type": "stream",
     "text": [
      "{'brand': 'Ford', 'model': 'Mustang', 'year': 1964}\n"
     ]
    }
   ],
   "source": [
    "car_dict = {\n",
    "  \"brand\": \"Ford\",\n",
    "  \"model\": \"Mustang\",\n",
    "  \"year\": 1964\n",
    "}\n",
    "print(car_dict)"
   ]
  },
  {
   "cell_type": "markdown",
   "metadata": {
    "hidden": true
   },
   "source": [
    "You can add and update elements as with lists."
   ]
  },
  {
   "cell_type": "code",
   "execution_count": 307,
   "metadata": {
    "ExecuteTime": {
     "end_time": "2019-03-08T18:21:25.153263Z",
     "start_time": "2019-03-08T18:21:25.148135Z"
    },
    "hidden": true
   },
   "outputs": [
    {
     "name": "stdout",
     "output_type": "stream",
     "text": [
      "{'brand': 'Ford', 'model': 'Mustang', 'year': 1999, 'color': 'Purple', 'parts': ['door', 'window', 'wheels']}\n"
     ]
    }
   ],
   "source": [
    "car_dict['color'] = 'Purple'\n",
    "car_dict['parts'] = ['door','window','wheels']\n",
    "car_dict['year'] = 1999\n",
    "print(car_dict)"
   ]
  },
  {
   "cell_type": "markdown",
   "metadata": {
    "hidden": true
   },
   "source": [
    "**You can access directly to the keys, values and tuples of (key,value).** This will be important when looping over dictionaries."
   ]
  },
  {
   "cell_type": "code",
   "execution_count": 311,
   "metadata": {
    "ExecuteTime": {
     "end_time": "2019-03-08T18:22:12.540581Z",
     "start_time": "2019-03-08T18:22:12.533609Z"
    },
    "hidden": true
   },
   "outputs": [
    {
     "data": {
      "text/plain": [
       "dict_keys(['brand', 'model', 'year', 'color', 'parts'])"
      ]
     },
     "execution_count": 311,
     "metadata": {},
     "output_type": "execute_result"
    }
   ],
   "source": [
    "car_dict.keys()"
   ]
  },
  {
   "cell_type": "code",
   "execution_count": 312,
   "metadata": {
    "ExecuteTime": {
     "end_time": "2019-03-08T18:22:13.016360Z",
     "start_time": "2019-03-08T18:22:13.011882Z"
    },
    "hidden": true
   },
   "outputs": [
    {
     "data": {
      "text/plain": [
       "dict_values(['Ford', 'Mustang', 1999, 'Purple', ['door', 'window', 'wheels']])"
      ]
     },
     "execution_count": 312,
     "metadata": {},
     "output_type": "execute_result"
    }
   ],
   "source": [
    "car_dict.values()"
   ]
  },
  {
   "cell_type": "code",
   "execution_count": 313,
   "metadata": {
    "ExecuteTime": {
     "end_time": "2019-03-08T18:22:13.475927Z",
     "start_time": "2019-03-08T18:22:13.468326Z"
    },
    "hidden": true
   },
   "outputs": [
    {
     "data": {
      "text/plain": [
       "dict_items([('brand', 'Ford'), ('model', 'Mustang'), ('year', 1999), ('color', 'Purple'), ('parts', ['door', 'window', 'wheels'])])"
      ]
     },
     "execution_count": 313,
     "metadata": {},
     "output_type": "execute_result"
    }
   ],
   "source": [
    "car_dict.items()"
   ]
  },
  {
   "cell_type": "markdown",
   "metadata": {
    "heading_collapsed": true,
    "hidden": true
   },
   "source": [
    "### Sets\n",
    "`add`,`remove`,`union`,`intersection`"
   ]
  },
  {
   "cell_type": "markdown",
   "metadata": {
    "hidden": true
   },
   "source": [
    "A set is a collection which is **unordered** and **unindexed (faster than lists)**. In Python sets are written with curly brackets. **It automatically eliminates duplicate items in it.** Items belonging to a set can be of different data type.\n",
    "\n",
    "Note: Sets are unordered, so the items will appear in a **random order**."
   ]
  },
  {
   "cell_type": "code",
   "execution_count": 41,
   "metadata": {
    "ExecuteTime": {
     "end_time": "2019-03-09T12:22:05.935843Z",
     "start_time": "2019-03-09T12:22:05.908015Z"
    },
    "hidden": true
   },
   "outputs": [
    {
     "name": "stdout",
     "output_type": "stream",
     "text": [
      "{'banana', 'melon', 'orange', 'apple'}\n"
     ]
    }
   ],
   "source": [
    "fruit_set = {'apple','orange','banana','melon','orange'}\n",
    "print(fruit_set)"
   ]
  },
  {
   "cell_type": "markdown",
   "metadata": {
    "hidden": true
   },
   "source": [
    "You can modify the set with `add` and `remove`."
   ]
  },
  {
   "cell_type": "code",
   "execution_count": 42,
   "metadata": {
    "ExecuteTime": {
     "end_time": "2019-03-09T12:22:10.497555Z",
     "start_time": "2019-03-09T12:22:10.492522Z"
    },
    "hidden": true
   },
   "outputs": [
    {
     "name": "stdout",
     "output_type": "stream",
     "text": [
      "{'banana', 'melon', 'orange', 'apple'}\n",
      "{'orange', 'apple', 'grapes', 'banana', 'melon'}\n",
      "{'orange', 'apple', 'grapes', 'banana'}\n"
     ]
    }
   ],
   "source": [
    "print(fruit_set)\n",
    "fruit_set.add('grapes')\n",
    "print(fruit_set)\n",
    "fruit_set.remove('melon')\n",
    "print(fruit_set)"
   ]
  },
  {
   "cell_type": "markdown",
   "metadata": {
    "hidden": true
   },
   "source": [
    "Python has built-in methods specific to sets like `union` and `intersection`."
   ]
  },
  {
   "cell_type": "code",
   "execution_count": 43,
   "metadata": {
    "ExecuteTime": {
     "end_time": "2019-03-09T12:22:13.921665Z",
     "start_time": "2019-03-09T12:22:13.913748Z"
    },
    "hidden": true
   },
   "outputs": [
    {
     "name": "stdout",
     "output_type": "stream",
     "text": [
      "Set 1 =  {'orange', 'apple', 'grapes', 'banana'}\n",
      "Set 2 =  {'tomato', 'orange', 'apple'}\n",
      "Union =  {'grapes', 'orange', 'tomato', 'banana', 'apple'}\n",
      "Intersection =  {'apple', 'orange'}\n"
     ]
    }
   ],
   "source": [
    "fruit_set_2 = {'apple','orange','tomato'}\n",
    "print('Set 1 = ',fruit_set)\n",
    "print('Set 2 = ',fruit_set_2)\n",
    "print('Union = ',fruit_set.union(fruit_set_2))\n",
    "print('Intersection = ',fruit_set.intersection(fruit_set_2))"
   ]
  },
  {
   "cell_type": "markdown",
   "metadata": {
    "heading_collapsed": true,
    "hidden": true
   },
   "source": [
    "### <span style=\"color:red\">**Exercise**</span>"
   ]
  },
  {
   "cell_type": "markdown",
   "metadata": {
    "hidden": true
   },
   "source": [
    "Obtain all the different characters appearing in the given text."
   ]
  },
  {
   "cell_type": "code",
   "execution_count": 76,
   "metadata": {
    "ExecuteTime": {
     "end_time": "2019-03-09T13:43:45.423575Z",
     "start_time": "2019-03-09T13:43:45.405801Z"
    },
    "hidden": true
   },
   "outputs": [],
   "source": [
    "text = '''\n",
    "The Zen of Python, by Tim Peters\n",
    "\n",
    "Beautiful is better than ugly.\n",
    "Explicit is better than implicit.\n",
    "Simple is better than complex.\n",
    "Complex is better than complicated.\n",
    "Flat is better than nested.\n",
    "Sparse is better than dense.\n",
    "Readability counts.\n",
    "Special cases aren't special enough to break the rules.\n",
    "Although practicality beats purity.\n",
    "Errors should never pass silently.\n",
    "Unless explicitly silenced.\n",
    "In the face of ambiguity, refuse the temptation to guess.\n",
    "There should be one-- and preferably only one --obvious way to do it.\n",
    "Although that way may not be obvious at first unless you're Dutch.\n",
    "Now is better than never.\n",
    "Although never is often better than *right* now.\n",
    "If the implementation is hard to explain, it's a bad idea.\n",
    "If the implementation is easy to explain, it may be a good idea.\n",
    "Namespaces are one honking great idea -- let's do more of those!\n",
    "'''"
   ]
  },
  {
   "cell_type": "markdown",
   "metadata": {
    "ExecuteTime": {
     "end_time": "2019-03-08T18:31:38.715683Z",
     "start_time": "2019-03-08T18:31:38.712472Z"
    },
    "heading_collapsed": true
   },
   "source": [
    "## Control Flow : Conditions and Loops"
   ]
  },
  {
   "cell_type": "markdown",
   "metadata": {
    "heading_collapsed": true,
    "hidden": true
   },
   "source": [
    "### Logical operators\n",
    "`and`,`or`,`not`,`in`"
   ]
  },
  {
   "cell_type": "markdown",
   "metadata": {
    "hidden": true
   },
   "source": [
    "Python supports the usual logical conditions from mathematics:\n",
    "\n",
    "- Equals: `a == b`\n",
    "- Not Equals: `a != b`\n",
    "- Less than: `a < b`\n",
    "- Less than or equal to: `a <= b`\n",
    "- Greater than: `a > b`\n",
    "- Greater than or equal to: `a >= b`\n",
    "- Logical operator and: `cond1 and cond2`\n",
    "- Logical operator or: `cond1 or cond2`\n",
    "- Logical operator negation: `not cond`\n",
    "\n",
    "You can easily check if an element is (not) in a list / tuple / set with the command `in` (`not in`)"
   ]
  },
  {
   "cell_type": "code",
   "execution_count": 334,
   "metadata": {
    "ExecuteTime": {
     "end_time": "2019-03-08T18:42:52.373894Z",
     "start_time": "2019-03-08T18:42:52.368167Z"
    },
    "hidden": true
   },
   "outputs": [
    {
     "name": "stdout",
     "output_type": "stream",
     "text": [
      "True\n",
      "True\n",
      "False\n"
     ]
    }
   ],
   "source": [
    "tup = (1,2,3)\n",
    "print(1 in tup)\n",
    "li = [1,2,3]\n",
    "print(2 in li)\n",
    "se = {1,2,3}\n",
    "print(3 not in se)"
   ]
  },
  {
   "cell_type": "markdown",
   "metadata": {
    "hidden": true
   },
   "source": [
    "You can use logical expressions with strings"
   ]
  },
  {
   "cell_type": "code",
   "execution_count": 31,
   "metadata": {
    "ExecuteTime": {
     "end_time": "2019-03-09T12:13:53.362802Z",
     "start_time": "2019-03-09T12:13:53.356399Z"
    },
    "hidden": true
   },
   "outputs": [
    {
     "name": "stdout",
     "output_type": "stream",
     "text": [
      "True\n",
      "False\n"
     ]
    }
   ],
   "source": [
    "string = 'Do you wanna play?'\n",
    "print('play' in string)\n",
    "print('play ' in string)"
   ]
  },
  {
   "cell_type": "markdown",
   "metadata": {
    "heading_collapsed": true,
    "hidden": true
   },
   "source": [
    "### If ... elif .. else statement\n",
    "`if`,`elif`,`else`"
   ]
  },
  {
   "cell_type": "markdown",
   "metadata": {
    "ExecuteTime": {
     "end_time": "2019-03-08T17:24:05.437431Z",
     "start_time": "2019-03-08T17:24:05.428192Z"
    },
    "hidden": true
   },
   "source": [
    "There can be zero or more `elif` parts, and the `else` part is optional. The keyword `elif` is short for ‘else if’, and is useful to avoid excessive indentation. An `if` … `elif` … `elif` … sequence is a substitute for the `switch` or `case` statements found in other languages.\n",
    "\n",
    "Python relies on **indentation**, using whitespace or tabs, to define scope in the code. Other programming languages often use curly-brackets for this purpose."
   ]
  },
  {
   "cell_type": "code",
   "execution_count": 341,
   "metadata": {
    "ExecuteTime": {
     "end_time": "2019-03-08T18:49:47.118194Z",
     "start_time": "2019-03-08T18:49:47.109596Z"
    },
    "hidden": true
   },
   "outputs": [
    {
     "name": "stdout",
     "output_type": "stream",
     "text": [
      "A\n"
     ]
    }
   ],
   "source": [
    "a = 200\n",
    "b = 33\n",
    "if b > a:\n",
    "    print(\"B\")\n",
    "elif a == b:\n",
    "    print(\"=\")\n",
    "else:\n",
    "    print(\"A\")"
   ]
  },
  {
   "cell_type": "markdown",
   "metadata": {
    "hidden": true
   },
   "source": [
    "Short form, it can be difficult to read if the structure is complex."
   ]
  },
  {
   "cell_type": "code",
   "execution_count": 343,
   "metadata": {
    "ExecuteTime": {
     "end_time": "2019-03-08T18:50:21.993899Z",
     "start_time": "2019-03-08T18:50:21.988792Z"
    },
    "hidden": true
   },
   "outputs": [
    {
     "name": "stdout",
     "output_type": "stream",
     "text": [
      "B\n"
     ]
    }
   ],
   "source": [
    "a = 20\n",
    "b = 33\n",
    "print(\"A\") if a > b else print(\"=\") if a == b else print(\"B\")"
   ]
  },
  {
   "cell_type": "markdown",
   "metadata": {
    "hidden": true
   },
   "source": [
    "Inline form, for simple outputs."
   ]
  },
  {
   "cell_type": "code",
   "execution_count": 347,
   "metadata": {
    "ExecuteTime": {
     "end_time": "2019-03-08T18:52:07.306224Z",
     "start_time": "2019-03-08T18:52:07.302228Z"
    },
    "hidden": true
   },
   "outputs": [
    {
     "name": "stdout",
     "output_type": "stream",
     "text": [
      "=\n"
     ]
    }
   ],
   "source": [
    "a = 35\n",
    "b = 35\n",
    "if a > b : print('A')\n",
    "elif a==b: print('=')\n",
    "else: print('B')"
   ]
  },
  {
   "cell_type": "markdown",
   "metadata": {
    "hidden": true
   },
   "source": [
    "### For\n",
    "`for`,`range`,"
   ]
  },
  {
   "cell_type": "markdown",
   "metadata": {
    "hidden": true
   },
   "source": [
    "The `for` statement in Python differs a bit from what you may be used to in C or Pascal. Rather than always iterating over an arithmetic progression of numbers, Python’s `for` statement iterates over the items of any sequence (that is either a list, a tuple, a dictionary, a set, or a string), in the order that they appear in the sequence.\n",
    "\n",
    "\n",
    "With the `for` loop we can execute a set of statements, once for each item in a list, tuple, set etc.\n",
    "\n",
    "`range([start], stop[, step])` allows us to create an iterator in a range of integers. It is 0-index based, meaning list **indexes start at 0, not 1**. It generates numbers up to, but **not including stop**.\n",
    "\n",
    "In many ways the object returned by `range() behaves as if it is a list, but in fact it isn’t. It is an object which returns the successive items of the desired sequence when you iterate over it, but it doesn’t really make the list, thus saving space.\n",
    "\n",
    "We say such an object is iterable, that is, suitable as a target for functions and constructs that expect something from which they can obtain successive items until the supply is exhausted. We have seen that the for statement is such an iterator. The function `list()` is another; it creates lists from iterables:"
   ]
  },
  {
   "cell_type": "code",
   "execution_count": 46,
   "metadata": {
    "ExecuteTime": {
     "end_time": "2019-03-09T12:37:00.559054Z",
     "start_time": "2019-03-09T12:37:00.516895Z"
    },
    "hidden": true
   },
   "outputs": [
    {
     "data": {
      "text/plain": [
       "[0, 1, 2, 3, 4]"
      ]
     },
     "execution_count": 46,
     "metadata": {},
     "output_type": "execute_result"
    }
   ],
   "source": [
    "list(range(5))"
   ]
  },
  {
   "cell_type": "code",
   "execution_count": 45,
   "metadata": {
    "ExecuteTime": {
     "end_time": "2019-03-09T12:34:43.125542Z",
     "start_time": "2019-03-09T12:34:43.090172Z"
    },
    "hidden": true
   },
   "outputs": [
    {
     "name": "stdout",
     "output_type": "stream",
     "text": [
      "The elements are [2, 5, 8]\n",
      "The sum is 15\n",
      "The product is 80\n"
     ]
    }
   ],
   "source": [
    "summ = 0\n",
    "product = 1\n",
    "l = []\n",
    "\n",
    "for i in range(2,10,3):\n",
    "    l.append(i)\n",
    "    product *= i\n",
    "    summ += i\n",
    "print('The elements are ' + str(l))    \n",
    "print('The sum is ' + str(summ))\n",
    "print('The product is ' + str(product))"
   ]
  },
  {
   "cell_type": "markdown",
   "metadata": {
    "hidden": true
   },
   "source": [
    "You can easily loop over a `dict` using the `keys`, `values`and `items` methods. "
   ]
  },
  {
   "cell_type": "code",
   "execution_count": 378,
   "metadata": {
    "ExecuteTime": {
     "end_time": "2019-03-08T19:15:37.848772Z",
     "start_time": "2019-03-08T19:15:37.841343Z"
    },
    "hidden": true
   },
   "outputs": [
    {
     "name": "stdout",
     "output_type": "stream",
     "text": [
      "brand --> Ford\n",
      "model --> Mustang\n",
      "year --> 1999\n",
      "color --> Purple\n",
      "parts --> ['door', 'window', 'wheels']\n"
     ]
    }
   ],
   "source": [
    "car_dict = {'brand': 'Ford',\n",
    " 'model': 'Mustang',\n",
    " 'year': 1999,\n",
    " 'color': 'Purple',\n",
    " 'parts': ['door', 'window', 'wheels']}\n",
    "\n",
    "for key,val in car_dict.items():\n",
    "    print(key,'-->',val)"
   ]
  },
  {
   "cell_type": "markdown",
   "metadata": {
    "heading_collapsed": true,
    "hidden": true
   },
   "source": [
    "### break and continue statements\n",
    "`break`,`continue`"
   ]
  },
  {
   "cell_type": "markdown",
   "metadata": {
    "hidden": true
   },
   "source": [
    "The `break` statement breaks out of the **innermost** enclosing `for` or `while` loop. Control of the program flows to the statement immediately after the body of the loop."
   ]
  },
  {
   "cell_type": "code",
   "execution_count": 53,
   "metadata": {
    "ExecuteTime": {
     "end_time": "2019-03-09T12:44:33.217723Z",
     "start_time": "2019-03-09T12:44:33.209326Z"
    },
    "hidden": true
   },
   "outputs": [
    {
     "name": "stdout",
     "output_type": "stream",
     "text": [
      "Pizza with onion\n",
      "Yummy!\n",
      "Pizza with tuna\n",
      "Yummy!\n",
      "Pizza with pinneaple\n",
      "NOOOO!. STOP THAT!\n"
     ]
    }
   ],
   "source": [
    "ingredients = ['onion','tuna','pinneaple','olives']\n",
    "for ingredient in ingredients:\n",
    "    print('Pizza with '+ingredient)\n",
    "    if ingredient == 'pinneaple':\n",
    "        print('NOOOO!. STOP THAT!')\n",
    "        break\n",
    "    print('Yummy!')"
   ]
  },
  {
   "cell_type": "markdown",
   "metadata": {
    "hidden": true
   },
   "source": [
    "The `continue` statement continues with the next iteration of the loop."
   ]
  },
  {
   "cell_type": "code",
   "execution_count": 55,
   "metadata": {
    "ExecuteTime": {
     "end_time": "2019-03-09T12:45:03.464375Z",
     "start_time": "2019-03-09T12:45:03.455461Z"
    },
    "hidden": true,
    "scrolled": true
   },
   "outputs": [
    {
     "name": "stdout",
     "output_type": "stream",
     "text": [
      "Pizza with onion\n",
      "Yummy!\n",
      "Pizza with tuna\n",
      "Yummy!\n",
      "Pizza with pinneaple\n",
      "NOOOO!. NOT THIS ONE!\n",
      "Pizza with olives\n",
      "Yummy!\n"
     ]
    }
   ],
   "source": [
    "ingredients = ['onion','tuna','pinneaple','olives']\n",
    "for ingredient in ingredients:\n",
    "    print('Pizza with '+ingredient)\n",
    "    if ingredient == 'pinneaple':\n",
    "        print('NOOOO!. NOT THIS ONE!')\n",
    "        continue\n",
    "    print('Yummy!')"
   ]
  },
  {
   "cell_type": "markdown",
   "metadata": {
    "heading_collapsed": true,
    "hidden": true
   },
   "source": [
    "### Warning: modifying the iterable"
   ]
  },
  {
   "cell_type": "markdown",
   "metadata": {
    "hidden": true
   },
   "source": [
    "If you need to modify the sequence you are iterating over while inside the loop (for example to duplicate selected items), it is recommended that you first make a copy. Iterating over a sequence does not implicitly make a copy. The slice notation makes this especially convenient.\n",
    "\n",
    "For example, if we want to add the squared of every element of the list to the list itself:"
   ]
  },
  {
   "cell_type": "code",
   "execution_count": 64,
   "metadata": {
    "ExecuteTime": {
     "end_time": "2019-03-09T12:52:33.618012Z",
     "start_time": "2019-03-09T12:52:33.613053Z"
    },
    "hidden": true
   },
   "outputs": [
    {
     "name": "stdout",
     "output_type": "stream",
     "text": [
      "[1, 2, 3, 4, 1, 4, 9, 16]\n"
     ]
    }
   ],
   "source": [
    "l = [1,2,3,4]\n",
    "for i in l[:]:\n",
    "    l.append(i**2)\n",
    "print(l)"
   ]
  },
  {
   "cell_type": "markdown",
   "metadata": {
    "hidden": true
   },
   "source": [
    "The next cell would create an infinite loop without the `break` statement. "
   ]
  },
  {
   "cell_type": "code",
   "execution_count": 67,
   "metadata": {
    "ExecuteTime": {
     "end_time": "2019-03-09T12:54:23.880960Z",
     "start_time": "2019-03-09T12:54:23.874111Z"
    },
    "hidden": true
   },
   "outputs": [
    {
     "name": "stdout",
     "output_type": "stream",
     "text": [
      "[1, 2, 3, 4, 1, 4, 9, 16, 1, 16, 81, 256, 1, 256, 6561, 65536, 1, 65536, 43046721, 4294967296]\n"
     ]
    }
   ],
   "source": [
    "l = [1,2,3,4]\n",
    "for i in l:\n",
    "    l.append(i**2)\n",
    "    if i > 10000: break # To avoid the infinite loop.\n",
    "print(l)"
   ]
  },
  {
   "cell_type": "markdown",
   "metadata": {
    "heading_collapsed": true,
    "hidden": true
   },
   "source": [
    "### <span style=\"color:red\">**Exercise**</span>"
   ]
  },
  {
   "cell_type": "markdown",
   "metadata": {
    "ExecuteTime": {
     "end_time": "2019-03-08T19:19:44.318017Z",
     "start_time": "2019-03-08T19:19:44.311457Z"
    },
    "hidden": true
   },
   "source": [
    "Given a dictionary `diet` associating people with their favorite dishes, and a set of dishes with meat, `meat_set`, obtain a set containing the non vegetarian people."
   ]
  },
  {
   "cell_type": "code",
   "execution_count": 389,
   "metadata": {
    "ExecuteTime": {
     "end_time": "2019-03-08T19:24:50.852566Z",
     "start_time": "2019-03-08T19:24:50.848604Z"
    },
    "hidden": true
   },
   "outputs": [],
   "source": [
    "diet = {'Pepe': ['sausage', 'ham'],\n",
    "          'Juancho': ['beef', 'ham'],\n",
    "          'Álvaro': ['beans', 'tomato', 'apple'],\n",
    "          'Leonor': ['ham', 'olives'],\n",
    "          'Sandra': ['lettuce', 'kale', 'tofu']}\n",
    "\n",
    "meat_set = {'sausage', 'ham', 'beef'}"
   ]
  },
  {
   "cell_type": "markdown",
   "metadata": {
    "heading_collapsed": true,
    "hidden": true
   },
   "source": [
    "### List Comprehension"
   ]
  },
  {
   "cell_type": "markdown",
   "metadata": {
    "hidden": true
   },
   "source": [
    "List comprehensions provide a concise way to create lists. It consists of brackets containing an expression followed by a for clause, then zero or more for or if clauses. The expressions can be anything, meaning you can put in all kinds of objects in lists.\n",
    "\n",
    "The result will be a new list resulting from evaluating the expression in the\n",
    "context of the for and if clauses which follow it. \n",
    "\n",
    "`[ expression for item in list if conditional ]`"
   ]
  },
  {
   "cell_type": "code",
   "execution_count": 400,
   "metadata": {
    "ExecuteTime": {
     "end_time": "2019-03-08T19:36:53.684513Z",
     "start_time": "2019-03-08T19:36:53.680177Z"
    },
    "hidden": true
   },
   "outputs": [
    {
     "name": "stdout",
     "output_type": "stream",
     "text": [
      "[0, 1, 4, 9, 16, 25, 36, 49, 64, 81]\n"
     ]
    }
   ],
   "source": [
    "power2 = [x**2 for x in range(10)]\n",
    "print(power2)"
   ]
  },
  {
   "cell_type": "code",
   "execution_count": 401,
   "metadata": {
    "ExecuteTime": {
     "end_time": "2019-03-08T19:36:55.450953Z",
     "start_time": "2019-03-08T19:36:55.446149Z"
    },
    "hidden": true
   },
   "outputs": [
    {
     "name": "stdout",
     "output_type": "stream",
     "text": [
      "[0, 4, 16, 36, 64]\n"
     ]
    }
   ],
   "source": [
    "even_power2 = [x**2 for x in range(10) if x%2==0]\n",
    "print(even_power2)"
   ]
  },
  {
   "cell_type": "markdown",
   "metadata": {
    "hidden": true
   },
   "source": [
    "### <span style=\"color:red\">**Exercise**</span>"
   ]
  },
  {
   "cell_type": "markdown",
   "metadata": {
    "hidden": true
   },
   "source": [
    "Build the list of integers smaller than 100 that are divisible by 3 and 5."
   ]
  },
  {
   "cell_type": "markdown",
   "metadata": {
    "hidden": true
   },
   "source": [
    "### <span style=\"color:red\">**Exercise**</span>"
   ]
  },
  {
   "cell_type": "markdown",
   "metadata": {
    "hidden": true
   },
   "source": [
    "Build a list of all prime integers smaller than 100 using list comprehension."
   ]
  },
  {
   "cell_type": "markdown",
   "metadata": {
    "heading_collapsed": true
   },
   "source": [
    "## Functions\n",
    "`def`,`return`"
   ]
  },
  {
   "cell_type": "markdown",
   "metadata": {
    "hidden": true
   },
   "source": [
    "The function blocks begin with the keyword `def` followed by the function name and parentheses. \n",
    "The function has to be named plus specify what parameter it has. \n",
    "A function can use a number of arguments. Every argument is responding to a parameter in the function. \n",
    "\n",
    "The function often ends by returning a **value or tuple** using `return`. \n"
   ]
  },
  {
   "cell_type": "code",
   "execution_count": 421,
   "metadata": {
    "ExecuteTime": {
     "end_time": "2019-03-08T20:01:08.020147Z",
     "start_time": "2019-03-08T20:01:08.015612Z"
    },
    "hidden": true
   },
   "outputs": [
    {
     "name": "stdout",
     "output_type": "stream",
     "text": [
      "(6, 27)\n"
     ]
    }
   ],
   "source": [
    "def sum_and_power(x,y):\n",
    "    return x+y,x**y\n",
    "print(sum_and_power(3,3))"
   ]
  },
  {
   "cell_type": "markdown",
   "metadata": {
    "hidden": true
   },
   "source": [
    "You can also define functions with **default arguments**. A default argument is an argument that assumes a default value if a value is not provided in the function call for that argument."
   ]
  },
  {
   "cell_type": "code",
   "execution_count": 422,
   "metadata": {
    "ExecuteTime": {
     "end_time": "2019-03-08T20:01:10.142916Z",
     "start_time": "2019-03-08T20:01:10.135950Z"
    },
    "hidden": true
   },
   "outputs": [
    {
     "name": "stdout",
     "output_type": "stream",
     "text": [
      "3\n",
      "6\n"
     ]
    }
   ],
   "source": [
    "def sum_3(x,y,z=None):\n",
    "    if (z==None):\n",
    "        return x+y\n",
    "    else:\n",
    "        return x+y+z\n",
    "    \n",
    "print(sum_3(1, 2))\n",
    "print(sum_3(1, 2, 3))"
   ]
  },
  {
   "cell_type": "markdown",
   "metadata": {
    "heading_collapsed": true,
    "hidden": true
   },
   "source": [
    "### Anonymous functions (lambda functions) and iterables\n",
    "`lambda`"
   ]
  },
  {
   "cell_type": "markdown",
   "metadata": {
    "hidden": true
   },
   "source": [
    "A lambda function is a small anonymous function. A lambda function can take any number of arguments, but can only have one expression. \n",
    "\n",
    "The syntax is: `lambda arguments : expression`"
   ]
  },
  {
   "cell_type": "code",
   "execution_count": 432,
   "metadata": {
    "ExecuteTime": {
     "end_time": "2019-03-08T20:08:14.359753Z",
     "start_time": "2019-03-08T20:08:14.354138Z"
    },
    "hidden": true
   },
   "outputs": [
    {
     "data": {
      "text/plain": [
       "(3, -1)"
      ]
     },
     "execution_count": 432,
     "metadata": {},
     "output_type": "execute_result"
    }
   ],
   "source": [
    "f = lambda x,y: (x+y,x-y)\n",
    "f(1,2)"
   ]
  },
  {
   "cell_type": "markdown",
   "metadata": {
    "hidden": true
   },
   "source": [
    "For example, in the `sort` method a custom `key` function can be supplied to customize the sort order.\n",
    "\n",
    "We will see the usefulness of lambda functions in the next section."
   ]
  },
  {
   "cell_type": "code",
   "execution_count": 10,
   "metadata": {
    "ExecuteTime": {
     "end_time": "2019-03-09T20:57:01.226504Z",
     "start_time": "2019-03-09T20:57:01.217428Z"
    },
    "hidden": true
   },
   "outputs": [
    {
     "name": "stdout",
     "output_type": "stream",
     "text": [
      "[0, 1, 2, 3, 4, 5, 6, 7, 8, 9]\n"
     ]
    },
    {
     "data": {
      "text/plain": [
       "[0, 5, 1, 6, 2, 7, 3, 8, 4, 9]"
      ]
     },
     "execution_count": 10,
     "metadata": {},
     "output_type": "execute_result"
    }
   ],
   "source": [
    "lista = list(range(10))\n",
    "\n",
    "print(lista)\n",
    "lista.sort(key = lambda x:x%5)\n",
    "lista"
   ]
  },
  {
   "cell_type": "markdown",
   "metadata": {},
   "source": [
    "## Iterables\n",
    "`enumerate`,`zip`,`map`,`filter`,"
   ]
  },
  {
   "cell_type": "markdown",
   "metadata": {},
   "source": [
    "An **iterable** is any Python object capable of returning its members one at a time, permitting it to be iterated over in a for-loop.\n",
    "\n",
    "Some examples of methods producing iterables are:\n",
    "* `enumerate`, iterable that yields pairs containing a count (from start, which defaults to zero) and a value yielded by the iterable argument.\n",
    "* `zip`, if multiple iterables are passed, yields tuples containing one element per input."
   ]
  },
  {
   "cell_type": "code",
   "execution_count": 12,
   "metadata": {
    "ExecuteTime": {
     "end_time": "2019-03-09T21:00:56.149508Z",
     "start_time": "2019-03-09T21:00:56.142929Z"
    }
   },
   "outputs": [
    {
     "name": "stdout",
     "output_type": "stream",
     "text": [
      "enumerate(l) = [(0, 'a'), (1, 'b'), (2, 'c')]\n",
      "Element 0 is a\n",
      "Element 1 is b\n",
      "Element 2 is c\n"
     ]
    }
   ],
   "source": [
    "l = ['a','b','c']\n",
    "print('enumerate(l) =',list(enumerate(l)))\n",
    "for i,c in enumerate(l):\n",
    "    print('Element',i,'is',c)"
   ]
  },
  {
   "cell_type": "code",
   "execution_count": 14,
   "metadata": {
    "ExecuteTime": {
     "end_time": "2019-03-09T21:05:07.105581Z",
     "start_time": "2019-03-09T21:05:07.099700Z"
    }
   },
   "outputs": [
    {
     "name": "stdout",
     "output_type": "stream",
     "text": [
      "The film \"Monty Python and the Holy Grail\" was released on 1975.\n",
      "The film \"Life of Brian\" was released on 1979.\n",
      "The film \"The Meaning of Life\" was released on 1983.\n"
     ]
    }
   ],
   "source": [
    "titles = ['Monty Python and the Holy Grail','Life of Brian','The Meaning of Life']\n",
    "years = [1975,1979,1983]\n",
    "for title, year in zip(titles,years):\n",
    "    print('The film \"'+title+'\" was released on '+str(year)+'.')"
   ]
  },
  {
   "cell_type": "markdown",
   "metadata": {},
   "source": [
    "You can use `zip` to easily build a `dict`."
   ]
  },
  {
   "cell_type": "code",
   "execution_count": 15,
   "metadata": {
    "ExecuteTime": {
     "end_time": "2019-03-09T21:05:49.679043Z",
     "start_time": "2019-03-09T21:05:49.672163Z"
    }
   },
   "outputs": [
    {
     "data": {
      "text/plain": [
       "{'Monty Python and the Holy Grail': 1975,\n",
       " 'Life of Brian': 1979,\n",
       " 'The Meaning of Life': 1983}"
      ]
     },
     "execution_count": 15,
     "metadata": {},
     "output_type": "execute_result"
    }
   ],
   "source": [
    "dict(zip(titles,years))"
   ]
  },
  {
   "cell_type": "markdown",
   "metadata": {},
   "source": [
    "The power of lambda functions is better shown when you use them as an anonymous function inside another function, like:\n",
    "- `map`, applies a function to all the items in an iterable (list,set,dic, str), returning an iterable.\n",
    "- `filter`, creates a list of elements of an iterable for which a function returns true, returning an iterable.\n",
    "\n",
    "**Note:** For both of them you have to transform the output into the desired type: list, set, tuple, ..."
   ]
  },
  {
   "cell_type": "markdown",
   "metadata": {},
   "source": [
    "All even integers smaller than 10."
   ]
  },
  {
   "cell_type": "code",
   "execution_count": 439,
   "metadata": {
    "ExecuteTime": {
     "end_time": "2019-03-08T20:13:58.923392Z",
     "start_time": "2019-03-08T20:13:58.917974Z"
    }
   },
   "outputs": [
    {
     "data": {
      "text/plain": [
       "[0, 2, 4, 6, 8]"
      ]
     },
     "execution_count": 439,
     "metadata": {},
     "output_type": "execute_result"
    }
   ],
   "source": [
    "list(filter(lambda x: x%2 == 0, range(0,10)))"
   ]
  },
  {
   "cell_type": "markdown",
   "metadata": {},
   "source": [
    "`map` and `filter` can be applied to a string."
   ]
  },
  {
   "cell_type": "code",
   "execution_count": 470,
   "metadata": {
    "ExecuteTime": {
     "end_time": "2019-03-08T20:27:45.170940Z",
     "start_time": "2019-03-08T20:27:45.161774Z"
    },
    "scrolled": true
   },
   "outputs": [
    {
     "name": "stdout",
     "output_type": "stream",
     "text": [
      "aeiouAEIOU\n"
     ]
    },
    {
     "data": {
      "text/plain": [
       "[['A', True],\n",
       " ['m', False],\n",
       " [' ', False],\n",
       " ['I', True],\n",
       " [' ', False],\n",
       " ['a', True],\n",
       " [' ', False],\n",
       " ['v', False],\n",
       " ['o', True],\n",
       " ['w', False],\n",
       " ['e', True],\n",
       " ['l', False],\n",
       " ['?', False]]"
      ]
     },
     "execution_count": 470,
     "metadata": {},
     "output_type": "execute_result"
    }
   ],
   "source": [
    "vowels = 'aeiou'\n",
    "vowels += vowels.upper() # upper() convert a strings to uppercase\n",
    "print(vowels)\n",
    "list(map(lambda x: [x,x in vowels],'Am I a vowel?'))"
   ]
  },
  {
   "cell_type": "markdown",
   "metadata": {},
   "source": [
    "### <span style=\"color:red\">**Exercise**</span>"
   ]
  },
  {
   "cell_type": "markdown",
   "metadata": {},
   "source": [
    "Using `filter` and lambda functions, create a list of all the positive integers smaller than 100 which contain a 3 (this is: 32, 83, ...)"
   ]
  }
 ],
 "metadata": {
  "jupytext": {
   "text_representation": {
    "extension": ".py",
    "format_name": "percent",
    "format_version": "1.2",
    "jupytext_version": "1.0.1"
   }
  },
  "kernelspec": {
   "display_name": "Python 3",
   "language": "python",
   "name": "python3"
  },
  "language_info": {
   "codemirror_mode": {
    "name": "ipython",
    "version": 3
   },
   "file_extension": ".py",
   "mimetype": "text/x-python",
   "name": "python",
   "nbconvert_exporter": "python",
   "pygments_lexer": "ipython3",
   "version": "3.6.7"
  },
  "varInspector": {
   "cols": {
    "lenName": 16,
    "lenType": 16,
    "lenVar": 40
   },
   "kernels_config": {
    "python": {
     "delete_cmd_postfix": "",
     "delete_cmd_prefix": "del ",
     "library": "var_list.py",
     "varRefreshCmd": "print(var_dic_list())"
    },
    "r": {
     "delete_cmd_postfix": ") ",
     "delete_cmd_prefix": "rm(",
     "library": "var_list.r",
     "varRefreshCmd": "cat(var_dic_list()) "
    }
   },
   "types_to_exclude": [
    "module",
    "function",
    "builtin_function_or_method",
    "instance",
    "_Feature"
   ],
   "window_display": false
  }
 },
 "nbformat": 4,
 "nbformat_minor": 2
}
