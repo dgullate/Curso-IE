{
 "cells": [
  {
   "cell_type": "markdown",
   "metadata": {
    "colab_type": "text",
    "id": "view-in-github"
   },
   "source": [
    "<a href=\"https://colab.research.google.com/github/dgullate/Curso-IE/blob/master/Week_1/pandas_completo.ipynb\" target=\"_parent\"><img src=\"https://colab.research.google.com/assets/colab-badge.svg\" alt=\"Open In Colab\"/></a>"
   ]
  },
  {
   "cell_type": "markdown",
   "metadata": {
    "colab_type": "text",
    "id": "qANQASdRSDnw"
   },
   "source": [
    "# Pandas\n",
    "![alt text](https://pandas.pydata.org/_static/pandas_logo.png)"
   ]
  },
  {
   "cell_type": "markdown",
   "metadata": {
    "colab_type": "text",
    "id": "pGnEiYDtSDny"
   },
   "source": [
    "Pandas is a python library with high level data structures that have many functionalities and are easy to use for the purpose of data analytics.\n",
    "The main objects are called `dataframes`, which are 2-dim data structures similar to a table (and to dataframes in R)."
   ]
  },
  {
   "cell_type": "code",
   "execution_count": null,
   "metadata": {
    "colab": {
     "base_uri": "https://localhost:8080/",
     "height": 119
    },
    "colab_type": "code",
    "id": "d5RYtBY6FyVb",
    "outputId": "7f6148a0-3554-44fe-bbd5-eee3c4f05ddb"
   },
   "outputs": [],
   "source": [
    "!git clone https://github.com/dgullate/Curso-IE.git"
   ]
  },
  {
   "cell_type": "code",
   "execution_count": null,
   "metadata": {
    "colab": {},
    "colab_type": "code",
    "id": "TcUDKjjZXsQJ"
   },
   "outputs": [],
   "source": [
    "import pandas as pd \n",
    "import numpy as np"
   ]
  },
  {
   "cell_type": "markdown",
   "metadata": {
    "colab_type": "text",
    "id": "HPtY6bauSDnz"
   },
   "source": [
    "## Creating dataframes\n",
    "\n",
    "We can create a dataframe from various Series, each of them will be a register in our table. For instance, let's create a table with 3 registries whose columns are `Cost`, `Item Purchased` y `Name`:"
   ]
  },
  {
   "cell_type": "code",
   "execution_count": null,
   "metadata": {
    "colab": {},
    "colab_type": "code",
    "id": "g0IX0jubSDn0"
   },
   "outputs": [],
   "source": [
    "\n",
    "purchase_1 = pd.Series({'Name': 'Chris',\n",
    "                        'Item Purchased': 'Dog Food',\n",
    "                        'Cost': 22.50})\n",
    "purchase_2 = pd.Series({'Name': 'Kevyn',\n",
    "                        'Item Purchased': 'Kitty Litter',\n",
    "                        'Cost': 2.50})\n",
    "purchase_3 = pd.Series({'Name': 'Vinod',\n",
    "                        'Item Purchased': 'Bird Seed',\n",
    "                        'Cost': 5.00})\n",
    "\n",
    "df = pd.DataFrame([purchase_1, purchase_2, purchase_3], index=['Store 1', 'Store 1', 'Store 2'])"
   ]
  },
  {
   "cell_type": "markdown",
   "metadata": {
    "colab_type": "text",
    "id": "VTUGiQW2SDn4"
   },
   "source": [
    "As we see, it is enough to define a Series object for each entry in our table. Moreover, the data types must be consistent on each Series object, so that the table get the right formatting across columns. The `index` argument specifies identifiers for each item. By defect, an index is an integer number, but in this case we used strings."
   ]
  },
  {
   "cell_type": "code",
   "execution_count": null,
   "metadata": {
    "colab": {
     "base_uri": "https://localhost:8080/",
     "height": 142
    },
    "colab_type": "code",
    "id": "xaPJSsTTSDn5",
    "outputId": "13e98ab1-75f3-4c02-c1bf-0d5aab874b87"
   },
   "outputs": [],
   "source": [
    "df.head()"
   ]
  },
  {
   "cell_type": "markdown",
   "metadata": {
    "colab_type": "text",
    "id": "YYgVtlzwSDn_"
   },
   "source": [
    "We can select a subset of elements knowing its index, using `loc`."
   ]
  },
  {
   "cell_type": "code",
   "execution_count": null,
   "metadata": {
    "colab": {
     "base_uri": "https://localhost:8080/",
     "height": 111
    },
    "colab_type": "code",
    "id": "G5c7I4MPSDn_",
    "outputId": "8ef9bc98-5ef9-457a-b31f-7afe230f2f47"
   },
   "outputs": [],
   "source": [
    "df.loc['Store 1']"
   ]
  },
  {
   "cell_type": "markdown",
   "metadata": {
    "colab_type": "text",
    "id": "upMs4c-gSDoD"
   },
   "source": [
    "If moreover we want to select a specific columns, we can do so separating with a comma."
   ]
  },
  {
   "cell_type": "code",
   "execution_count": null,
   "metadata": {
    "colab": {
     "base_uri": "https://localhost:8080/",
     "height": 68
    },
    "colab_type": "code",
    "id": "iH9bkuLNSDoE",
    "outputId": "64921ece-e675-4b85-bec0-715c949c4996"
   },
   "outputs": [],
   "source": [
    "df.loc['Store 1', 'Cost']"
   ]
  },
  {
   "cell_type": "markdown",
   "metadata": {
    "colab_type": "text",
    "id": "vo5NouphSDoI"
   },
   "source": [
    "Even more ! these arguments can be both lists."
   ]
  },
  {
   "cell_type": "code",
   "execution_count": null,
   "metadata": {
    "colab": {
     "base_uri": "https://localhost:8080/",
     "height": 142
    },
    "colab_type": "code",
    "id": "NpIQMgWBSDoJ",
    "outputId": "ac4c0aaf-9caf-43d1-d2fb-9be3b04502ca"
   },
   "outputs": [],
   "source": [
    "df.loc[['Store 1', 'Store 2'], ['Cost','Name']]"
   ]
  },
  {
   "cell_type": "markdown",
   "metadata": {
    "colab_type": "text",
    "id": "I7qx21NySDoM"
   },
   "source": [
    "If instead of accesing via the index, we would like to access by the row or column positions, we can do so using `iloc`. As an example, the following command selects the first 2 rows and all columns.\n"
   ]
  },
  {
   "cell_type": "code",
   "execution_count": null,
   "metadata": {
    "colab": {
     "base_uri": "https://localhost:8080/",
     "height": 142
    },
    "colab_type": "code",
    "id": "qCZqSkjdSDoN",
    "outputId": "7f77a70e-f318-4405-eb35-dd6db99250cd"
   },
   "outputs": [],
   "source": [
    "df.iloc[:3, :]"
   ]
  },
  {
   "cell_type": "markdown",
   "metadata": {
    "colab_type": "text",
    "id": "dH32AbnQSDoR"
   },
   "source": [
    "<br>\n",
    "If we want to erase some item knowing its index, we can do so using `drop`"
   ]
  },
  {
   "cell_type": "code",
   "execution_count": null,
   "metadata": {
    "colab": {
     "base_uri": "https://localhost:8080/",
     "height": 80
    },
    "colab_type": "code",
    "id": "WPPljSsfSDoS",
    "outputId": "d14dc5b3-fef2-4652-937a-082d3a7bdb75"
   },
   "outputs": [],
   "source": [
    "df.drop('Store 1')"
   ]
  },
  {
   "cell_type": "code",
   "execution_count": null,
   "metadata": {
    "colab": {
     "base_uri": "https://localhost:8080/",
     "height": 142
    },
    "colab_type": "code",
    "id": "ANg9xokQSDoV",
    "outputId": "a1c35301-f8ef-42e1-92ab-db4973175b86"
   },
   "outputs": [],
   "source": [
    "df"
   ]
  },
  {
   "cell_type": "markdown",
   "metadata": {
    "colab_type": "text",
    "id": "dpikaPQJSDoZ"
   },
   "source": [
    "What happened ? Didn't we erase it ? The thing is `drop` by default creates a new copy of the dataframe, instead of assigning a new variable `df2 = df.drop(...)` we can specify that the updated dataframe overwrites the same object in memory by using the flag `inplace=True` ."
   ]
  },
  {
   "cell_type": "code",
   "execution_count": null,
   "metadata": {
    "colab": {
     "base_uri": "https://localhost:8080/",
     "height": 80
    },
    "colab_type": "code",
    "id": "KE8p9NlTSDoa",
    "outputId": "33e34c42-cfc7-408b-cf77-b9d8a01fff17"
   },
   "outputs": [],
   "source": [
    "df.drop('Store 1', inplace=True)\n",
    "df"
   ]
  },
  {
   "cell_type": "markdown",
   "metadata": {
    "colab_type": "text",
    "id": "6NTH8dyTSDod"
   },
   "source": [
    "## Loading dataframes"
   ]
  },
  {
   "cell_type": "markdown",
   "metadata": {
    "colab_type": "text",
    "id": "FMQFSPk4SDod"
   },
   "source": [
    "Most of the times we will not work with df in this manner, as they will be lying on some file in a hard disk or web server. Pandas has functions that are able to read and load the contents of these files, and create a dataframe object from them.\n",
    "All of these functions start like `pd.read_...` and there are versions ofr file types in excel, html, json, etc. We will use the most common function  `pd.read_csv`, that reads .csv files(every item int he dataframe is a line in the csv files, and vaues are usually comma separated)."
   ]
  },
  {
   "cell_type": "markdown",
   "metadata": {
    "colab_type": "text",
    "id": "TsPXLqJ9SDoe"
   },
   "source": [
    "Next, we load the data contained in the file `tips.csv` in a  `pandas`  `dataframe` . This database contains information on the cost of meals and tips in restaurants. It has the following variables:\n",
    "\n",
    "* `total_bill`: total proce of the meal.\n",
    "* `tip`: amount given as tip.\n",
    "* `sex`: Gender of the paying person (Female/Male).\n",
    "* `smoker`: Categorical variable indicating whether the payer is a smoker (yes/no).\n",
    "* `day`: Day of thre week.\n",
    "* `time`: Categorical variable indicating if it was lunch or dinner.\n",
    "* `size`: Number of people at the table"
   ]
  },
  {
   "cell_type": "code",
   "execution_count": null,
   "metadata": {
    "colab": {},
    "colab_type": "code",
    "id": "iWf79Fe8SDof"
   },
   "outputs": [],
   "source": [
    "#dir='/content/Curso-IE/Week_1/data/tips.csv'\n",
    "dir='data/tips.csv'\n",
    "df = pd.read_csv(dir)"
   ]
  },
  {
   "cell_type": "markdown",
   "metadata": {
    "colab_type": "text",
    "id": "kRdJ6ddlSDol"
   },
   "source": [
    "Besides the name of the file, a necessary argument, `read_csv` has other optional args. The most common are:\n",
    "    \n",
    "* nrows: only reads a certain number of lines (useful to test before we load a very large file).\n",
    "* usecols: the dataframe will only red these columns.\n",
    "* dtype: specifies the data type for each column (by defect, pandas tries to infer the type automatically by looking at the data)."
   ]
  },
  {
   "cell_type": "markdown",
   "metadata": {
    "colab_type": "text",
    "id": "Z0I7OZFDSDom"
   },
   "source": [
    "## Exploratory analysis"
   ]
  },
  {
   "cell_type": "markdown",
   "metadata": {
    "colab_type": "text",
    "id": "Ktex7B0XSDon"
   },
   "source": [
    "Once we have loaded the data, we can look at them with the following four functions: `head` and `tail` to observe the first and last lines; para  `describe` to obtain basic statistic summary and  `info` to obtain the data types of each columns."
   ]
  },
  {
   "cell_type": "code",
   "execution_count": null,
   "metadata": {
    "colab": {
     "base_uri": "https://localhost:8080/",
     "height": 359
    },
    "colab_type": "code",
    "id": "eXwjKOWISDoo",
    "outputId": "51eb71b4-1857-4311-b5c9-b7542ac4dd7b"
   },
   "outputs": [],
   "source": [
    "df.head(10) #in paranthesis, th enumber of files to be displayed\n",
    "            # by default, that's 5."
   ]
  },
  {
   "cell_type": "code",
   "execution_count": null,
   "metadata": {
    "colab": {
     "base_uri": "https://localhost:8080/",
     "height": 142
    },
    "colab_type": "code",
    "id": "X8pm75uTSDor",
    "outputId": "5d9c922f-829b-48ae-efcd-c629df79d34c"
   },
   "outputs": [],
   "source": [
    "df.tail(3)"
   ]
  },
  {
   "cell_type": "code",
   "execution_count": null,
   "metadata": {
    "colab": {
     "base_uri": "https://localhost:8080/",
     "height": 297
    },
    "colab_type": "code",
    "id": "ulHE7zjASDou",
    "outputId": "ff2e2625-21a4-4a61-846f-382a70d25947"
   },
   "outputs": [],
   "source": [
    "df.describe()"
   ]
  },
  {
   "cell_type": "markdown",
   "metadata": {
    "colab_type": "text",
    "id": "eQ8nXCQkSDo0"
   },
   "source": [
    "For columns with numerica data, `describe` gives information on the number of missing values, the mean value, standard deviation and some quantiles.\n",
    "If the table also contains columns with categorical data,  `describe` by default only gives info in the numerical ones. If want info on the other columns, we must write:"
   ]
  },
  {
   "cell_type": "code",
   "execution_count": null,
   "metadata": {
    "colab": {
     "base_uri": "https://localhost:8080/",
     "height": 390
    },
    "colab_type": "code",
    "id": "i8bbRv8ASDo1",
    "outputId": "823fd21d-5efb-45d2-f45a-b7bc3ece190e"
   },
   "outputs": [],
   "source": [
    "df.describe(include='all')"
   ]
  },
  {
   "cell_type": "markdown",
   "metadata": {
    "colab_type": "text",
    "id": "j7huIwhUSDo4"
   },
   "source": [
    "For categorical variables, we also see information on the number of unique values, the most frequent value and its frequency. For instance, in the gender case, there are 244 entries, the most frquent value is Male (157 out of 244), there's only 2 unique values (so we assume the other value is Female)"
   ]
  },
  {
   "cell_type": "code",
   "execution_count": null,
   "metadata": {
    "colab": {
     "base_uri": "https://localhost:8080/",
     "height": 221
    },
    "colab_type": "code",
    "id": "bS0h0cV6SDo4",
    "outputId": "0eb5c89a-cdac-4775-c645-969606401665"
   },
   "outputs": [],
   "source": [
    "df.info() "
   ]
  },
  {
   "cell_type": "markdown",
   "metadata": {
    "colab_type": "text",
    "id": "RPjFNUrqSDo7"
   },
   "source": [
    "## Querying dataframes"
   ]
  },
  {
   "cell_type": "markdown",
   "metadata": {
    "colab_type": "text",
    "id": "wt-TfZ-sSDo8"
   },
   "source": [
    "So far we have seen how to access certain items and/or certain columns in our dataframe. Let's see now other ways to make more dynamic queries.\n",
    "\n",
    "A quick way to access a whole column is:"
   ]
  },
  {
   "cell_type": "code",
   "execution_count": null,
   "metadata": {
    "colab": {
     "base_uri": "https://localhost:8080/",
     "height": 119
    },
    "colab_type": "code",
    "id": "GACAE2AVSDo8",
    "outputId": "e4c14b42-d7bc-4581-a0a6-840d762943a9"
   },
   "outputs": [],
   "source": [
    "df['tip'].head()"
   ]
  },
  {
   "cell_type": "markdown",
   "metadata": {
    "colab_type": "text",
    "id": "DoLGtKLjSDo_"
   },
   "source": [
    "We could also do"
   ]
  },
  {
   "cell_type": "code",
   "execution_count": null,
   "metadata": {
    "colab": {},
    "colab_type": "code",
    "id": "g0i-9lAaSDo_",
    "outputId": "c5fbb7bf-36f7-4183-b248-1990eb1ded82"
   },
   "outputs": [],
   "source": [
    "df.tip.head()"
   ]
  },
  {
   "cell_type": "markdown",
   "metadata": {
    "colab_type": "text",
    "id": "KusqqmhhSDpC"
   },
   "source": [
    "As pandas is built on numpy, we can use a very similar syntax."
   ]
  },
  {
   "cell_type": "code",
   "execution_count": null,
   "metadata": {
    "colab": {
     "base_uri": "https://localhost:8080/",
     "height": 34
    },
    "colab_type": "code",
    "id": "LKfKZOoESDpD",
    "outputId": "5805d375-6edd-4beb-cc9f-43e27ce00d7b"
   },
   "outputs": [],
   "source": [
    "df['size'].median(), df['size'].mean()"
   ]
  },
  {
   "cell_type": "code",
   "execution_count": null,
   "metadata": {
    "colab": {},
    "colab_type": "code",
    "id": "OXzZvd7wSDpG"
   },
   "outputs": [],
   "source": [
    "df['size'] > df['size'].median()"
   ]
  },
  {
   "cell_type": "markdown",
   "metadata": {
    "colab_type": "text",
    "id": "X16vFFZ3SDpJ"
   },
   "source": [
    "The previous command has generated a Boolean array, so we can use it as a mask to select rows in our dataframe !"
   ]
  },
  {
   "cell_type": "code",
   "execution_count": null,
   "metadata": {
    "colab": {
     "base_uri": "https://localhost:8080/",
     "height": 204
    },
    "colab_type": "code",
    "id": "F1lF0ZTcSDpJ",
    "outputId": "e0482e21-3cf6-4c06-81a5-c03d239b197b"
   },
   "outputs": [],
   "source": [
    "large_tables = df[ df['size'] > df['size'].median() ]\n",
    "large_tables.head()"
   ]
  },
  {
   "cell_type": "markdown",
   "metadata": {
    "colab_type": "text",
    "id": "CQmx7hWMSDpN"
   },
   "source": [
    "We selected those tables that are larger than the median value, but we see they keep the original index. If we want to reset the index we must do"
   ]
  },
  {
   "cell_type": "code",
   "execution_count": null,
   "metadata": {
    "colab": {
     "base_uri": "https://localhost:8080/",
     "height": 204
    },
    "colab_type": "code",
    "id": "qs8CB6RgSDpO",
    "outputId": "cd9265a0-503a-44d0-bdeb-deb47cd2558a"
   },
   "outputs": [],
   "source": [
    "large_tables.reset_index(inplace=True, drop=True)\n",
    "large_tables.head()"
   ]
  },
  {
   "cell_type": "markdown",
   "metadata": {
    "colab_type": "text",
    "id": "8VnxSshiSDpQ"
   },
   "source": [
    "The criteria to filter and select rows can be as complex as we wish, using logic operators."
   ]
  },
  {
   "cell_type": "code",
   "execution_count": null,
   "metadata": {
    "colab": {
     "base_uri": "https://localhost:8080/",
     "height": 204
    },
    "colab_type": "code",
    "id": "JIGHPStSSDpR",
    "outputId": "4bd8b231-00dc-4cf0-86fa-08acd1e5f1c8"
   },
   "outputs": [],
   "source": [
    "df[ (df['size'] > df['size'].median()) & (df['sex'] == 'Female') ].head()"
   ]
  },
  {
   "cell_type": "markdown",
   "metadata": {
    "colab_type": "text",
    "id": "sJOgAH9ESDpT"
   },
   "source": [
    "\n",
    "##    Exercise 1\n",
    "<img src=\"https://www.shareicon.net/data/256x256/2016/06/09/778169_game_512x512.png\" alt=\"Exercise\" width=\"50\"/> \n",
    "\n",
    "\n",
    "Load the table `olympics.csv`. If you look at the file, you must skip the first row (use `skiprows`). Moreover, we can tell pandas to use the first column as index (index_col=0). Let's to some basic exploratory analysis of the data."
   ]
  },
  {
   "cell_type": "code",
   "execution_count": null,
   "metadata": {
    "colab": {},
    "colab_type": "code",
    "id": "vgFeOQBcSDpT"
   },
   "outputs": [],
   "source": [
    "#dir='/content/Curso-IE/Week_1/data/olympics.csv'\n",
    "dir='data/olympics.csv'\n",
    "olympics = pd.read_csv(dir, skiprows=1, index_col=0)"
   ]
  },
  {
   "cell_type": "markdown",
   "metadata": {
    "colab_type": "text",
    "id": "uwG0rGhkSDpV"
   },
   "source": [
    "To help us, run the following code to rename the columns."
   ]
  },
  {
   "cell_type": "code",
   "execution_count": null,
   "metadata": {
    "colab": {
     "base_uri": "https://localhost:8080/",
     "height": 204
    },
    "colab_type": "code",
    "id": "38kzJtAjSDpV",
    "outputId": "e8221e66-e3ef-4e42-8738-4f2421c643a3"
   },
   "outputs": [],
   "source": [
    "for col in olympics.columns:\n",
    "    if col[:2]=='01':\n",
    "        olympics.rename(columns={col:'Gold' + col[4:]}, inplace=True)\n",
    "    if col[:2]=='02':\n",
    "        olympics.rename(columns={col:'Silver' + col[4:]}, inplace=True)\n",
    "    if col[:2]=='03':\n",
    "        olympics.rename(columns={col:'Bronze' + col[4:]}, inplace=True)\n",
    "    if col[:1]=='№':\n",
    "        olympics.rename(columns={col:'#' + col[1:]}, inplace=True) \n",
    "        \n",
    "names_ids = olympics.index.str.split('\\s\\(') # split the index by '('\n",
    "\n",
    "olympics.index = names_ids.str[0] # the [0] element is the country name (new index) \n",
    "olympics['ID'] = names_ids.str[1].str[:3] # the [1] element is the abbreviation or ID (take first 3 characters from that)\n",
    "        \n",
    "olympics =  olympics.drop('Totals')\n",
    "olympics.head()"
   ]
  },
  {
   "cell_type": "code",
   "execution_count": null,
   "metadata": {
    "colab": {
     "base_uri": "https://localhost:8080/",
     "height": 297
    },
    "colab_type": "code",
    "id": "AamEW68CSDpY",
    "outputId": "230c4115-3a08-49a9-f645-4b9e0422f239"
   },
   "outputs": [],
   "source": [
    "olympics.describe()"
   ]
  },
  {
   "cell_type": "markdown",
   "metadata": {
    "colab_type": "text",
    "id": "pQkHLR7fSDpb"
   },
   "source": [
    "**1.1** ¿Which country obtained the highest number of gold medals in the Summer Olympic Games ?"
   ]
  },
  {
   "cell_type": "code",
   "execution_count": null,
   "metadata": {
    "colab": {
     "base_uri": "https://localhost:8080/",
     "height": 80
    },
    "colab_type": "code",
    "id": "N8GiaOezSDpd",
    "outputId": "4a0328ec-4cdb-4b86-ceb1-6f773b523b1b"
   },
   "outputs": [],
   "source": [
    "#your answer here"
   ]
  },
  {
   "cell_type": "markdown",
   "metadata": {
    "colab_type": "text",
    "id": "KphGpHAxSDpl"
   },
   "source": [
    "**1.2** List the countries that have obtained more medals (each medal counts the same) in the winter that in the summer games."
   ]
  },
  {
   "cell_type": "code",
   "execution_count": null,
   "metadata": {
    "colab": {
     "base_uri": "https://localhost:8080/",
     "height": 34
    },
    "colab_type": "code",
    "id": "yI6X0my5SDpn",
    "outputId": "36ab07eb-36af-47c8-8d5f-acbc6220d191"
   },
   "outputs": [],
   "source": [
    "## your answer here"
   ]
  },
  {
   "cell_type": "markdown",
   "metadata": {
    "colab_type": "text",
    "id": "3MWdv5-QSDpr"
   },
   "source": [
    "## Creating new columns and applying functions on columns"
   ]
  },
  {
   "cell_type": "markdown",
   "metadata": {
    "colab_type": "text",
    "id": "IY7xoJSDSDpr"
   },
   "source": [
    "To add a new column to our table, it is as simple as assigning a new column value."
   ]
  },
  {
   "cell_type": "code",
   "execution_count": null,
   "metadata": {
    "colab": {},
    "colab_type": "code",
    "id": "Ph13pv5VSDps"
   },
   "outputs": [],
   "source": [
    "df['new_col'] = None\n",
    "df.head()"
   ]
  },
  {
   "cell_type": "markdown",
   "metadata": {
    "colab_type": "text",
    "id": "ETumS-D5SDpu"
   },
   "source": [
    "We can also create columns using numpy functions. For instance, we will fill the new column with random numbers sampled from a normal distribution."
   ]
  },
  {
   "cell_type": "code",
   "execution_count": null,
   "metadata": {
    "colab": {
     "base_uri": "https://localhost:8080/",
     "height": 204
    },
    "colab_type": "code",
    "id": "av00grFnSDpv",
    "outputId": "2d7279f0-2831-4f25-ed88-15e2490bcf8f"
   },
   "outputs": [],
   "source": [
    "df['new_col'] = np.random.randn(len(df))\n",
    "df.head()"
   ]
  },
  {
   "cell_type": "markdown",
   "metadata": {
    "colab_type": "text",
    "id": "3ZnwkjiySDpx"
   },
   "source": [
    "We can also combine other columns of the dataframe."
   ]
  },
  {
   "cell_type": "code",
   "execution_count": null,
   "metadata": {
    "colab": {},
    "colab_type": "code",
    "id": "XjnkrSiESDpy",
    "outputId": "b09fe5ad-2780-4cda-da34-4d4e98c2a3be"
   },
   "outputs": [],
   "source": [
    "del df['new_col']\n",
    "df['total_bill_rand'] = np.random.randn(len(df)) + df['total_bill']\n",
    "df.head()"
   ]
  },
  {
   "cell_type": "markdown",
   "metadata": {
    "colab_type": "text",
    "id": "6aGKnkk1SDp3"
   },
   "source": [
    "A very important method in pandas is `apply`, which allows to apply any function( from numpy, pandas or defined by us) on a given column or list of columns. \n",
    "\n",
    "For instance, we can calculate the square root of the columns total_bill, tip y total_bill_rand:"
   ]
  },
  {
   "cell_type": "code",
   "execution_count": null,
   "metadata": {
    "colab": {},
    "colab_type": "code",
    "id": "JlmVi7R5SDp3",
    "outputId": "e00dd9e4-b9d2-43af-f42f-abbbd57bbb00"
   },
   "outputs": [],
   "source": [
    "df[['total_bill', 'tip', 'total_bill_rand']].apply(np.sqrt).head()"
   ]
  },
  {
   "cell_type": "code",
   "execution_count": null,
   "metadata": {
    "colab": {},
    "colab_type": "code",
    "id": "1Vh2HvjYSDp6",
    "outputId": "f29fc2d3-0eb8-4d48-8f6d-8177968dc379"
   },
   "outputs": [],
   "source": [
    "df.apply(np.max)"
   ]
  },
  {
   "cell_type": "markdown",
   "metadata": {
    "colab_type": "text",
    "id": "ZeIe4VLuSDp9"
   },
   "source": [
    "LEt's see another example with a user defined function_"
   ]
  },
  {
   "cell_type": "code",
   "execution_count": null,
   "metadata": {
    "colab": {},
    "colab_type": "code",
    "id": "NZBEy9heSDp-"
   },
   "outputs": [],
   "source": [
    "def small_filter(x, y):   \n",
    "    x[x<y] = 0\n",
    "    return x"
   ]
  },
  {
   "cell_type": "code",
   "execution_count": null,
   "metadata": {
    "colab": {},
    "colab_type": "code",
    "id": "DP7BdVrhSDqC",
    "outputId": "827762ab-ef06-4b66-be22-9599ebc7252e"
   },
   "outputs": [],
   "source": [
    "df[['total_bill']].apply(small_filter, args=[df['total_bill'].mean()]).head()"
   ]
  },
  {
   "cell_type": "markdown",
   "metadata": {
    "colab_type": "text",
    "id": "6eT8abKZqxwn"
   },
   "source": [
    "Another way to do it is to use `where`:  if the condition is True, the value is unchanged, but if it is False, the argument is replaced with the alternative argument."
   ]
  },
  {
   "cell_type": "code",
   "execution_count": null,
   "metadata": {
    "colab": {
     "base_uri": "https://localhost:8080/",
     "height": 119
    },
    "colab_type": "code",
    "id": "l4vA6vLTp_HO",
    "outputId": "4ca52819-66c0-4c8a-8387-493e8e7ecb4a"
   },
   "outputs": [],
   "source": [
    "mask=df['total_bill']>df['total_bill'].mean()\n",
    "df['total_bill'].where(mask,0).head()"
   ]
  },
  {
   "cell_type": "markdown",
   "metadata": {
    "colab_type": "text",
    "id": "8BZTcJwbSDqH"
   },
   "source": [
    "## Exercise 2\n",
    "<img src=\"https://www.shareicon.net/data/256x256/2016/06/09/778169_game_512x512.png\" alt=\"Exercise\" width=\"50\"/> \n",
    "\n",
    "We work on the olympics dataset. Get the countries that have obtained more points in winter than summer games. Points are calculated in the following way: bronze 1, silver 2, gold 3."
   ]
  },
  {
   "cell_type": "code",
   "execution_count": null,
   "metadata": {
    "colab": {},
    "colab_type": "code",
    "id": "-ZI3myrcSDqI"
   },
   "outputs": [],
   "source": [
    "# Create 2 new columns points_summer and points_winter\n",
    "# Your answer here"
   ]
  },
  {
   "cell_type": "code",
   "execution_count": null,
   "metadata": {
    "colab": {},
    "colab_type": "code",
    "id": "zKPV12xKSDqJ",
    "outputId": "9d514673-c1ed-4189-cf28-19b3ee606001"
   },
   "outputs": [],
   "source": [
    "# Query your dataframe to find out which countries have less points_summer \n",
    "# than points_winter\n",
    "\n",
    "#Your answer here"
   ]
  },
  {
   "cell_type": "markdown",
   "metadata": {
    "colab_type": "text",
    "id": "oFo9N1UDSDqL"
   },
   "source": [
    "**2.1** ¿Which country has the smallest relative diference between summer and winter points, i.e. compute for every country\n",
    "$$\n",
    "dif\\_rel = \\frac{|points\\_ summer - points\\_winter|}{points\\_summer + points\\_winter} \n",
    "$$"
   ]
  },
  {
   "cell_type": "code",
   "execution_count": null,
   "metadata": {
    "colab": {},
    "colab_type": "code",
    "id": "RujVfR8CSDqL"
   },
   "outputs": [],
   "source": [
    "# Create a new column with the result of the formula above\n",
    "\n",
    "#Your answer here"
   ]
  },
  {
   "cell_type": "code",
   "execution_count": null,
   "metadata": {
    "colab": {},
    "colab_type": "code",
    "id": "cXCAn6aiSDqM",
    "outputId": "9c6cb31a-6fc3-4a5c-f4b1-4145a19a1bc8"
   },
   "outputs": [],
   "source": [
    "#find the country that has the minimum value of that new column\n",
    "\n",
    "#Your answer here"
   ]
  },
  {
   "cell_type": "markdown",
   "metadata": {
    "colab_type": "text",
    "id": "aW4fztJdSDqO"
   },
   "source": [
    "## Merging dataframes\n",
    "\n",
    "It often happens that relevant information is spread across different tables. For this purpose, pandas has the `merge` operation, that allows to bring together items coming from different tables (a bit like a join in SQL). Let us start with some example data."
   ]
  },
  {
   "cell_type": "code",
   "execution_count": null,
   "metadata": {
    "colab": {
     "base_uri": "https://localhost:8080/",
     "height": 204
    },
    "colab_type": "code",
    "id": "e7k0Lt1HSDqP",
    "outputId": "c8da1649-9e27-41b6-98a5-fed4a1945989"
   },
   "outputs": [],
   "source": [
    "staff_df = pd.DataFrame([{'Name': 'Kelly', 'Role': 'Director of HR'},\n",
    "                         {'Name': 'Sally', 'Role': 'Course liasion'},\n",
    "                         {'Name': 'James', 'Role': 'Grader'}])\n",
    "staff_df = staff_df.set_index('Name')\n",
    "student_df = pd.DataFrame([{'Name': 'James', 'School': 'Business'},\n",
    "                           {'Name': 'Mike', 'School': 'Law'},\n",
    "                           {'Name': 'Sally', 'School': 'Engineering'}])\n",
    "student_df = student_df.set_index('Name')\n",
    "print(staff_df.head())\n",
    "print()\n",
    "print(student_df.head())"
   ]
  },
  {
   "cell_type": "markdown",
   "metadata": {
    "colab_type": "text",
    "id": "Pd6pctTTSDqR"
   },
   "source": [
    "`merge` needs to input 2 tables, the necessary argument `how`, and one column on each table that will be used to establish the correspondence (by default, the index will be taken unless otherwise specified.\n",
    "\n",
    "Let us see the different options that the `how` argument can take.\n",
    "\n",
    "<img src=\"https://media.geeksforgeeks.org/wp-content/uploads/joinimages.png\"  width=\"400\"/> \n",
    "\n",
    "With `outer` the combined table has all the items from the left table (`staff_df`) and the right table (`school_df`) even if there is no matching. For instance, we see that James is Grader on the left table, and he belongs to the Business Faculty, so both values appear in the combined table. But Kelly only appears in the Role table, so in the combined table information on her Faculty is missing (NaN):"
   ]
  },
  {
   "cell_type": "code",
   "execution_count": null,
   "metadata": {
    "colab": {
     "base_uri": "https://localhost:8080/",
     "height": 204
    },
    "colab_type": "code",
    "id": "M6r4hecySDqR",
    "outputId": "6abceece-10a2-41f9-c0f5-bbc500b8890a"
   },
   "outputs": [],
   "source": [
    "pd.merge(staff_df, student_df, how='outer', left_index=True, right_index=True)"
   ]
  },
  {
   "cell_type": "code",
   "execution_count": null,
   "metadata": {
    "colab": {
     "base_uri": "https://localhost:8080/",
     "height": 142
    },
    "colab_type": "code",
    "id": "Drv20gusSDqU",
    "outputId": "3ea72e25-a8e1-49f1-db57-ca495ec5b5de"
   },
   "outputs": [],
   "source": [
    "pd.merge(staff_df, student_df, how='inner', left_index=True, right_index=True)"
   ]
  },
  {
   "cell_type": "markdown",
   "metadata": {
    "colab_type": "text",
    "id": "t_mfnNhKSDqW"
   },
   "source": [
    "`left` only takes the rows that appear in the left table, and tries to bring in information on the other columns from the right table (whenever possible):"
   ]
  },
  {
   "cell_type": "code",
   "execution_count": null,
   "metadata": {
    "colab": {
     "base_uri": "https://localhost:8080/",
     "height": 173
    },
    "colab_type": "code",
    "id": "b722i40ZSDqW",
    "outputId": "8e355f8b-7e6b-4ab6-9c9d-470f7b11b7bc"
   },
   "outputs": [],
   "source": [
    "pd.merge(staff_df, student_df, how='left', left_index=True, right_index=True)"
   ]
  },
  {
   "cell_type": "markdown",
   "metadata": {
    "colab_type": "text",
    "id": "f6lc4G4SSDqY"
   },
   "source": [
    "`right` works the same as `left`:"
   ]
  },
  {
   "cell_type": "code",
   "execution_count": null,
   "metadata": {
    "colab": {
     "base_uri": "https://localhost:8080/",
     "height": 173
    },
    "colab_type": "code",
    "id": "iCUBFj3jSDqZ",
    "outputId": "ff84e164-b52f-4509-9605-2da4fdd30b40"
   },
   "outputs": [],
   "source": [
    "pd.merge(staff_df, student_df, how='right', left_index=True, right_index=True)"
   ]
  },
  {
   "cell_type": "markdown",
   "metadata": {
    "colab_type": "text",
    "id": "3Ku8aLdvSDqb"
   },
   "source": [
    "Now we will reset the indices and perform a `merge` specifying whicvh columns we want to use as key in each table:"
   ]
  },
  {
   "cell_type": "code",
   "execution_count": null,
   "metadata": {
    "colab": {
     "base_uri": "https://localhost:8080/",
     "height": 142
    },
    "colab_type": "code",
    "id": "UNaMtsnRSDqb",
    "outputId": "02492567-6c1a-4ae4-a8be-808f7acf01cf"
   },
   "outputs": [],
   "source": [
    "staff_df = staff_df.reset_index()\n",
    "student_df = student_df.reset_index()\n",
    "pd.merge(staff_df, student_df, how='left', left_on='Name', right_on='Name')"
   ]
  },
  {
   "cell_type": "markdown",
   "metadata": {
    "colab_type": "text",
    "id": "fQwhnvejSDqe"
   },
   "source": [
    "One small thing: note that if other than the key column, there are other columns on the two tables that have the same name, when merging they will be given different names in order to avoid collisions."
   ]
  },
  {
   "cell_type": "code",
   "execution_count": null,
   "metadata": {
    "colab": {
     "base_uri": "https://localhost:8080/",
     "height": 170
    },
    "colab_type": "code",
    "id": "8rEl56kwSDqf",
    "outputId": "3f9803c5-d6c7-4836-f089-98e31d39570c"
   },
   "outputs": [],
   "source": [
    "staff_df = pd.DataFrame([{'Name': 'Kelly', 'Role': 'Director of HR', 'Location': 'State Street'},\n",
    "                         {'Name': 'Sally', 'Role': 'Course liasion', 'Location': 'Washington Avenue'},\n",
    "                         {'Name': 'James', 'Role': 'Grader', 'Location': 'Washington Avenue'}])\n",
    "student_df = pd.DataFrame([{'Name': 'James', 'School': 'Business', 'Location': '1024 Billiard Avenue'},\n",
    "                           {'Name': 'Mike', 'School': 'Law', 'Location': 'Fraternity House #22'},\n",
    "                           {'Name': 'Sally', 'School': 'Engineering', 'Location': '512 Wilson Crescent'}])\n",
    "\n",
    "print(staff_df.head())\n",
    "print()\n",
    "print(student_df.head())"
   ]
  },
  {
   "cell_type": "code",
   "execution_count": null,
   "metadata": {
    "colab": {},
    "colab_type": "code",
    "id": "hLgs--PpSDqh",
    "outputId": "3b8a5c8e-f7e2-492f-80fe-7e575431f20c"
   },
   "outputs": [],
   "source": [
    "pd.merge(staff_df, student_df, how='left', left_on='Name', right_on='Name')"
   ]
  },
  {
   "cell_type": "markdown",
   "metadata": {
    "colab_type": "text",
    "id": "PY-aCtzJSDqk"
   },
   "source": [
    "We can also merge using more than one column as keys for matching:"
   ]
  },
  {
   "cell_type": "code",
   "execution_count": null,
   "metadata": {
    "colab": {
     "base_uri": "https://localhost:8080/",
     "height": 170
    },
    "colab_type": "code",
    "id": "Gl-ybSGbSDqm",
    "outputId": "2fee6d63-2517-4450-812e-f7b5b14bdfff"
   },
   "outputs": [],
   "source": [
    "staff_df = pd.DataFrame([{'First Name': 'Kelly', 'Last Name': 'Desjardins', 'Role': 'Director of HR'},\n",
    "                         {'First Name': 'Sally', 'Last Name': 'Brooks', 'Role': 'Course liasion'},\n",
    "                         {'First Name': 'James', 'Last Name': 'Wilde', 'Role': 'Grader'}])\n",
    "student_df = pd.DataFrame([{'First Name': 'James', 'Last Name': 'Hammond', 'School': 'Business'},\n",
    "                           {'First Name': 'Mike', 'Last Name': 'Smith', 'School': 'Law'},\n",
    "                           {'First Name': 'Sally', 'Last Name': 'Brooks', 'School': 'Engineering'}])\n",
    "print(staff_df)\n",
    "print()\n",
    "print(student_df)\n"
   ]
  },
  {
   "cell_type": "code",
   "execution_count": null,
   "metadata": {},
   "outputs": [],
   "source": [
    "pd.merge(staff_df, student_df, how='inner', left_on=['First Name','Last Name'], right_on=['First Name','Last Name'])\n"
   ]
  },
  {
   "cell_type": "markdown",
   "metadata": {
    "colab_type": "text",
    "id": "zwK0uTSOSDqt"
   },
   "source": [
    "## Exercise 3\n",
    "<img src=\"https://www.shareicon.net/data/256x256/2016/06/09/778169_game_512x512.png\" alt=\"Exercise\" width=\"50\"/> \n",
    "\n",
    "Let's go back to the Olympics. Load the table  `population.csv` that provides the population of each country across a number of years. To make things simple, we will only keep the populations in year 2016 (you need to select them).\n",
    "Once you have done that, combine the tables olympics and population (such that there cannot be any missing values). Make sure in the combined table we have at least the following 3 columns: name of the country, number of gold medals and population.\n",
    "\n",
    "**3.1** Which country has the higher ratio of gold medals per capita ?\n"
   ]
  },
  {
   "cell_type": "code",
   "execution_count": null,
   "metadata": {
    "colab": {
     "base_uri": "https://localhost:8080/",
     "height": 359
    },
    "colab_type": "code",
    "id": "DdfDQUrgSDq9",
    "outputId": "9fd1771f-c52a-47a1-c72e-74534b5c7b8a"
   },
   "outputs": [],
   "source": [
    "# Your answer here"
   ]
  },
  {
   "cell_type": "markdown",
   "metadata": {
    "colab_type": "text",
    "id": "QVjBsYZhxDu_"
   },
   "source": [
    "**3.2** Now do the same thing as before, but rank the 10 countries that have the largest ratio of gold medals to GDP. Can you guess before which will be the first ?"
   ]
  },
  {
   "cell_type": "code",
   "execution_count": null,
   "metadata": {
    "colab": {},
    "colab_type": "code",
    "id": "cTpN4DGtxCst"
   },
   "outputs": [],
   "source": [
    "# Your answer here"
   ]
  },
  {
   "cell_type": "markdown",
   "metadata": {
    "colab_type": "text",
    "id": "V3dHMMqSSDq_"
   },
   "source": [
    "## Grouping values in dataframes\n",
    "A very important function in pandas is `groupby`, that we can use for the following purposes\n",
    "\n",
    "* split the table in groups accoridng to some criteria\n",
    "* apply some operation to some group independently\n",
    "* combine the results into a new table with aggregated data\n",
    "\n",
    "Let us get started with creating groups. The typical procedure is to split according to the values of some categorical variables (gender, day of the week, etc.)\n",
    "\n",
    "Let us do some examples on the table `tips.csv`"
   ]
  },
  {
   "cell_type": "code",
   "execution_count": null,
   "metadata": {
    "colab": {
     "base_uri": "https://localhost:8080/",
     "height": 2227
    },
    "colab_type": "code",
    "id": "AYC7YboqSDrA",
    "outputId": "426348b6-bdf8-429f-a631-1af46535effb"
   },
   "outputs": [],
   "source": [
    "for name, group in df.groupby(by=['sex']):\n",
    "    print(name)\n",
    "    print(group)"
   ]
  },
  {
   "cell_type": "markdown",
   "metadata": {
    "colab_type": "text",
    "id": "RgEl1_QwSDrD"
   },
   "source": [
    "We can select more than one variable to make groups. For instance, if we group by sex and size, since there are 2 values for sex and 6 values for size, there will be 12 groups created."
   ]
  },
  {
   "cell_type": "code",
   "execution_count": null,
   "metadata": {
    "colab": {
     "base_uri": "https://localhost:8080/",
     "height": 3978
    },
    "colab_type": "code",
    "id": "bRtMVSVsSDrD",
    "outputId": "e1d08366-efad-4797-fc94-08a502afae6b"
   },
   "outputs": [],
   "source": [
    "for name, group in df.groupby(by=['sex', 'size']):\n",
    "    print(name)\n",
    "    print(group)\n"
   ]
  },
  {
   "cell_type": "markdown",
   "metadata": {
    "colab_type": "text",
    "id": "idnzSde3SDrI"
   },
   "source": [
    "Once we have created the groups, we can apply functions over them. For instance, we can calculate the average price of the bill for each of the groups."
   ]
  },
  {
   "cell_type": "code",
   "execution_count": null,
   "metadata": {
    "colab": {
     "base_uri": "https://localhost:8080/",
     "height": 221
    },
    "colab_type": "code",
    "id": "PdaPztJXSDrI",
    "outputId": "ec7f0b53-b5d1-4c0b-fba5-480e786ff41f"
   },
   "outputs": [],
   "source": [
    "for name, group in df.groupby(by=['sex', 'size']):\n",
    "    print(name, group['total_bill'].mean())\n",
    "    # equivalente a np.mean(group['total_bill'])"
   ]
  },
  {
   "cell_type": "markdown",
   "metadata": {
    "colab_type": "text",
    "id": "B5vZ87jtSDrK"
   },
   "source": [
    "The previous method is not so handy if we want to incorporate this information into the actual dataframe, so pandas has for this purpose the function `agg`:"
   ]
  },
  {
   "cell_type": "code",
   "execution_count": null,
   "metadata": {
    "colab": {
     "base_uri": "https://localhost:8080/",
     "height": 142
    },
    "colab_type": "code",
    "id": "ZYWJJuFbSDrL",
    "outputId": "e3eaba9b-9585-4fd6-e8f8-7a65e2734633"
   },
   "outputs": [],
   "source": [
    "df_bill = df.groupby(['sex']).agg({'total_bill': np.mean})\n",
    "df_bill"
   ]
  },
  {
   "cell_type": "code",
   "execution_count": null,
   "metadata": {
    "colab": {
     "base_uri": "https://localhost:8080/",
     "height": 452
    },
    "colab_type": "code",
    "id": "WfCe5ZvzSDrM",
    "outputId": "a268f0b0-28b9-465b-c4ba-9aaf2c89905d"
   },
   "outputs": [],
   "source": [
    "df_bill = df.groupby(['sex', 'size']).agg({'total_bill': np.mean})\n",
    "df_bill"
   ]
  },
  {
   "cell_type": "markdown",
   "metadata": {
    "colab_type": "text",
    "id": "lp_6T_TKSDrO"
   },
   "source": [
    "Using `pivot`, we can pivot this table in order to see the results better."
   ]
  },
  {
   "cell_type": "code",
   "execution_count": null,
   "metadata": {
    "colab": {},
    "colab_type": "code",
    "id": "3oqKBahBSDrO",
    "outputId": "d1000a23-6e9c-4aee-a0e8-5a85698ba55b"
   },
   "outputs": [],
   "source": [
    "df_bill.reset_index().pivot(index='sex', columns='size')"
   ]
  },
  {
   "cell_type": "markdown",
   "metadata": {},
   "source": [
    "Do you see anything fishy ? In the female row, the average of total_bill is smaller for a table of 6 people than 4, how can that be ?"
   ]
  },
  {
   "cell_type": "code",
   "execution_count": null,
   "metadata": {},
   "outputs": [],
   "source": [
    "df[(df['sex']=='Female')&(df['size']==6)]"
   ]
  },
  {
   "cell_type": "code",
   "execution_count": null,
   "metadata": {},
   "outputs": [],
   "source": [
    "df[(df['sex']=='Female')&(df['size']==4)]"
   ]
  },
  {
   "cell_type": "markdown",
   "metadata": {},
   "source": [
    "A possible explanation is that the table of 6 has only 2 cases, which happen to be cheaper meals."
   ]
  },
  {
   "cell_type": "markdown",
   "metadata": {
    "colab_type": "text",
    "id": "WvRJdAj8SDrP"
   },
   "source": [
    "We can pass more than one argument to `agg` if we want to calculate more columns by applying functions on the groups. With this syntax, agg will apply the functions `mean` and `std` to the whole dataframe (where we previously chose the columns total_bill and tip)"
   ]
  },
  {
   "cell_type": "code",
   "execution_count": null,
   "metadata": {
    "colab": {},
    "colab_type": "code",
    "id": "glzkPODMSDrQ"
   },
   "outputs": [],
   "source": [
    "df_bill_tips = df.groupby(['sex'])['total_bill', 'tip'].agg([np.mean, np.std])"
   ]
  },
  {
   "cell_type": "code",
   "execution_count": null,
   "metadata": {
    "colab": {
     "base_uri": "https://localhost:8080/",
     "height": 173
    },
    "colab_type": "code",
    "id": "iAFAL23ISDrR",
    "outputId": "bc8c3cab-9b50-4a29-9891-7af6a1e8cbab"
   },
   "outputs": [],
   "source": [
    "df_bill_tips"
   ]
  },
  {
   "cell_type": "markdown",
   "metadata": {
    "colab_type": "text",
    "id": "HvscB6DZSDrS"
   },
   "source": [
    "## Exercise 4\n",
    "<img src=\"https://www.shareicon.net/data/256x256/2016/06/09/778169_game_512x512.png\" alt=\"Exercise\" width=\"50\"/> \n",
    "\n",
    "In the tips table select all rows for which the value of `total_bill` is higher that the mean + 1 std deviation for all the meals on the same week day.\n",
    "\n",
    "**4.1** How many rows does this dataframe have ?\n",
    "\n",
    "**Hint:** \n",
    "\n",
    "1. Using `groupby` create first a small table whose rows are the days of the week (index is `day`) and whose columns are the mean and std deviation of the total_bill for all meals on that day.\n",
    "\n",
    "2. Reset the index on that dataframe to turn `day`into an ordinary column.\n",
    "\n",
    "3. Perform a `merge` of this table with the original table using as key column the `day`, so that each observation in the original table has its corresponding value of avg+std for each day of the week.\n"
   ]
  },
  {
   "cell_type": "code",
   "execution_count": null,
   "metadata": {
    "colab": {},
    "colab_type": "code",
    "id": "wthy4QN-SDrS"
   },
   "outputs": [],
   "source": [
    "# Your answer here"
   ]
  },
  {
   "cell_type": "markdown",
   "metadata": {
    "colab_type": "text",
    "collapsed": true,
    "id": "GSVno83FSDrY"
   },
   "source": [
    "## Exercise 5\n",
    "<img src=\"https://www.shareicon.net/data/256x256/2016/06/09/778169_game_512x512.png\" alt=\"Exercise\" width=\"50\"/> \n",
    "\n",
    "The database `income` can be used to predict if a worker's salary is above or below 50.000 $. For each person, the database contains the following information:\n",
    "* age \n",
    "* education\n",
    "* marital.status\n",
    "* relationship\n",
    "* race\n",
    "* sex\n",
    "* hourspeerweek\n",
    "* nativecountry\n",
    "* income (whether it is >=50K or <50K)\n",
    "\n",
    "Load and read the dataset, and eliminate all rows that have some missing value. You can use the method `dropna`. Also, to make things simpler, substitute the values of the `Income` column by 0s and 1s (0 if the salary is smaller than 50K) and 1 otherwise."
   ]
  },
  {
   "cell_type": "code",
   "execution_count": null,
   "metadata": {
    "colab": {},
    "colab_type": "code",
    "id": "6benqPOfms7W"
   },
   "outputs": [],
   "source": [
    "dir='data/income.csv'\n",
    "#dir='/content/Curso-IE/Week_1/data/income.csv'\n",
    "inc = pd.read_csv(dir)\n",
    "len(inc)"
   ]
  },
  {
   "cell_type": "code",
   "execution_count": null,
   "metadata": {
    "colab": {
     "base_uri": "https://localhost:8080/",
     "height": 204
    },
    "colab_type": "code",
    "id": "0mAXJF4GnVjh",
    "outputId": "e13f9f6a-5ff4-437e-cf7a-829931e67a3f"
   },
   "outputs": [],
   "source": [
    "inc.describe(include='all')"
   ]
  },
  {
   "cell_type": "markdown",
   "metadata": {},
   "source": [
    "We see that there are some missing values, let's remove all thpse rows that have some missing values."
   ]
  },
  {
   "cell_type": "code",
   "execution_count": null,
   "metadata": {
    "colab": {
     "base_uri": "https://localhost:8080/",
     "height": 669
    },
    "colab_type": "code",
    "id": "pWsNAwQOSDra",
    "outputId": "5af70b79-e834-4644-8c60-eae9eb19e9d7"
   },
   "outputs": [],
   "source": [
    "inc.dropna(inplace=True)\n",
    "inc.loc[inc.income == '<=50K', \"income\"] = 0\n",
    "inc.loc[inc.income == '>50K', \"income\"] = 1\n",
    "inc.head(20)"
   ]
  },
  {
   "cell_type": "code",
   "execution_count": null,
   "metadata": {},
   "outputs": [],
   "source": [
    "print(len(inc))"
   ]
  },
  {
   "cell_type": "markdown",
   "metadata": {
    "colab_type": "text",
    "id": "aV7RzdygSDrc"
   },
   "source": [
    "Try to come up with some simple rule to predict the variable `income`, and store your prediction on a new variable `income_pred`. You can check how good your prediction is by calling the function precision, that takes two vectors and computes the fraction of correct attributions to total number of predictions."
   ]
  },
  {
   "cell_type": "code",
   "execution_count": null,
   "metadata": {
    "colab": {},
    "colab_type": "code",
    "id": "uARyk0cdSDrd"
   },
   "outputs": [],
   "source": [
    "def precision(income, income_pred):\n",
    "    ac = sum(income == income_pred)*100/(len(income))\n",
    "    return \"Precision: \" + str(ac) + \"%\"\n"
   ]
  },
  {
   "cell_type": "markdown",
   "metadata": {
    "colab_type": "text",
    "id": "TvNzAKY0SDre"
   },
   "source": [
    "Let us start with a very simple rule:\n",
    "\n",
    "1. We predict that only those with a PhD earn more than 50K, and those without it, earn less than 50k"
   ]
  },
  {
   "cell_type": "code",
   "execution_count": null,
   "metadata": {
    "colab": {
     "base_uri": "https://localhost:8080/",
     "height": 34
    },
    "colab_type": "code",
    "id": "HUOUDhuDSDre",
    "outputId": "29f45fd0-7de1-426c-9bde-22acdd0f9f2d"
   },
   "outputs": [],
   "source": [
    "inc[\"income_pred\"] = 0\n",
    "\n",
    "condition = (inc.education.isin([\"Doctorate\"])) \n",
    "inc.loc[condition, \"income_pred\"] = 1\n",
    "precision(inc.income, inc.income_pred)"
   ]
  },
  {
   "cell_type": "markdown",
   "metadata": {},
   "source": [
    "**5.1** Play around combining logical conditions and try to improve that precision. Can you make it higher than 80%"
   ]
  },
  {
   "cell_type": "code",
   "execution_count": null,
   "metadata": {},
   "outputs": [],
   "source": []
  }
 ],
 "metadata": {
  "colab": {
   "include_colab_link": true,
   "name": "pandas_completo.ipynb",
   "provenance": [],
   "toc_visible": true,
   "version": "0.3.2"
  },
  "kernelspec": {
   "display_name": "Python 3",
   "language": "python",
   "name": "python3"
  },
  "language_info": {
   "codemirror_mode": {
    "name": "ipython",
    "version": 3
   },
   "file_extension": ".py",
   "mimetype": "text/x-python",
   "name": "python",
   "nbconvert_exporter": "python",
   "pygments_lexer": "ipython3",
   "version": "3.7.2"
  }
 },
 "nbformat": 4,
 "nbformat_minor": 1
}
