{
 "cells": [
  {
   "cell_type": "markdown",
   "metadata": {
    "colab_type": "text",
    "id": "view-in-github"
   },
   "source": [
    "<a href=\"https://colab.research.google.com/github/dgullate/Curso-IE/blob/master/Week_1/pandas_completo.ipynb\" target=\"_parent\"><img src=\"https://colab.research.google.com/assets/colab-badge.svg\" alt=\"Open In Colab\"/></a>"
   ]
  },
  {
   "cell_type": "markdown",
   "metadata": {
    "colab_type": "text",
    "id": "qANQASdRSDnw"
   },
   "source": [
    "# Pandas\n",
    "![alt text](https://pandas.pydata.org/_static/pandas_logo.png)"
   ]
  },
  {
   "cell_type": "markdown",
   "metadata": {
    "colab_type": "text",
    "id": "pGnEiYDtSDny"
   },
   "source": [
    "Pandas is a python library with high level data structures that have many functionalities and are easy to use for the purpose of data analytics.\n",
    "The main objects are called `dataframes`, which are 2-dim data structures similar to a table (and to dataframes in R)."
   ]
  },
  {
   "cell_type": "code",
   "execution_count": null,
   "metadata": {
    "colab": {
     "base_uri": "https://localhost:8080/",
     "height": 119
    },
    "colab_type": "code",
    "id": "d5RYtBY6FyVb",
    "outputId": "7f6148a0-3554-44fe-bbd5-eee3c4f05ddb"
   },
   "outputs": [],
   "source": [
    "!git clone https://github.com/dgullate/Curso-IE.git"
   ]
  },
  {
   "cell_type": "code",
   "execution_count": 1,
   "metadata": {
    "colab": {},
    "colab_type": "code",
    "id": "TcUDKjjZXsQJ"
   },
   "outputs": [],
   "source": [
    "import pandas as pd #Así importamos la librería pandas\n",
    "import numpy as np"
   ]
  },
  {
   "cell_type": "markdown",
   "metadata": {
    "colab_type": "text",
    "id": "HPtY6bauSDnz"
   },
   "source": [
    "## Creating dataframes\n",
    "\n",
    "We can create a dataframe from various Series, each of them will be a register in our table. For instance, let's create a table with 3 registries whose columns are `Cost`, `Item Purchased` y `Name`:"
   ]
  },
  {
   "cell_type": "code",
   "execution_count": 20,
   "metadata": {
    "colab": {},
    "colab_type": "code",
    "id": "g0IX0jubSDn0"
   },
   "outputs": [],
   "source": [
    "\n",
    "purchase_1 = pd.Series({'Name': 'Chris',\n",
    "                        'Item Purchased': 'Dog Food',\n",
    "                        'Cost': 22.50})\n",
    "purchase_2 = pd.Series({'Name': 'Kevyn',\n",
    "                        'Item Purchased': 'Kitty Litter',\n",
    "                        'Cost': 2.50})\n",
    "purchase_3 = pd.Series({'Name': 'Vinod',\n",
    "                        'Item Purchased': 'Bird Seed',\n",
    "                        'Cost': 5.00})\n",
    "\n",
    "df = pd.DataFrame([purchase_1, purchase_2, purchase_3], index=['Store 1', 'Store 1', 'Store 2'])"
   ]
  },
  {
   "cell_type": "markdown",
   "metadata": {
    "colab_type": "text",
    "id": "VTUGiQW2SDn4"
   },
   "source": [
    "As we see, it is enough to define a Series object for each entry in our table. Moreover, the data types must be consistent on each Series object, so that the table get the right formatting across columns. The `index` argument specifies identifiers for each item. By defect, an index is an integer number, but in this case we used strings."
   ]
  },
  {
   "cell_type": "code",
   "execution_count": 21,
   "metadata": {
    "colab": {
     "base_uri": "https://localhost:8080/",
     "height": 142
    },
    "colab_type": "code",
    "id": "xaPJSsTTSDn5",
    "outputId": "13e98ab1-75f3-4c02-c1bf-0d5aab874b87"
   },
   "outputs": [
    {
     "data": {
      "text/html": [
       "<div>\n",
       "<style scoped>\n",
       "    .dataframe tbody tr th:only-of-type {\n",
       "        vertical-align: middle;\n",
       "    }\n",
       "\n",
       "    .dataframe tbody tr th {\n",
       "        vertical-align: top;\n",
       "    }\n",
       "\n",
       "    .dataframe thead th {\n",
       "        text-align: right;\n",
       "    }\n",
       "</style>\n",
       "<table border=\"1\" class=\"dataframe\">\n",
       "  <thead>\n",
       "    <tr style=\"text-align: right;\">\n",
       "      <th></th>\n",
       "      <th>Name</th>\n",
       "      <th>Item Purchased</th>\n",
       "      <th>Cost</th>\n",
       "    </tr>\n",
       "  </thead>\n",
       "  <tbody>\n",
       "    <tr>\n",
       "      <th>Store 1</th>\n",
       "      <td>Chris</td>\n",
       "      <td>Dog Food</td>\n",
       "      <td>22.5</td>\n",
       "    </tr>\n",
       "    <tr>\n",
       "      <th>Store 1</th>\n",
       "      <td>Kevyn</td>\n",
       "      <td>Kitty Litter</td>\n",
       "      <td>2.5</td>\n",
       "    </tr>\n",
       "    <tr>\n",
       "      <th>Store 2</th>\n",
       "      <td>Vinod</td>\n",
       "      <td>Bird Seed</td>\n",
       "      <td>5.0</td>\n",
       "    </tr>\n",
       "  </tbody>\n",
       "</table>\n",
       "</div>"
      ],
      "text/plain": [
       "          Name Item Purchased  Cost\n",
       "Store 1  Chris       Dog Food  22.5\n",
       "Store 1  Kevyn   Kitty Litter   2.5\n",
       "Store 2  Vinod      Bird Seed   5.0"
      ]
     },
     "execution_count": 21,
     "metadata": {},
     "output_type": "execute_result"
    }
   ],
   "source": [
    "df.head()"
   ]
  },
  {
   "cell_type": "markdown",
   "metadata": {
    "colab_type": "text",
    "id": "YYgVtlzwSDn_"
   },
   "source": [
    "We can select a subset of elements knowing its index, using `loc`."
   ]
  },
  {
   "cell_type": "code",
   "execution_count": 22,
   "metadata": {
    "colab": {
     "base_uri": "https://localhost:8080/",
     "height": 111
    },
    "colab_type": "code",
    "id": "G5c7I4MPSDn_",
    "outputId": "8ef9bc98-5ef9-457a-b31f-7afe230f2f47"
   },
   "outputs": [
    {
     "data": {
      "text/html": [
       "<div>\n",
       "<style scoped>\n",
       "    .dataframe tbody tr th:only-of-type {\n",
       "        vertical-align: middle;\n",
       "    }\n",
       "\n",
       "    .dataframe tbody tr th {\n",
       "        vertical-align: top;\n",
       "    }\n",
       "\n",
       "    .dataframe thead th {\n",
       "        text-align: right;\n",
       "    }\n",
       "</style>\n",
       "<table border=\"1\" class=\"dataframe\">\n",
       "  <thead>\n",
       "    <tr style=\"text-align: right;\">\n",
       "      <th></th>\n",
       "      <th>Name</th>\n",
       "      <th>Item Purchased</th>\n",
       "      <th>Cost</th>\n",
       "    </tr>\n",
       "  </thead>\n",
       "  <tbody>\n",
       "    <tr>\n",
       "      <th>Store 1</th>\n",
       "      <td>Chris</td>\n",
       "      <td>Dog Food</td>\n",
       "      <td>22.5</td>\n",
       "    </tr>\n",
       "    <tr>\n",
       "      <th>Store 1</th>\n",
       "      <td>Kevyn</td>\n",
       "      <td>Kitty Litter</td>\n",
       "      <td>2.5</td>\n",
       "    </tr>\n",
       "  </tbody>\n",
       "</table>\n",
       "</div>"
      ],
      "text/plain": [
       "          Name Item Purchased  Cost\n",
       "Store 1  Chris       Dog Food  22.5\n",
       "Store 1  Kevyn   Kitty Litter   2.5"
      ]
     },
     "execution_count": 22,
     "metadata": {},
     "output_type": "execute_result"
    }
   ],
   "source": [
    "df.loc['Store 1']"
   ]
  },
  {
   "cell_type": "markdown",
   "metadata": {
    "colab_type": "text",
    "id": "upMs4c-gSDoD"
   },
   "source": [
    "If moreover we want to select a specific columns, we can do so separating with a comma."
   ]
  },
  {
   "cell_type": "code",
   "execution_count": 23,
   "metadata": {
    "colab": {
     "base_uri": "https://localhost:8080/",
     "height": 68
    },
    "colab_type": "code",
    "id": "iH9bkuLNSDoE",
    "outputId": "64921ece-e675-4b85-bec0-715c949c4996"
   },
   "outputs": [
    {
     "data": {
      "text/plain": [
       "Store 1    22.5\n",
       "Store 1     2.5\n",
       "Name: Cost, dtype: float64"
      ]
     },
     "execution_count": 23,
     "metadata": {},
     "output_type": "execute_result"
    }
   ],
   "source": [
    "df.loc['Store 1', 'Cost']"
   ]
  },
  {
   "cell_type": "markdown",
   "metadata": {
    "colab_type": "text",
    "id": "vo5NouphSDoI"
   },
   "source": [
    "Even more ! these arguments can be both lists."
   ]
  },
  {
   "cell_type": "code",
   "execution_count": 24,
   "metadata": {
    "colab": {
     "base_uri": "https://localhost:8080/",
     "height": 142
    },
    "colab_type": "code",
    "id": "NpIQMgWBSDoJ",
    "outputId": "ac4c0aaf-9caf-43d1-d2fb-9be3b04502ca"
   },
   "outputs": [
    {
     "data": {
      "text/html": [
       "<div>\n",
       "<style scoped>\n",
       "    .dataframe tbody tr th:only-of-type {\n",
       "        vertical-align: middle;\n",
       "    }\n",
       "\n",
       "    .dataframe tbody tr th {\n",
       "        vertical-align: top;\n",
       "    }\n",
       "\n",
       "    .dataframe thead th {\n",
       "        text-align: right;\n",
       "    }\n",
       "</style>\n",
       "<table border=\"1\" class=\"dataframe\">\n",
       "  <thead>\n",
       "    <tr style=\"text-align: right;\">\n",
       "      <th></th>\n",
       "      <th>Cost</th>\n",
       "      <th>Name</th>\n",
       "    </tr>\n",
       "  </thead>\n",
       "  <tbody>\n",
       "    <tr>\n",
       "      <th>Store 1</th>\n",
       "      <td>22.5</td>\n",
       "      <td>Chris</td>\n",
       "    </tr>\n",
       "    <tr>\n",
       "      <th>Store 1</th>\n",
       "      <td>2.5</td>\n",
       "      <td>Kevyn</td>\n",
       "    </tr>\n",
       "    <tr>\n",
       "      <th>Store 2</th>\n",
       "      <td>5.0</td>\n",
       "      <td>Vinod</td>\n",
       "    </tr>\n",
       "  </tbody>\n",
       "</table>\n",
       "</div>"
      ],
      "text/plain": [
       "         Cost   Name\n",
       "Store 1  22.5  Chris\n",
       "Store 1   2.5  Kevyn\n",
       "Store 2   5.0  Vinod"
      ]
     },
     "execution_count": 24,
     "metadata": {},
     "output_type": "execute_result"
    }
   ],
   "source": [
    "df.loc[['Store 1', 'Store 2'], ['Cost','Name']]"
   ]
  },
  {
   "cell_type": "markdown",
   "metadata": {
    "colab_type": "text",
    "id": "I7qx21NySDoM"
   },
   "source": [
    "If instead of accesing via the index, we would like to access by the row or column positions, we can do so using `iloc`. As an example, the following command selects the first 2 rows and all columns.\n"
   ]
  },
  {
   "cell_type": "code",
   "execution_count": 25,
   "metadata": {
    "colab": {
     "base_uri": "https://localhost:8080/",
     "height": 142
    },
    "colab_type": "code",
    "id": "qCZqSkjdSDoN",
    "outputId": "7f77a70e-f318-4405-eb35-dd6db99250cd"
   },
   "outputs": [
    {
     "data": {
      "text/html": [
       "<div>\n",
       "<style scoped>\n",
       "    .dataframe tbody tr th:only-of-type {\n",
       "        vertical-align: middle;\n",
       "    }\n",
       "\n",
       "    .dataframe tbody tr th {\n",
       "        vertical-align: top;\n",
       "    }\n",
       "\n",
       "    .dataframe thead th {\n",
       "        text-align: right;\n",
       "    }\n",
       "</style>\n",
       "<table border=\"1\" class=\"dataframe\">\n",
       "  <thead>\n",
       "    <tr style=\"text-align: right;\">\n",
       "      <th></th>\n",
       "      <th>Name</th>\n",
       "      <th>Item Purchased</th>\n",
       "      <th>Cost</th>\n",
       "    </tr>\n",
       "  </thead>\n",
       "  <tbody>\n",
       "    <tr>\n",
       "      <th>Store 1</th>\n",
       "      <td>Chris</td>\n",
       "      <td>Dog Food</td>\n",
       "      <td>22.5</td>\n",
       "    </tr>\n",
       "    <tr>\n",
       "      <th>Store 1</th>\n",
       "      <td>Kevyn</td>\n",
       "      <td>Kitty Litter</td>\n",
       "      <td>2.5</td>\n",
       "    </tr>\n",
       "    <tr>\n",
       "      <th>Store 2</th>\n",
       "      <td>Vinod</td>\n",
       "      <td>Bird Seed</td>\n",
       "      <td>5.0</td>\n",
       "    </tr>\n",
       "  </tbody>\n",
       "</table>\n",
       "</div>"
      ],
      "text/plain": [
       "          Name Item Purchased  Cost\n",
       "Store 1  Chris       Dog Food  22.5\n",
       "Store 1  Kevyn   Kitty Litter   2.5\n",
       "Store 2  Vinod      Bird Seed   5.0"
      ]
     },
     "execution_count": 25,
     "metadata": {},
     "output_type": "execute_result"
    }
   ],
   "source": [
    "df.iloc[:3, :]"
   ]
  },
  {
   "cell_type": "markdown",
   "metadata": {
    "colab_type": "text",
    "id": "dH32AbnQSDoR"
   },
   "source": [
    "<br>\n",
    "If we want to erase some item knowing its index, we can do so using `drop`"
   ]
  },
  {
   "cell_type": "code",
   "execution_count": 26,
   "metadata": {
    "colab": {
     "base_uri": "https://localhost:8080/",
     "height": 80
    },
    "colab_type": "code",
    "id": "WPPljSsfSDoS",
    "outputId": "d14dc5b3-fef2-4652-937a-082d3a7bdb75"
   },
   "outputs": [
    {
     "data": {
      "text/html": [
       "<div>\n",
       "<style scoped>\n",
       "    .dataframe tbody tr th:only-of-type {\n",
       "        vertical-align: middle;\n",
       "    }\n",
       "\n",
       "    .dataframe tbody tr th {\n",
       "        vertical-align: top;\n",
       "    }\n",
       "\n",
       "    .dataframe thead th {\n",
       "        text-align: right;\n",
       "    }\n",
       "</style>\n",
       "<table border=\"1\" class=\"dataframe\">\n",
       "  <thead>\n",
       "    <tr style=\"text-align: right;\">\n",
       "      <th></th>\n",
       "      <th>Name</th>\n",
       "      <th>Item Purchased</th>\n",
       "      <th>Cost</th>\n",
       "    </tr>\n",
       "  </thead>\n",
       "  <tbody>\n",
       "    <tr>\n",
       "      <th>Store 2</th>\n",
       "      <td>Vinod</td>\n",
       "      <td>Bird Seed</td>\n",
       "      <td>5.0</td>\n",
       "    </tr>\n",
       "  </tbody>\n",
       "</table>\n",
       "</div>"
      ],
      "text/plain": [
       "          Name Item Purchased  Cost\n",
       "Store 2  Vinod      Bird Seed   5.0"
      ]
     },
     "execution_count": 26,
     "metadata": {},
     "output_type": "execute_result"
    }
   ],
   "source": [
    "df.drop('Store 1')"
   ]
  },
  {
   "cell_type": "code",
   "execution_count": 27,
   "metadata": {
    "colab": {
     "base_uri": "https://localhost:8080/",
     "height": 142
    },
    "colab_type": "code",
    "id": "ANg9xokQSDoV",
    "outputId": "a1c35301-f8ef-42e1-92ab-db4973175b86"
   },
   "outputs": [
    {
     "data": {
      "text/html": [
       "<div>\n",
       "<style scoped>\n",
       "    .dataframe tbody tr th:only-of-type {\n",
       "        vertical-align: middle;\n",
       "    }\n",
       "\n",
       "    .dataframe tbody tr th {\n",
       "        vertical-align: top;\n",
       "    }\n",
       "\n",
       "    .dataframe thead th {\n",
       "        text-align: right;\n",
       "    }\n",
       "</style>\n",
       "<table border=\"1\" class=\"dataframe\">\n",
       "  <thead>\n",
       "    <tr style=\"text-align: right;\">\n",
       "      <th></th>\n",
       "      <th>Name</th>\n",
       "      <th>Item Purchased</th>\n",
       "      <th>Cost</th>\n",
       "    </tr>\n",
       "  </thead>\n",
       "  <tbody>\n",
       "    <tr>\n",
       "      <th>Store 1</th>\n",
       "      <td>Chris</td>\n",
       "      <td>Dog Food</td>\n",
       "      <td>22.5</td>\n",
       "    </tr>\n",
       "    <tr>\n",
       "      <th>Store 1</th>\n",
       "      <td>Kevyn</td>\n",
       "      <td>Kitty Litter</td>\n",
       "      <td>2.5</td>\n",
       "    </tr>\n",
       "    <tr>\n",
       "      <th>Store 2</th>\n",
       "      <td>Vinod</td>\n",
       "      <td>Bird Seed</td>\n",
       "      <td>5.0</td>\n",
       "    </tr>\n",
       "  </tbody>\n",
       "</table>\n",
       "</div>"
      ],
      "text/plain": [
       "          Name Item Purchased  Cost\n",
       "Store 1  Chris       Dog Food  22.5\n",
       "Store 1  Kevyn   Kitty Litter   2.5\n",
       "Store 2  Vinod      Bird Seed   5.0"
      ]
     },
     "execution_count": 27,
     "metadata": {},
     "output_type": "execute_result"
    }
   ],
   "source": [
    "df"
   ]
  },
  {
   "cell_type": "markdown",
   "metadata": {
    "colab_type": "text",
    "id": "dpikaPQJSDoZ"
   },
   "source": [
    "What happened ? Didn't we erase it ? The thing is `drop` by default creates a new copy of the dataframe, instead of assigning a new variable `df2 = df.drop(...)` we can specify that the updated dataframe overwrites the same object in memory by using the flag `inplace=True` ."
   ]
  },
  {
   "cell_type": "code",
   "execution_count": 28,
   "metadata": {
    "colab": {
     "base_uri": "https://localhost:8080/",
     "height": 80
    },
    "colab_type": "code",
    "id": "KE8p9NlTSDoa",
    "outputId": "33e34c42-cfc7-408b-cf77-b9d8a01fff17"
   },
   "outputs": [
    {
     "data": {
      "text/html": [
       "<div>\n",
       "<style scoped>\n",
       "    .dataframe tbody tr th:only-of-type {\n",
       "        vertical-align: middle;\n",
       "    }\n",
       "\n",
       "    .dataframe tbody tr th {\n",
       "        vertical-align: top;\n",
       "    }\n",
       "\n",
       "    .dataframe thead th {\n",
       "        text-align: right;\n",
       "    }\n",
       "</style>\n",
       "<table border=\"1\" class=\"dataframe\">\n",
       "  <thead>\n",
       "    <tr style=\"text-align: right;\">\n",
       "      <th></th>\n",
       "      <th>Name</th>\n",
       "      <th>Item Purchased</th>\n",
       "      <th>Cost</th>\n",
       "    </tr>\n",
       "  </thead>\n",
       "  <tbody>\n",
       "    <tr>\n",
       "      <th>Store 2</th>\n",
       "      <td>Vinod</td>\n",
       "      <td>Bird Seed</td>\n",
       "      <td>5.0</td>\n",
       "    </tr>\n",
       "  </tbody>\n",
       "</table>\n",
       "</div>"
      ],
      "text/plain": [
       "          Name Item Purchased  Cost\n",
       "Store 2  Vinod      Bird Seed   5.0"
      ]
     },
     "execution_count": 28,
     "metadata": {},
     "output_type": "execute_result"
    }
   ],
   "source": [
    "df.drop('Store 1', inplace=True)\n",
    "df"
   ]
  },
  {
   "cell_type": "markdown",
   "metadata": {
    "colab_type": "text",
    "id": "6NTH8dyTSDod"
   },
   "source": [
    "## Loading dataframes"
   ]
  },
  {
   "cell_type": "markdown",
   "metadata": {
    "colab_type": "text",
    "id": "FMQFSPk4SDod"
   },
   "source": [
    "Most of the times we will not work with df in this manner, as they will be lying on some file in a hard disk or web server. Pandas has functions that are able to read and load the contents of these files, and create a dataframe object from them.\n",
    "All of these functions start like `pd.read_...` and there are versions ofr file types in excel, html, json, etc. We will use the most common function  `pd.read_csv`, that reads .csv files(every item int he dataframe is a line in the csv files, and vaues are usually comma separated)."
   ]
  },
  {
   "cell_type": "markdown",
   "metadata": {
    "colab_type": "text",
    "id": "TsPXLqJ9SDoe"
   },
   "source": [
    "Next, we load the data contained in the file `tips.csv` in a  `pandas`  `dataframe` . This database contains information on the cost of meals and tips in restaurants. It has the following variables:\n",
    "\n",
    "* `total_bill`: total proce of the meal.\n",
    "* `tip`: amount given as tip.\n",
    "* `sex`: Gender of the paying person (Female/Male).\n",
    "* `smoker`: Categorical variable indicating whether the payer is a smoker (yes/no).\n",
    "* `day`: Day of thre week.\n",
    "* `time`: Categorical variable indicating if it was lunch or dinner.\n",
    "* `size`: Number of people at the table"
   ]
  },
  {
   "cell_type": "code",
   "execution_count": 29,
   "metadata": {
    "colab": {},
    "colab_type": "code",
    "id": "iWf79Fe8SDof"
   },
   "outputs": [],
   "source": [
    "#dir='/content/Curso-IE/Week_1/data/tips.csv'\n",
    "dir='data/tips.csv'\n",
    "df = pd.read_csv(dir)"
   ]
  },
  {
   "cell_type": "markdown",
   "metadata": {
    "colab_type": "text",
    "id": "kRdJ6ddlSDol"
   },
   "source": [
    "Besides the name of the file, a necessary argument, `read_csv` has other optional args. The most common are:\n",
    "    \n",
    "* nrows: only reads a certain number of lines (useful to test before we load a very large file).\n",
    "* usecols: the dataframe will only red these columns.\n",
    "* dtype: specifies the data type for each column (by defect, pandas tries to infer the type automatically by looking at the data)."
   ]
  },
  {
   "cell_type": "markdown",
   "metadata": {
    "colab_type": "text",
    "id": "Z0I7OZFDSDom"
   },
   "source": [
    "## Exploratory analysis"
   ]
  },
  {
   "cell_type": "markdown",
   "metadata": {
    "colab_type": "text",
    "id": "Ktex7B0XSDon"
   },
   "source": [
    "Once we have loaded the data, we can look at them with the following four functions: `head` and `tail` to observe the first and last lines; para  `describe` to obtain basic statistic summary and  `info` to obtain the data types of each columns."
   ]
  },
  {
   "cell_type": "code",
   "execution_count": 30,
   "metadata": {
    "colab": {
     "base_uri": "https://localhost:8080/",
     "height": 359
    },
    "colab_type": "code",
    "id": "eXwjKOWISDoo",
    "outputId": "51eb71b4-1857-4311-b5c9-b7542ac4dd7b"
   },
   "outputs": [
    {
     "data": {
      "text/html": [
       "<div>\n",
       "<style scoped>\n",
       "    .dataframe tbody tr th:only-of-type {\n",
       "        vertical-align: middle;\n",
       "    }\n",
       "\n",
       "    .dataframe tbody tr th {\n",
       "        vertical-align: top;\n",
       "    }\n",
       "\n",
       "    .dataframe thead th {\n",
       "        text-align: right;\n",
       "    }\n",
       "</style>\n",
       "<table border=\"1\" class=\"dataframe\">\n",
       "  <thead>\n",
       "    <tr style=\"text-align: right;\">\n",
       "      <th></th>\n",
       "      <th>total_bill</th>\n",
       "      <th>tip</th>\n",
       "      <th>sex</th>\n",
       "      <th>smoker</th>\n",
       "      <th>day</th>\n",
       "      <th>time</th>\n",
       "      <th>size</th>\n",
       "    </tr>\n",
       "  </thead>\n",
       "  <tbody>\n",
       "    <tr>\n",
       "      <th>0</th>\n",
       "      <td>16.99</td>\n",
       "      <td>1.01</td>\n",
       "      <td>Female</td>\n",
       "      <td>No</td>\n",
       "      <td>Sun</td>\n",
       "      <td>Dinner</td>\n",
       "      <td>2</td>\n",
       "    </tr>\n",
       "    <tr>\n",
       "      <th>1</th>\n",
       "      <td>10.34</td>\n",
       "      <td>1.66</td>\n",
       "      <td>Male</td>\n",
       "      <td>No</td>\n",
       "      <td>Sun</td>\n",
       "      <td>Dinner</td>\n",
       "      <td>3</td>\n",
       "    </tr>\n",
       "    <tr>\n",
       "      <th>2</th>\n",
       "      <td>21.01</td>\n",
       "      <td>3.50</td>\n",
       "      <td>Male</td>\n",
       "      <td>No</td>\n",
       "      <td>Sun</td>\n",
       "      <td>Dinner</td>\n",
       "      <td>3</td>\n",
       "    </tr>\n",
       "    <tr>\n",
       "      <th>3</th>\n",
       "      <td>23.68</td>\n",
       "      <td>3.31</td>\n",
       "      <td>Male</td>\n",
       "      <td>No</td>\n",
       "      <td>Sun</td>\n",
       "      <td>Dinner</td>\n",
       "      <td>2</td>\n",
       "    </tr>\n",
       "    <tr>\n",
       "      <th>4</th>\n",
       "      <td>24.59</td>\n",
       "      <td>3.61</td>\n",
       "      <td>Female</td>\n",
       "      <td>No</td>\n",
       "      <td>Sun</td>\n",
       "      <td>Dinner</td>\n",
       "      <td>4</td>\n",
       "    </tr>\n",
       "    <tr>\n",
       "      <th>5</th>\n",
       "      <td>25.29</td>\n",
       "      <td>4.71</td>\n",
       "      <td>Male</td>\n",
       "      <td>No</td>\n",
       "      <td>Sun</td>\n",
       "      <td>Dinner</td>\n",
       "      <td>4</td>\n",
       "    </tr>\n",
       "    <tr>\n",
       "      <th>6</th>\n",
       "      <td>8.77</td>\n",
       "      <td>2.00</td>\n",
       "      <td>Male</td>\n",
       "      <td>No</td>\n",
       "      <td>Sun</td>\n",
       "      <td>Dinner</td>\n",
       "      <td>2</td>\n",
       "    </tr>\n",
       "    <tr>\n",
       "      <th>7</th>\n",
       "      <td>26.88</td>\n",
       "      <td>3.12</td>\n",
       "      <td>Male</td>\n",
       "      <td>No</td>\n",
       "      <td>Sun</td>\n",
       "      <td>Dinner</td>\n",
       "      <td>4</td>\n",
       "    </tr>\n",
       "    <tr>\n",
       "      <th>8</th>\n",
       "      <td>15.04</td>\n",
       "      <td>1.96</td>\n",
       "      <td>Male</td>\n",
       "      <td>No</td>\n",
       "      <td>Sun</td>\n",
       "      <td>Dinner</td>\n",
       "      <td>2</td>\n",
       "    </tr>\n",
       "    <tr>\n",
       "      <th>9</th>\n",
       "      <td>14.78</td>\n",
       "      <td>3.23</td>\n",
       "      <td>Male</td>\n",
       "      <td>No</td>\n",
       "      <td>Sun</td>\n",
       "      <td>Dinner</td>\n",
       "      <td>2</td>\n",
       "    </tr>\n",
       "  </tbody>\n",
       "</table>\n",
       "</div>"
      ],
      "text/plain": [
       "   total_bill   tip     sex smoker  day    time  size\n",
       "0       16.99  1.01  Female     No  Sun  Dinner     2\n",
       "1       10.34  1.66    Male     No  Sun  Dinner     3\n",
       "2       21.01  3.50    Male     No  Sun  Dinner     3\n",
       "3       23.68  3.31    Male     No  Sun  Dinner     2\n",
       "4       24.59  3.61  Female     No  Sun  Dinner     4\n",
       "5       25.29  4.71    Male     No  Sun  Dinner     4\n",
       "6        8.77  2.00    Male     No  Sun  Dinner     2\n",
       "7       26.88  3.12    Male     No  Sun  Dinner     4\n",
       "8       15.04  1.96    Male     No  Sun  Dinner     2\n",
       "9       14.78  3.23    Male     No  Sun  Dinner     2"
      ]
     },
     "execution_count": 30,
     "metadata": {},
     "output_type": "execute_result"
    }
   ],
   "source": [
    "df.head(10) #in paranthesis, th enumber of files to be displayed\n",
    "            # by default, that's 5."
   ]
  },
  {
   "cell_type": "code",
   "execution_count": 31,
   "metadata": {
    "colab": {
     "base_uri": "https://localhost:8080/",
     "height": 142
    },
    "colab_type": "code",
    "id": "X8pm75uTSDor",
    "outputId": "5d9c922f-829b-48ae-efcd-c629df79d34c"
   },
   "outputs": [
    {
     "data": {
      "text/html": [
       "<div>\n",
       "<style scoped>\n",
       "    .dataframe tbody tr th:only-of-type {\n",
       "        vertical-align: middle;\n",
       "    }\n",
       "\n",
       "    .dataframe tbody tr th {\n",
       "        vertical-align: top;\n",
       "    }\n",
       "\n",
       "    .dataframe thead th {\n",
       "        text-align: right;\n",
       "    }\n",
       "</style>\n",
       "<table border=\"1\" class=\"dataframe\">\n",
       "  <thead>\n",
       "    <tr style=\"text-align: right;\">\n",
       "      <th></th>\n",
       "      <th>total_bill</th>\n",
       "      <th>tip</th>\n",
       "      <th>sex</th>\n",
       "      <th>smoker</th>\n",
       "      <th>day</th>\n",
       "      <th>time</th>\n",
       "      <th>size</th>\n",
       "    </tr>\n",
       "  </thead>\n",
       "  <tbody>\n",
       "    <tr>\n",
       "      <th>241</th>\n",
       "      <td>22.67</td>\n",
       "      <td>2.00</td>\n",
       "      <td>Male</td>\n",
       "      <td>Yes</td>\n",
       "      <td>Sat</td>\n",
       "      <td>Dinner</td>\n",
       "      <td>2</td>\n",
       "    </tr>\n",
       "    <tr>\n",
       "      <th>242</th>\n",
       "      <td>17.82</td>\n",
       "      <td>1.75</td>\n",
       "      <td>Male</td>\n",
       "      <td>No</td>\n",
       "      <td>Sat</td>\n",
       "      <td>Dinner</td>\n",
       "      <td>2</td>\n",
       "    </tr>\n",
       "    <tr>\n",
       "      <th>243</th>\n",
       "      <td>18.78</td>\n",
       "      <td>3.00</td>\n",
       "      <td>Female</td>\n",
       "      <td>No</td>\n",
       "      <td>Thur</td>\n",
       "      <td>Dinner</td>\n",
       "      <td>2</td>\n",
       "    </tr>\n",
       "  </tbody>\n",
       "</table>\n",
       "</div>"
      ],
      "text/plain": [
       "     total_bill   tip     sex smoker   day    time  size\n",
       "241       22.67  2.00    Male    Yes   Sat  Dinner     2\n",
       "242       17.82  1.75    Male     No   Sat  Dinner     2\n",
       "243       18.78  3.00  Female     No  Thur  Dinner     2"
      ]
     },
     "execution_count": 31,
     "metadata": {},
     "output_type": "execute_result"
    }
   ],
   "source": [
    "df.tail(3)"
   ]
  },
  {
   "cell_type": "code",
   "execution_count": 32,
   "metadata": {
    "colab": {
     "base_uri": "https://localhost:8080/",
     "height": 297
    },
    "colab_type": "code",
    "id": "ulHE7zjASDou",
    "outputId": "ff2e2625-21a4-4a61-846f-382a70d25947"
   },
   "outputs": [
    {
     "data": {
      "text/html": [
       "<div>\n",
       "<style scoped>\n",
       "    .dataframe tbody tr th:only-of-type {\n",
       "        vertical-align: middle;\n",
       "    }\n",
       "\n",
       "    .dataframe tbody tr th {\n",
       "        vertical-align: top;\n",
       "    }\n",
       "\n",
       "    .dataframe thead th {\n",
       "        text-align: right;\n",
       "    }\n",
       "</style>\n",
       "<table border=\"1\" class=\"dataframe\">\n",
       "  <thead>\n",
       "    <tr style=\"text-align: right;\">\n",
       "      <th></th>\n",
       "      <th>total_bill</th>\n",
       "      <th>tip</th>\n",
       "      <th>size</th>\n",
       "    </tr>\n",
       "  </thead>\n",
       "  <tbody>\n",
       "    <tr>\n",
       "      <th>count</th>\n",
       "      <td>244.000000</td>\n",
       "      <td>244.000000</td>\n",
       "      <td>244.000000</td>\n",
       "    </tr>\n",
       "    <tr>\n",
       "      <th>mean</th>\n",
       "      <td>19.785943</td>\n",
       "      <td>2.998279</td>\n",
       "      <td>2.569672</td>\n",
       "    </tr>\n",
       "    <tr>\n",
       "      <th>std</th>\n",
       "      <td>8.902412</td>\n",
       "      <td>1.383638</td>\n",
       "      <td>0.951100</td>\n",
       "    </tr>\n",
       "    <tr>\n",
       "      <th>min</th>\n",
       "      <td>3.070000</td>\n",
       "      <td>1.000000</td>\n",
       "      <td>1.000000</td>\n",
       "    </tr>\n",
       "    <tr>\n",
       "      <th>25%</th>\n",
       "      <td>13.347500</td>\n",
       "      <td>2.000000</td>\n",
       "      <td>2.000000</td>\n",
       "    </tr>\n",
       "    <tr>\n",
       "      <th>50%</th>\n",
       "      <td>17.795000</td>\n",
       "      <td>2.900000</td>\n",
       "      <td>2.000000</td>\n",
       "    </tr>\n",
       "    <tr>\n",
       "      <th>75%</th>\n",
       "      <td>24.127500</td>\n",
       "      <td>3.562500</td>\n",
       "      <td>3.000000</td>\n",
       "    </tr>\n",
       "    <tr>\n",
       "      <th>max</th>\n",
       "      <td>50.810000</td>\n",
       "      <td>10.000000</td>\n",
       "      <td>6.000000</td>\n",
       "    </tr>\n",
       "  </tbody>\n",
       "</table>\n",
       "</div>"
      ],
      "text/plain": [
       "       total_bill         tip        size\n",
       "count  244.000000  244.000000  244.000000\n",
       "mean    19.785943    2.998279    2.569672\n",
       "std      8.902412    1.383638    0.951100\n",
       "min      3.070000    1.000000    1.000000\n",
       "25%     13.347500    2.000000    2.000000\n",
       "50%     17.795000    2.900000    2.000000\n",
       "75%     24.127500    3.562500    3.000000\n",
       "max     50.810000   10.000000    6.000000"
      ]
     },
     "execution_count": 32,
     "metadata": {},
     "output_type": "execute_result"
    }
   ],
   "source": [
    "df.describe()"
   ]
  },
  {
   "cell_type": "markdown",
   "metadata": {
    "colab_type": "text",
    "id": "eQ8nXCQkSDo0"
   },
   "source": [
    "For columns with numerica data, `describe` gives information on the number of missing values, the mean value, standard deviation and some quantiles.\n",
    "If the table also contains columns with categorical data,  `describe` by default only gives info in the numerical ones. If want info on the other columns, we must write:"
   ]
  },
  {
   "cell_type": "code",
   "execution_count": 33,
   "metadata": {
    "colab": {
     "base_uri": "https://localhost:8080/",
     "height": 390
    },
    "colab_type": "code",
    "id": "i8bbRv8ASDo1",
    "outputId": "823fd21d-5efb-45d2-f45a-b7bc3ece190e"
   },
   "outputs": [
    {
     "data": {
      "text/html": [
       "<div>\n",
       "<style scoped>\n",
       "    .dataframe tbody tr th:only-of-type {\n",
       "        vertical-align: middle;\n",
       "    }\n",
       "\n",
       "    .dataframe tbody tr th {\n",
       "        vertical-align: top;\n",
       "    }\n",
       "\n",
       "    .dataframe thead th {\n",
       "        text-align: right;\n",
       "    }\n",
       "</style>\n",
       "<table border=\"1\" class=\"dataframe\">\n",
       "  <thead>\n",
       "    <tr style=\"text-align: right;\">\n",
       "      <th></th>\n",
       "      <th>total_bill</th>\n",
       "      <th>tip</th>\n",
       "      <th>sex</th>\n",
       "      <th>smoker</th>\n",
       "      <th>day</th>\n",
       "      <th>time</th>\n",
       "      <th>size</th>\n",
       "    </tr>\n",
       "  </thead>\n",
       "  <tbody>\n",
       "    <tr>\n",
       "      <th>count</th>\n",
       "      <td>244.000000</td>\n",
       "      <td>244.000000</td>\n",
       "      <td>244</td>\n",
       "      <td>244</td>\n",
       "      <td>244</td>\n",
       "      <td>244</td>\n",
       "      <td>244.000000</td>\n",
       "    </tr>\n",
       "    <tr>\n",
       "      <th>unique</th>\n",
       "      <td>NaN</td>\n",
       "      <td>NaN</td>\n",
       "      <td>2</td>\n",
       "      <td>2</td>\n",
       "      <td>4</td>\n",
       "      <td>2</td>\n",
       "      <td>NaN</td>\n",
       "    </tr>\n",
       "    <tr>\n",
       "      <th>top</th>\n",
       "      <td>NaN</td>\n",
       "      <td>NaN</td>\n",
       "      <td>Male</td>\n",
       "      <td>No</td>\n",
       "      <td>Sat</td>\n",
       "      <td>Dinner</td>\n",
       "      <td>NaN</td>\n",
       "    </tr>\n",
       "    <tr>\n",
       "      <th>freq</th>\n",
       "      <td>NaN</td>\n",
       "      <td>NaN</td>\n",
       "      <td>157</td>\n",
       "      <td>151</td>\n",
       "      <td>87</td>\n",
       "      <td>176</td>\n",
       "      <td>NaN</td>\n",
       "    </tr>\n",
       "    <tr>\n",
       "      <th>mean</th>\n",
       "      <td>19.785943</td>\n",
       "      <td>2.998279</td>\n",
       "      <td>NaN</td>\n",
       "      <td>NaN</td>\n",
       "      <td>NaN</td>\n",
       "      <td>NaN</td>\n",
       "      <td>2.569672</td>\n",
       "    </tr>\n",
       "    <tr>\n",
       "      <th>std</th>\n",
       "      <td>8.902412</td>\n",
       "      <td>1.383638</td>\n",
       "      <td>NaN</td>\n",
       "      <td>NaN</td>\n",
       "      <td>NaN</td>\n",
       "      <td>NaN</td>\n",
       "      <td>0.951100</td>\n",
       "    </tr>\n",
       "    <tr>\n",
       "      <th>min</th>\n",
       "      <td>3.070000</td>\n",
       "      <td>1.000000</td>\n",
       "      <td>NaN</td>\n",
       "      <td>NaN</td>\n",
       "      <td>NaN</td>\n",
       "      <td>NaN</td>\n",
       "      <td>1.000000</td>\n",
       "    </tr>\n",
       "    <tr>\n",
       "      <th>25%</th>\n",
       "      <td>13.347500</td>\n",
       "      <td>2.000000</td>\n",
       "      <td>NaN</td>\n",
       "      <td>NaN</td>\n",
       "      <td>NaN</td>\n",
       "      <td>NaN</td>\n",
       "      <td>2.000000</td>\n",
       "    </tr>\n",
       "    <tr>\n",
       "      <th>50%</th>\n",
       "      <td>17.795000</td>\n",
       "      <td>2.900000</td>\n",
       "      <td>NaN</td>\n",
       "      <td>NaN</td>\n",
       "      <td>NaN</td>\n",
       "      <td>NaN</td>\n",
       "      <td>2.000000</td>\n",
       "    </tr>\n",
       "    <tr>\n",
       "      <th>75%</th>\n",
       "      <td>24.127500</td>\n",
       "      <td>3.562500</td>\n",
       "      <td>NaN</td>\n",
       "      <td>NaN</td>\n",
       "      <td>NaN</td>\n",
       "      <td>NaN</td>\n",
       "      <td>3.000000</td>\n",
       "    </tr>\n",
       "    <tr>\n",
       "      <th>max</th>\n",
       "      <td>50.810000</td>\n",
       "      <td>10.000000</td>\n",
       "      <td>NaN</td>\n",
       "      <td>NaN</td>\n",
       "      <td>NaN</td>\n",
       "      <td>NaN</td>\n",
       "      <td>6.000000</td>\n",
       "    </tr>\n",
       "  </tbody>\n",
       "</table>\n",
       "</div>"
      ],
      "text/plain": [
       "        total_bill         tip   sex smoker  day    time        size\n",
       "count   244.000000  244.000000   244    244  244     244  244.000000\n",
       "unique         NaN         NaN     2      2    4       2         NaN\n",
       "top            NaN         NaN  Male     No  Sat  Dinner         NaN\n",
       "freq           NaN         NaN   157    151   87     176         NaN\n",
       "mean     19.785943    2.998279   NaN    NaN  NaN     NaN    2.569672\n",
       "std       8.902412    1.383638   NaN    NaN  NaN     NaN    0.951100\n",
       "min       3.070000    1.000000   NaN    NaN  NaN     NaN    1.000000\n",
       "25%      13.347500    2.000000   NaN    NaN  NaN     NaN    2.000000\n",
       "50%      17.795000    2.900000   NaN    NaN  NaN     NaN    2.000000\n",
       "75%      24.127500    3.562500   NaN    NaN  NaN     NaN    3.000000\n",
       "max      50.810000   10.000000   NaN    NaN  NaN     NaN    6.000000"
      ]
     },
     "execution_count": 33,
     "metadata": {},
     "output_type": "execute_result"
    }
   ],
   "source": [
    "df.describe(include='all')"
   ]
  },
  {
   "cell_type": "markdown",
   "metadata": {
    "colab_type": "text",
    "id": "j7huIwhUSDo4"
   },
   "source": [
    "For categorical variables, we also see information on the number of unique values, the most frequent value and its frequency. For instance, in the gender case, there are 244 entries, the most frquent value is Male (157 out of 244), there's only 2 unique values (so we assume the other value is Female)"
   ]
  },
  {
   "cell_type": "code",
   "execution_count": 34,
   "metadata": {
    "colab": {
     "base_uri": "https://localhost:8080/",
     "height": 221
    },
    "colab_type": "code",
    "id": "bS0h0cV6SDo4",
    "outputId": "0eb5c89a-cdac-4775-c645-969606401665"
   },
   "outputs": [
    {
     "name": "stdout",
     "output_type": "stream",
     "text": [
      "<class 'pandas.core.frame.DataFrame'>\n",
      "RangeIndex: 244 entries, 0 to 243\n",
      "Data columns (total 7 columns):\n",
      "total_bill    244 non-null float64\n",
      "tip           244 non-null float64\n",
      "sex           244 non-null object\n",
      "smoker        244 non-null object\n",
      "day           244 non-null object\n",
      "time          244 non-null object\n",
      "size          244 non-null int64\n",
      "dtypes: float64(2), int64(1), object(4)\n",
      "memory usage: 13.4+ KB\n"
     ]
    }
   ],
   "source": [
    "df.info() "
   ]
  },
  {
   "cell_type": "markdown",
   "metadata": {
    "colab_type": "text",
    "id": "RPjFNUrqSDo7"
   },
   "source": [
    "## Querying dataframes"
   ]
  },
  {
   "cell_type": "markdown",
   "metadata": {
    "colab_type": "text",
    "id": "wt-TfZ-sSDo8"
   },
   "source": [
    "So far we have seen how to access certain items and/or certain columns in our dataframe. Let's see now other ways to make more dynamic queries.\n",
    "\n",
    "A quick way to access a whole column is:"
   ]
  },
  {
   "cell_type": "code",
   "execution_count": 35,
   "metadata": {
    "colab": {
     "base_uri": "https://localhost:8080/",
     "height": 119
    },
    "colab_type": "code",
    "id": "GACAE2AVSDo8",
    "outputId": "e4c14b42-d7bc-4581-a0a6-840d762943a9"
   },
   "outputs": [
    {
     "data": {
      "text/plain": [
       "0    1.01\n",
       "1    1.66\n",
       "2    3.50\n",
       "3    3.31\n",
       "4    3.61\n",
       "Name: tip, dtype: float64"
      ]
     },
     "execution_count": 35,
     "metadata": {},
     "output_type": "execute_result"
    }
   ],
   "source": [
    "df['tip'].head()"
   ]
  },
  {
   "cell_type": "markdown",
   "metadata": {
    "colab_type": "text",
    "id": "DoLGtKLjSDo_"
   },
   "source": [
    "We could also do"
   ]
  },
  {
   "cell_type": "code",
   "execution_count": 36,
   "metadata": {
    "colab": {},
    "colab_type": "code",
    "id": "g0i-9lAaSDo_",
    "outputId": "c5fbb7bf-36f7-4183-b248-1990eb1ded82"
   },
   "outputs": [
    {
     "data": {
      "text/plain": [
       "0    1.01\n",
       "1    1.66\n",
       "2    3.50\n",
       "3    3.31\n",
       "4    3.61\n",
       "Name: tip, dtype: float64"
      ]
     },
     "execution_count": 36,
     "metadata": {},
     "output_type": "execute_result"
    }
   ],
   "source": [
    "df.tip.head()"
   ]
  },
  {
   "cell_type": "markdown",
   "metadata": {
    "colab_type": "text",
    "id": "KusqqmhhSDpC"
   },
   "source": [
    "As pandas is built on numpy, we can use a very similar syntax."
   ]
  },
  {
   "cell_type": "code",
   "execution_count": 37,
   "metadata": {
    "colab": {
     "base_uri": "https://localhost:8080/",
     "height": 34
    },
    "colab_type": "code",
    "id": "LKfKZOoESDpD",
    "outputId": "5805d375-6edd-4beb-cc9f-43e27ce00d7b"
   },
   "outputs": [
    {
     "data": {
      "text/plain": [
       "(2.0, 2.569672131147541)"
      ]
     },
     "execution_count": 37,
     "metadata": {},
     "output_type": "execute_result"
    }
   ],
   "source": [
    "df['size'].median(), df['size'].mean()"
   ]
  },
  {
   "cell_type": "code",
   "execution_count": 38,
   "metadata": {
    "colab": {},
    "colab_type": "code",
    "id": "OXzZvd7wSDpG"
   },
   "outputs": [
    {
     "data": {
      "text/plain": [
       "0      False\n",
       "1       True\n",
       "2       True\n",
       "3      False\n",
       "4       True\n",
       "5       True\n",
       "6      False\n",
       "7       True\n",
       "8      False\n",
       "9      False\n",
       "10     False\n",
       "11      True\n",
       "12     False\n",
       "13      True\n",
       "14     False\n",
       "15     False\n",
       "16      True\n",
       "17      True\n",
       "18      True\n",
       "19      True\n",
       "20     False\n",
       "21     False\n",
       "22     False\n",
       "23      True\n",
       "24     False\n",
       "25      True\n",
       "26     False\n",
       "27     False\n",
       "28     False\n",
       "29     False\n",
       "       ...  \n",
       "214     True\n",
       "215    False\n",
       "216     True\n",
       "217    False\n",
       "218    False\n",
       "219     True\n",
       "220    False\n",
       "221    False\n",
       "222    False\n",
       "223     True\n",
       "224    False\n",
       "225    False\n",
       "226    False\n",
       "227     True\n",
       "228    False\n",
       "229    False\n",
       "230     True\n",
       "231     True\n",
       "232    False\n",
       "233    False\n",
       "234    False\n",
       "235    False\n",
       "236    False\n",
       "237    False\n",
       "238     True\n",
       "239     True\n",
       "240    False\n",
       "241    False\n",
       "242    False\n",
       "243    False\n",
       "Name: size, Length: 244, dtype: bool"
      ]
     },
     "execution_count": 38,
     "metadata": {},
     "output_type": "execute_result"
    }
   ],
   "source": [
    "df['size'] > df['size'].median()"
   ]
  },
  {
   "cell_type": "markdown",
   "metadata": {
    "colab_type": "text",
    "id": "X16vFFZ3SDpJ"
   },
   "source": [
    "The previous command has generated a Boolean array, so we can use it as a mask to select rows in our dataframe !"
   ]
  },
  {
   "cell_type": "code",
   "execution_count": 39,
   "metadata": {
    "colab": {
     "base_uri": "https://localhost:8080/",
     "height": 204
    },
    "colab_type": "code",
    "id": "F1lF0ZTcSDpJ",
    "outputId": "e0482e21-3cf6-4c06-81a5-c03d239b197b"
   },
   "outputs": [
    {
     "data": {
      "text/html": [
       "<div>\n",
       "<style scoped>\n",
       "    .dataframe tbody tr th:only-of-type {\n",
       "        vertical-align: middle;\n",
       "    }\n",
       "\n",
       "    .dataframe tbody tr th {\n",
       "        vertical-align: top;\n",
       "    }\n",
       "\n",
       "    .dataframe thead th {\n",
       "        text-align: right;\n",
       "    }\n",
       "</style>\n",
       "<table border=\"1\" class=\"dataframe\">\n",
       "  <thead>\n",
       "    <tr style=\"text-align: right;\">\n",
       "      <th></th>\n",
       "      <th>total_bill</th>\n",
       "      <th>tip</th>\n",
       "      <th>sex</th>\n",
       "      <th>smoker</th>\n",
       "      <th>day</th>\n",
       "      <th>time</th>\n",
       "      <th>size</th>\n",
       "    </tr>\n",
       "  </thead>\n",
       "  <tbody>\n",
       "    <tr>\n",
       "      <th>1</th>\n",
       "      <td>10.34</td>\n",
       "      <td>1.66</td>\n",
       "      <td>Male</td>\n",
       "      <td>No</td>\n",
       "      <td>Sun</td>\n",
       "      <td>Dinner</td>\n",
       "      <td>3</td>\n",
       "    </tr>\n",
       "    <tr>\n",
       "      <th>2</th>\n",
       "      <td>21.01</td>\n",
       "      <td>3.50</td>\n",
       "      <td>Male</td>\n",
       "      <td>No</td>\n",
       "      <td>Sun</td>\n",
       "      <td>Dinner</td>\n",
       "      <td>3</td>\n",
       "    </tr>\n",
       "    <tr>\n",
       "      <th>4</th>\n",
       "      <td>24.59</td>\n",
       "      <td>3.61</td>\n",
       "      <td>Female</td>\n",
       "      <td>No</td>\n",
       "      <td>Sun</td>\n",
       "      <td>Dinner</td>\n",
       "      <td>4</td>\n",
       "    </tr>\n",
       "    <tr>\n",
       "      <th>5</th>\n",
       "      <td>25.29</td>\n",
       "      <td>4.71</td>\n",
       "      <td>Male</td>\n",
       "      <td>No</td>\n",
       "      <td>Sun</td>\n",
       "      <td>Dinner</td>\n",
       "      <td>4</td>\n",
       "    </tr>\n",
       "    <tr>\n",
       "      <th>7</th>\n",
       "      <td>26.88</td>\n",
       "      <td>3.12</td>\n",
       "      <td>Male</td>\n",
       "      <td>No</td>\n",
       "      <td>Sun</td>\n",
       "      <td>Dinner</td>\n",
       "      <td>4</td>\n",
       "    </tr>\n",
       "  </tbody>\n",
       "</table>\n",
       "</div>"
      ],
      "text/plain": [
       "   total_bill   tip     sex smoker  day    time  size\n",
       "1       10.34  1.66    Male     No  Sun  Dinner     3\n",
       "2       21.01  3.50    Male     No  Sun  Dinner     3\n",
       "4       24.59  3.61  Female     No  Sun  Dinner     4\n",
       "5       25.29  4.71    Male     No  Sun  Dinner     4\n",
       "7       26.88  3.12    Male     No  Sun  Dinner     4"
      ]
     },
     "execution_count": 39,
     "metadata": {},
     "output_type": "execute_result"
    }
   ],
   "source": [
    "large_tables = df[ df['size'] > df['size'].median() ]\n",
    "large_tables.head()"
   ]
  },
  {
   "cell_type": "markdown",
   "metadata": {
    "colab_type": "text",
    "id": "CQmx7hWMSDpN"
   },
   "source": [
    "We selected those tables that are larger than the median value, but we see they keep the original index. If we want to reset the index we must do"
   ]
  },
  {
   "cell_type": "code",
   "execution_count": 40,
   "metadata": {
    "colab": {
     "base_uri": "https://localhost:8080/",
     "height": 204
    },
    "colab_type": "code",
    "id": "qs8CB6RgSDpO",
    "outputId": "cd9265a0-503a-44d0-bdeb-deb47cd2558a"
   },
   "outputs": [
    {
     "data": {
      "text/html": [
       "<div>\n",
       "<style scoped>\n",
       "    .dataframe tbody tr th:only-of-type {\n",
       "        vertical-align: middle;\n",
       "    }\n",
       "\n",
       "    .dataframe tbody tr th {\n",
       "        vertical-align: top;\n",
       "    }\n",
       "\n",
       "    .dataframe thead th {\n",
       "        text-align: right;\n",
       "    }\n",
       "</style>\n",
       "<table border=\"1\" class=\"dataframe\">\n",
       "  <thead>\n",
       "    <tr style=\"text-align: right;\">\n",
       "      <th></th>\n",
       "      <th>total_bill</th>\n",
       "      <th>tip</th>\n",
       "      <th>sex</th>\n",
       "      <th>smoker</th>\n",
       "      <th>day</th>\n",
       "      <th>time</th>\n",
       "      <th>size</th>\n",
       "    </tr>\n",
       "  </thead>\n",
       "  <tbody>\n",
       "    <tr>\n",
       "      <th>0</th>\n",
       "      <td>10.34</td>\n",
       "      <td>1.66</td>\n",
       "      <td>Male</td>\n",
       "      <td>No</td>\n",
       "      <td>Sun</td>\n",
       "      <td>Dinner</td>\n",
       "      <td>3</td>\n",
       "    </tr>\n",
       "    <tr>\n",
       "      <th>1</th>\n",
       "      <td>21.01</td>\n",
       "      <td>3.50</td>\n",
       "      <td>Male</td>\n",
       "      <td>No</td>\n",
       "      <td>Sun</td>\n",
       "      <td>Dinner</td>\n",
       "      <td>3</td>\n",
       "    </tr>\n",
       "    <tr>\n",
       "      <th>2</th>\n",
       "      <td>24.59</td>\n",
       "      <td>3.61</td>\n",
       "      <td>Female</td>\n",
       "      <td>No</td>\n",
       "      <td>Sun</td>\n",
       "      <td>Dinner</td>\n",
       "      <td>4</td>\n",
       "    </tr>\n",
       "    <tr>\n",
       "      <th>3</th>\n",
       "      <td>25.29</td>\n",
       "      <td>4.71</td>\n",
       "      <td>Male</td>\n",
       "      <td>No</td>\n",
       "      <td>Sun</td>\n",
       "      <td>Dinner</td>\n",
       "      <td>4</td>\n",
       "    </tr>\n",
       "    <tr>\n",
       "      <th>4</th>\n",
       "      <td>26.88</td>\n",
       "      <td>3.12</td>\n",
       "      <td>Male</td>\n",
       "      <td>No</td>\n",
       "      <td>Sun</td>\n",
       "      <td>Dinner</td>\n",
       "      <td>4</td>\n",
       "    </tr>\n",
       "  </tbody>\n",
       "</table>\n",
       "</div>"
      ],
      "text/plain": [
       "   total_bill   tip     sex smoker  day    time  size\n",
       "0       10.34  1.66    Male     No  Sun  Dinner     3\n",
       "1       21.01  3.50    Male     No  Sun  Dinner     3\n",
       "2       24.59  3.61  Female     No  Sun  Dinner     4\n",
       "3       25.29  4.71    Male     No  Sun  Dinner     4\n",
       "4       26.88  3.12    Male     No  Sun  Dinner     4"
      ]
     },
     "execution_count": 40,
     "metadata": {},
     "output_type": "execute_result"
    }
   ],
   "source": [
    "large_tables.reset_index(inplace=True, drop=True)\n",
    "large_tables.head()"
   ]
  },
  {
   "cell_type": "markdown",
   "metadata": {
    "colab_type": "text",
    "id": "8VnxSshiSDpQ"
   },
   "source": [
    "The criteria to filter and select rows can be as complex as we wish, using logic operators."
   ]
  },
  {
   "cell_type": "code",
   "execution_count": 41,
   "metadata": {
    "colab": {
     "base_uri": "https://localhost:8080/",
     "height": 204
    },
    "colab_type": "code",
    "id": "JIGHPStSSDpR",
    "outputId": "4bd8b231-00dc-4cf0-86fa-08acd1e5f1c8"
   },
   "outputs": [
    {
     "data": {
      "text/html": [
       "<div>\n",
       "<style scoped>\n",
       "    .dataframe tbody tr th:only-of-type {\n",
       "        vertical-align: middle;\n",
       "    }\n",
       "\n",
       "    .dataframe tbody tr th {\n",
       "        vertical-align: top;\n",
       "    }\n",
       "\n",
       "    .dataframe thead th {\n",
       "        text-align: right;\n",
       "    }\n",
       "</style>\n",
       "<table border=\"1\" class=\"dataframe\">\n",
       "  <thead>\n",
       "    <tr style=\"text-align: right;\">\n",
       "      <th></th>\n",
       "      <th>total_bill</th>\n",
       "      <th>tip</th>\n",
       "      <th>sex</th>\n",
       "      <th>smoker</th>\n",
       "      <th>day</th>\n",
       "      <th>time</th>\n",
       "      <th>size</th>\n",
       "    </tr>\n",
       "  </thead>\n",
       "  <tbody>\n",
       "    <tr>\n",
       "      <th>4</th>\n",
       "      <td>24.59</td>\n",
       "      <td>3.61</td>\n",
       "      <td>Female</td>\n",
       "      <td>No</td>\n",
       "      <td>Sun</td>\n",
       "      <td>Dinner</td>\n",
       "      <td>4</td>\n",
       "    </tr>\n",
       "    <tr>\n",
       "      <th>11</th>\n",
       "      <td>35.26</td>\n",
       "      <td>5.00</td>\n",
       "      <td>Female</td>\n",
       "      <td>No</td>\n",
       "      <td>Sun</td>\n",
       "      <td>Dinner</td>\n",
       "      <td>4</td>\n",
       "    </tr>\n",
       "    <tr>\n",
       "      <th>16</th>\n",
       "      <td>10.33</td>\n",
       "      <td>1.67</td>\n",
       "      <td>Female</td>\n",
       "      <td>No</td>\n",
       "      <td>Sun</td>\n",
       "      <td>Dinner</td>\n",
       "      <td>3</td>\n",
       "    </tr>\n",
       "    <tr>\n",
       "      <th>18</th>\n",
       "      <td>16.97</td>\n",
       "      <td>3.50</td>\n",
       "      <td>Female</td>\n",
       "      <td>No</td>\n",
       "      <td>Sun</td>\n",
       "      <td>Dinner</td>\n",
       "      <td>3</td>\n",
       "    </tr>\n",
       "    <tr>\n",
       "      <th>33</th>\n",
       "      <td>20.69</td>\n",
       "      <td>2.45</td>\n",
       "      <td>Female</td>\n",
       "      <td>No</td>\n",
       "      <td>Sat</td>\n",
       "      <td>Dinner</td>\n",
       "      <td>4</td>\n",
       "    </tr>\n",
       "  </tbody>\n",
       "</table>\n",
       "</div>"
      ],
      "text/plain": [
       "    total_bill   tip     sex smoker  day    time  size\n",
       "4        24.59  3.61  Female     No  Sun  Dinner     4\n",
       "11       35.26  5.00  Female     No  Sun  Dinner     4\n",
       "16       10.33  1.67  Female     No  Sun  Dinner     3\n",
       "18       16.97  3.50  Female     No  Sun  Dinner     3\n",
       "33       20.69  2.45  Female     No  Sat  Dinner     4"
      ]
     },
     "execution_count": 41,
     "metadata": {},
     "output_type": "execute_result"
    }
   ],
   "source": [
    "df[ (df['size'] > df['size'].median()) & (df['sex'] == 'Female') ].head()"
   ]
  },
  {
   "cell_type": "markdown",
   "metadata": {
    "colab_type": "text",
    "id": "sJOgAH9ESDpT"
   },
   "source": [
    "\n",
    "##    Exercise 1\n",
    "<img src=\"https://www.shareicon.net/data/256x256/2016/06/09/778169_game_512x512.png\" alt=\"Exercise\" width=\"50\"/> \n",
    "\n",
    "\n",
    "Load the table `olympics.csv`. If you look at the file, you must skip the first row (use `skiprows`). Moreover, we can tell pandas to use the first column as index (index_col=0). Let's to some basic exploratory analysis of the data."
   ]
  },
  {
   "cell_type": "code",
   "execution_count": 92,
   "metadata": {
    "colab": {},
    "colab_type": "code",
    "id": "vgFeOQBcSDpT"
   },
   "outputs": [],
   "source": [
    "#dir='/content/Curso-IE/Week_1/data/olympics.csv'\n",
    "dir='data/olympics.csv'\n",
    "olympics = pd.read_csv(dir, skiprows=1, index_col=0)"
   ]
  },
  {
   "cell_type": "markdown",
   "metadata": {
    "colab_type": "text",
    "id": "uwG0rGhkSDpV"
   },
   "source": [
    "To help us, run the following code to rename the columns."
   ]
  },
  {
   "cell_type": "code",
   "execution_count": 93,
   "metadata": {
    "colab": {
     "base_uri": "https://localhost:8080/",
     "height": 204
    },
    "colab_type": "code",
    "id": "38kzJtAjSDpV",
    "outputId": "e8221e66-e3ef-4e42-8738-4f2421c643a3"
   },
   "outputs": [
    {
     "data": {
      "text/html": [
       "<div>\n",
       "<style scoped>\n",
       "    .dataframe tbody tr th:only-of-type {\n",
       "        vertical-align: middle;\n",
       "    }\n",
       "\n",
       "    .dataframe tbody tr th {\n",
       "        vertical-align: top;\n",
       "    }\n",
       "\n",
       "    .dataframe thead th {\n",
       "        text-align: right;\n",
       "    }\n",
       "</style>\n",
       "<table border=\"1\" class=\"dataframe\">\n",
       "  <thead>\n",
       "    <tr style=\"text-align: right;\">\n",
       "      <th></th>\n",
       "      <th># Summer</th>\n",
       "      <th>Gold</th>\n",
       "      <th>Silver</th>\n",
       "      <th>Bronze</th>\n",
       "      <th>Total</th>\n",
       "      <th># Winter</th>\n",
       "      <th>Gold.1</th>\n",
       "      <th>Silver.1</th>\n",
       "      <th>Bronze.1</th>\n",
       "      <th>Total.1</th>\n",
       "      <th># Games</th>\n",
       "      <th>Gold.2</th>\n",
       "      <th>Silver.2</th>\n",
       "      <th>Bronze.2</th>\n",
       "      <th>Combined total</th>\n",
       "      <th>ID</th>\n",
       "    </tr>\n",
       "  </thead>\n",
       "  <tbody>\n",
       "    <tr>\n",
       "      <th>Afghanistan</th>\n",
       "      <td>13</td>\n",
       "      <td>0</td>\n",
       "      <td>0</td>\n",
       "      <td>2</td>\n",
       "      <td>2</td>\n",
       "      <td>0</td>\n",
       "      <td>0</td>\n",
       "      <td>0</td>\n",
       "      <td>0</td>\n",
       "      <td>0</td>\n",
       "      <td>13</td>\n",
       "      <td>0</td>\n",
       "      <td>0</td>\n",
       "      <td>2</td>\n",
       "      <td>2</td>\n",
       "      <td>AFG</td>\n",
       "    </tr>\n",
       "    <tr>\n",
       "      <th>Algeria</th>\n",
       "      <td>12</td>\n",
       "      <td>5</td>\n",
       "      <td>2</td>\n",
       "      <td>8</td>\n",
       "      <td>15</td>\n",
       "      <td>3</td>\n",
       "      <td>0</td>\n",
       "      <td>0</td>\n",
       "      <td>0</td>\n",
       "      <td>0</td>\n",
       "      <td>15</td>\n",
       "      <td>5</td>\n",
       "      <td>2</td>\n",
       "      <td>8</td>\n",
       "      <td>15</td>\n",
       "      <td>ALG</td>\n",
       "    </tr>\n",
       "    <tr>\n",
       "      <th>Argentina</th>\n",
       "      <td>23</td>\n",
       "      <td>18</td>\n",
       "      <td>24</td>\n",
       "      <td>28</td>\n",
       "      <td>70</td>\n",
       "      <td>18</td>\n",
       "      <td>0</td>\n",
       "      <td>0</td>\n",
       "      <td>0</td>\n",
       "      <td>0</td>\n",
       "      <td>41</td>\n",
       "      <td>18</td>\n",
       "      <td>24</td>\n",
       "      <td>28</td>\n",
       "      <td>70</td>\n",
       "      <td>ARG</td>\n",
       "    </tr>\n",
       "    <tr>\n",
       "      <th>Armenia</th>\n",
       "      <td>5</td>\n",
       "      <td>1</td>\n",
       "      <td>2</td>\n",
       "      <td>9</td>\n",
       "      <td>12</td>\n",
       "      <td>6</td>\n",
       "      <td>0</td>\n",
       "      <td>0</td>\n",
       "      <td>0</td>\n",
       "      <td>0</td>\n",
       "      <td>11</td>\n",
       "      <td>1</td>\n",
       "      <td>2</td>\n",
       "      <td>9</td>\n",
       "      <td>12</td>\n",
       "      <td>ARM</td>\n",
       "    </tr>\n",
       "    <tr>\n",
       "      <th>Australasia</th>\n",
       "      <td>2</td>\n",
       "      <td>3</td>\n",
       "      <td>4</td>\n",
       "      <td>5</td>\n",
       "      <td>12</td>\n",
       "      <td>0</td>\n",
       "      <td>0</td>\n",
       "      <td>0</td>\n",
       "      <td>0</td>\n",
       "      <td>0</td>\n",
       "      <td>2</td>\n",
       "      <td>3</td>\n",
       "      <td>4</td>\n",
       "      <td>5</td>\n",
       "      <td>12</td>\n",
       "      <td>ANZ</td>\n",
       "    </tr>\n",
       "  </tbody>\n",
       "</table>\n",
       "</div>"
      ],
      "text/plain": [
       "             # Summer  Gold  Silver  Bronze  Total  # Winter  Gold.1  \\\n",
       "Afghanistan        13     0       0       2      2         0       0   \n",
       "Algeria            12     5       2       8     15         3       0   \n",
       "Argentina          23    18      24      28     70        18       0   \n",
       "Armenia             5     1       2       9     12         6       0   \n",
       "Australasia         2     3       4       5     12         0       0   \n",
       "\n",
       "             Silver.1  Bronze.1  Total.1  # Games  Gold.2  Silver.2  Bronze.2  \\\n",
       "Afghanistan         0         0        0       13       0         0         2   \n",
       "Algeria             0         0        0       15       5         2         8   \n",
       "Argentina           0         0        0       41      18        24        28   \n",
       "Armenia             0         0        0       11       1         2         9   \n",
       "Australasia         0         0        0        2       3         4         5   \n",
       "\n",
       "             Combined total   ID  \n",
       "Afghanistan               2  AFG  \n",
       "Algeria                  15  ALG  \n",
       "Argentina                70  ARG  \n",
       "Armenia                  12  ARM  \n",
       "Australasia              12  ANZ  "
      ]
     },
     "execution_count": 93,
     "metadata": {},
     "output_type": "execute_result"
    }
   ],
   "source": [
    "for col in olympics.columns:\n",
    "    if col[:2]=='01':\n",
    "        olympics.rename(columns={col:'Gold' + col[4:]}, inplace=True)\n",
    "    if col[:2]=='02':\n",
    "        olympics.rename(columns={col:'Silver' + col[4:]}, inplace=True)\n",
    "    if col[:2]=='03':\n",
    "        olympics.rename(columns={col:'Bronze' + col[4:]}, inplace=True)\n",
    "    if col[:1]=='№':\n",
    "        olympics.rename(columns={col:'#' + col[1:]}, inplace=True) \n",
    "        \n",
    "names_ids = olympics.index.str.split('\\s\\(') # split the index by '('\n",
    "\n",
    "olympics.index = names_ids.str[0] # the [0] element is the country name (new index) \n",
    "olympics['ID'] = names_ids.str[1].str[:3] # the [1] element is the abbreviation or ID (take first 3 characters from that)\n",
    "        \n",
    "olympics =  olympics.drop('Totals')\n",
    "olympics.head()"
   ]
  },
  {
   "cell_type": "code",
   "execution_count": 44,
   "metadata": {
    "colab": {
     "base_uri": "https://localhost:8080/",
     "height": 297
    },
    "colab_type": "code",
    "id": "AamEW68CSDpY",
    "outputId": "230c4115-3a08-49a9-f645-4b9e0422f239"
   },
   "outputs": [
    {
     "data": {
      "text/html": [
       "<div>\n",
       "<style scoped>\n",
       "    .dataframe tbody tr th:only-of-type {\n",
       "        vertical-align: middle;\n",
       "    }\n",
       "\n",
       "    .dataframe tbody tr th {\n",
       "        vertical-align: top;\n",
       "    }\n",
       "\n",
       "    .dataframe thead th {\n",
       "        text-align: right;\n",
       "    }\n",
       "</style>\n",
       "<table border=\"1\" class=\"dataframe\">\n",
       "  <thead>\n",
       "    <tr style=\"text-align: right;\">\n",
       "      <th></th>\n",
       "      <th># Summer</th>\n",
       "      <th>Gold</th>\n",
       "      <th>Silver</th>\n",
       "      <th>Bronze</th>\n",
       "      <th>Total</th>\n",
       "      <th># Winter</th>\n",
       "      <th>Gold.1</th>\n",
       "      <th>Silver.1</th>\n",
       "      <th>Bronze.1</th>\n",
       "      <th>Total.1</th>\n",
       "      <th># Games</th>\n",
       "      <th>Gold.2</th>\n",
       "      <th>Silver.2</th>\n",
       "      <th>Bronze.2</th>\n",
       "      <th>Combined total</th>\n",
       "    </tr>\n",
       "  </thead>\n",
       "  <tbody>\n",
       "    <tr>\n",
       "      <th>count</th>\n",
       "      <td>146.000000</td>\n",
       "      <td>146.000000</td>\n",
       "      <td>146.000000</td>\n",
       "      <td>146.000000</td>\n",
       "      <td>146.000000</td>\n",
       "      <td>146.000000</td>\n",
       "      <td>146.000000</td>\n",
       "      <td>146.000000</td>\n",
       "      <td>146.000000</td>\n",
       "      <td>146.000000</td>\n",
       "      <td>146.000000</td>\n",
       "      <td>146.000000</td>\n",
       "      <td>146.000000</td>\n",
       "      <td>146.000000</td>\n",
       "      <td>146.000000</td>\n",
       "    </tr>\n",
       "    <tr>\n",
       "      <th>mean</th>\n",
       "      <td>13.383562</td>\n",
       "      <td>32.938356</td>\n",
       "      <td>32.705479</td>\n",
       "      <td>35.136986</td>\n",
       "      <td>100.780822</td>\n",
       "      <td>6.595890</td>\n",
       "      <td>6.568493</td>\n",
       "      <td>6.561644</td>\n",
       "      <td>6.493151</td>\n",
       "      <td>19.623288</td>\n",
       "      <td>19.979452</td>\n",
       "      <td>39.506849</td>\n",
       "      <td>39.267123</td>\n",
       "      <td>41.630137</td>\n",
       "      <td>120.404110</td>\n",
       "    </tr>\n",
       "    <tr>\n",
       "      <th>std</th>\n",
       "      <td>7.006657</td>\n",
       "      <td>96.745184</td>\n",
       "      <td>80.648421</td>\n",
       "      <td>77.118416</td>\n",
       "      <td>252.700436</td>\n",
       "      <td>7.349012</td>\n",
       "      <td>18.975086</td>\n",
       "      <td>18.606996</td>\n",
       "      <td>17.499654</td>\n",
       "      <td>54.640914</td>\n",
       "      <td>13.084062</td>\n",
       "      <td>109.932471</td>\n",
       "      <td>93.984393</td>\n",
       "      <td>89.826117</td>\n",
       "      <td>291.988913</td>\n",
       "    </tr>\n",
       "    <tr>\n",
       "      <th>min</th>\n",
       "      <td>1.000000</td>\n",
       "      <td>0.000000</td>\n",
       "      <td>0.000000</td>\n",
       "      <td>0.000000</td>\n",
       "      <td>0.000000</td>\n",
       "      <td>0.000000</td>\n",
       "      <td>0.000000</td>\n",
       "      <td>0.000000</td>\n",
       "      <td>0.000000</td>\n",
       "      <td>0.000000</td>\n",
       "      <td>1.000000</td>\n",
       "      <td>0.000000</td>\n",
       "      <td>0.000000</td>\n",
       "      <td>0.000000</td>\n",
       "      <td>1.000000</td>\n",
       "    </tr>\n",
       "    <tr>\n",
       "      <th>25%</th>\n",
       "      <td>8.000000</td>\n",
       "      <td>0.000000</td>\n",
       "      <td>1.000000</td>\n",
       "      <td>1.000000</td>\n",
       "      <td>2.000000</td>\n",
       "      <td>0.000000</td>\n",
       "      <td>0.000000</td>\n",
       "      <td>0.000000</td>\n",
       "      <td>0.000000</td>\n",
       "      <td>0.000000</td>\n",
       "      <td>11.000000</td>\n",
       "      <td>0.000000</td>\n",
       "      <td>1.000000</td>\n",
       "      <td>1.000000</td>\n",
       "      <td>2.250000</td>\n",
       "    </tr>\n",
       "    <tr>\n",
       "      <th>50%</th>\n",
       "      <td>13.000000</td>\n",
       "      <td>3.000000</td>\n",
       "      <td>4.000000</td>\n",
       "      <td>6.000000</td>\n",
       "      <td>12.000000</td>\n",
       "      <td>5.000000</td>\n",
       "      <td>0.000000</td>\n",
       "      <td>0.000000</td>\n",
       "      <td>0.000000</td>\n",
       "      <td>0.000000</td>\n",
       "      <td>15.000000</td>\n",
       "      <td>3.000000</td>\n",
       "      <td>4.000000</td>\n",
       "      <td>6.500000</td>\n",
       "      <td>12.000000</td>\n",
       "    </tr>\n",
       "    <tr>\n",
       "      <th>75%</th>\n",
       "      <td>18.000000</td>\n",
       "      <td>23.000000</td>\n",
       "      <td>26.750000</td>\n",
       "      <td>28.750000</td>\n",
       "      <td>85.250000</td>\n",
       "      <td>10.000000</td>\n",
       "      <td>0.750000</td>\n",
       "      <td>1.750000</td>\n",
       "      <td>1.000000</td>\n",
       "      <td>4.750000</td>\n",
       "      <td>26.000000</td>\n",
       "      <td>24.500000</td>\n",
       "      <td>28.000000</td>\n",
       "      <td>29.000000</td>\n",
       "      <td>87.750000</td>\n",
       "    </tr>\n",
       "    <tr>\n",
       "      <th>max</th>\n",
       "      <td>27.000000</td>\n",
       "      <td>976.000000</td>\n",
       "      <td>757.000000</td>\n",
       "      <td>666.000000</td>\n",
       "      <td>2399.000000</td>\n",
       "      <td>22.000000</td>\n",
       "      <td>118.000000</td>\n",
       "      <td>111.000000</td>\n",
       "      <td>100.000000</td>\n",
       "      <td>329.000000</td>\n",
       "      <td>49.000000</td>\n",
       "      <td>1072.000000</td>\n",
       "      <td>859.000000</td>\n",
       "      <td>750.000000</td>\n",
       "      <td>2681.000000</td>\n",
       "    </tr>\n",
       "  </tbody>\n",
       "</table>\n",
       "</div>"
      ],
      "text/plain": [
       "         # Summer        Gold      Silver      Bronze        Total  \\\n",
       "count  146.000000  146.000000  146.000000  146.000000   146.000000   \n",
       "mean    13.383562   32.938356   32.705479   35.136986   100.780822   \n",
       "std      7.006657   96.745184   80.648421   77.118416   252.700436   \n",
       "min      1.000000    0.000000    0.000000    0.000000     0.000000   \n",
       "25%      8.000000    0.000000    1.000000    1.000000     2.000000   \n",
       "50%     13.000000    3.000000    4.000000    6.000000    12.000000   \n",
       "75%     18.000000   23.000000   26.750000   28.750000    85.250000   \n",
       "max     27.000000  976.000000  757.000000  666.000000  2399.000000   \n",
       "\n",
       "         # Winter      Gold.1    Silver.1    Bronze.1     Total.1     # Games  \\\n",
       "count  146.000000  146.000000  146.000000  146.000000  146.000000  146.000000   \n",
       "mean     6.595890    6.568493    6.561644    6.493151   19.623288   19.979452   \n",
       "std      7.349012   18.975086   18.606996   17.499654   54.640914   13.084062   \n",
       "min      0.000000    0.000000    0.000000    0.000000    0.000000    1.000000   \n",
       "25%      0.000000    0.000000    0.000000    0.000000    0.000000   11.000000   \n",
       "50%      5.000000    0.000000    0.000000    0.000000    0.000000   15.000000   \n",
       "75%     10.000000    0.750000    1.750000    1.000000    4.750000   26.000000   \n",
       "max     22.000000  118.000000  111.000000  100.000000  329.000000   49.000000   \n",
       "\n",
       "            Gold.2    Silver.2    Bronze.2  Combined total  \n",
       "count   146.000000  146.000000  146.000000      146.000000  \n",
       "mean     39.506849   39.267123   41.630137      120.404110  \n",
       "std     109.932471   93.984393   89.826117      291.988913  \n",
       "min       0.000000    0.000000    0.000000        1.000000  \n",
       "25%       0.000000    1.000000    1.000000        2.250000  \n",
       "50%       3.000000    4.000000    6.500000       12.000000  \n",
       "75%      24.500000   28.000000   29.000000       87.750000  \n",
       "max    1072.000000  859.000000  750.000000     2681.000000  "
      ]
     },
     "execution_count": 44,
     "metadata": {},
     "output_type": "execute_result"
    }
   ],
   "source": [
    "olympics.describe()"
   ]
  },
  {
   "cell_type": "markdown",
   "metadata": {
    "colab_type": "text",
    "id": "pQkHLR7fSDpb"
   },
   "source": [
    "¿Which country obtained the highest number of gold medals in the Summer Olympic Games ?"
   ]
  },
  {
   "cell_type": "code",
   "execution_count": 45,
   "metadata": {
    "colab": {
     "base_uri": "https://localhost:8080/",
     "height": 80
    },
    "colab_type": "code",
    "id": "N8GiaOezSDpd",
    "outputId": "4a0328ec-4cdb-4b86-ceb1-6f773b523b1b"
   },
   "outputs": [
    {
     "data": {
      "text/html": [
       "<div>\n",
       "<style scoped>\n",
       "    .dataframe tbody tr th:only-of-type {\n",
       "        vertical-align: middle;\n",
       "    }\n",
       "\n",
       "    .dataframe tbody tr th {\n",
       "        vertical-align: top;\n",
       "    }\n",
       "\n",
       "    .dataframe thead th {\n",
       "        text-align: right;\n",
       "    }\n",
       "</style>\n",
       "<table border=\"1\" class=\"dataframe\">\n",
       "  <thead>\n",
       "    <tr style=\"text-align: right;\">\n",
       "      <th></th>\n",
       "      <th># Summer</th>\n",
       "      <th>Gold</th>\n",
       "      <th>Silver</th>\n",
       "      <th>Bronze</th>\n",
       "      <th>Total</th>\n",
       "      <th># Winter</th>\n",
       "      <th>Gold.1</th>\n",
       "      <th>Silver.1</th>\n",
       "      <th>Bronze.1</th>\n",
       "      <th>Total.1</th>\n",
       "      <th># Games</th>\n",
       "      <th>Gold.2</th>\n",
       "      <th>Silver.2</th>\n",
       "      <th>Bronze.2</th>\n",
       "      <th>Combined total</th>\n",
       "      <th>ID</th>\n",
       "    </tr>\n",
       "  </thead>\n",
       "  <tbody>\n",
       "    <tr>\n",
       "      <th>United States</th>\n",
       "      <td>26</td>\n",
       "      <td>976</td>\n",
       "      <td>757</td>\n",
       "      <td>666</td>\n",
       "      <td>2399</td>\n",
       "      <td>22</td>\n",
       "      <td>96</td>\n",
       "      <td>102</td>\n",
       "      <td>84</td>\n",
       "      <td>282</td>\n",
       "      <td>48</td>\n",
       "      <td>1072</td>\n",
       "      <td>859</td>\n",
       "      <td>750</td>\n",
       "      <td>2681</td>\n",
       "      <td>USA</td>\n",
       "    </tr>\n",
       "  </tbody>\n",
       "</table>\n",
       "</div>"
      ],
      "text/plain": [
       "               # Summer  Gold  Silver  Bronze  Total  # Winter  Gold.1  \\\n",
       "United States        26   976     757     666   2399        22      96   \n",
       "\n",
       "               Silver.1  Bronze.1  Total.1  # Games  Gold.2  Silver.2  \\\n",
       "United States       102        84      282       48    1072       859   \n",
       "\n",
       "               Bronze.2  Combined total   ID  \n",
       "United States       750            2681  USA  "
      ]
     },
     "execution_count": 45,
     "metadata": {},
     "output_type": "execute_result"
    }
   ],
   "source": [
    "olympics[olympics['Gold']==max(olympics['Gold'])]"
   ]
  },
  {
   "cell_type": "markdown",
   "metadata": {},
   "source": [
    "This is actually a shortcut:"
   ]
  },
  {
   "cell_type": "code",
   "execution_count": 46,
   "metadata": {
    "colab": {
     "base_uri": "https://localhost:8080/",
     "height": 34
    },
    "colab_type": "code",
    "id": "eTtvnvh2SDph",
    "outputId": "68d5cdf7-f3a7-4bed-dc3f-cb13f4730f05"
   },
   "outputs": [
    {
     "data": {
      "text/plain": [
       "'United States'"
      ]
     },
     "execution_count": 46,
     "metadata": {},
     "output_type": "execute_result"
    }
   ],
   "source": [
    "olympics.Gold.idxmax()"
   ]
  },
  {
   "cell_type": "markdown",
   "metadata": {
    "colab_type": "text",
    "id": "KphGpHAxSDpl"
   },
   "source": [
    "List the countries that have obtained more medals (each medal counts the same) in the winter that in the summer games."
   ]
  },
  {
   "cell_type": "code",
   "execution_count": 47,
   "metadata": {
    "colab": {
     "base_uri": "https://localhost:8080/",
     "height": 34
    },
    "colab_type": "code",
    "id": "yI6X0my5SDpn",
    "outputId": "36ab07eb-36af-47c8-8d5f-acbc6220d191"
   },
   "outputs": [
    {
     "data": {
      "text/plain": [
       "['Austria', 'Liechtenstein', 'Norway']"
      ]
     },
     "execution_count": 47,
     "metadata": {},
     "output_type": "execute_result"
    }
   ],
   "source": [
    "## your answer here\n",
    "list(olympics[olympics['Total'] < olympics['Total.1']].index)"
   ]
  },
  {
   "cell_type": "markdown",
   "metadata": {
    "colab_type": "text",
    "id": "3MWdv5-QSDpr"
   },
   "source": [
    "## Creating new columns and applying functions on columns"
   ]
  },
  {
   "cell_type": "markdown",
   "metadata": {
    "colab_type": "text",
    "id": "IY7xoJSDSDpr"
   },
   "source": [
    "To add a new column to our table, it is as simple as assigning a new column value."
   ]
  },
  {
   "cell_type": "code",
   "execution_count": 48,
   "metadata": {
    "colab": {},
    "colab_type": "code",
    "id": "Ph13pv5VSDps"
   },
   "outputs": [
    {
     "data": {
      "text/html": [
       "<div>\n",
       "<style scoped>\n",
       "    .dataframe tbody tr th:only-of-type {\n",
       "        vertical-align: middle;\n",
       "    }\n",
       "\n",
       "    .dataframe tbody tr th {\n",
       "        vertical-align: top;\n",
       "    }\n",
       "\n",
       "    .dataframe thead th {\n",
       "        text-align: right;\n",
       "    }\n",
       "</style>\n",
       "<table border=\"1\" class=\"dataframe\">\n",
       "  <thead>\n",
       "    <tr style=\"text-align: right;\">\n",
       "      <th></th>\n",
       "      <th>total_bill</th>\n",
       "      <th>tip</th>\n",
       "      <th>sex</th>\n",
       "      <th>smoker</th>\n",
       "      <th>day</th>\n",
       "      <th>time</th>\n",
       "      <th>size</th>\n",
       "      <th>new_col</th>\n",
       "    </tr>\n",
       "  </thead>\n",
       "  <tbody>\n",
       "    <tr>\n",
       "      <th>0</th>\n",
       "      <td>16.99</td>\n",
       "      <td>1.01</td>\n",
       "      <td>Female</td>\n",
       "      <td>No</td>\n",
       "      <td>Sun</td>\n",
       "      <td>Dinner</td>\n",
       "      <td>2</td>\n",
       "      <td>None</td>\n",
       "    </tr>\n",
       "    <tr>\n",
       "      <th>1</th>\n",
       "      <td>10.34</td>\n",
       "      <td>1.66</td>\n",
       "      <td>Male</td>\n",
       "      <td>No</td>\n",
       "      <td>Sun</td>\n",
       "      <td>Dinner</td>\n",
       "      <td>3</td>\n",
       "      <td>None</td>\n",
       "    </tr>\n",
       "    <tr>\n",
       "      <th>2</th>\n",
       "      <td>21.01</td>\n",
       "      <td>3.50</td>\n",
       "      <td>Male</td>\n",
       "      <td>No</td>\n",
       "      <td>Sun</td>\n",
       "      <td>Dinner</td>\n",
       "      <td>3</td>\n",
       "      <td>None</td>\n",
       "    </tr>\n",
       "    <tr>\n",
       "      <th>3</th>\n",
       "      <td>23.68</td>\n",
       "      <td>3.31</td>\n",
       "      <td>Male</td>\n",
       "      <td>No</td>\n",
       "      <td>Sun</td>\n",
       "      <td>Dinner</td>\n",
       "      <td>2</td>\n",
       "      <td>None</td>\n",
       "    </tr>\n",
       "    <tr>\n",
       "      <th>4</th>\n",
       "      <td>24.59</td>\n",
       "      <td>3.61</td>\n",
       "      <td>Female</td>\n",
       "      <td>No</td>\n",
       "      <td>Sun</td>\n",
       "      <td>Dinner</td>\n",
       "      <td>4</td>\n",
       "      <td>None</td>\n",
       "    </tr>\n",
       "  </tbody>\n",
       "</table>\n",
       "</div>"
      ],
      "text/plain": [
       "   total_bill   tip     sex smoker  day    time  size new_col\n",
       "0       16.99  1.01  Female     No  Sun  Dinner     2    None\n",
       "1       10.34  1.66    Male     No  Sun  Dinner     3    None\n",
       "2       21.01  3.50    Male     No  Sun  Dinner     3    None\n",
       "3       23.68  3.31    Male     No  Sun  Dinner     2    None\n",
       "4       24.59  3.61  Female     No  Sun  Dinner     4    None"
      ]
     },
     "execution_count": 48,
     "metadata": {},
     "output_type": "execute_result"
    }
   ],
   "source": [
    "df['new_col'] = None\n",
    "df.head()"
   ]
  },
  {
   "cell_type": "markdown",
   "metadata": {
    "colab_type": "text",
    "id": "ETumS-D5SDpu"
   },
   "source": [
    "We can also create columns using numpy functions. For instance, we will fill the new column with random numbers sampled from a normal distribution."
   ]
  },
  {
   "cell_type": "code",
   "execution_count": 49,
   "metadata": {
    "colab": {
     "base_uri": "https://localhost:8080/",
     "height": 204
    },
    "colab_type": "code",
    "id": "av00grFnSDpv",
    "outputId": "2d7279f0-2831-4f25-ed88-15e2490bcf8f"
   },
   "outputs": [
    {
     "data": {
      "text/html": [
       "<div>\n",
       "<style scoped>\n",
       "    .dataframe tbody tr th:only-of-type {\n",
       "        vertical-align: middle;\n",
       "    }\n",
       "\n",
       "    .dataframe tbody tr th {\n",
       "        vertical-align: top;\n",
       "    }\n",
       "\n",
       "    .dataframe thead th {\n",
       "        text-align: right;\n",
       "    }\n",
       "</style>\n",
       "<table border=\"1\" class=\"dataframe\">\n",
       "  <thead>\n",
       "    <tr style=\"text-align: right;\">\n",
       "      <th></th>\n",
       "      <th>total_bill</th>\n",
       "      <th>tip</th>\n",
       "      <th>sex</th>\n",
       "      <th>smoker</th>\n",
       "      <th>day</th>\n",
       "      <th>time</th>\n",
       "      <th>size</th>\n",
       "      <th>new_col</th>\n",
       "    </tr>\n",
       "  </thead>\n",
       "  <tbody>\n",
       "    <tr>\n",
       "      <th>0</th>\n",
       "      <td>16.99</td>\n",
       "      <td>1.01</td>\n",
       "      <td>Female</td>\n",
       "      <td>No</td>\n",
       "      <td>Sun</td>\n",
       "      <td>Dinner</td>\n",
       "      <td>2</td>\n",
       "      <td>0.464786</td>\n",
       "    </tr>\n",
       "    <tr>\n",
       "      <th>1</th>\n",
       "      <td>10.34</td>\n",
       "      <td>1.66</td>\n",
       "      <td>Male</td>\n",
       "      <td>No</td>\n",
       "      <td>Sun</td>\n",
       "      <td>Dinner</td>\n",
       "      <td>3</td>\n",
       "      <td>-0.934138</td>\n",
       "    </tr>\n",
       "    <tr>\n",
       "      <th>2</th>\n",
       "      <td>21.01</td>\n",
       "      <td>3.50</td>\n",
       "      <td>Male</td>\n",
       "      <td>No</td>\n",
       "      <td>Sun</td>\n",
       "      <td>Dinner</td>\n",
       "      <td>3</td>\n",
       "      <td>2.130752</td>\n",
       "    </tr>\n",
       "    <tr>\n",
       "      <th>3</th>\n",
       "      <td>23.68</td>\n",
       "      <td>3.31</td>\n",
       "      <td>Male</td>\n",
       "      <td>No</td>\n",
       "      <td>Sun</td>\n",
       "      <td>Dinner</td>\n",
       "      <td>2</td>\n",
       "      <td>-0.866834</td>\n",
       "    </tr>\n",
       "    <tr>\n",
       "      <th>4</th>\n",
       "      <td>24.59</td>\n",
       "      <td>3.61</td>\n",
       "      <td>Female</td>\n",
       "      <td>No</td>\n",
       "      <td>Sun</td>\n",
       "      <td>Dinner</td>\n",
       "      <td>4</td>\n",
       "      <td>0.160842</td>\n",
       "    </tr>\n",
       "  </tbody>\n",
       "</table>\n",
       "</div>"
      ],
      "text/plain": [
       "   total_bill   tip     sex smoker  day    time  size   new_col\n",
       "0       16.99  1.01  Female     No  Sun  Dinner     2  0.464786\n",
       "1       10.34  1.66    Male     No  Sun  Dinner     3 -0.934138\n",
       "2       21.01  3.50    Male     No  Sun  Dinner     3  2.130752\n",
       "3       23.68  3.31    Male     No  Sun  Dinner     2 -0.866834\n",
       "4       24.59  3.61  Female     No  Sun  Dinner     4  0.160842"
      ]
     },
     "execution_count": 49,
     "metadata": {},
     "output_type": "execute_result"
    }
   ],
   "source": [
    "df['new_col'] = np.random.randn(len(df))\n",
    "df.head()"
   ]
  },
  {
   "cell_type": "markdown",
   "metadata": {
    "colab_type": "text",
    "id": "3ZnwkjiySDpx"
   },
   "source": [
    "We can also combine other columns of the dataframe."
   ]
  },
  {
   "cell_type": "code",
   "execution_count": 50,
   "metadata": {
    "colab": {},
    "colab_type": "code",
    "id": "XjnkrSiESDpy",
    "outputId": "b09fe5ad-2780-4cda-da34-4d4e98c2a3be"
   },
   "outputs": [
    {
     "data": {
      "text/html": [
       "<div>\n",
       "<style scoped>\n",
       "    .dataframe tbody tr th:only-of-type {\n",
       "        vertical-align: middle;\n",
       "    }\n",
       "\n",
       "    .dataframe tbody tr th {\n",
       "        vertical-align: top;\n",
       "    }\n",
       "\n",
       "    .dataframe thead th {\n",
       "        text-align: right;\n",
       "    }\n",
       "</style>\n",
       "<table border=\"1\" class=\"dataframe\">\n",
       "  <thead>\n",
       "    <tr style=\"text-align: right;\">\n",
       "      <th></th>\n",
       "      <th>total_bill</th>\n",
       "      <th>tip</th>\n",
       "      <th>sex</th>\n",
       "      <th>smoker</th>\n",
       "      <th>day</th>\n",
       "      <th>time</th>\n",
       "      <th>size</th>\n",
       "      <th>total_bill_rand</th>\n",
       "    </tr>\n",
       "  </thead>\n",
       "  <tbody>\n",
       "    <tr>\n",
       "      <th>0</th>\n",
       "      <td>16.99</td>\n",
       "      <td>1.01</td>\n",
       "      <td>Female</td>\n",
       "      <td>No</td>\n",
       "      <td>Sun</td>\n",
       "      <td>Dinner</td>\n",
       "      <td>2</td>\n",
       "      <td>19.229865</td>\n",
       "    </tr>\n",
       "    <tr>\n",
       "      <th>1</th>\n",
       "      <td>10.34</td>\n",
       "      <td>1.66</td>\n",
       "      <td>Male</td>\n",
       "      <td>No</td>\n",
       "      <td>Sun</td>\n",
       "      <td>Dinner</td>\n",
       "      <td>3</td>\n",
       "      <td>11.235986</td>\n",
       "    </tr>\n",
       "    <tr>\n",
       "      <th>2</th>\n",
       "      <td>21.01</td>\n",
       "      <td>3.50</td>\n",
       "      <td>Male</td>\n",
       "      <td>No</td>\n",
       "      <td>Sun</td>\n",
       "      <td>Dinner</td>\n",
       "      <td>3</td>\n",
       "      <td>21.413654</td>\n",
       "    </tr>\n",
       "    <tr>\n",
       "      <th>3</th>\n",
       "      <td>23.68</td>\n",
       "      <td>3.31</td>\n",
       "      <td>Male</td>\n",
       "      <td>No</td>\n",
       "      <td>Sun</td>\n",
       "      <td>Dinner</td>\n",
       "      <td>2</td>\n",
       "      <td>24.105713</td>\n",
       "    </tr>\n",
       "    <tr>\n",
       "      <th>4</th>\n",
       "      <td>24.59</td>\n",
       "      <td>3.61</td>\n",
       "      <td>Female</td>\n",
       "      <td>No</td>\n",
       "      <td>Sun</td>\n",
       "      <td>Dinner</td>\n",
       "      <td>4</td>\n",
       "      <td>23.437885</td>\n",
       "    </tr>\n",
       "  </tbody>\n",
       "</table>\n",
       "</div>"
      ],
      "text/plain": [
       "   total_bill   tip     sex smoker  day    time  size  total_bill_rand\n",
       "0       16.99  1.01  Female     No  Sun  Dinner     2        19.229865\n",
       "1       10.34  1.66    Male     No  Sun  Dinner     3        11.235986\n",
       "2       21.01  3.50    Male     No  Sun  Dinner     3        21.413654\n",
       "3       23.68  3.31    Male     No  Sun  Dinner     2        24.105713\n",
       "4       24.59  3.61  Female     No  Sun  Dinner     4        23.437885"
      ]
     },
     "execution_count": 50,
     "metadata": {},
     "output_type": "execute_result"
    }
   ],
   "source": [
    "del df['new_col']\n",
    "df['total_bill_rand'] = np.random.randn(len(df)) + df['total_bill']\n",
    "df.head()"
   ]
  },
  {
   "cell_type": "markdown",
   "metadata": {
    "colab_type": "text",
    "id": "6aGKnkk1SDp3"
   },
   "source": [
    "A very important method in pandas is `apply`, which allows to apply any function( from numpy, pandas or defined by us) on a given column or list of columns. \n",
    "\n",
    "For instance, we can calculate the square root of the columns total_bill, tip y total_bill_rand:"
   ]
  },
  {
   "cell_type": "code",
   "execution_count": 51,
   "metadata": {
    "colab": {},
    "colab_type": "code",
    "id": "JlmVi7R5SDp3",
    "outputId": "e00dd9e4-b9d2-43af-f42f-abbbd57bbb00"
   },
   "outputs": [
    {
     "data": {
      "text/html": [
       "<div>\n",
       "<style scoped>\n",
       "    .dataframe tbody tr th:only-of-type {\n",
       "        vertical-align: middle;\n",
       "    }\n",
       "\n",
       "    .dataframe tbody tr th {\n",
       "        vertical-align: top;\n",
       "    }\n",
       "\n",
       "    .dataframe thead th {\n",
       "        text-align: right;\n",
       "    }\n",
       "</style>\n",
       "<table border=\"1\" class=\"dataframe\">\n",
       "  <thead>\n",
       "    <tr style=\"text-align: right;\">\n",
       "      <th></th>\n",
       "      <th>total_bill</th>\n",
       "      <th>tip</th>\n",
       "      <th>total_bill_rand</th>\n",
       "    </tr>\n",
       "  </thead>\n",
       "  <tbody>\n",
       "    <tr>\n",
       "      <th>0</th>\n",
       "      <td>4.121893</td>\n",
       "      <td>1.004988</td>\n",
       "      <td>4.385187</td>\n",
       "    </tr>\n",
       "    <tr>\n",
       "      <th>1</th>\n",
       "      <td>3.215587</td>\n",
       "      <td>1.288410</td>\n",
       "      <td>3.352012</td>\n",
       "    </tr>\n",
       "    <tr>\n",
       "      <th>2</th>\n",
       "      <td>4.583667</td>\n",
       "      <td>1.870829</td>\n",
       "      <td>4.627489</td>\n",
       "    </tr>\n",
       "    <tr>\n",
       "      <th>3</th>\n",
       "      <td>4.866210</td>\n",
       "      <td>1.819341</td>\n",
       "      <td>4.909757</td>\n",
       "    </tr>\n",
       "    <tr>\n",
       "      <th>4</th>\n",
       "      <td>4.958831</td>\n",
       "      <td>1.900000</td>\n",
       "      <td>4.841269</td>\n",
       "    </tr>\n",
       "  </tbody>\n",
       "</table>\n",
       "</div>"
      ],
      "text/plain": [
       "   total_bill       tip  total_bill_rand\n",
       "0    4.121893  1.004988         4.385187\n",
       "1    3.215587  1.288410         3.352012\n",
       "2    4.583667  1.870829         4.627489\n",
       "3    4.866210  1.819341         4.909757\n",
       "4    4.958831  1.900000         4.841269"
      ]
     },
     "execution_count": 51,
     "metadata": {},
     "output_type": "execute_result"
    }
   ],
   "source": [
    "df[['total_bill', 'tip', 'total_bill_rand']].apply(np.sqrt).head()"
   ]
  },
  {
   "cell_type": "code",
   "execution_count": 52,
   "metadata": {
    "colab": {},
    "colab_type": "code",
    "id": "1Vh2HvjYSDp6",
    "outputId": "f29fc2d3-0eb8-4d48-8f6d-8177968dc379"
   },
   "outputs": [
    {
     "data": {
      "text/plain": [
       "total_bill           50.81\n",
       "tip                     10\n",
       "sex                   Male\n",
       "smoker                 Yes\n",
       "day                   Thur\n",
       "time                 Lunch\n",
       "size                     6\n",
       "total_bill_rand    50.1505\n",
       "dtype: object"
      ]
     },
     "execution_count": 52,
     "metadata": {},
     "output_type": "execute_result"
    }
   ],
   "source": [
    "df.apply(np.max)"
   ]
  },
  {
   "cell_type": "markdown",
   "metadata": {
    "colab_type": "text",
    "id": "ZeIe4VLuSDp9"
   },
   "source": [
    "LEt's see another example with a user defined function_"
   ]
  },
  {
   "cell_type": "code",
   "execution_count": 53,
   "metadata": {
    "colab": {},
    "colab_type": "code",
    "id": "NZBEy9heSDp-"
   },
   "outputs": [],
   "source": [
    "def small_filter(x, y):   \n",
    "    x[x<y] = 0\n",
    "    return x"
   ]
  },
  {
   "cell_type": "code",
   "execution_count": 54,
   "metadata": {
    "colab": {},
    "colab_type": "code",
    "id": "DP7BdVrhSDqC",
    "outputId": "827762ab-ef06-4b66-be22-9599ebc7252e"
   },
   "outputs": [
    {
     "data": {
      "text/html": [
       "<div>\n",
       "<style scoped>\n",
       "    .dataframe tbody tr th:only-of-type {\n",
       "        vertical-align: middle;\n",
       "    }\n",
       "\n",
       "    .dataframe tbody tr th {\n",
       "        vertical-align: top;\n",
       "    }\n",
       "\n",
       "    .dataframe thead th {\n",
       "        text-align: right;\n",
       "    }\n",
       "</style>\n",
       "<table border=\"1\" class=\"dataframe\">\n",
       "  <thead>\n",
       "    <tr style=\"text-align: right;\">\n",
       "      <th></th>\n",
       "      <th>total_bill</th>\n",
       "    </tr>\n",
       "  </thead>\n",
       "  <tbody>\n",
       "    <tr>\n",
       "      <th>0</th>\n",
       "      <td>0.00</td>\n",
       "    </tr>\n",
       "    <tr>\n",
       "      <th>1</th>\n",
       "      <td>0.00</td>\n",
       "    </tr>\n",
       "    <tr>\n",
       "      <th>2</th>\n",
       "      <td>21.01</td>\n",
       "    </tr>\n",
       "    <tr>\n",
       "      <th>3</th>\n",
       "      <td>23.68</td>\n",
       "    </tr>\n",
       "    <tr>\n",
       "      <th>4</th>\n",
       "      <td>24.59</td>\n",
       "    </tr>\n",
       "  </tbody>\n",
       "</table>\n",
       "</div>"
      ],
      "text/plain": [
       "   total_bill\n",
       "0        0.00\n",
       "1        0.00\n",
       "2       21.01\n",
       "3       23.68\n",
       "4       24.59"
      ]
     },
     "execution_count": 54,
     "metadata": {},
     "output_type": "execute_result"
    }
   ],
   "source": [
    "df[['total_bill']].apply(small_filter, args=[df['total_bill'].mean()]).head()"
   ]
  },
  {
   "cell_type": "markdown",
   "metadata": {
    "colab_type": "text",
    "id": "6eT8abKZqxwn"
   },
   "source": [
    "Another way to do it is to use `where`:  if the condition is True, the value is unchanged, but if it is False, the argument is replaced with the alternative argument."
   ]
  },
  {
   "cell_type": "code",
   "execution_count": 55,
   "metadata": {
    "colab": {
     "base_uri": "https://localhost:8080/",
     "height": 119
    },
    "colab_type": "code",
    "id": "l4vA6vLTp_HO",
    "outputId": "4ca52819-66c0-4c8a-8387-493e8e7ecb4a"
   },
   "outputs": [
    {
     "data": {
      "text/plain": [
       "0     0.00\n",
       "1     0.00\n",
       "2    21.01\n",
       "3    23.68\n",
       "4    24.59\n",
       "Name: total_bill, dtype: float64"
      ]
     },
     "execution_count": 55,
     "metadata": {},
     "output_type": "execute_result"
    }
   ],
   "source": [
    "mask=df['total_bill']>df['total_bill'].mean()\n",
    "df['total_bill'].where(mask,0).head()"
   ]
  },
  {
   "cell_type": "markdown",
   "metadata": {
    "colab_type": "text",
    "id": "8BZTcJwbSDqH"
   },
   "source": [
    "### Exercise\n",
    "\n",
    "We work on the olympics dataset. Get the countries that have obtained more points in winter than summer games. Points are calculated in the following way: bronze 1, silver 2, gold 3."
   ]
  },
  {
   "cell_type": "code",
   "execution_count": 56,
   "metadata": {
    "colab": {},
    "colab_type": "code",
    "id": "-ZI3myrcSDqI"
   },
   "outputs": [],
   "source": [
    "olympics['points_summer'] = 3*olympics['Gold'] + 2*olympics['Silver'] + olympics['Bronze']\n",
    "olympics['points_winter'] = 3*olympics['Gold.1'] + 2*olympics['Silver.1'] + olympics['Bronze.1']"
   ]
  },
  {
   "cell_type": "code",
   "execution_count": 57,
   "metadata": {
    "colab": {},
    "colab_type": "code",
    "id": "zKPV12xKSDqJ",
    "outputId": "9d514673-c1ed-4189-cf28-19b3ee606001"
   },
   "outputs": [
    {
     "data": {
      "text/html": [
       "<div>\n",
       "<style scoped>\n",
       "    .dataframe tbody tr th:only-of-type {\n",
       "        vertical-align: middle;\n",
       "    }\n",
       "\n",
       "    .dataframe tbody tr th {\n",
       "        vertical-align: top;\n",
       "    }\n",
       "\n",
       "    .dataframe thead th {\n",
       "        text-align: right;\n",
       "    }\n",
       "</style>\n",
       "<table border=\"1\" class=\"dataframe\">\n",
       "  <thead>\n",
       "    <tr style=\"text-align: right;\">\n",
       "      <th></th>\n",
       "      <th># Summer</th>\n",
       "      <th>Gold</th>\n",
       "      <th>Silver</th>\n",
       "      <th>Bronze</th>\n",
       "      <th>Total</th>\n",
       "      <th># Winter</th>\n",
       "      <th>Gold.1</th>\n",
       "      <th>Silver.1</th>\n",
       "      <th>Bronze.1</th>\n",
       "      <th>Total.1</th>\n",
       "      <th># Games</th>\n",
       "      <th>Gold.2</th>\n",
       "      <th>Silver.2</th>\n",
       "      <th>Bronze.2</th>\n",
       "      <th>Combined total</th>\n",
       "      <th>ID</th>\n",
       "      <th>points_summer</th>\n",
       "      <th>points_winter</th>\n",
       "    </tr>\n",
       "  </thead>\n",
       "  <tbody>\n",
       "    <tr>\n",
       "      <th>Austria</th>\n",
       "      <td>26</td>\n",
       "      <td>18</td>\n",
       "      <td>33</td>\n",
       "      <td>35</td>\n",
       "      <td>86</td>\n",
       "      <td>22</td>\n",
       "      <td>59</td>\n",
       "      <td>78</td>\n",
       "      <td>81</td>\n",
       "      <td>218</td>\n",
       "      <td>48</td>\n",
       "      <td>77</td>\n",
       "      <td>111</td>\n",
       "      <td>116</td>\n",
       "      <td>304</td>\n",
       "      <td>AUT</td>\n",
       "      <td>155</td>\n",
       "      <td>414</td>\n",
       "    </tr>\n",
       "    <tr>\n",
       "      <th>Liechtenstein</th>\n",
       "      <td>16</td>\n",
       "      <td>0</td>\n",
       "      <td>0</td>\n",
       "      <td>0</td>\n",
       "      <td>0</td>\n",
       "      <td>18</td>\n",
       "      <td>2</td>\n",
       "      <td>2</td>\n",
       "      <td>5</td>\n",
       "      <td>9</td>\n",
       "      <td>34</td>\n",
       "      <td>2</td>\n",
       "      <td>2</td>\n",
       "      <td>5</td>\n",
       "      <td>9</td>\n",
       "      <td>LIE</td>\n",
       "      <td>0</td>\n",
       "      <td>15</td>\n",
       "    </tr>\n",
       "    <tr>\n",
       "      <th>Norway</th>\n",
       "      <td>24</td>\n",
       "      <td>56</td>\n",
       "      <td>49</td>\n",
       "      <td>43</td>\n",
       "      <td>148</td>\n",
       "      <td>22</td>\n",
       "      <td>118</td>\n",
       "      <td>111</td>\n",
       "      <td>100</td>\n",
       "      <td>329</td>\n",
       "      <td>46</td>\n",
       "      <td>174</td>\n",
       "      <td>160</td>\n",
       "      <td>143</td>\n",
       "      <td>477</td>\n",
       "      <td>NOR</td>\n",
       "      <td>309</td>\n",
       "      <td>676</td>\n",
       "    </tr>\n",
       "  </tbody>\n",
       "</table>\n",
       "</div>"
      ],
      "text/plain": [
       "               # Summer  Gold  Silver  Bronze  Total  # Winter  Gold.1  \\\n",
       "Austria              26    18      33      35     86        22      59   \n",
       "Liechtenstein        16     0       0       0      0        18       2   \n",
       "Norway               24    56      49      43    148        22     118   \n",
       "\n",
       "               Silver.1  Bronze.1  Total.1  # Games  Gold.2  Silver.2  \\\n",
       "Austria              78        81      218       48      77       111   \n",
       "Liechtenstein         2         5        9       34       2         2   \n",
       "Norway              111       100      329       46     174       160   \n",
       "\n",
       "               Bronze.2  Combined total   ID  points_summer  points_winter  \n",
       "Austria             116             304  AUT            155            414  \n",
       "Liechtenstein         5               9  LIE              0             15  \n",
       "Norway              143             477  NOR            309            676  "
      ]
     },
     "execution_count": 57,
     "metadata": {},
     "output_type": "execute_result"
    }
   ],
   "source": [
    "olympics[olympics['points_summer'] < olympics['points_winter']]"
   ]
  },
  {
   "cell_type": "markdown",
   "metadata": {
    "colab_type": "text",
    "id": "oFo9N1UDSDqL"
   },
   "source": [
    "¿Which country has the smallest relative diference between summer and winter points, i.e. compute for every country\n",
    "$$\n",
    "dif\\_rel = \\frac{|points\\_ summer - points\\_winter|}{points\\_summer + points\\_winter} \n",
    "$$"
   ]
  },
  {
   "cell_type": "code",
   "execution_count": 58,
   "metadata": {
    "colab": {},
    "colab_type": "code",
    "id": "RujVfR8CSDqL"
   },
   "outputs": [],
   "source": [
    "import numpy as np\n",
    "olympics['dif_rel'] = np.abs(olympics['points_summer'] - olympics['points_winter'])/(olympics['points_summer'] + olympics['points_winter'])"
   ]
  },
  {
   "cell_type": "code",
   "execution_count": 59,
   "metadata": {
    "colab": {},
    "colab_type": "code",
    "id": "cXCAn6aiSDqM",
    "outputId": "9c6cb31a-6fc3-4a5c-f4b1-4145a19a1bc8"
   },
   "outputs": [
    {
     "data": {
      "text/html": [
       "<div>\n",
       "<style scoped>\n",
       "    .dataframe tbody tr th:only-of-type {\n",
       "        vertical-align: middle;\n",
       "    }\n",
       "\n",
       "    .dataframe tbody tr th {\n",
       "        vertical-align: top;\n",
       "    }\n",
       "\n",
       "    .dataframe thead th {\n",
       "        text-align: right;\n",
       "    }\n",
       "</style>\n",
       "<table border=\"1\" class=\"dataframe\">\n",
       "  <thead>\n",
       "    <tr style=\"text-align: right;\">\n",
       "      <th></th>\n",
       "      <th># Summer</th>\n",
       "      <th>Gold</th>\n",
       "      <th>Silver</th>\n",
       "      <th>Bronze</th>\n",
       "      <th>Total</th>\n",
       "      <th># Winter</th>\n",
       "      <th>Gold.1</th>\n",
       "      <th>Silver.1</th>\n",
       "      <th>Bronze.1</th>\n",
       "      <th>Total.1</th>\n",
       "      <th># Games</th>\n",
       "      <th>Gold.2</th>\n",
       "      <th>Silver.2</th>\n",
       "      <th>Bronze.2</th>\n",
       "      <th>Combined total</th>\n",
       "      <th>ID</th>\n",
       "      <th>points_summer</th>\n",
       "      <th>points_winter</th>\n",
       "      <th>dif_rel</th>\n",
       "    </tr>\n",
       "  </thead>\n",
       "  <tbody>\n",
       "    <tr>\n",
       "      <th>Luxembourg</th>\n",
       "      <td>22</td>\n",
       "      <td>1</td>\n",
       "      <td>1</td>\n",
       "      <td>0</td>\n",
       "      <td>2</td>\n",
       "      <td>8</td>\n",
       "      <td>0</td>\n",
       "      <td>2</td>\n",
       "      <td>0</td>\n",
       "      <td>2</td>\n",
       "      <td>30</td>\n",
       "      <td>1</td>\n",
       "      <td>3</td>\n",
       "      <td>0</td>\n",
       "      <td>4</td>\n",
       "      <td>LUX</td>\n",
       "      <td>5</td>\n",
       "      <td>4</td>\n",
       "      <td>0.111111</td>\n",
       "    </tr>\n",
       "  </tbody>\n",
       "</table>\n",
       "</div>"
      ],
      "text/plain": [
       "            # Summer  Gold  Silver  Bronze  Total  # Winter  Gold.1  Silver.1  \\\n",
       "Luxembourg        22     1       1       0      2         8       0         2   \n",
       "\n",
       "            Bronze.1  Total.1  # Games  Gold.2  Silver.2  Bronze.2  \\\n",
       "Luxembourg         0        2       30       1         3         0   \n",
       "\n",
       "            Combined total   ID  points_summer  points_winter   dif_rel  \n",
       "Luxembourg               4  LUX              5              4  0.111111  "
      ]
     },
     "execution_count": 59,
     "metadata": {},
     "output_type": "execute_result"
    }
   ],
   "source": [
    "olympics[olympics['dif_rel'] == min(olympics['dif_rel'])]"
   ]
  },
  {
   "cell_type": "markdown",
   "metadata": {
    "colab_type": "text",
    "id": "aW4fztJdSDqO"
   },
   "source": [
    "## Merging dataframes\n",
    "\n",
    "It often happens that relevant information is spread across different tables. For this purpose, pandas has the `merge` operation, that allows to bring together items coming from different tables (a bit like a join in SQL). Let us start with some example data."
   ]
  },
  {
   "cell_type": "code",
   "execution_count": 60,
   "metadata": {
    "colab": {
     "base_uri": "https://localhost:8080/",
     "height": 204
    },
    "colab_type": "code",
    "id": "e7k0Lt1HSDqP",
    "outputId": "c8da1649-9e27-41b6-98a5-fed4a1945989"
   },
   "outputs": [
    {
     "name": "stdout",
     "output_type": "stream",
     "text": [
      "                 Role\n",
      "Name                 \n",
      "Kelly  Director of HR\n",
      "Sally  Course liasion\n",
      "James          Grader\n",
      "\n",
      "            School\n",
      "Name              \n",
      "James     Business\n",
      "Mike           Law\n",
      "Sally  Engineering\n"
     ]
    }
   ],
   "source": [
    "staff_df = pd.DataFrame([{'Name': 'Kelly', 'Role': 'Director of HR'},\n",
    "                         {'Name': 'Sally', 'Role': 'Course liasion'},\n",
    "                         {'Name': 'James', 'Role': 'Grader'}])\n",
    "staff_df = staff_df.set_index('Name')\n",
    "student_df = pd.DataFrame([{'Name': 'James', 'School': 'Business'},\n",
    "                           {'Name': 'Mike', 'School': 'Law'},\n",
    "                           {'Name': 'Sally', 'School': 'Engineering'}])\n",
    "student_df = student_df.set_index('Name')\n",
    "print(staff_df.head())\n",
    "print()\n",
    "print(student_df.head())"
   ]
  },
  {
   "cell_type": "markdown",
   "metadata": {
    "colab_type": "text",
    "id": "Pd6pctTTSDqR"
   },
   "source": [
    "`merge` needs to input 2 tables, the necessary argument `how`, and one column on each table that will be used to establish the correspondence (by default, the index will be taken unless otherwise specified.\n",
    "\n",
    "Let us see the different options that the `how` argument can take.\n",
    "\n",
    "<img src=\"https://media.geeksforgeeks.org/wp-content/uploads/joinimages.png\"  width=\"400\"/> \n",
    "\n",
    "With `outer` the combined table has all the items from the left table (`staff_df`) and the right table (`school_df`) even if there is no matching. For instance, we see that James is Grader on the left table, and he belongs to the Business Faculty, so both values appear in the combined table. But Kelly only appears in the Role table, so in the combined table information on her Faculty is missing (NaN):"
   ]
  },
  {
   "cell_type": "code",
   "execution_count": 61,
   "metadata": {
    "colab": {
     "base_uri": "https://localhost:8080/",
     "height": 204
    },
    "colab_type": "code",
    "id": "M6r4hecySDqR",
    "outputId": "6abceece-10a2-41f9-c0f5-bbc500b8890a"
   },
   "outputs": [
    {
     "data": {
      "text/html": [
       "<div>\n",
       "<style scoped>\n",
       "    .dataframe tbody tr th:only-of-type {\n",
       "        vertical-align: middle;\n",
       "    }\n",
       "\n",
       "    .dataframe tbody tr th {\n",
       "        vertical-align: top;\n",
       "    }\n",
       "\n",
       "    .dataframe thead th {\n",
       "        text-align: right;\n",
       "    }\n",
       "</style>\n",
       "<table border=\"1\" class=\"dataframe\">\n",
       "  <thead>\n",
       "    <tr style=\"text-align: right;\">\n",
       "      <th></th>\n",
       "      <th>Role</th>\n",
       "      <th>School</th>\n",
       "    </tr>\n",
       "    <tr>\n",
       "      <th>Name</th>\n",
       "      <th></th>\n",
       "      <th></th>\n",
       "    </tr>\n",
       "  </thead>\n",
       "  <tbody>\n",
       "    <tr>\n",
       "      <th>James</th>\n",
       "      <td>Grader</td>\n",
       "      <td>Business</td>\n",
       "    </tr>\n",
       "    <tr>\n",
       "      <th>Kelly</th>\n",
       "      <td>Director of HR</td>\n",
       "      <td>NaN</td>\n",
       "    </tr>\n",
       "    <tr>\n",
       "      <th>Mike</th>\n",
       "      <td>NaN</td>\n",
       "      <td>Law</td>\n",
       "    </tr>\n",
       "    <tr>\n",
       "      <th>Sally</th>\n",
       "      <td>Course liasion</td>\n",
       "      <td>Engineering</td>\n",
       "    </tr>\n",
       "  </tbody>\n",
       "</table>\n",
       "</div>"
      ],
      "text/plain": [
       "                 Role       School\n",
       "Name                              \n",
       "James          Grader     Business\n",
       "Kelly  Director of HR          NaN\n",
       "Mike              NaN          Law\n",
       "Sally  Course liasion  Engineering"
      ]
     },
     "execution_count": 61,
     "metadata": {},
     "output_type": "execute_result"
    }
   ],
   "source": [
    "pd.merge(staff_df, student_df, how='outer', left_index=True, right_index=True)"
   ]
  },
  {
   "cell_type": "code",
   "execution_count": 62,
   "metadata": {
    "colab": {
     "base_uri": "https://localhost:8080/",
     "height": 142
    },
    "colab_type": "code",
    "id": "Drv20gusSDqU",
    "outputId": "3ea72e25-a8e1-49f1-db57-ca495ec5b5de"
   },
   "outputs": [
    {
     "data": {
      "text/html": [
       "<div>\n",
       "<style scoped>\n",
       "    .dataframe tbody tr th:only-of-type {\n",
       "        vertical-align: middle;\n",
       "    }\n",
       "\n",
       "    .dataframe tbody tr th {\n",
       "        vertical-align: top;\n",
       "    }\n",
       "\n",
       "    .dataframe thead th {\n",
       "        text-align: right;\n",
       "    }\n",
       "</style>\n",
       "<table border=\"1\" class=\"dataframe\">\n",
       "  <thead>\n",
       "    <tr style=\"text-align: right;\">\n",
       "      <th></th>\n",
       "      <th>Role</th>\n",
       "      <th>School</th>\n",
       "    </tr>\n",
       "    <tr>\n",
       "      <th>Name</th>\n",
       "      <th></th>\n",
       "      <th></th>\n",
       "    </tr>\n",
       "  </thead>\n",
       "  <tbody>\n",
       "    <tr>\n",
       "      <th>Sally</th>\n",
       "      <td>Course liasion</td>\n",
       "      <td>Engineering</td>\n",
       "    </tr>\n",
       "    <tr>\n",
       "      <th>James</th>\n",
       "      <td>Grader</td>\n",
       "      <td>Business</td>\n",
       "    </tr>\n",
       "  </tbody>\n",
       "</table>\n",
       "</div>"
      ],
      "text/plain": [
       "                 Role       School\n",
       "Name                              \n",
       "Sally  Course liasion  Engineering\n",
       "James          Grader     Business"
      ]
     },
     "execution_count": 62,
     "metadata": {},
     "output_type": "execute_result"
    }
   ],
   "source": [
    "pd.merge(staff_df, student_df, how='inner', left_index=True, right_index=True)"
   ]
  },
  {
   "cell_type": "markdown",
   "metadata": {
    "colab_type": "text",
    "id": "t_mfnNhKSDqW"
   },
   "source": [
    "`left` only takes the rows that appear in the left table, and tries to bring in information on the other columns from the right table (whenever possible):"
   ]
  },
  {
   "cell_type": "code",
   "execution_count": 63,
   "metadata": {
    "colab": {
     "base_uri": "https://localhost:8080/",
     "height": 173
    },
    "colab_type": "code",
    "id": "b722i40ZSDqW",
    "outputId": "8e355f8b-7e6b-4ab6-9c9d-470f7b11b7bc"
   },
   "outputs": [
    {
     "data": {
      "text/html": [
       "<div>\n",
       "<style scoped>\n",
       "    .dataframe tbody tr th:only-of-type {\n",
       "        vertical-align: middle;\n",
       "    }\n",
       "\n",
       "    .dataframe tbody tr th {\n",
       "        vertical-align: top;\n",
       "    }\n",
       "\n",
       "    .dataframe thead th {\n",
       "        text-align: right;\n",
       "    }\n",
       "</style>\n",
       "<table border=\"1\" class=\"dataframe\">\n",
       "  <thead>\n",
       "    <tr style=\"text-align: right;\">\n",
       "      <th></th>\n",
       "      <th>Role</th>\n",
       "      <th>School</th>\n",
       "    </tr>\n",
       "    <tr>\n",
       "      <th>Name</th>\n",
       "      <th></th>\n",
       "      <th></th>\n",
       "    </tr>\n",
       "  </thead>\n",
       "  <tbody>\n",
       "    <tr>\n",
       "      <th>Kelly</th>\n",
       "      <td>Director of HR</td>\n",
       "      <td>NaN</td>\n",
       "    </tr>\n",
       "    <tr>\n",
       "      <th>Sally</th>\n",
       "      <td>Course liasion</td>\n",
       "      <td>Engineering</td>\n",
       "    </tr>\n",
       "    <tr>\n",
       "      <th>James</th>\n",
       "      <td>Grader</td>\n",
       "      <td>Business</td>\n",
       "    </tr>\n",
       "  </tbody>\n",
       "</table>\n",
       "</div>"
      ],
      "text/plain": [
       "                 Role       School\n",
       "Name                              \n",
       "Kelly  Director of HR          NaN\n",
       "Sally  Course liasion  Engineering\n",
       "James          Grader     Business"
      ]
     },
     "execution_count": 63,
     "metadata": {},
     "output_type": "execute_result"
    }
   ],
   "source": [
    "pd.merge(staff_df, student_df, how='left', left_index=True, right_index=True)"
   ]
  },
  {
   "cell_type": "markdown",
   "metadata": {
    "colab_type": "text",
    "id": "f6lc4G4SSDqY"
   },
   "source": [
    "`right` works the same as `left`:"
   ]
  },
  {
   "cell_type": "code",
   "execution_count": 64,
   "metadata": {
    "colab": {
     "base_uri": "https://localhost:8080/",
     "height": 173
    },
    "colab_type": "code",
    "id": "iCUBFj3jSDqZ",
    "outputId": "ff84e164-b52f-4509-9605-2da4fdd30b40"
   },
   "outputs": [
    {
     "data": {
      "text/html": [
       "<div>\n",
       "<style scoped>\n",
       "    .dataframe tbody tr th:only-of-type {\n",
       "        vertical-align: middle;\n",
       "    }\n",
       "\n",
       "    .dataframe tbody tr th {\n",
       "        vertical-align: top;\n",
       "    }\n",
       "\n",
       "    .dataframe thead th {\n",
       "        text-align: right;\n",
       "    }\n",
       "</style>\n",
       "<table border=\"1\" class=\"dataframe\">\n",
       "  <thead>\n",
       "    <tr style=\"text-align: right;\">\n",
       "      <th></th>\n",
       "      <th>Role</th>\n",
       "      <th>School</th>\n",
       "    </tr>\n",
       "    <tr>\n",
       "      <th>Name</th>\n",
       "      <th></th>\n",
       "      <th></th>\n",
       "    </tr>\n",
       "  </thead>\n",
       "  <tbody>\n",
       "    <tr>\n",
       "      <th>James</th>\n",
       "      <td>Grader</td>\n",
       "      <td>Business</td>\n",
       "    </tr>\n",
       "    <tr>\n",
       "      <th>Mike</th>\n",
       "      <td>NaN</td>\n",
       "      <td>Law</td>\n",
       "    </tr>\n",
       "    <tr>\n",
       "      <th>Sally</th>\n",
       "      <td>Course liasion</td>\n",
       "      <td>Engineering</td>\n",
       "    </tr>\n",
       "  </tbody>\n",
       "</table>\n",
       "</div>"
      ],
      "text/plain": [
       "                 Role       School\n",
       "Name                              \n",
       "James          Grader     Business\n",
       "Mike              NaN          Law\n",
       "Sally  Course liasion  Engineering"
      ]
     },
     "execution_count": 64,
     "metadata": {},
     "output_type": "execute_result"
    }
   ],
   "source": [
    "pd.merge(staff_df, student_df, how='right', left_index=True, right_index=True)"
   ]
  },
  {
   "cell_type": "markdown",
   "metadata": {
    "colab_type": "text",
    "id": "3Ku8aLdvSDqb"
   },
   "source": [
    "Now we will reset the indices and perform a `merge` specifying whicvh columns we want to use as key in each table:"
   ]
  },
  {
   "cell_type": "code",
   "execution_count": 65,
   "metadata": {
    "colab": {
     "base_uri": "https://localhost:8080/",
     "height": 142
    },
    "colab_type": "code",
    "id": "UNaMtsnRSDqb",
    "outputId": "02492567-6c1a-4ae4-a8be-808f7acf01cf"
   },
   "outputs": [
    {
     "data": {
      "text/html": [
       "<div>\n",
       "<style scoped>\n",
       "    .dataframe tbody tr th:only-of-type {\n",
       "        vertical-align: middle;\n",
       "    }\n",
       "\n",
       "    .dataframe tbody tr th {\n",
       "        vertical-align: top;\n",
       "    }\n",
       "\n",
       "    .dataframe thead th {\n",
       "        text-align: right;\n",
       "    }\n",
       "</style>\n",
       "<table border=\"1\" class=\"dataframe\">\n",
       "  <thead>\n",
       "    <tr style=\"text-align: right;\">\n",
       "      <th></th>\n",
       "      <th>Name</th>\n",
       "      <th>Role</th>\n",
       "      <th>School</th>\n",
       "    </tr>\n",
       "  </thead>\n",
       "  <tbody>\n",
       "    <tr>\n",
       "      <th>0</th>\n",
       "      <td>Kelly</td>\n",
       "      <td>Director of HR</td>\n",
       "      <td>NaN</td>\n",
       "    </tr>\n",
       "    <tr>\n",
       "      <th>1</th>\n",
       "      <td>Sally</td>\n",
       "      <td>Course liasion</td>\n",
       "      <td>Engineering</td>\n",
       "    </tr>\n",
       "    <tr>\n",
       "      <th>2</th>\n",
       "      <td>James</td>\n",
       "      <td>Grader</td>\n",
       "      <td>Business</td>\n",
       "    </tr>\n",
       "  </tbody>\n",
       "</table>\n",
       "</div>"
      ],
      "text/plain": [
       "    Name            Role       School\n",
       "0  Kelly  Director of HR          NaN\n",
       "1  Sally  Course liasion  Engineering\n",
       "2  James          Grader     Business"
      ]
     },
     "execution_count": 65,
     "metadata": {},
     "output_type": "execute_result"
    }
   ],
   "source": [
    "staff_df = staff_df.reset_index()\n",
    "student_df = student_df.reset_index()\n",
    "pd.merge(staff_df, student_df, how='left', left_on='Name', right_on='Name')"
   ]
  },
  {
   "cell_type": "markdown",
   "metadata": {
    "colab_type": "text",
    "id": "fQwhnvejSDqe"
   },
   "source": [
    "One small thing: note that if other than the key column, there are other columns on the two tables that have the same name, when merging they will be given different names in order to avoid collisions."
   ]
  },
  {
   "cell_type": "code",
   "execution_count": 68,
   "metadata": {
    "colab": {
     "base_uri": "https://localhost:8080/",
     "height": 170
    },
    "colab_type": "code",
    "id": "8rEl56kwSDqf",
    "outputId": "3f9803c5-d6c7-4836-f089-98e31d39570c"
   },
   "outputs": [
    {
     "name": "stdout",
     "output_type": "stream",
     "text": [
      "            Location   Name            Role\n",
      "0       State Street  Kelly  Director of HR\n",
      "1  Washington Avenue  Sally  Course liasion\n",
      "2  Washington Avenue  James          Grader\n",
      "\n",
      "               Location   Name       School\n",
      "0  1024 Billiard Avenue  James     Business\n",
      "1  Fraternity House #22   Mike          Law\n",
      "2   512 Wilson Crescent  Sally  Engineering\n"
     ]
    }
   ],
   "source": [
    "staff_df = pd.DataFrame([{'Name': 'Kelly', 'Role': 'Director of HR', 'Location': 'State Street'},\n",
    "                         {'Name': 'Sally', 'Role': 'Course liasion', 'Location': 'Washington Avenue'},\n",
    "                         {'Name': 'James', 'Role': 'Grader', 'Location': 'Washington Avenue'}])\n",
    "student_df = pd.DataFrame([{'Name': 'James', 'School': 'Business', 'Location': '1024 Billiard Avenue'},\n",
    "                           {'Name': 'Mike', 'School': 'Law', 'Location': 'Fraternity House #22'},\n",
    "                           {'Name': 'Sally', 'School': 'Engineering', 'Location': '512 Wilson Crescent'}])\n",
    "\n",
    "print(staff_df.head())\n",
    "print()\n",
    "print(student_df.head())"
   ]
  },
  {
   "cell_type": "code",
   "execution_count": 69,
   "metadata": {
    "colab": {},
    "colab_type": "code",
    "id": "hLgs--PpSDqh",
    "outputId": "3b8a5c8e-f7e2-492f-80fe-7e575431f20c"
   },
   "outputs": [
    {
     "data": {
      "text/html": [
       "<div>\n",
       "<style scoped>\n",
       "    .dataframe tbody tr th:only-of-type {\n",
       "        vertical-align: middle;\n",
       "    }\n",
       "\n",
       "    .dataframe tbody tr th {\n",
       "        vertical-align: top;\n",
       "    }\n",
       "\n",
       "    .dataframe thead th {\n",
       "        text-align: right;\n",
       "    }\n",
       "</style>\n",
       "<table border=\"1\" class=\"dataframe\">\n",
       "  <thead>\n",
       "    <tr style=\"text-align: right;\">\n",
       "      <th></th>\n",
       "      <th>Location_x</th>\n",
       "      <th>Name</th>\n",
       "      <th>Role</th>\n",
       "      <th>Location_y</th>\n",
       "      <th>School</th>\n",
       "    </tr>\n",
       "  </thead>\n",
       "  <tbody>\n",
       "    <tr>\n",
       "      <th>0</th>\n",
       "      <td>State Street</td>\n",
       "      <td>Kelly</td>\n",
       "      <td>Director of HR</td>\n",
       "      <td>NaN</td>\n",
       "      <td>NaN</td>\n",
       "    </tr>\n",
       "    <tr>\n",
       "      <th>1</th>\n",
       "      <td>Washington Avenue</td>\n",
       "      <td>Sally</td>\n",
       "      <td>Course liasion</td>\n",
       "      <td>512 Wilson Crescent</td>\n",
       "      <td>Engineering</td>\n",
       "    </tr>\n",
       "    <tr>\n",
       "      <th>2</th>\n",
       "      <td>Washington Avenue</td>\n",
       "      <td>James</td>\n",
       "      <td>Grader</td>\n",
       "      <td>1024 Billiard Avenue</td>\n",
       "      <td>Business</td>\n",
       "    </tr>\n",
       "  </tbody>\n",
       "</table>\n",
       "</div>"
      ],
      "text/plain": [
       "          Location_x   Name            Role            Location_y       School\n",
       "0       State Street  Kelly  Director of HR                   NaN          NaN\n",
       "1  Washington Avenue  Sally  Course liasion   512 Wilson Crescent  Engineering\n",
       "2  Washington Avenue  James          Grader  1024 Billiard Avenue     Business"
      ]
     },
     "execution_count": 69,
     "metadata": {},
     "output_type": "execute_result"
    }
   ],
   "source": [
    "pd.merge(staff_df, student_df, how='left', left_on='Name', right_on='Name')"
   ]
  },
  {
   "cell_type": "markdown",
   "metadata": {
    "colab_type": "text",
    "id": "PY-aCtzJSDqk"
   },
   "source": [
    "We can also merge using more than one column as keys for matching:"
   ]
  },
  {
   "cell_type": "code",
   "execution_count": 72,
   "metadata": {
    "colab": {
     "base_uri": "https://localhost:8080/",
     "height": 170
    },
    "colab_type": "code",
    "id": "Gl-ybSGbSDqm",
    "outputId": "2fee6d63-2517-4450-812e-f7b5b14bdfff"
   },
   "outputs": [
    {
     "name": "stdout",
     "output_type": "stream",
     "text": [
      "  First Name   Last Name            Role\n",
      "0      Kelly  Desjardins  Director of HR\n",
      "1      Sally      Brooks  Course liasion\n",
      "2      James       Wilde          Grader\n",
      "\n",
      "  First Name Last Name       School\n",
      "0      James   Hammond     Business\n",
      "1       Mike     Smith          Law\n",
      "2      Sally    Brooks  Engineering\n"
     ]
    }
   ],
   "source": [
    "staff_df = pd.DataFrame([{'First Name': 'Kelly', 'Last Name': 'Desjardins', 'Role': 'Director of HR'},\n",
    "                         {'First Name': 'Sally', 'Last Name': 'Brooks', 'Role': 'Course liasion'},\n",
    "                         {'First Name': 'James', 'Last Name': 'Wilde', 'Role': 'Grader'}])\n",
    "student_df = pd.DataFrame([{'First Name': 'James', 'Last Name': 'Hammond', 'School': 'Business'},\n",
    "                           {'First Name': 'Mike', 'Last Name': 'Smith', 'School': 'Law'},\n",
    "                           {'First Name': 'Sally', 'Last Name': 'Brooks', 'School': 'Engineering'}])\n",
    "print(staff_df)\n",
    "print()\n",
    "print(student_df)\n"
   ]
  },
  {
   "cell_type": "code",
   "execution_count": 73,
   "metadata": {},
   "outputs": [
    {
     "data": {
      "text/html": [
       "<div>\n",
       "<style scoped>\n",
       "    .dataframe tbody tr th:only-of-type {\n",
       "        vertical-align: middle;\n",
       "    }\n",
       "\n",
       "    .dataframe tbody tr th {\n",
       "        vertical-align: top;\n",
       "    }\n",
       "\n",
       "    .dataframe thead th {\n",
       "        text-align: right;\n",
       "    }\n",
       "</style>\n",
       "<table border=\"1\" class=\"dataframe\">\n",
       "  <thead>\n",
       "    <tr style=\"text-align: right;\">\n",
       "      <th></th>\n",
       "      <th>First Name</th>\n",
       "      <th>Last Name</th>\n",
       "      <th>Role</th>\n",
       "      <th>School</th>\n",
       "    </tr>\n",
       "  </thead>\n",
       "  <tbody>\n",
       "    <tr>\n",
       "      <th>0</th>\n",
       "      <td>Sally</td>\n",
       "      <td>Brooks</td>\n",
       "      <td>Course liasion</td>\n",
       "      <td>Engineering</td>\n",
       "    </tr>\n",
       "  </tbody>\n",
       "</table>\n",
       "</div>"
      ],
      "text/plain": [
       "  First Name Last Name            Role       School\n",
       "0      Sally    Brooks  Course liasion  Engineering"
      ]
     },
     "execution_count": 73,
     "metadata": {},
     "output_type": "execute_result"
    }
   ],
   "source": [
    "pd.merge(staff_df, student_df, how='inner', left_on=['First Name','Last Name'], right_on=['First Name','Last Name'])\n"
   ]
  },
  {
   "cell_type": "markdown",
   "metadata": {
    "colab_type": "text",
    "id": "zwK0uTSOSDqt"
   },
   "source": [
    "## Exercise 2 \n",
    "<img src=\"https://www.shareicon.net/data/256x256/2016/06/09/778169_game_512x512.png\" alt=\"Exercise\" width=\"50\"/> \n",
    "\n",
    "Let's go back to the Olympics. Load the table  `population.csv` that provides the population of each country across a number of years. To make things simple, we will only keep the populations in year 2016 (you need to select them).\n",
    "Once you have done that, combine the tables olympics and population (such that there cannot be any missing values). Make sure in the combined table we have at least the following 3 columns: name of the country, number of gold medals and population.\n",
    "\n",
    "Which country has the higher ratio of gold medals per capita ?\n"
   ]
  },
  {
   "cell_type": "code",
   "execution_count": 88,
   "metadata": {
    "colab": {},
    "colab_type": "code",
    "id": "RLTPtkUsSDqt"
   },
   "outputs": [],
   "source": [
    "#load the file\n",
    "dir_pop ='data/population.csv'\n",
    "dir_oly ='data/olympics.csv'\n",
    "# dir='/content/Curso-IE/Week_1/data/population.csv'\n",
    "pop = pd.read_csv(dir_pop)\n",
    "olympics=pd.read_csv(dir_oly)"
   ]
  },
  {
   "cell_type": "code",
   "execution_count": 89,
   "metadata": {
    "colab": {
     "base_uri": "https://localhost:8080/",
     "height": 204
    },
    "colab_type": "code",
    "id": "MKE3yDiDSDqx",
    "outputId": "b9092873-da07-458e-ba4b-2247f809dca2"
   },
   "outputs": [
    {
     "data": {
      "text/html": [
       "<div>\n",
       "<style scoped>\n",
       "    .dataframe tbody tr th:only-of-type {\n",
       "        vertical-align: middle;\n",
       "    }\n",
       "\n",
       "    .dataframe tbody tr th {\n",
       "        vertical-align: top;\n",
       "    }\n",
       "\n",
       "    .dataframe thead th {\n",
       "        text-align: right;\n",
       "    }\n",
       "</style>\n",
       "<table border=\"1\" class=\"dataframe\">\n",
       "  <thead>\n",
       "    <tr style=\"text-align: right;\">\n",
       "      <th></th>\n",
       "      <th>Country Name</th>\n",
       "      <th>Country Code</th>\n",
       "      <th>Year</th>\n",
       "      <th>Value</th>\n",
       "    </tr>\n",
       "  </thead>\n",
       "  <tbody>\n",
       "    <tr>\n",
       "      <th>14880</th>\n",
       "      <td>Zimbabwe</td>\n",
       "      <td>ZWE</td>\n",
       "      <td>2012</td>\n",
       "      <td>14710826.0</td>\n",
       "    </tr>\n",
       "    <tr>\n",
       "      <th>14881</th>\n",
       "      <td>Zimbabwe</td>\n",
       "      <td>ZWE</td>\n",
       "      <td>2013</td>\n",
       "      <td>15054506.0</td>\n",
       "    </tr>\n",
       "    <tr>\n",
       "      <th>14882</th>\n",
       "      <td>Zimbabwe</td>\n",
       "      <td>ZWE</td>\n",
       "      <td>2014</td>\n",
       "      <td>15411675.0</td>\n",
       "    </tr>\n",
       "    <tr>\n",
       "      <th>14883</th>\n",
       "      <td>Zimbabwe</td>\n",
       "      <td>ZWE</td>\n",
       "      <td>2015</td>\n",
       "      <td>15777451.0</td>\n",
       "    </tr>\n",
       "    <tr>\n",
       "      <th>14884</th>\n",
       "      <td>Zimbabwe</td>\n",
       "      <td>ZWE</td>\n",
       "      <td>2016</td>\n",
       "      <td>16150362.0</td>\n",
       "    </tr>\n",
       "  </tbody>\n",
       "</table>\n",
       "</div>"
      ],
      "text/plain": [
       "      Country Name Country Code  Year       Value\n",
       "14880     Zimbabwe          ZWE  2012  14710826.0\n",
       "14881     Zimbabwe          ZWE  2013  15054506.0\n",
       "14882     Zimbabwe          ZWE  2014  15411675.0\n",
       "14883     Zimbabwe          ZWE  2015  15777451.0\n",
       "14884     Zimbabwe          ZWE  2016  16150362.0"
      ]
     },
     "execution_count": 89,
     "metadata": {},
     "output_type": "execute_result"
    }
   ],
   "source": [
    "pop.tail()"
   ]
  },
  {
   "cell_type": "code",
   "execution_count": 90,
   "metadata": {
    "colab": {},
    "colab_type": "code",
    "id": "50MqrtxeSDqz"
   },
   "outputs": [
    {
     "data": {
      "text/html": [
       "<div>\n",
       "<style scoped>\n",
       "    .dataframe tbody tr th:only-of-type {\n",
       "        vertical-align: middle;\n",
       "    }\n",
       "\n",
       "    .dataframe tbody tr th {\n",
       "        vertical-align: top;\n",
       "    }\n",
       "\n",
       "    .dataframe thead th {\n",
       "        text-align: right;\n",
       "    }\n",
       "</style>\n",
       "<table border=\"1\" class=\"dataframe\">\n",
       "  <thead>\n",
       "    <tr style=\"text-align: right;\">\n",
       "      <th></th>\n",
       "      <th>Country Name</th>\n",
       "      <th>Year</th>\n",
       "      <th>Value</th>\n",
       "    </tr>\n",
       "  </thead>\n",
       "  <tbody>\n",
       "    <tr>\n",
       "      <th>56</th>\n",
       "      <td>Arab World</td>\n",
       "      <td>2016</td>\n",
       "      <td>406452690</td>\n",
       "    </tr>\n",
       "    <tr>\n",
       "      <th>113</th>\n",
       "      <td>Caribbean small states</td>\n",
       "      <td>2016</td>\n",
       "      <td>7245472</td>\n",
       "    </tr>\n",
       "    <tr>\n",
       "      <th>170</th>\n",
       "      <td>Central Europe and the Baltics</td>\n",
       "      <td>2016</td>\n",
       "      <td>102974082</td>\n",
       "    </tr>\n",
       "    <tr>\n",
       "      <th>227</th>\n",
       "      <td>Early-demographic dividend</td>\n",
       "      <td>2016</td>\n",
       "      <td>3170542188</td>\n",
       "    </tr>\n",
       "    <tr>\n",
       "      <th>284</th>\n",
       "      <td>East Asia &amp; Pacific</td>\n",
       "      <td>2016</td>\n",
       "      <td>2296786207</td>\n",
       "    </tr>\n",
       "  </tbody>\n",
       "</table>\n",
       "</div>"
      ],
      "text/plain": [
       "                       Country Name  Year       Value\n",
       "56                       Arab World  2016   406452690\n",
       "113          Caribbean small states  2016     7245472\n",
       "170  Central Europe and the Baltics  2016   102974082\n",
       "227      Early-demographic dividend  2016  3170542188\n",
       "284             East Asia & Pacific  2016  2296786207"
      ]
     },
     "execution_count": 90,
     "metadata": {},
     "output_type": "execute_result"
    }
   ],
   "source": [
    "#select only the population of year 2016\n",
    "pop = pop[pop['Year'] == 2016]\n",
    "pop.Value=pop.Value.astype('int')\n",
    "del pop['Country Code']\n",
    "pop.head()"
   ]
  },
  {
   "cell_type": "code",
   "execution_count": 94,
   "metadata": {},
   "outputs": [
    {
     "data": {
      "text/html": [
       "<div>\n",
       "<style scoped>\n",
       "    .dataframe tbody tr th:only-of-type {\n",
       "        vertical-align: middle;\n",
       "    }\n",
       "\n",
       "    .dataframe tbody tr th {\n",
       "        vertical-align: top;\n",
       "    }\n",
       "\n",
       "    .dataframe thead th {\n",
       "        text-align: right;\n",
       "    }\n",
       "</style>\n",
       "<table border=\"1\" class=\"dataframe\">\n",
       "  <thead>\n",
       "    <tr style=\"text-align: right;\">\n",
       "      <th></th>\n",
       "      <th># Summer</th>\n",
       "      <th>Gold</th>\n",
       "      <th>Silver</th>\n",
       "      <th>Bronze</th>\n",
       "      <th>Total</th>\n",
       "      <th># Winter</th>\n",
       "      <th>Gold.1</th>\n",
       "      <th>Silver.1</th>\n",
       "      <th>Bronze.1</th>\n",
       "      <th>Total.1</th>\n",
       "      <th># Games</th>\n",
       "      <th>Gold.2</th>\n",
       "      <th>Silver.2</th>\n",
       "      <th>Bronze.2</th>\n",
       "      <th>Combined total</th>\n",
       "      <th>ID</th>\n",
       "    </tr>\n",
       "  </thead>\n",
       "  <tbody>\n",
       "    <tr>\n",
       "      <th>Afghanistan</th>\n",
       "      <td>13</td>\n",
       "      <td>0</td>\n",
       "      <td>0</td>\n",
       "      <td>2</td>\n",
       "      <td>2</td>\n",
       "      <td>0</td>\n",
       "      <td>0</td>\n",
       "      <td>0</td>\n",
       "      <td>0</td>\n",
       "      <td>0</td>\n",
       "      <td>13</td>\n",
       "      <td>0</td>\n",
       "      <td>0</td>\n",
       "      <td>2</td>\n",
       "      <td>2</td>\n",
       "      <td>AFG</td>\n",
       "    </tr>\n",
       "    <tr>\n",
       "      <th>Algeria</th>\n",
       "      <td>12</td>\n",
       "      <td>5</td>\n",
       "      <td>2</td>\n",
       "      <td>8</td>\n",
       "      <td>15</td>\n",
       "      <td>3</td>\n",
       "      <td>0</td>\n",
       "      <td>0</td>\n",
       "      <td>0</td>\n",
       "      <td>0</td>\n",
       "      <td>15</td>\n",
       "      <td>5</td>\n",
       "      <td>2</td>\n",
       "      <td>8</td>\n",
       "      <td>15</td>\n",
       "      <td>ALG</td>\n",
       "    </tr>\n",
       "    <tr>\n",
       "      <th>Argentina</th>\n",
       "      <td>23</td>\n",
       "      <td>18</td>\n",
       "      <td>24</td>\n",
       "      <td>28</td>\n",
       "      <td>70</td>\n",
       "      <td>18</td>\n",
       "      <td>0</td>\n",
       "      <td>0</td>\n",
       "      <td>0</td>\n",
       "      <td>0</td>\n",
       "      <td>41</td>\n",
       "      <td>18</td>\n",
       "      <td>24</td>\n",
       "      <td>28</td>\n",
       "      <td>70</td>\n",
       "      <td>ARG</td>\n",
       "    </tr>\n",
       "    <tr>\n",
       "      <th>Armenia</th>\n",
       "      <td>5</td>\n",
       "      <td>1</td>\n",
       "      <td>2</td>\n",
       "      <td>9</td>\n",
       "      <td>12</td>\n",
       "      <td>6</td>\n",
       "      <td>0</td>\n",
       "      <td>0</td>\n",
       "      <td>0</td>\n",
       "      <td>0</td>\n",
       "      <td>11</td>\n",
       "      <td>1</td>\n",
       "      <td>2</td>\n",
       "      <td>9</td>\n",
       "      <td>12</td>\n",
       "      <td>ARM</td>\n",
       "    </tr>\n",
       "    <tr>\n",
       "      <th>Australasia</th>\n",
       "      <td>2</td>\n",
       "      <td>3</td>\n",
       "      <td>4</td>\n",
       "      <td>5</td>\n",
       "      <td>12</td>\n",
       "      <td>0</td>\n",
       "      <td>0</td>\n",
       "      <td>0</td>\n",
       "      <td>0</td>\n",
       "      <td>0</td>\n",
       "      <td>2</td>\n",
       "      <td>3</td>\n",
       "      <td>4</td>\n",
       "      <td>5</td>\n",
       "      <td>12</td>\n",
       "      <td>ANZ</td>\n",
       "    </tr>\n",
       "  </tbody>\n",
       "</table>\n",
       "</div>"
      ],
      "text/plain": [
       "             # Summer  Gold  Silver  Bronze  Total  # Winter  Gold.1  \\\n",
       "Afghanistan        13     0       0       2      2         0       0   \n",
       "Algeria            12     5       2       8     15         3       0   \n",
       "Argentina          23    18      24      28     70        18       0   \n",
       "Armenia             5     1       2       9     12         6       0   \n",
       "Australasia         2     3       4       5     12         0       0   \n",
       "\n",
       "             Silver.1  Bronze.1  Total.1  # Games  Gold.2  Silver.2  Bronze.2  \\\n",
       "Afghanistan         0         0        0       13       0         0         2   \n",
       "Algeria             0         0        0       15       5         2         8   \n",
       "Argentina           0         0        0       41      18        24        28   \n",
       "Armenia             0         0        0       11       1         2         9   \n",
       "Australasia         0         0        0        2       3         4         5   \n",
       "\n",
       "             Combined total   ID  \n",
       "Afghanistan               2  AFG  \n",
       "Algeria                  15  ALG  \n",
       "Argentina                70  ARG  \n",
       "Armenia                  12  ARM  \n",
       "Australasia              12  ANZ  "
      ]
     },
     "execution_count": 94,
     "metadata": {},
     "output_type": "execute_result"
    }
   ],
   "source": [
    "olympics.head()"
   ]
  },
  {
   "cell_type": "code",
   "execution_count": 95,
   "metadata": {
    "colab": {},
    "colab_type": "code",
    "id": "00pRrrA9SDq2"
   },
   "outputs": [
    {
     "data": {
      "text/html": [
       "<div>\n",
       "<style scoped>\n",
       "    .dataframe tbody tr th:only-of-type {\n",
       "        vertical-align: middle;\n",
       "    }\n",
       "\n",
       "    .dataframe tbody tr th {\n",
       "        vertical-align: top;\n",
       "    }\n",
       "\n",
       "    .dataframe thead th {\n",
       "        text-align: right;\n",
       "    }\n",
       "</style>\n",
       "<table border=\"1\" class=\"dataframe\">\n",
       "  <thead>\n",
       "    <tr style=\"text-align: right;\">\n",
       "      <th></th>\n",
       "      <th>index</th>\n",
       "      <th># Summer</th>\n",
       "      <th>Gold</th>\n",
       "      <th>Silver</th>\n",
       "      <th>Bronze</th>\n",
       "      <th>Total</th>\n",
       "      <th># Winter</th>\n",
       "      <th>Gold.1</th>\n",
       "      <th>Silver.1</th>\n",
       "      <th>Bronze.1</th>\n",
       "      <th>Total.1</th>\n",
       "      <th># Games</th>\n",
       "      <th>Gold.2</th>\n",
       "      <th>Silver.2</th>\n",
       "      <th>Bronze.2</th>\n",
       "      <th>Combined total</th>\n",
       "      <th>ID</th>\n",
       "    </tr>\n",
       "  </thead>\n",
       "  <tbody>\n",
       "    <tr>\n",
       "      <th>0</th>\n",
       "      <td>Afghanistan</td>\n",
       "      <td>13</td>\n",
       "      <td>0</td>\n",
       "      <td>0</td>\n",
       "      <td>2</td>\n",
       "      <td>2</td>\n",
       "      <td>0</td>\n",
       "      <td>0</td>\n",
       "      <td>0</td>\n",
       "      <td>0</td>\n",
       "      <td>0</td>\n",
       "      <td>13</td>\n",
       "      <td>0</td>\n",
       "      <td>0</td>\n",
       "      <td>2</td>\n",
       "      <td>2</td>\n",
       "      <td>AFG</td>\n",
       "    </tr>\n",
       "    <tr>\n",
       "      <th>1</th>\n",
       "      <td>Algeria</td>\n",
       "      <td>12</td>\n",
       "      <td>5</td>\n",
       "      <td>2</td>\n",
       "      <td>8</td>\n",
       "      <td>15</td>\n",
       "      <td>3</td>\n",
       "      <td>0</td>\n",
       "      <td>0</td>\n",
       "      <td>0</td>\n",
       "      <td>0</td>\n",
       "      <td>15</td>\n",
       "      <td>5</td>\n",
       "      <td>2</td>\n",
       "      <td>8</td>\n",
       "      <td>15</td>\n",
       "      <td>ALG</td>\n",
       "    </tr>\n",
       "    <tr>\n",
       "      <th>2</th>\n",
       "      <td>Argentina</td>\n",
       "      <td>23</td>\n",
       "      <td>18</td>\n",
       "      <td>24</td>\n",
       "      <td>28</td>\n",
       "      <td>70</td>\n",
       "      <td>18</td>\n",
       "      <td>0</td>\n",
       "      <td>0</td>\n",
       "      <td>0</td>\n",
       "      <td>0</td>\n",
       "      <td>41</td>\n",
       "      <td>18</td>\n",
       "      <td>24</td>\n",
       "      <td>28</td>\n",
       "      <td>70</td>\n",
       "      <td>ARG</td>\n",
       "    </tr>\n",
       "    <tr>\n",
       "      <th>3</th>\n",
       "      <td>Armenia</td>\n",
       "      <td>5</td>\n",
       "      <td>1</td>\n",
       "      <td>2</td>\n",
       "      <td>9</td>\n",
       "      <td>12</td>\n",
       "      <td>6</td>\n",
       "      <td>0</td>\n",
       "      <td>0</td>\n",
       "      <td>0</td>\n",
       "      <td>0</td>\n",
       "      <td>11</td>\n",
       "      <td>1</td>\n",
       "      <td>2</td>\n",
       "      <td>9</td>\n",
       "      <td>12</td>\n",
       "      <td>ARM</td>\n",
       "    </tr>\n",
       "    <tr>\n",
       "      <th>4</th>\n",
       "      <td>Australasia</td>\n",
       "      <td>2</td>\n",
       "      <td>3</td>\n",
       "      <td>4</td>\n",
       "      <td>5</td>\n",
       "      <td>12</td>\n",
       "      <td>0</td>\n",
       "      <td>0</td>\n",
       "      <td>0</td>\n",
       "      <td>0</td>\n",
       "      <td>0</td>\n",
       "      <td>2</td>\n",
       "      <td>3</td>\n",
       "      <td>4</td>\n",
       "      <td>5</td>\n",
       "      <td>12</td>\n",
       "      <td>ANZ</td>\n",
       "    </tr>\n",
       "  </tbody>\n",
       "</table>\n",
       "</div>"
      ],
      "text/plain": [
       "         index  # Summer  Gold  Silver  Bronze  Total  # Winter  Gold.1  \\\n",
       "0  Afghanistan        13     0       0       2      2         0       0   \n",
       "1      Algeria        12     5       2       8     15         3       0   \n",
       "2    Argentina        23    18      24      28     70        18       0   \n",
       "3      Armenia         5     1       2       9     12         6       0   \n",
       "4  Australasia         2     3       4       5     12         0       0   \n",
       "\n",
       "   Silver.1  Bronze.1  Total.1  # Games  Gold.2  Silver.2  Bronze.2  \\\n",
       "0         0         0        0       13       0         0         2   \n",
       "1         0         0        0       15       5         2         8   \n",
       "2         0         0        0       41      18        24        28   \n",
       "3         0         0        0       11       1         2         9   \n",
       "4         0         0        0        2       3         4         5   \n",
       "\n",
       "   Combined total   ID  \n",
       "0               2  AFG  \n",
       "1              15  ALG  \n",
       "2              70  ARG  \n",
       "3              12  ARM  \n",
       "4              12  ANZ  "
      ]
     },
     "execution_count": 95,
     "metadata": {},
     "output_type": "execute_result"
    }
   ],
   "source": [
    "#reset the index in the olympics_df\n",
    "olympics = olympics.reset_index()\n",
    "olympics.head()"
   ]
  },
  {
   "cell_type": "code",
   "execution_count": 96,
   "metadata": {
    "colab": {
     "base_uri": "https://localhost:8080/",
     "height": 233
    },
    "colab_type": "code",
    "id": "OiKZZFZDSDq4",
    "outputId": "aa5c934b-7bd4-4cb1-8281-ae34502a2db2"
   },
   "outputs": [
    {
     "data": {
      "text/html": [
       "<div>\n",
       "<style scoped>\n",
       "    .dataframe tbody tr th:only-of-type {\n",
       "        vertical-align: middle;\n",
       "    }\n",
       "\n",
       "    .dataframe tbody tr th {\n",
       "        vertical-align: top;\n",
       "    }\n",
       "\n",
       "    .dataframe thead th {\n",
       "        text-align: right;\n",
       "    }\n",
       "</style>\n",
       "<table border=\"1\" class=\"dataframe\">\n",
       "  <thead>\n",
       "    <tr style=\"text-align: right;\">\n",
       "      <th></th>\n",
       "      <th>index</th>\n",
       "      <th># Summer</th>\n",
       "      <th>Gold</th>\n",
       "      <th>Silver</th>\n",
       "      <th>Bronze</th>\n",
       "      <th>Total</th>\n",
       "      <th># Winter</th>\n",
       "      <th>Gold.1</th>\n",
       "      <th>Silver.1</th>\n",
       "      <th>Bronze.1</th>\n",
       "      <th>Total.1</th>\n",
       "      <th># Games</th>\n",
       "      <th>Gold.2</th>\n",
       "      <th>Silver.2</th>\n",
       "      <th>Bronze.2</th>\n",
       "      <th>Combined total</th>\n",
       "      <th>ID</th>\n",
       "      <th>Country Name</th>\n",
       "      <th>Year</th>\n",
       "      <th>Value</th>\n",
       "    </tr>\n",
       "  </thead>\n",
       "  <tbody>\n",
       "    <tr>\n",
       "      <th>0</th>\n",
       "      <td>Afghanistan</td>\n",
       "      <td>13</td>\n",
       "      <td>0</td>\n",
       "      <td>0</td>\n",
       "      <td>2</td>\n",
       "      <td>2</td>\n",
       "      <td>0</td>\n",
       "      <td>0</td>\n",
       "      <td>0</td>\n",
       "      <td>0</td>\n",
       "      <td>0</td>\n",
       "      <td>13</td>\n",
       "      <td>0</td>\n",
       "      <td>0</td>\n",
       "      <td>2</td>\n",
       "      <td>2</td>\n",
       "      <td>AFG</td>\n",
       "      <td>Afghanistan</td>\n",
       "      <td>2016</td>\n",
       "      <td>34656032</td>\n",
       "    </tr>\n",
       "    <tr>\n",
       "      <th>1</th>\n",
       "      <td>Algeria</td>\n",
       "      <td>12</td>\n",
       "      <td>5</td>\n",
       "      <td>2</td>\n",
       "      <td>8</td>\n",
       "      <td>15</td>\n",
       "      <td>3</td>\n",
       "      <td>0</td>\n",
       "      <td>0</td>\n",
       "      <td>0</td>\n",
       "      <td>0</td>\n",
       "      <td>15</td>\n",
       "      <td>5</td>\n",
       "      <td>2</td>\n",
       "      <td>8</td>\n",
       "      <td>15</td>\n",
       "      <td>ALG</td>\n",
       "      <td>Algeria</td>\n",
       "      <td>2016</td>\n",
       "      <td>40606052</td>\n",
       "    </tr>\n",
       "    <tr>\n",
       "      <th>2</th>\n",
       "      <td>Argentina</td>\n",
       "      <td>23</td>\n",
       "      <td>18</td>\n",
       "      <td>24</td>\n",
       "      <td>28</td>\n",
       "      <td>70</td>\n",
       "      <td>18</td>\n",
       "      <td>0</td>\n",
       "      <td>0</td>\n",
       "      <td>0</td>\n",
       "      <td>0</td>\n",
       "      <td>41</td>\n",
       "      <td>18</td>\n",
       "      <td>24</td>\n",
       "      <td>28</td>\n",
       "      <td>70</td>\n",
       "      <td>ARG</td>\n",
       "      <td>Argentina</td>\n",
       "      <td>2016</td>\n",
       "      <td>43847430</td>\n",
       "    </tr>\n",
       "    <tr>\n",
       "      <th>3</th>\n",
       "      <td>Armenia</td>\n",
       "      <td>5</td>\n",
       "      <td>1</td>\n",
       "      <td>2</td>\n",
       "      <td>9</td>\n",
       "      <td>12</td>\n",
       "      <td>6</td>\n",
       "      <td>0</td>\n",
       "      <td>0</td>\n",
       "      <td>0</td>\n",
       "      <td>0</td>\n",
       "      <td>11</td>\n",
       "      <td>1</td>\n",
       "      <td>2</td>\n",
       "      <td>9</td>\n",
       "      <td>12</td>\n",
       "      <td>ARM</td>\n",
       "      <td>Armenia</td>\n",
       "      <td>2016</td>\n",
       "      <td>2924816</td>\n",
       "    </tr>\n",
       "    <tr>\n",
       "      <th>4</th>\n",
       "      <td>Australia</td>\n",
       "      <td>25</td>\n",
       "      <td>139</td>\n",
       "      <td>152</td>\n",
       "      <td>177</td>\n",
       "      <td>468</td>\n",
       "      <td>18</td>\n",
       "      <td>5</td>\n",
       "      <td>3</td>\n",
       "      <td>4</td>\n",
       "      <td>12</td>\n",
       "      <td>43</td>\n",
       "      <td>144</td>\n",
       "      <td>155</td>\n",
       "      <td>181</td>\n",
       "      <td>480</td>\n",
       "      <td>AUS</td>\n",
       "      <td>Australia</td>\n",
       "      <td>2016</td>\n",
       "      <td>24127159</td>\n",
       "    </tr>\n",
       "  </tbody>\n",
       "</table>\n",
       "</div>"
      ],
      "text/plain": [
       "         index  # Summer  Gold  Silver  Bronze  Total  # Winter  Gold.1  \\\n",
       "0  Afghanistan        13     0       0       2      2         0       0   \n",
       "1      Algeria        12     5       2       8     15         3       0   \n",
       "2    Argentina        23    18      24      28     70        18       0   \n",
       "3      Armenia         5     1       2       9     12         6       0   \n",
       "4    Australia        25   139     152     177    468        18       5   \n",
       "\n",
       "   Silver.1  Bronze.1  Total.1  # Games  Gold.2  Silver.2  Bronze.2  \\\n",
       "0         0         0        0       13       0         0         2   \n",
       "1         0         0        0       15       5         2         8   \n",
       "2         0         0        0       41      18        24        28   \n",
       "3         0         0        0       11       1         2         9   \n",
       "4         3         4       12       43     144       155       181   \n",
       "\n",
       "   Combined total   ID Country Name  Year     Value  \n",
       "0               2  AFG  Afghanistan  2016  34656032  \n",
       "1              15  ALG      Algeria  2016  40606052  \n",
       "2              70  ARG    Argentina  2016  43847430  \n",
       "3              12  ARM      Armenia  2016   2924816  \n",
       "4             480  AUS    Australia  2016  24127159  "
      ]
     },
     "execution_count": 96,
     "metadata": {},
     "output_type": "execute_result"
    }
   ],
   "source": [
    "oly_pop = pd.merge(olympics, pop, how='inner', left_on='index', right_on='Country Name')\n",
    "oly_pop.head()"
   ]
  },
  {
   "cell_type": "code",
   "execution_count": 97,
   "metadata": {},
   "outputs": [
    {
     "data": {
      "text/html": [
       "<div>\n",
       "<style scoped>\n",
       "    .dataframe tbody tr th:only-of-type {\n",
       "        vertical-align: middle;\n",
       "    }\n",
       "\n",
       "    .dataframe tbody tr th {\n",
       "        vertical-align: top;\n",
       "    }\n",
       "\n",
       "    .dataframe thead th {\n",
       "        text-align: right;\n",
       "    }\n",
       "</style>\n",
       "<table border=\"1\" class=\"dataframe\">\n",
       "  <thead>\n",
       "    <tr style=\"text-align: right;\">\n",
       "      <th></th>\n",
       "      <th>Country Name</th>\n",
       "      <th>Gold</th>\n",
       "      <th>Value</th>\n",
       "    </tr>\n",
       "  </thead>\n",
       "  <tbody>\n",
       "    <tr>\n",
       "      <th>0</th>\n",
       "      <td>Afghanistan</td>\n",
       "      <td>0</td>\n",
       "      <td>34656032</td>\n",
       "    </tr>\n",
       "    <tr>\n",
       "      <th>1</th>\n",
       "      <td>Algeria</td>\n",
       "      <td>5</td>\n",
       "      <td>40606052</td>\n",
       "    </tr>\n",
       "    <tr>\n",
       "      <th>2</th>\n",
       "      <td>Argentina</td>\n",
       "      <td>18</td>\n",
       "      <td>43847430</td>\n",
       "    </tr>\n",
       "    <tr>\n",
       "      <th>3</th>\n",
       "      <td>Armenia</td>\n",
       "      <td>1</td>\n",
       "      <td>2924816</td>\n",
       "    </tr>\n",
       "    <tr>\n",
       "      <th>4</th>\n",
       "      <td>Australia</td>\n",
       "      <td>139</td>\n",
       "      <td>24127159</td>\n",
       "    </tr>\n",
       "  </tbody>\n",
       "</table>\n",
       "</div>"
      ],
      "text/plain": [
       "  Country Name  Gold     Value\n",
       "0  Afghanistan     0  34656032\n",
       "1      Algeria     5  40606052\n",
       "2    Argentina    18  43847430\n",
       "3      Armenia     1   2924816\n",
       "4    Australia   139  24127159"
      ]
     },
     "execution_count": 97,
     "metadata": {},
     "output_type": "execute_result"
    }
   ],
   "source": [
    "# Pick only the necessary columns\n",
    "oly_pop=oly_pop[['Country Name','Gold','Value']]\n",
    "oly_pop.head()"
   ]
  },
  {
   "cell_type": "code",
   "execution_count": 99,
   "metadata": {
    "colab": {},
    "colab_type": "code",
    "id": "-4AWoIftSDq7"
   },
   "outputs": [
    {
     "data": {
      "text/html": [
       "<div>\n",
       "<style scoped>\n",
       "    .dataframe tbody tr th:only-of-type {\n",
       "        vertical-align: middle;\n",
       "    }\n",
       "\n",
       "    .dataframe tbody tr th {\n",
       "        vertical-align: top;\n",
       "    }\n",
       "\n",
       "    .dataframe thead th {\n",
       "        text-align: right;\n",
       "    }\n",
       "</style>\n",
       "<table border=\"1\" class=\"dataframe\">\n",
       "  <thead>\n",
       "    <tr style=\"text-align: right;\">\n",
       "      <th></th>\n",
       "      <th>Country Name</th>\n",
       "      <th>Gold</th>\n",
       "      <th>Value</th>\n",
       "      <th>ratio</th>\n",
       "    </tr>\n",
       "  </thead>\n",
       "  <tbody>\n",
       "    <tr>\n",
       "      <th>0</th>\n",
       "      <td>Afghanistan</td>\n",
       "      <td>0</td>\n",
       "      <td>34656032</td>\n",
       "      <td>0.000000e+00</td>\n",
       "    </tr>\n",
       "    <tr>\n",
       "      <th>1</th>\n",
       "      <td>Algeria</td>\n",
       "      <td>5</td>\n",
       "      <td>40606052</td>\n",
       "      <td>1.231344e-07</td>\n",
       "    </tr>\n",
       "    <tr>\n",
       "      <th>2</th>\n",
       "      <td>Argentina</td>\n",
       "      <td>18</td>\n",
       "      <td>43847430</td>\n",
       "      <td>4.105144e-07</td>\n",
       "    </tr>\n",
       "    <tr>\n",
       "      <th>3</th>\n",
       "      <td>Armenia</td>\n",
       "      <td>1</td>\n",
       "      <td>2924816</td>\n",
       "      <td>3.419018e-07</td>\n",
       "    </tr>\n",
       "    <tr>\n",
       "      <th>4</th>\n",
       "      <td>Australia</td>\n",
       "      <td>139</td>\n",
       "      <td>24127159</td>\n",
       "      <td>5.761142e-06</td>\n",
       "    </tr>\n",
       "  </tbody>\n",
       "</table>\n",
       "</div>"
      ],
      "text/plain": [
       "  Country Name  Gold     Value         ratio\n",
       "0  Afghanistan     0  34656032  0.000000e+00\n",
       "1      Algeria     5  40606052  1.231344e-07\n",
       "2    Argentina    18  43847430  4.105144e-07\n",
       "3      Armenia     1   2924816  3.419018e-07\n",
       "4    Australia   139  24127159  5.761142e-06"
      ]
     },
     "execution_count": 99,
     "metadata": {},
     "output_type": "execute_result"
    }
   ],
   "source": [
    "oly_pop['ratio'] = oly_pop['Gold'] / oly_pop['Value']\n",
    "oly_pop.head()"
   ]
  },
  {
   "cell_type": "code",
   "execution_count": 100,
   "metadata": {
    "colab": {
     "base_uri": "https://localhost:8080/",
     "height": 359
    },
    "colab_type": "code",
    "id": "DdfDQUrgSDq9",
    "outputId": "9fd1771f-c52a-47a1-c72e-74534b5c7b8a"
   },
   "outputs": [
    {
     "data": {
      "text/html": [
       "<div>\n",
       "<style scoped>\n",
       "    .dataframe tbody tr th:only-of-type {\n",
       "        vertical-align: middle;\n",
       "    }\n",
       "\n",
       "    .dataframe tbody tr th {\n",
       "        vertical-align: top;\n",
       "    }\n",
       "\n",
       "    .dataframe thead th {\n",
       "        text-align: right;\n",
       "    }\n",
       "</style>\n",
       "<table border=\"1\" class=\"dataframe\">\n",
       "  <thead>\n",
       "    <tr style=\"text-align: right;\">\n",
       "      <th></th>\n",
       "      <th>Country Name</th>\n",
       "      <th>ratio</th>\n",
       "    </tr>\n",
       "  </thead>\n",
       "  <tbody>\n",
       "    <tr>\n",
       "      <th>0</th>\n",
       "      <td>Finland</td>\n",
       "      <td>0.000018</td>\n",
       "    </tr>\n",
       "    <tr>\n",
       "      <th>1</th>\n",
       "      <td>Hungary</td>\n",
       "      <td>0.000017</td>\n",
       "    </tr>\n",
       "    <tr>\n",
       "      <th>2</th>\n",
       "      <td>Sweden</td>\n",
       "      <td>0.000014</td>\n",
       "    </tr>\n",
       "    <tr>\n",
       "      <th>3</th>\n",
       "      <td>Norway</td>\n",
       "      <td>0.000011</td>\n",
       "    </tr>\n",
       "    <tr>\n",
       "      <th>4</th>\n",
       "      <td>Grenada</td>\n",
       "      <td>0.000009</td>\n",
       "    </tr>\n",
       "    <tr>\n",
       "      <th>5</th>\n",
       "      <td>New Zealand</td>\n",
       "      <td>0.000009</td>\n",
       "    </tr>\n",
       "    <tr>\n",
       "      <th>6</th>\n",
       "      <td>Denmark</td>\n",
       "      <td>0.000008</td>\n",
       "    </tr>\n",
       "    <tr>\n",
       "      <th>7</th>\n",
       "      <td>Bulgaria</td>\n",
       "      <td>0.000007</td>\n",
       "    </tr>\n",
       "    <tr>\n",
       "      <th>8</th>\n",
       "      <td>Estonia</td>\n",
       "      <td>0.000007</td>\n",
       "    </tr>\n",
       "    <tr>\n",
       "      <th>9</th>\n",
       "      <td>Cuba</td>\n",
       "      <td>0.000006</td>\n",
       "    </tr>\n",
       "  </tbody>\n",
       "</table>\n",
       "</div>"
      ],
      "text/plain": [
       "  Country Name     ratio\n",
       "0      Finland  0.000018\n",
       "1      Hungary  0.000017\n",
       "2       Sweden  0.000014\n",
       "3       Norway  0.000011\n",
       "4      Grenada  0.000009\n",
       "5  New Zealand  0.000009\n",
       "6      Denmark  0.000008\n",
       "7     Bulgaria  0.000007\n",
       "8      Estonia  0.000007\n",
       "9         Cuba  0.000006"
      ]
     },
     "execution_count": 100,
     "metadata": {},
     "output_type": "execute_result"
    }
   ],
   "source": [
    "oly_pop[['Country Name', 'ratio']].sort_values(by='ratio', ascending=False).reset_index(drop=True).head(10)"
   ]
  },
  {
   "cell_type": "markdown",
   "metadata": {
    "colab_type": "text",
    "id": "QVjBsYZhxDu_"
   },
   "source": [
    "Now do the same thing as before, but rank the 10 countries that have the largest ratio of gold medals to GDP. Can you guess before which will be the first ?"
   ]
  },
  {
   "cell_type": "code",
   "execution_count": null,
   "metadata": {
    "colab": {},
    "colab_type": "code",
    "id": "cTpN4DGtxCst"
   },
   "outputs": [],
   "source": [
    "gdp = pd.read_csv('/content/Curso-IE/Week_1/data/gdp.csv')"
   ]
  },
  {
   "cell_type": "code",
   "execution_count": null,
   "metadata": {
    "colab": {
     "base_uri": "https://localhost:8080/",
     "height": 359
    },
    "colab_type": "code",
    "id": "K9dYQScPyN1o",
    "outputId": "1d4607ed-c71f-4ce8-b1d4-275493137f7b"
   },
   "outputs": [],
   "source": [
    "gdp = gdp[gdp['Year'] == 2015]\n",
    "gdp_oly_pop= pd.merge(oly_pop, gdp, how='inner', left_on='index', right_on='Country Name')\n",
    "gdp_oly_pop['gold2gdp_ratio']=gdp_oly_pop['Gold']/gdp_oly_pop['Value_y']\n",
    "gdp_oly_pop[['Country Name_x', 'gold2gdp_ratio']].sort_values(by='gold2gdp_ratio', ascending=False).reset_index(drop=True).head(10)"
   ]
  },
  {
   "cell_type": "markdown",
   "metadata": {
    "colab_type": "text",
    "id": "V3dHMMqSSDq_"
   },
   "source": [
    "## Grouping values in dataframes\n",
    "A very important function in pandas is `groupby`, that we can use for the following purposes\n",
    "\n",
    "* split the table in groups accoridng to some criteria\n",
    "* apply some operation to some group independently\n",
    "* combine the results into a new table with aggregated data\n",
    "\n",
    "Let us get started with creating groups. The typical procedure is to split according to the values of some categorical variables (gender, day of the week, etc.)\n",
    "\n",
    "Let us do some examples on the table `tips.csv`"
   ]
  },
  {
   "cell_type": "code",
   "execution_count": 101,
   "metadata": {
    "colab": {
     "base_uri": "https://localhost:8080/",
     "height": 2227
    },
    "colab_type": "code",
    "id": "AYC7YboqSDrA",
    "outputId": "426348b6-bdf8-429f-a631-1af46535effb"
   },
   "outputs": [
    {
     "name": "stdout",
     "output_type": "stream",
     "text": [
      "Female\n",
      "     total_bill   tip     sex smoker   day    time  size  total_bill_rand\n",
      "0         16.99  1.01  Female     No   Sun  Dinner     2        19.229865\n",
      "4         24.59  3.61  Female     No   Sun  Dinner     4        23.437885\n",
      "11        35.26  5.00  Female     No   Sun  Dinner     4        36.013951\n",
      "14        14.83  3.02  Female     No   Sun  Dinner     2        14.169146\n",
      "16        10.33  1.67  Female     No   Sun  Dinner     3         9.978721\n",
      "18        16.97  3.50  Female     No   Sun  Dinner     3        19.116772\n",
      "21        20.29  2.75  Female     No   Sat  Dinner     2        18.853396\n",
      "22        15.77  2.23  Female     No   Sat  Dinner     2        16.937855\n",
      "29        19.65  3.00  Female     No   Sat  Dinner     2        17.987859\n",
      "32        15.06  3.00  Female     No   Sat  Dinner     2        15.914629\n",
      "33        20.69  2.45  Female     No   Sat  Dinner     4        21.351903\n",
      "37        16.93  3.07  Female     No   Sat  Dinner     3        17.675599\n",
      "51        10.29  2.60  Female     No   Sun  Dinner     2        10.841200\n",
      "52        34.81  5.20  Female     No   Sun  Dinner     4        36.443165\n",
      "57        26.41  1.50  Female     No   Sat  Dinner     2        26.684208\n",
      "66        16.45  2.47  Female     No   Sat  Dinner     2        17.558378\n",
      "67         3.07  1.00  Female    Yes   Sat  Dinner     1         3.364872\n",
      "71        17.07  3.00  Female     No   Sat  Dinner     3        18.121927\n",
      "72        26.86  3.14  Female    Yes   Sat  Dinner     2        25.595855\n",
      "73        25.28  5.00  Female    Yes   Sat  Dinner     2        25.545759\n",
      "74        14.73  2.20  Female     No   Sat  Dinner     2        14.570150\n",
      "82        10.07  1.83  Female     No  Thur   Lunch     1         9.077067\n",
      "85        34.83  5.17  Female     No  Thur   Lunch     4        35.231072\n",
      "92         5.75  1.00  Female    Yes   Fri  Dinner     2         5.716858\n",
      "93        16.32  4.30  Female    Yes   Fri  Dinner     2        15.521942\n",
      "94        22.75  3.25  Female     No   Fri  Dinner     2        23.598727\n",
      "100       11.35  2.50  Female    Yes   Fri  Dinner     2        11.823266\n",
      "101       15.38  3.00  Female    Yes   Fri  Dinner     2        14.258857\n",
      "102       44.30  2.50  Female    Yes   Sat  Dinner     3        43.628762\n",
      "103       22.42  3.48  Female    Yes   Sat  Dinner     2        22.613081\n",
      "..          ...   ...     ...    ...   ...     ...   ...              ...\n",
      "155       29.85  5.14  Female     No   Sun  Dinner     5        28.696983\n",
      "157       25.00  3.75  Female     No   Sun  Dinner     4        26.142584\n",
      "158       13.39  2.61  Female     No   Sun  Dinner     2        12.183990\n",
      "162       16.21  2.00  Female     No   Sun  Dinner     3        17.294122\n",
      "164       17.51  3.00  Female    Yes   Sun  Dinner     2        18.554331\n",
      "168       10.59  1.61  Female    Yes   Sat  Dinner     2        10.979629\n",
      "169       10.63  2.00  Female    Yes   Sat  Dinner     2         9.755616\n",
      "178        9.60  4.00  Female    Yes   Sun  Dinner     2         8.863980\n",
      "186       20.90  3.50  Female    Yes   Sun  Dinner     3        20.665623\n",
      "188       18.15  3.50  Female    Yes   Sun  Dinner     3        17.340580\n",
      "191       19.81  4.19  Female    Yes  Thur   Lunch     2        19.424482\n",
      "197       43.11  5.00  Female    Yes  Thur   Lunch     4        45.104112\n",
      "198       13.00  2.00  Female    Yes  Thur   Lunch     2        15.241849\n",
      "201       12.74  2.01  Female    Yes  Thur   Lunch     2        12.156958\n",
      "202       13.00  2.00  Female    Yes  Thur   Lunch     2        14.352715\n",
      "203       16.40  2.50  Female    Yes  Thur   Lunch     2        16.387727\n",
      "205       16.47  3.23  Female    Yes  Thur   Lunch     3        16.018424\n",
      "209       12.76  2.23  Female    Yes   Sat  Dinner     2        11.338518\n",
      "213       13.27  2.50  Female    Yes   Sat  Dinner     2        15.307458\n",
      "214       28.17  6.50  Female    Yes   Sat  Dinner     3        29.114782\n",
      "215       12.90  1.10  Female    Yes   Sat  Dinner     2        12.137555\n",
      "219       30.14  3.09  Female    Yes   Sat  Dinner     4        27.861675\n",
      "221       13.42  3.48  Female    Yes   Fri   Lunch     2        15.014275\n",
      "223       15.98  3.00  Female     No   Fri   Lunch     3        17.112147\n",
      "225       16.27  2.50  Female    Yes   Fri   Lunch     2        17.539199\n",
      "226       10.09  2.00  Female    Yes   Fri   Lunch     2        11.089907\n",
      "229       22.12  2.88  Female    Yes   Sat  Dinner     2        22.225221\n",
      "238       35.83  4.67  Female     No   Sat  Dinner     3        35.199117\n",
      "240       27.18  2.00  Female    Yes   Sat  Dinner     2        27.224100\n",
      "243       18.78  3.00  Female     No  Thur  Dinner     2        18.641206\n",
      "\n",
      "[87 rows x 8 columns]\n",
      "Male\n",
      "     total_bill   tip   sex smoker   day    time  size  total_bill_rand\n",
      "1         10.34  1.66  Male     No   Sun  Dinner     3        11.235986\n",
      "2         21.01  3.50  Male     No   Sun  Dinner     3        21.413654\n",
      "3         23.68  3.31  Male     No   Sun  Dinner     2        24.105713\n",
      "5         25.29  4.71  Male     No   Sun  Dinner     4        23.852726\n",
      "6          8.77  2.00  Male     No   Sun  Dinner     2         7.531228\n",
      "7         26.88  3.12  Male     No   Sun  Dinner     4        27.315638\n",
      "8         15.04  1.96  Male     No   Sun  Dinner     2        14.993593\n",
      "9         14.78  3.23  Male     No   Sun  Dinner     2        15.212249\n",
      "10        10.27  1.71  Male     No   Sun  Dinner     2        10.958287\n",
      "12        15.42  1.57  Male     No   Sun  Dinner     2        15.106783\n",
      "13        18.43  3.00  Male     No   Sun  Dinner     4        19.675274\n",
      "15        21.58  3.92  Male     No   Sun  Dinner     2        21.163125\n",
      "17        16.29  3.71  Male     No   Sun  Dinner     3        16.588023\n",
      "19        20.65  3.35  Male     No   Sat  Dinner     3        20.408716\n",
      "20        17.92  4.08  Male     No   Sat  Dinner     2        18.969192\n",
      "23        39.42  7.58  Male     No   Sat  Dinner     4        37.861122\n",
      "24        19.82  3.18  Male     No   Sat  Dinner     2        19.867794\n",
      "25        17.81  2.34  Male     No   Sat  Dinner     4        17.155579\n",
      "26        13.37  2.00  Male     No   Sat  Dinner     2        13.937478\n",
      "27        12.69  2.00  Male     No   Sat  Dinner     2        12.575053\n",
      "28        21.70  4.30  Male     No   Sat  Dinner     2        21.312582\n",
      "30         9.55  1.45  Male     No   Sat  Dinner     2        11.524562\n",
      "31        18.35  2.50  Male     No   Sat  Dinner     4        17.325694\n",
      "34        17.78  3.27  Male     No   Sat  Dinner     2        16.358796\n",
      "35        24.06  3.60  Male     No   Sat  Dinner     3        24.451568\n",
      "36        16.31  2.00  Male     No   Sat  Dinner     3        15.422603\n",
      "38        18.69  2.31  Male     No   Sat  Dinner     3        18.544565\n",
      "39        31.27  5.00  Male     No   Sat  Dinner     3        30.989789\n",
      "40        16.04  2.24  Male     No   Sat  Dinner     3        15.919150\n",
      "41        17.46  2.54  Male     No   Sun  Dinner     2        19.812537\n",
      "..          ...   ...   ...    ...   ...     ...   ...              ...\n",
      "195        7.56  1.44  Male     No  Thur   Lunch     2         7.626273\n",
      "196       10.34  2.00  Male    Yes  Thur   Lunch     2        10.425455\n",
      "199       13.51  2.00  Male    Yes  Thur   Lunch     2        12.797124\n",
      "200       18.71  4.00  Male    Yes  Thur   Lunch     3        17.558527\n",
      "204       20.53  4.00  Male    Yes  Thur   Lunch     4        19.414346\n",
      "206       26.59  3.41  Male    Yes   Sat  Dinner     3        25.896327\n",
      "207       38.73  3.00  Male    Yes   Sat  Dinner     4        38.894134\n",
      "208       24.27  2.03  Male    Yes   Sat  Dinner     2        24.252689\n",
      "210       30.06  2.00  Male    Yes   Sat  Dinner     3        30.714393\n",
      "211       25.89  5.16  Male    Yes   Sat  Dinner     4        25.459681\n",
      "212       48.33  9.00  Male     No   Sat  Dinner     4        49.762888\n",
      "216       28.15  3.00  Male    Yes   Sat  Dinner     5        29.469771\n",
      "217       11.59  1.50  Male    Yes   Sat  Dinner     2        10.672998\n",
      "218        7.74  1.44  Male    Yes   Sat  Dinner     2         8.120752\n",
      "220       12.16  2.20  Male    Yes   Fri   Lunch     2        11.009357\n",
      "222        8.58  1.92  Male    Yes   Fri   Lunch     1         7.371166\n",
      "224       13.42  1.58  Male    Yes   Fri   Lunch     2        14.128075\n",
      "227       20.45  3.00  Male     No   Sat  Dinner     4        19.055877\n",
      "228       13.28  2.72  Male     No   Sat  Dinner     2        14.924410\n",
      "230       24.01  2.00  Male    Yes   Sat  Dinner     4        23.842845\n",
      "231       15.69  3.00  Male    Yes   Sat  Dinner     3        16.635612\n",
      "232       11.61  3.39  Male     No   Sat  Dinner     2        10.281567\n",
      "233       10.77  1.47  Male     No   Sat  Dinner     2        11.122386\n",
      "234       15.53  3.00  Male    Yes   Sat  Dinner     2        16.368874\n",
      "235       10.07  1.25  Male     No   Sat  Dinner     2        11.205638\n",
      "236       12.60  1.00  Male    Yes   Sat  Dinner     2        12.594061\n",
      "237       32.83  1.17  Male    Yes   Sat  Dinner     2        31.278182\n",
      "239       29.03  5.92  Male     No   Sat  Dinner     3        29.949697\n",
      "241       22.67  2.00  Male    Yes   Sat  Dinner     2        22.825897\n",
      "242       17.82  1.75  Male     No   Sat  Dinner     2        19.880522\n",
      "\n",
      "[157 rows x 8 columns]\n"
     ]
    }
   ],
   "source": [
    "for name, group in df.groupby(by=['sex']):\n",
    "    print(name)\n",
    "    print(group)"
   ]
  },
  {
   "cell_type": "markdown",
   "metadata": {
    "colab_type": "text",
    "id": "RgEl1_QwSDrD"
   },
   "source": [
    "We can select more than one variable to make groups. For instance, if we group by sex and size, since there are 2 values for sex and 6 values for size, there will be 12 groups created."
   ]
  },
  {
   "cell_type": "code",
   "execution_count": 104,
   "metadata": {
    "colab": {
     "base_uri": "https://localhost:8080/",
     "height": 3978
    },
    "colab_type": "code",
    "id": "bRtMVSVsSDrD",
    "outputId": "e1d08366-efad-4797-fc94-08a502afae6b"
   },
   "outputs": [
    {
     "name": "stdout",
     "output_type": "stream",
     "text": [
      "     total_bill   tip     sex smoker   day    time  size  total_bill_rand\n",
      "67         3.07  1.00  Female    Yes   Sat  Dinner     1         3.364872\n",
      "82        10.07  1.83  Female     No  Thur   Lunch     1         9.077067\n",
      "111        7.25  1.00  Female     No   Sat  Dinner     1         5.507585\n",
      "     total_bill   tip     sex smoker   day    time  size  total_bill_rand\n",
      "0         16.99  1.01  Female     No   Sun  Dinner     2        19.229865\n",
      "14        14.83  3.02  Female     No   Sun  Dinner     2        14.169146\n",
      "21        20.29  2.75  Female     No   Sat  Dinner     2        18.853396\n",
      "22        15.77  2.23  Female     No   Sat  Dinner     2        16.937855\n",
      "29        19.65  3.00  Female     No   Sat  Dinner     2        17.987859\n",
      "32        15.06  3.00  Female     No   Sat  Dinner     2        15.914629\n",
      "51        10.29  2.60  Female     No   Sun  Dinner     2        10.841200\n",
      "57        26.41  1.50  Female     No   Sat  Dinner     2        26.684208\n",
      "66        16.45  2.47  Female     No   Sat  Dinner     2        17.558378\n",
      "72        26.86  3.14  Female    Yes   Sat  Dinner     2        25.595855\n",
      "73        25.28  5.00  Female    Yes   Sat  Dinner     2        25.545759\n",
      "74        14.73  2.20  Female     No   Sat  Dinner     2        14.570150\n",
      "92         5.75  1.00  Female    Yes   Fri  Dinner     2         5.716858\n",
      "93        16.32  4.30  Female    Yes   Fri  Dinner     2        15.521942\n",
      "94        22.75  3.25  Female     No   Fri  Dinner     2        23.598727\n",
      "100       11.35  2.50  Female    Yes   Fri  Dinner     2        11.823266\n",
      "101       15.38  3.00  Female    Yes   Fri  Dinner     2        14.258857\n",
      "103       22.42  3.48  Female    Yes   Sat  Dinner     2        22.613081\n",
      "104       20.92  4.08  Female     No   Sat  Dinner     2        20.737380\n",
      "109       14.31  4.00  Female    Yes   Sat  Dinner     2        13.080717\n",
      "115       17.31  3.50  Female     No   Sun  Dinner     2        18.000491\n",
      "117       10.65  1.50  Female     No  Thur   Lunch     2        11.666120\n",
      "118       12.43  1.80  Female     No  Thur   Lunch     2        12.391800\n",
      "121       13.42  1.68  Female     No  Thur   Lunch     2        12.329499\n",
      "124       12.48  2.52  Female     No  Thur   Lunch     2        13.439767\n",
      "127       14.52  2.00  Female     No  Thur   Lunch     2        13.984561\n",
      "128       11.38  2.00  Female     No  Thur   Lunch     2        11.112508\n",
      "131       20.27  2.83  Female     No  Thur   Lunch     2        19.377501\n",
      "132       11.17  1.50  Female     No  Thur   Lunch     2        11.848637\n",
      "133       12.26  2.00  Female     No  Thur   Lunch     2        12.887390\n",
      "134       18.26  3.25  Female     No  Thur   Lunch     2        19.350254\n",
      "135        8.51  1.25  Female     No  Thur   Lunch     2         7.265868\n",
      "136       10.33  2.00  Female     No  Thur   Lunch     2        10.384073\n",
      "137       14.15  2.00  Female     No  Thur   Lunch     2        14.278584\n",
      "139       13.16  2.75  Female     No  Thur   Lunch     2        12.306924\n",
      "140       17.47  3.50  Female     No  Thur   Lunch     2        18.986937\n",
      "144       16.43  2.30  Female     No  Thur   Lunch     2        15.187726\n",
      "145        8.35  1.50  Female     No  Thur   Lunch     2         7.584740\n",
      "147       11.87  1.63  Female     No  Thur   Lunch     2        11.469580\n",
      "158       13.39  2.61  Female     No   Sun  Dinner     2        12.183990\n",
      "164       17.51  3.00  Female    Yes   Sun  Dinner     2        18.554331\n",
      "168       10.59  1.61  Female    Yes   Sat  Dinner     2        10.979629\n",
      "169       10.63  2.00  Female    Yes   Sat  Dinner     2         9.755616\n",
      "178        9.60  4.00  Female    Yes   Sun  Dinner     2         8.863980\n",
      "191       19.81  4.19  Female    Yes  Thur   Lunch     2        19.424482\n",
      "198       13.00  2.00  Female    Yes  Thur   Lunch     2        15.241849\n",
      "201       12.74  2.01  Female    Yes  Thur   Lunch     2        12.156958\n",
      "202       13.00  2.00  Female    Yes  Thur   Lunch     2        14.352715\n",
      "203       16.40  2.50  Female    Yes  Thur   Lunch     2        16.387727\n",
      "209       12.76  2.23  Female    Yes   Sat  Dinner     2        11.338518\n",
      "213       13.27  2.50  Female    Yes   Sat  Dinner     2        15.307458\n",
      "215       12.90  1.10  Female    Yes   Sat  Dinner     2        12.137555\n",
      "221       13.42  3.48  Female    Yes   Fri   Lunch     2        15.014275\n",
      "225       16.27  2.50  Female    Yes   Fri   Lunch     2        17.539199\n",
      "226       10.09  2.00  Female    Yes   Fri   Lunch     2        11.089907\n",
      "229       22.12  2.88  Female    Yes   Sat  Dinner     2        22.225221\n",
      "240       27.18  2.00  Female    Yes   Sat  Dinner     2        27.224100\n",
      "243       18.78  3.00  Female     No  Thur  Dinner     2        18.641206\n",
      "     total_bill   tip     sex smoker   day    time  size  total_bill_rand\n",
      "16        10.33  1.67  Female     No   Sun  Dinner     3         9.978721\n",
      "18        16.97  3.50  Female     No   Sun  Dinner     3        19.116772\n",
      "37        16.93  3.07  Female     No   Sat  Dinner     3        17.675599\n",
      "71        17.07  3.00  Female     No   Sat  Dinner     3        18.121927\n",
      "102       44.30  2.50  Female    Yes   Sat  Dinner     3        43.628762\n",
      "114       25.71  4.00  Female     No   Sun  Dinner     3        25.378924\n",
      "146       18.64  1.36  Female     No  Thur   Lunch     3        18.116866\n",
      "162       16.21  2.00  Female     No   Sun  Dinner     3        17.294122\n",
      "186       20.90  3.50  Female    Yes   Sun  Dinner     3        20.665623\n",
      "188       18.15  3.50  Female    Yes   Sun  Dinner     3        17.340580\n",
      "205       16.47  3.23  Female    Yes  Thur   Lunch     3        16.018424\n",
      "214       28.17  6.50  Female    Yes   Sat  Dinner     3        29.114782\n",
      "223       15.98  3.00  Female     No   Fri   Lunch     3        17.112147\n",
      "238       35.83  4.67  Female     No   Sat  Dinner     3        35.199117\n",
      "     total_bill   tip     sex smoker   day    time  size  total_bill_rand\n",
      "4         24.59  3.61  Female     No   Sun  Dinner     4        23.437885\n",
      "11        35.26  5.00  Female     No   Sun  Dinner     4        36.013951\n",
      "33        20.69  2.45  Female     No   Sat  Dinner     4        21.351903\n",
      "52        34.81  5.20  Female     No   Sun  Dinner     4        36.443165\n",
      "85        34.83  5.17  Female     No  Thur   Lunch     4        35.231072\n",
      "119       24.08  2.92  Female     No  Thur   Lunch     4        23.675199\n",
      "157       25.00  3.75  Female     No   Sun  Dinner     4        26.142584\n",
      "197       43.11  5.00  Female    Yes  Thur   Lunch     4        45.104112\n",
      "219       30.14  3.09  Female    Yes   Sat  Dinner     4        27.861675\n",
      "     total_bill   tip     sex smoker  day    time  size  total_bill_rand\n",
      "155       29.85  5.14  Female     No  Sun  Dinner     5        28.696983\n",
      "     total_bill  tip     sex smoker   day   time  size  total_bill_rand\n",
      "125       29.80  4.2  Female     No  Thur  Lunch     6        29.354890\n",
      "143       27.05  5.0  Female     No  Thur  Lunch     6        26.226988\n",
      "     total_bill   tip   sex smoker  day   time  size  total_bill_rand\n",
      "222        8.58  1.92  Male    Yes  Fri  Lunch     1         7.371166\n",
      "     total_bill   tip   sex smoker   day    time  size  total_bill_rand\n",
      "3         23.68  3.31  Male     No   Sun  Dinner     2        24.105713\n",
      "6          8.77  2.00  Male     No   Sun  Dinner     2         7.531228\n",
      "8         15.04  1.96  Male     No   Sun  Dinner     2        14.993593\n",
      "9         14.78  3.23  Male     No   Sun  Dinner     2        15.212249\n",
      "10        10.27  1.71  Male     No   Sun  Dinner     2        10.958287\n",
      "12        15.42  1.57  Male     No   Sun  Dinner     2        15.106783\n",
      "15        21.58  3.92  Male     No   Sun  Dinner     2        21.163125\n",
      "20        17.92  4.08  Male     No   Sat  Dinner     2        18.969192\n",
      "24        19.82  3.18  Male     No   Sat  Dinner     2        19.867794\n",
      "26        13.37  2.00  Male     No   Sat  Dinner     2        13.937478\n",
      "27        12.69  2.00  Male     No   Sat  Dinner     2        12.575053\n",
      "28        21.70  4.30  Male     No   Sat  Dinner     2        21.312582\n",
      "30         9.55  1.45  Male     No   Sat  Dinner     2        11.524562\n",
      "34        17.78  3.27  Male     No   Sat  Dinner     2        16.358796\n",
      "41        17.46  2.54  Male     No   Sun  Dinner     2        19.812537\n",
      "42        13.94  3.06  Male     No   Sun  Dinner     2        13.206372\n",
      "43         9.68  1.32  Male     No   Sun  Dinner     2         8.719409\n",
      "45        18.29  3.00  Male     No   Sun  Dinner     2        18.239762\n",
      "46        22.23  5.00  Male     No   Sun  Dinner     2        21.967554\n",
      "49        18.04  3.00  Male     No   Sun  Dinner     2        17.096996\n",
      "50        12.54  2.50  Male     No   Sun  Dinner     2        12.730503\n",
      "53         9.94  1.56  Male     No   Sun  Dinner     2        10.970477\n",
      "55        19.49  3.51  Male     No   Sun  Dinner     2        20.467872\n",
      "58        11.24  1.76  Male    Yes   Sat  Dinner     2        10.269499\n",
      "60        20.29  3.21  Male    Yes   Sat  Dinner     2        21.060740\n",
      "61        13.81  2.00  Male    Yes   Sat  Dinner     2        13.650035\n",
      "62        11.02  1.98  Male    Yes   Sat  Dinner     2        11.037154\n",
      "68        20.23  2.01  Male     No   Sat  Dinner     2        21.076079\n",
      "69        15.01  2.09  Male    Yes   Sat  Dinner     2        15.047878\n",
      "70        12.02  1.97  Male     No   Sat  Dinner     2        11.193012\n",
      "..          ...   ...   ...    ...   ...     ...   ...              ...\n",
      "172        7.25  5.15  Male    Yes   Sun  Dinner     2         9.170086\n",
      "173       31.85  3.18  Male    Yes   Sun  Dinner     2        32.079096\n",
      "174       16.82  4.00  Male    Yes   Sun  Dinner     2        17.040080\n",
      "175       32.90  3.11  Male    Yes   Sun  Dinner     2        32.172443\n",
      "176       17.89  2.00  Male    Yes   Sun  Dinner     2        18.471671\n",
      "177       14.48  2.00  Male    Yes   Sun  Dinner     2        12.946111\n",
      "179       34.63  3.55  Male    Yes   Sun  Dinner     2        33.780074\n",
      "181       23.33  5.65  Male    Yes   Sun  Dinner     2        21.309178\n",
      "184       40.55  3.00  Male    Yes   Sun  Dinner     2        41.312990\n",
      "190       15.69  1.50  Male    Yes   Sun  Dinner     2        15.672982\n",
      "192       28.44  2.56  Male    Yes  Thur   Lunch     2        27.792462\n",
      "193       15.48  2.02  Male    Yes  Thur   Lunch     2        17.171157\n",
      "194       16.58  4.00  Male    Yes  Thur   Lunch     2        16.349416\n",
      "195        7.56  1.44  Male     No  Thur   Lunch     2         7.626273\n",
      "196       10.34  2.00  Male    Yes  Thur   Lunch     2        10.425455\n",
      "199       13.51  2.00  Male    Yes  Thur   Lunch     2        12.797124\n",
      "208       24.27  2.03  Male    Yes   Sat  Dinner     2        24.252689\n",
      "217       11.59  1.50  Male    Yes   Sat  Dinner     2        10.672998\n",
      "218        7.74  1.44  Male    Yes   Sat  Dinner     2         8.120752\n",
      "220       12.16  2.20  Male    Yes   Fri   Lunch     2        11.009357\n",
      "224       13.42  1.58  Male    Yes   Fri   Lunch     2        14.128075\n",
      "228       13.28  2.72  Male     No   Sat  Dinner     2        14.924410\n",
      "232       11.61  3.39  Male     No   Sat  Dinner     2        10.281567\n",
      "233       10.77  1.47  Male     No   Sat  Dinner     2        11.122386\n",
      "234       15.53  3.00  Male    Yes   Sat  Dinner     2        16.368874\n",
      "235       10.07  1.25  Male     No   Sat  Dinner     2        11.205638\n",
      "236       12.60  1.00  Male    Yes   Sat  Dinner     2        12.594061\n",
      "237       32.83  1.17  Male    Yes   Sat  Dinner     2        31.278182\n",
      "241       22.67  2.00  Male    Yes   Sat  Dinner     2        22.825897\n",
      "242       17.82  1.75  Male     No   Sat  Dinner     2        19.880522\n",
      "\n",
      "[98 rows x 8 columns]\n",
      "     total_bill    tip   sex smoker   day    time  size  total_bill_rand\n",
      "1         10.34   1.66  Male     No   Sun  Dinner     3        11.235986\n",
      "2         21.01   3.50  Male     No   Sun  Dinner     3        21.413654\n",
      "17        16.29   3.71  Male     No   Sun  Dinner     3        16.588023\n",
      "19        20.65   3.35  Male     No   Sat  Dinner     3        20.408716\n",
      "35        24.06   3.60  Male     No   Sat  Dinner     3        24.451568\n",
      "36        16.31   2.00  Male     No   Sat  Dinner     3        15.422603\n",
      "38        18.69   2.31  Male     No   Sat  Dinner     3        18.544565\n",
      "39        31.27   5.00  Male     No   Sat  Dinner     3        30.989789\n",
      "40        16.04   2.24  Male     No   Sat  Dinner     3        15.919150\n",
      "48        28.55   2.05  Male     No   Sun  Dinner     3        28.324412\n",
      "64        17.59   2.64  Male     No   Sat  Dinner     3        19.333634\n",
      "65        20.08   3.15  Male     No   Sat  Dinner     3        20.034384\n",
      "112       38.07   4.00  Male     No   Sun  Dinner     3        39.817345\n",
      "129       22.82   2.18  Male     No  Thur   Lunch     3        24.191819\n",
      "152       17.26   2.74  Male     No   Sun  Dinner     3        17.045642\n",
      "165       24.52   3.48  Male     No   Sun  Dinner     3        25.756289\n",
      "170       50.81  10.00  Male    Yes   Sat  Dinner     3        50.150456\n",
      "182       45.35   3.50  Male    Yes   Sun  Dinner     3        45.350638\n",
      "189       23.10   4.00  Male    Yes   Sun  Dinner     3        22.772719\n",
      "200       18.71   4.00  Male    Yes  Thur   Lunch     3        17.558527\n",
      "206       26.59   3.41  Male    Yes   Sat  Dinner     3        25.896327\n",
      "210       30.06   2.00  Male    Yes   Sat  Dinner     3        30.714393\n",
      "231       15.69   3.00  Male    Yes   Sat  Dinner     3        16.635612\n",
      "239       29.03   5.92  Male     No   Sat  Dinner     3        29.949697\n",
      "     total_bill   tip   sex smoker   day    time  size  total_bill_rand\n",
      "5         25.29  4.71  Male     No   Sun  Dinner     4        23.852726\n",
      "7         26.88  3.12  Male     No   Sun  Dinner     4        27.315638\n",
      "13        18.43  3.00  Male     No   Sun  Dinner     4        19.675274\n",
      "23        39.42  7.58  Male     No   Sat  Dinner     4        37.861122\n",
      "25        17.81  2.34  Male     No   Sat  Dinner     4        17.155579\n",
      "31        18.35  2.50  Male     No   Sat  Dinner     4        17.325694\n",
      "44        30.40  5.60  Male     No   Sun  Dinner     4        29.111179\n",
      "47        32.40  6.00  Male     No   Sun  Dinner     4        31.369115\n",
      "54        25.56  4.34  Male     No   Sun  Dinner     4        25.806321\n",
      "56        38.01  3.00  Male    Yes   Sat  Dinner     4        38.718486\n",
      "59        48.27  6.73  Male     No   Sat  Dinner     4        49.965273\n",
      "63        18.29  3.76  Male    Yes   Sat  Dinner     4        18.875221\n",
      "77        27.20  4.00  Male     No  Thur   Lunch     4        27.039342\n",
      "95        40.17  4.73  Male    Yes   Fri  Dinner     4        38.991048\n",
      "116       29.93  5.07  Male     No   Sun  Dinner     4        29.942151\n",
      "153       24.55  2.00  Male     No   Sun  Dinner     4        24.008207\n",
      "154       19.77  2.00  Male     No   Sun  Dinner     4        20.275661\n",
      "159       16.49  2.00  Male     No   Sun  Dinner     4        16.137330\n",
      "160       21.50  3.50  Male     No   Sun  Dinner     4        22.707030\n",
      "167       31.71  4.50  Male     No   Sun  Dinner     4        32.524351\n",
      "180       34.65  3.68  Male    Yes   Sun  Dinner     4        35.381806\n",
      "183       23.17  6.50  Male    Yes   Sun  Dinner     4        23.313679\n",
      "204       20.53  4.00  Male    Yes  Thur   Lunch     4        19.414346\n",
      "207       38.73  3.00  Male    Yes   Sat  Dinner     4        38.894134\n",
      "211       25.89  5.16  Male    Yes   Sat  Dinner     4        25.459681\n",
      "212       48.33  9.00  Male     No   Sat  Dinner     4        49.762888\n",
      "227       20.45  3.00  Male     No   Sat  Dinner     4        19.055877\n",
      "230       24.01  2.00  Male    Yes   Sat  Dinner     4        23.842845\n",
      "     total_bill  tip   sex smoker   day    time  size  total_bill_rand\n",
      "142       41.19  5.0  Male     No  Thur   Lunch     5        42.299917\n",
      "185       20.69  5.0  Male     No   Sun  Dinner     5        21.692157\n",
      "187       30.46  2.0  Male    Yes   Sun  Dinner     5        30.344980\n",
      "216       28.15  3.0  Male    Yes   Sat  Dinner     5        29.469771\n",
      "     total_bill  tip   sex smoker   day    time  size  total_bill_rand\n",
      "141       34.30  6.7  Male     No  Thur   Lunch     6        34.142865\n",
      "156       48.17  5.0  Male     No   Sun  Dinner     6        47.942488\n"
     ]
    }
   ],
   "source": [
    "for name, group in df.groupby(by=['sex', 'size']):\n",
    "    print(name)\n",
    "    print(group)\n"
   ]
  },
  {
   "cell_type": "markdown",
   "metadata": {
    "colab_type": "text",
    "id": "idnzSde3SDrI"
   },
   "source": [
    "Once we have created the groups, we can apply functions over them. For instance, we can calculate the average price of the bill for each of the groups."
   ]
  },
  {
   "cell_type": "code",
   "execution_count": 106,
   "metadata": {
    "colab": {
     "base_uri": "https://localhost:8080/",
     "height": 221
    },
    "colab_type": "code",
    "id": "PdaPztJXSDrI",
    "outputId": "ec7f0b53-b5d1-4c0b-fba5-480e786ff41f"
   },
   "outputs": [
    {
     "name": "stdout",
     "output_type": "stream",
     "text": [
      "('Female', 1) 6.796666666666667\n",
      "('Female', 2) 15.339482758620687\n",
      "('Female', 3) 21.54714285714286\n",
      "('Female', 4) 30.278888888888886\n",
      "('Female', 5) 29.85\n",
      "('Female', 6) 28.425\n",
      "('Male', 1) 8.58\n",
      "('Male', 2) 17.10408163265306\n",
      "('Male', 3) 24.28708333333333\n",
      "('Male', 4) 28.07821428571429\n",
      "('Male', 5) 30.122500000000002\n",
      "('Male', 6) 41.235\n"
     ]
    }
   ],
   "source": [
    "for name, group in df.groupby(by=['sex', 'size']):\n",
    "    print(name, group['total_bill'].mean())\n",
    "    # equivalente a np.mean(group['total_bill'])"
   ]
  },
  {
   "cell_type": "markdown",
   "metadata": {
    "colab_type": "text",
    "id": "B5vZ87jtSDrK"
   },
   "source": [
    "The previous method is not so handy if we want to incorporate this information into the actual dataframe, so pandas has for this purpose the function `agg`:"
   ]
  },
  {
   "cell_type": "code",
   "execution_count": 107,
   "metadata": {
    "colab": {
     "base_uri": "https://localhost:8080/",
     "height": 142
    },
    "colab_type": "code",
    "id": "ZYWJJuFbSDrL",
    "outputId": "e3eaba9b-9585-4fd6-e8f8-7a65e2734633"
   },
   "outputs": [
    {
     "data": {
      "text/html": [
       "<div>\n",
       "<style scoped>\n",
       "    .dataframe tbody tr th:only-of-type {\n",
       "        vertical-align: middle;\n",
       "    }\n",
       "\n",
       "    .dataframe tbody tr th {\n",
       "        vertical-align: top;\n",
       "    }\n",
       "\n",
       "    .dataframe thead th {\n",
       "        text-align: right;\n",
       "    }\n",
       "</style>\n",
       "<table border=\"1\" class=\"dataframe\">\n",
       "  <thead>\n",
       "    <tr style=\"text-align: right;\">\n",
       "      <th></th>\n",
       "      <th>total_bill</th>\n",
       "    </tr>\n",
       "    <tr>\n",
       "      <th>sex</th>\n",
       "      <th></th>\n",
       "    </tr>\n",
       "  </thead>\n",
       "  <tbody>\n",
       "    <tr>\n",
       "      <th>Female</th>\n",
       "      <td>18.056897</td>\n",
       "    </tr>\n",
       "    <tr>\n",
       "      <th>Male</th>\n",
       "      <td>20.744076</td>\n",
       "    </tr>\n",
       "  </tbody>\n",
       "</table>\n",
       "</div>"
      ],
      "text/plain": [
       "        total_bill\n",
       "sex               \n",
       "Female   18.056897\n",
       "Male     20.744076"
      ]
     },
     "execution_count": 107,
     "metadata": {},
     "output_type": "execute_result"
    }
   ],
   "source": [
    "df_bill = df.groupby(['sex']).agg({'total_bill': np.mean})\n",
    "df_bill"
   ]
  },
  {
   "cell_type": "code",
   "execution_count": 108,
   "metadata": {
    "colab": {
     "base_uri": "https://localhost:8080/",
     "height": 452
    },
    "colab_type": "code",
    "id": "WfCe5ZvzSDrM",
    "outputId": "a268f0b0-28b9-465b-c4ba-9aaf2c89905d"
   },
   "outputs": [
    {
     "data": {
      "text/html": [
       "<div>\n",
       "<style scoped>\n",
       "    .dataframe tbody tr th:only-of-type {\n",
       "        vertical-align: middle;\n",
       "    }\n",
       "\n",
       "    .dataframe tbody tr th {\n",
       "        vertical-align: top;\n",
       "    }\n",
       "\n",
       "    .dataframe thead th {\n",
       "        text-align: right;\n",
       "    }\n",
       "</style>\n",
       "<table border=\"1\" class=\"dataframe\">\n",
       "  <thead>\n",
       "    <tr style=\"text-align: right;\">\n",
       "      <th></th>\n",
       "      <th></th>\n",
       "      <th>total_bill</th>\n",
       "    </tr>\n",
       "    <tr>\n",
       "      <th>sex</th>\n",
       "      <th>size</th>\n",
       "      <th></th>\n",
       "    </tr>\n",
       "  </thead>\n",
       "  <tbody>\n",
       "    <tr>\n",
       "      <th rowspan=\"6\" valign=\"top\">Female</th>\n",
       "      <th>1</th>\n",
       "      <td>6.796667</td>\n",
       "    </tr>\n",
       "    <tr>\n",
       "      <th>2</th>\n",
       "      <td>15.339483</td>\n",
       "    </tr>\n",
       "    <tr>\n",
       "      <th>3</th>\n",
       "      <td>21.547143</td>\n",
       "    </tr>\n",
       "    <tr>\n",
       "      <th>4</th>\n",
       "      <td>30.278889</td>\n",
       "    </tr>\n",
       "    <tr>\n",
       "      <th>5</th>\n",
       "      <td>29.850000</td>\n",
       "    </tr>\n",
       "    <tr>\n",
       "      <th>6</th>\n",
       "      <td>28.425000</td>\n",
       "    </tr>\n",
       "    <tr>\n",
       "      <th rowspan=\"6\" valign=\"top\">Male</th>\n",
       "      <th>1</th>\n",
       "      <td>8.580000</td>\n",
       "    </tr>\n",
       "    <tr>\n",
       "      <th>2</th>\n",
       "      <td>17.104082</td>\n",
       "    </tr>\n",
       "    <tr>\n",
       "      <th>3</th>\n",
       "      <td>24.287083</td>\n",
       "    </tr>\n",
       "    <tr>\n",
       "      <th>4</th>\n",
       "      <td>28.078214</td>\n",
       "    </tr>\n",
       "    <tr>\n",
       "      <th>5</th>\n",
       "      <td>30.122500</td>\n",
       "    </tr>\n",
       "    <tr>\n",
       "      <th>6</th>\n",
       "      <td>41.235000</td>\n",
       "    </tr>\n",
       "  </tbody>\n",
       "</table>\n",
       "</div>"
      ],
      "text/plain": [
       "             total_bill\n",
       "sex    size            \n",
       "Female 1       6.796667\n",
       "       2      15.339483\n",
       "       3      21.547143\n",
       "       4      30.278889\n",
       "       5      29.850000\n",
       "       6      28.425000\n",
       "Male   1       8.580000\n",
       "       2      17.104082\n",
       "       3      24.287083\n",
       "       4      28.078214\n",
       "       5      30.122500\n",
       "       6      41.235000"
      ]
     },
     "execution_count": 108,
     "metadata": {},
     "output_type": "execute_result"
    }
   ],
   "source": [
    "df_bill = df.groupby(['sex', 'size']).agg({'total_bill': np.mean})\n",
    "df_bill"
   ]
  },
  {
   "cell_type": "markdown",
   "metadata": {
    "colab_type": "text",
    "id": "lp_6T_TKSDrO"
   },
   "source": [
    "Using `pivot`, we can pivot this table in order to see the results better."
   ]
  },
  {
   "cell_type": "code",
   "execution_count": 109,
   "metadata": {
    "colab": {},
    "colab_type": "code",
    "id": "3oqKBahBSDrO",
    "outputId": "d1000a23-6e9c-4aee-a0e8-5a85698ba55b"
   },
   "outputs": [
    {
     "data": {
      "text/html": [
       "<div>\n",
       "<style scoped>\n",
       "    .dataframe tbody tr th:only-of-type {\n",
       "        vertical-align: middle;\n",
       "    }\n",
       "\n",
       "    .dataframe tbody tr th {\n",
       "        vertical-align: top;\n",
       "    }\n",
       "\n",
       "    .dataframe thead tr th {\n",
       "        text-align: left;\n",
       "    }\n",
       "\n",
       "    .dataframe thead tr:last-of-type th {\n",
       "        text-align: right;\n",
       "    }\n",
       "</style>\n",
       "<table border=\"1\" class=\"dataframe\">\n",
       "  <thead>\n",
       "    <tr>\n",
       "      <th></th>\n",
       "      <th colspan=\"6\" halign=\"left\">total_bill</th>\n",
       "    </tr>\n",
       "    <tr>\n",
       "      <th>size</th>\n",
       "      <th>1</th>\n",
       "      <th>2</th>\n",
       "      <th>3</th>\n",
       "      <th>4</th>\n",
       "      <th>5</th>\n",
       "      <th>6</th>\n",
       "    </tr>\n",
       "    <tr>\n",
       "      <th>sex</th>\n",
       "      <th></th>\n",
       "      <th></th>\n",
       "      <th></th>\n",
       "      <th></th>\n",
       "      <th></th>\n",
       "      <th></th>\n",
       "    </tr>\n",
       "  </thead>\n",
       "  <tbody>\n",
       "    <tr>\n",
       "      <th>Female</th>\n",
       "      <td>6.796667</td>\n",
       "      <td>15.339483</td>\n",
       "      <td>21.547143</td>\n",
       "      <td>30.278889</td>\n",
       "      <td>29.8500</td>\n",
       "      <td>28.425</td>\n",
       "    </tr>\n",
       "    <tr>\n",
       "      <th>Male</th>\n",
       "      <td>8.580000</td>\n",
       "      <td>17.104082</td>\n",
       "      <td>24.287083</td>\n",
       "      <td>28.078214</td>\n",
       "      <td>30.1225</td>\n",
       "      <td>41.235</td>\n",
       "    </tr>\n",
       "  </tbody>\n",
       "</table>\n",
       "</div>"
      ],
      "text/plain": [
       "       total_bill                                                  \n",
       "size            1          2          3          4        5       6\n",
       "sex                                                                \n",
       "Female   6.796667  15.339483  21.547143  30.278889  29.8500  28.425\n",
       "Male     8.580000  17.104082  24.287083  28.078214  30.1225  41.235"
      ]
     },
     "execution_count": 109,
     "metadata": {},
     "output_type": "execute_result"
    }
   ],
   "source": [
    "df_bill.reset_index().pivot(index='sex', columns='size')"
   ]
  },
  {
   "cell_type": "markdown",
   "metadata": {},
   "source": [
    "Do you see anything fishy ? In the female row, the average of total_bill is smaller for a table of 6 people than 4, how can that be ?"
   ]
  },
  {
   "cell_type": "code",
   "execution_count": 111,
   "metadata": {
    "scrolled": false
   },
   "outputs": [
    {
     "data": {
      "text/html": [
       "<div>\n",
       "<style scoped>\n",
       "    .dataframe tbody tr th:only-of-type {\n",
       "        vertical-align: middle;\n",
       "    }\n",
       "\n",
       "    .dataframe tbody tr th {\n",
       "        vertical-align: top;\n",
       "    }\n",
       "\n",
       "    .dataframe thead th {\n",
       "        text-align: right;\n",
       "    }\n",
       "</style>\n",
       "<table border=\"1\" class=\"dataframe\">\n",
       "  <thead>\n",
       "    <tr style=\"text-align: right;\">\n",
       "      <th></th>\n",
       "      <th>total_bill</th>\n",
       "      <th>tip</th>\n",
       "      <th>sex</th>\n",
       "      <th>smoker</th>\n",
       "      <th>day</th>\n",
       "      <th>time</th>\n",
       "      <th>size</th>\n",
       "      <th>total_bill_rand</th>\n",
       "    </tr>\n",
       "  </thead>\n",
       "  <tbody>\n",
       "    <tr>\n",
       "      <th>125</th>\n",
       "      <td>29.80</td>\n",
       "      <td>4.2</td>\n",
       "      <td>Female</td>\n",
       "      <td>No</td>\n",
       "      <td>Thur</td>\n",
       "      <td>Lunch</td>\n",
       "      <td>6</td>\n",
       "      <td>29.354890</td>\n",
       "    </tr>\n",
       "    <tr>\n",
       "      <th>143</th>\n",
       "      <td>27.05</td>\n",
       "      <td>5.0</td>\n",
       "      <td>Female</td>\n",
       "      <td>No</td>\n",
       "      <td>Thur</td>\n",
       "      <td>Lunch</td>\n",
       "      <td>6</td>\n",
       "      <td>26.226988</td>\n",
       "    </tr>\n",
       "  </tbody>\n",
       "</table>\n",
       "</div>"
      ],
      "text/plain": [
       "     total_bill  tip     sex smoker   day   time  size  total_bill_rand\n",
       "125       29.80  4.2  Female     No  Thur  Lunch     6        29.354890\n",
       "143       27.05  5.0  Female     No  Thur  Lunch     6        26.226988"
      ]
     },
     "execution_count": 111,
     "metadata": {},
     "output_type": "execute_result"
    }
   ],
   "source": [
    "df[(df['sex']=='Female')&(df['size']==6)]"
   ]
  },
  {
   "cell_type": "code",
   "execution_count": 112,
   "metadata": {},
   "outputs": [
    {
     "data": {
      "text/html": [
       "<div>\n",
       "<style scoped>\n",
       "    .dataframe tbody tr th:only-of-type {\n",
       "        vertical-align: middle;\n",
       "    }\n",
       "\n",
       "    .dataframe tbody tr th {\n",
       "        vertical-align: top;\n",
       "    }\n",
       "\n",
       "    .dataframe thead th {\n",
       "        text-align: right;\n",
       "    }\n",
       "</style>\n",
       "<table border=\"1\" class=\"dataframe\">\n",
       "  <thead>\n",
       "    <tr style=\"text-align: right;\">\n",
       "      <th></th>\n",
       "      <th>total_bill</th>\n",
       "      <th>tip</th>\n",
       "      <th>sex</th>\n",
       "      <th>smoker</th>\n",
       "      <th>day</th>\n",
       "      <th>time</th>\n",
       "      <th>size</th>\n",
       "      <th>total_bill_rand</th>\n",
       "    </tr>\n",
       "  </thead>\n",
       "  <tbody>\n",
       "    <tr>\n",
       "      <th>4</th>\n",
       "      <td>24.59</td>\n",
       "      <td>3.61</td>\n",
       "      <td>Female</td>\n",
       "      <td>No</td>\n",
       "      <td>Sun</td>\n",
       "      <td>Dinner</td>\n",
       "      <td>4</td>\n",
       "      <td>23.437885</td>\n",
       "    </tr>\n",
       "    <tr>\n",
       "      <th>11</th>\n",
       "      <td>35.26</td>\n",
       "      <td>5.00</td>\n",
       "      <td>Female</td>\n",
       "      <td>No</td>\n",
       "      <td>Sun</td>\n",
       "      <td>Dinner</td>\n",
       "      <td>4</td>\n",
       "      <td>36.013951</td>\n",
       "    </tr>\n",
       "    <tr>\n",
       "      <th>33</th>\n",
       "      <td>20.69</td>\n",
       "      <td>2.45</td>\n",
       "      <td>Female</td>\n",
       "      <td>No</td>\n",
       "      <td>Sat</td>\n",
       "      <td>Dinner</td>\n",
       "      <td>4</td>\n",
       "      <td>21.351903</td>\n",
       "    </tr>\n",
       "    <tr>\n",
       "      <th>52</th>\n",
       "      <td>34.81</td>\n",
       "      <td>5.20</td>\n",
       "      <td>Female</td>\n",
       "      <td>No</td>\n",
       "      <td>Sun</td>\n",
       "      <td>Dinner</td>\n",
       "      <td>4</td>\n",
       "      <td>36.443165</td>\n",
       "    </tr>\n",
       "    <tr>\n",
       "      <th>85</th>\n",
       "      <td>34.83</td>\n",
       "      <td>5.17</td>\n",
       "      <td>Female</td>\n",
       "      <td>No</td>\n",
       "      <td>Thur</td>\n",
       "      <td>Lunch</td>\n",
       "      <td>4</td>\n",
       "      <td>35.231072</td>\n",
       "    </tr>\n",
       "    <tr>\n",
       "      <th>119</th>\n",
       "      <td>24.08</td>\n",
       "      <td>2.92</td>\n",
       "      <td>Female</td>\n",
       "      <td>No</td>\n",
       "      <td>Thur</td>\n",
       "      <td>Lunch</td>\n",
       "      <td>4</td>\n",
       "      <td>23.675199</td>\n",
       "    </tr>\n",
       "    <tr>\n",
       "      <th>157</th>\n",
       "      <td>25.00</td>\n",
       "      <td>3.75</td>\n",
       "      <td>Female</td>\n",
       "      <td>No</td>\n",
       "      <td>Sun</td>\n",
       "      <td>Dinner</td>\n",
       "      <td>4</td>\n",
       "      <td>26.142584</td>\n",
       "    </tr>\n",
       "    <tr>\n",
       "      <th>197</th>\n",
       "      <td>43.11</td>\n",
       "      <td>5.00</td>\n",
       "      <td>Female</td>\n",
       "      <td>Yes</td>\n",
       "      <td>Thur</td>\n",
       "      <td>Lunch</td>\n",
       "      <td>4</td>\n",
       "      <td>45.104112</td>\n",
       "    </tr>\n",
       "    <tr>\n",
       "      <th>219</th>\n",
       "      <td>30.14</td>\n",
       "      <td>3.09</td>\n",
       "      <td>Female</td>\n",
       "      <td>Yes</td>\n",
       "      <td>Sat</td>\n",
       "      <td>Dinner</td>\n",
       "      <td>4</td>\n",
       "      <td>27.861675</td>\n",
       "    </tr>\n",
       "  </tbody>\n",
       "</table>\n",
       "</div>"
      ],
      "text/plain": [
       "     total_bill   tip     sex smoker   day    time  size  total_bill_rand\n",
       "4         24.59  3.61  Female     No   Sun  Dinner     4        23.437885\n",
       "11        35.26  5.00  Female     No   Sun  Dinner     4        36.013951\n",
       "33        20.69  2.45  Female     No   Sat  Dinner     4        21.351903\n",
       "52        34.81  5.20  Female     No   Sun  Dinner     4        36.443165\n",
       "85        34.83  5.17  Female     No  Thur   Lunch     4        35.231072\n",
       "119       24.08  2.92  Female     No  Thur   Lunch     4        23.675199\n",
       "157       25.00  3.75  Female     No   Sun  Dinner     4        26.142584\n",
       "197       43.11  5.00  Female    Yes  Thur   Lunch     4        45.104112\n",
       "219       30.14  3.09  Female    Yes   Sat  Dinner     4        27.861675"
      ]
     },
     "execution_count": 112,
     "metadata": {},
     "output_type": "execute_result"
    }
   ],
   "source": [
    "df[(df['sex']=='Female')&(df['size']==4)]"
   ]
  },
  {
   "cell_type": "markdown",
   "metadata": {},
   "source": [
    "A possible explanation is that the table of 6 has only 2 cases, which happen to be cheaper meals."
   ]
  },
  {
   "cell_type": "markdown",
   "metadata": {
    "colab_type": "text",
    "id": "WvRJdAj8SDrP"
   },
   "source": [
    "We can pass more than one argument to `agg` if we want to calculate more columns by applying functions on the groups. With this syntax, agg will apply the functions `mean` and `std` to the whole dataframe (where we previously chose the columns total_bill and tip)"
   ]
  },
  {
   "cell_type": "code",
   "execution_count": 113,
   "metadata": {
    "colab": {},
    "colab_type": "code",
    "id": "glzkPODMSDrQ"
   },
   "outputs": [],
   "source": [
    "df_bill_tips = df.groupby(['sex'])['total_bill', 'tip'].agg([np.mean, np.std])"
   ]
  },
  {
   "cell_type": "code",
   "execution_count": 114,
   "metadata": {
    "colab": {
     "base_uri": "https://localhost:8080/",
     "height": 173
    },
    "colab_type": "code",
    "id": "iAFAL23ISDrR",
    "outputId": "bc8c3cab-9b50-4a29-9891-7af6a1e8cbab"
   },
   "outputs": [
    {
     "data": {
      "text/html": [
       "<div>\n",
       "<style scoped>\n",
       "    .dataframe tbody tr th:only-of-type {\n",
       "        vertical-align: middle;\n",
       "    }\n",
       "\n",
       "    .dataframe tbody tr th {\n",
       "        vertical-align: top;\n",
       "    }\n",
       "\n",
       "    .dataframe thead tr th {\n",
       "        text-align: left;\n",
       "    }\n",
       "\n",
       "    .dataframe thead tr:last-of-type th {\n",
       "        text-align: right;\n",
       "    }\n",
       "</style>\n",
       "<table border=\"1\" class=\"dataframe\">\n",
       "  <thead>\n",
       "    <tr>\n",
       "      <th></th>\n",
       "      <th colspan=\"2\" halign=\"left\">total_bill</th>\n",
       "      <th colspan=\"2\" halign=\"left\">tip</th>\n",
       "    </tr>\n",
       "    <tr>\n",
       "      <th></th>\n",
       "      <th>mean</th>\n",
       "      <th>std</th>\n",
       "      <th>mean</th>\n",
       "      <th>std</th>\n",
       "    </tr>\n",
       "    <tr>\n",
       "      <th>sex</th>\n",
       "      <th></th>\n",
       "      <th></th>\n",
       "      <th></th>\n",
       "      <th></th>\n",
       "    </tr>\n",
       "  </thead>\n",
       "  <tbody>\n",
       "    <tr>\n",
       "      <th>Female</th>\n",
       "      <td>18.056897</td>\n",
       "      <td>8.009209</td>\n",
       "      <td>2.833448</td>\n",
       "      <td>1.159495</td>\n",
       "    </tr>\n",
       "    <tr>\n",
       "      <th>Male</th>\n",
       "      <td>20.744076</td>\n",
       "      <td>9.246469</td>\n",
       "      <td>3.089618</td>\n",
       "      <td>1.489102</td>\n",
       "    </tr>\n",
       "  </tbody>\n",
       "</table>\n",
       "</div>"
      ],
      "text/plain": [
       "       total_bill                 tip          \n",
       "             mean       std      mean       std\n",
       "sex                                            \n",
       "Female  18.056897  8.009209  2.833448  1.159495\n",
       "Male    20.744076  9.246469  3.089618  1.489102"
      ]
     },
     "execution_count": 114,
     "metadata": {},
     "output_type": "execute_result"
    }
   ],
   "source": [
    "df_bill_tips"
   ]
  },
  {
   "cell_type": "markdown",
   "metadata": {
    "colab_type": "text",
    "id": "HvscB6DZSDrS"
   },
   "source": [
    "## Exercise 3\n",
    "<img src=\"https://www.shareicon.net/data/256x256/2016/06/09/778169_game_512x512.png\" alt=\"Exercise\" width=\"50\"/> \n",
    "\n",
    "In the tips table select all rows for which the value of `total_bill` is higher that the mean + 1 std deviation for all the meals on the same week day.\n",
    "\n",
    "How many rows does this dataframe have ?\n",
    "\n",
    "**Hint:** \n",
    "\n",
    "1. Using `groupby` create first a small table whose rows are the days of the week (index is `day`) and whose columns are the mean and std deviation of the total_bill for all meals on that day.\n",
    "\n",
    "2. Reset the index on that dataframe to turn `day`into an ordinary column.\n",
    "\n",
    "3. Perform a `merge` of this table with the original table using as key column the `day`, so that each observation in the original table has its corresponding value of avg+std for each day of the week.\n"
   ]
  },
  {
   "cell_type": "code",
   "execution_count": 116,
   "metadata": {
    "colab": {},
    "colab_type": "code",
    "id": "wthy4QN-SDrS"
   },
   "outputs": [
    {
     "data": {
      "text/html": [
       "<div>\n",
       "<style scoped>\n",
       "    .dataframe tbody tr th:only-of-type {\n",
       "        vertical-align: middle;\n",
       "    }\n",
       "\n",
       "    .dataframe tbody tr th {\n",
       "        vertical-align: top;\n",
       "    }\n",
       "\n",
       "    .dataframe thead th {\n",
       "        text-align: right;\n",
       "    }\n",
       "</style>\n",
       "<table border=\"1\" class=\"dataframe\">\n",
       "  <thead>\n",
       "    <tr style=\"text-align: right;\">\n",
       "      <th></th>\n",
       "      <th>mean</th>\n",
       "      <th>std</th>\n",
       "    </tr>\n",
       "    <tr>\n",
       "      <th>day</th>\n",
       "      <th></th>\n",
       "      <th></th>\n",
       "    </tr>\n",
       "  </thead>\n",
       "  <tbody>\n",
       "    <tr>\n",
       "      <th>Fri</th>\n",
       "      <td>17.151579</td>\n",
       "      <td>8.302660</td>\n",
       "    </tr>\n",
       "    <tr>\n",
       "      <th>Sat</th>\n",
       "      <td>20.441379</td>\n",
       "      <td>9.480419</td>\n",
       "    </tr>\n",
       "    <tr>\n",
       "      <th>Sun</th>\n",
       "      <td>21.410000</td>\n",
       "      <td>8.832122</td>\n",
       "    </tr>\n",
       "    <tr>\n",
       "      <th>Thur</th>\n",
       "      <td>17.682742</td>\n",
       "      <td>7.886170</td>\n",
       "    </tr>\n",
       "  </tbody>\n",
       "</table>\n",
       "</div>"
      ],
      "text/plain": [
       "           mean       std\n",
       "day                      \n",
       "Fri   17.151579  8.302660\n",
       "Sat   20.441379  9.480419\n",
       "Sun   21.410000  8.832122\n",
       "Thur  17.682742  7.886170"
      ]
     },
     "execution_count": 116,
     "metadata": {},
     "output_type": "execute_result"
    }
   ],
   "source": [
    "df_tips = df.groupby(['day'])['total_bill'].agg([np.mean, np.std])\n",
    "df_tips.head()"
   ]
  },
  {
   "cell_type": "code",
   "execution_count": 117,
   "metadata": {
    "colab": {},
    "colab_type": "code",
    "id": "A7VPkEo0SDrT"
   },
   "outputs": [],
   "source": [
    "df_tips = df_tips.reset_index()\n"
   ]
  },
  {
   "cell_type": "code",
   "execution_count": 118,
   "metadata": {
    "colab": {
     "base_uri": "https://localhost:8080/",
     "height": 173
    },
    "colab_type": "code",
    "id": "e24RCDiiSDrU",
    "outputId": "01713f84-2552-4c0b-ccb2-0cd6c39ef66c"
   },
   "outputs": [
    {
     "data": {
      "text/html": [
       "<div>\n",
       "<style scoped>\n",
       "    .dataframe tbody tr th:only-of-type {\n",
       "        vertical-align: middle;\n",
       "    }\n",
       "\n",
       "    .dataframe tbody tr th {\n",
       "        vertical-align: top;\n",
       "    }\n",
       "\n",
       "    .dataframe thead th {\n",
       "        text-align: right;\n",
       "    }\n",
       "</style>\n",
       "<table border=\"1\" class=\"dataframe\">\n",
       "  <thead>\n",
       "    <tr style=\"text-align: right;\">\n",
       "      <th></th>\n",
       "      <th>day</th>\n",
       "      <th>mean</th>\n",
       "      <th>std</th>\n",
       "    </tr>\n",
       "  </thead>\n",
       "  <tbody>\n",
       "    <tr>\n",
       "      <th>0</th>\n",
       "      <td>Fri</td>\n",
       "      <td>17.151579</td>\n",
       "      <td>8.302660</td>\n",
       "    </tr>\n",
       "    <tr>\n",
       "      <th>1</th>\n",
       "      <td>Sat</td>\n",
       "      <td>20.441379</td>\n",
       "      <td>9.480419</td>\n",
       "    </tr>\n",
       "    <tr>\n",
       "      <th>2</th>\n",
       "      <td>Sun</td>\n",
       "      <td>21.410000</td>\n",
       "      <td>8.832122</td>\n",
       "    </tr>\n",
       "    <tr>\n",
       "      <th>3</th>\n",
       "      <td>Thur</td>\n",
       "      <td>17.682742</td>\n",
       "      <td>7.886170</td>\n",
       "    </tr>\n",
       "  </tbody>\n",
       "</table>\n",
       "</div>"
      ],
      "text/plain": [
       "    day       mean       std\n",
       "0   Fri  17.151579  8.302660\n",
       "1   Sat  20.441379  9.480419\n",
       "2   Sun  21.410000  8.832122\n",
       "3  Thur  17.682742  7.886170"
      ]
     },
     "execution_count": 118,
     "metadata": {},
     "output_type": "execute_result"
    }
   ],
   "source": [
    "df_tips"
   ]
  },
  {
   "cell_type": "code",
   "execution_count": 119,
   "metadata": {
    "colab": {
     "base_uri": "https://localhost:8080/",
     "height": 204
    },
    "colab_type": "code",
    "id": "Bj-_RZNnSDrV",
    "outputId": "af0f4f95-3a10-46da-fc13-23494eec17f2"
   },
   "outputs": [
    {
     "data": {
      "text/html": [
       "<div>\n",
       "<style scoped>\n",
       "    .dataframe tbody tr th:only-of-type {\n",
       "        vertical-align: middle;\n",
       "    }\n",
       "\n",
       "    .dataframe tbody tr th {\n",
       "        vertical-align: top;\n",
       "    }\n",
       "\n",
       "    .dataframe thead th {\n",
       "        text-align: right;\n",
       "    }\n",
       "</style>\n",
       "<table border=\"1\" class=\"dataframe\">\n",
       "  <thead>\n",
       "    <tr style=\"text-align: right;\">\n",
       "      <th></th>\n",
       "      <th>total_bill</th>\n",
       "      <th>tip</th>\n",
       "      <th>sex</th>\n",
       "      <th>smoker</th>\n",
       "      <th>day</th>\n",
       "      <th>time</th>\n",
       "      <th>size</th>\n",
       "      <th>total_bill_rand</th>\n",
       "      <th>mean</th>\n",
       "      <th>std</th>\n",
       "    </tr>\n",
       "  </thead>\n",
       "  <tbody>\n",
       "    <tr>\n",
       "      <th>0</th>\n",
       "      <td>16.99</td>\n",
       "      <td>1.01</td>\n",
       "      <td>Female</td>\n",
       "      <td>No</td>\n",
       "      <td>Sun</td>\n",
       "      <td>Dinner</td>\n",
       "      <td>2</td>\n",
       "      <td>19.229865</td>\n",
       "      <td>21.41</td>\n",
       "      <td>8.832122</td>\n",
       "    </tr>\n",
       "    <tr>\n",
       "      <th>1</th>\n",
       "      <td>10.34</td>\n",
       "      <td>1.66</td>\n",
       "      <td>Male</td>\n",
       "      <td>No</td>\n",
       "      <td>Sun</td>\n",
       "      <td>Dinner</td>\n",
       "      <td>3</td>\n",
       "      <td>11.235986</td>\n",
       "      <td>21.41</td>\n",
       "      <td>8.832122</td>\n",
       "    </tr>\n",
       "    <tr>\n",
       "      <th>2</th>\n",
       "      <td>21.01</td>\n",
       "      <td>3.50</td>\n",
       "      <td>Male</td>\n",
       "      <td>No</td>\n",
       "      <td>Sun</td>\n",
       "      <td>Dinner</td>\n",
       "      <td>3</td>\n",
       "      <td>21.413654</td>\n",
       "      <td>21.41</td>\n",
       "      <td>8.832122</td>\n",
       "    </tr>\n",
       "    <tr>\n",
       "      <th>3</th>\n",
       "      <td>23.68</td>\n",
       "      <td>3.31</td>\n",
       "      <td>Male</td>\n",
       "      <td>No</td>\n",
       "      <td>Sun</td>\n",
       "      <td>Dinner</td>\n",
       "      <td>2</td>\n",
       "      <td>24.105713</td>\n",
       "      <td>21.41</td>\n",
       "      <td>8.832122</td>\n",
       "    </tr>\n",
       "    <tr>\n",
       "      <th>4</th>\n",
       "      <td>24.59</td>\n",
       "      <td>3.61</td>\n",
       "      <td>Female</td>\n",
       "      <td>No</td>\n",
       "      <td>Sun</td>\n",
       "      <td>Dinner</td>\n",
       "      <td>4</td>\n",
       "      <td>23.437885</td>\n",
       "      <td>21.41</td>\n",
       "      <td>8.832122</td>\n",
       "    </tr>\n",
       "  </tbody>\n",
       "</table>\n",
       "</div>"
      ],
      "text/plain": [
       "   total_bill   tip     sex smoker  day    time  size  total_bill_rand   mean  \\\n",
       "0       16.99  1.01  Female     No  Sun  Dinner     2        19.229865  21.41   \n",
       "1       10.34  1.66    Male     No  Sun  Dinner     3        11.235986  21.41   \n",
       "2       21.01  3.50    Male     No  Sun  Dinner     3        21.413654  21.41   \n",
       "3       23.68  3.31    Male     No  Sun  Dinner     2        24.105713  21.41   \n",
       "4       24.59  3.61  Female     No  Sun  Dinner     4        23.437885  21.41   \n",
       "\n",
       "        std  \n",
       "0  8.832122  \n",
       "1  8.832122  \n",
       "2  8.832122  \n",
       "3  8.832122  \n",
       "4  8.832122  "
      ]
     },
     "execution_count": 119,
     "metadata": {},
     "output_type": "execute_result"
    }
   ],
   "source": [
    "df_augmented= pd.merge(df, df_tips, how='inner', left_on='day', right_on='day')\n",
    "df_augmented.head()"
   ]
  },
  {
   "cell_type": "code",
   "execution_count": 124,
   "metadata": {
    "colab": {
     "base_uri": "https://localhost:8080/",
     "height": 1227
    },
    "colab_type": "code",
    "id": "YbIqABmvSDrW",
    "outputId": "343b548b-1909-4b98-95d5-0114d1c5446f"
   },
   "outputs": [
    {
     "name": "stdout",
     "output_type": "stream",
     "text": [
      "The required dataframe has 38 rows.\n"
     ]
    }
   ],
   "source": [
    "mask=df_augmented['total_bill'] > df_augmented['mean'] + df_augmented['std']\n",
    "print('The required dataframe has '+str(len(df_augmented[mask]))+ ' rows.')"
   ]
  },
  {
   "cell_type": "markdown",
   "metadata": {
    "colab_type": "text",
    "collapsed": true,
    "id": "GSVno83FSDrY"
   },
   "source": [
    "## Exercise 4\n",
    "<img src=\"https://www.shareicon.net/data/256x256/2016/06/09/778169_game_512x512.png\" alt=\"Exercise\" width=\"50\"/> \n",
    "\n",
    "The database `income` can be used to predict if a worker's salary is above or below 50.000 $. For each person, the database contains the following information:\n",
    "* age \n",
    "* education\n",
    "* marital.status\n",
    "* relationship\n",
    "* race\n",
    "* sex\n",
    "* hourspeerweek\n",
    "* nativecountry\n",
    "* income (whether it is >=50K or <50K)\n",
    "\n",
    "Load and read the dataset, and eliminate all rows that have some missing value. You can use the method `dropna`. Also, to make things simpler, substitute the values of the `Income` column by 0s and 1s (0 if the salary is smaller than 50K) and 1 otherwise."
   ]
  },
  {
   "cell_type": "code",
   "execution_count": 134,
   "metadata": {
    "colab": {},
    "colab_type": "code",
    "id": "6benqPOfms7W"
   },
   "outputs": [
    {
     "data": {
      "text/plain": [
       "32561"
      ]
     },
     "execution_count": 134,
     "metadata": {},
     "output_type": "execute_result"
    }
   ],
   "source": [
    "dir='data/income.csv'\n",
    "#dir='/content/Curso-IE/Week_1/data/income.csv'\n",
    "inc = pd.read_csv(dir)\n",
    "len(inc)"
   ]
  },
  {
   "cell_type": "code",
   "execution_count": 130,
   "metadata": {
    "colab": {
     "base_uri": "https://localhost:8080/",
     "height": 204
    },
    "colab_type": "code",
    "id": "0mAXJF4GnVjh",
    "outputId": "e13f9f6a-5ff4-437e-cf7a-829931e67a3f"
   },
   "outputs": [
    {
     "data": {
      "text/html": [
       "<div>\n",
       "<style scoped>\n",
       "    .dataframe tbody tr th:only-of-type {\n",
       "        vertical-align: middle;\n",
       "    }\n",
       "\n",
       "    .dataframe tbody tr th {\n",
       "        vertical-align: top;\n",
       "    }\n",
       "\n",
       "    .dataframe thead th {\n",
       "        text-align: right;\n",
       "    }\n",
       "</style>\n",
       "<table border=\"1\" class=\"dataframe\">\n",
       "  <thead>\n",
       "    <tr style=\"text-align: right;\">\n",
       "      <th></th>\n",
       "      <th>age</th>\n",
       "      <th>education</th>\n",
       "      <th>marital.status</th>\n",
       "      <th>relationship</th>\n",
       "      <th>race</th>\n",
       "      <th>sex</th>\n",
       "      <th>hoursperweek</th>\n",
       "      <th>nativecountry</th>\n",
       "      <th>income</th>\n",
       "    </tr>\n",
       "  </thead>\n",
       "  <tbody>\n",
       "    <tr>\n",
       "      <th>count</th>\n",
       "      <td>32561.000000</td>\n",
       "      <td>32561</td>\n",
       "      <td>32561</td>\n",
       "      <td>32561</td>\n",
       "      <td>32561</td>\n",
       "      <td>32561</td>\n",
       "      <td>32561.000000</td>\n",
       "      <td>31978</td>\n",
       "      <td>32561</td>\n",
       "    </tr>\n",
       "    <tr>\n",
       "      <th>unique</th>\n",
       "      <td>NaN</td>\n",
       "      <td>16</td>\n",
       "      <td>7</td>\n",
       "      <td>6</td>\n",
       "      <td>5</td>\n",
       "      <td>2</td>\n",
       "      <td>NaN</td>\n",
       "      <td>41</td>\n",
       "      <td>2</td>\n",
       "    </tr>\n",
       "    <tr>\n",
       "      <th>top</th>\n",
       "      <td>NaN</td>\n",
       "      <td>HS-grad</td>\n",
       "      <td>Married-civ-spouse</td>\n",
       "      <td>Husband</td>\n",
       "      <td>White</td>\n",
       "      <td>Male</td>\n",
       "      <td>NaN</td>\n",
       "      <td>United-States</td>\n",
       "      <td>&lt;=50K</td>\n",
       "    </tr>\n",
       "    <tr>\n",
       "      <th>freq</th>\n",
       "      <td>NaN</td>\n",
       "      <td>10501</td>\n",
       "      <td>14976</td>\n",
       "      <td>13193</td>\n",
       "      <td>27816</td>\n",
       "      <td>21790</td>\n",
       "      <td>NaN</td>\n",
       "      <td>29170</td>\n",
       "      <td>24720</td>\n",
       "    </tr>\n",
       "    <tr>\n",
       "      <th>mean</th>\n",
       "      <td>38.581647</td>\n",
       "      <td>NaN</td>\n",
       "      <td>NaN</td>\n",
       "      <td>NaN</td>\n",
       "      <td>NaN</td>\n",
       "      <td>NaN</td>\n",
       "      <td>40.437456</td>\n",
       "      <td>NaN</td>\n",
       "      <td>NaN</td>\n",
       "    </tr>\n",
       "    <tr>\n",
       "      <th>std</th>\n",
       "      <td>13.640433</td>\n",
       "      <td>NaN</td>\n",
       "      <td>NaN</td>\n",
       "      <td>NaN</td>\n",
       "      <td>NaN</td>\n",
       "      <td>NaN</td>\n",
       "      <td>12.347429</td>\n",
       "      <td>NaN</td>\n",
       "      <td>NaN</td>\n",
       "    </tr>\n",
       "    <tr>\n",
       "      <th>min</th>\n",
       "      <td>17.000000</td>\n",
       "      <td>NaN</td>\n",
       "      <td>NaN</td>\n",
       "      <td>NaN</td>\n",
       "      <td>NaN</td>\n",
       "      <td>NaN</td>\n",
       "      <td>1.000000</td>\n",
       "      <td>NaN</td>\n",
       "      <td>NaN</td>\n",
       "    </tr>\n",
       "    <tr>\n",
       "      <th>25%</th>\n",
       "      <td>28.000000</td>\n",
       "      <td>NaN</td>\n",
       "      <td>NaN</td>\n",
       "      <td>NaN</td>\n",
       "      <td>NaN</td>\n",
       "      <td>NaN</td>\n",
       "      <td>40.000000</td>\n",
       "      <td>NaN</td>\n",
       "      <td>NaN</td>\n",
       "    </tr>\n",
       "    <tr>\n",
       "      <th>50%</th>\n",
       "      <td>37.000000</td>\n",
       "      <td>NaN</td>\n",
       "      <td>NaN</td>\n",
       "      <td>NaN</td>\n",
       "      <td>NaN</td>\n",
       "      <td>NaN</td>\n",
       "      <td>40.000000</td>\n",
       "      <td>NaN</td>\n",
       "      <td>NaN</td>\n",
       "    </tr>\n",
       "    <tr>\n",
       "      <th>75%</th>\n",
       "      <td>48.000000</td>\n",
       "      <td>NaN</td>\n",
       "      <td>NaN</td>\n",
       "      <td>NaN</td>\n",
       "      <td>NaN</td>\n",
       "      <td>NaN</td>\n",
       "      <td>45.000000</td>\n",
       "      <td>NaN</td>\n",
       "      <td>NaN</td>\n",
       "    </tr>\n",
       "    <tr>\n",
       "      <th>max</th>\n",
       "      <td>90.000000</td>\n",
       "      <td>NaN</td>\n",
       "      <td>NaN</td>\n",
       "      <td>NaN</td>\n",
       "      <td>NaN</td>\n",
       "      <td>NaN</td>\n",
       "      <td>99.000000</td>\n",
       "      <td>NaN</td>\n",
       "      <td>NaN</td>\n",
       "    </tr>\n",
       "  </tbody>\n",
       "</table>\n",
       "</div>"
      ],
      "text/plain": [
       "                 age education      marital.status relationship   race    sex  \\\n",
       "count   32561.000000     32561               32561        32561  32561  32561   \n",
       "unique           NaN        16                   7            6      5      2   \n",
       "top              NaN   HS-grad  Married-civ-spouse      Husband  White   Male   \n",
       "freq             NaN     10501               14976        13193  27816  21790   \n",
       "mean       38.581647       NaN                 NaN          NaN    NaN    NaN   \n",
       "std        13.640433       NaN                 NaN          NaN    NaN    NaN   \n",
       "min        17.000000       NaN                 NaN          NaN    NaN    NaN   \n",
       "25%        28.000000       NaN                 NaN          NaN    NaN    NaN   \n",
       "50%        37.000000       NaN                 NaN          NaN    NaN    NaN   \n",
       "75%        48.000000       NaN                 NaN          NaN    NaN    NaN   \n",
       "max        90.000000       NaN                 NaN          NaN    NaN    NaN   \n",
       "\n",
       "        hoursperweek  nativecountry income  \n",
       "count   32561.000000          31978  32561  \n",
       "unique           NaN             41      2  \n",
       "top              NaN  United-States  <=50K  \n",
       "freq             NaN          29170  24720  \n",
       "mean       40.437456            NaN    NaN  \n",
       "std        12.347429            NaN    NaN  \n",
       "min         1.000000            NaN    NaN  \n",
       "25%        40.000000            NaN    NaN  \n",
       "50%        40.000000            NaN    NaN  \n",
       "75%        45.000000            NaN    NaN  \n",
       "max        99.000000            NaN    NaN  "
      ]
     },
     "execution_count": 130,
     "metadata": {},
     "output_type": "execute_result"
    }
   ],
   "source": [
    "inc.describe(include='all')"
   ]
  },
  {
   "cell_type": "markdown",
   "metadata": {},
   "source": [
    "We see that there are some missing values, let's remove all thpse rows that have some missing values."
   ]
  },
  {
   "cell_type": "code",
   "execution_count": 135,
   "metadata": {
    "colab": {
     "base_uri": "https://localhost:8080/",
     "height": 669
    },
    "colab_type": "code",
    "id": "pWsNAwQOSDra",
    "outputId": "5af70b79-e834-4644-8c60-eae9eb19e9d7"
   },
   "outputs": [
    {
     "data": {
      "text/html": [
       "<div>\n",
       "<style scoped>\n",
       "    .dataframe tbody tr th:only-of-type {\n",
       "        vertical-align: middle;\n",
       "    }\n",
       "\n",
       "    .dataframe tbody tr th {\n",
       "        vertical-align: top;\n",
       "    }\n",
       "\n",
       "    .dataframe thead th {\n",
       "        text-align: right;\n",
       "    }\n",
       "</style>\n",
       "<table border=\"1\" class=\"dataframe\">\n",
       "  <thead>\n",
       "    <tr style=\"text-align: right;\">\n",
       "      <th></th>\n",
       "      <th>age</th>\n",
       "      <th>education</th>\n",
       "      <th>marital.status</th>\n",
       "      <th>relationship</th>\n",
       "      <th>race</th>\n",
       "      <th>sex</th>\n",
       "      <th>hoursperweek</th>\n",
       "      <th>nativecountry</th>\n",
       "      <th>income</th>\n",
       "    </tr>\n",
       "  </thead>\n",
       "  <tbody>\n",
       "    <tr>\n",
       "      <th>0</th>\n",
       "      <td>39</td>\n",
       "      <td>Bachelors</td>\n",
       "      <td>Never-married</td>\n",
       "      <td>Not-in-family</td>\n",
       "      <td>White</td>\n",
       "      <td>Male</td>\n",
       "      <td>40</td>\n",
       "      <td>United-States</td>\n",
       "      <td>0</td>\n",
       "    </tr>\n",
       "    <tr>\n",
       "      <th>1</th>\n",
       "      <td>50</td>\n",
       "      <td>Bachelors</td>\n",
       "      <td>Married-civ-spouse</td>\n",
       "      <td>Husband</td>\n",
       "      <td>White</td>\n",
       "      <td>Male</td>\n",
       "      <td>13</td>\n",
       "      <td>United-States</td>\n",
       "      <td>0</td>\n",
       "    </tr>\n",
       "    <tr>\n",
       "      <th>2</th>\n",
       "      <td>38</td>\n",
       "      <td>HS-grad</td>\n",
       "      <td>Divorced</td>\n",
       "      <td>Not-in-family</td>\n",
       "      <td>White</td>\n",
       "      <td>Male</td>\n",
       "      <td>40</td>\n",
       "      <td>United-States</td>\n",
       "      <td>0</td>\n",
       "    </tr>\n",
       "    <tr>\n",
       "      <th>3</th>\n",
       "      <td>53</td>\n",
       "      <td>11th</td>\n",
       "      <td>Married-civ-spouse</td>\n",
       "      <td>Husband</td>\n",
       "      <td>Black</td>\n",
       "      <td>Male</td>\n",
       "      <td>40</td>\n",
       "      <td>United-States</td>\n",
       "      <td>0</td>\n",
       "    </tr>\n",
       "    <tr>\n",
       "      <th>4</th>\n",
       "      <td>28</td>\n",
       "      <td>Bachelors</td>\n",
       "      <td>Married-civ-spouse</td>\n",
       "      <td>Wife</td>\n",
       "      <td>Black</td>\n",
       "      <td>Female</td>\n",
       "      <td>40</td>\n",
       "      <td>Cuba</td>\n",
       "      <td>0</td>\n",
       "    </tr>\n",
       "    <tr>\n",
       "      <th>5</th>\n",
       "      <td>37</td>\n",
       "      <td>Masters</td>\n",
       "      <td>Married-civ-spouse</td>\n",
       "      <td>Wife</td>\n",
       "      <td>White</td>\n",
       "      <td>Female</td>\n",
       "      <td>40</td>\n",
       "      <td>United-States</td>\n",
       "      <td>0</td>\n",
       "    </tr>\n",
       "    <tr>\n",
       "      <th>6</th>\n",
       "      <td>49</td>\n",
       "      <td>9th</td>\n",
       "      <td>Married-spouse-absent</td>\n",
       "      <td>Not-in-family</td>\n",
       "      <td>Black</td>\n",
       "      <td>Female</td>\n",
       "      <td>16</td>\n",
       "      <td>Jamaica</td>\n",
       "      <td>0</td>\n",
       "    </tr>\n",
       "    <tr>\n",
       "      <th>7</th>\n",
       "      <td>52</td>\n",
       "      <td>HS-grad</td>\n",
       "      <td>Married-civ-spouse</td>\n",
       "      <td>Husband</td>\n",
       "      <td>White</td>\n",
       "      <td>Male</td>\n",
       "      <td>45</td>\n",
       "      <td>United-States</td>\n",
       "      <td>1</td>\n",
       "    </tr>\n",
       "    <tr>\n",
       "      <th>8</th>\n",
       "      <td>31</td>\n",
       "      <td>Masters</td>\n",
       "      <td>Never-married</td>\n",
       "      <td>Not-in-family</td>\n",
       "      <td>White</td>\n",
       "      <td>Female</td>\n",
       "      <td>50</td>\n",
       "      <td>United-States</td>\n",
       "      <td>1</td>\n",
       "    </tr>\n",
       "    <tr>\n",
       "      <th>9</th>\n",
       "      <td>42</td>\n",
       "      <td>Bachelors</td>\n",
       "      <td>Married-civ-spouse</td>\n",
       "      <td>Husband</td>\n",
       "      <td>White</td>\n",
       "      <td>Male</td>\n",
       "      <td>40</td>\n",
       "      <td>United-States</td>\n",
       "      <td>1</td>\n",
       "    </tr>\n",
       "    <tr>\n",
       "      <th>10</th>\n",
       "      <td>37</td>\n",
       "      <td>Some-college</td>\n",
       "      <td>Married-civ-spouse</td>\n",
       "      <td>Husband</td>\n",
       "      <td>Black</td>\n",
       "      <td>Male</td>\n",
       "      <td>80</td>\n",
       "      <td>United-States</td>\n",
       "      <td>1</td>\n",
       "    </tr>\n",
       "    <tr>\n",
       "      <th>11</th>\n",
       "      <td>30</td>\n",
       "      <td>Bachelors</td>\n",
       "      <td>Married-civ-spouse</td>\n",
       "      <td>Husband</td>\n",
       "      <td>Asian-Pac-Islander</td>\n",
       "      <td>Male</td>\n",
       "      <td>40</td>\n",
       "      <td>India</td>\n",
       "      <td>1</td>\n",
       "    </tr>\n",
       "    <tr>\n",
       "      <th>12</th>\n",
       "      <td>23</td>\n",
       "      <td>Bachelors</td>\n",
       "      <td>Never-married</td>\n",
       "      <td>Own-child</td>\n",
       "      <td>White</td>\n",
       "      <td>Female</td>\n",
       "      <td>30</td>\n",
       "      <td>United-States</td>\n",
       "      <td>0</td>\n",
       "    </tr>\n",
       "    <tr>\n",
       "      <th>13</th>\n",
       "      <td>32</td>\n",
       "      <td>Assoc-acdm</td>\n",
       "      <td>Never-married</td>\n",
       "      <td>Not-in-family</td>\n",
       "      <td>Black</td>\n",
       "      <td>Male</td>\n",
       "      <td>50</td>\n",
       "      <td>United-States</td>\n",
       "      <td>0</td>\n",
       "    </tr>\n",
       "    <tr>\n",
       "      <th>15</th>\n",
       "      <td>34</td>\n",
       "      <td>7th-8th</td>\n",
       "      <td>Married-civ-spouse</td>\n",
       "      <td>Husband</td>\n",
       "      <td>Amer-Indian-Eskimo</td>\n",
       "      <td>Male</td>\n",
       "      <td>45</td>\n",
       "      <td>Mexico</td>\n",
       "      <td>0</td>\n",
       "    </tr>\n",
       "    <tr>\n",
       "      <th>16</th>\n",
       "      <td>25</td>\n",
       "      <td>HS-grad</td>\n",
       "      <td>Never-married</td>\n",
       "      <td>Own-child</td>\n",
       "      <td>White</td>\n",
       "      <td>Male</td>\n",
       "      <td>35</td>\n",
       "      <td>United-States</td>\n",
       "      <td>0</td>\n",
       "    </tr>\n",
       "    <tr>\n",
       "      <th>17</th>\n",
       "      <td>32</td>\n",
       "      <td>HS-grad</td>\n",
       "      <td>Never-married</td>\n",
       "      <td>Unmarried</td>\n",
       "      <td>White</td>\n",
       "      <td>Male</td>\n",
       "      <td>40</td>\n",
       "      <td>United-States</td>\n",
       "      <td>0</td>\n",
       "    </tr>\n",
       "    <tr>\n",
       "      <th>18</th>\n",
       "      <td>38</td>\n",
       "      <td>11th</td>\n",
       "      <td>Married-civ-spouse</td>\n",
       "      <td>Husband</td>\n",
       "      <td>White</td>\n",
       "      <td>Male</td>\n",
       "      <td>50</td>\n",
       "      <td>United-States</td>\n",
       "      <td>0</td>\n",
       "    </tr>\n",
       "    <tr>\n",
       "      <th>19</th>\n",
       "      <td>43</td>\n",
       "      <td>Masters</td>\n",
       "      <td>Divorced</td>\n",
       "      <td>Unmarried</td>\n",
       "      <td>White</td>\n",
       "      <td>Female</td>\n",
       "      <td>45</td>\n",
       "      <td>United-States</td>\n",
       "      <td>1</td>\n",
       "    </tr>\n",
       "    <tr>\n",
       "      <th>20</th>\n",
       "      <td>40</td>\n",
       "      <td>Doctorate</td>\n",
       "      <td>Married-civ-spouse</td>\n",
       "      <td>Husband</td>\n",
       "      <td>White</td>\n",
       "      <td>Male</td>\n",
       "      <td>60</td>\n",
       "      <td>United-States</td>\n",
       "      <td>1</td>\n",
       "    </tr>\n",
       "  </tbody>\n",
       "</table>\n",
       "</div>"
      ],
      "text/plain": [
       "    age     education         marital.status   relationship  \\\n",
       "0    39     Bachelors          Never-married  Not-in-family   \n",
       "1    50     Bachelors     Married-civ-spouse        Husband   \n",
       "2    38       HS-grad               Divorced  Not-in-family   \n",
       "3    53          11th     Married-civ-spouse        Husband   \n",
       "4    28     Bachelors     Married-civ-spouse           Wife   \n",
       "5    37       Masters     Married-civ-spouse           Wife   \n",
       "6    49           9th  Married-spouse-absent  Not-in-family   \n",
       "7    52       HS-grad     Married-civ-spouse        Husband   \n",
       "8    31       Masters          Never-married  Not-in-family   \n",
       "9    42     Bachelors     Married-civ-spouse        Husband   \n",
       "10   37  Some-college     Married-civ-spouse        Husband   \n",
       "11   30     Bachelors     Married-civ-spouse        Husband   \n",
       "12   23     Bachelors          Never-married      Own-child   \n",
       "13   32    Assoc-acdm          Never-married  Not-in-family   \n",
       "15   34       7th-8th     Married-civ-spouse        Husband   \n",
       "16   25       HS-grad          Never-married      Own-child   \n",
       "17   32       HS-grad          Never-married      Unmarried   \n",
       "18   38          11th     Married-civ-spouse        Husband   \n",
       "19   43       Masters               Divorced      Unmarried   \n",
       "20   40     Doctorate     Married-civ-spouse        Husband   \n",
       "\n",
       "                  race     sex  hoursperweek  nativecountry  income  \n",
       "0                White    Male            40  United-States       0  \n",
       "1                White    Male            13  United-States       0  \n",
       "2                White    Male            40  United-States       0  \n",
       "3                Black    Male            40  United-States       0  \n",
       "4                Black  Female            40           Cuba       0  \n",
       "5                White  Female            40  United-States       0  \n",
       "6                Black  Female            16        Jamaica       0  \n",
       "7                White    Male            45  United-States       1  \n",
       "8                White  Female            50  United-States       1  \n",
       "9                White    Male            40  United-States       1  \n",
       "10               Black    Male            80  United-States       1  \n",
       "11  Asian-Pac-Islander    Male            40          India       1  \n",
       "12               White  Female            30  United-States       0  \n",
       "13               Black    Male            50  United-States       0  \n",
       "15  Amer-Indian-Eskimo    Male            45         Mexico       0  \n",
       "16               White    Male            35  United-States       0  \n",
       "17               White    Male            40  United-States       0  \n",
       "18               White    Male            50  United-States       0  \n",
       "19               White  Female            45  United-States       1  \n",
       "20               White    Male            60  United-States       1  "
      ]
     },
     "execution_count": 135,
     "metadata": {},
     "output_type": "execute_result"
    }
   ],
   "source": [
    "inc.dropna(inplace=True)\n",
    "inc.loc[inc.income == '<=50K', \"income\"] = 0\n",
    "inc.loc[inc.income == '>50K', \"income\"] = 1\n",
    "inc.head(20)"
   ]
  },
  {
   "cell_type": "code",
   "execution_count": 137,
   "metadata": {},
   "outputs": [
    {
     "name": "stdout",
     "output_type": "stream",
     "text": [
      "31978\n"
     ]
    }
   ],
   "source": [
    "print(len(inc))"
   ]
  },
  {
   "cell_type": "markdown",
   "metadata": {
    "colab_type": "text",
    "id": "aV7RzdygSDrc"
   },
   "source": [
    "Try to come up with some simple rule to predict the variable `income`, and store your prediction on a new variable `income_pred`. You can check how good your prediction is by calling the function precision, that takes two vectors and computes the fraction of correct attributions to total number of predictions."
   ]
  },
  {
   "cell_type": "code",
   "execution_count": 138,
   "metadata": {
    "colab": {},
    "colab_type": "code",
    "id": "uARyk0cdSDrd"
   },
   "outputs": [],
   "source": [
    "def precision(income, income_pred):\n",
    "    ac = sum(income == income_pred)*100/(len(income))\n",
    "    return \"Precision: \" + str(ac) + \"%\"\n"
   ]
  },
  {
   "cell_type": "markdown",
   "metadata": {
    "colab_type": "text",
    "id": "TvNzAKY0SDre"
   },
   "source": [
    "Let us start with a very simple rule:\n",
    "\n",
    "1. We predict that only those with a PhD earn more than 50K, and those without it, earn less than 50k"
   ]
  },
  {
   "cell_type": "code",
   "execution_count": 139,
   "metadata": {
    "colab": {
     "base_uri": "https://localhost:8080/",
     "height": 34
    },
    "colab_type": "code",
    "id": "HUOUDhuDSDre",
    "outputId": "29f45fd0-7de1-426c-9bde-22acdd0f9f2d"
   },
   "outputs": [
    {
     "data": {
      "text/plain": [
       "'Precision: 76.53699418350115%'"
      ]
     },
     "execution_count": 139,
     "metadata": {},
     "output_type": "execute_result"
    }
   ],
   "source": [
    "inc[\"income_pred\"] = 0\n",
    "\n",
    "condition = (inc.education.isin([\"Doctorate\"])) \n",
    "inc.loc[condition, \"income_pred\"] = 1\n",
    "precision(inc.income, inc.income_pred)"
   ]
  },
  {
   "cell_type": "markdown",
   "metadata": {},
   "source": [
    "Play around combining logical conditions and try to improve that precision."
   ]
  },
  {
   "cell_type": "code",
   "execution_count": null,
   "metadata": {},
   "outputs": [],
   "source": []
  }
 ],
 "metadata": {
  "colab": {
   "include_colab_link": true,
   "name": "pandas_completo.ipynb",
   "provenance": [],
   "toc_visible": true,
   "version": "0.3.2"
  },
  "kernelspec": {
   "display_name": "Python 3",
   "language": "python",
   "name": "python3"
  },
  "language_info": {
   "codemirror_mode": {
    "name": "ipython",
    "version": 3
   },
   "file_extension": ".py",
   "mimetype": "text/x-python",
   "name": "python",
   "nbconvert_exporter": "python",
   "pygments_lexer": "ipython3",
   "version": "3.7.2"
  }
 },
 "nbformat": 4,
 "nbformat_minor": 1
}
