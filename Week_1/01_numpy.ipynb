{
 "cells": [
  {
   "cell_type": "markdown",
   "metadata": {},
   "source": [
    "# NumPy\n",
    "\n",
    "NumPy is the fundamental package for scientific computing with Python. It contains among other things:\n",
    "\n",
    "* a powerful N-dimensional array object\n",
    "* sophisticated (broadcasting) functions\n",
    "* tools for integrating C/C++ and Fortran code\n",
    "* useful capabilities from linear algebra, statistics, calculus, random number, etc.\n",
    "* operates efficiently using vectorized implementations of the algorithms\n",
    "\n",
    "Besides its obvious scientific uses, NumPy can also be used as an efficient multi-dimensional container of generic data. Arbitrary data-types can be defined. This allows NumPy to seamlessly and speedily integrate with a wide variety of databases."
   ]
  },
  {
   "cell_type": "markdown",
   "metadata": {},
   "source": [
    "We start loading the package, using the alias `np`. In order to do that, `numpy` must be properly installed."
   ]
  },
  {
   "cell_type": "code",
   "execution_count": 1,
   "metadata": {
    "ExecuteTime": {
     "end_time": "2019-03-09T13:33:12.760254Z",
     "start_time": "2019-03-09T13:33:12.704079Z"
    }
   },
   "outputs": [],
   "source": [
    "import numpy as np"
   ]
  },
  {
   "cell_type": "markdown",
   "metadata": {},
   "source": [
    "## Arrays"
   ]
  },
  {
   "cell_type": "markdown",
   "metadata": {},
   "source": [
    "Arrays are the main object in NumPy, and they consist in **homogeneous multidimensional arrays**, or tensors. It consists in a collection of elements (usually numbers), all of the same type (homogeneous) and indexed by a tuple of positive integers. \n",
    "\n",
    "Dimensions are called **axes**, and the number of axes is the **rank**."
   ]
  },
  {
   "cell_type": "markdown",
   "metadata": {},
   "source": [
    "For example, let us consider the coordinates of a point in the space $\\mathbb{R}^3$, it consists in an array of rank 1 (only one axis), with length 3.\n",
    "\n",
    "`[1.,3.,2.]`\n",
    "\n",
    "We can also consider a matrix of integer values, or rank 2 array, with 2 rows and 3 columns.\n",
    "\n",
    "`[[ 1, 0, 0],\n",
    " [ 0, 1, 2]]`\n",
    " \n",
    " The element in the position `(1,2)` is 2. **Indices start at 0.**\n"
   ]
  },
  {
   "cell_type": "markdown",
   "metadata": {},
   "source": [
    "## Creating arrays"
   ]
  },
  {
   "cell_type": "markdown",
   "metadata": {},
   "source": [
    "The simplest way of creating an `array` is to convert a Python's list into an array, the type of the elements will be deduced automatically.\n",
    "\n",
    "This is done with the method `np.array()`."
   ]
  },
  {
   "cell_type": "code",
   "execution_count": 3,
   "metadata": {
    "ExecuteTime": {
     "end_time": "2019-03-09T14:08:52.056265Z",
     "start_time": "2019-03-09T14:08:51.975399Z"
    }
   },
   "outputs": [],
   "source": [
    "mylist = [1, 2, 3]\n",
    "x = np.array(mylist)"
   ]
  },
  {
   "cell_type": "code",
   "execution_count": 4,
   "metadata": {
    "ExecuteTime": {
     "end_time": "2019-03-09T14:08:52.634217Z",
     "start_time": "2019-03-09T14:08:52.448995Z"
    }
   },
   "outputs": [
    {
     "data": {
      "text/plain": [
       "array([1, 2, 3])"
      ]
     },
     "execution_count": 4,
     "metadata": {},
     "output_type": "execute_result"
    }
   ],
   "source": [
    "x"
   ]
  },
  {
   "cell_type": "markdown",
   "metadata": {},
   "source": [
    "Each array has two attributes:\n",
    "* `dtype`: the type of the elements. It is usually int or float, followed by the precision.\n",
    "* `shape`: the dimensions of the array."
   ]
  },
  {
   "cell_type": "code",
   "execution_count": 5,
   "metadata": {
    "ExecuteTime": {
     "end_time": "2019-03-09T14:10:44.045898Z",
     "start_time": "2019-03-09T14:10:44.002863Z"
    }
   },
   "outputs": [
    {
     "data": {
      "text/plain": [
       "dtype('int64')"
      ]
     },
     "execution_count": 5,
     "metadata": {},
     "output_type": "execute_result"
    }
   ],
   "source": [
    "x.dtype"
   ]
  },
  {
   "cell_type": "code",
   "execution_count": 6,
   "metadata": {
    "ExecuteTime": {
     "end_time": "2019-03-09T14:10:45.249405Z",
     "start_time": "2019-03-09T14:10:45.229959Z"
    }
   },
   "outputs": [
    {
     "data": {
      "text/plain": [
       "(3,)"
      ]
     },
     "execution_count": 6,
     "metadata": {},
     "output_type": "execute_result"
    }
   ],
   "source": [
    "x.shape"
   ]
  },
  {
   "cell_type": "code",
   "execution_count": 7,
   "metadata": {
    "ExecuteTime": {
     "end_time": "2019-03-09T14:10:54.708946Z",
     "start_time": "2019-03-09T14:10:54.637555Z"
    }
   },
   "outputs": [
    {
     "data": {
      "text/plain": [
       "array([1. , 2. , 3.5])"
      ]
     },
     "execution_count": 7,
     "metadata": {},
     "output_type": "execute_result"
    }
   ],
   "source": [
    "x = np.array([1, 2, 3.5])\n",
    "x"
   ]
  },
  {
   "cell_type": "code",
   "execution_count": 8,
   "metadata": {
    "ExecuteTime": {
     "end_time": "2019-03-09T14:10:55.247598Z",
     "start_time": "2019-03-09T14:10:55.236030Z"
    }
   },
   "outputs": [
    {
     "data": {
      "text/plain": [
       "dtype('float64')"
      ]
     },
     "execution_count": 8,
     "metadata": {},
     "output_type": "execute_result"
    }
   ],
   "source": [
    "x.dtype"
   ]
  },
  {
   "cell_type": "markdown",
   "metadata": {},
   "source": [
    "<br>\n",
    "To create  higher rank arrays, you can transform a list of lists (of lists of ...) into an `array`."
   ]
  },
  {
   "cell_type": "code",
   "execution_count": 9,
   "metadata": {
    "ExecuteTime": {
     "end_time": "2019-03-09T14:12:57.252952Z",
     "start_time": "2019-03-09T14:12:57.226765Z"
    }
   },
   "outputs": [
    {
     "data": {
      "text/plain": [
       "array([[ 7,  8,  9],\n",
       "       [10, 11, 12]])"
      ]
     },
     "execution_count": 9,
     "metadata": {},
     "output_type": "execute_result"
    }
   ],
   "source": [
    "m = np.array([[7, 8, 9], [10, 11, 12]])\n",
    "m"
   ]
  },
  {
   "cell_type": "code",
   "execution_count": 10,
   "metadata": {
    "ExecuteTime": {
     "end_time": "2019-03-09T14:13:00.499642Z",
     "start_time": "2019-03-09T14:13:00.482682Z"
    }
   },
   "outputs": [
    {
     "data": {
      "text/plain": [
       "(2, 3)"
      ]
     },
     "execution_count": 10,
     "metadata": {},
     "output_type": "execute_result"
    }
   ],
   "source": [
    "m.shape"
   ]
  },
  {
   "cell_type": "markdown",
   "metadata": {},
   "source": [
    "<br>\n",
    "Arrays can be created using predefined constructors, without having to state all elements. Let us explore some options."
   ]
  },
  {
   "cell_type": "markdown",
   "metadata": {},
   "source": [
    "`arange` returns evenly spaced values within a given interval, indicating the step. As with `range`, it spans the **semi-open** set [start, stop)."
   ]
  },
  {
   "cell_type": "code",
   "execution_count": 10,
   "metadata": {
    "ExecuteTime": {
     "end_time": "2019-03-07T23:22:20.093440Z",
     "start_time": "2019-03-07T23:22:20.087729Z"
    }
   },
   "outputs": [
    {
     "data": {
      "text/plain": [
       "array([ 0. ,  2.3,  4.6,  6.9,  9.2, 11.5, 13.8, 16.1, 18.4, 20.7, 23. ,\n",
       "       25.3, 27.6, 29.9])"
      ]
     },
     "execution_count": 10,
     "metadata": {},
     "output_type": "execute_result"
    }
   ],
   "source": [
    "x = np.arange(0, 30, 2.3) # de 0 a 30 contando de 2.3 en 2.3\n",
    "x"
   ]
  },
  {
   "cell_type": "markdown",
   "metadata": {},
   "source": [
    "`linspace` returns evenly spaced numbers over a specified interval, indicating the number of points. By default it **includes the endpoint**."
   ]
  },
  {
   "cell_type": "code",
   "execution_count": 11,
   "metadata": {
    "ExecuteTime": {
     "end_time": "2019-03-07T23:22:36.184969Z",
     "start_time": "2019-03-07T23:22:36.178125Z"
    }
   },
   "outputs": [
    {
     "data": {
      "text/plain": [
       "array([ 0.  ,  3.75,  7.5 , 11.25, 15.  , 18.75, 22.5 , 26.25, 30.  ])"
      ]
     },
     "execution_count": 11,
     "metadata": {},
     "output_type": "execute_result"
    }
   ],
   "source": [
    "x = np.linspace(0, 30, 9) # 9 números equiespaciados en [0, 30]\n",
    "x"
   ]
  },
  {
   "cell_type": "markdown",
   "metadata": {},
   "source": [
    "`zeros` y `ones` create arrays with all its elements 0 or 1 respectively."
   ]
  },
  {
   "cell_type": "code",
   "execution_count": 14,
   "metadata": {
    "ExecuteTime": {
     "end_time": "2019-03-09T14:19:49.338024Z",
     "start_time": "2019-03-09T14:19:49.329294Z"
    }
   },
   "outputs": [
    {
     "data": {
      "text/plain": [
       "array([[0., 0., 0., 0.],\n",
       "       [0., 0., 0., 0.],\n",
       "       [0., 0., 0., 0.],\n",
       "       [0., 0., 0., 0.]])"
      ]
     },
     "execution_count": 14,
     "metadata": {},
     "output_type": "execute_result"
    }
   ],
   "source": [
    "np.zeros([4,4])"
   ]
  },
  {
   "cell_type": "code",
   "execution_count": 15,
   "metadata": {
    "ExecuteTime": {
     "end_time": "2019-03-09T14:20:22.352426Z",
     "start_time": "2019-03-09T14:20:22.338210Z"
    }
   },
   "outputs": [
    {
     "data": {
      "text/plain": [
       "array([ True,  True,  True,  True,  True,  True,  True,  True,  True,\n",
       "        True,  True])"
      ]
     },
     "execution_count": 15,
     "metadata": {},
     "output_type": "execute_result"
    }
   ],
   "source": [
    "np.ones(11,dtype=bool)"
   ]
  },
  {
   "cell_type": "code",
   "execution_count": 14,
   "metadata": {
    "ExecuteTime": {
     "end_time": "2019-03-07T23:22:44.976171Z",
     "start_time": "2019-03-07T23:22:44.970047Z"
    }
   },
   "outputs": [
    {
     "data": {
      "text/plain": [
       "array([[[3., 3., 3.],\n",
       "        [3., 3., 3.]],\n",
       "\n",
       "       [[3., 3., 3.],\n",
       "        [3., 3., 3.]]])"
      ]
     },
     "execution_count": 14,
     "metadata": {},
     "output_type": "execute_result"
    }
   ],
   "source": [
    "3*np.ones([2,2,3])"
   ]
  },
  {
   "cell_type": "markdown",
   "metadata": {},
   "source": [
    "`eye` created an identity matrix, and `diag` and diagonal matrix."
   ]
  },
  {
   "cell_type": "code",
   "execution_count": 15,
   "metadata": {
    "ExecuteTime": {
     "end_time": "2019-03-07T23:22:47.997269Z",
     "start_time": "2019-03-07T23:22:47.991770Z"
    }
   },
   "outputs": [
    {
     "data": {
      "text/plain": [
       "array([[1., 0., 0.],\n",
       "       [0., 1., 0.],\n",
       "       [0., 0., 1.]])"
      ]
     },
     "execution_count": 15,
     "metadata": {},
     "output_type": "execute_result"
    }
   ],
   "source": [
    "np.eye(3)"
   ]
  },
  {
   "cell_type": "code",
   "execution_count": 16,
   "metadata": {
    "ExecuteTime": {
     "end_time": "2019-03-09T14:22:19.586618Z",
     "start_time": "2019-03-09T14:22:19.550405Z"
    }
   },
   "outputs": [
    {
     "data": {
      "text/plain": [
       "array([[6, 0, 0],\n",
       "       [0, 8, 0],\n",
       "       [0, 0, 9]])"
      ]
     },
     "execution_count": 16,
     "metadata": {},
     "output_type": "execute_result"
    }
   ],
   "source": [
    "np.diag([6,8,9])"
   ]
  },
  {
   "cell_type": "markdown",
   "metadata": {},
   "source": [
    "## Combining  arrays"
   ]
  },
  {
   "cell_type": "code",
   "execution_count": 18,
   "metadata": {
    "ExecuteTime": {
     "end_time": "2019-03-09T14:24:15.291607Z",
     "start_time": "2019-03-09T14:24:15.283169Z"
    }
   },
   "outputs": [
    {
     "data": {
      "text/plain": [
       "array([[1., 1., 1.],\n",
       "       [1., 1., 1.]])"
      ]
     },
     "execution_count": 18,
     "metadata": {},
     "output_type": "execute_result"
    }
   ],
   "source": [
    "x = np.ones([2, 3])\n",
    "x"
   ]
  },
  {
   "cell_type": "markdown",
   "metadata": {},
   "source": [
    "`vstack` stacks arrays in sequence vertically (row wise), it is the same as a concatenation along the first axis (index 0)."
   ]
  },
  {
   "cell_type": "code",
   "execution_count": 21,
   "metadata": {
    "ExecuteTime": {
     "end_time": "2019-03-09T14:24:42.886775Z",
     "start_time": "2019-03-09T14:24:42.877349Z"
    }
   },
   "outputs": [
    {
     "name": "stdout",
     "output_type": "stream",
     "text": [
      "shape =  (4, 3)\n"
     ]
    },
    {
     "data": {
      "text/plain": [
       "array([[1., 1., 1.],\n",
       "       [1., 1., 1.],\n",
       "       [2., 2., 2.],\n",
       "       [2., 2., 2.]])"
      ]
     },
     "execution_count": 21,
     "metadata": {},
     "output_type": "execute_result"
    }
   ],
   "source": [
    "y = np.vstack([x, 2*x])\n",
    "print('shape = ',y.shape)\n",
    "y"
   ]
  },
  {
   "cell_type": "markdown",
   "metadata": {},
   "source": [
    "`hstack` stacks arrays in sequence horizontally (column wise), it is the same as a concatenation along the second axis (index 1)."
   ]
  },
  {
   "cell_type": "code",
   "execution_count": 23,
   "metadata": {
    "ExecuteTime": {
     "end_time": "2019-03-09T14:26:32.340229Z",
     "start_time": "2019-03-09T14:26:32.331488Z"
    }
   },
   "outputs": [
    {
     "name": "stdout",
     "output_type": "stream",
     "text": [
      "shape =  (2, 9)\n"
     ]
    },
    {
     "data": {
      "text/plain": [
       "array([[1., 1., 1., 2., 2., 2., 3., 3., 3.],\n",
       "       [1., 1., 1., 2., 2., 2., 3., 3., 3.]])"
      ]
     },
     "execution_count": 23,
     "metadata": {},
     "output_type": "execute_result"
    }
   ],
   "source": [
    "y = np.hstack([x, 2*x, 3*x])\n",
    "print('shape = ',y.shape)\n",
    "y"
   ]
  },
  {
   "cell_type": "markdown",
   "metadata": {},
   "source": [
    "## Operations with arrays"
   ]
  },
  {
   "cell_type": "markdown",
   "metadata": {},
   "source": [
    "`reshape` gives a new shape to an array without changing its data.\n",
    "In the example you can see that it starts filling along the last axis (in this case, the one of length 5)."
   ]
  },
  {
   "cell_type": "code",
   "execution_count": 25,
   "metadata": {
    "ExecuteTime": {
     "end_time": "2019-03-09T14:31:34.513349Z",
     "start_time": "2019-03-09T14:31:34.506672Z"
    }
   },
   "outputs": [
    {
     "data": {
      "text/plain": [
       "array([[ 0,  1,  2,  3,  4],\n",
       "       [ 5,  6,  7,  8,  9],\n",
       "       [10, 11, 12, 13, 14]])"
      ]
     },
     "execution_count": 25,
     "metadata": {},
     "output_type": "execute_result"
    }
   ],
   "source": [
    "x = np.arange(0, 15)\n",
    "x = np.reshape(x,[3,5]) # You can also use x.reshape([3,5])\n",
    "x"
   ]
  },
  {
   "cell_type": "markdown",
   "metadata": {},
   "source": [
    "Given an array, we can read and modify each element."
   ]
  },
  {
   "cell_type": "code",
   "execution_count": 26,
   "metadata": {
    "ExecuteTime": {
     "end_time": "2019-03-09T14:32:02.086469Z",
     "start_time": "2019-03-09T14:32:02.074166Z"
    }
   },
   "outputs": [
    {
     "data": {
      "text/plain": [
       "array([[  0, 100,   2,   3,   4],\n",
       "       [  5,   6,   7,   8,   9],\n",
       "       [ 10,  11,  12,  13,  14]])"
      ]
     },
     "execution_count": 26,
     "metadata": {},
     "output_type": "execute_result"
    }
   ],
   "source": [
    "x[0,1] = 100*x[0,1]\n",
    "x"
   ]
  },
  {
   "cell_type": "markdown",
   "metadata": {},
   "source": [
    "We can specify the order of the filling, it can be C like or F (Fortran) like."
   ]
  },
  {
   "cell_type": "code",
   "execution_count": 30,
   "metadata": {
    "ExecuteTime": {
     "end_time": "2019-03-09T14:33:41.079341Z",
     "start_time": "2019-03-09T14:33:41.069534Z"
    }
   },
   "outputs": [
    {
     "data": {
      "text/plain": [
       "array([[ 0,  3,  6,  9, 12],\n",
       "       [ 1,  4,  7, 10, 13],\n",
       "       [ 2,  5,  8, 11, 14]])"
      ]
     },
     "execution_count": 30,
     "metadata": {},
     "output_type": "execute_result"
    }
   ],
   "source": [
    "x = np.arange(0, 15)\n",
    "x = np.reshape(x,[3,5],order='F') # You can also use x.reshape([3,5],order='F')\n",
    "x"
   ]
  },
  {
   "cell_type": "markdown",
   "metadata": {},
   "source": [
    "You can easily transpose an array with the attribute `.T` or with the method `transpose()`."
   ]
  },
  {
   "cell_type": "code",
   "execution_count": 37,
   "metadata": {
    "ExecuteTime": {
     "end_time": "2019-03-09T14:35:18.440709Z",
     "start_time": "2019-03-09T14:35:18.434743Z"
    }
   },
   "outputs": [
    {
     "name": "stdout",
     "output_type": "stream",
     "text": [
      "Original\n",
      " [[ 0  3  6  9 12]\n",
      " [ 1  4  7 10 13]\n",
      " [ 2  5  8 11 14]] \n",
      "Transposed\n",
      " [[ 0  1  2]\n",
      " [ 3  4  5]\n",
      " [ 6  7  8]\n",
      " [ 9 10 11]\n",
      " [12 13 14]]\n"
     ]
    }
   ],
   "source": [
    "print('Original\\n',x,'\\nTransposed\\n',x.T)"
   ]
  },
  {
   "cell_type": "markdown",
   "metadata": {},
   "source": [
    "\n",
    "**Warning:** transposing is not the same as reshaping alternating the dimensions."
   ]
  },
  {
   "cell_type": "code",
   "execution_count": 39,
   "metadata": {
    "ExecuteTime": {
     "end_time": "2019-03-09T14:38:52.427672Z",
     "start_time": "2019-03-09T14:38:52.415437Z"
    }
   },
   "outputs": [
    {
     "name": "stdout",
     "output_type": "stream",
     "text": [
      "[[ 0  5 10]\n",
      " [ 1  6 11]\n",
      " [ 2  7 12]\n",
      " [ 3  8 13]\n",
      " [ 4  9 14]]\n",
      "[[ 0  1  2]\n",
      " [ 3  4  5]\n",
      " [ 6  7  8]\n",
      " [ 9 10 11]\n",
      " [12 13 14]]\n",
      "[[ True False False]\n",
      " [False False False]\n",
      " [False  True False]\n",
      " [False False False]\n",
      " [False False  True]]\n"
     ]
    }
   ],
   "source": [
    "x = np.arange(0,15).reshape([3,5]).T\n",
    "y = np.arange(0, 15).reshape([5,3])\n",
    "print(x)\n",
    "print(y)\n",
    "print(x==y)"
   ]
  },
  {
   "cell_type": "markdown",
   "metadata": {},
   "source": [
    "You can also transpose arrays with rank higher than 2."
   ]
  },
  {
   "cell_type": "code",
   "execution_count": 41,
   "metadata": {
    "ExecuteTime": {
     "end_time": "2019-03-09T14:39:31.762845Z",
     "start_time": "2019-03-09T14:39:31.758402Z"
    }
   },
   "outputs": [
    {
     "name": "stdout",
     "output_type": "stream",
     "text": [
      "[[[ 0  1  2  3]\n",
      "  [ 4  5  6  7]\n",
      "  [ 8  9 10 11]]\n",
      "\n",
      " [[12 13 14 15]\n",
      "  [16 17 18 19]\n",
      "  [20 21 22 23]]]\n"
     ]
    }
   ],
   "source": [
    "x = np.arange(0,24).reshape([2,3,4])\n",
    "print(x)"
   ]
  },
  {
   "cell_type": "code",
   "execution_count": 44,
   "metadata": {
    "ExecuteTime": {
     "end_time": "2019-03-09T14:41:26.110299Z",
     "start_time": "2019-03-09T14:41:26.104800Z"
    }
   },
   "outputs": [
    {
     "name": "stdout",
     "output_type": "stream",
     "text": [
      "Transposed shape =  (4, 3, 2) \n",
      "Transposed array\n",
      "[[[ 0 12]\n",
      "  [ 4 16]\n",
      "  [ 8 20]]\n",
      "\n",
      " [[ 1 13]\n",
      "  [ 5 17]\n",
      "  [ 9 21]]\n",
      "\n",
      " [[ 2 14]\n",
      "  [ 6 18]\n",
      "  [10 22]]\n",
      "\n",
      " [[ 3 15]\n",
      "  [ 7 19]\n",
      "  [11 23]]]\n"
     ]
    }
   ],
   "source": [
    "print('Transposed shape = ',x.T.shape, '\\nTransposed array')\n",
    "print(x.T)"
   ]
  },
  {
   "cell_type": "markdown",
   "metadata": {},
   "source": [
    "You can use Python's mathematical operators to perform **element-wise** operations on arrays.\n",
    "\n",
    "`+`, `-`, `*`, `/` , `//` , `%` and `**` work as expected."
   ]
  },
  {
   "cell_type": "code",
   "execution_count": 46,
   "metadata": {
    "ExecuteTime": {
     "end_time": "2019-03-09T14:44:19.164325Z",
     "start_time": "2019-03-09T14:44:19.156982Z"
    }
   },
   "outputs": [
    {
     "name": "stdout",
     "output_type": "stream",
     "text": [
      "[1 2 3 4] + [1 2 3 4] = [2 4 6 8]\n"
     ]
    }
   ],
   "source": [
    "x = np.arange(1,5)\n",
    "y = x + x\n",
    "print(x,'+',x,'=',y)"
   ]
  },
  {
   "cell_type": "code",
   "execution_count": 47,
   "metadata": {
    "ExecuteTime": {
     "end_time": "2019-03-09T14:44:33.963857Z",
     "start_time": "2019-03-09T14:44:33.954937Z"
    }
   },
   "outputs": [
    {
     "name": "stdout",
     "output_type": "stream",
     "text": [
      "[1 2 3 4] - [1 2 3 4] = [0 0 0 0]\n"
     ]
    }
   ],
   "source": [
    "x = np.arange(1,5)\n",
    "y = x - x\n",
    "print(x,'-',x,'=',y)"
   ]
  },
  {
   "cell_type": "code",
   "execution_count": 48,
   "metadata": {
    "ExecuteTime": {
     "end_time": "2019-03-09T14:44:44.322633Z",
     "start_time": "2019-03-09T14:44:44.313636Z"
    }
   },
   "outputs": [
    {
     "name": "stdout",
     "output_type": "stream",
     "text": [
      "[1 2 3 4] * [1 2 3 4] = [ 1  4  9 16]\n"
     ]
    }
   ],
   "source": [
    "x = np.arange(1,5)\n",
    "y = x * x\n",
    "print(x,'*',x,'=',y)"
   ]
  },
  {
   "cell_type": "code",
   "execution_count": 49,
   "metadata": {
    "ExecuteTime": {
     "end_time": "2019-03-09T14:44:54.113131Z",
     "start_time": "2019-03-09T14:44:54.103375Z"
    }
   },
   "outputs": [
    {
     "name": "stdout",
     "output_type": "stream",
     "text": [
      "[1 2 3 4] / [1 2 3 4] = [1. 1. 1. 1.]\n"
     ]
    }
   ],
   "source": [
    "x = np.arange(1,5)\n",
    "y = x / x\n",
    "print(x,'/',x,'=',y)"
   ]
  },
  {
   "cell_type": "code",
   "execution_count": 54,
   "metadata": {
    "ExecuteTime": {
     "end_time": "2019-03-09T14:46:15.601248Z",
     "start_time": "2019-03-09T14:46:15.594603Z"
    }
   },
   "outputs": [
    {
     "name": "stdout",
     "output_type": "stream",
     "text": [
      "[11 12 13 14] / [1 2 3 4] = [11  6  4  3]\n"
     ]
    }
   ],
   "source": [
    "x = np.arange(1,5)\n",
    "y = np.arange(11,15)\n",
    "z = y // x\n",
    "print(y,'//',x,'=',z)"
   ]
  },
  {
   "cell_type": "code",
   "execution_count": 55,
   "metadata": {
    "ExecuteTime": {
     "end_time": "2019-03-09T14:46:39.935752Z",
     "start_time": "2019-03-09T14:46:39.928458Z"
    }
   },
   "outputs": [
    {
     "name": "stdout",
     "output_type": "stream",
     "text": [
      "[11 12 13 14] % [1 2 3 4] = [0 0 1 2]\n"
     ]
    }
   ],
   "source": [
    "x = np.arange(1,5)\n",
    "y = np.arange(11,15)\n",
    "z = y % x\n",
    "print(y,'%',x,'=',z)"
   ]
  },
  {
   "cell_type": "code",
   "execution_count": 50,
   "metadata": {
    "ExecuteTime": {
     "end_time": "2019-03-09T14:45:13.590698Z",
     "start_time": "2019-03-09T14:45:13.585082Z"
    }
   },
   "outputs": [
    {
     "name": "stdout",
     "output_type": "stream",
     "text": [
      "[1 2 3 4] **2 = [ 1  4  9 16]\n"
     ]
    }
   ],
   "source": [
    "x = np.arange(1,5)\n",
    "y = x**2\n",
    "print(x,'**2','=',y)"
   ]
  },
  {
   "cell_type": "markdown",
   "metadata": {},
   "source": [
    "`dot` performs scalar product in the case of 1-D arrays and matrix multiplication for 2-D arrays."
   ]
  },
  {
   "cell_type": "code",
   "execution_count": 58,
   "metadata": {
    "ExecuteTime": {
     "end_time": "2019-03-09T14:51:47.935286Z",
     "start_time": "2019-03-09T14:51:47.927321Z"
    }
   },
   "outputs": [
    {
     "name": "stdout",
     "output_type": "stream",
     "text": [
      "[[ True  True  True  True]\n",
      " [ True  True  True  True]\n",
      " [ True  True  True  True]\n",
      " [ True  True  True  True]]\n"
     ]
    }
   ],
   "source": [
    "x = np.arange(16).reshape(4,4)\n",
    "y = np.eye(4) # identity matrix\n",
    "z = np.dot(x,y) # Should be the same as x\n",
    "print(x == z) # They coincide"
   ]
  },
  {
   "cell_type": "code",
   "execution_count": 60,
   "metadata": {
    "ExecuteTime": {
     "end_time": "2019-03-09T14:52:29.982573Z",
     "start_time": "2019-03-09T14:52:29.976069Z"
    }
   },
   "outputs": [
    {
     "name": "stdout",
     "output_type": "stream",
     "text": [
      "[[ True False False False]\n",
      " [False  True False False]\n",
      " [False False  True False]\n",
      " [False False False  True]]\n"
     ]
    }
   ],
   "source": [
    "x = np.arange(16).reshape(4,4)\n",
    "y = np.eye(4) # identity matrix\n",
    "z = x * y # This is different, since it is element-wise multiplication\n",
    "print(x == z) # They do not coincide"
   ]
  },
  {
   "cell_type": "markdown",
   "metadata": {},
   "source": [
    "## Iterating over arrays"
   ]
  },
  {
   "cell_type": "code",
   "execution_count": 145,
   "metadata": {
    "ExecuteTime": {
     "end_time": "2019-03-09T16:03:23.723546Z",
     "start_time": "2019-03-09T16:03:23.717061Z"
    }
   },
   "outputs": [
    {
     "name": "stdout",
     "output_type": "stream",
     "text": [
      "[[0.59983692 0.17107237 0.80007219]\n",
      " [0.37827457 0.28482984 0.82535253]\n",
      " [0.19976442 0.17179669 0.69350376]\n",
      " [0.25323448 0.79032555 0.91211017]]\n"
     ]
    }
   ],
   "source": [
    "## We can generate arrays following a probability distribution with np.random\n",
    "matrix = np.random.uniform(0, 1, (4,3)) \n",
    "print(matrix)"
   ]
  },
  {
   "cell_type": "markdown",
   "metadata": {},
   "source": [
    "Iterate over indices"
   ]
  },
  {
   "cell_type": "code",
   "execution_count": 147,
   "metadata": {
    "ExecuteTime": {
     "end_time": "2019-03-09T16:04:13.360630Z",
     "start_time": "2019-03-09T16:04:13.355228Z"
    }
   },
   "outputs": [
    {
     "name": "stdout",
     "output_type": "stream",
     "text": [
      "[0.59983692 0.17107237 0.80007219]\n",
      "[0.37827457 0.28482984 0.82535253]\n",
      "[0.19976442 0.17179669 0.69350376]\n",
      "[0.25323448 0.79032555 0.91211017]\n"
     ]
    }
   ],
   "source": [
    "for i in range(len(matrix)):\n",
    "    print(matrix[i])"
   ]
  },
  {
   "cell_type": "markdown",
   "metadata": {},
   "source": [
    "Iterate over rows"
   ]
  },
  {
   "cell_type": "code",
   "execution_count": 146,
   "metadata": {
    "ExecuteTime": {
     "end_time": "2019-03-09T16:03:45.470459Z",
     "start_time": "2019-03-09T16:03:45.466030Z"
    }
   },
   "outputs": [
    {
     "name": "stdout",
     "output_type": "stream",
     "text": [
      "[0.59983692 0.17107237 0.80007219]\n",
      "[0.37827457 0.28482984 0.82535253]\n",
      "[0.19976442 0.17179669 0.69350376]\n",
      "[0.25323448 0.79032555 0.91211017]\n"
     ]
    }
   ],
   "source": [
    "for row in matrix:\n",
    "    print(row)"
   ]
  },
  {
   "cell_type": "markdown",
   "metadata": {},
   "source": [
    "Iterate over indices and rows"
   ]
  },
  {
   "cell_type": "code",
   "execution_count": 149,
   "metadata": {
    "ExecuteTime": {
     "end_time": "2019-03-09T16:04:45.499843Z",
     "start_time": "2019-03-09T16:04:45.490162Z"
    }
   },
   "outputs": [
    {
     "name": "stdout",
     "output_type": "stream",
     "text": [
      "row 0 is [0.59983692 0.17107237 0.80007219]\n",
      "row 1 is [0.37827457 0.28482984 0.82535253]\n",
      "row 2 is [0.19976442 0.17179669 0.69350376]\n",
      "row 3 is [0.25323448 0.79032555 0.91211017]\n"
     ]
    }
   ],
   "source": [
    "for i, row in enumerate(matrix):\n",
    "    print('row', i, 'is', row)"
   ]
  },
  {
   "cell_type": "markdown",
   "metadata": {},
   "source": [
    "You can nest the iterators"
   ]
  },
  {
   "cell_type": "code",
   "execution_count": 150,
   "metadata": {
    "ExecuteTime": {
     "end_time": "2019-03-09T16:05:27.051577Z",
     "start_time": "2019-03-09T16:05:27.042620Z"
    }
   },
   "outputs": [
    {
     "name": "stdout",
     "output_type": "stream",
     "text": [
      "0.599836922888499\n",
      "0.17107236774206558\n",
      "0.8000721869623799\n",
      "0.3782745679758731\n",
      "0.28482984047840587\n",
      "0.8253525259806724\n",
      "0.19976441533524425\n",
      "0.17179668733279807\n",
      "0.6935037553269237\n",
      "0.2532344837943472\n",
      "0.7903255489497353\n",
      "0.9121101742532558\n"
     ]
    }
   ],
   "source": [
    "for row in matrix:\n",
    "    for el in row:\n",
    "        print(el)"
   ]
  },
  {
   "cell_type": "code",
   "execution_count": 157,
   "metadata": {
    "ExecuteTime": {
     "end_time": "2019-03-09T16:08:47.356779Z",
     "start_time": "2019-03-09T16:08:47.345967Z"
    }
   },
   "outputs": [
    {
     "name": "stdout",
     "output_type": "stream",
     "text": [
      "0.599836922888499\n",
      "0.17107236774206558\n",
      "0.8000721869623799\n",
      "0.3782745679758731\n",
      "0.28482984047840587\n",
      "0.8253525259806724\n",
      "0.19976441533524425\n",
      "0.17179668733279807\n",
      "0.6935037553269237\n",
      "0.2532344837943472\n",
      "0.7903255489497353\n",
      "0.9121101742532558\n"
     ]
    },
    {
     "data": {
      "text/plain": [
       "[None, None, None, None, None, None, None, None, None, None, None, None]"
      ]
     },
     "execution_count": 157,
     "metadata": {},
     "output_type": "execute_result"
    }
   ],
   "source": [
    "[print(el)  for row in matrix for el in row]"
   ]
  },
  {
   "cell_type": "markdown",
   "metadata": {
    "ExecuteTime": {
     "end_time": "2019-03-09T14:55:56.579991Z",
     "start_time": "2019-03-09T14:55:56.575954Z"
    }
   },
   "source": [
    "## Mathematical functions"
   ]
  },
  {
   "cell_type": "markdown",
   "metadata": {},
   "source": [
    "NumPy has implemented many of the usual mathematical functions, and they are applied element-wise to an array. Some of them are `sin`, `cos`, `exp`, `sqrt`, `log`. Also, you can access the value of $\\pi$ with `np.pi`.\n",
    "\n",
    "You can find a complete list in \n",
    "\n",
    "https://docs.scipy.org/doc/numpy/reference/routines.math.html"
   ]
  },
  {
   "cell_type": "markdown",
   "metadata": {
    "heading_collapsed": true
   },
   "source": [
    "### Element-wise mathematical function"
   ]
  },
  {
   "cell_type": "code",
   "execution_count": 67,
   "metadata": {
    "ExecuteTime": {
     "end_time": "2019-03-09T15:00:11.337391Z",
     "start_time": "2019-03-09T15:00:11.329612Z"
    },
    "hidden": true
   },
   "outputs": [
    {
     "data": {
      "text/plain": [
       "array([0.00000000e+00, 5.00000000e-01, 1.00000000e+00, 5.00000000e-01,\n",
       "       1.49975978e-32])"
      ]
     },
     "execution_count": 67,
     "metadata": {},
     "output_type": "execute_result"
    }
   ],
   "source": [
    "np.sin(np.linspace(0,np.pi,5))**2"
   ]
  },
  {
   "cell_type": "code",
   "execution_count": 73,
   "metadata": {
    "ExecuteTime": {
     "end_time": "2019-03-09T15:02:10.937283Z",
     "start_time": "2019-03-09T15:02:10.925715Z"
    },
    "hidden": true
   },
   "outputs": [
    {
     "name": "stdout",
     "output_type": "stream",
     "text": [
      "x = [ 1.    3.25  5.5   7.75 10.  ]\n",
      "log(x) = [0.         1.178655   1.70474809 2.04769284 2.30258509]\n",
      "exp(x) = [2.71828183e+00 2.57903399e+01 2.44691932e+02 2.32157241e+03\n",
      " 2.20264658e+04]\n"
     ]
    }
   ],
   "source": [
    "x = np.linspace(1,10,5)\n",
    "print('x =',x)\n",
    "xlog = np.log(x)\n",
    "print('log(x) =',xlog)\n",
    "xexp = np.exp(x)\n",
    "print('exp(x) =',xexp)"
   ]
  },
  {
   "cell_type": "markdown",
   "metadata": {},
   "source": [
    "### <span style=\"color:red\">**Exercise**</span> "
   ]
  },
  {
   "cell_type": "markdown",
   "metadata": {},
   "source": [
    "Create a function that obtains the cosine of the angle between two vectors.\n",
    "\n",
    "$$ \\cos \\theta = \\frac{\\langle v_1, v_2 \\rangle}{||v_1|| ||v_2||} $$\n",
    "\n",
    "where $|| v ||$ is the norm of v, which can be expressed as $\\sqrt{\\langle v, v \\rangle}$"
   ]
  },
  {
   "cell_type": "markdown",
   "metadata": {},
   "source": [
    "### <span style=\"color:red\">**Exercise**</span> "
   ]
  },
  {
   "cell_type": "markdown",
   "metadata": {},
   "source": [
    "Using two nested for loops, implement a function to calculate the mean value of the elements of a matrix."
   ]
  },
  {
   "cell_type": "markdown",
   "metadata": {
    "heading_collapsed": true
   },
   "source": [
    "### Mathematical functions on axes of the array"
   ]
  },
  {
   "cell_type": "markdown",
   "metadata": {
    "hidden": true
   },
   "source": [
    "NumPy has plenty of functions to operate on `arrays`. To calculate the sum of elements `sum`, or their product `prod`. Also statistical ones like the mean `mean` and the standard deviation `std`.\n",
    "\n",
    "You can usually specify along which `axis` to perform the operation with the `axis` option, if it is not specified, the array is flattened.\n",
    "\n",
    "In general, with the method `np.apply_along_axis(function, axis, array)` we can apply an arbitrary function slicing along a given `axis`."
   ]
  },
  {
   "cell_type": "code",
   "execution_count": 143,
   "metadata": {
    "ExecuteTime": {
     "end_time": "2019-03-09T15:59:40.617233Z",
     "start_time": "2019-03-09T15:59:40.608555Z"
    },
    "hidden": true
   },
   "outputs": [
    {
     "name": "stdout",
     "output_type": "stream",
     "text": [
      "[[1 3 5 7]\n",
      " [0 2 4 8]]\n",
      "argmax over axis 0\n",
      "[0 0 0 1]\n",
      "[0 0 0 1]\n"
     ]
    }
   ],
   "source": [
    "def arggmax(x):\n",
    "    return np.argmax(x)\n",
    "axis = 0\n",
    "matrix = np.array([[1,3,5,7],[0,2,4,8]])\n",
    "print(matrix)\n",
    "print('argmax over axis',axis)\n",
    "print(np.apply_along_axis(arggmax, axis, matrix))\n",
    "print(matrix.argmax(axis = axis))"
   ]
  },
  {
   "cell_type": "code",
   "execution_count": 106,
   "metadata": {
    "ExecuteTime": {
     "end_time": "2019-03-09T15:15:27.327655Z",
     "start_time": "2019-03-09T15:15:27.320562Z"
    },
    "hidden": true
   },
   "outputs": [
    {
     "name": "stdout",
     "output_type": "stream",
     "text": [
      "vector\n",
      "[-4 -2  1  3  5]\n",
      "matrix\n",
      "[[1 3 5 7]\n",
      " [0 2 4 8]]\n"
     ]
    }
   ],
   "source": [
    "vector = np.array([-4, -2, 1, 3, 5])\n",
    "matrix = np.array([[1,3,5,7],[0,2,4,8]])\n",
    "print('vector')\n",
    "print(vector)\n",
    "print('matrix')\n",
    "print(matrix)"
   ]
  },
  {
   "cell_type": "code",
   "execution_count": 107,
   "metadata": {
    "ExecuteTime": {
     "end_time": "2019-03-09T15:15:29.681383Z",
     "start_time": "2019-03-09T15:15:29.676369Z"
    },
    "hidden": true
   },
   "outputs": [
    {
     "name": "stdout",
     "output_type": "stream",
     "text": [
      "sum\n",
      "vector = 3\n",
      "matrix = 30\n",
      "matrix (over rows)= [ 1  5  9 15]\n",
      "matrix (over columns)= [16 14]\n"
     ]
    }
   ],
   "source": [
    "print('sum')\n",
    "print('vector =', vector.sum())\n",
    "print('matrix =', matrix.sum())\n",
    "print('matrix (over rows)=', matrix.sum(axis=0))\n",
    "print('matrix (over columns)=', matrix.sum(axis=1))"
   ]
  },
  {
   "cell_type": "code",
   "execution_count": 108,
   "metadata": {
    "ExecuteTime": {
     "end_time": "2019-03-09T15:15:35.658255Z",
     "start_time": "2019-03-09T15:15:35.652740Z"
    },
    "hidden": true
   },
   "outputs": [
    {
     "name": "stdout",
     "output_type": "stream",
     "text": [
      "product\n",
      "vector = 120\n",
      "matrix = 0\n",
      "matrix (over rows)= [ 0  6 20 56]\n",
      "matrix (over columns)= [105   0]\n"
     ]
    }
   ],
   "source": [
    "print('product')\n",
    "print('vector =', vector.prod())\n",
    "print('matrix =', matrix.prod())\n",
    "print('matrix (over rows)=', matrix.prod(axis=0))\n",
    "print('matrix (over columns)=', matrix.prod(axis=1))"
   ]
  },
  {
   "cell_type": "code",
   "execution_count": 109,
   "metadata": {
    "ExecuteTime": {
     "end_time": "2019-03-09T15:15:41.743037Z",
     "start_time": "2019-03-09T15:15:41.735496Z"
    },
    "hidden": true
   },
   "outputs": [
    {
     "name": "stdout",
     "output_type": "stream",
     "text": [
      "max\n",
      "vector = 5\n",
      "matrix = 8\n",
      "matrix (over rows)= [1 3 5 8]\n",
      "matrix (over columns)= [7 8]\n"
     ]
    }
   ],
   "source": [
    "print('max')\n",
    "print('vector =', vector.max())\n",
    "print('matrix =', matrix.max())\n",
    "print('matrix (over rows)=', matrix.max(axis=0))\n",
    "print('matrix (over columns)=', matrix.max(axis=1))"
   ]
  },
  {
   "cell_type": "code",
   "execution_count": 110,
   "metadata": {
    "ExecuteTime": {
     "end_time": "2019-03-09T15:16:04.567946Z",
     "start_time": "2019-03-09T15:16:04.559080Z"
    },
    "hidden": true
   },
   "outputs": [
    {
     "name": "stdout",
     "output_type": "stream",
     "text": [
      "min\n",
      "vector = -4\n",
      "matrix = 0\n",
      "matrix (over rows)= [0 2 4 7]\n",
      "matrix (over columns)= [1 0]\n"
     ]
    }
   ],
   "source": [
    "print('min')\n",
    "print('vector =', vector.min())\n",
    "print('matrix =', matrix.min())\n",
    "print('matrix (over rows)=', matrix.min(axis=0))\n",
    "print('matrix (over columns)=', matrix.min(axis=1))"
   ]
  },
  {
   "cell_type": "code",
   "execution_count": 111,
   "metadata": {
    "ExecuteTime": {
     "end_time": "2019-03-09T15:16:19.063965Z",
     "start_time": "2019-03-09T15:16:19.054370Z"
    },
    "hidden": true
   },
   "outputs": [
    {
     "name": "stdout",
     "output_type": "stream",
     "text": [
      "mean\n",
      "vector = 0.6\n",
      "matrix = 3.75\n",
      "matrix (over rows)= [0.5 2.5 4.5 7.5]\n",
      "matrix (over columns)= [4.  3.5]\n"
     ]
    }
   ],
   "source": [
    "print('mean')\n",
    "print('vector =', vector.mean())\n",
    "print('matrix =', matrix.mean())\n",
    "print('matrix (over rows)=', matrix.mean(axis=0))\n",
    "print('matrix (over columns)=', matrix.mean(axis=1))"
   ]
  },
  {
   "cell_type": "code",
   "execution_count": 112,
   "metadata": {
    "ExecuteTime": {
     "end_time": "2019-03-09T15:16:40.209558Z",
     "start_time": "2019-03-09T15:16:40.200052Z"
    },
    "hidden": true
   },
   "outputs": [
    {
     "name": "stdout",
     "output_type": "stream",
     "text": [
      "standard deviation\n",
      "vector = 3.2619012860600183\n",
      "matrix = 2.6339134382131846\n",
      "matrix (over rows)= [0.5 0.5 0.5 0.5]\n",
      "matrix (over columns)= [2.23606798 2.95803989]\n"
     ]
    }
   ],
   "source": [
    "print('standard deviation')\n",
    "print('vector =', vector.std())\n",
    "print('matrix =', matrix.std())\n",
    "print('matrix (over rows)=', matrix.std(axis=0))\n",
    "print('matrix (over columns)=', matrix.std(axis=1))"
   ]
  },
  {
   "cell_type": "code",
   "execution_count": 117,
   "metadata": {
    "ExecuteTime": {
     "end_time": "2019-03-09T15:18:48.647620Z",
     "start_time": "2019-03-09T15:18:48.638385Z"
    },
    "hidden": true
   },
   "outputs": [
    {
     "name": "stdout",
     "output_type": "stream",
     "text": [
      "argmax\n",
      "vector = 4\n",
      "matrix = 7\n",
      "matrix (over rows)= [0 0 0 1]\n",
      "matrix (over columns)= [3 3]\n"
     ]
    }
   ],
   "source": [
    "print('argmax')\n",
    "print('vector =', vector.argmax())\n",
    "print('matrix =', matrix.argmax())\n",
    "print('matrix (over rows)=', matrix.argmax(axis=0))\n",
    "print('matrix (over columns)=', matrix.argmax(axis=1))"
   ]
  },
  {
   "cell_type": "code",
   "execution_count": 124,
   "metadata": {
    "ExecuteTime": {
     "end_time": "2019-03-09T15:21:39.094589Z",
     "start_time": "2019-03-09T15:21:39.084640Z"
    },
    "hidden": true
   },
   "outputs": [
    {
     "name": "stdout",
     "output_type": "stream",
     "text": [
      "argmin\n",
      "vector = 0\n",
      "matrix = 4\n",
      "matrix (over rows)= [1 1 1 0]\n",
      "matrix (over columns)= [0 0]\n"
     ]
    }
   ],
   "source": [
    "print('argmin')\n",
    "print('vector =', vector.argmin())\n",
    "print('matrix =', matrix.argmin())\n",
    "print('matrix (over rows)=', matrix.argmin(axis=0))\n",
    "print('matrix (over columns)=', matrix.argmin(axis=1))"
   ]
  },
  {
   "cell_type": "markdown",
   "metadata": {},
   "source": [
    "### <span style=\"color:red\">**Exercise**</span> "
   ]
  },
  {
   "cell_type": "markdown",
   "metadata": {},
   "source": [
    "Given a matrix M, built a vector wich i-th element is the product of the sum of the elements of the i-th row of M times the product of the elements of the i-th row of M. \n",
    "\n",
    "Can you do it with one line of code? **Hint:** Use lambda functions."
   ]
  },
  {
   "cell_type": "code",
   "execution_count": 1,
   "metadata": {
    "ExecuteTime": {
     "end_time": "2019-03-10T19:58:49.904550Z",
     "start_time": "2019-03-10T19:58:49.891361Z"
    }
   },
   "outputs": [
    {
     "name": "stdout",
     "output_type": "stream",
     "text": [
      "[[1 2 3]\n",
      " [3 4 5]\n",
      " [5 6 7]]\n"
     ]
    }
   ],
   "source": [
    "M = np.array([[1,2,3],[3,4,5],[5,6,7]])\n",
    "print(M)"
   ]
  },
  {
   "cell_type": "markdown",
   "metadata": {},
   "source": [
    "## Indexing/Slicing"
   ]
  },
  {
   "cell_type": "markdown",
   "metadata": {},
   "source": [
    "Similarly to lists, you can index arrays using square brackets `[]`.\n",
    "\n",
    "You can also sliced over with expressions like `[start:stop:step]`."
   ]
  },
  {
   "cell_type": "code",
   "execution_count": 159,
   "metadata": {
    "ExecuteTime": {
     "end_time": "2019-03-09T16:15:56.810244Z",
     "start_time": "2019-03-09T16:15:56.800588Z"
    }
   },
   "outputs": [
    {
     "name": "stdout",
     "output_type": "stream",
     "text": [
      "[ 0  1  2  3  4  5  6  7  8  9 10 11 12 13 14 15 16 17 18 19]\n"
     ]
    },
    {
     "data": {
      "text/plain": [
       "(0, 4, 19)"
      ]
     },
     "execution_count": 159,
     "metadata": {},
     "output_type": "execute_result"
    }
   ],
   "source": [
    "vector = np.arange(20)\n",
    "print(vector)\n",
    "vector[0], vector[4], vector[-1]"
   ]
  },
  {
   "cell_type": "code",
   "execution_count": 160,
   "metadata": {
    "ExecuteTime": {
     "end_time": "2019-03-09T16:15:57.020332Z",
     "start_time": "2019-03-09T16:15:57.014821Z"
    }
   },
   "outputs": [
    {
     "data": {
      "text/plain": [
       "array([0, 2, 4])"
      ]
     },
     "execution_count": 160,
     "metadata": {},
     "output_type": "execute_result"
    }
   ],
   "source": [
    "vector[0:5:2]"
   ]
  },
  {
   "cell_type": "markdown",
   "metadata": {},
   "source": [
    "In the case the rank is larger than 1"
   ]
  },
  {
   "cell_type": "code",
   "execution_count": 161,
   "metadata": {
    "ExecuteTime": {
     "end_time": "2019-03-09T16:16:30.824828Z",
     "start_time": "2019-03-09T16:16:30.817312Z"
    }
   },
   "outputs": [
    {
     "data": {
      "text/plain": [
       "array([[ 0,  1,  2,  3,  4,  5],\n",
       "       [ 6,  7,  8,  9, 10, 11],\n",
       "       [12, 13, 14, 15, 16, 17],\n",
       "       [18, 19, 20, 21, 22, 23],\n",
       "       [24, 25, 26, 27, 28, 29],\n",
       "       [30, 31, 32, 33,  0,  0]])"
      ]
     },
     "execution_count": 161,
     "metadata": {},
     "output_type": "execute_result"
    }
   ],
   "source": [
    "matrix = np.arange(34)\n",
    "matrix.resize((6, 6))\n",
    "matrix"
   ]
  },
  {
   "cell_type": "code",
   "execution_count": 162,
   "metadata": {
    "ExecuteTime": {
     "end_time": "2019-03-09T16:16:48.738689Z",
     "start_time": "2019-03-09T16:16:48.732440Z"
    }
   },
   "outputs": [
    {
     "data": {
      "text/plain": [
       "14"
      ]
     },
     "execution_count": 162,
     "metadata": {},
     "output_type": "execute_result"
    }
   ],
   "source": [
    "matrix[2, 2]"
   ]
  },
  {
   "cell_type": "code",
   "execution_count": 163,
   "metadata": {
    "ExecuteTime": {
     "end_time": "2019-03-09T16:16:59.351168Z",
     "start_time": "2019-03-09T16:16:59.341496Z"
    }
   },
   "outputs": [
    {
     "data": {
      "text/plain": [
       "array([ 9, 10, 11])"
      ]
     },
     "execution_count": 163,
     "metadata": {},
     "output_type": "execute_result"
    }
   ],
   "source": [
    "matrix[1, 3:6]"
   ]
  },
  {
   "cell_type": "markdown",
   "metadata": {},
   "source": [
    "We can extract all the rows of `matrix` up to the 2 (not including it) and all columns up to the last one (not including it)."
   ]
  },
  {
   "cell_type": "code",
   "execution_count": 165,
   "metadata": {
    "ExecuteTime": {
     "end_time": "2019-03-09T16:18:14.786530Z",
     "start_time": "2019-03-09T16:18:14.776515Z"
    }
   },
   "outputs": [
    {
     "data": {
      "text/plain": [
       "array([[ 0,  1,  2,  3,  4],\n",
       "       [ 6,  7,  8,  9, 10]])"
      ]
     },
     "execution_count": 165,
     "metadata": {},
     "output_type": "execute_result"
    }
   ],
   "source": [
    "matrix[:2, :-1]"
   ]
  },
  {
   "cell_type": "markdown",
   "metadata": {},
   "source": [
    "Selecting only one row"
   ]
  },
  {
   "cell_type": "code",
   "execution_count": 166,
   "metadata": {
    "ExecuteTime": {
     "end_time": "2019-03-09T16:19:39.928472Z",
     "start_time": "2019-03-09T16:19:39.919485Z"
    }
   },
   "outputs": [
    {
     "data": {
      "text/plain": [
       "array([30, 31, 32, 33,  0,  0])"
      ]
     },
     "execution_count": 166,
     "metadata": {},
     "output_type": "execute_result"
    }
   ],
   "source": [
    "matrix[-1, :]"
   ]
  },
  {
   "cell_type": "markdown",
   "metadata": {},
   "source": [
    "Selecting only one column "
   ]
  },
  {
   "cell_type": "code",
   "execution_count": 167,
   "metadata": {
    "ExecuteTime": {
     "end_time": "2019-03-09T16:19:44.006993Z",
     "start_time": "2019-03-09T16:19:44.000244Z"
    }
   },
   "outputs": [
    {
     "data": {
      "text/plain": [
       "array([ 0,  6, 12, 18, 24, 30])"
      ]
     },
     "execution_count": 167,
     "metadata": {},
     "output_type": "execute_result"
    }
   ],
   "source": [
    "matrix[:, 0]"
   ]
  },
  {
   "cell_type": "markdown",
   "metadata": {},
   "source": [
    "**Conditional indexing** can also be applied!"
   ]
  },
  {
   "cell_type": "code",
   "execution_count": 170,
   "metadata": {
    "ExecuteTime": {
     "end_time": "2019-03-09T16:20:26.414844Z",
     "start_time": "2019-03-09T16:20:26.406985Z"
    }
   },
   "outputs": [
    {
     "data": {
      "text/plain": [
       "array([ 0,  2,  4,  6,  8, 10, 12, 14, 16, 18, 20, 22, 24, 26, 28, 30, 32,\n",
       "        0,  0])"
      ]
     },
     "execution_count": 170,
     "metadata": {},
     "output_type": "execute_result"
    }
   ],
   "source": [
    "matrix[matrix % 2 ==0] # This selects only the even elements in matrix"
   ]
  },
  {
   "cell_type": "markdown",
   "metadata": {},
   "source": [
    "### <span style=\"color:red\">**Exercise**</span> "
   ]
  },
  {
   "cell_type": "markdown",
   "metadata": {},
   "source": [
    "First, select the first column of the given matrix `A`, and save it in the variable `v`.\n",
    "Substitute the elements in `v` that are null for $7$.\n",
    "\n",
    "Calculate the matrix product `A` $\\cdot$ `v`. \n",
    "\n",
    "Result = `[43,  0, 98]`\n",
    "\n",
    "**Warning:** Be careful with the pointers."
   ]
  },
  {
   "cell_type": "code",
   "execution_count": 175,
   "metadata": {
    "ExecuteTime": {
     "end_time": "2019-03-09T16:28:54.596732Z",
     "start_time": "2019-03-09T16:28:54.592541Z"
    }
   },
   "outputs": [],
   "source": [
    "A = np.array([[1,2,4],[0,0,0],[0,6,8]])"
   ]
  },
  {
   "cell_type": "markdown",
   "metadata": {},
   "source": [
    "## Vectorization and broadcasting"
   ]
  },
  {
   "cell_type": "markdown",
   "metadata": {},
   "source": [
    "If it is possible, explicit `for` loops should be avoided in Python, since it is faster to use vectorized functions (i.e., functions that apply directly to vectors/tensors).\n",
    "\n",
    "Let us show that with an example. We will calculate the mean value of a list of numbers satisfying a condition."
   ]
  },
  {
   "cell_type": "code",
   "execution_count": 180,
   "metadata": {
    "ExecuteTime": {
     "end_time": "2019-03-09T17:00:20.937385Z",
     "start_time": "2019-03-09T17:00:20.892911Z"
    }
   },
   "outputs": [],
   "source": [
    "vector = np.random.randn(1000000) # 1 million numbers sampled from a normal distribution"
   ]
  },
  {
   "cell_type": "code",
   "execution_count": 183,
   "metadata": {
    "ExecuteTime": {
     "end_time": "2019-03-09T17:02:26.040366Z",
     "start_time": "2019-03-09T17:02:23.963391Z"
    }
   },
   "outputs": [
    {
     "name": "stdout",
     "output_type": "stream",
     "text": [
      "296 ms ± 12 ms per loop (mean ± std. dev. of 7 runs, 1 loop each)\n"
     ]
    }
   ],
   "source": [
    "%%timeit -n1\n",
    "s = 0\n",
    "# We use a for loop to access the elements\n",
    "for n in vector:  \n",
    "    if n>0:\n",
    "        s += n\n",
    "mean = s/len(vector)\n",
    "mean"
   ]
  },
  {
   "cell_type": "code",
   "execution_count": 184,
   "metadata": {
    "ExecuteTime": {
     "end_time": "2019-03-09T17:02:26.827279Z",
     "start_time": "2019-03-09T17:02:26.743610Z"
    }
   },
   "outputs": [
    {
     "name": "stdout",
     "output_type": "stream",
     "text": [
      "11.2 ms ± 2.09 ms per loop (mean ± std. dev. of 7 runs, 1 loop each)\n"
     ]
    }
   ],
   "source": [
    "%%timeit -n1\n",
    "# We apply the mean method to the vector directly, using the mask with the condition.\n",
    "mean = vector[vector>0].mean()  \n",
    "mean"
   ]
  },
  {
   "cell_type": "markdown",
   "metadata": {},
   "source": [
    "**Broadcasting** allows universal functions to deal in a meaningful way with inputs that do not have exactly the same shape.\n",
    "\n",
    "The first rule of broadcasting is that if all input arrays **do not have the same number of dimensions**, a “1” will be repeatedly **prepended** to the shapes of the smaller arrays until all the arrays have the same number of dimensions.\n",
    "\n",
    "The second rule of broadcasting ensures that **arrays with a size of 1 along a particular dimension act as if they had the size of the array with the largest shape along that dimension**. The value of the array element is assumed to be the same along that dimension for the “broadcast” array.\n",
    "\n",
    "After application of the broadcasting rules, the sizes of all arrays must match. More details can be found in\n",
    "\n",
    "https://docs.scipy.org/doc/numpy/user/basics.broadcasting.html"
   ]
  },
  {
   "cell_type": "markdown",
   "metadata": {},
   "source": [
    "The simplest broadcasting example occurs when an array and a scalar value are combined in an operation."
   ]
  },
  {
   "cell_type": "code",
   "execution_count": 187,
   "metadata": {
    "ExecuteTime": {
     "end_time": "2019-03-09T17:07:55.023817Z",
     "start_time": "2019-03-09T17:07:55.016452Z"
    }
   },
   "outputs": [
    {
     "data": {
      "text/plain": [
       "array([[0.        , 0.33333333, 0.66666667, 1.        ],\n",
       "       [1.33333333, 1.66666667, 2.        , 2.33333333],\n",
       "       [2.66666667, 3.        , 3.33333333, 3.66666667],\n",
       "       [4.        , 4.33333333, 4.66666667, 5.        ]])"
      ]
     },
     "execution_count": 187,
     "metadata": {},
     "output_type": "execute_result"
    }
   ],
   "source": [
    "scalar = 3.\n",
    "matrix = np.linspace(0,15,16).reshape([4,4])\n",
    "matrix / scalar"
   ]
  },
  {
   "cell_type": "markdown",
   "metadata": {},
   "source": [
    "A slightly more complicated example occurs when combining a matrix and a vector."
   ]
  },
  {
   "cell_type": "code",
   "execution_count": 202,
   "metadata": {
    "ExecuteTime": {
     "end_time": "2019-03-09T17:15:12.300169Z",
     "start_time": "2019-03-09T17:15:12.288831Z"
    }
   },
   "outputs": [
    {
     "name": "stdout",
     "output_type": "stream",
     "text": [
      "matrix\n",
      " [[0. 1. 2. 3. 4.]\n",
      " [5. 6. 7. 8. 9.]]\n",
      "vector\n",
      " [[0]\n",
      " [2]]\n",
      "matrix * vector\n",
      " [[ 0.  0.  0.  0.  0.]\n",
      " [10. 12. 14. 16. 18.]]\n"
     ]
    }
   ],
   "source": [
    "matrix = np.linspace(0,9,10).reshape([2,-1])\n",
    "# We need to transform the vector into a \"column\" vector\n",
    "vector = np.array([0,2]).reshape([2,1])\n",
    "# vector = np.array([0,2])[:,np.newaxis]\n",
    "print('matrix\\n',matrix)\n",
    "print('vector\\n',vector)\n",
    "print('matrix * vector\\n',vector * matrix)"
   ]
  },
  {
   "cell_type": "markdown",
   "metadata": {},
   "source": [
    "We can broadcast in the other axis, just using a vector with length equal to the first axis (columns)."
   ]
  },
  {
   "cell_type": "code",
   "execution_count": 204,
   "metadata": {
    "ExecuteTime": {
     "end_time": "2019-03-09T17:15:36.802989Z",
     "start_time": "2019-03-09T17:15:36.795199Z"
    }
   },
   "outputs": [
    {
     "name": "stdout",
     "output_type": "stream",
     "text": [
      "matrix\n",
      " [[0. 1. 2. 3. 4.]\n",
      " [5. 6. 7. 8. 9.]]\n",
      "vector\n",
      " [0 1 2 3 4]\n",
      "matrix * vector\n",
      " [[ 0.  1.  4.  9. 16.]\n",
      " [ 0.  6. 14. 24. 36.]]\n"
     ]
    }
   ],
   "source": [
    "matrix = np.linspace(0,9,10).reshape([2,-1])\n",
    "# We need to transform the vector into a \"column\" vector\n",
    "vector = np.array([0,1,2,3,4])\n",
    "# vector = np.array([0,2])[:,np.newaxis]\n",
    "print('matrix\\n',matrix)\n",
    "print('vector\\n',vector)\n",
    "print('matrix * vector\\n',vector * matrix)"
   ]
  },
  {
   "cell_type": "markdown",
   "metadata": {},
   "source": [
    "### <span style=\"color:red\">**Exercise**</span> "
   ]
  },
  {
   "cell_type": "markdown",
   "metadata": {},
   "source": [
    "Using two given vectors `v1` and `v2`. Build a matrix `A` with elements `A[i][j] = v1[i]**v2[j]`.\n",
    "Try to code it in one line using broadcasting."
   ]
  },
  {
   "cell_type": "code",
   "execution_count": 210,
   "metadata": {
    "ExecuteTime": {
     "end_time": "2019-03-09T17:22:49.564119Z",
     "start_time": "2019-03-09T17:22:49.559700Z"
    }
   },
   "outputs": [],
   "source": [
    "v1 = np.array([10,20,30,40,50])\n",
    "v2 = np.array([0,1,2,3])"
   ]
  },
  {
   "cell_type": "markdown",
   "metadata": {},
   "source": [
    "### <span style=\"color:red\">**Exercise**</span> "
   ]
  },
  {
   "cell_type": "markdown",
   "metadata": {},
   "source": [
    "Given an array `matrix` having the sampling of 5 heads or tails (head = 1, tails = 0) experiments of 100 trials each. Our goal is to determine if the coin is fair.\n",
    "Create two vectors `means` and `sigmas_mean`, containing the mean values for each experiment and the standard deviation of the mean $\\sigma_{\\text{mean}} = \\frac{\\sigma}{\\sqrt{n}}$.\n",
    "\n",
    "Print, for each experiment, the $95\\%$ confidence interval of the mean with the following string:\n",
    "\n",
    "'Experiment `i` . CI (95%) = [ `mean - 1.96 sigma_mean` , `mean + 1.96 sigma_mean` ]' ,\n",
    "\n",
    "being `i` the number of the experiment, `mean` the mean of the experiment and `sigma_mean` the standard deviation of the mean of the experiment.\n",
    "\n",
    "Finally, observe that the CI shrinks when increasing the number of trials per experiment."
   ]
  },
  {
   "cell_type": "code",
   "execution_count": 238,
   "metadata": {
    "ExecuteTime": {
     "end_time": "2019-03-09T17:51:22.879808Z",
     "start_time": "2019-03-09T17:51:22.875377Z"
    }
   },
   "outputs": [],
   "source": [
    "matrix = np.random.randint(0,2, (5,100))"
   ]
  },
  {
   "cell_type": "markdown",
   "metadata": {},
   "source": [
    "## Extra: EinSum"
   ]
  },
  {
   "cell_type": "markdown",
   "metadata": {},
   "source": [
    "Using the einsum function, we can specify operations on NumPy arrays using the Einstein summation convention.\n",
    "\n",
    "It can often outperform familiar array functions in terms of speed and memory efficiency, thanks to its expressive power and smart loops. "
   ]
  },
  {
   "cell_type": "markdown",
   "metadata": {},
   "source": [
    "We can start practicing with a matrix. Let us get the trace, the diagonal and the total sum."
   ]
  },
  {
   "cell_type": "code",
   "execution_count": 74,
   "metadata": {
    "ExecuteTime": {
     "end_time": "2019-03-10T19:47:00.786005Z",
     "start_time": "2019-03-10T19:47:00.779581Z"
    }
   },
   "outputs": [
    {
     "name": "stdout",
     "output_type": "stream",
     "text": [
      "A\n",
      "-------\n",
      " [[ 0  1  2  3]\n",
      " [ 4  5  6  7]\n",
      " [ 8  9 10 11]\n",
      " [12 13 14 15]]\n",
      "\n",
      "Trace\n",
      "-------\n",
      "30\n",
      "\n",
      "Diagonal\n",
      "-------\n",
      "[ 0  5 10 15]\n",
      "\n",
      "Sum of all elements\n",
      "-------\n",
      "120\n"
     ]
    }
   ],
   "source": [
    "A = np.array(np.arange(16)).reshape([4,4])\n",
    "print('A\\n-------\\n',A)\n",
    "print('\\nTrace\\n-------')\n",
    "print(np.einsum('ii -> ',A))\n",
    "print('\\nDiagonal\\n-------')\n",
    "print(np.einsum('ii -> i',A))\n",
    "print('\\nSum of all elements\\n-------')\n",
    "print(np.einsum('ij -> ',A))"
   ]
  },
  {
   "cell_type": "markdown",
   "metadata": {},
   "source": [
    "We can easily do matrix multiplication in this setting."
   ]
  },
  {
   "cell_type": "code",
   "execution_count": 75,
   "metadata": {
    "ExecuteTime": {
     "end_time": "2019-03-10T19:47:05.748975Z",
     "start_time": "2019-03-10T19:47:05.742727Z"
    }
   },
   "outputs": [
    {
     "name": "stdout",
     "output_type": "stream",
     "text": [
      "A\n",
      "-------\n",
      " [[ 0  1  2]\n",
      " [ 3  4  5]\n",
      " [ 6  7  8]\n",
      " [ 9 10 11]\n",
      " [12 13 14]]\n",
      "B\n",
      "-------\n",
      " [[ 0  1  2  3]\n",
      " [ 4  5  6  7]\n",
      " [ 8  9 10 11]]\n",
      "A x B\n",
      "-------\n",
      "[[ 20  23  26  29]\n",
      " [ 56  68  80  92]\n",
      " [ 92 113 134 155]\n",
      " [128 158 188 218]\n",
      " [164 203 242 281]]\n"
     ]
    }
   ],
   "source": [
    "A = np.array(np.arange(15)).reshape([5,3])\n",
    "print('A\\n-------\\n',A)\n",
    "B = np.array(np.arange(12)).reshape([3,4])\n",
    "print('B\\n-------\\n',B)\n",
    "print('A x B\\n-------')\n",
    "print(np.einsum('ij,jl -> il',A,B))"
   ]
  },
  {
   "cell_type": "markdown",
   "metadata": {
    "ExecuteTime": {
     "end_time": "2019-03-10T19:22:00.972724Z",
     "start_time": "2019-03-10T19:22:00.968848Z"
    }
   },
   "source": [
    "Compute the scalar product or build a matrix from the outer product of two vectors."
   ]
  },
  {
   "cell_type": "code",
   "execution_count": 69,
   "metadata": {
    "ExecuteTime": {
     "end_time": "2019-03-10T19:41:44.818580Z",
     "start_time": "2019-03-10T19:41:44.809884Z"
    }
   },
   "outputs": [
    {
     "name": "stdout",
     "output_type": "stream",
     "text": [
      "v1\n",
      "-------\n",
      " [10 20 30 40 50]\n",
      "v2\n",
      "-------\n",
      " [0 1 2 3 4]\n",
      "Scalar product\n",
      "------\n",
      "400\n",
      "Outer product\n",
      "------\n",
      "[[  0  10  20  30  40]\n",
      " [  0  20  40  60  80]\n",
      " [  0  30  60  90 120]\n",
      " [  0  40  80 120 160]\n",
      " [  0  50 100 150 200]]\n",
      "Outer product (transposed) \n",
      "------\n",
      "[[  0   0   0   0   0]\n",
      " [ 10  20  30  40  50]\n",
      " [ 20  40  60  80 100]\n",
      " [ 30  60  90 120 150]\n",
      " [ 40  80 120 160 200]]\n"
     ]
    }
   ],
   "source": [
    "v1 = 10*  np.array([1,2,3,4,5])\n",
    "print('v1\\n-------\\n',v1)\n",
    "v2 = np.array([0,1,2,3,4])\n",
    "print('v2\\n-------\\n',v2)\n",
    "print('Scalar product\\n------')\n",
    "print( np.einsum('i,i ->',v1,v2)  )\n",
    "print('Outer product\\n------')\n",
    "print( np.einsum('i,j -> i j',v1,v2)  )\n",
    "print('Outer product (transposed) \\n------')\n",
    "print( np.einsum('i,j -> j i',v1,v2)  )"
   ]
  },
  {
   "cell_type": "markdown",
   "metadata": {},
   "source": [
    "Let us go to another example, involving rank 1 and rank 2 tensors.\n",
    "\n",
    "As we explained before, we can multiply each row of `B` with each value of `A` using broadcasting, but we can do the same contracting indices. Also, we can keep track of the execution time of the calculation."
   ]
  },
  {
   "cell_type": "code",
   "execution_count": 77,
   "metadata": {
    "ExecuteTime": {
     "end_time": "2019-03-10T19:47:23.711880Z",
     "start_time": "2019-03-10T19:47:23.706507Z"
    }
   },
   "outputs": [
    {
     "name": "stdout",
     "output_type": "stream",
     "text": [
      "A\n",
      "-------\n",
      " [0 1 2]\n",
      "B\n",
      "-------\n",
      " [[ 0  1  2  3]\n",
      " [ 4  5  6  7]\n",
      " [ 8  9 10 11]]\n"
     ]
    }
   ],
   "source": [
    "A = np.array([0, 1, 2])\n",
    "print('A\\n-------\\n',A)\n",
    "B = np.array(np.arange(12)).reshape([3,4])\n",
    "print('B\\n-------\\n',B)"
   ]
  },
  {
   "cell_type": "code",
   "execution_count": 78,
   "metadata": {
    "ExecuteTime": {
     "end_time": "2019-03-10T19:47:26.197222Z",
     "start_time": "2019-03-10T19:47:24.467334Z"
    }
   },
   "outputs": [
    {
     "name": "stdout",
     "output_type": "stream",
     "text": [
      "2.11 µs ± 59 ns per loop (mean ± std. dev. of 7 runs, 100000 loops each)\n",
      "[[ 0  0  0  0]\n",
      " [ 4  5  6  7]\n",
      " [16 18 20 22]]\n"
     ]
    }
   ],
   "source": [
    "%timeit A.reshape((-1,1))*B\n",
    "print(A.reshape((-1,1))*B)"
   ]
  },
  {
   "cell_type": "code",
   "execution_count": 79,
   "metadata": {
    "ExecuteTime": {
     "end_time": "2019-03-10T19:47:32.124539Z",
     "start_time": "2019-03-10T19:47:30.189335Z"
    }
   },
   "outputs": [
    {
     "name": "stdout",
     "output_type": "stream",
     "text": [
      "2.34 µs ± 144 ns per loop (mean ± std. dev. of 7 runs, 100000 loops each)\n",
      "[[ 0  0  0  0]\n",
      " [ 4  5  6  7]\n",
      " [16 18 20 22]]\n"
     ]
    }
   ],
   "source": [
    "%timeit np.einsum('i,ij->ij',A,B)\n",
    "print(np.einsum('i,ij->ij',A,B))"
   ]
  },
  {
   "cell_type": "markdown",
   "metadata": {
    "ExecuteTime": {
     "end_time": "2019-03-10T19:07:23.612790Z",
     "start_time": "2019-03-10T19:07:23.606739Z"
    }
   },
   "source": [
    "Now, after that operation, we can sum along the first axis (keeping 3 rows)."
   ]
  },
  {
   "cell_type": "code",
   "execution_count": 80,
   "metadata": {
    "ExecuteTime": {
     "end_time": "2019-03-10T19:47:44.226033Z",
     "start_time": "2019-03-10T19:47:37.980250Z"
    }
   },
   "outputs": [
    {
     "name": "stdout",
     "output_type": "stream",
     "text": [
      "7.69 µs ± 237 ns per loop (mean ± std. dev. of 7 runs, 100000 loops each)\n",
      "[ 0 22 76]\n"
     ]
    }
   ],
   "source": [
    "%timeit np.sum(A.reshape((-1,1))*B,axis=1)\n",
    "print(np.sum(A.reshape((-1,1))*B,axis=1))"
   ]
  },
  {
   "cell_type": "code",
   "execution_count": 81,
   "metadata": {
    "ExecuteTime": {
     "end_time": "2019-03-10T19:47:46.200071Z",
     "start_time": "2019-03-10T19:47:44.254266Z"
    }
   },
   "outputs": [
    {
     "name": "stdout",
     "output_type": "stream",
     "text": [
      "2.34 µs ± 105 ns per loop (mean ± std. dev. of 7 runs, 100000 loops each)\n",
      "[ 0 22 76]\n"
     ]
    }
   ],
   "source": [
    "%timeit np.einsum('i,ij->i',A,B)\n",
    "print(np.einsum('i,ij->i',A,B))"
   ]
  },
  {
   "cell_type": "markdown",
   "metadata": {},
   "source": [
    "Or even sum all the values of the resulting matrix"
   ]
  },
  {
   "cell_type": "code",
   "execution_count": 82,
   "metadata": {
    "ExecuteTime": {
     "end_time": "2019-03-10T19:47:57.046282Z",
     "start_time": "2019-03-10T19:47:50.741050Z"
    }
   },
   "outputs": [
    {
     "name": "stdout",
     "output_type": "stream",
     "text": [
      "7.76 µs ± 440 ns per loop (mean ± std. dev. of 7 runs, 100000 loops each)\n",
      "98\n"
     ]
    }
   ],
   "source": [
    "%timeit np.sum(A.reshape((-1,1))*B)\n",
    "print(np.sum(A.reshape((-1,1))*B))"
   ]
  },
  {
   "cell_type": "code",
   "execution_count": 83,
   "metadata": {
    "ExecuteTime": {
     "end_time": "2019-03-10T19:48:00.329080Z",
     "start_time": "2019-03-10T19:47:58.566418Z"
    }
   },
   "outputs": [
    {
     "name": "stdout",
     "output_type": "stream",
     "text": [
      "2.14 µs ± 91.5 ns per loop (mean ± std. dev. of 7 runs, 100000 loops each)\n",
      "98\n"
     ]
    }
   ],
   "source": [
    "%timeit np.einsum('i,ij->',A,B)\n",
    "print(np.einsum('i,ij->',A,B))"
   ]
  },
  {
   "cell_type": "markdown",
   "metadata": {},
   "source": [
    "Let us now create a tensor of rank 3, of shape (6,2,5) and calculate the trace of the six 5x5 matrices."
   ]
  },
  {
   "cell_type": "code",
   "execution_count": 55,
   "metadata": {
    "ExecuteTime": {
     "end_time": "2019-03-10T19:37:27.620437Z",
     "start_time": "2019-03-10T19:37:27.605899Z"
    }
   },
   "outputs": [],
   "source": [
    "C = np.array(range(150)).reshape((6,5,5))"
   ]
  },
  {
   "cell_type": "code",
   "execution_count": 84,
   "metadata": {
    "ExecuteTime": {
     "end_time": "2019-03-10T19:48:12.348917Z",
     "start_time": "2019-03-10T19:48:10.616639Z"
    }
   },
   "outputs": [
    {
     "name": "stdout",
     "output_type": "stream",
     "text": [
      "2.11 µs ± 133 ns per loop (mean ± std. dev. of 7 runs, 100000 loops each)\n",
      "[ 60 185 310 435 560 685]\n"
     ]
    }
   ],
   "source": [
    "%timeit  np.einsum('i j j  -> i ',C)\n",
    "print(np.einsum('i j j  -> i ',C))"
   ]
  },
  {
   "cell_type": "code",
   "execution_count": 85,
   "metadata": {
    "ExecuteTime": {
     "end_time": "2019-03-10T19:48:21.498108Z",
     "start_time": "2019-03-10T19:48:17.581153Z"
    }
   },
   "outputs": [
    {
     "name": "stdout",
     "output_type": "stream",
     "text": [
      "4.78 µs ± 99.6 ns per loop (mean ± std. dev. of 7 runs, 100000 loops each)\n",
      "[ 60 185 310 435 560 685]\n"
     ]
    }
   ],
   "source": [
    "%timeit  np.trace(C,axis1=1,axis2=2)\n",
    "print(np.trace(C,axis1=1,axis2=2))"
   ]
  },
  {
   "cell_type": "markdown",
   "metadata": {
    "ExecuteTime": {
     "end_time": "2019-03-10T19:49:42.936177Z",
     "start_time": "2019-03-10T19:49:42.931439Z"
    }
   },
   "source": [
    "### <span style=\"color:red\">**Exercise**</span> "
   ]
  },
  {
   "cell_type": "markdown",
   "metadata": {},
   "source": [
    "Consider the large vector v defined below, and calculate v to the third power using three different methods. Compare the execution time of them."
   ]
  },
  {
   "cell_type": "code",
   "execution_count": 93,
   "metadata": {
    "ExecuteTime": {
     "end_time": "2019-03-10T19:52:14.034493Z",
     "start_time": "2019-03-10T19:52:09.897972Z"
    }
   },
   "outputs": [],
   "source": [
    "v = np.random.normal(size = int(10e7))"
   ]
  }
 ],
 "metadata": {
  "jupytext": {
   "text_representation": {
    "extension": ".py",
    "format_name": "percent",
    "format_version": "1.2",
    "jupytext_version": "1.0.1"
   }
  },
  "kernelspec": {
   "display_name": "Python 3",
   "language": "python",
   "name": "python3"
  },
  "language_info": {
   "codemirror_mode": {
    "name": "ipython",
    "version": 3
   },
   "file_extension": ".py",
   "mimetype": "text/x-python",
   "name": "python",
   "nbconvert_exporter": "python",
   "pygments_lexer": "ipython3",
   "version": "3.6.7"
  },
  "varInspector": {
   "cols": {
    "lenName": 16,
    "lenType": 16,
    "lenVar": 40
   },
   "kernels_config": {
    "python": {
     "delete_cmd_postfix": "",
     "delete_cmd_prefix": "del ",
     "library": "var_list.py",
     "varRefreshCmd": "print(var_dic_list())"
    },
    "r": {
     "delete_cmd_postfix": ") ",
     "delete_cmd_prefix": "rm(",
     "library": "var_list.r",
     "varRefreshCmd": "cat(var_dic_list()) "
    }
   },
   "types_to_exclude": [
    "module",
    "function",
    "builtin_function_or_method",
    "instance",
    "_Feature"
   ],
   "window_display": false
  }
 },
 "nbformat": 4,
 "nbformat_minor": 2
}
