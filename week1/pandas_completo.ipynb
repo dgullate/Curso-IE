{
  "nbformat": 4,
  "nbformat_minor": 0,
  "metadata": {
    "colab": {
      "name": "pandas_completo.ipynb",
      "version": "0.3.2",
      "provenance": [],
      "include_colab_link": true
    },
    "kernelspec": {
      "display_name": "Python 3",
      "language": "python",
      "name": "python3"
    }
  },
  "cells": [
    {
      "cell_type": "markdown",
      "metadata": {
        "id": "view-in-github",
        "colab_type": "text"
      },
      "source": [
        "<a href=\"https://colab.research.google.com/github/dgullate/Curso-IE/blob/master/week1/pandas_completo.ipynb\" target=\"_parent\"><img src=\"https://colab.research.google.com/assets/colab-badge.svg\" alt=\"Open In Colab\"/></a>"
      ]
    },
    {
      "metadata": {
        "id": "qANQASdRSDnw",
        "colab_type": "text"
      },
      "cell_type": "markdown",
      "source": [
        "# Pandas\n",
        "![alt text](https://pandas.pydata.org/_static/pandas_logo.png)"
      ]
    },
    {
      "metadata": {
        "id": "pGnEiYDtSDny",
        "colab_type": "text"
      },
      "cell_type": "markdown",
      "source": [
        "Pandas es una librería de python que proporciona unas estructuras de datos fáciles de usar y de alto rendimiento, con objeto de realizar tareas de análisis de datos.\n",
        "\n",
        "Los objetos principales son los `dataframes`, unas estructuras de datos bidimensionales en forma de tabla"
      ]
    },
    {
      "metadata": {
        "id": "3_eLj_ioFMIE",
        "colab_type": "code",
        "outputId": "79b67cdc-82ce-4c25-a3da-5147e7676ef0",
        "colab": {
          "base_uri": "https://localhost:8080/",
          "height": 122
        }
      },
      "cell_type": "code",
      "source": [
        "from google.colab import drive\n",
        "drive.mount('/content/drive')\n"
      ],
      "execution_count": 0,
      "outputs": [
        {
          "output_type": "stream",
          "text": [
            "Go to this URL in a browser: https://accounts.google.com/o/oauth2/auth?client_id=947318989803-6bn6qk8qdgf4n4g3pfee6491hc0brc4i.apps.googleusercontent.com&redirect_uri=urn%3Aietf%3Awg%3Aoauth%3A2.0%3Aoob&scope=email%20https%3A%2F%2Fwww.googleapis.com%2Fauth%2Fdocs.test%20https%3A%2F%2Fwww.googleapis.com%2Fauth%2Fdrive%20https%3A%2F%2Fwww.googleapis.com%2Fauth%2Fdrive.photos.readonly%20https%3A%2F%2Fwww.googleapis.com%2Fauth%2Fpeopleapi.readonly&response_type=code\n",
            "\n",
            "Enter your authorization code:\n",
            "··········\n",
            "Mounted at /content/drive\n"
          ],
          "name": "stdout"
        }
      ]
    },
    {
      "metadata": {
        "id": "3Wc_n-LrESVs",
        "colab_type": "code",
        "colab": {
          "base_uri": "https://localhost:8080/",
          "height": 34
        },
        "outputId": "d1d2f692-b4e4-4b3d-8158-0fb09c63be33"
      },
      "cell_type": "code",
      "source": [
        "print ('I see it in the repo')"
      ],
      "execution_count": 2,
      "outputs": [
        {
          "output_type": "stream",
          "text": [
            "I see it in the repo\n"
          ],
          "name": "stdout"
        }
      ]
    },
    {
      "metadata": {
        "id": "i0OwjnPoFYQY",
        "colab_type": "code",
        "outputId": "575ed83d-096b-47de-f8cc-d6f5ddb222cb",
        "colab": {
          "base_uri": "https://localhost:8080/",
          "height": 34
        }
      },
      "cell_type": "code",
      "source": [
        "cd My\\ Drive"
      ],
      "execution_count": 0,
      "outputs": [
        {
          "output_type": "stream",
          "text": [
            "/content/drive/My Drive\n"
          ],
          "name": "stdout"
        }
      ]
    },
    {
      "metadata": {
        "id": "I5xCOWmpHqQW",
        "colab_type": "code",
        "colab": {}
      },
      "cell_type": "code",
      "source": [
        "f=open('prueba.txt','w')\n",
        "f.write('Hola nundo!')\n",
        "f.close()"
      ],
      "execution_count": 0,
      "outputs": []
    },
    {
      "metadata": {
        "id": "d5RYtBY6FyVb",
        "colab_type": "code",
        "outputId": "0f614275-0fc3-4f9b-9a2c-fa98eaa2c925",
        "colab": {
          "base_uri": "https://localhost:8080/",
          "height": 51
        }
      },
      "cell_type": "code",
      "source": [
        "!git clone https://github.com/dgullate/Curso-IE.git"
      ],
      "execution_count": 0,
      "outputs": [
        {
          "output_type": "stream",
          "text": [
            "Cloning into 'Curso-IE'...\n",
            "fatal: could not read Username for 'https://github.com': No such device or address\n"
          ],
          "name": "stdout"
        }
      ]
    },
    {
      "metadata": {
        "id": "TcUDKjjZXsQJ",
        "colab_type": "code",
        "colab": {}
      },
      "cell_type": "code",
      "source": [
        "import pandas as pd #Así importamos la librería pandas\n",
        "import numpy as np"
      ],
      "execution_count": 0,
      "outputs": []
    },
    {
      "metadata": {
        "id": "HPtY6bauSDnz",
        "colab_type": "text"
      },
      "cell_type": "markdown",
      "source": [
        "## Creación de dataframes\n",
        "\n",
        "Podemos crear un dataframe a partir de varias Series: cada una actuará a modo de registro en nuestra tabla. Por ejemplo, crearemos una tabla con tres registros y cuyas columnas sean `Cost`, `Item Purchased` y `Name`:"
      ]
    },
    {
      "metadata": {
        "id": "g0IX0jubSDn0",
        "colab_type": "code",
        "colab": {}
      },
      "cell_type": "code",
      "source": [
        "\n",
        "purchase_1 = pd.Series({'Name': 'Chris',\n",
        "                        'Item Purchased': 'Dog Food',\n",
        "                        'Cost': 22.50})\n",
        "purchase_2 = pd.Series({'Name': 'Kevyn',\n",
        "                        'Item Purchased': 'Kitty Litter',\n",
        "                        'Cost': 2.50})\n",
        "purchase_3 = pd.Series({'Name': 'Vinod',\n",
        "                        'Item Purchased': 'Bird Seed',\n",
        "                        'Cost': 5.00})\n",
        "\n",
        "df = pd.DataFrame([purchase_1, purchase_2, purchase_3], index=['Store 1', 'Store 1', 'Store 2'])"
      ],
      "execution_count": 0,
      "outputs": []
    },
    {
      "metadata": {
        "id": "VTUGiQW2SDn4",
        "colab_type": "text"
      },
      "cell_type": "markdown",
      "source": [
        "Observamos que basta proporcionarle una serie por cada entrada en nuestra tabla. Además, los campos de la Serie deben ser los mismos a lo largo de cada registro, con el fin de que se pueda formar correctamente la tabla.\n",
        "El argumento index sirve para introducir identificadores a cada registro. Por defecto será un número entero, pero en este caso hemos utilizado strings."
      ]
    },
    {
      "metadata": {
        "id": "xaPJSsTTSDn5",
        "colab_type": "code",
        "outputId": "13e98ab1-75f3-4c02-c1bf-0d5aab874b87",
        "colab": {
          "base_uri": "https://localhost:8080/",
          "height": 142
        }
      },
      "cell_type": "code",
      "source": [
        "df.head()"
      ],
      "execution_count": 0,
      "outputs": [
        {
          "output_type": "execute_result",
          "data": {
            "text/html": [
              "<div>\n",
              "<style scoped>\n",
              "    .dataframe tbody tr th:only-of-type {\n",
              "        vertical-align: middle;\n",
              "    }\n",
              "\n",
              "    .dataframe tbody tr th {\n",
              "        vertical-align: top;\n",
              "    }\n",
              "\n",
              "    .dataframe thead th {\n",
              "        text-align: right;\n",
              "    }\n",
              "</style>\n",
              "<table border=\"1\" class=\"dataframe\">\n",
              "  <thead>\n",
              "    <tr style=\"text-align: right;\">\n",
              "      <th></th>\n",
              "      <th>Cost</th>\n",
              "      <th>Item Purchased</th>\n",
              "      <th>Name</th>\n",
              "    </tr>\n",
              "  </thead>\n",
              "  <tbody>\n",
              "    <tr>\n",
              "      <th>Store 1</th>\n",
              "      <td>22.5</td>\n",
              "      <td>Dog Food</td>\n",
              "      <td>Chris</td>\n",
              "    </tr>\n",
              "    <tr>\n",
              "      <th>Store 1</th>\n",
              "      <td>2.5</td>\n",
              "      <td>Kitty Litter</td>\n",
              "      <td>Kevyn</td>\n",
              "    </tr>\n",
              "    <tr>\n",
              "      <th>Store 2</th>\n",
              "      <td>5.0</td>\n",
              "      <td>Bird Seed</td>\n",
              "      <td>Vinod</td>\n",
              "    </tr>\n",
              "  </tbody>\n",
              "</table>\n",
              "</div>"
            ],
            "text/plain": [
              "         Cost Item Purchased   Name\n",
              "Store 1  22.5       Dog Food  Chris\n",
              "Store 1   2.5   Kitty Litter  Kevyn\n",
              "Store 2   5.0      Bird Seed  Vinod"
            ]
          },
          "metadata": {
            "tags": []
          },
          "execution_count": 2
        }
      ]
    },
    {
      "metadata": {
        "id": "YYgVtlzwSDn_",
        "colab_type": "text"
      },
      "cell_type": "markdown",
      "source": [
        "Para seleccionar un subconjunto de registros conociendo su índice, podemos utilizar `loc`"
      ]
    },
    {
      "metadata": {
        "id": "G5c7I4MPSDn_",
        "colab_type": "code",
        "outputId": "8ef9bc98-5ef9-457a-b31f-7afe230f2f47",
        "colab": {
          "base_uri": "https://localhost:8080/",
          "height": 111
        }
      },
      "cell_type": "code",
      "source": [
        "df.loc['Store 1']"
      ],
      "execution_count": 0,
      "outputs": [
        {
          "output_type": "execute_result",
          "data": {
            "text/html": [
              "<div>\n",
              "<style scoped>\n",
              "    .dataframe tbody tr th:only-of-type {\n",
              "        vertical-align: middle;\n",
              "    }\n",
              "\n",
              "    .dataframe tbody tr th {\n",
              "        vertical-align: top;\n",
              "    }\n",
              "\n",
              "    .dataframe thead th {\n",
              "        text-align: right;\n",
              "    }\n",
              "</style>\n",
              "<table border=\"1\" class=\"dataframe\">\n",
              "  <thead>\n",
              "    <tr style=\"text-align: right;\">\n",
              "      <th></th>\n",
              "      <th>Cost</th>\n",
              "      <th>Item Purchased</th>\n",
              "      <th>Name</th>\n",
              "    </tr>\n",
              "  </thead>\n",
              "  <tbody>\n",
              "    <tr>\n",
              "      <th>Store 1</th>\n",
              "      <td>22.5</td>\n",
              "      <td>Dog Food</td>\n",
              "      <td>Chris</td>\n",
              "    </tr>\n",
              "    <tr>\n",
              "      <th>Store 1</th>\n",
              "      <td>2.5</td>\n",
              "      <td>Kitty Litter</td>\n",
              "      <td>Kevyn</td>\n",
              "    </tr>\n",
              "  </tbody>\n",
              "</table>\n",
              "</div>"
            ],
            "text/plain": [
              "         Cost Item Purchased   Name\n",
              "Store 1  22.5       Dog Food  Chris\n",
              "Store 1   2.5   Kitty Litter  Kevyn"
            ]
          },
          "metadata": {
            "tags": []
          },
          "execution_count": 3
        }
      ]
    },
    {
      "metadata": {
        "id": "upMs4c-gSDoD",
        "colab_type": "text"
      },
      "cell_type": "markdown",
      "source": [
        "Si además queremos especificar una columna en concreto, podemos decírselo separandolo con una coma"
      ]
    },
    {
      "metadata": {
        "id": "iH9bkuLNSDoE",
        "colab_type": "code",
        "outputId": "64921ece-e675-4b85-bec0-715c949c4996",
        "colab": {
          "base_uri": "https://localhost:8080/",
          "height": 68
        }
      },
      "cell_type": "code",
      "source": [
        "df.loc['Store 1', 'Cost']"
      ],
      "execution_count": 0,
      "outputs": [
        {
          "output_type": "execute_result",
          "data": {
            "text/plain": [
              "Store 1    22.5\n",
              "Store 1     2.5\n",
              "Name: Cost, dtype: float64"
            ]
          },
          "metadata": {
            "tags": []
          },
          "execution_count": 5
        }
      ]
    },
    {
      "metadata": {
        "id": "vo5NouphSDoI",
        "colab_type": "text"
      },
      "cell_type": "markdown",
      "source": [
        "A su vez, estos argumentos pueden ser listas!"
      ]
    },
    {
      "metadata": {
        "id": "NpIQMgWBSDoJ",
        "colab_type": "code",
        "outputId": "ac4c0aaf-9caf-43d1-d2fb-9be3b04502ca",
        "colab": {
          "base_uri": "https://localhost:8080/",
          "height": 142
        }
      },
      "cell_type": "code",
      "source": [
        "df.loc[['Store 1', 'Store 2'], ['Cost','Name']]"
      ],
      "execution_count": 0,
      "outputs": [
        {
          "output_type": "execute_result",
          "data": {
            "text/html": [
              "<div>\n",
              "<style scoped>\n",
              "    .dataframe tbody tr th:only-of-type {\n",
              "        vertical-align: middle;\n",
              "    }\n",
              "\n",
              "    .dataframe tbody tr th {\n",
              "        vertical-align: top;\n",
              "    }\n",
              "\n",
              "    .dataframe thead th {\n",
              "        text-align: right;\n",
              "    }\n",
              "</style>\n",
              "<table border=\"1\" class=\"dataframe\">\n",
              "  <thead>\n",
              "    <tr style=\"text-align: right;\">\n",
              "      <th></th>\n",
              "      <th>Cost</th>\n",
              "      <th>Name</th>\n",
              "    </tr>\n",
              "  </thead>\n",
              "  <tbody>\n",
              "    <tr>\n",
              "      <th>Store 1</th>\n",
              "      <td>22.5</td>\n",
              "      <td>Chris</td>\n",
              "    </tr>\n",
              "    <tr>\n",
              "      <th>Store 1</th>\n",
              "      <td>2.5</td>\n",
              "      <td>Kevyn</td>\n",
              "    </tr>\n",
              "    <tr>\n",
              "      <th>Store 2</th>\n",
              "      <td>5.0</td>\n",
              "      <td>Vinod</td>\n",
              "    </tr>\n",
              "  </tbody>\n",
              "</table>\n",
              "</div>"
            ],
            "text/plain": [
              "         Cost   Name\n",
              "Store 1  22.5  Chris\n",
              "Store 1   2.5  Kevyn\n",
              "Store 2   5.0  Vinod"
            ]
          },
          "metadata": {
            "tags": []
          },
          "execution_count": 6
        }
      ]
    },
    {
      "metadata": {
        "id": "I7qx21NySDoM",
        "colab_type": "text"
      },
      "cell_type": "markdown",
      "source": [
        "Si en lugar de mediante los strings queremos acceder utilizando las posiciones (como enteros), podemos usar `iloc`.\n",
        "Por ejemplo, el siguiente comando toma las dos primeras filas y todas las columnas"
      ]
    },
    {
      "metadata": {
        "id": "qCZqSkjdSDoN",
        "colab_type": "code",
        "outputId": "7f77a70e-f318-4405-eb35-dd6db99250cd",
        "colab": {
          "base_uri": "https://localhost:8080/",
          "height": 142
        }
      },
      "cell_type": "code",
      "source": [
        "df.iloc[:3, :]"
      ],
      "execution_count": 0,
      "outputs": [
        {
          "output_type": "execute_result",
          "data": {
            "text/html": [
              "<div>\n",
              "<style scoped>\n",
              "    .dataframe tbody tr th:only-of-type {\n",
              "        vertical-align: middle;\n",
              "    }\n",
              "\n",
              "    .dataframe tbody tr th {\n",
              "        vertical-align: top;\n",
              "    }\n",
              "\n",
              "    .dataframe thead th {\n",
              "        text-align: right;\n",
              "    }\n",
              "</style>\n",
              "<table border=\"1\" class=\"dataframe\">\n",
              "  <thead>\n",
              "    <tr style=\"text-align: right;\">\n",
              "      <th></th>\n",
              "      <th>Cost</th>\n",
              "      <th>Item Purchased</th>\n",
              "      <th>Name</th>\n",
              "    </tr>\n",
              "  </thead>\n",
              "  <tbody>\n",
              "    <tr>\n",
              "      <th>Store 1</th>\n",
              "      <td>22.5</td>\n",
              "      <td>Dog Food</td>\n",
              "      <td>Chris</td>\n",
              "    </tr>\n",
              "    <tr>\n",
              "      <th>Store 1</th>\n",
              "      <td>2.5</td>\n",
              "      <td>Kitty Litter</td>\n",
              "      <td>Kevyn</td>\n",
              "    </tr>\n",
              "    <tr>\n",
              "      <th>Store 2</th>\n",
              "      <td>5.0</td>\n",
              "      <td>Bird Seed</td>\n",
              "      <td>Vinod</td>\n",
              "    </tr>\n",
              "  </tbody>\n",
              "</table>\n",
              "</div>"
            ],
            "text/plain": [
              "         Cost Item Purchased   Name\n",
              "Store 1  22.5       Dog Food  Chris\n",
              "Store 1   2.5   Kitty Litter  Kevyn\n",
              "Store 2   5.0      Bird Seed  Vinod"
            ]
          },
          "metadata": {
            "tags": []
          },
          "execution_count": 7
        }
      ]
    },
    {
      "metadata": {
        "id": "dH32AbnQSDoR",
        "colab_type": "text"
      },
      "cell_type": "markdown",
      "source": [
        "<br>\n",
        "Si queremos borrar algún registro conociendo su índice, basta usar `drop`"
      ]
    },
    {
      "metadata": {
        "id": "WPPljSsfSDoS",
        "colab_type": "code",
        "outputId": "d14dc5b3-fef2-4652-937a-082d3a7bdb75",
        "colab": {
          "base_uri": "https://localhost:8080/",
          "height": 80
        }
      },
      "cell_type": "code",
      "source": [
        "df.drop('Store 1')"
      ],
      "execution_count": 0,
      "outputs": [
        {
          "output_type": "execute_result",
          "data": {
            "text/html": [
              "<div>\n",
              "<style scoped>\n",
              "    .dataframe tbody tr th:only-of-type {\n",
              "        vertical-align: middle;\n",
              "    }\n",
              "\n",
              "    .dataframe tbody tr th {\n",
              "        vertical-align: top;\n",
              "    }\n",
              "\n",
              "    .dataframe thead th {\n",
              "        text-align: right;\n",
              "    }\n",
              "</style>\n",
              "<table border=\"1\" class=\"dataframe\">\n",
              "  <thead>\n",
              "    <tr style=\"text-align: right;\">\n",
              "      <th></th>\n",
              "      <th>Cost</th>\n",
              "      <th>Item Purchased</th>\n",
              "      <th>Name</th>\n",
              "    </tr>\n",
              "  </thead>\n",
              "  <tbody>\n",
              "    <tr>\n",
              "      <th>Store 2</th>\n",
              "      <td>5.0</td>\n",
              "      <td>Bird Seed</td>\n",
              "      <td>Vinod</td>\n",
              "    </tr>\n",
              "  </tbody>\n",
              "</table>\n",
              "</div>"
            ],
            "text/plain": [
              "         Cost Item Purchased   Name\n",
              "Store 2   5.0      Bird Seed  Vinod"
            ]
          },
          "metadata": {
            "tags": []
          },
          "execution_count": 8
        }
      ]
    },
    {
      "metadata": {
        "id": "ANg9xokQSDoV",
        "colab_type": "code",
        "outputId": "a1c35301-f8ef-42e1-92ab-db4973175b86",
        "colab": {
          "base_uri": "https://localhost:8080/",
          "height": 142
        }
      },
      "cell_type": "code",
      "source": [
        "df"
      ],
      "execution_count": 0,
      "outputs": [
        {
          "output_type": "execute_result",
          "data": {
            "text/html": [
              "<div>\n",
              "<style scoped>\n",
              "    .dataframe tbody tr th:only-of-type {\n",
              "        vertical-align: middle;\n",
              "    }\n",
              "\n",
              "    .dataframe tbody tr th {\n",
              "        vertical-align: top;\n",
              "    }\n",
              "\n",
              "    .dataframe thead th {\n",
              "        text-align: right;\n",
              "    }\n",
              "</style>\n",
              "<table border=\"1\" class=\"dataframe\">\n",
              "  <thead>\n",
              "    <tr style=\"text-align: right;\">\n",
              "      <th></th>\n",
              "      <th>Cost</th>\n",
              "      <th>Item Purchased</th>\n",
              "      <th>Name</th>\n",
              "    </tr>\n",
              "  </thead>\n",
              "  <tbody>\n",
              "    <tr>\n",
              "      <th>Store 1</th>\n",
              "      <td>22.5</td>\n",
              "      <td>Dog Food</td>\n",
              "      <td>Chris</td>\n",
              "    </tr>\n",
              "    <tr>\n",
              "      <th>Store 1</th>\n",
              "      <td>2.5</td>\n",
              "      <td>Kitty Litter</td>\n",
              "      <td>Kevyn</td>\n",
              "    </tr>\n",
              "    <tr>\n",
              "      <th>Store 2</th>\n",
              "      <td>5.0</td>\n",
              "      <td>Bird Seed</td>\n",
              "      <td>Vinod</td>\n",
              "    </tr>\n",
              "  </tbody>\n",
              "</table>\n",
              "</div>"
            ],
            "text/plain": [
              "         Cost Item Purchased   Name\n",
              "Store 1  22.5       Dog Food  Chris\n",
              "Store 1   2.5   Kitty Litter  Kevyn\n",
              "Store 2   5.0      Bird Seed  Vinod"
            ]
          },
          "metadata": {
            "tags": []
          },
          "execution_count": 9
        }
      ]
    },
    {
      "metadata": {
        "id": "dpikaPQJSDoZ",
        "colab_type": "text"
      },
      "cell_type": "markdown",
      "source": [
        "Esto es porque `drop` por defecto crea una copia con el nuevo dataframe actualizado. En lugar de `df2 = df.drop(...)` podemos hacer lo siguiente para que la actualización se realice en el mismo lugar de memoria del objeto `df`"
      ]
    },
    {
      "metadata": {
        "id": "KE8p9NlTSDoa",
        "colab_type": "code",
        "outputId": "33e34c42-cfc7-408b-cf77-b9d8a01fff17",
        "colab": {
          "base_uri": "https://localhost:8080/",
          "height": 80
        }
      },
      "cell_type": "code",
      "source": [
        "df.drop('Store 1', inplace=True)\n",
        "df"
      ],
      "execution_count": 0,
      "outputs": [
        {
          "output_type": "execute_result",
          "data": {
            "text/html": [
              "<div>\n",
              "<style scoped>\n",
              "    .dataframe tbody tr th:only-of-type {\n",
              "        vertical-align: middle;\n",
              "    }\n",
              "\n",
              "    .dataframe tbody tr th {\n",
              "        vertical-align: top;\n",
              "    }\n",
              "\n",
              "    .dataframe thead th {\n",
              "        text-align: right;\n",
              "    }\n",
              "</style>\n",
              "<table border=\"1\" class=\"dataframe\">\n",
              "  <thead>\n",
              "    <tr style=\"text-align: right;\">\n",
              "      <th></th>\n",
              "      <th>Cost</th>\n",
              "      <th>Item Purchased</th>\n",
              "      <th>Name</th>\n",
              "    </tr>\n",
              "  </thead>\n",
              "  <tbody>\n",
              "    <tr>\n",
              "      <th>Store 2</th>\n",
              "      <td>5.0</td>\n",
              "      <td>Bird Seed</td>\n",
              "      <td>Vinod</td>\n",
              "    </tr>\n",
              "  </tbody>\n",
              "</table>\n",
              "</div>"
            ],
            "text/plain": [
              "         Cost Item Purchased   Name\n",
              "Store 2   5.0      Bird Seed  Vinod"
            ]
          },
          "metadata": {
            "tags": []
          },
          "execution_count": 10
        }
      ]
    },
    {
      "metadata": {
        "id": "6NTH8dyTSDod",
        "colab_type": "text"
      },
      "cell_type": "markdown",
      "source": [
        "## Carga de dataframes"
      ]
    },
    {
      "metadata": {
        "id": "FMQFSPk4SDod",
        "colab_type": "text"
      },
      "cell_type": "markdown",
      "source": [
        "En la realidad no trabajaremos con datos directamente creados en el código, si no que éstos ya se encontrarán en archivos del disco duro. Pandas cuenta con funciones para leer el contenido de estos archivos, y volcarlos a un dataframe.\n",
        "\n",
        "Las funciones que se ocupan de esto comienzan por `pd.read_...`. Existen para documentos excel, html, json. Nosotros utilizaremos la más común, `pd.read_csv`, que lee del respectivo archivo .csv (cada fila es un registro de la tabla, y los valores están separados por comas)."
      ]
    },
    {
      "metadata": {
        "id": "TsPXLqJ9SDoe",
        "colab_type": "text"
      },
      "cell_type": "markdown",
      "source": [
        "A continuación cargaremos datos `tips.csv` en un `dataframe` de `pandas`. Esta base de datos, contiene información acerca de las cuentas de un restaurante. En concreto contiene las siguientes variables:\n",
        "\n",
        "* `total_bill`: Valor de la cuenta.\n",
        "* `tip`: Valor de la propina.\n",
        "* `sex`: Género del pagador (Femal/Male).\n",
        "* `smoker`: Variable categórica que indica si el pagador es o no fumador (Yes/No).\n",
        "* `day`: Día de la semana.\n",
        "* `time`: Variable categórica que indica si la cuenta corresponde a una comida o una cena (Dinner/Lunch).\n",
        "* `size`: Número de comensales en la mesa."
      ]
    },
    {
      "metadata": {
        "id": "iWf79Fe8SDof",
        "colab_type": "code",
        "colab": {}
      },
      "cell_type": "code",
      "source": [
        "url='https://raw.githubusercontent.com/dgullate/Curso-IE/master/Week_1/data/tips.csv?token=Ah4VEo9dUJUyOCk4VzAjbBdTy3fvC3ULks5cqJhCwA%3D%3D'\n",
        "df = pd.read_csv(url)"
      ],
      "execution_count": 0,
      "outputs": []
    },
    {
      "metadata": {
        "id": "tcWiWjgRSDoh",
        "colab_type": "code",
        "outputId": "a6646fbc-9ec8-44b9-8e0b-8d340c641e53",
        "colab": {
          "base_uri": "https://localhost:8080/",
          "height": 1969
        }
      },
      "cell_type": "code",
      "source": [
        "df"
      ],
      "execution_count": 0,
      "outputs": [
        {
          "output_type": "execute_result",
          "data": {
            "text/html": [
              "<div>\n",
              "<style scoped>\n",
              "    .dataframe tbody tr th:only-of-type {\n",
              "        vertical-align: middle;\n",
              "    }\n",
              "\n",
              "    .dataframe tbody tr th {\n",
              "        vertical-align: top;\n",
              "    }\n",
              "\n",
              "    .dataframe thead th {\n",
              "        text-align: right;\n",
              "    }\n",
              "</style>\n",
              "<table border=\"1\" class=\"dataframe\">\n",
              "  <thead>\n",
              "    <tr style=\"text-align: right;\">\n",
              "      <th></th>\n",
              "      <th>total_bill</th>\n",
              "      <th>tip</th>\n",
              "      <th>sex</th>\n",
              "      <th>smoker</th>\n",
              "      <th>day</th>\n",
              "      <th>time</th>\n",
              "      <th>size</th>\n",
              "    </tr>\n",
              "  </thead>\n",
              "  <tbody>\n",
              "    <tr>\n",
              "      <th>0</th>\n",
              "      <td>16.99</td>\n",
              "      <td>1.01</td>\n",
              "      <td>Female</td>\n",
              "      <td>No</td>\n",
              "      <td>Sun</td>\n",
              "      <td>Dinner</td>\n",
              "      <td>2</td>\n",
              "    </tr>\n",
              "    <tr>\n",
              "      <th>1</th>\n",
              "      <td>10.34</td>\n",
              "      <td>1.66</td>\n",
              "      <td>Male</td>\n",
              "      <td>No</td>\n",
              "      <td>Sun</td>\n",
              "      <td>Dinner</td>\n",
              "      <td>3</td>\n",
              "    </tr>\n",
              "    <tr>\n",
              "      <th>2</th>\n",
              "      <td>21.01</td>\n",
              "      <td>3.50</td>\n",
              "      <td>Male</td>\n",
              "      <td>No</td>\n",
              "      <td>Sun</td>\n",
              "      <td>Dinner</td>\n",
              "      <td>3</td>\n",
              "    </tr>\n",
              "    <tr>\n",
              "      <th>3</th>\n",
              "      <td>23.68</td>\n",
              "      <td>3.31</td>\n",
              "      <td>Male</td>\n",
              "      <td>No</td>\n",
              "      <td>Sun</td>\n",
              "      <td>Dinner</td>\n",
              "      <td>2</td>\n",
              "    </tr>\n",
              "    <tr>\n",
              "      <th>4</th>\n",
              "      <td>24.59</td>\n",
              "      <td>3.61</td>\n",
              "      <td>Female</td>\n",
              "      <td>No</td>\n",
              "      <td>Sun</td>\n",
              "      <td>Dinner</td>\n",
              "      <td>4</td>\n",
              "    </tr>\n",
              "    <tr>\n",
              "      <th>5</th>\n",
              "      <td>25.29</td>\n",
              "      <td>4.71</td>\n",
              "      <td>Male</td>\n",
              "      <td>No</td>\n",
              "      <td>Sun</td>\n",
              "      <td>Dinner</td>\n",
              "      <td>4</td>\n",
              "    </tr>\n",
              "    <tr>\n",
              "      <th>6</th>\n",
              "      <td>8.77</td>\n",
              "      <td>2.00</td>\n",
              "      <td>Male</td>\n",
              "      <td>No</td>\n",
              "      <td>Sun</td>\n",
              "      <td>Dinner</td>\n",
              "      <td>2</td>\n",
              "    </tr>\n",
              "    <tr>\n",
              "      <th>7</th>\n",
              "      <td>26.88</td>\n",
              "      <td>3.12</td>\n",
              "      <td>Male</td>\n",
              "      <td>No</td>\n",
              "      <td>Sun</td>\n",
              "      <td>Dinner</td>\n",
              "      <td>4</td>\n",
              "    </tr>\n",
              "    <tr>\n",
              "      <th>8</th>\n",
              "      <td>15.04</td>\n",
              "      <td>1.96</td>\n",
              "      <td>Male</td>\n",
              "      <td>No</td>\n",
              "      <td>Sun</td>\n",
              "      <td>Dinner</td>\n",
              "      <td>2</td>\n",
              "    </tr>\n",
              "    <tr>\n",
              "      <th>9</th>\n",
              "      <td>14.78</td>\n",
              "      <td>3.23</td>\n",
              "      <td>Male</td>\n",
              "      <td>No</td>\n",
              "      <td>Sun</td>\n",
              "      <td>Dinner</td>\n",
              "      <td>2</td>\n",
              "    </tr>\n",
              "    <tr>\n",
              "      <th>10</th>\n",
              "      <td>10.27</td>\n",
              "      <td>1.71</td>\n",
              "      <td>Male</td>\n",
              "      <td>No</td>\n",
              "      <td>Sun</td>\n",
              "      <td>Dinner</td>\n",
              "      <td>2</td>\n",
              "    </tr>\n",
              "    <tr>\n",
              "      <th>11</th>\n",
              "      <td>35.26</td>\n",
              "      <td>5.00</td>\n",
              "      <td>Female</td>\n",
              "      <td>No</td>\n",
              "      <td>Sun</td>\n",
              "      <td>Dinner</td>\n",
              "      <td>4</td>\n",
              "    </tr>\n",
              "    <tr>\n",
              "      <th>12</th>\n",
              "      <td>15.42</td>\n",
              "      <td>1.57</td>\n",
              "      <td>Male</td>\n",
              "      <td>No</td>\n",
              "      <td>Sun</td>\n",
              "      <td>Dinner</td>\n",
              "      <td>2</td>\n",
              "    </tr>\n",
              "    <tr>\n",
              "      <th>13</th>\n",
              "      <td>18.43</td>\n",
              "      <td>3.00</td>\n",
              "      <td>Male</td>\n",
              "      <td>No</td>\n",
              "      <td>Sun</td>\n",
              "      <td>Dinner</td>\n",
              "      <td>4</td>\n",
              "    </tr>\n",
              "    <tr>\n",
              "      <th>14</th>\n",
              "      <td>14.83</td>\n",
              "      <td>3.02</td>\n",
              "      <td>Female</td>\n",
              "      <td>No</td>\n",
              "      <td>Sun</td>\n",
              "      <td>Dinner</td>\n",
              "      <td>2</td>\n",
              "    </tr>\n",
              "    <tr>\n",
              "      <th>15</th>\n",
              "      <td>21.58</td>\n",
              "      <td>3.92</td>\n",
              "      <td>Male</td>\n",
              "      <td>No</td>\n",
              "      <td>Sun</td>\n",
              "      <td>Dinner</td>\n",
              "      <td>2</td>\n",
              "    </tr>\n",
              "    <tr>\n",
              "      <th>16</th>\n",
              "      <td>10.33</td>\n",
              "      <td>1.67</td>\n",
              "      <td>Female</td>\n",
              "      <td>No</td>\n",
              "      <td>Sun</td>\n",
              "      <td>Dinner</td>\n",
              "      <td>3</td>\n",
              "    </tr>\n",
              "    <tr>\n",
              "      <th>17</th>\n",
              "      <td>16.29</td>\n",
              "      <td>3.71</td>\n",
              "      <td>Male</td>\n",
              "      <td>No</td>\n",
              "      <td>Sun</td>\n",
              "      <td>Dinner</td>\n",
              "      <td>3</td>\n",
              "    </tr>\n",
              "    <tr>\n",
              "      <th>18</th>\n",
              "      <td>16.97</td>\n",
              "      <td>3.50</td>\n",
              "      <td>Female</td>\n",
              "      <td>No</td>\n",
              "      <td>Sun</td>\n",
              "      <td>Dinner</td>\n",
              "      <td>3</td>\n",
              "    </tr>\n",
              "    <tr>\n",
              "      <th>19</th>\n",
              "      <td>20.65</td>\n",
              "      <td>3.35</td>\n",
              "      <td>Male</td>\n",
              "      <td>No</td>\n",
              "      <td>Sat</td>\n",
              "      <td>Dinner</td>\n",
              "      <td>3</td>\n",
              "    </tr>\n",
              "    <tr>\n",
              "      <th>20</th>\n",
              "      <td>17.92</td>\n",
              "      <td>4.08</td>\n",
              "      <td>Male</td>\n",
              "      <td>No</td>\n",
              "      <td>Sat</td>\n",
              "      <td>Dinner</td>\n",
              "      <td>2</td>\n",
              "    </tr>\n",
              "    <tr>\n",
              "      <th>21</th>\n",
              "      <td>20.29</td>\n",
              "      <td>2.75</td>\n",
              "      <td>Female</td>\n",
              "      <td>No</td>\n",
              "      <td>Sat</td>\n",
              "      <td>Dinner</td>\n",
              "      <td>2</td>\n",
              "    </tr>\n",
              "    <tr>\n",
              "      <th>22</th>\n",
              "      <td>15.77</td>\n",
              "      <td>2.23</td>\n",
              "      <td>Female</td>\n",
              "      <td>No</td>\n",
              "      <td>Sat</td>\n",
              "      <td>Dinner</td>\n",
              "      <td>2</td>\n",
              "    </tr>\n",
              "    <tr>\n",
              "      <th>23</th>\n",
              "      <td>39.42</td>\n",
              "      <td>7.58</td>\n",
              "      <td>Male</td>\n",
              "      <td>No</td>\n",
              "      <td>Sat</td>\n",
              "      <td>Dinner</td>\n",
              "      <td>4</td>\n",
              "    </tr>\n",
              "    <tr>\n",
              "      <th>24</th>\n",
              "      <td>19.82</td>\n",
              "      <td>3.18</td>\n",
              "      <td>Male</td>\n",
              "      <td>No</td>\n",
              "      <td>Sat</td>\n",
              "      <td>Dinner</td>\n",
              "      <td>2</td>\n",
              "    </tr>\n",
              "    <tr>\n",
              "      <th>25</th>\n",
              "      <td>17.81</td>\n",
              "      <td>2.34</td>\n",
              "      <td>Male</td>\n",
              "      <td>No</td>\n",
              "      <td>Sat</td>\n",
              "      <td>Dinner</td>\n",
              "      <td>4</td>\n",
              "    </tr>\n",
              "    <tr>\n",
              "      <th>26</th>\n",
              "      <td>13.37</td>\n",
              "      <td>2.00</td>\n",
              "      <td>Male</td>\n",
              "      <td>No</td>\n",
              "      <td>Sat</td>\n",
              "      <td>Dinner</td>\n",
              "      <td>2</td>\n",
              "    </tr>\n",
              "    <tr>\n",
              "      <th>27</th>\n",
              "      <td>12.69</td>\n",
              "      <td>2.00</td>\n",
              "      <td>Male</td>\n",
              "      <td>No</td>\n",
              "      <td>Sat</td>\n",
              "      <td>Dinner</td>\n",
              "      <td>2</td>\n",
              "    </tr>\n",
              "    <tr>\n",
              "      <th>28</th>\n",
              "      <td>21.70</td>\n",
              "      <td>4.30</td>\n",
              "      <td>Male</td>\n",
              "      <td>No</td>\n",
              "      <td>Sat</td>\n",
              "      <td>Dinner</td>\n",
              "      <td>2</td>\n",
              "    </tr>\n",
              "    <tr>\n",
              "      <th>29</th>\n",
              "      <td>19.65</td>\n",
              "      <td>3.00</td>\n",
              "      <td>Female</td>\n",
              "      <td>No</td>\n",
              "      <td>Sat</td>\n",
              "      <td>Dinner</td>\n",
              "      <td>2</td>\n",
              "    </tr>\n",
              "    <tr>\n",
              "      <th>...</th>\n",
              "      <td>...</td>\n",
              "      <td>...</td>\n",
              "      <td>...</td>\n",
              "      <td>...</td>\n",
              "      <td>...</td>\n",
              "      <td>...</td>\n",
              "      <td>...</td>\n",
              "    </tr>\n",
              "    <tr>\n",
              "      <th>214</th>\n",
              "      <td>28.17</td>\n",
              "      <td>6.50</td>\n",
              "      <td>Female</td>\n",
              "      <td>Yes</td>\n",
              "      <td>Sat</td>\n",
              "      <td>Dinner</td>\n",
              "      <td>3</td>\n",
              "    </tr>\n",
              "    <tr>\n",
              "      <th>215</th>\n",
              "      <td>12.90</td>\n",
              "      <td>1.10</td>\n",
              "      <td>Female</td>\n",
              "      <td>Yes</td>\n",
              "      <td>Sat</td>\n",
              "      <td>Dinner</td>\n",
              "      <td>2</td>\n",
              "    </tr>\n",
              "    <tr>\n",
              "      <th>216</th>\n",
              "      <td>28.15</td>\n",
              "      <td>3.00</td>\n",
              "      <td>Male</td>\n",
              "      <td>Yes</td>\n",
              "      <td>Sat</td>\n",
              "      <td>Dinner</td>\n",
              "      <td>5</td>\n",
              "    </tr>\n",
              "    <tr>\n",
              "      <th>217</th>\n",
              "      <td>11.59</td>\n",
              "      <td>1.50</td>\n",
              "      <td>Male</td>\n",
              "      <td>Yes</td>\n",
              "      <td>Sat</td>\n",
              "      <td>Dinner</td>\n",
              "      <td>2</td>\n",
              "    </tr>\n",
              "    <tr>\n",
              "      <th>218</th>\n",
              "      <td>7.74</td>\n",
              "      <td>1.44</td>\n",
              "      <td>Male</td>\n",
              "      <td>Yes</td>\n",
              "      <td>Sat</td>\n",
              "      <td>Dinner</td>\n",
              "      <td>2</td>\n",
              "    </tr>\n",
              "    <tr>\n",
              "      <th>219</th>\n",
              "      <td>30.14</td>\n",
              "      <td>3.09</td>\n",
              "      <td>Female</td>\n",
              "      <td>Yes</td>\n",
              "      <td>Sat</td>\n",
              "      <td>Dinner</td>\n",
              "      <td>4</td>\n",
              "    </tr>\n",
              "    <tr>\n",
              "      <th>220</th>\n",
              "      <td>12.16</td>\n",
              "      <td>2.20</td>\n",
              "      <td>Male</td>\n",
              "      <td>Yes</td>\n",
              "      <td>Fri</td>\n",
              "      <td>Lunch</td>\n",
              "      <td>2</td>\n",
              "    </tr>\n",
              "    <tr>\n",
              "      <th>221</th>\n",
              "      <td>13.42</td>\n",
              "      <td>3.48</td>\n",
              "      <td>Female</td>\n",
              "      <td>Yes</td>\n",
              "      <td>Fri</td>\n",
              "      <td>Lunch</td>\n",
              "      <td>2</td>\n",
              "    </tr>\n",
              "    <tr>\n",
              "      <th>222</th>\n",
              "      <td>8.58</td>\n",
              "      <td>1.92</td>\n",
              "      <td>Male</td>\n",
              "      <td>Yes</td>\n",
              "      <td>Fri</td>\n",
              "      <td>Lunch</td>\n",
              "      <td>1</td>\n",
              "    </tr>\n",
              "    <tr>\n",
              "      <th>223</th>\n",
              "      <td>15.98</td>\n",
              "      <td>3.00</td>\n",
              "      <td>Female</td>\n",
              "      <td>No</td>\n",
              "      <td>Fri</td>\n",
              "      <td>Lunch</td>\n",
              "      <td>3</td>\n",
              "    </tr>\n",
              "    <tr>\n",
              "      <th>224</th>\n",
              "      <td>13.42</td>\n",
              "      <td>1.58</td>\n",
              "      <td>Male</td>\n",
              "      <td>Yes</td>\n",
              "      <td>Fri</td>\n",
              "      <td>Lunch</td>\n",
              "      <td>2</td>\n",
              "    </tr>\n",
              "    <tr>\n",
              "      <th>225</th>\n",
              "      <td>16.27</td>\n",
              "      <td>2.50</td>\n",
              "      <td>Female</td>\n",
              "      <td>Yes</td>\n",
              "      <td>Fri</td>\n",
              "      <td>Lunch</td>\n",
              "      <td>2</td>\n",
              "    </tr>\n",
              "    <tr>\n",
              "      <th>226</th>\n",
              "      <td>10.09</td>\n",
              "      <td>2.00</td>\n",
              "      <td>Female</td>\n",
              "      <td>Yes</td>\n",
              "      <td>Fri</td>\n",
              "      <td>Lunch</td>\n",
              "      <td>2</td>\n",
              "    </tr>\n",
              "    <tr>\n",
              "      <th>227</th>\n",
              "      <td>20.45</td>\n",
              "      <td>3.00</td>\n",
              "      <td>Male</td>\n",
              "      <td>No</td>\n",
              "      <td>Sat</td>\n",
              "      <td>Dinner</td>\n",
              "      <td>4</td>\n",
              "    </tr>\n",
              "    <tr>\n",
              "      <th>228</th>\n",
              "      <td>13.28</td>\n",
              "      <td>2.72</td>\n",
              "      <td>Male</td>\n",
              "      <td>No</td>\n",
              "      <td>Sat</td>\n",
              "      <td>Dinner</td>\n",
              "      <td>2</td>\n",
              "    </tr>\n",
              "    <tr>\n",
              "      <th>229</th>\n",
              "      <td>22.12</td>\n",
              "      <td>2.88</td>\n",
              "      <td>Female</td>\n",
              "      <td>Yes</td>\n",
              "      <td>Sat</td>\n",
              "      <td>Dinner</td>\n",
              "      <td>2</td>\n",
              "    </tr>\n",
              "    <tr>\n",
              "      <th>230</th>\n",
              "      <td>24.01</td>\n",
              "      <td>2.00</td>\n",
              "      <td>Male</td>\n",
              "      <td>Yes</td>\n",
              "      <td>Sat</td>\n",
              "      <td>Dinner</td>\n",
              "      <td>4</td>\n",
              "    </tr>\n",
              "    <tr>\n",
              "      <th>231</th>\n",
              "      <td>15.69</td>\n",
              "      <td>3.00</td>\n",
              "      <td>Male</td>\n",
              "      <td>Yes</td>\n",
              "      <td>Sat</td>\n",
              "      <td>Dinner</td>\n",
              "      <td>3</td>\n",
              "    </tr>\n",
              "    <tr>\n",
              "      <th>232</th>\n",
              "      <td>11.61</td>\n",
              "      <td>3.39</td>\n",
              "      <td>Male</td>\n",
              "      <td>No</td>\n",
              "      <td>Sat</td>\n",
              "      <td>Dinner</td>\n",
              "      <td>2</td>\n",
              "    </tr>\n",
              "    <tr>\n",
              "      <th>233</th>\n",
              "      <td>10.77</td>\n",
              "      <td>1.47</td>\n",
              "      <td>Male</td>\n",
              "      <td>No</td>\n",
              "      <td>Sat</td>\n",
              "      <td>Dinner</td>\n",
              "      <td>2</td>\n",
              "    </tr>\n",
              "    <tr>\n",
              "      <th>234</th>\n",
              "      <td>15.53</td>\n",
              "      <td>3.00</td>\n",
              "      <td>Male</td>\n",
              "      <td>Yes</td>\n",
              "      <td>Sat</td>\n",
              "      <td>Dinner</td>\n",
              "      <td>2</td>\n",
              "    </tr>\n",
              "    <tr>\n",
              "      <th>235</th>\n",
              "      <td>10.07</td>\n",
              "      <td>1.25</td>\n",
              "      <td>Male</td>\n",
              "      <td>No</td>\n",
              "      <td>Sat</td>\n",
              "      <td>Dinner</td>\n",
              "      <td>2</td>\n",
              "    </tr>\n",
              "    <tr>\n",
              "      <th>236</th>\n",
              "      <td>12.60</td>\n",
              "      <td>1.00</td>\n",
              "      <td>Male</td>\n",
              "      <td>Yes</td>\n",
              "      <td>Sat</td>\n",
              "      <td>Dinner</td>\n",
              "      <td>2</td>\n",
              "    </tr>\n",
              "    <tr>\n",
              "      <th>237</th>\n",
              "      <td>32.83</td>\n",
              "      <td>1.17</td>\n",
              "      <td>Male</td>\n",
              "      <td>Yes</td>\n",
              "      <td>Sat</td>\n",
              "      <td>Dinner</td>\n",
              "      <td>2</td>\n",
              "    </tr>\n",
              "    <tr>\n",
              "      <th>238</th>\n",
              "      <td>35.83</td>\n",
              "      <td>4.67</td>\n",
              "      <td>Female</td>\n",
              "      <td>No</td>\n",
              "      <td>Sat</td>\n",
              "      <td>Dinner</td>\n",
              "      <td>3</td>\n",
              "    </tr>\n",
              "    <tr>\n",
              "      <th>239</th>\n",
              "      <td>29.03</td>\n",
              "      <td>5.92</td>\n",
              "      <td>Male</td>\n",
              "      <td>No</td>\n",
              "      <td>Sat</td>\n",
              "      <td>Dinner</td>\n",
              "      <td>3</td>\n",
              "    </tr>\n",
              "    <tr>\n",
              "      <th>240</th>\n",
              "      <td>27.18</td>\n",
              "      <td>2.00</td>\n",
              "      <td>Female</td>\n",
              "      <td>Yes</td>\n",
              "      <td>Sat</td>\n",
              "      <td>Dinner</td>\n",
              "      <td>2</td>\n",
              "    </tr>\n",
              "    <tr>\n",
              "      <th>241</th>\n",
              "      <td>22.67</td>\n",
              "      <td>2.00</td>\n",
              "      <td>Male</td>\n",
              "      <td>Yes</td>\n",
              "      <td>Sat</td>\n",
              "      <td>Dinner</td>\n",
              "      <td>2</td>\n",
              "    </tr>\n",
              "    <tr>\n",
              "      <th>242</th>\n",
              "      <td>17.82</td>\n",
              "      <td>1.75</td>\n",
              "      <td>Male</td>\n",
              "      <td>No</td>\n",
              "      <td>Sat</td>\n",
              "      <td>Dinner</td>\n",
              "      <td>2</td>\n",
              "    </tr>\n",
              "    <tr>\n",
              "      <th>243</th>\n",
              "      <td>18.78</td>\n",
              "      <td>3.00</td>\n",
              "      <td>Female</td>\n",
              "      <td>No</td>\n",
              "      <td>Thur</td>\n",
              "      <td>Dinner</td>\n",
              "      <td>2</td>\n",
              "    </tr>\n",
              "  </tbody>\n",
              "</table>\n",
              "<p>244 rows × 7 columns</p>\n",
              "</div>"
            ],
            "text/plain": [
              "     total_bill   tip     sex smoker   day    time  size\n",
              "0         16.99  1.01  Female     No   Sun  Dinner     2\n",
              "1         10.34  1.66    Male     No   Sun  Dinner     3\n",
              "2         21.01  3.50    Male     No   Sun  Dinner     3\n",
              "3         23.68  3.31    Male     No   Sun  Dinner     2\n",
              "4         24.59  3.61  Female     No   Sun  Dinner     4\n",
              "5         25.29  4.71    Male     No   Sun  Dinner     4\n",
              "6          8.77  2.00    Male     No   Sun  Dinner     2\n",
              "7         26.88  3.12    Male     No   Sun  Dinner     4\n",
              "8         15.04  1.96    Male     No   Sun  Dinner     2\n",
              "9         14.78  3.23    Male     No   Sun  Dinner     2\n",
              "10        10.27  1.71    Male     No   Sun  Dinner     2\n",
              "11        35.26  5.00  Female     No   Sun  Dinner     4\n",
              "12        15.42  1.57    Male     No   Sun  Dinner     2\n",
              "13        18.43  3.00    Male     No   Sun  Dinner     4\n",
              "14        14.83  3.02  Female     No   Sun  Dinner     2\n",
              "15        21.58  3.92    Male     No   Sun  Dinner     2\n",
              "16        10.33  1.67  Female     No   Sun  Dinner     3\n",
              "17        16.29  3.71    Male     No   Sun  Dinner     3\n",
              "18        16.97  3.50  Female     No   Sun  Dinner     3\n",
              "19        20.65  3.35    Male     No   Sat  Dinner     3\n",
              "20        17.92  4.08    Male     No   Sat  Dinner     2\n",
              "21        20.29  2.75  Female     No   Sat  Dinner     2\n",
              "22        15.77  2.23  Female     No   Sat  Dinner     2\n",
              "23        39.42  7.58    Male     No   Sat  Dinner     4\n",
              "24        19.82  3.18    Male     No   Sat  Dinner     2\n",
              "25        17.81  2.34    Male     No   Sat  Dinner     4\n",
              "26        13.37  2.00    Male     No   Sat  Dinner     2\n",
              "27        12.69  2.00    Male     No   Sat  Dinner     2\n",
              "28        21.70  4.30    Male     No   Sat  Dinner     2\n",
              "29        19.65  3.00  Female     No   Sat  Dinner     2\n",
              "..          ...   ...     ...    ...   ...     ...   ...\n",
              "214       28.17  6.50  Female    Yes   Sat  Dinner     3\n",
              "215       12.90  1.10  Female    Yes   Sat  Dinner     2\n",
              "216       28.15  3.00    Male    Yes   Sat  Dinner     5\n",
              "217       11.59  1.50    Male    Yes   Sat  Dinner     2\n",
              "218        7.74  1.44    Male    Yes   Sat  Dinner     2\n",
              "219       30.14  3.09  Female    Yes   Sat  Dinner     4\n",
              "220       12.16  2.20    Male    Yes   Fri   Lunch     2\n",
              "221       13.42  3.48  Female    Yes   Fri   Lunch     2\n",
              "222        8.58  1.92    Male    Yes   Fri   Lunch     1\n",
              "223       15.98  3.00  Female     No   Fri   Lunch     3\n",
              "224       13.42  1.58    Male    Yes   Fri   Lunch     2\n",
              "225       16.27  2.50  Female    Yes   Fri   Lunch     2\n",
              "226       10.09  2.00  Female    Yes   Fri   Lunch     2\n",
              "227       20.45  3.00    Male     No   Sat  Dinner     4\n",
              "228       13.28  2.72    Male     No   Sat  Dinner     2\n",
              "229       22.12  2.88  Female    Yes   Sat  Dinner     2\n",
              "230       24.01  2.00    Male    Yes   Sat  Dinner     4\n",
              "231       15.69  3.00    Male    Yes   Sat  Dinner     3\n",
              "232       11.61  3.39    Male     No   Sat  Dinner     2\n",
              "233       10.77  1.47    Male     No   Sat  Dinner     2\n",
              "234       15.53  3.00    Male    Yes   Sat  Dinner     2\n",
              "235       10.07  1.25    Male     No   Sat  Dinner     2\n",
              "236       12.60  1.00    Male    Yes   Sat  Dinner     2\n",
              "237       32.83  1.17    Male    Yes   Sat  Dinner     2\n",
              "238       35.83  4.67  Female     No   Sat  Dinner     3\n",
              "239       29.03  5.92    Male     No   Sat  Dinner     3\n",
              "240       27.18  2.00  Female    Yes   Sat  Dinner     2\n",
              "241       22.67  2.00    Male    Yes   Sat  Dinner     2\n",
              "242       17.82  1.75    Male     No   Sat  Dinner     2\n",
              "243       18.78  3.00  Female     No  Thur  Dinner     2\n",
              "\n",
              "[244 rows x 7 columns]"
            ]
          },
          "metadata": {
            "tags": []
          },
          "execution_count": 9
        }
      ]
    },
    {
      "metadata": {
        "id": "kRdJ6ddlSDol",
        "colab_type": "text"
      },
      "cell_type": "markdown",
      "source": [
        "Además del nombre del archivo con los datos, `read_csv` tiene otros argumentos opcionales. Los más utilizados son:\n",
        "    \n",
        "* nrows: lee solo cierto número de filas (útil para hacer una prueba antes de procesar un archivo muy grande).\n",
        "* usecols: el dataframe resultante solo tendrá estas columnas\n",
        "* dtype: especifica el tipo de cada columna (por defecto, pandas trata de inferirlo automáticamente de los datos, pero a veces es necesario: por ejemplo para que lea un número como string en lugar de int)."
      ]
    },
    {
      "metadata": {
        "id": "Z0I7OZFDSDom",
        "colab_type": "text"
      },
      "cell_type": "markdown",
      "source": [
        "## Análisis exploratorio"
      ]
    },
    {
      "metadata": {
        "id": "Ktex7B0XSDon",
        "colab_type": "text"
      },
      "cell_type": "markdown",
      "source": [
        "Una vez ya tenemos los datos cargados, podemos echarles un vistazo mediante las siguientes cuatro funciones: `head` y `tail` para observar las primeras y últimas filas, respectivamente, `describe` para obtener algunos estadísticos básicos, e `info` para obtener datos sobre los tipos"
      ]
    },
    {
      "metadata": {
        "id": "eXwjKOWISDoo",
        "colab_type": "code",
        "outputId": "51eb71b4-1857-4311-b5c9-b7542ac4dd7b",
        "colab": {
          "base_uri": "https://localhost:8080/",
          "height": 359
        }
      },
      "cell_type": "code",
      "source": [
        "df.head(10) #Entre paréntesis, el número de entradas que queremos mostrar. Por defecto,\n",
        "            # este número es 5."
      ],
      "execution_count": 0,
      "outputs": [
        {
          "output_type": "execute_result",
          "data": {
            "text/html": [
              "<div>\n",
              "<style scoped>\n",
              "    .dataframe tbody tr th:only-of-type {\n",
              "        vertical-align: middle;\n",
              "    }\n",
              "\n",
              "    .dataframe tbody tr th {\n",
              "        vertical-align: top;\n",
              "    }\n",
              "\n",
              "    .dataframe thead th {\n",
              "        text-align: right;\n",
              "    }\n",
              "</style>\n",
              "<table border=\"1\" class=\"dataframe\">\n",
              "  <thead>\n",
              "    <tr style=\"text-align: right;\">\n",
              "      <th></th>\n",
              "      <th>total_bill</th>\n",
              "      <th>tip</th>\n",
              "      <th>sex</th>\n",
              "      <th>smoker</th>\n",
              "      <th>day</th>\n",
              "      <th>time</th>\n",
              "      <th>size</th>\n",
              "    </tr>\n",
              "  </thead>\n",
              "  <tbody>\n",
              "    <tr>\n",
              "      <th>0</th>\n",
              "      <td>16.99</td>\n",
              "      <td>1.01</td>\n",
              "      <td>Female</td>\n",
              "      <td>No</td>\n",
              "      <td>Sun</td>\n",
              "      <td>Dinner</td>\n",
              "      <td>2</td>\n",
              "    </tr>\n",
              "    <tr>\n",
              "      <th>1</th>\n",
              "      <td>10.34</td>\n",
              "      <td>1.66</td>\n",
              "      <td>Male</td>\n",
              "      <td>No</td>\n",
              "      <td>Sun</td>\n",
              "      <td>Dinner</td>\n",
              "      <td>3</td>\n",
              "    </tr>\n",
              "    <tr>\n",
              "      <th>2</th>\n",
              "      <td>21.01</td>\n",
              "      <td>3.50</td>\n",
              "      <td>Male</td>\n",
              "      <td>No</td>\n",
              "      <td>Sun</td>\n",
              "      <td>Dinner</td>\n",
              "      <td>3</td>\n",
              "    </tr>\n",
              "    <tr>\n",
              "      <th>3</th>\n",
              "      <td>23.68</td>\n",
              "      <td>3.31</td>\n",
              "      <td>Male</td>\n",
              "      <td>No</td>\n",
              "      <td>Sun</td>\n",
              "      <td>Dinner</td>\n",
              "      <td>2</td>\n",
              "    </tr>\n",
              "    <tr>\n",
              "      <th>4</th>\n",
              "      <td>24.59</td>\n",
              "      <td>3.61</td>\n",
              "      <td>Female</td>\n",
              "      <td>No</td>\n",
              "      <td>Sun</td>\n",
              "      <td>Dinner</td>\n",
              "      <td>4</td>\n",
              "    </tr>\n",
              "    <tr>\n",
              "      <th>5</th>\n",
              "      <td>25.29</td>\n",
              "      <td>4.71</td>\n",
              "      <td>Male</td>\n",
              "      <td>No</td>\n",
              "      <td>Sun</td>\n",
              "      <td>Dinner</td>\n",
              "      <td>4</td>\n",
              "    </tr>\n",
              "    <tr>\n",
              "      <th>6</th>\n",
              "      <td>8.77</td>\n",
              "      <td>2.00</td>\n",
              "      <td>Male</td>\n",
              "      <td>No</td>\n",
              "      <td>Sun</td>\n",
              "      <td>Dinner</td>\n",
              "      <td>2</td>\n",
              "    </tr>\n",
              "    <tr>\n",
              "      <th>7</th>\n",
              "      <td>26.88</td>\n",
              "      <td>3.12</td>\n",
              "      <td>Male</td>\n",
              "      <td>No</td>\n",
              "      <td>Sun</td>\n",
              "      <td>Dinner</td>\n",
              "      <td>4</td>\n",
              "    </tr>\n",
              "    <tr>\n",
              "      <th>8</th>\n",
              "      <td>15.04</td>\n",
              "      <td>1.96</td>\n",
              "      <td>Male</td>\n",
              "      <td>No</td>\n",
              "      <td>Sun</td>\n",
              "      <td>Dinner</td>\n",
              "      <td>2</td>\n",
              "    </tr>\n",
              "    <tr>\n",
              "      <th>9</th>\n",
              "      <td>14.78</td>\n",
              "      <td>3.23</td>\n",
              "      <td>Male</td>\n",
              "      <td>No</td>\n",
              "      <td>Sun</td>\n",
              "      <td>Dinner</td>\n",
              "      <td>2</td>\n",
              "    </tr>\n",
              "  </tbody>\n",
              "</table>\n",
              "</div>"
            ],
            "text/plain": [
              "   total_bill   tip     sex smoker  day    time  size\n",
              "0       16.99  1.01  Female     No  Sun  Dinner     2\n",
              "1       10.34  1.66    Male     No  Sun  Dinner     3\n",
              "2       21.01  3.50    Male     No  Sun  Dinner     3\n",
              "3       23.68  3.31    Male     No  Sun  Dinner     2\n",
              "4       24.59  3.61  Female     No  Sun  Dinner     4\n",
              "5       25.29  4.71    Male     No  Sun  Dinner     4\n",
              "6        8.77  2.00    Male     No  Sun  Dinner     2\n",
              "7       26.88  3.12    Male     No  Sun  Dinner     4\n",
              "8       15.04  1.96    Male     No  Sun  Dinner     2\n",
              "9       14.78  3.23    Male     No  Sun  Dinner     2"
            ]
          },
          "metadata": {
            "tags": []
          },
          "execution_count": 10
        }
      ]
    },
    {
      "metadata": {
        "id": "X8pm75uTSDor",
        "colab_type": "code",
        "outputId": "5d9c922f-829b-48ae-efcd-c629df79d34c",
        "colab": {
          "base_uri": "https://localhost:8080/",
          "height": 142
        }
      },
      "cell_type": "code",
      "source": [
        "df.tail(3)"
      ],
      "execution_count": 0,
      "outputs": [
        {
          "output_type": "execute_result",
          "data": {
            "text/html": [
              "<div>\n",
              "<style scoped>\n",
              "    .dataframe tbody tr th:only-of-type {\n",
              "        vertical-align: middle;\n",
              "    }\n",
              "\n",
              "    .dataframe tbody tr th {\n",
              "        vertical-align: top;\n",
              "    }\n",
              "\n",
              "    .dataframe thead th {\n",
              "        text-align: right;\n",
              "    }\n",
              "</style>\n",
              "<table border=\"1\" class=\"dataframe\">\n",
              "  <thead>\n",
              "    <tr style=\"text-align: right;\">\n",
              "      <th></th>\n",
              "      <th>total_bill</th>\n",
              "      <th>tip</th>\n",
              "      <th>sex</th>\n",
              "      <th>smoker</th>\n",
              "      <th>day</th>\n",
              "      <th>time</th>\n",
              "      <th>size</th>\n",
              "    </tr>\n",
              "  </thead>\n",
              "  <tbody>\n",
              "    <tr>\n",
              "      <th>241</th>\n",
              "      <td>22.67</td>\n",
              "      <td>2.00</td>\n",
              "      <td>Male</td>\n",
              "      <td>Yes</td>\n",
              "      <td>Sat</td>\n",
              "      <td>Dinner</td>\n",
              "      <td>2</td>\n",
              "    </tr>\n",
              "    <tr>\n",
              "      <th>242</th>\n",
              "      <td>17.82</td>\n",
              "      <td>1.75</td>\n",
              "      <td>Male</td>\n",
              "      <td>No</td>\n",
              "      <td>Sat</td>\n",
              "      <td>Dinner</td>\n",
              "      <td>2</td>\n",
              "    </tr>\n",
              "    <tr>\n",
              "      <th>243</th>\n",
              "      <td>18.78</td>\n",
              "      <td>3.00</td>\n",
              "      <td>Female</td>\n",
              "      <td>No</td>\n",
              "      <td>Thur</td>\n",
              "      <td>Dinner</td>\n",
              "      <td>2</td>\n",
              "    </tr>\n",
              "  </tbody>\n",
              "</table>\n",
              "</div>"
            ],
            "text/plain": [
              "     total_bill   tip     sex smoker   day    time  size\n",
              "241       22.67  2.00    Male    Yes   Sat  Dinner     2\n",
              "242       17.82  1.75    Male     No   Sat  Dinner     2\n",
              "243       18.78  3.00  Female     No  Thur  Dinner     2"
            ]
          },
          "metadata": {
            "tags": []
          },
          "execution_count": 11
        }
      ]
    },
    {
      "metadata": {
        "id": "ulHE7zjASDou",
        "colab_type": "code",
        "outputId": "ff2e2625-21a4-4a61-846f-382a70d25947",
        "colab": {
          "base_uri": "https://localhost:8080/",
          "height": 297
        }
      },
      "cell_type": "code",
      "source": [
        "df.describe()"
      ],
      "execution_count": 0,
      "outputs": [
        {
          "output_type": "execute_result",
          "data": {
            "text/html": [
              "<div>\n",
              "<style scoped>\n",
              "    .dataframe tbody tr th:only-of-type {\n",
              "        vertical-align: middle;\n",
              "    }\n",
              "\n",
              "    .dataframe tbody tr th {\n",
              "        vertical-align: top;\n",
              "    }\n",
              "\n",
              "    .dataframe thead th {\n",
              "        text-align: right;\n",
              "    }\n",
              "</style>\n",
              "<table border=\"1\" class=\"dataframe\">\n",
              "  <thead>\n",
              "    <tr style=\"text-align: right;\">\n",
              "      <th></th>\n",
              "      <th>total_bill</th>\n",
              "      <th>tip</th>\n",
              "      <th>size</th>\n",
              "    </tr>\n",
              "  </thead>\n",
              "  <tbody>\n",
              "    <tr>\n",
              "      <th>count</th>\n",
              "      <td>244.000000</td>\n",
              "      <td>244.000000</td>\n",
              "      <td>244.000000</td>\n",
              "    </tr>\n",
              "    <tr>\n",
              "      <th>mean</th>\n",
              "      <td>19.785943</td>\n",
              "      <td>2.998279</td>\n",
              "      <td>2.569672</td>\n",
              "    </tr>\n",
              "    <tr>\n",
              "      <th>std</th>\n",
              "      <td>8.902412</td>\n",
              "      <td>1.383638</td>\n",
              "      <td>0.951100</td>\n",
              "    </tr>\n",
              "    <tr>\n",
              "      <th>min</th>\n",
              "      <td>3.070000</td>\n",
              "      <td>1.000000</td>\n",
              "      <td>1.000000</td>\n",
              "    </tr>\n",
              "    <tr>\n",
              "      <th>25%</th>\n",
              "      <td>13.347500</td>\n",
              "      <td>2.000000</td>\n",
              "      <td>2.000000</td>\n",
              "    </tr>\n",
              "    <tr>\n",
              "      <th>50%</th>\n",
              "      <td>17.795000</td>\n",
              "      <td>2.900000</td>\n",
              "      <td>2.000000</td>\n",
              "    </tr>\n",
              "    <tr>\n",
              "      <th>75%</th>\n",
              "      <td>24.127500</td>\n",
              "      <td>3.562500</td>\n",
              "      <td>3.000000</td>\n",
              "    </tr>\n",
              "    <tr>\n",
              "      <th>max</th>\n",
              "      <td>50.810000</td>\n",
              "      <td>10.000000</td>\n",
              "      <td>6.000000</td>\n",
              "    </tr>\n",
              "  </tbody>\n",
              "</table>\n",
              "</div>"
            ],
            "text/plain": [
              "       total_bill         tip        size\n",
              "count  244.000000  244.000000  244.000000\n",
              "mean    19.785943    2.998279    2.569672\n",
              "std      8.902412    1.383638    0.951100\n",
              "min      3.070000    1.000000    1.000000\n",
              "25%     13.347500    2.000000    2.000000\n",
              "50%     17.795000    2.900000    2.000000\n",
              "75%     24.127500    3.562500    3.000000\n",
              "max     50.810000   10.000000    6.000000"
            ]
          },
          "metadata": {
            "tags": []
          },
          "execution_count": 12
        }
      ]
    },
    {
      "metadata": {
        "id": "eQ8nXCQkSDo0",
        "colab_type": "text"
      },
      "cell_type": "markdown",
      "source": [
        "Para datos de tipo numérico, `describe` proporciona información del número de valores no omitidos (count), la media, la desviación estándar, los valores mínimo y máximo y algunos cuantiles, entre ellos la mediana (50%).\n",
        "\n",
        "En el caso de que la tabla contenga tanto datos numéricos como categóricos, `describe` por defecto solo muestra los estadísticos para las numéricas. Si queremos que también muestre los otros:"
      ]
    },
    {
      "metadata": {
        "id": "i8bbRv8ASDo1",
        "colab_type": "code",
        "outputId": "823fd21d-5efb-45d2-f45a-b7bc3ece190e",
        "colab": {
          "base_uri": "https://localhost:8080/",
          "height": 390
        }
      },
      "cell_type": "code",
      "source": [
        "df.describe(include='all')"
      ],
      "execution_count": 0,
      "outputs": [
        {
          "output_type": "execute_result",
          "data": {
            "text/html": [
              "<div>\n",
              "<style scoped>\n",
              "    .dataframe tbody tr th:only-of-type {\n",
              "        vertical-align: middle;\n",
              "    }\n",
              "\n",
              "    .dataframe tbody tr th {\n",
              "        vertical-align: top;\n",
              "    }\n",
              "\n",
              "    .dataframe thead th {\n",
              "        text-align: right;\n",
              "    }\n",
              "</style>\n",
              "<table border=\"1\" class=\"dataframe\">\n",
              "  <thead>\n",
              "    <tr style=\"text-align: right;\">\n",
              "      <th></th>\n",
              "      <th>total_bill</th>\n",
              "      <th>tip</th>\n",
              "      <th>sex</th>\n",
              "      <th>smoker</th>\n",
              "      <th>day</th>\n",
              "      <th>time</th>\n",
              "      <th>size</th>\n",
              "    </tr>\n",
              "  </thead>\n",
              "  <tbody>\n",
              "    <tr>\n",
              "      <th>count</th>\n",
              "      <td>244.000000</td>\n",
              "      <td>244.000000</td>\n",
              "      <td>244</td>\n",
              "      <td>244</td>\n",
              "      <td>244</td>\n",
              "      <td>244</td>\n",
              "      <td>244.000000</td>\n",
              "    </tr>\n",
              "    <tr>\n",
              "      <th>unique</th>\n",
              "      <td>NaN</td>\n",
              "      <td>NaN</td>\n",
              "      <td>2</td>\n",
              "      <td>2</td>\n",
              "      <td>4</td>\n",
              "      <td>2</td>\n",
              "      <td>NaN</td>\n",
              "    </tr>\n",
              "    <tr>\n",
              "      <th>top</th>\n",
              "      <td>NaN</td>\n",
              "      <td>NaN</td>\n",
              "      <td>Male</td>\n",
              "      <td>No</td>\n",
              "      <td>Sat</td>\n",
              "      <td>Dinner</td>\n",
              "      <td>NaN</td>\n",
              "    </tr>\n",
              "    <tr>\n",
              "      <th>freq</th>\n",
              "      <td>NaN</td>\n",
              "      <td>NaN</td>\n",
              "      <td>157</td>\n",
              "      <td>151</td>\n",
              "      <td>87</td>\n",
              "      <td>176</td>\n",
              "      <td>NaN</td>\n",
              "    </tr>\n",
              "    <tr>\n",
              "      <th>mean</th>\n",
              "      <td>19.785943</td>\n",
              "      <td>2.998279</td>\n",
              "      <td>NaN</td>\n",
              "      <td>NaN</td>\n",
              "      <td>NaN</td>\n",
              "      <td>NaN</td>\n",
              "      <td>2.569672</td>\n",
              "    </tr>\n",
              "    <tr>\n",
              "      <th>std</th>\n",
              "      <td>8.902412</td>\n",
              "      <td>1.383638</td>\n",
              "      <td>NaN</td>\n",
              "      <td>NaN</td>\n",
              "      <td>NaN</td>\n",
              "      <td>NaN</td>\n",
              "      <td>0.951100</td>\n",
              "    </tr>\n",
              "    <tr>\n",
              "      <th>min</th>\n",
              "      <td>3.070000</td>\n",
              "      <td>1.000000</td>\n",
              "      <td>NaN</td>\n",
              "      <td>NaN</td>\n",
              "      <td>NaN</td>\n",
              "      <td>NaN</td>\n",
              "      <td>1.000000</td>\n",
              "    </tr>\n",
              "    <tr>\n",
              "      <th>25%</th>\n",
              "      <td>13.347500</td>\n",
              "      <td>2.000000</td>\n",
              "      <td>NaN</td>\n",
              "      <td>NaN</td>\n",
              "      <td>NaN</td>\n",
              "      <td>NaN</td>\n",
              "      <td>2.000000</td>\n",
              "    </tr>\n",
              "    <tr>\n",
              "      <th>50%</th>\n",
              "      <td>17.795000</td>\n",
              "      <td>2.900000</td>\n",
              "      <td>NaN</td>\n",
              "      <td>NaN</td>\n",
              "      <td>NaN</td>\n",
              "      <td>NaN</td>\n",
              "      <td>2.000000</td>\n",
              "    </tr>\n",
              "    <tr>\n",
              "      <th>75%</th>\n",
              "      <td>24.127500</td>\n",
              "      <td>3.562500</td>\n",
              "      <td>NaN</td>\n",
              "      <td>NaN</td>\n",
              "      <td>NaN</td>\n",
              "      <td>NaN</td>\n",
              "      <td>3.000000</td>\n",
              "    </tr>\n",
              "    <tr>\n",
              "      <th>max</th>\n",
              "      <td>50.810000</td>\n",
              "      <td>10.000000</td>\n",
              "      <td>NaN</td>\n",
              "      <td>NaN</td>\n",
              "      <td>NaN</td>\n",
              "      <td>NaN</td>\n",
              "      <td>6.000000</td>\n",
              "    </tr>\n",
              "  </tbody>\n",
              "</table>\n",
              "</div>"
            ],
            "text/plain": [
              "        total_bill         tip   sex smoker  day    time        size\n",
              "count   244.000000  244.000000   244    244  244     244  244.000000\n",
              "unique         NaN         NaN     2      2    4       2         NaN\n",
              "top            NaN         NaN  Male     No  Sat  Dinner         NaN\n",
              "freq           NaN         NaN   157    151   87     176         NaN\n",
              "mean     19.785943    2.998279   NaN    NaN  NaN     NaN    2.569672\n",
              "std       8.902412    1.383638   NaN    NaN  NaN     NaN    0.951100\n",
              "min       3.070000    1.000000   NaN    NaN  NaN     NaN    1.000000\n",
              "25%      13.347500    2.000000   NaN    NaN  NaN     NaN    2.000000\n",
              "50%      17.795000    2.900000   NaN    NaN  NaN     NaN    2.000000\n",
              "75%      24.127500    3.562500   NaN    NaN  NaN     NaN    3.000000\n",
              "max      50.810000   10.000000   NaN    NaN  NaN     NaN    6.000000"
            ]
          },
          "metadata": {
            "tags": []
          },
          "execution_count": 13
        }
      ]
    },
    {
      "metadata": {
        "id": "j7huIwhUSDo4",
        "colab_type": "text"
      },
      "cell_type": "markdown",
      "source": [
        "Para las variables categóricas, se muestran los nuevos estadísticos de: número de valores únicos, valor más frecuente (top) y frecuencia de éste. Por ejemplo, para el caso del sexo, hay 244 anotaciones, y el valor más frecuente es Male (157 de 244), además de tener dos valores únicos (por lo que asumiremos que el otro valor es Female)"
      ]
    },
    {
      "metadata": {
        "id": "bS0h0cV6SDo4",
        "colab_type": "code",
        "outputId": "0eb5c89a-cdac-4775-c645-969606401665",
        "colab": {
          "base_uri": "https://localhost:8080/",
          "height": 221
        }
      },
      "cell_type": "code",
      "source": [
        "df.info() "
      ],
      "execution_count": 0,
      "outputs": [
        {
          "output_type": "stream",
          "text": [
            "<class 'pandas.core.frame.DataFrame'>\n",
            "RangeIndex: 244 entries, 0 to 243\n",
            "Data columns (total 7 columns):\n",
            "total_bill    244 non-null float64\n",
            "tip           244 non-null float64\n",
            "sex           244 non-null object\n",
            "smoker        244 non-null object\n",
            "day           244 non-null object\n",
            "time          244 non-null object\n",
            "size          244 non-null int64\n",
            "dtypes: float64(2), int64(1), object(4)\n",
            "memory usage: 13.4+ KB\n"
          ],
          "name": "stdout"
        }
      ]
    },
    {
      "metadata": {
        "id": "RPjFNUrqSDo7",
        "colab_type": "text"
      },
      "cell_type": "markdown",
      "source": [
        "## Consultas de dataframes"
      ]
    },
    {
      "metadata": {
        "id": "wt-TfZ-sSDo8",
        "colab_type": "text"
      },
      "cell_type": "markdown",
      "source": [
        "Hasta ahora hemos visto como acceder a ciertos registros y/o ciertas columnas de nuestra tabla. Veremos ahora algunas funciones nuevas para realizar consultas más dinámicas.\n",
        "\n",
        "Una forma rápida de acceder a una columna entera es"
      ]
    },
    {
      "metadata": {
        "id": "GACAE2AVSDo8",
        "colab_type": "code",
        "outputId": "e4c14b42-d7bc-4581-a0a6-840d762943a9",
        "colab": {
          "base_uri": "https://localhost:8080/",
          "height": 119
        }
      },
      "cell_type": "code",
      "source": [
        "df['tip'].head()"
      ],
      "execution_count": 0,
      "outputs": [
        {
          "output_type": "execute_result",
          "data": {
            "text/plain": [
              "0    1.01\n",
              "1    1.66\n",
              "2    3.50\n",
              "3    3.31\n",
              "4    3.61\n",
              "Name: tip, dtype: float64"
            ]
          },
          "metadata": {
            "tags": []
          },
          "execution_count": 15
        }
      ]
    },
    {
      "metadata": {
        "id": "DoLGtKLjSDo_",
        "colab_type": "text"
      },
      "cell_type": "markdown",
      "source": [
        "También se podría hacer"
      ]
    },
    {
      "metadata": {
        "id": "g0i-9lAaSDo_",
        "colab_type": "code",
        "outputId": "c5fbb7bf-36f7-4183-b248-1990eb1ded82",
        "colab": {}
      },
      "cell_type": "code",
      "source": [
        "df.tip.head()"
      ],
      "execution_count": 0,
      "outputs": [
        {
          "output_type": "execute_result",
          "data": {
            "text/plain": [
              "0    1.01\n",
              "1    1.66\n",
              "2    3.50\n",
              "3    3.31\n",
              "4    3.61\n",
              "Name: tip, dtype: float64"
            ]
          },
          "metadata": {
            "tags": []
          },
          "execution_count": 22
        }
      ]
    },
    {
      "metadata": {
        "id": "KusqqmhhSDpC",
        "colab_type": "text"
      },
      "cell_type": "markdown",
      "source": [
        "Como pandas va sobre numpy, podemos utilizar una sintaxis muy similar"
      ]
    },
    {
      "metadata": {
        "id": "LKfKZOoESDpD",
        "colab_type": "code",
        "outputId": "5805d375-6edd-4beb-cc9f-43e27ce00d7b",
        "colab": {
          "base_uri": "https://localhost:8080/",
          "height": 34
        }
      },
      "cell_type": "code",
      "source": [
        "df['size'].median(), df['size'].mean()"
      ],
      "execution_count": 0,
      "outputs": [
        {
          "output_type": "execute_result",
          "data": {
            "text/plain": [
              "(2.0, 2.569672131147541)"
            ]
          },
          "metadata": {
            "tags": []
          },
          "execution_count": 16
        }
      ]
    },
    {
      "metadata": {
        "id": "OXzZvd7wSDpG",
        "colab_type": "code",
        "colab": {}
      },
      "cell_type": "code",
      "source": [
        "df['size'] > df['size'].median()"
      ],
      "execution_count": 0,
      "outputs": []
    },
    {
      "metadata": {
        "id": "X16vFFZ3SDpJ",
        "colab_type": "text"
      },
      "cell_type": "markdown",
      "source": [
        "Como lo anterior nos ha generado un array booleano, podemos utilizarlo para seleccionar filas en nuestro dataframe!"
      ]
    },
    {
      "metadata": {
        "id": "F1lF0ZTcSDpJ",
        "colab_type": "code",
        "outputId": "e0482e21-3cf6-4c06-81a5-c03d239b197b",
        "colab": {
          "base_uri": "https://localhost:8080/",
          "height": 204
        }
      },
      "cell_type": "code",
      "source": [
        "mesas_grandes = df[ df['size'] > df['size'].median() ]\n",
        "mesas_grandes.head()"
      ],
      "execution_count": 0,
      "outputs": [
        {
          "output_type": "execute_result",
          "data": {
            "text/html": [
              "<div>\n",
              "<style scoped>\n",
              "    .dataframe tbody tr th:only-of-type {\n",
              "        vertical-align: middle;\n",
              "    }\n",
              "\n",
              "    .dataframe tbody tr th {\n",
              "        vertical-align: top;\n",
              "    }\n",
              "\n",
              "    .dataframe thead th {\n",
              "        text-align: right;\n",
              "    }\n",
              "</style>\n",
              "<table border=\"1\" class=\"dataframe\">\n",
              "  <thead>\n",
              "    <tr style=\"text-align: right;\">\n",
              "      <th></th>\n",
              "      <th>total_bill</th>\n",
              "      <th>tip</th>\n",
              "      <th>sex</th>\n",
              "      <th>smoker</th>\n",
              "      <th>day</th>\n",
              "      <th>time</th>\n",
              "      <th>size</th>\n",
              "    </tr>\n",
              "  </thead>\n",
              "  <tbody>\n",
              "    <tr>\n",
              "      <th>1</th>\n",
              "      <td>10.34</td>\n",
              "      <td>1.66</td>\n",
              "      <td>Male</td>\n",
              "      <td>No</td>\n",
              "      <td>Sun</td>\n",
              "      <td>Dinner</td>\n",
              "      <td>3</td>\n",
              "    </tr>\n",
              "    <tr>\n",
              "      <th>2</th>\n",
              "      <td>21.01</td>\n",
              "      <td>3.50</td>\n",
              "      <td>Male</td>\n",
              "      <td>No</td>\n",
              "      <td>Sun</td>\n",
              "      <td>Dinner</td>\n",
              "      <td>3</td>\n",
              "    </tr>\n",
              "    <tr>\n",
              "      <th>4</th>\n",
              "      <td>24.59</td>\n",
              "      <td>3.61</td>\n",
              "      <td>Female</td>\n",
              "      <td>No</td>\n",
              "      <td>Sun</td>\n",
              "      <td>Dinner</td>\n",
              "      <td>4</td>\n",
              "    </tr>\n",
              "    <tr>\n",
              "      <th>5</th>\n",
              "      <td>25.29</td>\n",
              "      <td>4.71</td>\n",
              "      <td>Male</td>\n",
              "      <td>No</td>\n",
              "      <td>Sun</td>\n",
              "      <td>Dinner</td>\n",
              "      <td>4</td>\n",
              "    </tr>\n",
              "    <tr>\n",
              "      <th>7</th>\n",
              "      <td>26.88</td>\n",
              "      <td>3.12</td>\n",
              "      <td>Male</td>\n",
              "      <td>No</td>\n",
              "      <td>Sun</td>\n",
              "      <td>Dinner</td>\n",
              "      <td>4</td>\n",
              "    </tr>\n",
              "  </tbody>\n",
              "</table>\n",
              "</div>"
            ],
            "text/plain": [
              "   total_bill   tip     sex smoker  day    time  size\n",
              "1       10.34  1.66    Male     No  Sun  Dinner     3\n",
              "2       21.01  3.50    Male     No  Sun  Dinner     3\n",
              "4       24.59  3.61  Female     No  Sun  Dinner     4\n",
              "5       25.29  4.71    Male     No  Sun  Dinner     4\n",
              "7       26.88  3.12    Male     No  Sun  Dinner     4"
            ]
          },
          "metadata": {
            "tags": []
          },
          "execution_count": 18
        }
      ]
    },
    {
      "metadata": {
        "id": "CQmx7hWMSDpN",
        "colab_type": "text"
      },
      "cell_type": "markdown",
      "source": [
        "Observamos que conserva los índices de la tabla original. Si queremos resetearlos, basta con hacer"
      ]
    },
    {
      "metadata": {
        "id": "qs8CB6RgSDpO",
        "colab_type": "code",
        "outputId": "cd9265a0-503a-44d0-bdeb-deb47cd2558a",
        "colab": {
          "base_uri": "https://localhost:8080/",
          "height": 204
        }
      },
      "cell_type": "code",
      "source": [
        "mesas_grandes.reset_index(inplace=True, drop=True)\n",
        "mesas_grandes.head()"
      ],
      "execution_count": 0,
      "outputs": [
        {
          "output_type": "execute_result",
          "data": {
            "text/html": [
              "<div>\n",
              "<style scoped>\n",
              "    .dataframe tbody tr th:only-of-type {\n",
              "        vertical-align: middle;\n",
              "    }\n",
              "\n",
              "    .dataframe tbody tr th {\n",
              "        vertical-align: top;\n",
              "    }\n",
              "\n",
              "    .dataframe thead th {\n",
              "        text-align: right;\n",
              "    }\n",
              "</style>\n",
              "<table border=\"1\" class=\"dataframe\">\n",
              "  <thead>\n",
              "    <tr style=\"text-align: right;\">\n",
              "      <th></th>\n",
              "      <th>total_bill</th>\n",
              "      <th>tip</th>\n",
              "      <th>sex</th>\n",
              "      <th>smoker</th>\n",
              "      <th>day</th>\n",
              "      <th>time</th>\n",
              "      <th>size</th>\n",
              "    </tr>\n",
              "  </thead>\n",
              "  <tbody>\n",
              "    <tr>\n",
              "      <th>0</th>\n",
              "      <td>10.34</td>\n",
              "      <td>1.66</td>\n",
              "      <td>Male</td>\n",
              "      <td>No</td>\n",
              "      <td>Sun</td>\n",
              "      <td>Dinner</td>\n",
              "      <td>3</td>\n",
              "    </tr>\n",
              "    <tr>\n",
              "      <th>1</th>\n",
              "      <td>21.01</td>\n",
              "      <td>3.50</td>\n",
              "      <td>Male</td>\n",
              "      <td>No</td>\n",
              "      <td>Sun</td>\n",
              "      <td>Dinner</td>\n",
              "      <td>3</td>\n",
              "    </tr>\n",
              "    <tr>\n",
              "      <th>2</th>\n",
              "      <td>24.59</td>\n",
              "      <td>3.61</td>\n",
              "      <td>Female</td>\n",
              "      <td>No</td>\n",
              "      <td>Sun</td>\n",
              "      <td>Dinner</td>\n",
              "      <td>4</td>\n",
              "    </tr>\n",
              "    <tr>\n",
              "      <th>3</th>\n",
              "      <td>25.29</td>\n",
              "      <td>4.71</td>\n",
              "      <td>Male</td>\n",
              "      <td>No</td>\n",
              "      <td>Sun</td>\n",
              "      <td>Dinner</td>\n",
              "      <td>4</td>\n",
              "    </tr>\n",
              "    <tr>\n",
              "      <th>4</th>\n",
              "      <td>26.88</td>\n",
              "      <td>3.12</td>\n",
              "      <td>Male</td>\n",
              "      <td>No</td>\n",
              "      <td>Sun</td>\n",
              "      <td>Dinner</td>\n",
              "      <td>4</td>\n",
              "    </tr>\n",
              "  </tbody>\n",
              "</table>\n",
              "</div>"
            ],
            "text/plain": [
              "   total_bill   tip     sex smoker  day    time  size\n",
              "0       10.34  1.66    Male     No  Sun  Dinner     3\n",
              "1       21.01  3.50    Male     No  Sun  Dinner     3\n",
              "2       24.59  3.61  Female     No  Sun  Dinner     4\n",
              "3       25.29  4.71    Male     No  Sun  Dinner     4\n",
              "4       26.88  3.12    Male     No  Sun  Dinner     4"
            ]
          },
          "metadata": {
            "tags": []
          },
          "execution_count": 19
        }
      ]
    },
    {
      "metadata": {
        "id": "8VnxSshiSDpQ",
        "colab_type": "text"
      },
      "cell_type": "markdown",
      "source": [
        "Los criterios de filtrado de filas pueden ser tan complejos como queramos, utilizando los operadores lógicos"
      ]
    },
    {
      "metadata": {
        "id": "JIGHPStSSDpR",
        "colab_type": "code",
        "outputId": "4bd8b231-00dc-4cf0-86fa-08acd1e5f1c8",
        "colab": {
          "base_uri": "https://localhost:8080/",
          "height": 204
        }
      },
      "cell_type": "code",
      "source": [
        "df[ (df['size'] > df['size'].median()) & (df['sex'] == 'Female') ].head()"
      ],
      "execution_count": 0,
      "outputs": [
        {
          "output_type": "execute_result",
          "data": {
            "text/html": [
              "<div>\n",
              "<style scoped>\n",
              "    .dataframe tbody tr th:only-of-type {\n",
              "        vertical-align: middle;\n",
              "    }\n",
              "\n",
              "    .dataframe tbody tr th {\n",
              "        vertical-align: top;\n",
              "    }\n",
              "\n",
              "    .dataframe thead th {\n",
              "        text-align: right;\n",
              "    }\n",
              "</style>\n",
              "<table border=\"1\" class=\"dataframe\">\n",
              "  <thead>\n",
              "    <tr style=\"text-align: right;\">\n",
              "      <th></th>\n",
              "      <th>total_bill</th>\n",
              "      <th>tip</th>\n",
              "      <th>sex</th>\n",
              "      <th>smoker</th>\n",
              "      <th>day</th>\n",
              "      <th>time</th>\n",
              "      <th>size</th>\n",
              "    </tr>\n",
              "  </thead>\n",
              "  <tbody>\n",
              "    <tr>\n",
              "      <th>4</th>\n",
              "      <td>24.59</td>\n",
              "      <td>3.61</td>\n",
              "      <td>Female</td>\n",
              "      <td>No</td>\n",
              "      <td>Sun</td>\n",
              "      <td>Dinner</td>\n",
              "      <td>4</td>\n",
              "    </tr>\n",
              "    <tr>\n",
              "      <th>11</th>\n",
              "      <td>35.26</td>\n",
              "      <td>5.00</td>\n",
              "      <td>Female</td>\n",
              "      <td>No</td>\n",
              "      <td>Sun</td>\n",
              "      <td>Dinner</td>\n",
              "      <td>4</td>\n",
              "    </tr>\n",
              "    <tr>\n",
              "      <th>16</th>\n",
              "      <td>10.33</td>\n",
              "      <td>1.67</td>\n",
              "      <td>Female</td>\n",
              "      <td>No</td>\n",
              "      <td>Sun</td>\n",
              "      <td>Dinner</td>\n",
              "      <td>3</td>\n",
              "    </tr>\n",
              "    <tr>\n",
              "      <th>18</th>\n",
              "      <td>16.97</td>\n",
              "      <td>3.50</td>\n",
              "      <td>Female</td>\n",
              "      <td>No</td>\n",
              "      <td>Sun</td>\n",
              "      <td>Dinner</td>\n",
              "      <td>3</td>\n",
              "    </tr>\n",
              "    <tr>\n",
              "      <th>33</th>\n",
              "      <td>20.69</td>\n",
              "      <td>2.45</td>\n",
              "      <td>Female</td>\n",
              "      <td>No</td>\n",
              "      <td>Sat</td>\n",
              "      <td>Dinner</td>\n",
              "      <td>4</td>\n",
              "    </tr>\n",
              "  </tbody>\n",
              "</table>\n",
              "</div>"
            ],
            "text/plain": [
              "    total_bill   tip     sex smoker  day    time  size\n",
              "4        24.59  3.61  Female     No  Sun  Dinner     4\n",
              "11       35.26  5.00  Female     No  Sun  Dinner     4\n",
              "16       10.33  1.67  Female     No  Sun  Dinner     3\n",
              "18       16.97  3.50  Female     No  Sun  Dinner     3\n",
              "33       20.69  2.45  Female     No  Sat  Dinner     4"
            ]
          },
          "metadata": {
            "tags": []
          },
          "execution_count": 20
        }
      ]
    },
    {
      "metadata": {
        "id": "sJOgAH9ESDpT",
        "colab_type": "text"
      },
      "cell_type": "markdown",
      "source": [
        "\n",
        "##    Ejercicio 1\n",
        "<img src=\"https://www.shareicon.net/data/256x256/2016/06/09/778169_game_512x512.png\" alt=\"Exercise\" width=\"50\"/> \n",
        "\n",
        "\n",
        "Carga la tabla `olympics.csv`. Si observas el archivo, hay que saltarse la primera fila (skiprows). Además, indica a pandas que la primera columna sea el index (index_col=0). Realiza un análisis exploratorio de los datos"
      ]
    },
    {
      "metadata": {
        "id": "vgFeOQBcSDpT",
        "colab_type": "code",
        "colab": {}
      },
      "cell_type": "code",
      "source": [
        "url='https://raw.githubusercontent.com/dgullate/Curso-IE/master/Week_1/data/olympics.csv?token=Ah4VEg7qZlveLgZOUytJTsWkuO_vjc69ks5cqJnhwA%3D%3D'\n",
        "olympics = pd.read_csv(url, skiprows=1, index_col=0)"
      ],
      "execution_count": 0,
      "outputs": []
    },
    {
      "metadata": {
        "id": "uwG0rGhkSDpV",
        "colab_type": "text"
      },
      "cell_type": "markdown",
      "source": [
        "Para ayudarnos en la exploración, ejecuta el siguiente código para renombrar las columnas"
      ]
    },
    {
      "metadata": {
        "id": "38kzJtAjSDpV",
        "colab_type": "code",
        "outputId": "e8221e66-e3ef-4e42-8738-4f2421c643a3",
        "colab": {
          "base_uri": "https://localhost:8080/",
          "height": 204
        }
      },
      "cell_type": "code",
      "source": [
        "for col in olympics.columns:\n",
        "    if col[:2]=='01':\n",
        "        olympics.rename(columns={col:'Gold' + col[4:]}, inplace=True)\n",
        "    if col[:2]=='02':\n",
        "        olympics.rename(columns={col:'Silver' + col[4:]}, inplace=True)\n",
        "    if col[:2]=='03':\n",
        "        olympics.rename(columns={col:'Bronze' + col[4:]}, inplace=True)\n",
        "    if col[:1]=='№':\n",
        "        olympics.rename(columns={col:'#' + col[1:]}, inplace=True) \n",
        "        \n",
        "names_ids = olympics.index.str.split('\\s\\(') # split the index by '('\n",
        "\n",
        "olympics.index = names_ids.str[0] # the [0] element is the country name (new index) \n",
        "olympics['ID'] = names_ids.str[1].str[:3] # the [1] element is the abbreviation or ID (take first 3 characters from that)\n",
        "        \n",
        "olympics =  olympics.drop('Totals')\n",
        "olympics.head()"
      ],
      "execution_count": 0,
      "outputs": [
        {
          "output_type": "execute_result",
          "data": {
            "text/html": [
              "<div>\n",
              "<style scoped>\n",
              "    .dataframe tbody tr th:only-of-type {\n",
              "        vertical-align: middle;\n",
              "    }\n",
              "\n",
              "    .dataframe tbody tr th {\n",
              "        vertical-align: top;\n",
              "    }\n",
              "\n",
              "    .dataframe thead th {\n",
              "        text-align: right;\n",
              "    }\n",
              "</style>\n",
              "<table border=\"1\" class=\"dataframe\">\n",
              "  <thead>\n",
              "    <tr style=\"text-align: right;\">\n",
              "      <th></th>\n",
              "      <th># Summer</th>\n",
              "      <th>Gold</th>\n",
              "      <th>Silver</th>\n",
              "      <th>Bronze</th>\n",
              "      <th>Total</th>\n",
              "      <th># Winter</th>\n",
              "      <th>Gold.1</th>\n",
              "      <th>Silver.1</th>\n",
              "      <th>Bronze.1</th>\n",
              "      <th>Total.1</th>\n",
              "      <th># Games</th>\n",
              "      <th>Gold.2</th>\n",
              "      <th>Silver.2</th>\n",
              "      <th>Bronze.2</th>\n",
              "      <th>Combined total</th>\n",
              "      <th>ID</th>\n",
              "    </tr>\n",
              "  </thead>\n",
              "  <tbody>\n",
              "    <tr>\n",
              "      <th>Afghanistan</th>\n",
              "      <td>13</td>\n",
              "      <td>0</td>\n",
              "      <td>0</td>\n",
              "      <td>2</td>\n",
              "      <td>2</td>\n",
              "      <td>0</td>\n",
              "      <td>0</td>\n",
              "      <td>0</td>\n",
              "      <td>0</td>\n",
              "      <td>0</td>\n",
              "      <td>13</td>\n",
              "      <td>0</td>\n",
              "      <td>0</td>\n",
              "      <td>2</td>\n",
              "      <td>2</td>\n",
              "      <td>AFG</td>\n",
              "    </tr>\n",
              "    <tr>\n",
              "      <th>Algeria</th>\n",
              "      <td>12</td>\n",
              "      <td>5</td>\n",
              "      <td>2</td>\n",
              "      <td>8</td>\n",
              "      <td>15</td>\n",
              "      <td>3</td>\n",
              "      <td>0</td>\n",
              "      <td>0</td>\n",
              "      <td>0</td>\n",
              "      <td>0</td>\n",
              "      <td>15</td>\n",
              "      <td>5</td>\n",
              "      <td>2</td>\n",
              "      <td>8</td>\n",
              "      <td>15</td>\n",
              "      <td>ALG</td>\n",
              "    </tr>\n",
              "    <tr>\n",
              "      <th>Argentina</th>\n",
              "      <td>23</td>\n",
              "      <td>18</td>\n",
              "      <td>24</td>\n",
              "      <td>28</td>\n",
              "      <td>70</td>\n",
              "      <td>18</td>\n",
              "      <td>0</td>\n",
              "      <td>0</td>\n",
              "      <td>0</td>\n",
              "      <td>0</td>\n",
              "      <td>41</td>\n",
              "      <td>18</td>\n",
              "      <td>24</td>\n",
              "      <td>28</td>\n",
              "      <td>70</td>\n",
              "      <td>ARG</td>\n",
              "    </tr>\n",
              "    <tr>\n",
              "      <th>Armenia</th>\n",
              "      <td>5</td>\n",
              "      <td>1</td>\n",
              "      <td>2</td>\n",
              "      <td>9</td>\n",
              "      <td>12</td>\n",
              "      <td>6</td>\n",
              "      <td>0</td>\n",
              "      <td>0</td>\n",
              "      <td>0</td>\n",
              "      <td>0</td>\n",
              "      <td>11</td>\n",
              "      <td>1</td>\n",
              "      <td>2</td>\n",
              "      <td>9</td>\n",
              "      <td>12</td>\n",
              "      <td>ARM</td>\n",
              "    </tr>\n",
              "    <tr>\n",
              "      <th>Australasia</th>\n",
              "      <td>2</td>\n",
              "      <td>3</td>\n",
              "      <td>4</td>\n",
              "      <td>5</td>\n",
              "      <td>12</td>\n",
              "      <td>0</td>\n",
              "      <td>0</td>\n",
              "      <td>0</td>\n",
              "      <td>0</td>\n",
              "      <td>0</td>\n",
              "      <td>2</td>\n",
              "      <td>3</td>\n",
              "      <td>4</td>\n",
              "      <td>5</td>\n",
              "      <td>12</td>\n",
              "      <td>ANZ</td>\n",
              "    </tr>\n",
              "  </tbody>\n",
              "</table>\n",
              "</div>"
            ],
            "text/plain": [
              "             # Summer  Gold  Silver  Bronze  Total  # Winter  Gold.1  \\\n",
              "Afghanistan        13     0       0       2      2         0       0   \n",
              "Algeria            12     5       2       8     15         3       0   \n",
              "Argentina          23    18      24      28     70        18       0   \n",
              "Armenia             5     1       2       9     12         6       0   \n",
              "Australasia         2     3       4       5     12         0       0   \n",
              "\n",
              "             Silver.1  Bronze.1  Total.1  # Games  Gold.2  Silver.2  Bronze.2  \\\n",
              "Afghanistan         0         0        0       13       0         0         2   \n",
              "Algeria             0         0        0       15       5         2         8   \n",
              "Argentina           0         0        0       41      18        24        28   \n",
              "Armenia             0         0        0       11       1         2         9   \n",
              "Australasia         0         0        0        2       3         4         5   \n",
              "\n",
              "             Combined total   ID  \n",
              "Afghanistan               2  AFG  \n",
              "Algeria                  15  ALG  \n",
              "Argentina                70  ARG  \n",
              "Armenia                  12  ARM  \n",
              "Australasia              12  ANZ  "
            ]
          },
          "metadata": {
            "tags": []
          },
          "execution_count": 22
        }
      ]
    },
    {
      "metadata": {
        "id": "AamEW68CSDpY",
        "colab_type": "code",
        "outputId": "230c4115-3a08-49a9-f645-4b9e0422f239",
        "colab": {
          "base_uri": "https://localhost:8080/",
          "height": 297
        }
      },
      "cell_type": "code",
      "source": [
        "olympics.describe()"
      ],
      "execution_count": 0,
      "outputs": [
        {
          "output_type": "execute_result",
          "data": {
            "text/html": [
              "<div>\n",
              "<style scoped>\n",
              "    .dataframe tbody tr th:only-of-type {\n",
              "        vertical-align: middle;\n",
              "    }\n",
              "\n",
              "    .dataframe tbody tr th {\n",
              "        vertical-align: top;\n",
              "    }\n",
              "\n",
              "    .dataframe thead th {\n",
              "        text-align: right;\n",
              "    }\n",
              "</style>\n",
              "<table border=\"1\" class=\"dataframe\">\n",
              "  <thead>\n",
              "    <tr style=\"text-align: right;\">\n",
              "      <th></th>\n",
              "      <th># Summer</th>\n",
              "      <th>Gold</th>\n",
              "      <th>Silver</th>\n",
              "      <th>Bronze</th>\n",
              "      <th>Total</th>\n",
              "      <th># Winter</th>\n",
              "      <th>Gold.1</th>\n",
              "      <th>Silver.1</th>\n",
              "      <th>Bronze.1</th>\n",
              "      <th>Total.1</th>\n",
              "      <th># Games</th>\n",
              "      <th>Gold.2</th>\n",
              "      <th>Silver.2</th>\n",
              "      <th>Bronze.2</th>\n",
              "      <th>Combined total</th>\n",
              "    </tr>\n",
              "  </thead>\n",
              "  <tbody>\n",
              "    <tr>\n",
              "      <th>count</th>\n",
              "      <td>146.000000</td>\n",
              "      <td>146.000000</td>\n",
              "      <td>146.000000</td>\n",
              "      <td>146.000000</td>\n",
              "      <td>146.000000</td>\n",
              "      <td>146.000000</td>\n",
              "      <td>146.000000</td>\n",
              "      <td>146.000000</td>\n",
              "      <td>146.000000</td>\n",
              "      <td>146.000000</td>\n",
              "      <td>146.000000</td>\n",
              "      <td>146.000000</td>\n",
              "      <td>146.000000</td>\n",
              "      <td>146.000000</td>\n",
              "      <td>146.000000</td>\n",
              "    </tr>\n",
              "    <tr>\n",
              "      <th>mean</th>\n",
              "      <td>13.383562</td>\n",
              "      <td>32.938356</td>\n",
              "      <td>32.705479</td>\n",
              "      <td>35.136986</td>\n",
              "      <td>100.780822</td>\n",
              "      <td>6.595890</td>\n",
              "      <td>6.568493</td>\n",
              "      <td>6.561644</td>\n",
              "      <td>6.493151</td>\n",
              "      <td>19.623288</td>\n",
              "      <td>19.979452</td>\n",
              "      <td>39.506849</td>\n",
              "      <td>39.267123</td>\n",
              "      <td>41.630137</td>\n",
              "      <td>120.404110</td>\n",
              "    </tr>\n",
              "    <tr>\n",
              "      <th>std</th>\n",
              "      <td>7.006657</td>\n",
              "      <td>96.745184</td>\n",
              "      <td>80.648421</td>\n",
              "      <td>77.118416</td>\n",
              "      <td>252.700436</td>\n",
              "      <td>7.349012</td>\n",
              "      <td>18.975086</td>\n",
              "      <td>18.606996</td>\n",
              "      <td>17.499654</td>\n",
              "      <td>54.640914</td>\n",
              "      <td>13.084062</td>\n",
              "      <td>109.932471</td>\n",
              "      <td>93.984393</td>\n",
              "      <td>89.826117</td>\n",
              "      <td>291.988913</td>\n",
              "    </tr>\n",
              "    <tr>\n",
              "      <th>min</th>\n",
              "      <td>1.000000</td>\n",
              "      <td>0.000000</td>\n",
              "      <td>0.000000</td>\n",
              "      <td>0.000000</td>\n",
              "      <td>0.000000</td>\n",
              "      <td>0.000000</td>\n",
              "      <td>0.000000</td>\n",
              "      <td>0.000000</td>\n",
              "      <td>0.000000</td>\n",
              "      <td>0.000000</td>\n",
              "      <td>1.000000</td>\n",
              "      <td>0.000000</td>\n",
              "      <td>0.000000</td>\n",
              "      <td>0.000000</td>\n",
              "      <td>1.000000</td>\n",
              "    </tr>\n",
              "    <tr>\n",
              "      <th>25%</th>\n",
              "      <td>8.000000</td>\n",
              "      <td>0.000000</td>\n",
              "      <td>1.000000</td>\n",
              "      <td>1.000000</td>\n",
              "      <td>2.000000</td>\n",
              "      <td>0.000000</td>\n",
              "      <td>0.000000</td>\n",
              "      <td>0.000000</td>\n",
              "      <td>0.000000</td>\n",
              "      <td>0.000000</td>\n",
              "      <td>11.000000</td>\n",
              "      <td>0.000000</td>\n",
              "      <td>1.000000</td>\n",
              "      <td>1.000000</td>\n",
              "      <td>2.250000</td>\n",
              "    </tr>\n",
              "    <tr>\n",
              "      <th>50%</th>\n",
              "      <td>13.000000</td>\n",
              "      <td>3.000000</td>\n",
              "      <td>4.000000</td>\n",
              "      <td>6.000000</td>\n",
              "      <td>12.000000</td>\n",
              "      <td>5.000000</td>\n",
              "      <td>0.000000</td>\n",
              "      <td>0.000000</td>\n",
              "      <td>0.000000</td>\n",
              "      <td>0.000000</td>\n",
              "      <td>15.000000</td>\n",
              "      <td>3.000000</td>\n",
              "      <td>4.000000</td>\n",
              "      <td>6.500000</td>\n",
              "      <td>12.000000</td>\n",
              "    </tr>\n",
              "    <tr>\n",
              "      <th>75%</th>\n",
              "      <td>18.000000</td>\n",
              "      <td>23.000000</td>\n",
              "      <td>26.750000</td>\n",
              "      <td>28.750000</td>\n",
              "      <td>85.250000</td>\n",
              "      <td>10.000000</td>\n",
              "      <td>0.750000</td>\n",
              "      <td>1.750000</td>\n",
              "      <td>1.000000</td>\n",
              "      <td>4.750000</td>\n",
              "      <td>26.000000</td>\n",
              "      <td>24.500000</td>\n",
              "      <td>28.000000</td>\n",
              "      <td>29.000000</td>\n",
              "      <td>87.750000</td>\n",
              "    </tr>\n",
              "    <tr>\n",
              "      <th>max</th>\n",
              "      <td>27.000000</td>\n",
              "      <td>976.000000</td>\n",
              "      <td>757.000000</td>\n",
              "      <td>666.000000</td>\n",
              "      <td>2399.000000</td>\n",
              "      <td>22.000000</td>\n",
              "      <td>118.000000</td>\n",
              "      <td>111.000000</td>\n",
              "      <td>100.000000</td>\n",
              "      <td>329.000000</td>\n",
              "      <td>49.000000</td>\n",
              "      <td>1072.000000</td>\n",
              "      <td>859.000000</td>\n",
              "      <td>750.000000</td>\n",
              "      <td>2681.000000</td>\n",
              "    </tr>\n",
              "  </tbody>\n",
              "</table>\n",
              "</div>"
            ],
            "text/plain": [
              "         # Summer        Gold      Silver      Bronze        Total  \\\n",
              "count  146.000000  146.000000  146.000000  146.000000   146.000000   \n",
              "mean    13.383562   32.938356   32.705479   35.136986   100.780822   \n",
              "std      7.006657   96.745184   80.648421   77.118416   252.700436   \n",
              "min      1.000000    0.000000    0.000000    0.000000     0.000000   \n",
              "25%      8.000000    0.000000    1.000000    1.000000     2.000000   \n",
              "50%     13.000000    3.000000    4.000000    6.000000    12.000000   \n",
              "75%     18.000000   23.000000   26.750000   28.750000    85.250000   \n",
              "max     27.000000  976.000000  757.000000  666.000000  2399.000000   \n",
              "\n",
              "         # Winter      Gold.1    Silver.1    Bronze.1     Total.1     # Games  \\\n",
              "count  146.000000  146.000000  146.000000  146.000000  146.000000  146.000000   \n",
              "mean     6.595890    6.568493    6.561644    6.493151   19.623288   19.979452   \n",
              "std      7.349012   18.975086   18.606996   17.499654   54.640914   13.084062   \n",
              "min      0.000000    0.000000    0.000000    0.000000    0.000000    1.000000   \n",
              "25%      0.000000    0.000000    0.000000    0.000000    0.000000   11.000000   \n",
              "50%      5.000000    0.000000    0.000000    0.000000    0.000000   15.000000   \n",
              "75%     10.000000    0.750000    1.750000    1.000000    4.750000   26.000000   \n",
              "max     22.000000  118.000000  111.000000  100.000000  329.000000   49.000000   \n",
              "\n",
              "            Gold.2    Silver.2    Bronze.2  Combined total  \n",
              "count   146.000000  146.000000  146.000000      146.000000  \n",
              "mean     39.506849   39.267123   41.630137      120.404110  \n",
              "std     109.932471   93.984393   89.826117      291.988913  \n",
              "min       0.000000    0.000000    0.000000        1.000000  \n",
              "25%       0.000000    1.000000    1.000000        2.250000  \n",
              "50%       3.000000    4.000000    6.500000       12.000000  \n",
              "75%      24.500000   28.000000   29.000000       87.750000  \n",
              "max    1072.000000  859.000000  750.000000     2681.000000  "
            ]
          },
          "metadata": {
            "tags": []
          },
          "execution_count": 23
        }
      ]
    },
    {
      "metadata": {
        "id": "pQkHLR7fSDpb",
        "colab_type": "text"
      },
      "cell_type": "markdown",
      "source": [
        "¿Qué país ha obtenido más medallas de oro en juegos de verano?"
      ]
    },
    {
      "metadata": {
        "id": "N8GiaOezSDpd",
        "colab_type": "code",
        "outputId": "4a0328ec-4cdb-4b86-ceb1-6f773b523b1b",
        "colab": {
          "base_uri": "https://localhost:8080/",
          "height": 80
        }
      },
      "cell_type": "code",
      "source": [
        "olympics[olympics['Gold']==max(olympics['Gold'])]"
      ],
      "execution_count": 0,
      "outputs": [
        {
          "output_type": "execute_result",
          "data": {
            "text/html": [
              "<div>\n",
              "<style scoped>\n",
              "    .dataframe tbody tr th:only-of-type {\n",
              "        vertical-align: middle;\n",
              "    }\n",
              "\n",
              "    .dataframe tbody tr th {\n",
              "        vertical-align: top;\n",
              "    }\n",
              "\n",
              "    .dataframe thead th {\n",
              "        text-align: right;\n",
              "    }\n",
              "</style>\n",
              "<table border=\"1\" class=\"dataframe\">\n",
              "  <thead>\n",
              "    <tr style=\"text-align: right;\">\n",
              "      <th></th>\n",
              "      <th># Summer</th>\n",
              "      <th>Gold</th>\n",
              "      <th>Silver</th>\n",
              "      <th>Bronze</th>\n",
              "      <th>Total</th>\n",
              "      <th># Winter</th>\n",
              "      <th>Gold.1</th>\n",
              "      <th>Silver.1</th>\n",
              "      <th>Bronze.1</th>\n",
              "      <th>Total.1</th>\n",
              "      <th># Games</th>\n",
              "      <th>Gold.2</th>\n",
              "      <th>Silver.2</th>\n",
              "      <th>Bronze.2</th>\n",
              "      <th>Combined total</th>\n",
              "      <th>ID</th>\n",
              "    </tr>\n",
              "  </thead>\n",
              "  <tbody>\n",
              "    <tr>\n",
              "      <th>United States</th>\n",
              "      <td>26</td>\n",
              "      <td>976</td>\n",
              "      <td>757</td>\n",
              "      <td>666</td>\n",
              "      <td>2399</td>\n",
              "      <td>22</td>\n",
              "      <td>96</td>\n",
              "      <td>102</td>\n",
              "      <td>84</td>\n",
              "      <td>282</td>\n",
              "      <td>48</td>\n",
              "      <td>1072</td>\n",
              "      <td>859</td>\n",
              "      <td>750</td>\n",
              "      <td>2681</td>\n",
              "      <td>USA</td>\n",
              "    </tr>\n",
              "  </tbody>\n",
              "</table>\n",
              "</div>"
            ],
            "text/plain": [
              "               # Summer  Gold  Silver  Bronze  Total  # Winter  Gold.1  \\\n",
              "United States        26   976     757     666   2399        22      96   \n",
              "\n",
              "               Silver.1  Bronze.1  Total.1  # Games  Gold.2  Silver.2  \\\n",
              "United States       102        84      282       48    1072       859   \n",
              "\n",
              "               Bronze.2  Combined total   ID  \n",
              "United States       750            2681  USA  "
            ]
          },
          "metadata": {
            "tags": []
          },
          "execution_count": 31
        }
      ]
    },
    {
      "metadata": {
        "id": "eTtvnvh2SDph",
        "colab_type": "code",
        "outputId": "68d5cdf7-f3a7-4bed-dc3f-cb13f4730f05",
        "colab": {
          "base_uri": "https://localhost:8080/",
          "height": 34
        }
      },
      "cell_type": "code",
      "source": [
        "olympics.Gold.idxmax()"
      ],
      "execution_count": 0,
      "outputs": [
        {
          "output_type": "execute_result",
          "data": {
            "text/plain": [
              "'United States'"
            ]
          },
          "metadata": {
            "tags": []
          },
          "execution_count": 43
        }
      ]
    },
    {
      "metadata": {
        "id": "KphGpHAxSDpl",
        "colab_type": "text"
      },
      "cell_type": "markdown",
      "source": [
        "Obtén los países que hayan obtenido más medallas (cuenta cada tipo de medalla por igual) en inverno que en verano "
      ]
    },
    {
      "metadata": {
        "id": "yI6X0my5SDpn",
        "colab_type": "code",
        "outputId": "36ab07eb-36af-47c8-8d5f-acbc6220d191",
        "colab": {
          "base_uri": "https://localhost:8080/",
          "height": 34
        }
      },
      "cell_type": "code",
      "source": [
        "list(olympics[olympics['Total'] < olympics['Total.1']].index)"
      ],
      "execution_count": 0,
      "outputs": [
        {
          "output_type": "execute_result",
          "data": {
            "text/plain": [
              "['Austria', 'Liechtenstein', 'Norway']"
            ]
          },
          "metadata": {
            "tags": []
          },
          "execution_count": 46
        }
      ]
    },
    {
      "metadata": {
        "id": "3MWdv5-QSDpr",
        "colab_type": "text"
      },
      "cell_type": "markdown",
      "source": [
        "## Creando nuevas columnas y aplicando funciones sobre columnas"
      ]
    },
    {
      "metadata": {
        "id": "IY7xoJSDSDpr",
        "colab_type": "text"
      },
      "cell_type": "markdown",
      "source": [
        "Si queremos añadir una nueva columna a nuestra tabla, es tan sencillo como realizar una nueva asignación"
      ]
    },
    {
      "metadata": {
        "id": "Ph13pv5VSDps",
        "colab_type": "code",
        "colab": {}
      },
      "cell_type": "code",
      "source": [
        "df['new_col'] = None\n",
        "df.head()"
      ],
      "execution_count": 0,
      "outputs": []
    },
    {
      "metadata": {
        "id": "ETumS-D5SDpu",
        "colab_type": "text"
      },
      "cell_type": "markdown",
      "source": [
        "También podemos crear columnas utilizando funciones de numpy, por ejemplo, ahora la rellenaremos con valores aleatorios provenientes de una distribución normal"
      ]
    },
    {
      "metadata": {
        "id": "av00grFnSDpv",
        "colab_type": "code",
        "outputId": "2d7279f0-2831-4f25-ed88-15e2490bcf8f",
        "colab": {
          "base_uri": "https://localhost:8080/",
          "height": 204
        }
      },
      "cell_type": "code",
      "source": [
        "df['new_col'] = np.random.randn(len(df))\n",
        "df.head()"
      ],
      "execution_count": 0,
      "outputs": [
        {
          "output_type": "execute_result",
          "data": {
            "text/html": [
              "<div>\n",
              "<style scoped>\n",
              "    .dataframe tbody tr th:only-of-type {\n",
              "        vertical-align: middle;\n",
              "    }\n",
              "\n",
              "    .dataframe tbody tr th {\n",
              "        vertical-align: top;\n",
              "    }\n",
              "\n",
              "    .dataframe thead th {\n",
              "        text-align: right;\n",
              "    }\n",
              "</style>\n",
              "<table border=\"1\" class=\"dataframe\">\n",
              "  <thead>\n",
              "    <tr style=\"text-align: right;\">\n",
              "      <th></th>\n",
              "      <th>total_bill</th>\n",
              "      <th>tip</th>\n",
              "      <th>sex</th>\n",
              "      <th>smoker</th>\n",
              "      <th>day</th>\n",
              "      <th>time</th>\n",
              "      <th>size</th>\n",
              "      <th>new_col</th>\n",
              "    </tr>\n",
              "  </thead>\n",
              "  <tbody>\n",
              "    <tr>\n",
              "      <th>0</th>\n",
              "      <td>16.99</td>\n",
              "      <td>1.01</td>\n",
              "      <td>Female</td>\n",
              "      <td>No</td>\n",
              "      <td>Sun</td>\n",
              "      <td>Dinner</td>\n",
              "      <td>2</td>\n",
              "      <td>1.015183</td>\n",
              "    </tr>\n",
              "    <tr>\n",
              "      <th>1</th>\n",
              "      <td>10.34</td>\n",
              "      <td>1.66</td>\n",
              "      <td>Male</td>\n",
              "      <td>No</td>\n",
              "      <td>Sun</td>\n",
              "      <td>Dinner</td>\n",
              "      <td>3</td>\n",
              "      <td>1.252734</td>\n",
              "    </tr>\n",
              "    <tr>\n",
              "      <th>2</th>\n",
              "      <td>21.01</td>\n",
              "      <td>3.50</td>\n",
              "      <td>Male</td>\n",
              "      <td>No</td>\n",
              "      <td>Sun</td>\n",
              "      <td>Dinner</td>\n",
              "      <td>3</td>\n",
              "      <td>1.575078</td>\n",
              "    </tr>\n",
              "    <tr>\n",
              "      <th>3</th>\n",
              "      <td>23.68</td>\n",
              "      <td>3.31</td>\n",
              "      <td>Male</td>\n",
              "      <td>No</td>\n",
              "      <td>Sun</td>\n",
              "      <td>Dinner</td>\n",
              "      <td>2</td>\n",
              "      <td>0.221623</td>\n",
              "    </tr>\n",
              "    <tr>\n",
              "      <th>4</th>\n",
              "      <td>24.59</td>\n",
              "      <td>3.61</td>\n",
              "      <td>Female</td>\n",
              "      <td>No</td>\n",
              "      <td>Sun</td>\n",
              "      <td>Dinner</td>\n",
              "      <td>4</td>\n",
              "      <td>0.039259</td>\n",
              "    </tr>\n",
              "  </tbody>\n",
              "</table>\n",
              "</div>"
            ],
            "text/plain": [
              "   total_bill   tip     sex smoker  day    time  size   new_col\n",
              "0       16.99  1.01  Female     No  Sun  Dinner     2  1.015183\n",
              "1       10.34  1.66    Male     No  Sun  Dinner     3  1.252734\n",
              "2       21.01  3.50    Male     No  Sun  Dinner     3  1.575078\n",
              "3       23.68  3.31    Male     No  Sun  Dinner     2  0.221623\n",
              "4       24.59  3.61  Female     No  Sun  Dinner     4  0.039259"
            ]
          },
          "metadata": {
            "tags": []
          },
          "execution_count": 52
        }
      ]
    },
    {
      "metadata": {
        "id": "3ZnwkjiySDpx",
        "colab_type": "text"
      },
      "cell_type": "markdown",
      "source": [
        "También es posible combinarlos con otras columnas de la tabla, siempre que las dimensiones lo permitan (en este caso, que tengan el mismo número de elementos)"
      ]
    },
    {
      "metadata": {
        "id": "XjnkrSiESDpy",
        "colab_type": "code",
        "outputId": "b09fe5ad-2780-4cda-da34-4d4e98c2a3be",
        "colab": {}
      },
      "cell_type": "code",
      "source": [
        "del df['new_col']\n",
        "df['total_bill_rand'] = np.random.randn(len(df)) + df['total_bill']\n",
        "df.head()"
      ],
      "execution_count": 0,
      "outputs": [
        {
          "output_type": "execute_result",
          "data": {
            "text/html": [
              "<div>\n",
              "<style>\n",
              "    .dataframe thead tr:only-child th {\n",
              "        text-align: right;\n",
              "    }\n",
              "\n",
              "    .dataframe thead th {\n",
              "        text-align: left;\n",
              "    }\n",
              "\n",
              "    .dataframe tbody tr th {\n",
              "        vertical-align: top;\n",
              "    }\n",
              "</style>\n",
              "<table border=\"1\" class=\"dataframe\">\n",
              "  <thead>\n",
              "    <tr style=\"text-align: right;\">\n",
              "      <th></th>\n",
              "      <th>total_bill</th>\n",
              "      <th>tip</th>\n",
              "      <th>sex</th>\n",
              "      <th>smoker</th>\n",
              "      <th>day</th>\n",
              "      <th>time</th>\n",
              "      <th>size</th>\n",
              "      <th>total_bill_rand</th>\n",
              "    </tr>\n",
              "  </thead>\n",
              "  <tbody>\n",
              "    <tr>\n",
              "      <th>0</th>\n",
              "      <td>16.99</td>\n",
              "      <td>1.01</td>\n",
              "      <td>Female</td>\n",
              "      <td>No</td>\n",
              "      <td>Sun</td>\n",
              "      <td>Dinner</td>\n",
              "      <td>2</td>\n",
              "      <td>18.200907</td>\n",
              "    </tr>\n",
              "    <tr>\n",
              "      <th>1</th>\n",
              "      <td>10.34</td>\n",
              "      <td>1.66</td>\n",
              "      <td>Male</td>\n",
              "      <td>No</td>\n",
              "      <td>Sun</td>\n",
              "      <td>Dinner</td>\n",
              "      <td>3</td>\n",
              "      <td>10.706272</td>\n",
              "    </tr>\n",
              "    <tr>\n",
              "      <th>2</th>\n",
              "      <td>21.01</td>\n",
              "      <td>3.50</td>\n",
              "      <td>Male</td>\n",
              "      <td>No</td>\n",
              "      <td>Sun</td>\n",
              "      <td>Dinner</td>\n",
              "      <td>3</td>\n",
              "      <td>21.085219</td>\n",
              "    </tr>\n",
              "    <tr>\n",
              "      <th>3</th>\n",
              "      <td>23.68</td>\n",
              "      <td>3.31</td>\n",
              "      <td>Male</td>\n",
              "      <td>No</td>\n",
              "      <td>Sun</td>\n",
              "      <td>Dinner</td>\n",
              "      <td>2</td>\n",
              "      <td>24.703094</td>\n",
              "    </tr>\n",
              "    <tr>\n",
              "      <th>4</th>\n",
              "      <td>24.59</td>\n",
              "      <td>3.61</td>\n",
              "      <td>Female</td>\n",
              "      <td>No</td>\n",
              "      <td>Sun</td>\n",
              "      <td>Dinner</td>\n",
              "      <td>4</td>\n",
              "      <td>26.438620</td>\n",
              "    </tr>\n",
              "  </tbody>\n",
              "</table>\n",
              "</div>"
            ],
            "text/plain": [
              "   total_bill   tip     sex smoker  day    time  size  total_bill_rand\n",
              "0       16.99  1.01  Female     No  Sun  Dinner     2        18.200907\n",
              "1       10.34  1.66    Male     No  Sun  Dinner     3        10.706272\n",
              "2       21.01  3.50    Male     No  Sun  Dinner     3        21.085219\n",
              "3       23.68  3.31    Male     No  Sun  Dinner     2        24.703094\n",
              "4       24.59  3.61  Female     No  Sun  Dinner     4        26.438620"
            ]
          },
          "metadata": {
            "tags": []
          },
          "execution_count": 83
        }
      ]
    },
    {
      "metadata": {
        "id": "6aGKnkk1SDp3",
        "colab_type": "text"
      },
      "cell_type": "markdown",
      "source": [
        "Una función importante de pandas es `apply`, que permite aplicar cualquier función (de numpy, pandas, o definida por nosotros) a lo largo de varias columnas.\n",
        "\n",
        "Por ejemplo, supongamos que queremos calcular la raíz cuadrada a las columnas total_bill, tip y total_bill_rand:"
      ]
    },
    {
      "metadata": {
        "id": "JlmVi7R5SDp3",
        "colab_type": "code",
        "outputId": "e00dd9e4-b9d2-43af-f42f-abbbd57bbb00",
        "colab": {}
      },
      "cell_type": "code",
      "source": [
        "df[['total_bill', 'tip', 'total_bill_rand']].apply(np.sqrt).head()"
      ],
      "execution_count": 0,
      "outputs": [
        {
          "output_type": "execute_result",
          "data": {
            "text/html": [
              "<div>\n",
              "<style>\n",
              "    .dataframe thead tr:only-child th {\n",
              "        text-align: right;\n",
              "    }\n",
              "\n",
              "    .dataframe thead th {\n",
              "        text-align: left;\n",
              "    }\n",
              "\n",
              "    .dataframe tbody tr th {\n",
              "        vertical-align: top;\n",
              "    }\n",
              "</style>\n",
              "<table border=\"1\" class=\"dataframe\">\n",
              "  <thead>\n",
              "    <tr style=\"text-align: right;\">\n",
              "      <th></th>\n",
              "      <th>total_bill</th>\n",
              "      <th>tip</th>\n",
              "      <th>total_bill_rand</th>\n",
              "    </tr>\n",
              "  </thead>\n",
              "  <tbody>\n",
              "    <tr>\n",
              "      <th>0</th>\n",
              "      <td>4.121893</td>\n",
              "      <td>1.004988</td>\n",
              "      <td>4.266252</td>\n",
              "    </tr>\n",
              "    <tr>\n",
              "      <th>1</th>\n",
              "      <td>3.215587</td>\n",
              "      <td>1.288410</td>\n",
              "      <td>3.272044</td>\n",
              "    </tr>\n",
              "    <tr>\n",
              "      <th>2</th>\n",
              "      <td>4.583667</td>\n",
              "      <td>1.870829</td>\n",
              "      <td>4.591864</td>\n",
              "    </tr>\n",
              "    <tr>\n",
              "      <th>3</th>\n",
              "      <td>4.866210</td>\n",
              "      <td>1.819341</td>\n",
              "      <td>4.970221</td>\n",
              "    </tr>\n",
              "    <tr>\n",
              "      <th>4</th>\n",
              "      <td>4.958831</td>\n",
              "      <td>1.900000</td>\n",
              "      <td>5.141850</td>\n",
              "    </tr>\n",
              "  </tbody>\n",
              "</table>\n",
              "</div>"
            ],
            "text/plain": [
              "   total_bill       tip  total_bill_rand\n",
              "0    4.121893  1.004988         4.266252\n",
              "1    3.215587  1.288410         3.272044\n",
              "2    4.583667  1.870829         4.591864\n",
              "3    4.866210  1.819341         4.970221\n",
              "4    4.958831  1.900000         5.141850"
            ]
          },
          "metadata": {
            "tags": []
          },
          "execution_count": 84
        }
      ]
    },
    {
      "metadata": {
        "id": "1Vh2HvjYSDp6",
        "colab_type": "code",
        "outputId": "f29fc2d3-0eb8-4d48-8f6d-8177968dc379",
        "colab": {}
      },
      "cell_type": "code",
      "source": [
        "df.apply(np.max)"
      ],
      "execution_count": 0,
      "outputs": [
        {
          "output_type": "execute_result",
          "data": {
            "text/plain": [
              "total_bill      50.81\n",
              "tip                10\n",
              "sex              Male\n",
              "smoker            Yes\n",
              "day              Thur\n",
              "time            Lunch\n",
              "size                6\n",
              "new_col       2.87327\n",
              "dtype: object"
            ]
          },
          "metadata": {
            "tags": []
          },
          "execution_count": 54
        }
      ]
    },
    {
      "metadata": {
        "id": "ZeIe4VLuSDp9",
        "colab_type": "text"
      },
      "cell_type": "markdown",
      "source": [
        "Ahora veremos otro ejemplo con una función creada por nosotros:"
      ]
    },
    {
      "metadata": {
        "id": "NZBEy9heSDp-",
        "colab_type": "code",
        "colab": {}
      },
      "cell_type": "code",
      "source": [
        "def filtra_peq(x, y):  # x es la columna de valores\n",
        "    x[x<y] = 0\n",
        "    return x"
      ],
      "execution_count": 0,
      "outputs": []
    },
    {
      "metadata": {
        "id": "DP7BdVrhSDqC",
        "colab_type": "code",
        "outputId": "827762ab-ef06-4b66-be22-9599ebc7252e",
        "colab": {}
      },
      "cell_type": "code",
      "source": [
        "df[['total_bill']].apply(filtra_peq, args=[df['total_bill'].mean()]).head()"
      ],
      "execution_count": 0,
      "outputs": [
        {
          "output_type": "execute_result",
          "data": {
            "text/html": [
              "<div>\n",
              "<style>\n",
              "    .dataframe thead tr:only-child th {\n",
              "        text-align: right;\n",
              "    }\n",
              "\n",
              "    .dataframe thead th {\n",
              "        text-align: left;\n",
              "    }\n",
              "\n",
              "    .dataframe tbody tr th {\n",
              "        vertical-align: top;\n",
              "    }\n",
              "</style>\n",
              "<table border=\"1\" class=\"dataframe\">\n",
              "  <thead>\n",
              "    <tr style=\"text-align: right;\">\n",
              "      <th></th>\n",
              "      <th>total_bill</th>\n",
              "    </tr>\n",
              "  </thead>\n",
              "  <tbody>\n",
              "    <tr>\n",
              "      <th>0</th>\n",
              "      <td>0.00</td>\n",
              "    </tr>\n",
              "    <tr>\n",
              "      <th>1</th>\n",
              "      <td>0.00</td>\n",
              "    </tr>\n",
              "    <tr>\n",
              "      <th>2</th>\n",
              "      <td>21.01</td>\n",
              "    </tr>\n",
              "    <tr>\n",
              "      <th>3</th>\n",
              "      <td>23.68</td>\n",
              "    </tr>\n",
              "    <tr>\n",
              "      <th>4</th>\n",
              "      <td>24.59</td>\n",
              "    </tr>\n",
              "  </tbody>\n",
              "</table>\n",
              "</div>"
            ],
            "text/plain": [
              "   total_bill\n",
              "0        0.00\n",
              "1        0.00\n",
              "2       21.01\n",
              "3       23.68\n",
              "4       24.59"
            ]
          },
          "metadata": {
            "tags": []
          },
          "execution_count": 57
        }
      ]
    },
    {
      "metadata": {
        "id": "6eT8abKZqxwn",
        "colab_type": "text"
      },
      "cell_type": "markdown",
      "source": [
        "Otra forma de hacerlo, con `where`: si la condición es cierta, deja el valor igual, pero si es falsa, reemplaza con el segundo argumento. "
      ]
    },
    {
      "metadata": {
        "id": "l4vA6vLTp_HO",
        "colab_type": "code",
        "outputId": "4ca52819-66c0-4c8a-8387-493e8e7ecb4a",
        "colab": {
          "base_uri": "https://localhost:8080/",
          "height": 119
        }
      },
      "cell_type": "code",
      "source": [
        "mask=df['total_bill']>df['total_bill'].mean()\n",
        "df['total_bill'].where(mask,0).head()"
      ],
      "execution_count": 0,
      "outputs": [
        {
          "output_type": "execute_result",
          "data": {
            "text/plain": [
              "0     0.00\n",
              "1     0.00\n",
              "2    21.01\n",
              "3    23.68\n",
              "4    24.59\n",
              "Name: total_bill, dtype: float64"
            ]
          },
          "metadata": {
            "tags": []
          },
          "execution_count": 54
        }
      ]
    },
    {
      "metadata": {
        "id": "8BZTcJwbSDqH",
        "colab_type": "text"
      },
      "cell_type": "markdown",
      "source": [
        "### Ejercicio\n",
        "\n",
        "Trabajaremos sobre olympics. Obtén los países que hayan obtenido más puntos en inverno que en verano. Se asignan puntos de la siguiente forma: bronce 1, plata 2, oro 3."
      ]
    },
    {
      "metadata": {
        "collapsed": true,
        "id": "-ZI3myrcSDqI",
        "colab_type": "code",
        "colab": {}
      },
      "cell_type": "code",
      "source": [
        "olympics['points_summer'] = 3*olympics['Gold'] + 2*olympics['Silver'] + olympics['Bronze']\n",
        "olympics['points_winter'] = 3*olympics['Gold.1'] + 2*olympics['Silver.1'] + olympics['Bronze.1']"
      ],
      "execution_count": 0,
      "outputs": []
    },
    {
      "metadata": {
        "id": "zKPV12xKSDqJ",
        "colab_type": "code",
        "outputId": "9d514673-c1ed-4189-cf28-19b3ee606001",
        "colab": {}
      },
      "cell_type": "code",
      "source": [
        "olympics[olympics['points_summer'] < olympics['points_winter']]"
      ],
      "execution_count": 0,
      "outputs": [
        {
          "output_type": "execute_result",
          "data": {
            "text/html": [
              "<div>\n",
              "<style>\n",
              "    .dataframe thead tr:only-child th {\n",
              "        text-align: right;\n",
              "    }\n",
              "\n",
              "    .dataframe thead th {\n",
              "        text-align: left;\n",
              "    }\n",
              "\n",
              "    .dataframe tbody tr th {\n",
              "        vertical-align: top;\n",
              "    }\n",
              "</style>\n",
              "<table border=\"1\" class=\"dataframe\">\n",
              "  <thead>\n",
              "    <tr style=\"text-align: right;\">\n",
              "      <th></th>\n",
              "      <th># Summer</th>\n",
              "      <th>Gold</th>\n",
              "      <th>Silver</th>\n",
              "      <th>Bronze</th>\n",
              "      <th>Total</th>\n",
              "      <th># Winter</th>\n",
              "      <th>Gold.1</th>\n",
              "      <th>Silver.1</th>\n",
              "      <th>Bronze.1</th>\n",
              "      <th>Total.1</th>\n",
              "      <th># Games</th>\n",
              "      <th>Gold.2</th>\n",
              "      <th>Silver.2</th>\n",
              "      <th>Bronze.2</th>\n",
              "      <th>Combined total</th>\n",
              "      <th>ID</th>\n",
              "      <th>points_summer</th>\n",
              "      <th>points_winter</th>\n",
              "    </tr>\n",
              "  </thead>\n",
              "  <tbody>\n",
              "    <tr>\n",
              "      <th>Austria</th>\n",
              "      <td>26</td>\n",
              "      <td>18</td>\n",
              "      <td>33</td>\n",
              "      <td>35</td>\n",
              "      <td>86</td>\n",
              "      <td>22</td>\n",
              "      <td>59</td>\n",
              "      <td>78</td>\n",
              "      <td>81</td>\n",
              "      <td>218</td>\n",
              "      <td>48</td>\n",
              "      <td>77</td>\n",
              "      <td>111</td>\n",
              "      <td>116</td>\n",
              "      <td>304</td>\n",
              "      <td>AUT</td>\n",
              "      <td>155</td>\n",
              "      <td>414</td>\n",
              "    </tr>\n",
              "    <tr>\n",
              "      <th>Liechtenstein</th>\n",
              "      <td>16</td>\n",
              "      <td>0</td>\n",
              "      <td>0</td>\n",
              "      <td>0</td>\n",
              "      <td>0</td>\n",
              "      <td>18</td>\n",
              "      <td>2</td>\n",
              "      <td>2</td>\n",
              "      <td>5</td>\n",
              "      <td>9</td>\n",
              "      <td>34</td>\n",
              "      <td>2</td>\n",
              "      <td>2</td>\n",
              "      <td>5</td>\n",
              "      <td>9</td>\n",
              "      <td>LIE</td>\n",
              "      <td>0</td>\n",
              "      <td>15</td>\n",
              "    </tr>\n",
              "    <tr>\n",
              "      <th>Norway</th>\n",
              "      <td>24</td>\n",
              "      <td>56</td>\n",
              "      <td>49</td>\n",
              "      <td>43</td>\n",
              "      <td>148</td>\n",
              "      <td>22</td>\n",
              "      <td>118</td>\n",
              "      <td>111</td>\n",
              "      <td>100</td>\n",
              "      <td>329</td>\n",
              "      <td>46</td>\n",
              "      <td>174</td>\n",
              "      <td>160</td>\n",
              "      <td>143</td>\n",
              "      <td>477</td>\n",
              "      <td>NOR</td>\n",
              "      <td>309</td>\n",
              "      <td>676</td>\n",
              "    </tr>\n",
              "  </tbody>\n",
              "</table>\n",
              "</div>"
            ],
            "text/plain": [
              "               # Summer  Gold  Silver  Bronze  Total  # Winter  Gold.1  \\\n",
              "Austria              26    18      33      35     86        22      59   \n",
              "Liechtenstein        16     0       0       0      0        18       2   \n",
              "Norway               24    56      49      43    148        22     118   \n",
              "\n",
              "               Silver.1  Bronze.1  Total.1  # Games  Gold.2  Silver.2  \\\n",
              "Austria              78        81      218       48      77       111   \n",
              "Liechtenstein         2         5        9       34       2         2   \n",
              "Norway              111       100      329       46     174       160   \n",
              "\n",
              "               Bronze.2  Combined total   ID  points_summer  points_winter  \n",
              "Austria             116             304  AUT            155            414  \n",
              "Liechtenstein         5               9  LIE              0             15  \n",
              "Norway              143             477  NOR            309            676  "
            ]
          },
          "metadata": {
            "tags": []
          },
          "execution_count": 88
        }
      ]
    },
    {
      "metadata": {
        "id": "oFo9N1UDSDqL",
        "colab_type": "text"
      },
      "cell_type": "markdown",
      "source": [
        "¿Qué país tiene la menor diferencia relativa de puntos entre verano e invierno? Es decir, para cada país, calcula\n",
        "$$\n",
        "dif\\_rel = \\frac{|points\\_ summer - points\\_winter|}{points\\_summer + points\\_winter} \n",
        "$$"
      ]
    },
    {
      "metadata": {
        "collapsed": true,
        "id": "RujVfR8CSDqL",
        "colab_type": "code",
        "colab": {}
      },
      "cell_type": "code",
      "source": [
        "import numpy as np\n",
        "olympics['dif_rel'] = np.abs(olympics['points_summer'] - olympics['points_winter'])/(olympics['points_summer'] + olympics['points_winter'])"
      ],
      "execution_count": 0,
      "outputs": []
    },
    {
      "metadata": {
        "id": "cXCAn6aiSDqM",
        "colab_type": "code",
        "outputId": "9c6cb31a-6fc3-4a5c-f4b1-4145a19a1bc8",
        "colab": {}
      },
      "cell_type": "code",
      "source": [
        "olympics[olympics['dif_rel'] == min(olympics['dif_rel'])]"
      ],
      "execution_count": 0,
      "outputs": [
        {
          "output_type": "execute_result",
          "data": {
            "text/html": [
              "<div>\n",
              "<style>\n",
              "    .dataframe thead tr:only-child th {\n",
              "        text-align: right;\n",
              "    }\n",
              "\n",
              "    .dataframe thead th {\n",
              "        text-align: left;\n",
              "    }\n",
              "\n",
              "    .dataframe tbody tr th {\n",
              "        vertical-align: top;\n",
              "    }\n",
              "</style>\n",
              "<table border=\"1\" class=\"dataframe\">\n",
              "  <thead>\n",
              "    <tr style=\"text-align: right;\">\n",
              "      <th></th>\n",
              "      <th># Summer</th>\n",
              "      <th>Gold</th>\n",
              "      <th>Silver</th>\n",
              "      <th>Bronze</th>\n",
              "      <th>Total</th>\n",
              "      <th># Winter</th>\n",
              "      <th>Gold.1</th>\n",
              "      <th>Silver.1</th>\n",
              "      <th>Bronze.1</th>\n",
              "      <th>Total.1</th>\n",
              "      <th># Games</th>\n",
              "      <th>Gold.2</th>\n",
              "      <th>Silver.2</th>\n",
              "      <th>Bronze.2</th>\n",
              "      <th>Combined total</th>\n",
              "      <th>ID</th>\n",
              "      <th>points_summer</th>\n",
              "      <th>points_winter</th>\n",
              "      <th>dif_rel</th>\n",
              "    </tr>\n",
              "  </thead>\n",
              "  <tbody>\n",
              "    <tr>\n",
              "      <th>Luxembourg</th>\n",
              "      <td>22</td>\n",
              "      <td>1</td>\n",
              "      <td>1</td>\n",
              "      <td>0</td>\n",
              "      <td>2</td>\n",
              "      <td>8</td>\n",
              "      <td>0</td>\n",
              "      <td>2</td>\n",
              "      <td>0</td>\n",
              "      <td>2</td>\n",
              "      <td>30</td>\n",
              "      <td>1</td>\n",
              "      <td>3</td>\n",
              "      <td>0</td>\n",
              "      <td>4</td>\n",
              "      <td>LUX</td>\n",
              "      <td>5</td>\n",
              "      <td>4</td>\n",
              "      <td>0.111111</td>\n",
              "    </tr>\n",
              "  </tbody>\n",
              "</table>\n",
              "</div>"
            ],
            "text/plain": [
              "            # Summer  Gold  Silver  Bronze  Total  # Winter  Gold.1  Silver.1  \\\n",
              "Luxembourg        22     1       1       0      2         8       0         2   \n",
              "\n",
              "            Bronze.1  Total.1  # Games  Gold.2  Silver.2  Bronze.2  \\\n",
              "Luxembourg         0        2       30       1         3         0   \n",
              "\n",
              "            Combined total   ID  points_summer  points_winter   dif_rel  \n",
              "Luxembourg               4  LUX              5              4  0.111111  "
            ]
          },
          "metadata": {
            "tags": []
          },
          "execution_count": 90
        }
      ]
    },
    {
      "metadata": {
        "id": "aW4fztJdSDqO",
        "colab_type": "text"
      },
      "cell_type": "markdown",
      "source": [
        "## Fusionando dataframes\n",
        "\n",
        "Es habitual tener la información repartida en dos o más tablas. Para ello, pandas cuenta con la operación `merge`, que permite fusionar registros provenientes de diferentes tablas (similar al join de SQL). Empezamos con unos datos de ejemplo:"
      ]
    },
    {
      "metadata": {
        "id": "e7k0Lt1HSDqP",
        "colab_type": "code",
        "outputId": "c8da1649-9e27-41b6-98a5-fed4a1945989",
        "colab": {
          "base_uri": "https://localhost:8080/",
          "height": 204
        }
      },
      "cell_type": "code",
      "source": [
        "staff_df = pd.DataFrame([{'Nombre': 'Kelly', 'Rol': 'Director de RRHH'},\n",
        "                         {'Nombre': 'Sally', 'Rol': 'Profesor'},\n",
        "                         {'Nombre': 'James', 'Rol': 'Secretario'}])\n",
        "staff_df = staff_df.set_index('Nombre')\n",
        "school_df = pd.DataFrame([{'Nombre': 'James', 'Facultad': 'Negocios'},\n",
        "                           {'Nombre': 'Mike', 'Facultad': 'Derecho'},\n",
        "                           {'Nombre': 'Sally', 'Facultad': 'Ingeniería'}])\n",
        "school_df = school_df.set_index('Nombre')\n",
        "print(staff_df.head())\n",
        "print()\n",
        "print(school_df.head())"
      ],
      "execution_count": 0,
      "outputs": [
        {
          "output_type": "stream",
          "text": [
            "                     Rol\n",
            "Nombre                  \n",
            "Kelly   Director de RRHH\n",
            "Sally           Profesor\n",
            "James         Secretario\n",
            "\n",
            "          Facultad\n",
            "Nombre            \n",
            "James     Negocios\n",
            "Mike       Derecho\n",
            "Sally   Ingeniería\n"
          ],
          "name": "stdout"
        }
      ]
    },
    {
      "metadata": {
        "id": "Pd6pctTTSDqR",
        "colab_type": "text"
      },
      "cell_type": "markdown",
      "source": [
        "`merge` recibe dos tablas, y el argumento `how`, y una columna en cada tabla que servirá para establecer la correspondencia (en este caso, tomará la columna índice de cada tabla).\n",
        "\n",
        "Veremos todas las posibilidades de este argumento para entender las diferencias.\n",
        "\n",
        "Con `outer` la tabla combinada presenta los registros de la tabla izquierda (`staff_df`) y de la tabla derecha (`school_df`) aunque no tengan correspondencia. Por ejemplo, vemos que James era Secretario en la tabla izquierda y pertenecía a la Facultad de Negocios, así que la tabla resultante contiene esa observación. Sin embargo, Kelly sólo figuraba en la tabla Rol, por tanto aparece que su Facultad es Nan:"
      ]
    },
    {
      "metadata": {
        "id": "M6r4hecySDqR",
        "colab_type": "code",
        "outputId": "6abceece-10a2-41f9-c0f5-bbc500b8890a",
        "colab": {
          "base_uri": "https://localhost:8080/",
          "height": 204
        }
      },
      "cell_type": "code",
      "source": [
        "pd.merge(staff_df, school_df, how='outer', left_index=True, right_index=True)"
      ],
      "execution_count": 0,
      "outputs": [
        {
          "output_type": "execute_result",
          "data": {
            "text/html": [
              "<div>\n",
              "<style scoped>\n",
              "    .dataframe tbody tr th:only-of-type {\n",
              "        vertical-align: middle;\n",
              "    }\n",
              "\n",
              "    .dataframe tbody tr th {\n",
              "        vertical-align: top;\n",
              "    }\n",
              "\n",
              "    .dataframe thead th {\n",
              "        text-align: right;\n",
              "    }\n",
              "</style>\n",
              "<table border=\"1\" class=\"dataframe\">\n",
              "  <thead>\n",
              "    <tr style=\"text-align: right;\">\n",
              "      <th></th>\n",
              "      <th>Rol</th>\n",
              "      <th>Facultad</th>\n",
              "    </tr>\n",
              "    <tr>\n",
              "      <th>Nombre</th>\n",
              "      <th></th>\n",
              "      <th></th>\n",
              "    </tr>\n",
              "  </thead>\n",
              "  <tbody>\n",
              "    <tr>\n",
              "      <th>James</th>\n",
              "      <td>Secretario</td>\n",
              "      <td>Negocios</td>\n",
              "    </tr>\n",
              "    <tr>\n",
              "      <th>Kelly</th>\n",
              "      <td>Director de RRHH</td>\n",
              "      <td>NaN</td>\n",
              "    </tr>\n",
              "    <tr>\n",
              "      <th>Mike</th>\n",
              "      <td>NaN</td>\n",
              "      <td>Derecho</td>\n",
              "    </tr>\n",
              "    <tr>\n",
              "      <th>Sally</th>\n",
              "      <td>Profesor</td>\n",
              "      <td>Ingeniería</td>\n",
              "    </tr>\n",
              "  </tbody>\n",
              "</table>\n",
              "</div>"
            ],
            "text/plain": [
              "                     Rol    Facultad\n",
              "Nombre                              \n",
              "James         Secretario    Negocios\n",
              "Kelly   Director de RRHH         NaN\n",
              "Mike                 NaN     Derecho\n",
              "Sally           Profesor  Ingeniería"
            ]
          },
          "metadata": {
            "tags": []
          },
          "execution_count": 56
        }
      ]
    },
    {
      "metadata": {
        "id": "Drv20gusSDqU",
        "colab_type": "code",
        "outputId": "3ea72e25-a8e1-49f1-db57-ca495ec5b5de",
        "colab": {
          "base_uri": "https://localhost:8080/",
          "height": 142
        }
      },
      "cell_type": "code",
      "source": [
        "pd.merge(staff_df, school_df, how='inner', left_index=True, right_index=True)"
      ],
      "execution_count": 0,
      "outputs": [
        {
          "output_type": "execute_result",
          "data": {
            "text/html": [
              "<div>\n",
              "<style scoped>\n",
              "    .dataframe tbody tr th:only-of-type {\n",
              "        vertical-align: middle;\n",
              "    }\n",
              "\n",
              "    .dataframe tbody tr th {\n",
              "        vertical-align: top;\n",
              "    }\n",
              "\n",
              "    .dataframe thead th {\n",
              "        text-align: right;\n",
              "    }\n",
              "</style>\n",
              "<table border=\"1\" class=\"dataframe\">\n",
              "  <thead>\n",
              "    <tr style=\"text-align: right;\">\n",
              "      <th></th>\n",
              "      <th>Rol</th>\n",
              "      <th>Facultad</th>\n",
              "    </tr>\n",
              "    <tr>\n",
              "      <th>Nombre</th>\n",
              "      <th></th>\n",
              "      <th></th>\n",
              "    </tr>\n",
              "  </thead>\n",
              "  <tbody>\n",
              "    <tr>\n",
              "      <th>Sally</th>\n",
              "      <td>Profesor</td>\n",
              "      <td>Ingeniería</td>\n",
              "    </tr>\n",
              "    <tr>\n",
              "      <th>James</th>\n",
              "      <td>Secretario</td>\n",
              "      <td>Negocios</td>\n",
              "    </tr>\n",
              "  </tbody>\n",
              "</table>\n",
              "</div>"
            ],
            "text/plain": [
              "               Rol    Facultad\n",
              "Nombre                        \n",
              "Sally     Profesor  Ingeniería\n",
              "James   Secretario    Negocios"
            ]
          },
          "metadata": {
            "tags": []
          },
          "execution_count": 57
        }
      ]
    },
    {
      "metadata": {
        "id": "t_mfnNhKSDqW",
        "colab_type": "text"
      },
      "cell_type": "markdown",
      "source": [
        "`left` solo tiene en cuenta aquellas claves (en este caso el Nombre) que figuren en la tabla de la izquierda:"
      ]
    },
    {
      "metadata": {
        "id": "b722i40ZSDqW",
        "colab_type": "code",
        "outputId": "8e355f8b-7e6b-4ab6-9c9d-470f7b11b7bc",
        "colab": {
          "base_uri": "https://localhost:8080/",
          "height": 173
        }
      },
      "cell_type": "code",
      "source": [
        "pd.merge(staff_df, school_df, how='left', left_index=True, right_index=True)"
      ],
      "execution_count": 0,
      "outputs": [
        {
          "output_type": "execute_result",
          "data": {
            "text/html": [
              "<div>\n",
              "<style scoped>\n",
              "    .dataframe tbody tr th:only-of-type {\n",
              "        vertical-align: middle;\n",
              "    }\n",
              "\n",
              "    .dataframe tbody tr th {\n",
              "        vertical-align: top;\n",
              "    }\n",
              "\n",
              "    .dataframe thead th {\n",
              "        text-align: right;\n",
              "    }\n",
              "</style>\n",
              "<table border=\"1\" class=\"dataframe\">\n",
              "  <thead>\n",
              "    <tr style=\"text-align: right;\">\n",
              "      <th></th>\n",
              "      <th>Rol</th>\n",
              "      <th>Facultad</th>\n",
              "    </tr>\n",
              "    <tr>\n",
              "      <th>Nombre</th>\n",
              "      <th></th>\n",
              "      <th></th>\n",
              "    </tr>\n",
              "  </thead>\n",
              "  <tbody>\n",
              "    <tr>\n",
              "      <th>Kelly</th>\n",
              "      <td>Director de RRHH</td>\n",
              "      <td>NaN</td>\n",
              "    </tr>\n",
              "    <tr>\n",
              "      <th>Sally</th>\n",
              "      <td>Profesor</td>\n",
              "      <td>Ingeniería</td>\n",
              "    </tr>\n",
              "    <tr>\n",
              "      <th>James</th>\n",
              "      <td>Secretario</td>\n",
              "      <td>Negocios</td>\n",
              "    </tr>\n",
              "  </tbody>\n",
              "</table>\n",
              "</div>"
            ],
            "text/plain": [
              "                     Rol    Facultad\n",
              "Nombre                              \n",
              "Kelly   Director de RRHH         NaN\n",
              "Sally           Profesor  Ingeniería\n",
              "James         Secretario    Negocios"
            ]
          },
          "metadata": {
            "tags": []
          },
          "execution_count": 58
        }
      ]
    },
    {
      "metadata": {
        "id": "f6lc4G4SSDqY",
        "colab_type": "text"
      },
      "cell_type": "markdown",
      "source": [
        "`right` es análogo a `left`:"
      ]
    },
    {
      "metadata": {
        "id": "iCUBFj3jSDqZ",
        "colab_type": "code",
        "outputId": "ff84e164-b52f-4509-9605-2da4fdd30b40",
        "colab": {
          "base_uri": "https://localhost:8080/",
          "height": 173
        }
      },
      "cell_type": "code",
      "source": [
        "pd.merge(staff_df, school_df, how='right', left_index=True, right_index=True)"
      ],
      "execution_count": 0,
      "outputs": [
        {
          "output_type": "execute_result",
          "data": {
            "text/html": [
              "<div>\n",
              "<style scoped>\n",
              "    .dataframe tbody tr th:only-of-type {\n",
              "        vertical-align: middle;\n",
              "    }\n",
              "\n",
              "    .dataframe tbody tr th {\n",
              "        vertical-align: top;\n",
              "    }\n",
              "\n",
              "    .dataframe thead th {\n",
              "        text-align: right;\n",
              "    }\n",
              "</style>\n",
              "<table border=\"1\" class=\"dataframe\">\n",
              "  <thead>\n",
              "    <tr style=\"text-align: right;\">\n",
              "      <th></th>\n",
              "      <th>Rol</th>\n",
              "      <th>Facultad</th>\n",
              "    </tr>\n",
              "    <tr>\n",
              "      <th>Nombre</th>\n",
              "      <th></th>\n",
              "      <th></th>\n",
              "    </tr>\n",
              "  </thead>\n",
              "  <tbody>\n",
              "    <tr>\n",
              "      <th>James</th>\n",
              "      <td>Secretario</td>\n",
              "      <td>Negocios</td>\n",
              "    </tr>\n",
              "    <tr>\n",
              "      <th>Mike</th>\n",
              "      <td>NaN</td>\n",
              "      <td>Derecho</td>\n",
              "    </tr>\n",
              "    <tr>\n",
              "      <th>Sally</th>\n",
              "      <td>Profesor</td>\n",
              "      <td>Ingeniería</td>\n",
              "    </tr>\n",
              "  </tbody>\n",
              "</table>\n",
              "</div>"
            ],
            "text/plain": [
              "               Rol    Facultad\n",
              "Nombre                        \n",
              "James   Secretario    Negocios\n",
              "Mike           NaN     Derecho\n",
              "Sally     Profesor  Ingeniería"
            ]
          },
          "metadata": {
            "tags": []
          },
          "execution_count": 59
        }
      ]
    },
    {
      "metadata": {
        "id": "3Ku8aLdvSDqb",
        "colab_type": "text"
      },
      "cell_type": "markdown",
      "source": [
        "Ahora, asignaremos nuevos índices numéricos, y realizaremos un `merge`, especificando qué columnas queremos utilizar como claves en cada tabla"
      ]
    },
    {
      "metadata": {
        "id": "UNaMtsnRSDqb",
        "colab_type": "code",
        "outputId": "02492567-6c1a-4ae4-a8be-808f7acf01cf",
        "colab": {
          "base_uri": "https://localhost:8080/",
          "height": 142
        }
      },
      "cell_type": "code",
      "source": [
        "staff_df = staff_df.reset_index()\n",
        "school_df = school_df.reset_index()\n",
        "pd.merge(staff_df, school_df, how='left', left_on='Nombre', right_on='Nombre')"
      ],
      "execution_count": 0,
      "outputs": [
        {
          "output_type": "execute_result",
          "data": {
            "text/html": [
              "<div>\n",
              "<style scoped>\n",
              "    .dataframe tbody tr th:only-of-type {\n",
              "        vertical-align: middle;\n",
              "    }\n",
              "\n",
              "    .dataframe tbody tr th {\n",
              "        vertical-align: top;\n",
              "    }\n",
              "\n",
              "    .dataframe thead th {\n",
              "        text-align: right;\n",
              "    }\n",
              "</style>\n",
              "<table border=\"1\" class=\"dataframe\">\n",
              "  <thead>\n",
              "    <tr style=\"text-align: right;\">\n",
              "      <th></th>\n",
              "      <th>Nombre</th>\n",
              "      <th>Rol</th>\n",
              "      <th>Facultad</th>\n",
              "    </tr>\n",
              "  </thead>\n",
              "  <tbody>\n",
              "    <tr>\n",
              "      <th>0</th>\n",
              "      <td>Kelly</td>\n",
              "      <td>Director de RRHH</td>\n",
              "      <td>NaN</td>\n",
              "    </tr>\n",
              "    <tr>\n",
              "      <th>1</th>\n",
              "      <td>Sally</td>\n",
              "      <td>Profesor</td>\n",
              "      <td>Ingeniería</td>\n",
              "    </tr>\n",
              "    <tr>\n",
              "      <th>2</th>\n",
              "      <td>James</td>\n",
              "      <td>Secretario</td>\n",
              "      <td>Negocios</td>\n",
              "    </tr>\n",
              "  </tbody>\n",
              "</table>\n",
              "</div>"
            ],
            "text/plain": [
              "  Nombre               Rol    Facultad\n",
              "0  Kelly  Director de RRHH         NaN\n",
              "1  Sally          Profesor  Ingeniería\n",
              "2  James        Secretario    Negocios"
            ]
          },
          "metadata": {
            "tags": []
          },
          "execution_count": 60
        }
      ]
    },
    {
      "metadata": {
        "id": "fQwhnvejSDqe",
        "colab_type": "text"
      },
      "cell_type": "markdown",
      "source": [
        "Una observación: si además de la clave, en cada tabla tenemos columnas que se llaman igual (Ubicación en el ejemplo siguiente), al hacer el `merge` pandas añadirá sufijos para evitar la colisión de nombres"
      ]
    },
    {
      "metadata": {
        "id": "8rEl56kwSDqf",
        "colab_type": "code",
        "outputId": "3f9803c5-d6c7-4836-f089-98e31d39570c",
        "colab": {
          "base_uri": "https://localhost:8080/",
          "height": 170
        }
      },
      "cell_type": "code",
      "source": [
        "staff_df = pd.DataFrame([{'Nombre': 'Kelly', 'Rol': 'Director de RRHH', 'Ubicación': 'State Street'},\n",
        "                         {'Nombre': 'Sally', 'Rol': 'Profesor', 'Ubicación': 'Washington Avenue'},\n",
        "                         {'Nombre': 'James', 'Rol': 'Secretario', 'Ubicación': 'Washington Avenue'}])\n",
        "school_df = pd.DataFrame([{'Nombre': 'James', 'Facultad': 'Negocios', 'Ubicación': '1024 Billiard Avenue'},\n",
        "                           {'Nombre': 'Mike', 'Facultad': 'Derecho', 'Ubicación': 'Fraternity House #22'},\n",
        "                           {'Nombre': 'Sally', 'Facultad': 'Ingeniería', 'Ubicación': '512 Wilson Crescent'}])\n",
        "print(staff_df)\n",
        "print()\n",
        "print(school_df)"
      ],
      "execution_count": 0,
      "outputs": [
        {
          "output_type": "stream",
          "text": [
            "  Nombre               Rol          Ubicación\n",
            "0  Kelly  Director de RRHH       State Street\n",
            "1  Sally          Profesor  Washington Avenue\n",
            "2  James        Secretario  Washington Avenue\n",
            "\n",
            "     Facultad Nombre             Ubicación\n",
            "0    Negocios  James  1024 Billiard Avenue\n",
            "1     Derecho   Mike  Fraternity House #22\n",
            "2  Ingeniería  Sally   512 Wilson Crescent\n"
          ],
          "name": "stdout"
        }
      ]
    },
    {
      "metadata": {
        "id": "hLgs--PpSDqh",
        "colab_type": "code",
        "outputId": "3b8a5c8e-f7e2-492f-80fe-7e575431f20c",
        "colab": {}
      },
      "cell_type": "code",
      "source": [
        "pd.merge(staff_df, school_df, how='left', left_on='Nombre', right_on='Nombre')"
      ],
      "execution_count": 0,
      "outputs": [
        {
          "output_type": "execute_result",
          "data": {
            "text/html": [
              "<div>\n",
              "<style>\n",
              "    .dataframe thead tr:only-child th {\n",
              "        text-align: right;\n",
              "    }\n",
              "\n",
              "    .dataframe thead th {\n",
              "        text-align: left;\n",
              "    }\n",
              "\n",
              "    .dataframe tbody tr th {\n",
              "        vertical-align: top;\n",
              "    }\n",
              "</style>\n",
              "<table border=\"1\" class=\"dataframe\">\n",
              "  <thead>\n",
              "    <tr style=\"text-align: right;\">\n",
              "      <th></th>\n",
              "      <th>Nombre</th>\n",
              "      <th>Rol</th>\n",
              "      <th>Ubicación_x</th>\n",
              "      <th>Facultad</th>\n",
              "      <th>Ubicación_y</th>\n",
              "    </tr>\n",
              "  </thead>\n",
              "  <tbody>\n",
              "    <tr>\n",
              "      <th>0</th>\n",
              "      <td>Kelly</td>\n",
              "      <td>Director de RRHH</td>\n",
              "      <td>State Street</td>\n",
              "      <td>NaN</td>\n",
              "      <td>NaN</td>\n",
              "    </tr>\n",
              "    <tr>\n",
              "      <th>1</th>\n",
              "      <td>Sally</td>\n",
              "      <td>Profesor</td>\n",
              "      <td>Washington Avenue</td>\n",
              "      <td>Ingeniería</td>\n",
              "      <td>512 Wilson Crescent</td>\n",
              "    </tr>\n",
              "    <tr>\n",
              "      <th>2</th>\n",
              "      <td>James</td>\n",
              "      <td>Secretario</td>\n",
              "      <td>Washington Avenue</td>\n",
              "      <td>Negocios</td>\n",
              "      <td>1024 Billiard Avenue</td>\n",
              "    </tr>\n",
              "  </tbody>\n",
              "</table>\n",
              "</div>"
            ],
            "text/plain": [
              "  Nombre               Rol        Ubicación_x    Facultad  \\\n",
              "0  Kelly  Director de RRHH       State Street         NaN   \n",
              "1  Sally          Profesor  Washington Avenue  Ingeniería   \n",
              "2  James        Secretario  Washington Avenue    Negocios   \n",
              "\n",
              "            Ubicación_y  \n",
              "0                   NaN  \n",
              "1   512 Wilson Crescent  \n",
              "2  1024 Billiard Avenue  "
            ]
          },
          "metadata": {
            "tags": []
          },
          "execution_count": 98
        }
      ]
    },
    {
      "metadata": {
        "id": "PY-aCtzJSDqk",
        "colab_type": "text"
      },
      "cell_type": "markdown",
      "source": [
        "También es posible utilizar como clave varias columnas:"
      ]
    },
    {
      "metadata": {
        "id": "Gl-ybSGbSDqm",
        "colab_type": "code",
        "outputId": "2fee6d63-2517-4450-812e-f7b5b14bdfff",
        "colab": {
          "base_uri": "https://localhost:8080/",
          "height": 170
        }
      },
      "cell_type": "code",
      "source": [
        "staff_df = pd.DataFrame([{'Nombre': 'Sally', 'Apellido': 'Desjardins', 'Rol': 'Director de RRHH'},\n",
        "                         {'Nombre': 'Sally', 'Apellido': 'Brooks', 'Rol': 'Profesor'},\n",
        "                         {'Nombre': 'James', 'Apellido': 'Wilde', 'Rol': 'Secretario'}])\n",
        "school_df = pd.DataFrame([{'Nombre': 'James', 'Apellido': 'Hammond', 'Facultad': 'Negocios'},\n",
        "                           {'Nombre': 'Sally', 'Apellido': 'Smith', 'Facultad': 'Derecho'},\n",
        "                           {'Nombre': 'Sally', 'Apellido': 'Brooks', 'Facultad': 'Ingeniería'}])\n",
        "\n",
        "\n",
        "print(staff_df)\n",
        "print()\n",
        "print(school_df)\n"
      ],
      "execution_count": 0,
      "outputs": [
        {
          "output_type": "stream",
          "text": [
            "     Apellido Nombre               Rol\n",
            "0  Desjardins  Sally  Director de RRHH\n",
            "1      Brooks  Sally          Profesor\n",
            "2       Wilde  James        Secretario\n",
            "\n",
            "  Apellido    Facultad Nombre\n",
            "0  Hammond    Negocios  James\n",
            "1    Smith     Derecho  Sally\n",
            "2   Brooks  Ingeniería  Sally\n"
          ],
          "name": "stdout"
        }
      ]
    },
    {
      "metadata": {
        "id": "uUOOPCbhSDqr",
        "colab_type": "code",
        "outputId": "d6f14f0b-aefb-4983-c855-923a02401003",
        "colab": {
          "base_uri": "https://localhost:8080/",
          "height": 80
        }
      },
      "cell_type": "code",
      "source": [
        "pd.merge(staff_df, school_df, how='inner', left_on=['Nombre','Apellido'], right_on=['Nombre','Apellido'])"
      ],
      "execution_count": 0,
      "outputs": [
        {
          "output_type": "execute_result",
          "data": {
            "text/html": [
              "<div>\n",
              "<style scoped>\n",
              "    .dataframe tbody tr th:only-of-type {\n",
              "        vertical-align: middle;\n",
              "    }\n",
              "\n",
              "    .dataframe tbody tr th {\n",
              "        vertical-align: top;\n",
              "    }\n",
              "\n",
              "    .dataframe thead th {\n",
              "        text-align: right;\n",
              "    }\n",
              "</style>\n",
              "<table border=\"1\" class=\"dataframe\">\n",
              "  <thead>\n",
              "    <tr style=\"text-align: right;\">\n",
              "      <th></th>\n",
              "      <th>Apellido</th>\n",
              "      <th>Nombre</th>\n",
              "      <th>Rol</th>\n",
              "      <th>Facultad</th>\n",
              "    </tr>\n",
              "  </thead>\n",
              "  <tbody>\n",
              "    <tr>\n",
              "      <th>0</th>\n",
              "      <td>Brooks</td>\n",
              "      <td>Sally</td>\n",
              "      <td>Profesor</td>\n",
              "      <td>Ingeniería</td>\n",
              "    </tr>\n",
              "  </tbody>\n",
              "</table>\n",
              "</div>"
            ],
            "text/plain": [
              "  Apellido Nombre       Rol    Facultad\n",
              "0   Brooks  Sally  Profesor  Ingeniería"
            ]
          },
          "metadata": {
            "tags": []
          },
          "execution_count": 63
        }
      ]
    },
    {
      "metadata": {
        "id": "zwK0uTSOSDqt",
        "colab_type": "text"
      },
      "cell_type": "markdown",
      "source": [
        "## Ejercicio 2 \n",
        "<img src=\"https://www.shareicon.net/data/256x256/2016/06/09/778169_game_512x512.png\" alt=\"Exercise\" width=\"50\"/> \n",
        "\n",
        "Seguimos con las Olimpiadas. Carga la tabla `population.csv`, que para cada país nos da su población. Para simplificar, nos quedaremos con las poblaciones del año 2016 (haz un filtro). Después, combina las tablas olympics y population (de forma que no queden valores missing) para que en cada registro tengamos al menos el nombre del país, el número de medallas de oro, y su población. \n",
        "\n",
        "¿Qué país es el que tiene mayor ratio de medallas de oro por habitante?"
      ]
    },
    {
      "metadata": {
        "id": "RLTPtkUsSDqt",
        "colab_type": "code",
        "colab": {}
      },
      "cell_type": "code",
      "source": [
        "url='https://raw.githubusercontent.com/dgullate/Curso-IE/master/Week_1/data/population.csv?token=Ah4VEg_P7qLkucZLQcXcgCx5-rP56fXdks5cqKW_wA%3D%3D'\n",
        "pop = pd.read_csv(url)"
      ],
      "execution_count": 0,
      "outputs": []
    },
    {
      "metadata": {
        "id": "MKE3yDiDSDqx",
        "colab_type": "code",
        "outputId": "b9092873-da07-458e-ba4b-2247f809dca2",
        "colab": {
          "base_uri": "https://localhost:8080/",
          "height": 204
        }
      },
      "cell_type": "code",
      "source": [
        "pop.tail()"
      ],
      "execution_count": 0,
      "outputs": [
        {
          "output_type": "execute_result",
          "data": {
            "text/html": [
              "<div>\n",
              "<style scoped>\n",
              "    .dataframe tbody tr th:only-of-type {\n",
              "        vertical-align: middle;\n",
              "    }\n",
              "\n",
              "    .dataframe tbody tr th {\n",
              "        vertical-align: top;\n",
              "    }\n",
              "\n",
              "    .dataframe thead th {\n",
              "        text-align: right;\n",
              "    }\n",
              "</style>\n",
              "<table border=\"1\" class=\"dataframe\">\n",
              "  <thead>\n",
              "    <tr style=\"text-align: right;\">\n",
              "      <th></th>\n",
              "      <th>Country Name</th>\n",
              "      <th>Country Code</th>\n",
              "      <th>Year</th>\n",
              "      <th>Value</th>\n",
              "    </tr>\n",
              "  </thead>\n",
              "  <tbody>\n",
              "    <tr>\n",
              "      <th>14880</th>\n",
              "      <td>Zimbabwe</td>\n",
              "      <td>ZWE</td>\n",
              "      <td>2012</td>\n",
              "      <td>14710826.0</td>\n",
              "    </tr>\n",
              "    <tr>\n",
              "      <th>14881</th>\n",
              "      <td>Zimbabwe</td>\n",
              "      <td>ZWE</td>\n",
              "      <td>2013</td>\n",
              "      <td>15054506.0</td>\n",
              "    </tr>\n",
              "    <tr>\n",
              "      <th>14882</th>\n",
              "      <td>Zimbabwe</td>\n",
              "      <td>ZWE</td>\n",
              "      <td>2014</td>\n",
              "      <td>15411675.0</td>\n",
              "    </tr>\n",
              "    <tr>\n",
              "      <th>14883</th>\n",
              "      <td>Zimbabwe</td>\n",
              "      <td>ZWE</td>\n",
              "      <td>2015</td>\n",
              "      <td>15777451.0</td>\n",
              "    </tr>\n",
              "    <tr>\n",
              "      <th>14884</th>\n",
              "      <td>Zimbabwe</td>\n",
              "      <td>ZWE</td>\n",
              "      <td>2016</td>\n",
              "      <td>16150362.0</td>\n",
              "    </tr>\n",
              "  </tbody>\n",
              "</table>\n",
              "</div>"
            ],
            "text/plain": [
              "      Country Name Country Code  Year       Value\n",
              "14880     Zimbabwe          ZWE  2012  14710826.0\n",
              "14881     Zimbabwe          ZWE  2013  15054506.0\n",
              "14882     Zimbabwe          ZWE  2014  15411675.0\n",
              "14883     Zimbabwe          ZWE  2015  15777451.0\n",
              "14884     Zimbabwe          ZWE  2016  16150362.0"
            ]
          },
          "metadata": {
            "tags": []
          },
          "execution_count": 65
        }
      ]
    },
    {
      "metadata": {
        "id": "50MqrtxeSDqz",
        "colab_type": "code",
        "colab": {}
      },
      "cell_type": "code",
      "source": [
        "pop = pop[pop['Year'] == 2016]"
      ],
      "execution_count": 0,
      "outputs": []
    },
    {
      "metadata": {
        "id": "5MlLxV5hSDq1",
        "colab_type": "code",
        "colab": {}
      },
      "cell_type": "code",
      "source": [
        "pop.reset_index()"
      ],
      "execution_count": 0,
      "outputs": []
    },
    {
      "metadata": {
        "id": "00pRrrA9SDq2",
        "colab_type": "code",
        "colab": {}
      },
      "cell_type": "code",
      "source": [
        "olympics = olympics.reset_index()"
      ],
      "execution_count": 0,
      "outputs": []
    },
    {
      "metadata": {
        "id": "OiKZZFZDSDq4",
        "colab_type": "code",
        "outputId": "aa5c934b-7bd4-4cb1-8281-ae34502a2db2",
        "colab": {
          "base_uri": "https://localhost:8080/",
          "height": 233
        }
      },
      "cell_type": "code",
      "source": [
        "oly_pop = pd.merge(olympics, pop, how='inner', left_on='index', right_on='Country Name')\n",
        "oly_pop.head()"
      ],
      "execution_count": 0,
      "outputs": [
        {
          "output_type": "execute_result",
          "data": {
            "text/html": [
              "<div>\n",
              "<style scoped>\n",
              "    .dataframe tbody tr th:only-of-type {\n",
              "        vertical-align: middle;\n",
              "    }\n",
              "\n",
              "    .dataframe tbody tr th {\n",
              "        vertical-align: top;\n",
              "    }\n",
              "\n",
              "    .dataframe thead th {\n",
              "        text-align: right;\n",
              "    }\n",
              "</style>\n",
              "<table border=\"1\" class=\"dataframe\">\n",
              "  <thead>\n",
              "    <tr style=\"text-align: right;\">\n",
              "      <th></th>\n",
              "      <th>index</th>\n",
              "      <th># Summer</th>\n",
              "      <th>Gold</th>\n",
              "      <th>Silver</th>\n",
              "      <th>Bronze</th>\n",
              "      <th>Total</th>\n",
              "      <th># Winter</th>\n",
              "      <th>Gold.1</th>\n",
              "      <th>Silver.1</th>\n",
              "      <th>Bronze.1</th>\n",
              "      <th>...</th>\n",
              "      <th># Games</th>\n",
              "      <th>Gold.2</th>\n",
              "      <th>Silver.2</th>\n",
              "      <th>Bronze.2</th>\n",
              "      <th>Combined total</th>\n",
              "      <th>ID</th>\n",
              "      <th>Country Name</th>\n",
              "      <th>Country Code</th>\n",
              "      <th>Year</th>\n",
              "      <th>Value</th>\n",
              "    </tr>\n",
              "  </thead>\n",
              "  <tbody>\n",
              "    <tr>\n",
              "      <th>0</th>\n",
              "      <td>Afghanistan</td>\n",
              "      <td>13</td>\n",
              "      <td>0</td>\n",
              "      <td>0</td>\n",
              "      <td>2</td>\n",
              "      <td>2</td>\n",
              "      <td>0</td>\n",
              "      <td>0</td>\n",
              "      <td>0</td>\n",
              "      <td>0</td>\n",
              "      <td>...</td>\n",
              "      <td>13</td>\n",
              "      <td>0</td>\n",
              "      <td>0</td>\n",
              "      <td>2</td>\n",
              "      <td>2</td>\n",
              "      <td>AFG</td>\n",
              "      <td>Afghanistan</td>\n",
              "      <td>AFG</td>\n",
              "      <td>2016</td>\n",
              "      <td>34656032.0</td>\n",
              "    </tr>\n",
              "    <tr>\n",
              "      <th>1</th>\n",
              "      <td>Algeria</td>\n",
              "      <td>12</td>\n",
              "      <td>5</td>\n",
              "      <td>2</td>\n",
              "      <td>8</td>\n",
              "      <td>15</td>\n",
              "      <td>3</td>\n",
              "      <td>0</td>\n",
              "      <td>0</td>\n",
              "      <td>0</td>\n",
              "      <td>...</td>\n",
              "      <td>15</td>\n",
              "      <td>5</td>\n",
              "      <td>2</td>\n",
              "      <td>8</td>\n",
              "      <td>15</td>\n",
              "      <td>ALG</td>\n",
              "      <td>Algeria</td>\n",
              "      <td>DZA</td>\n",
              "      <td>2016</td>\n",
              "      <td>40606052.0</td>\n",
              "    </tr>\n",
              "    <tr>\n",
              "      <th>2</th>\n",
              "      <td>Argentina</td>\n",
              "      <td>23</td>\n",
              "      <td>18</td>\n",
              "      <td>24</td>\n",
              "      <td>28</td>\n",
              "      <td>70</td>\n",
              "      <td>18</td>\n",
              "      <td>0</td>\n",
              "      <td>0</td>\n",
              "      <td>0</td>\n",
              "      <td>...</td>\n",
              "      <td>41</td>\n",
              "      <td>18</td>\n",
              "      <td>24</td>\n",
              "      <td>28</td>\n",
              "      <td>70</td>\n",
              "      <td>ARG</td>\n",
              "      <td>Argentina</td>\n",
              "      <td>ARG</td>\n",
              "      <td>2016</td>\n",
              "      <td>43847430.0</td>\n",
              "    </tr>\n",
              "    <tr>\n",
              "      <th>3</th>\n",
              "      <td>Armenia</td>\n",
              "      <td>5</td>\n",
              "      <td>1</td>\n",
              "      <td>2</td>\n",
              "      <td>9</td>\n",
              "      <td>12</td>\n",
              "      <td>6</td>\n",
              "      <td>0</td>\n",
              "      <td>0</td>\n",
              "      <td>0</td>\n",
              "      <td>...</td>\n",
              "      <td>11</td>\n",
              "      <td>1</td>\n",
              "      <td>2</td>\n",
              "      <td>9</td>\n",
              "      <td>12</td>\n",
              "      <td>ARM</td>\n",
              "      <td>Armenia</td>\n",
              "      <td>ARM</td>\n",
              "      <td>2016</td>\n",
              "      <td>2924816.0</td>\n",
              "    </tr>\n",
              "    <tr>\n",
              "      <th>4</th>\n",
              "      <td>Australia</td>\n",
              "      <td>25</td>\n",
              "      <td>139</td>\n",
              "      <td>152</td>\n",
              "      <td>177</td>\n",
              "      <td>468</td>\n",
              "      <td>18</td>\n",
              "      <td>5</td>\n",
              "      <td>3</td>\n",
              "      <td>4</td>\n",
              "      <td>...</td>\n",
              "      <td>43</td>\n",
              "      <td>144</td>\n",
              "      <td>155</td>\n",
              "      <td>181</td>\n",
              "      <td>480</td>\n",
              "      <td>AUS</td>\n",
              "      <td>Australia</td>\n",
              "      <td>AUS</td>\n",
              "      <td>2016</td>\n",
              "      <td>24127159.0</td>\n",
              "    </tr>\n",
              "  </tbody>\n",
              "</table>\n",
              "<p>5 rows × 21 columns</p>\n",
              "</div>"
            ],
            "text/plain": [
              "         index  # Summer  Gold  Silver  Bronze  Total  # Winter  Gold.1  \\\n",
              "0  Afghanistan        13     0       0       2      2         0       0   \n",
              "1      Algeria        12     5       2       8     15         3       0   \n",
              "2    Argentina        23    18      24      28     70        18       0   \n",
              "3      Armenia         5     1       2       9     12         6       0   \n",
              "4    Australia        25   139     152     177    468        18       5   \n",
              "\n",
              "   Silver.1  Bronze.1     ...      # Games  Gold.2  Silver.2  Bronze.2  \\\n",
              "0         0         0     ...           13       0         0         2   \n",
              "1         0         0     ...           15       5         2         8   \n",
              "2         0         0     ...           41      18        24        28   \n",
              "3         0         0     ...           11       1         2         9   \n",
              "4         3         4     ...           43     144       155       181   \n",
              "\n",
              "   Combined total   ID Country Name Country Code  Year       Value  \n",
              "0               2  AFG  Afghanistan          AFG  2016  34656032.0  \n",
              "1              15  ALG      Algeria          DZA  2016  40606052.0  \n",
              "2              70  ARG    Argentina          ARG  2016  43847430.0  \n",
              "3              12  ARM      Armenia          ARM  2016   2924816.0  \n",
              "4             480  AUS    Australia          AUS  2016  24127159.0  \n",
              "\n",
              "[5 rows x 21 columns]"
            ]
          },
          "metadata": {
            "tags": []
          },
          "execution_count": 71
        }
      ]
    },
    {
      "metadata": {
        "id": "-4AWoIftSDq7",
        "colab_type": "code",
        "colab": {}
      },
      "cell_type": "code",
      "source": [
        "oly_pop['ratio'] = oly_pop['Gold'] / oly_pop['Value']"
      ],
      "execution_count": 0,
      "outputs": []
    },
    {
      "metadata": {
        "id": "DdfDQUrgSDq9",
        "colab_type": "code",
        "outputId": "9fd1771f-c52a-47a1-c72e-74534b5c7b8a",
        "colab": {
          "base_uri": "https://localhost:8080/",
          "height": 359
        }
      },
      "cell_type": "code",
      "source": [
        "oly_pop[['Country Name', 'ratio']].sort_values(by='ratio', ascending=False).reset_index(drop=True).head(10)"
      ],
      "execution_count": 0,
      "outputs": [
        {
          "output_type": "execute_result",
          "data": {
            "text/html": [
              "<div>\n",
              "<style scoped>\n",
              "    .dataframe tbody tr th:only-of-type {\n",
              "        vertical-align: middle;\n",
              "    }\n",
              "\n",
              "    .dataframe tbody tr th {\n",
              "        vertical-align: top;\n",
              "    }\n",
              "\n",
              "    .dataframe thead th {\n",
              "        text-align: right;\n",
              "    }\n",
              "</style>\n",
              "<table border=\"1\" class=\"dataframe\">\n",
              "  <thead>\n",
              "    <tr style=\"text-align: right;\">\n",
              "      <th></th>\n",
              "      <th>Country Name</th>\n",
              "      <th>ratio</th>\n",
              "    </tr>\n",
              "  </thead>\n",
              "  <tbody>\n",
              "    <tr>\n",
              "      <th>0</th>\n",
              "      <td>Finland</td>\n",
              "      <td>0.000018</td>\n",
              "    </tr>\n",
              "    <tr>\n",
              "      <th>1</th>\n",
              "      <td>Hungary</td>\n",
              "      <td>0.000017</td>\n",
              "    </tr>\n",
              "    <tr>\n",
              "      <th>2</th>\n",
              "      <td>Sweden</td>\n",
              "      <td>0.000014</td>\n",
              "    </tr>\n",
              "    <tr>\n",
              "      <th>3</th>\n",
              "      <td>Norway</td>\n",
              "      <td>0.000011</td>\n",
              "    </tr>\n",
              "    <tr>\n",
              "      <th>4</th>\n",
              "      <td>Grenada</td>\n",
              "      <td>0.000009</td>\n",
              "    </tr>\n",
              "    <tr>\n",
              "      <th>5</th>\n",
              "      <td>New Zealand</td>\n",
              "      <td>0.000009</td>\n",
              "    </tr>\n",
              "    <tr>\n",
              "      <th>6</th>\n",
              "      <td>Denmark</td>\n",
              "      <td>0.000008</td>\n",
              "    </tr>\n",
              "    <tr>\n",
              "      <th>7</th>\n",
              "      <td>Bulgaria</td>\n",
              "      <td>0.000007</td>\n",
              "    </tr>\n",
              "    <tr>\n",
              "      <th>8</th>\n",
              "      <td>Estonia</td>\n",
              "      <td>0.000007</td>\n",
              "    </tr>\n",
              "    <tr>\n",
              "      <th>9</th>\n",
              "      <td>Cuba</td>\n",
              "      <td>0.000006</td>\n",
              "    </tr>\n",
              "  </tbody>\n",
              "</table>\n",
              "</div>"
            ],
            "text/plain": [
              "  Country Name     ratio\n",
              "0      Finland  0.000018\n",
              "1      Hungary  0.000017\n",
              "2       Sweden  0.000014\n",
              "3       Norway  0.000011\n",
              "4      Grenada  0.000009\n",
              "5  New Zealand  0.000009\n",
              "6      Denmark  0.000008\n",
              "7     Bulgaria  0.000007\n",
              "8      Estonia  0.000007\n",
              "9         Cuba  0.000006"
            ]
          },
          "metadata": {
            "tags": []
          },
          "execution_count": 92
        }
      ]
    },
    {
      "metadata": {
        "id": "QVjBsYZhxDu_",
        "colab_type": "text"
      },
      "cell_type": "markdown",
      "source": [
        "Now do the same thing as before, but rank the 10 countries that have the largest ratio of gold medals to GDP. Can you guess before which will be the first ?"
      ]
    },
    {
      "metadata": {
        "id": "cTpN4DGtxCst",
        "colab_type": "code",
        "colab": {}
      },
      "cell_type": "code",
      "source": [
        "url='https://raw.githubusercontent.com/dgullate/Curso-IE/master/Week_1/data/gdp_csv.csv?token=Ah4VEh7CPzA7lzVfizWSEaX-V_TMFxt3ks5cqKk3wA%3D%3D'\n",
        "gdp = pd.read_csv(url)"
      ],
      "execution_count": 0,
      "outputs": []
    },
    {
      "metadata": {
        "id": "K9dYQScPyN1o",
        "colab_type": "code",
        "outputId": "1d4607ed-c71f-4ce8-b1d4-275493137f7b",
        "colab": {
          "base_uri": "https://localhost:8080/",
          "height": 359
        }
      },
      "cell_type": "code",
      "source": [
        "gdp = gdp[gdp['Year'] == 2015]\n",
        "gdp_oly_pop= pd.merge(oly_pop, gdp, how='inner', left_on='index', right_on='Country Name')\n",
        "gdp_oly_pop['gold2gdp_ratio']=gdp_oly_pop['Gold']/gdp_oly_pop['Value_y']\n",
        "gdp_oly_pop[['Country Name_x', 'gold2gdp_ratio']].sort_values(by='gold2gdp_ratio', ascending=False).reset_index(drop=True).head(10)"
      ],
      "execution_count": 0,
      "outputs": [
        {
          "output_type": "execute_result",
          "data": {
            "text/html": [
              "<div>\n",
              "<style scoped>\n",
              "    .dataframe tbody tr th:only-of-type {\n",
              "        vertical-align: middle;\n",
              "    }\n",
              "\n",
              "    .dataframe tbody tr th {\n",
              "        vertical-align: top;\n",
              "    }\n",
              "\n",
              "    .dataframe thead th {\n",
              "        text-align: right;\n",
              "    }\n",
              "</style>\n",
              "<table border=\"1\" class=\"dataframe\">\n",
              "  <thead>\n",
              "    <tr style=\"text-align: right;\">\n",
              "      <th></th>\n",
              "      <th>Country Name_x</th>\n",
              "      <th>gold2gdp_ratio</th>\n",
              "    </tr>\n",
              "  </thead>\n",
              "  <tbody>\n",
              "    <tr>\n",
              "      <th>0</th>\n",
              "      <td>Hungary</td>\n",
              "      <td>1.359060e-09</td>\n",
              "    </tr>\n",
              "    <tr>\n",
              "      <th>1</th>\n",
              "      <td>Jamaica</td>\n",
              "      <td>1.198290e-09</td>\n",
              "    </tr>\n",
              "    <tr>\n",
              "      <th>2</th>\n",
              "      <td>Bulgaria</td>\n",
              "      <td>1.015954e-09</td>\n",
              "    </tr>\n",
              "    <tr>\n",
              "      <th>3</th>\n",
              "      <td>Grenada</td>\n",
              "      <td>1.003001e-09</td>\n",
              "    </tr>\n",
              "    <tr>\n",
              "      <th>4</th>\n",
              "      <td>Cuba</td>\n",
              "      <td>8.263249e-10</td>\n",
              "    </tr>\n",
              "    <tr>\n",
              "      <th>5</th>\n",
              "      <td>Romania</td>\n",
              "      <td>4.946291e-10</td>\n",
              "    </tr>\n",
              "    <tr>\n",
              "      <th>6</th>\n",
              "      <td>Finland</td>\n",
              "      <td>4.345220e-10</td>\n",
              "    </tr>\n",
              "    <tr>\n",
              "      <th>7</th>\n",
              "      <td>Georgia</td>\n",
              "      <td>4.287691e-10</td>\n",
              "    </tr>\n",
              "    <tr>\n",
              "      <th>8</th>\n",
              "      <td>Estonia</td>\n",
              "      <td>3.988132e-10</td>\n",
              "    </tr>\n",
              "    <tr>\n",
              "      <th>9</th>\n",
              "      <td>Kenya</td>\n",
              "      <td>3.920490e-10</td>\n",
              "    </tr>\n",
              "  </tbody>\n",
              "</table>\n",
              "</div>"
            ],
            "text/plain": [
              "  Country Name_x  gold2gdp_ratio\n",
              "0        Hungary    1.359060e-09\n",
              "1        Jamaica    1.198290e-09\n",
              "2       Bulgaria    1.015954e-09\n",
              "3        Grenada    1.003001e-09\n",
              "4           Cuba    8.263249e-10\n",
              "5        Romania    4.946291e-10\n",
              "6        Finland    4.345220e-10\n",
              "7        Georgia    4.287691e-10\n",
              "8        Estonia    3.988132e-10\n",
              "9          Kenya    3.920490e-10"
            ]
          },
          "metadata": {
            "tags": []
          },
          "execution_count": 94
        }
      ]
    },
    {
      "metadata": {
        "id": "V3dHMMqSSDq_",
        "colab_type": "text"
      },
      "cell_type": "markdown",
      "source": [
        "## Agrupando valores en dataframes\n",
        "\n",
        "Una función muy importante de pandas es `groupby`, con  la que podremos realizar el siguiente proceso:\n",
        "\n",
        "* Separar la tabla en grupos en función de algún criterio\n",
        "* Aplicar alguna operación a cada grupo de forma independiente\n",
        "* Combinar los resultados en una nueva tabla\n",
        "\n",
        "Empezamos con la creación de grupos. El criterio de separación más habitual es mediante el valor de alguna variable categórica, por ejemplo el sexo, el día de la semana, etc...\n",
        "\n",
        "Vamos a hacer algunos ejemplos sobre la tabla `tips.csv`"
      ]
    },
    {
      "metadata": {
        "id": "AYC7YboqSDrA",
        "colab_type": "code",
        "outputId": "426348b6-bdf8-429f-a631-1af46535effb",
        "colab": {
          "base_uri": "https://localhost:8080/",
          "height": 2227
        }
      },
      "cell_type": "code",
      "source": [
        "for name, group in df.groupby(by=['sex']):\n",
        "    print(name)\n",
        "    print(group)"
      ],
      "execution_count": 0,
      "outputs": [
        {
          "output_type": "stream",
          "text": [
            "Female\n",
            "     total_bill   tip     sex smoker   day    time  size\n",
            "0         16.99  1.01  Female     No   Sun  Dinner     2\n",
            "4         24.59  3.61  Female     No   Sun  Dinner     4\n",
            "11        35.26  5.00  Female     No   Sun  Dinner     4\n",
            "14        14.83  3.02  Female     No   Sun  Dinner     2\n",
            "16        10.33  1.67  Female     No   Sun  Dinner     3\n",
            "18        16.97  3.50  Female     No   Sun  Dinner     3\n",
            "21        20.29  2.75  Female     No   Sat  Dinner     2\n",
            "22        15.77  2.23  Female     No   Sat  Dinner     2\n",
            "29        19.65  3.00  Female     No   Sat  Dinner     2\n",
            "32        15.06  3.00  Female     No   Sat  Dinner     2\n",
            "33        20.69  2.45  Female     No   Sat  Dinner     4\n",
            "37        16.93  3.07  Female     No   Sat  Dinner     3\n",
            "51        10.29  2.60  Female     No   Sun  Dinner     2\n",
            "52        34.81  5.20  Female     No   Sun  Dinner     4\n",
            "57        26.41  1.50  Female     No   Sat  Dinner     2\n",
            "66        16.45  2.47  Female     No   Sat  Dinner     2\n",
            "67         3.07  1.00  Female    Yes   Sat  Dinner     1\n",
            "71        17.07  3.00  Female     No   Sat  Dinner     3\n",
            "72        26.86  3.14  Female    Yes   Sat  Dinner     2\n",
            "73        25.28  5.00  Female    Yes   Sat  Dinner     2\n",
            "74        14.73  2.20  Female     No   Sat  Dinner     2\n",
            "82        10.07  1.83  Female     No  Thur   Lunch     1\n",
            "85        34.83  5.17  Female     No  Thur   Lunch     4\n",
            "92         5.75  1.00  Female    Yes   Fri  Dinner     2\n",
            "93        16.32  4.30  Female    Yes   Fri  Dinner     2\n",
            "94        22.75  3.25  Female     No   Fri  Dinner     2\n",
            "100       11.35  2.50  Female    Yes   Fri  Dinner     2\n",
            "101       15.38  3.00  Female    Yes   Fri  Dinner     2\n",
            "102       44.30  2.50  Female    Yes   Sat  Dinner     3\n",
            "103       22.42  3.48  Female    Yes   Sat  Dinner     2\n",
            "..          ...   ...     ...    ...   ...     ...   ...\n",
            "155       29.85  5.14  Female     No   Sun  Dinner     5\n",
            "157       25.00  3.75  Female     No   Sun  Dinner     4\n",
            "158       13.39  2.61  Female     No   Sun  Dinner     2\n",
            "162       16.21  2.00  Female     No   Sun  Dinner     3\n",
            "164       17.51  3.00  Female    Yes   Sun  Dinner     2\n",
            "168       10.59  1.61  Female    Yes   Sat  Dinner     2\n",
            "169       10.63  2.00  Female    Yes   Sat  Dinner     2\n",
            "178        9.60  4.00  Female    Yes   Sun  Dinner     2\n",
            "186       20.90  3.50  Female    Yes   Sun  Dinner     3\n",
            "188       18.15  3.50  Female    Yes   Sun  Dinner     3\n",
            "191       19.81  4.19  Female    Yes  Thur   Lunch     2\n",
            "197       43.11  5.00  Female    Yes  Thur   Lunch     4\n",
            "198       13.00  2.00  Female    Yes  Thur   Lunch     2\n",
            "201       12.74  2.01  Female    Yes  Thur   Lunch     2\n",
            "202       13.00  2.00  Female    Yes  Thur   Lunch     2\n",
            "203       16.40  2.50  Female    Yes  Thur   Lunch     2\n",
            "205       16.47  3.23  Female    Yes  Thur   Lunch     3\n",
            "209       12.76  2.23  Female    Yes   Sat  Dinner     2\n",
            "213       13.27  2.50  Female    Yes   Sat  Dinner     2\n",
            "214       28.17  6.50  Female    Yes   Sat  Dinner     3\n",
            "215       12.90  1.10  Female    Yes   Sat  Dinner     2\n",
            "219       30.14  3.09  Female    Yes   Sat  Dinner     4\n",
            "221       13.42  3.48  Female    Yes   Fri   Lunch     2\n",
            "223       15.98  3.00  Female     No   Fri   Lunch     3\n",
            "225       16.27  2.50  Female    Yes   Fri   Lunch     2\n",
            "226       10.09  2.00  Female    Yes   Fri   Lunch     2\n",
            "229       22.12  2.88  Female    Yes   Sat  Dinner     2\n",
            "238       35.83  4.67  Female     No   Sat  Dinner     3\n",
            "240       27.18  2.00  Female    Yes   Sat  Dinner     2\n",
            "243       18.78  3.00  Female     No  Thur  Dinner     2\n",
            "\n",
            "[87 rows x 7 columns]\n",
            "Male\n",
            "     total_bill   tip   sex smoker   day    time  size\n",
            "1         10.34  1.66  Male     No   Sun  Dinner     3\n",
            "2         21.01  3.50  Male     No   Sun  Dinner     3\n",
            "3         23.68  3.31  Male     No   Sun  Dinner     2\n",
            "5         25.29  4.71  Male     No   Sun  Dinner     4\n",
            "6          8.77  2.00  Male     No   Sun  Dinner     2\n",
            "7         26.88  3.12  Male     No   Sun  Dinner     4\n",
            "8         15.04  1.96  Male     No   Sun  Dinner     2\n",
            "9         14.78  3.23  Male     No   Sun  Dinner     2\n",
            "10        10.27  1.71  Male     No   Sun  Dinner     2\n",
            "12        15.42  1.57  Male     No   Sun  Dinner     2\n",
            "13        18.43  3.00  Male     No   Sun  Dinner     4\n",
            "15        21.58  3.92  Male     No   Sun  Dinner     2\n",
            "17        16.29  3.71  Male     No   Sun  Dinner     3\n",
            "19        20.65  3.35  Male     No   Sat  Dinner     3\n",
            "20        17.92  4.08  Male     No   Sat  Dinner     2\n",
            "23        39.42  7.58  Male     No   Sat  Dinner     4\n",
            "24        19.82  3.18  Male     No   Sat  Dinner     2\n",
            "25        17.81  2.34  Male     No   Sat  Dinner     4\n",
            "26        13.37  2.00  Male     No   Sat  Dinner     2\n",
            "27        12.69  2.00  Male     No   Sat  Dinner     2\n",
            "28        21.70  4.30  Male     No   Sat  Dinner     2\n",
            "30         9.55  1.45  Male     No   Sat  Dinner     2\n",
            "31        18.35  2.50  Male     No   Sat  Dinner     4\n",
            "34        17.78  3.27  Male     No   Sat  Dinner     2\n",
            "35        24.06  3.60  Male     No   Sat  Dinner     3\n",
            "36        16.31  2.00  Male     No   Sat  Dinner     3\n",
            "38        18.69  2.31  Male     No   Sat  Dinner     3\n",
            "39        31.27  5.00  Male     No   Sat  Dinner     3\n",
            "40        16.04  2.24  Male     No   Sat  Dinner     3\n",
            "41        17.46  2.54  Male     No   Sun  Dinner     2\n",
            "..          ...   ...   ...    ...   ...     ...   ...\n",
            "195        7.56  1.44  Male     No  Thur   Lunch     2\n",
            "196       10.34  2.00  Male    Yes  Thur   Lunch     2\n",
            "199       13.51  2.00  Male    Yes  Thur   Lunch     2\n",
            "200       18.71  4.00  Male    Yes  Thur   Lunch     3\n",
            "204       20.53  4.00  Male    Yes  Thur   Lunch     4\n",
            "206       26.59  3.41  Male    Yes   Sat  Dinner     3\n",
            "207       38.73  3.00  Male    Yes   Sat  Dinner     4\n",
            "208       24.27  2.03  Male    Yes   Sat  Dinner     2\n",
            "210       30.06  2.00  Male    Yes   Sat  Dinner     3\n",
            "211       25.89  5.16  Male    Yes   Sat  Dinner     4\n",
            "212       48.33  9.00  Male     No   Sat  Dinner     4\n",
            "216       28.15  3.00  Male    Yes   Sat  Dinner     5\n",
            "217       11.59  1.50  Male    Yes   Sat  Dinner     2\n",
            "218        7.74  1.44  Male    Yes   Sat  Dinner     2\n",
            "220       12.16  2.20  Male    Yes   Fri   Lunch     2\n",
            "222        8.58  1.92  Male    Yes   Fri   Lunch     1\n",
            "224       13.42  1.58  Male    Yes   Fri   Lunch     2\n",
            "227       20.45  3.00  Male     No   Sat  Dinner     4\n",
            "228       13.28  2.72  Male     No   Sat  Dinner     2\n",
            "230       24.01  2.00  Male    Yes   Sat  Dinner     4\n",
            "231       15.69  3.00  Male    Yes   Sat  Dinner     3\n",
            "232       11.61  3.39  Male     No   Sat  Dinner     2\n",
            "233       10.77  1.47  Male     No   Sat  Dinner     2\n",
            "234       15.53  3.00  Male    Yes   Sat  Dinner     2\n",
            "235       10.07  1.25  Male     No   Sat  Dinner     2\n",
            "236       12.60  1.00  Male    Yes   Sat  Dinner     2\n",
            "237       32.83  1.17  Male    Yes   Sat  Dinner     2\n",
            "239       29.03  5.92  Male     No   Sat  Dinner     3\n",
            "241       22.67  2.00  Male    Yes   Sat  Dinner     2\n",
            "242       17.82  1.75  Male     No   Sat  Dinner     2\n",
            "\n",
            "[157 rows x 7 columns]\n"
          ],
          "name": "stdout"
        }
      ]
    },
    {
      "metadata": {
        "id": "RgEl1_QwSDrD",
        "colab_type": "text"
      },
      "cell_type": "markdown",
      "source": [
        "También podemos especificar varias variables para agrupar. En este caso como hay dos valores por sexo, y seis por tamaño de mesa, se crearán 12 grupos"
      ]
    },
    {
      "metadata": {
        "id": "bRtMVSVsSDrD",
        "colab_type": "code",
        "outputId": "e1d08366-efad-4797-fc94-08a502afae6b",
        "colab": {
          "base_uri": "https://localhost:8080/",
          "height": 3978
        }
      },
      "cell_type": "code",
      "source": [
        "for name, group in df.groupby(by=['sex', 'size']):\n",
        "    print(name)\n",
        "    print(group)"
      ],
      "execution_count": 0,
      "outputs": [
        {
          "output_type": "stream",
          "text": [
            "('Female', 1)\n",
            "     total_bill   tip     sex smoker   day    time  size\n",
            "67         3.07  1.00  Female    Yes   Sat  Dinner     1\n",
            "82        10.07  1.83  Female     No  Thur   Lunch     1\n",
            "111        7.25  1.00  Female     No   Sat  Dinner     1\n",
            "('Female', 2)\n",
            "     total_bill   tip     sex smoker   day    time  size\n",
            "0         16.99  1.01  Female     No   Sun  Dinner     2\n",
            "14        14.83  3.02  Female     No   Sun  Dinner     2\n",
            "21        20.29  2.75  Female     No   Sat  Dinner     2\n",
            "22        15.77  2.23  Female     No   Sat  Dinner     2\n",
            "29        19.65  3.00  Female     No   Sat  Dinner     2\n",
            "32        15.06  3.00  Female     No   Sat  Dinner     2\n",
            "51        10.29  2.60  Female     No   Sun  Dinner     2\n",
            "57        26.41  1.50  Female     No   Sat  Dinner     2\n",
            "66        16.45  2.47  Female     No   Sat  Dinner     2\n",
            "72        26.86  3.14  Female    Yes   Sat  Dinner     2\n",
            "73        25.28  5.00  Female    Yes   Sat  Dinner     2\n",
            "74        14.73  2.20  Female     No   Sat  Dinner     2\n",
            "92         5.75  1.00  Female    Yes   Fri  Dinner     2\n",
            "93        16.32  4.30  Female    Yes   Fri  Dinner     2\n",
            "94        22.75  3.25  Female     No   Fri  Dinner     2\n",
            "100       11.35  2.50  Female    Yes   Fri  Dinner     2\n",
            "101       15.38  3.00  Female    Yes   Fri  Dinner     2\n",
            "103       22.42  3.48  Female    Yes   Sat  Dinner     2\n",
            "104       20.92  4.08  Female     No   Sat  Dinner     2\n",
            "109       14.31  4.00  Female    Yes   Sat  Dinner     2\n",
            "115       17.31  3.50  Female     No   Sun  Dinner     2\n",
            "117       10.65  1.50  Female     No  Thur   Lunch     2\n",
            "118       12.43  1.80  Female     No  Thur   Lunch     2\n",
            "121       13.42  1.68  Female     No  Thur   Lunch     2\n",
            "124       12.48  2.52  Female     No  Thur   Lunch     2\n",
            "127       14.52  2.00  Female     No  Thur   Lunch     2\n",
            "128       11.38  2.00  Female     No  Thur   Lunch     2\n",
            "131       20.27  2.83  Female     No  Thur   Lunch     2\n",
            "132       11.17  1.50  Female     No  Thur   Lunch     2\n",
            "133       12.26  2.00  Female     No  Thur   Lunch     2\n",
            "134       18.26  3.25  Female     No  Thur   Lunch     2\n",
            "135        8.51  1.25  Female     No  Thur   Lunch     2\n",
            "136       10.33  2.00  Female     No  Thur   Lunch     2\n",
            "137       14.15  2.00  Female     No  Thur   Lunch     2\n",
            "139       13.16  2.75  Female     No  Thur   Lunch     2\n",
            "140       17.47  3.50  Female     No  Thur   Lunch     2\n",
            "144       16.43  2.30  Female     No  Thur   Lunch     2\n",
            "145        8.35  1.50  Female     No  Thur   Lunch     2\n",
            "147       11.87  1.63  Female     No  Thur   Lunch     2\n",
            "158       13.39  2.61  Female     No   Sun  Dinner     2\n",
            "164       17.51  3.00  Female    Yes   Sun  Dinner     2\n",
            "168       10.59  1.61  Female    Yes   Sat  Dinner     2\n",
            "169       10.63  2.00  Female    Yes   Sat  Dinner     2\n",
            "178        9.60  4.00  Female    Yes   Sun  Dinner     2\n",
            "191       19.81  4.19  Female    Yes  Thur   Lunch     2\n",
            "198       13.00  2.00  Female    Yes  Thur   Lunch     2\n",
            "201       12.74  2.01  Female    Yes  Thur   Lunch     2\n",
            "202       13.00  2.00  Female    Yes  Thur   Lunch     2\n",
            "203       16.40  2.50  Female    Yes  Thur   Lunch     2\n",
            "209       12.76  2.23  Female    Yes   Sat  Dinner     2\n",
            "213       13.27  2.50  Female    Yes   Sat  Dinner     2\n",
            "215       12.90  1.10  Female    Yes   Sat  Dinner     2\n",
            "221       13.42  3.48  Female    Yes   Fri   Lunch     2\n",
            "225       16.27  2.50  Female    Yes   Fri   Lunch     2\n",
            "226       10.09  2.00  Female    Yes   Fri   Lunch     2\n",
            "229       22.12  2.88  Female    Yes   Sat  Dinner     2\n",
            "240       27.18  2.00  Female    Yes   Sat  Dinner     2\n",
            "243       18.78  3.00  Female     No  Thur  Dinner     2\n",
            "('Female', 3)\n",
            "     total_bill   tip     sex smoker   day    time  size\n",
            "16        10.33  1.67  Female     No   Sun  Dinner     3\n",
            "18        16.97  3.50  Female     No   Sun  Dinner     3\n",
            "37        16.93  3.07  Female     No   Sat  Dinner     3\n",
            "71        17.07  3.00  Female     No   Sat  Dinner     3\n",
            "102       44.30  2.50  Female    Yes   Sat  Dinner     3\n",
            "114       25.71  4.00  Female     No   Sun  Dinner     3\n",
            "146       18.64  1.36  Female     No  Thur   Lunch     3\n",
            "162       16.21  2.00  Female     No   Sun  Dinner     3\n",
            "186       20.90  3.50  Female    Yes   Sun  Dinner     3\n",
            "188       18.15  3.50  Female    Yes   Sun  Dinner     3\n",
            "205       16.47  3.23  Female    Yes  Thur   Lunch     3\n",
            "214       28.17  6.50  Female    Yes   Sat  Dinner     3\n",
            "223       15.98  3.00  Female     No   Fri   Lunch     3\n",
            "238       35.83  4.67  Female     No   Sat  Dinner     3\n",
            "('Female', 4)\n",
            "     total_bill   tip     sex smoker   day    time  size\n",
            "4         24.59  3.61  Female     No   Sun  Dinner     4\n",
            "11        35.26  5.00  Female     No   Sun  Dinner     4\n",
            "33        20.69  2.45  Female     No   Sat  Dinner     4\n",
            "52        34.81  5.20  Female     No   Sun  Dinner     4\n",
            "85        34.83  5.17  Female     No  Thur   Lunch     4\n",
            "119       24.08  2.92  Female     No  Thur   Lunch     4\n",
            "157       25.00  3.75  Female     No   Sun  Dinner     4\n",
            "197       43.11  5.00  Female    Yes  Thur   Lunch     4\n",
            "219       30.14  3.09  Female    Yes   Sat  Dinner     4\n",
            "('Female', 5)\n",
            "     total_bill   tip     sex smoker  day    time  size\n",
            "155       29.85  5.14  Female     No  Sun  Dinner     5\n",
            "('Female', 6)\n",
            "     total_bill  tip     sex smoker   day   time  size\n",
            "125       29.80  4.2  Female     No  Thur  Lunch     6\n",
            "143       27.05  5.0  Female     No  Thur  Lunch     6\n",
            "('Male', 1)\n",
            "     total_bill   tip   sex smoker  day   time  size\n",
            "222        8.58  1.92  Male    Yes  Fri  Lunch     1\n",
            "('Male', 2)\n",
            "     total_bill   tip   sex smoker   day    time  size\n",
            "3         23.68  3.31  Male     No   Sun  Dinner     2\n",
            "6          8.77  2.00  Male     No   Sun  Dinner     2\n",
            "8         15.04  1.96  Male     No   Sun  Dinner     2\n",
            "9         14.78  3.23  Male     No   Sun  Dinner     2\n",
            "10        10.27  1.71  Male     No   Sun  Dinner     2\n",
            "12        15.42  1.57  Male     No   Sun  Dinner     2\n",
            "15        21.58  3.92  Male     No   Sun  Dinner     2\n",
            "20        17.92  4.08  Male     No   Sat  Dinner     2\n",
            "24        19.82  3.18  Male     No   Sat  Dinner     2\n",
            "26        13.37  2.00  Male     No   Sat  Dinner     2\n",
            "27        12.69  2.00  Male     No   Sat  Dinner     2\n",
            "28        21.70  4.30  Male     No   Sat  Dinner     2\n",
            "30         9.55  1.45  Male     No   Sat  Dinner     2\n",
            "34        17.78  3.27  Male     No   Sat  Dinner     2\n",
            "41        17.46  2.54  Male     No   Sun  Dinner     2\n",
            "42        13.94  3.06  Male     No   Sun  Dinner     2\n",
            "43         9.68  1.32  Male     No   Sun  Dinner     2\n",
            "45        18.29  3.00  Male     No   Sun  Dinner     2\n",
            "46        22.23  5.00  Male     No   Sun  Dinner     2\n",
            "49        18.04  3.00  Male     No   Sun  Dinner     2\n",
            "50        12.54  2.50  Male     No   Sun  Dinner     2\n",
            "53         9.94  1.56  Male     No   Sun  Dinner     2\n",
            "55        19.49  3.51  Male     No   Sun  Dinner     2\n",
            "58        11.24  1.76  Male    Yes   Sat  Dinner     2\n",
            "60        20.29  3.21  Male    Yes   Sat  Dinner     2\n",
            "61        13.81  2.00  Male    Yes   Sat  Dinner     2\n",
            "62        11.02  1.98  Male    Yes   Sat  Dinner     2\n",
            "68        20.23  2.01  Male     No   Sat  Dinner     2\n",
            "69        15.01  2.09  Male    Yes   Sat  Dinner     2\n",
            "70        12.02  1.97  Male     No   Sat  Dinner     2\n",
            "..          ...   ...   ...    ...   ...     ...   ...\n",
            "172        7.25  5.15  Male    Yes   Sun  Dinner     2\n",
            "173       31.85  3.18  Male    Yes   Sun  Dinner     2\n",
            "174       16.82  4.00  Male    Yes   Sun  Dinner     2\n",
            "175       32.90  3.11  Male    Yes   Sun  Dinner     2\n",
            "176       17.89  2.00  Male    Yes   Sun  Dinner     2\n",
            "177       14.48  2.00  Male    Yes   Sun  Dinner     2\n",
            "179       34.63  3.55  Male    Yes   Sun  Dinner     2\n",
            "181       23.33  5.65  Male    Yes   Sun  Dinner     2\n",
            "184       40.55  3.00  Male    Yes   Sun  Dinner     2\n",
            "190       15.69  1.50  Male    Yes   Sun  Dinner     2\n",
            "192       28.44  2.56  Male    Yes  Thur   Lunch     2\n",
            "193       15.48  2.02  Male    Yes  Thur   Lunch     2\n",
            "194       16.58  4.00  Male    Yes  Thur   Lunch     2\n",
            "195        7.56  1.44  Male     No  Thur   Lunch     2\n",
            "196       10.34  2.00  Male    Yes  Thur   Lunch     2\n",
            "199       13.51  2.00  Male    Yes  Thur   Lunch     2\n",
            "208       24.27  2.03  Male    Yes   Sat  Dinner     2\n",
            "217       11.59  1.50  Male    Yes   Sat  Dinner     2\n",
            "218        7.74  1.44  Male    Yes   Sat  Dinner     2\n",
            "220       12.16  2.20  Male    Yes   Fri   Lunch     2\n",
            "224       13.42  1.58  Male    Yes   Fri   Lunch     2\n",
            "228       13.28  2.72  Male     No   Sat  Dinner     2\n",
            "232       11.61  3.39  Male     No   Sat  Dinner     2\n",
            "233       10.77  1.47  Male     No   Sat  Dinner     2\n",
            "234       15.53  3.00  Male    Yes   Sat  Dinner     2\n",
            "235       10.07  1.25  Male     No   Sat  Dinner     2\n",
            "236       12.60  1.00  Male    Yes   Sat  Dinner     2\n",
            "237       32.83  1.17  Male    Yes   Sat  Dinner     2\n",
            "241       22.67  2.00  Male    Yes   Sat  Dinner     2\n",
            "242       17.82  1.75  Male     No   Sat  Dinner     2\n",
            "\n",
            "[98 rows x 7 columns]\n",
            "('Male', 3)\n",
            "     total_bill    tip   sex smoker   day    time  size\n",
            "1         10.34   1.66  Male     No   Sun  Dinner     3\n",
            "2         21.01   3.50  Male     No   Sun  Dinner     3\n",
            "17        16.29   3.71  Male     No   Sun  Dinner     3\n",
            "19        20.65   3.35  Male     No   Sat  Dinner     3\n",
            "35        24.06   3.60  Male     No   Sat  Dinner     3\n",
            "36        16.31   2.00  Male     No   Sat  Dinner     3\n",
            "38        18.69   2.31  Male     No   Sat  Dinner     3\n",
            "39        31.27   5.00  Male     No   Sat  Dinner     3\n",
            "40        16.04   2.24  Male     No   Sat  Dinner     3\n",
            "48        28.55   2.05  Male     No   Sun  Dinner     3\n",
            "64        17.59   2.64  Male     No   Sat  Dinner     3\n",
            "65        20.08   3.15  Male     No   Sat  Dinner     3\n",
            "112       38.07   4.00  Male     No   Sun  Dinner     3\n",
            "129       22.82   2.18  Male     No  Thur   Lunch     3\n",
            "152       17.26   2.74  Male     No   Sun  Dinner     3\n",
            "165       24.52   3.48  Male     No   Sun  Dinner     3\n",
            "170       50.81  10.00  Male    Yes   Sat  Dinner     3\n",
            "182       45.35   3.50  Male    Yes   Sun  Dinner     3\n",
            "189       23.10   4.00  Male    Yes   Sun  Dinner     3\n",
            "200       18.71   4.00  Male    Yes  Thur   Lunch     3\n",
            "206       26.59   3.41  Male    Yes   Sat  Dinner     3\n",
            "210       30.06   2.00  Male    Yes   Sat  Dinner     3\n",
            "231       15.69   3.00  Male    Yes   Sat  Dinner     3\n",
            "239       29.03   5.92  Male     No   Sat  Dinner     3\n",
            "('Male', 4)\n",
            "     total_bill   tip   sex smoker   day    time  size\n",
            "5         25.29  4.71  Male     No   Sun  Dinner     4\n",
            "7         26.88  3.12  Male     No   Sun  Dinner     4\n",
            "13        18.43  3.00  Male     No   Sun  Dinner     4\n",
            "23        39.42  7.58  Male     No   Sat  Dinner     4\n",
            "25        17.81  2.34  Male     No   Sat  Dinner     4\n",
            "31        18.35  2.50  Male     No   Sat  Dinner     4\n",
            "44        30.40  5.60  Male     No   Sun  Dinner     4\n",
            "47        32.40  6.00  Male     No   Sun  Dinner     4\n",
            "54        25.56  4.34  Male     No   Sun  Dinner     4\n",
            "56        38.01  3.00  Male    Yes   Sat  Dinner     4\n",
            "59        48.27  6.73  Male     No   Sat  Dinner     4\n",
            "63        18.29  3.76  Male    Yes   Sat  Dinner     4\n",
            "77        27.20  4.00  Male     No  Thur   Lunch     4\n",
            "95        40.17  4.73  Male    Yes   Fri  Dinner     4\n",
            "116       29.93  5.07  Male     No   Sun  Dinner     4\n",
            "153       24.55  2.00  Male     No   Sun  Dinner     4\n",
            "154       19.77  2.00  Male     No   Sun  Dinner     4\n",
            "159       16.49  2.00  Male     No   Sun  Dinner     4\n",
            "160       21.50  3.50  Male     No   Sun  Dinner     4\n",
            "167       31.71  4.50  Male     No   Sun  Dinner     4\n",
            "180       34.65  3.68  Male    Yes   Sun  Dinner     4\n",
            "183       23.17  6.50  Male    Yes   Sun  Dinner     4\n",
            "204       20.53  4.00  Male    Yes  Thur   Lunch     4\n",
            "207       38.73  3.00  Male    Yes   Sat  Dinner     4\n",
            "211       25.89  5.16  Male    Yes   Sat  Dinner     4\n",
            "212       48.33  9.00  Male     No   Sat  Dinner     4\n",
            "227       20.45  3.00  Male     No   Sat  Dinner     4\n",
            "230       24.01  2.00  Male    Yes   Sat  Dinner     4\n",
            "('Male', 5)\n",
            "     total_bill  tip   sex smoker   day    time  size\n",
            "142       41.19  5.0  Male     No  Thur   Lunch     5\n",
            "185       20.69  5.0  Male     No   Sun  Dinner     5\n",
            "187       30.46  2.0  Male    Yes   Sun  Dinner     5\n",
            "216       28.15  3.0  Male    Yes   Sat  Dinner     5\n",
            "('Male', 6)\n",
            "     total_bill  tip   sex smoker   day    time  size\n",
            "141       34.30  6.7  Male     No  Thur   Lunch     6\n",
            "156       48.17  5.0  Male     No   Sun  Dinner     6\n"
          ],
          "name": "stdout"
        }
      ]
    },
    {
      "metadata": {
        "id": "idnzSde3SDrI",
        "colab_type": "text"
      },
      "cell_type": "markdown",
      "source": [
        "Una vez, hemos realizado los grupos, podemos aplicar funciones sobre ellos. Por ejemplo, vamos a calcular la media de la factura para cada grupo"
      ]
    },
    {
      "metadata": {
        "id": "PdaPztJXSDrI",
        "colab_type": "code",
        "outputId": "ec7f0b53-b5d1-4c0b-fba5-480e786ff41f",
        "colab": {
          "base_uri": "https://localhost:8080/",
          "height": 221
        }
      },
      "cell_type": "code",
      "source": [
        "for name, group in df.groupby(by=['sex', 'size']):\n",
        "    print(name, group['total_bill'].mean())\n",
        "    # equivalente a np.mean(group['total_bill'])"
      ],
      "execution_count": 0,
      "outputs": [
        {
          "output_type": "stream",
          "text": [
            "('Female', 1) 6.796666666666667\n",
            "('Female', 2) 15.339482758620687\n",
            "('Female', 3) 21.54714285714286\n",
            "('Female', 4) 30.278888888888886\n",
            "('Female', 5) 29.85\n",
            "('Female', 6) 28.425\n",
            "('Male', 1) 8.58\n",
            "('Male', 2) 17.10408163265306\n",
            "('Male', 3) 24.28708333333333\n",
            "('Male', 4) 28.07821428571429\n",
            "('Male', 5) 30.122500000000002\n",
            "('Male', 6) 41.235\n"
          ],
          "name": "stdout"
        }
      ]
    },
    {
      "metadata": {
        "id": "B5vZ87jtSDrK",
        "colab_type": "text"
      },
      "cell_type": "markdown",
      "source": [
        "No obstante, la formulación anterior puede no resultar cómoda a la hora de crear una nueva tabla con los resultados. Por eso, pandas incorpora la función `agg`:"
      ]
    },
    {
      "metadata": {
        "id": "ZYWJJuFbSDrL",
        "colab_type": "code",
        "outputId": "e3eaba9b-9585-4fd6-e8f8-7a65e2734633",
        "colab": {
          "base_uri": "https://localhost:8080/",
          "height": 142
        }
      },
      "cell_type": "code",
      "source": [
        "df_bill = df.groupby(['sex']).agg({'total_bill': np.mean})\n",
        "df_bill"
      ],
      "execution_count": 0,
      "outputs": [
        {
          "output_type": "execute_result",
          "data": {
            "text/html": [
              "<div>\n",
              "<style scoped>\n",
              "    .dataframe tbody tr th:only-of-type {\n",
              "        vertical-align: middle;\n",
              "    }\n",
              "\n",
              "    .dataframe tbody tr th {\n",
              "        vertical-align: top;\n",
              "    }\n",
              "\n",
              "    .dataframe thead th {\n",
              "        text-align: right;\n",
              "    }\n",
              "</style>\n",
              "<table border=\"1\" class=\"dataframe\">\n",
              "  <thead>\n",
              "    <tr style=\"text-align: right;\">\n",
              "      <th></th>\n",
              "      <th>total_bill</th>\n",
              "    </tr>\n",
              "    <tr>\n",
              "      <th>sex</th>\n",
              "      <th></th>\n",
              "    </tr>\n",
              "  </thead>\n",
              "  <tbody>\n",
              "    <tr>\n",
              "      <th>Female</th>\n",
              "      <td>18.056897</td>\n",
              "    </tr>\n",
              "    <tr>\n",
              "      <th>Male</th>\n",
              "      <td>20.744076</td>\n",
              "    </tr>\n",
              "  </tbody>\n",
              "</table>\n",
              "</div>"
            ],
            "text/plain": [
              "        total_bill\n",
              "sex               \n",
              "Female   18.056897\n",
              "Male     20.744076"
            ]
          },
          "metadata": {
            "tags": []
          },
          "execution_count": 8
        }
      ]
    },
    {
      "metadata": {
        "id": "WfCe5ZvzSDrM",
        "colab_type": "code",
        "outputId": "a268f0b0-28b9-465b-c4ba-9aaf2c89905d",
        "colab": {
          "base_uri": "https://localhost:8080/",
          "height": 452
        }
      },
      "cell_type": "code",
      "source": [
        "df_bill = df.groupby(['sex', 'size']).agg({'total_bill': np.mean})\n",
        "df_bill"
      ],
      "execution_count": 0,
      "outputs": [
        {
          "output_type": "execute_result",
          "data": {
            "text/html": [
              "<div>\n",
              "<style scoped>\n",
              "    .dataframe tbody tr th:only-of-type {\n",
              "        vertical-align: middle;\n",
              "    }\n",
              "\n",
              "    .dataframe tbody tr th {\n",
              "        vertical-align: top;\n",
              "    }\n",
              "\n",
              "    .dataframe thead th {\n",
              "        text-align: right;\n",
              "    }\n",
              "</style>\n",
              "<table border=\"1\" class=\"dataframe\">\n",
              "  <thead>\n",
              "    <tr style=\"text-align: right;\">\n",
              "      <th></th>\n",
              "      <th></th>\n",
              "      <th>total_bill</th>\n",
              "    </tr>\n",
              "    <tr>\n",
              "      <th>sex</th>\n",
              "      <th>size</th>\n",
              "      <th></th>\n",
              "    </tr>\n",
              "  </thead>\n",
              "  <tbody>\n",
              "    <tr>\n",
              "      <th rowspan=\"6\" valign=\"top\">Female</th>\n",
              "      <th>1</th>\n",
              "      <td>6.796667</td>\n",
              "    </tr>\n",
              "    <tr>\n",
              "      <th>2</th>\n",
              "      <td>15.339483</td>\n",
              "    </tr>\n",
              "    <tr>\n",
              "      <th>3</th>\n",
              "      <td>21.547143</td>\n",
              "    </tr>\n",
              "    <tr>\n",
              "      <th>4</th>\n",
              "      <td>30.278889</td>\n",
              "    </tr>\n",
              "    <tr>\n",
              "      <th>5</th>\n",
              "      <td>29.850000</td>\n",
              "    </tr>\n",
              "    <tr>\n",
              "      <th>6</th>\n",
              "      <td>28.425000</td>\n",
              "    </tr>\n",
              "    <tr>\n",
              "      <th rowspan=\"6\" valign=\"top\">Male</th>\n",
              "      <th>1</th>\n",
              "      <td>8.580000</td>\n",
              "    </tr>\n",
              "    <tr>\n",
              "      <th>2</th>\n",
              "      <td>17.104082</td>\n",
              "    </tr>\n",
              "    <tr>\n",
              "      <th>3</th>\n",
              "      <td>24.287083</td>\n",
              "    </tr>\n",
              "    <tr>\n",
              "      <th>4</th>\n",
              "      <td>28.078214</td>\n",
              "    </tr>\n",
              "    <tr>\n",
              "      <th>5</th>\n",
              "      <td>30.122500</td>\n",
              "    </tr>\n",
              "    <tr>\n",
              "      <th>6</th>\n",
              "      <td>41.235000</td>\n",
              "    </tr>\n",
              "  </tbody>\n",
              "</table>\n",
              "</div>"
            ],
            "text/plain": [
              "             total_bill\n",
              "sex    size            \n",
              "Female 1       6.796667\n",
              "       2      15.339483\n",
              "       3      21.547143\n",
              "       4      30.278889\n",
              "       5      29.850000\n",
              "       6      28.425000\n",
              "Male   1       8.580000\n",
              "       2      17.104082\n",
              "       3      24.287083\n",
              "       4      28.078214\n",
              "       5      30.122500\n",
              "       6      41.235000"
            ]
          },
          "metadata": {
            "tags": []
          },
          "execution_count": 9
        }
      ]
    },
    {
      "metadata": {
        "id": "lp_6T_TKSDrO",
        "colab_type": "text"
      },
      "cell_type": "markdown",
      "source": [
        "Utilizando `pivot` podemos pasar la tabla a una vista matricial para ver mejor los resultados"
      ]
    },
    {
      "metadata": {
        "id": "3oqKBahBSDrO",
        "colab_type": "code",
        "outputId": "d1000a23-6e9c-4aee-a0e8-5a85698ba55b",
        "colab": {}
      },
      "cell_type": "code",
      "source": [
        "df_bill.reset_index().pivot(index='sex', columns='size')"
      ],
      "execution_count": 0,
      "outputs": [
        {
          "output_type": "execute_result",
          "data": {
            "text/html": [
              "<div>\n",
              "<style>\n",
              "    .dataframe thead tr:only-child th {\n",
              "        text-align: right;\n",
              "    }\n",
              "\n",
              "    .dataframe thead th {\n",
              "        text-align: left;\n",
              "    }\n",
              "\n",
              "    .dataframe tbody tr th {\n",
              "        vertical-align: top;\n",
              "    }\n",
              "</style>\n",
              "<table border=\"1\" class=\"dataframe\">\n",
              "  <thead>\n",
              "    <tr>\n",
              "      <th></th>\n",
              "      <th colspan=\"6\" halign=\"left\">total_bill</th>\n",
              "    </tr>\n",
              "    <tr>\n",
              "      <th>size</th>\n",
              "      <th>1</th>\n",
              "      <th>2</th>\n",
              "      <th>3</th>\n",
              "      <th>4</th>\n",
              "      <th>5</th>\n",
              "      <th>6</th>\n",
              "    </tr>\n",
              "    <tr>\n",
              "      <th>sex</th>\n",
              "      <th></th>\n",
              "      <th></th>\n",
              "      <th></th>\n",
              "      <th></th>\n",
              "      <th></th>\n",
              "      <th></th>\n",
              "    </tr>\n",
              "  </thead>\n",
              "  <tbody>\n",
              "    <tr>\n",
              "      <th>Female</th>\n",
              "      <td>6.796667</td>\n",
              "      <td>15.339483</td>\n",
              "      <td>21.547143</td>\n",
              "      <td>30.278889</td>\n",
              "      <td>29.8500</td>\n",
              "      <td>28.425</td>\n",
              "    </tr>\n",
              "    <tr>\n",
              "      <th>Male</th>\n",
              "      <td>8.580000</td>\n",
              "      <td>17.104082</td>\n",
              "      <td>24.287083</td>\n",
              "      <td>28.078214</td>\n",
              "      <td>30.1225</td>\n",
              "      <td>41.235</td>\n",
              "    </tr>\n",
              "  </tbody>\n",
              "</table>\n",
              "</div>"
            ],
            "text/plain": [
              "       total_bill                                                  \n",
              "size            1          2          3          4        5       6\n",
              "sex                                                                \n",
              "Female   6.796667  15.339483  21.547143  30.278889  29.8500  28.425\n",
              "Male     8.580000  17.104082  24.287083  28.078214  30.1225  41.235"
            ]
          },
          "metadata": {
            "tags": []
          },
          "execution_count": 115
        }
      ]
    },
    {
      "metadata": {
        "id": "WvRJdAj8SDrP",
        "colab_type": "text"
      },
      "cell_type": "markdown",
      "source": [
        "A `agg` podemos pasarle más argumentos si queremos calcular más columnas. Con esta otra sintaxis, agg aplicará las funciones mean y std a todo el dataframe anterior (hemos seleccionado las columnas total_bill y tip previamente)"
      ]
    },
    {
      "metadata": {
        "id": "glzkPODMSDrQ",
        "colab_type": "code",
        "colab": {}
      },
      "cell_type": "code",
      "source": [
        "df_bill_tips = df.groupby(['sex'])['total_bill', 'tip'].agg([np.mean, np.std])"
      ],
      "execution_count": 0,
      "outputs": []
    },
    {
      "metadata": {
        "id": "iAFAL23ISDrR",
        "colab_type": "code",
        "outputId": "bc8c3cab-9b50-4a29-9891-7af6a1e8cbab",
        "colab": {
          "base_uri": "https://localhost:8080/",
          "height": 173
        }
      },
      "cell_type": "code",
      "source": [
        "df_bill_tips"
      ],
      "execution_count": 0,
      "outputs": [
        {
          "output_type": "execute_result",
          "data": {
            "text/html": [
              "<div>\n",
              "<style scoped>\n",
              "    .dataframe tbody tr th:only-of-type {\n",
              "        vertical-align: middle;\n",
              "    }\n",
              "\n",
              "    .dataframe tbody tr th {\n",
              "        vertical-align: top;\n",
              "    }\n",
              "\n",
              "    .dataframe thead tr th {\n",
              "        text-align: left;\n",
              "    }\n",
              "\n",
              "    .dataframe thead tr:last-of-type th {\n",
              "        text-align: right;\n",
              "    }\n",
              "</style>\n",
              "<table border=\"1\" class=\"dataframe\">\n",
              "  <thead>\n",
              "    <tr>\n",
              "      <th></th>\n",
              "      <th colspan=\"2\" halign=\"left\">total_bill</th>\n",
              "      <th colspan=\"2\" halign=\"left\">tip</th>\n",
              "    </tr>\n",
              "    <tr>\n",
              "      <th></th>\n",
              "      <th>mean</th>\n",
              "      <th>std</th>\n",
              "      <th>mean</th>\n",
              "      <th>std</th>\n",
              "    </tr>\n",
              "    <tr>\n",
              "      <th>sex</th>\n",
              "      <th></th>\n",
              "      <th></th>\n",
              "      <th></th>\n",
              "      <th></th>\n",
              "    </tr>\n",
              "  </thead>\n",
              "  <tbody>\n",
              "    <tr>\n",
              "      <th>Female</th>\n",
              "      <td>18.056897</td>\n",
              "      <td>8.009209</td>\n",
              "      <td>2.833448</td>\n",
              "      <td>1.159495</td>\n",
              "    </tr>\n",
              "    <tr>\n",
              "      <th>Male</th>\n",
              "      <td>20.744076</td>\n",
              "      <td>9.246469</td>\n",
              "      <td>3.089618</td>\n",
              "      <td>1.489102</td>\n",
              "    </tr>\n",
              "  </tbody>\n",
              "</table>\n",
              "</div>"
            ],
            "text/plain": [
              "       total_bill                 tip          \n",
              "             mean       std      mean       std\n",
              "sex                                            \n",
              "Female  18.056897  8.009209  2.833448  1.159495\n",
              "Male    20.744076  9.246469  3.089618  1.489102"
            ]
          },
          "metadata": {
            "tags": []
          },
          "execution_count": 11
        }
      ]
    },
    {
      "metadata": {
        "id": "HvscB6DZSDrS",
        "colab_type": "text"
      },
      "cell_type": "markdown",
      "source": [
        "## Ejercicio 3\n",
        "<img src=\"https://www.shareicon.net/data/256x256/2016/06/09/778169_game_512x512.png\" alt=\"Exercise\" width=\"50\"/> \n",
        "\n",
        "Para la tabla de tips, selcciona aquellas observaciones cuyas `total_bill` sean mayores que las respectivas medias + 1 desviación estándar de su día de la semana.\n",
        "\n",
        "Indicación: crea primero una tabla pequeña donde para cada día de la semana aparezca la media, y luego haz un `merge`\n",
        " de esta tabla con la original, para que cada observación tenga anotada su correspondiente media + std."
      ]
    },
    {
      "metadata": {
        "id": "wthy4QN-SDrS",
        "colab_type": "code",
        "colab": {}
      },
      "cell_type": "code",
      "source": [
        "df_tips = df.groupby(['day'])['total_bill'].agg([np.mean, np.std])"
      ],
      "execution_count": 0,
      "outputs": []
    },
    {
      "metadata": {
        "id": "A7VPkEo0SDrT",
        "colab_type": "code",
        "colab": {}
      },
      "cell_type": "code",
      "source": [
        "df_tips = df_tips.reset_index()\n"
      ],
      "execution_count": 0,
      "outputs": []
    },
    {
      "metadata": {
        "id": "e24RCDiiSDrU",
        "colab_type": "code",
        "outputId": "01713f84-2552-4c0b-ccb2-0cd6c39ef66c",
        "colab": {
          "base_uri": "https://localhost:8080/",
          "height": 173
        }
      },
      "cell_type": "code",
      "source": [
        "df_tips"
      ],
      "execution_count": 0,
      "outputs": [
        {
          "output_type": "execute_result",
          "data": {
            "text/html": [
              "<div>\n",
              "<style scoped>\n",
              "    .dataframe tbody tr th:only-of-type {\n",
              "        vertical-align: middle;\n",
              "    }\n",
              "\n",
              "    .dataframe tbody tr th {\n",
              "        vertical-align: top;\n",
              "    }\n",
              "\n",
              "    .dataframe thead th {\n",
              "        text-align: right;\n",
              "    }\n",
              "</style>\n",
              "<table border=\"1\" class=\"dataframe\">\n",
              "  <thead>\n",
              "    <tr style=\"text-align: right;\">\n",
              "      <th></th>\n",
              "      <th>day</th>\n",
              "      <th>mean</th>\n",
              "      <th>std</th>\n",
              "    </tr>\n",
              "  </thead>\n",
              "  <tbody>\n",
              "    <tr>\n",
              "      <th>0</th>\n",
              "      <td>Fri</td>\n",
              "      <td>17.151579</td>\n",
              "      <td>8.302660</td>\n",
              "    </tr>\n",
              "    <tr>\n",
              "      <th>1</th>\n",
              "      <td>Sat</td>\n",
              "      <td>20.441379</td>\n",
              "      <td>9.480419</td>\n",
              "    </tr>\n",
              "    <tr>\n",
              "      <th>2</th>\n",
              "      <td>Sun</td>\n",
              "      <td>21.410000</td>\n",
              "      <td>8.832122</td>\n",
              "    </tr>\n",
              "    <tr>\n",
              "      <th>3</th>\n",
              "      <td>Thur</td>\n",
              "      <td>17.682742</td>\n",
              "      <td>7.886170</td>\n",
              "    </tr>\n",
              "  </tbody>\n",
              "</table>\n",
              "</div>"
            ],
            "text/plain": [
              "    day       mean       std\n",
              "0   Fri  17.151579  8.302660\n",
              "1   Sat  20.441379  9.480419\n",
              "2   Sun  21.410000  8.832122\n",
              "3  Thur  17.682742  7.886170"
            ]
          },
          "metadata": {
            "tags": []
          },
          "execution_count": 14
        }
      ]
    },
    {
      "metadata": {
        "id": "Bj-_RZNnSDrV",
        "colab_type": "code",
        "outputId": "af0f4f95-3a10-46da-fc13-23494eec17f2",
        "colab": {
          "base_uri": "https://localhost:8080/",
          "height": 204
        }
      },
      "cell_type": "code",
      "source": [
        "df_augmented= pd.merge(df, df_tips, how='inner', left_on='day', right_on='day')\n",
        "df_augmented.head()"
      ],
      "execution_count": 0,
      "outputs": [
        {
          "output_type": "execute_result",
          "data": {
            "text/html": [
              "<div>\n",
              "<style scoped>\n",
              "    .dataframe tbody tr th:only-of-type {\n",
              "        vertical-align: middle;\n",
              "    }\n",
              "\n",
              "    .dataframe tbody tr th {\n",
              "        vertical-align: top;\n",
              "    }\n",
              "\n",
              "    .dataframe thead th {\n",
              "        text-align: right;\n",
              "    }\n",
              "</style>\n",
              "<table border=\"1\" class=\"dataframe\">\n",
              "  <thead>\n",
              "    <tr style=\"text-align: right;\">\n",
              "      <th></th>\n",
              "      <th>total_bill</th>\n",
              "      <th>tip</th>\n",
              "      <th>sex</th>\n",
              "      <th>smoker</th>\n",
              "      <th>day</th>\n",
              "      <th>time</th>\n",
              "      <th>size</th>\n",
              "      <th>mean</th>\n",
              "      <th>std</th>\n",
              "    </tr>\n",
              "  </thead>\n",
              "  <tbody>\n",
              "    <tr>\n",
              "      <th>0</th>\n",
              "      <td>16.99</td>\n",
              "      <td>1.01</td>\n",
              "      <td>Female</td>\n",
              "      <td>No</td>\n",
              "      <td>Sun</td>\n",
              "      <td>Dinner</td>\n",
              "      <td>2</td>\n",
              "      <td>21.41</td>\n",
              "      <td>8.832122</td>\n",
              "    </tr>\n",
              "    <tr>\n",
              "      <th>1</th>\n",
              "      <td>10.34</td>\n",
              "      <td>1.66</td>\n",
              "      <td>Male</td>\n",
              "      <td>No</td>\n",
              "      <td>Sun</td>\n",
              "      <td>Dinner</td>\n",
              "      <td>3</td>\n",
              "      <td>21.41</td>\n",
              "      <td>8.832122</td>\n",
              "    </tr>\n",
              "    <tr>\n",
              "      <th>2</th>\n",
              "      <td>21.01</td>\n",
              "      <td>3.50</td>\n",
              "      <td>Male</td>\n",
              "      <td>No</td>\n",
              "      <td>Sun</td>\n",
              "      <td>Dinner</td>\n",
              "      <td>3</td>\n",
              "      <td>21.41</td>\n",
              "      <td>8.832122</td>\n",
              "    </tr>\n",
              "    <tr>\n",
              "      <th>3</th>\n",
              "      <td>23.68</td>\n",
              "      <td>3.31</td>\n",
              "      <td>Male</td>\n",
              "      <td>No</td>\n",
              "      <td>Sun</td>\n",
              "      <td>Dinner</td>\n",
              "      <td>2</td>\n",
              "      <td>21.41</td>\n",
              "      <td>8.832122</td>\n",
              "    </tr>\n",
              "    <tr>\n",
              "      <th>4</th>\n",
              "      <td>24.59</td>\n",
              "      <td>3.61</td>\n",
              "      <td>Female</td>\n",
              "      <td>No</td>\n",
              "      <td>Sun</td>\n",
              "      <td>Dinner</td>\n",
              "      <td>4</td>\n",
              "      <td>21.41</td>\n",
              "      <td>8.832122</td>\n",
              "    </tr>\n",
              "  </tbody>\n",
              "</table>\n",
              "</div>"
            ],
            "text/plain": [
              "   total_bill   tip     sex smoker  day    time  size   mean       std\n",
              "0       16.99  1.01  Female     No  Sun  Dinner     2  21.41  8.832122\n",
              "1       10.34  1.66    Male     No  Sun  Dinner     3  21.41  8.832122\n",
              "2       21.01  3.50    Male     No  Sun  Dinner     3  21.41  8.832122\n",
              "3       23.68  3.31    Male     No  Sun  Dinner     2  21.41  8.832122\n",
              "4       24.59  3.61  Female     No  Sun  Dinner     4  21.41  8.832122"
            ]
          },
          "metadata": {
            "tags": []
          },
          "execution_count": 15
        }
      ]
    },
    {
      "metadata": {
        "id": "YbIqABmvSDrW",
        "colab_type": "code",
        "outputId": "343b548b-1909-4b98-95d5-0114d1c5446f",
        "colab": {
          "base_uri": "https://localhost:8080/",
          "height": 1227
        }
      },
      "cell_type": "code",
      "source": [
        "df_augmented[df_augmented['total_bill'] > df_augmented['mean'] + df_augmented['std']]"
      ],
      "execution_count": 0,
      "outputs": [
        {
          "output_type": "execute_result",
          "data": {
            "text/html": [
              "<div>\n",
              "<style scoped>\n",
              "    .dataframe tbody tr th:only-of-type {\n",
              "        vertical-align: middle;\n",
              "    }\n",
              "\n",
              "    .dataframe tbody tr th {\n",
              "        vertical-align: top;\n",
              "    }\n",
              "\n",
              "    .dataframe thead th {\n",
              "        text-align: right;\n",
              "    }\n",
              "</style>\n",
              "<table border=\"1\" class=\"dataframe\">\n",
              "  <thead>\n",
              "    <tr style=\"text-align: right;\">\n",
              "      <th></th>\n",
              "      <th>total_bill</th>\n",
              "      <th>tip</th>\n",
              "      <th>sex</th>\n",
              "      <th>smoker</th>\n",
              "      <th>day</th>\n",
              "      <th>time</th>\n",
              "      <th>size</th>\n",
              "      <th>mean</th>\n",
              "      <th>std</th>\n",
              "    </tr>\n",
              "  </thead>\n",
              "  <tbody>\n",
              "    <tr>\n",
              "      <th>11</th>\n",
              "      <td>35.26</td>\n",
              "      <td>5.00</td>\n",
              "      <td>Female</td>\n",
              "      <td>No</td>\n",
              "      <td>Sun</td>\n",
              "      <td>Dinner</td>\n",
              "      <td>4</td>\n",
              "      <td>21.410000</td>\n",
              "      <td>8.832122</td>\n",
              "    </tr>\n",
              "    <tr>\n",
              "      <th>22</th>\n",
              "      <td>30.40</td>\n",
              "      <td>5.60</td>\n",
              "      <td>Male</td>\n",
              "      <td>No</td>\n",
              "      <td>Sun</td>\n",
              "      <td>Dinner</td>\n",
              "      <td>4</td>\n",
              "      <td>21.410000</td>\n",
              "      <td>8.832122</td>\n",
              "    </tr>\n",
              "    <tr>\n",
              "      <th>25</th>\n",
              "      <td>32.40</td>\n",
              "      <td>6.00</td>\n",
              "      <td>Male</td>\n",
              "      <td>No</td>\n",
              "      <td>Sun</td>\n",
              "      <td>Dinner</td>\n",
              "      <td>4</td>\n",
              "      <td>21.410000</td>\n",
              "      <td>8.832122</td>\n",
              "    </tr>\n",
              "    <tr>\n",
              "      <th>30</th>\n",
              "      <td>34.81</td>\n",
              "      <td>5.20</td>\n",
              "      <td>Female</td>\n",
              "      <td>No</td>\n",
              "      <td>Sun</td>\n",
              "      <td>Dinner</td>\n",
              "      <td>4</td>\n",
              "      <td>21.410000</td>\n",
              "      <td>8.832122</td>\n",
              "    </tr>\n",
              "    <tr>\n",
              "      <th>34</th>\n",
              "      <td>38.07</td>\n",
              "      <td>4.00</td>\n",
              "      <td>Male</td>\n",
              "      <td>No</td>\n",
              "      <td>Sun</td>\n",
              "      <td>Dinner</td>\n",
              "      <td>3</td>\n",
              "      <td>21.410000</td>\n",
              "      <td>8.832122</td>\n",
              "    </tr>\n",
              "    <tr>\n",
              "      <th>45</th>\n",
              "      <td>48.17</td>\n",
              "      <td>5.00</td>\n",
              "      <td>Male</td>\n",
              "      <td>No</td>\n",
              "      <td>Sun</td>\n",
              "      <td>Dinner</td>\n",
              "      <td>6</td>\n",
              "      <td>21.410000</td>\n",
              "      <td>8.832122</td>\n",
              "    </tr>\n",
              "    <tr>\n",
              "      <th>56</th>\n",
              "      <td>31.71</td>\n",
              "      <td>4.50</td>\n",
              "      <td>Male</td>\n",
              "      <td>No</td>\n",
              "      <td>Sun</td>\n",
              "      <td>Dinner</td>\n",
              "      <td>4</td>\n",
              "      <td>21.410000</td>\n",
              "      <td>8.832122</td>\n",
              "    </tr>\n",
              "    <tr>\n",
              "      <th>58</th>\n",
              "      <td>31.85</td>\n",
              "      <td>3.18</td>\n",
              "      <td>Male</td>\n",
              "      <td>Yes</td>\n",
              "      <td>Sun</td>\n",
              "      <td>Dinner</td>\n",
              "      <td>2</td>\n",
              "      <td>21.410000</td>\n",
              "      <td>8.832122</td>\n",
              "    </tr>\n",
              "    <tr>\n",
              "      <th>60</th>\n",
              "      <td>32.90</td>\n",
              "      <td>3.11</td>\n",
              "      <td>Male</td>\n",
              "      <td>Yes</td>\n",
              "      <td>Sun</td>\n",
              "      <td>Dinner</td>\n",
              "      <td>2</td>\n",
              "      <td>21.410000</td>\n",
              "      <td>8.832122</td>\n",
              "    </tr>\n",
              "    <tr>\n",
              "      <th>64</th>\n",
              "      <td>34.63</td>\n",
              "      <td>3.55</td>\n",
              "      <td>Male</td>\n",
              "      <td>Yes</td>\n",
              "      <td>Sun</td>\n",
              "      <td>Dinner</td>\n",
              "      <td>2</td>\n",
              "      <td>21.410000</td>\n",
              "      <td>8.832122</td>\n",
              "    </tr>\n",
              "    <tr>\n",
              "      <th>65</th>\n",
              "      <td>34.65</td>\n",
              "      <td>3.68</td>\n",
              "      <td>Male</td>\n",
              "      <td>Yes</td>\n",
              "      <td>Sun</td>\n",
              "      <td>Dinner</td>\n",
              "      <td>4</td>\n",
              "      <td>21.410000</td>\n",
              "      <td>8.832122</td>\n",
              "    </tr>\n",
              "    <tr>\n",
              "      <th>67</th>\n",
              "      <td>45.35</td>\n",
              "      <td>3.50</td>\n",
              "      <td>Male</td>\n",
              "      <td>Yes</td>\n",
              "      <td>Sun</td>\n",
              "      <td>Dinner</td>\n",
              "      <td>3</td>\n",
              "      <td>21.410000</td>\n",
              "      <td>8.832122</td>\n",
              "    </tr>\n",
              "    <tr>\n",
              "      <th>69</th>\n",
              "      <td>40.55</td>\n",
              "      <td>3.00</td>\n",
              "      <td>Male</td>\n",
              "      <td>Yes</td>\n",
              "      <td>Sun</td>\n",
              "      <td>Dinner</td>\n",
              "      <td>2</td>\n",
              "      <td>21.410000</td>\n",
              "      <td>8.832122</td>\n",
              "    </tr>\n",
              "    <tr>\n",
              "      <th>72</th>\n",
              "      <td>30.46</td>\n",
              "      <td>2.00</td>\n",
              "      <td>Male</td>\n",
              "      <td>Yes</td>\n",
              "      <td>Sun</td>\n",
              "      <td>Dinner</td>\n",
              "      <td>5</td>\n",
              "      <td>21.410000</td>\n",
              "      <td>8.832122</td>\n",
              "    </tr>\n",
              "    <tr>\n",
              "      <th>80</th>\n",
              "      <td>39.42</td>\n",
              "      <td>7.58</td>\n",
              "      <td>Male</td>\n",
              "      <td>No</td>\n",
              "      <td>Sat</td>\n",
              "      <td>Dinner</td>\n",
              "      <td>4</td>\n",
              "      <td>20.441379</td>\n",
              "      <td>9.480419</td>\n",
              "    </tr>\n",
              "    <tr>\n",
              "      <th>96</th>\n",
              "      <td>31.27</td>\n",
              "      <td>5.00</td>\n",
              "      <td>Male</td>\n",
              "      <td>No</td>\n",
              "      <td>Sat</td>\n",
              "      <td>Dinner</td>\n",
              "      <td>3</td>\n",
              "      <td>20.441379</td>\n",
              "      <td>9.480419</td>\n",
              "    </tr>\n",
              "    <tr>\n",
              "      <th>98</th>\n",
              "      <td>38.01</td>\n",
              "      <td>3.00</td>\n",
              "      <td>Male</td>\n",
              "      <td>Yes</td>\n",
              "      <td>Sat</td>\n",
              "      <td>Dinner</td>\n",
              "      <td>4</td>\n",
              "      <td>20.441379</td>\n",
              "      <td>9.480419</td>\n",
              "    </tr>\n",
              "    <tr>\n",
              "      <th>101</th>\n",
              "      <td>48.27</td>\n",
              "      <td>6.73</td>\n",
              "      <td>Male</td>\n",
              "      <td>No</td>\n",
              "      <td>Sat</td>\n",
              "      <td>Dinner</td>\n",
              "      <td>4</td>\n",
              "      <td>20.441379</td>\n",
              "      <td>9.480419</td>\n",
              "    </tr>\n",
              "    <tr>\n",
              "      <th>119</th>\n",
              "      <td>44.30</td>\n",
              "      <td>2.50</td>\n",
              "      <td>Female</td>\n",
              "      <td>Yes</td>\n",
              "      <td>Sat</td>\n",
              "      <td>Dinner</td>\n",
              "      <td>3</td>\n",
              "      <td>20.441379</td>\n",
              "      <td>9.480419</td>\n",
              "    </tr>\n",
              "    <tr>\n",
              "      <th>131</th>\n",
              "      <td>50.81</td>\n",
              "      <td>10.00</td>\n",
              "      <td>Male</td>\n",
              "      <td>Yes</td>\n",
              "      <td>Sat</td>\n",
              "      <td>Dinner</td>\n",
              "      <td>3</td>\n",
              "      <td>20.441379</td>\n",
              "      <td>9.480419</td>\n",
              "    </tr>\n",
              "    <tr>\n",
              "      <th>134</th>\n",
              "      <td>38.73</td>\n",
              "      <td>3.00</td>\n",
              "      <td>Male</td>\n",
              "      <td>Yes</td>\n",
              "      <td>Sat</td>\n",
              "      <td>Dinner</td>\n",
              "      <td>4</td>\n",
              "      <td>20.441379</td>\n",
              "      <td>9.480419</td>\n",
              "    </tr>\n",
              "    <tr>\n",
              "      <th>137</th>\n",
              "      <td>30.06</td>\n",
              "      <td>2.00</td>\n",
              "      <td>Male</td>\n",
              "      <td>Yes</td>\n",
              "      <td>Sat</td>\n",
              "      <td>Dinner</td>\n",
              "      <td>3</td>\n",
              "      <td>20.441379</td>\n",
              "      <td>9.480419</td>\n",
              "    </tr>\n",
              "    <tr>\n",
              "      <th>139</th>\n",
              "      <td>48.33</td>\n",
              "      <td>9.00</td>\n",
              "      <td>Male</td>\n",
              "      <td>No</td>\n",
              "      <td>Sat</td>\n",
              "      <td>Dinner</td>\n",
              "      <td>4</td>\n",
              "      <td>20.441379</td>\n",
              "      <td>9.480419</td>\n",
              "    </tr>\n",
              "    <tr>\n",
              "      <th>146</th>\n",
              "      <td>30.14</td>\n",
              "      <td>3.09</td>\n",
              "      <td>Female</td>\n",
              "      <td>Yes</td>\n",
              "      <td>Sat</td>\n",
              "      <td>Dinner</td>\n",
              "      <td>4</td>\n",
              "      <td>20.441379</td>\n",
              "      <td>9.480419</td>\n",
              "    </tr>\n",
              "    <tr>\n",
              "      <th>157</th>\n",
              "      <td>32.83</td>\n",
              "      <td>1.17</td>\n",
              "      <td>Male</td>\n",
              "      <td>Yes</td>\n",
              "      <td>Sat</td>\n",
              "      <td>Dinner</td>\n",
              "      <td>2</td>\n",
              "      <td>20.441379</td>\n",
              "      <td>9.480419</td>\n",
              "    </tr>\n",
              "    <tr>\n",
              "      <th>158</th>\n",
              "      <td>35.83</td>\n",
              "      <td>4.67</td>\n",
              "      <td>Female</td>\n",
              "      <td>No</td>\n",
              "      <td>Sat</td>\n",
              "      <td>Dinner</td>\n",
              "      <td>3</td>\n",
              "      <td>20.441379</td>\n",
              "      <td>9.480419</td>\n",
              "    </tr>\n",
              "    <tr>\n",
              "      <th>163</th>\n",
              "      <td>27.20</td>\n",
              "      <td>4.00</td>\n",
              "      <td>Male</td>\n",
              "      <td>No</td>\n",
              "      <td>Thur</td>\n",
              "      <td>Lunch</td>\n",
              "      <td>4</td>\n",
              "      <td>17.682742</td>\n",
              "      <td>7.886170</td>\n",
              "    </tr>\n",
              "    <tr>\n",
              "      <th>169</th>\n",
              "      <td>32.68</td>\n",
              "      <td>5.00</td>\n",
              "      <td>Male</td>\n",
              "      <td>Yes</td>\n",
              "      <td>Thur</td>\n",
              "      <td>Lunch</td>\n",
              "      <td>2</td>\n",
              "      <td>17.682742</td>\n",
              "      <td>7.886170</td>\n",
              "    </tr>\n",
              "    <tr>\n",
              "      <th>171</th>\n",
              "      <td>34.83</td>\n",
              "      <td>5.17</td>\n",
              "      <td>Female</td>\n",
              "      <td>No</td>\n",
              "      <td>Thur</td>\n",
              "      <td>Lunch</td>\n",
              "      <td>4</td>\n",
              "      <td>17.682742</td>\n",
              "      <td>7.886170</td>\n",
              "    </tr>\n",
              "    <tr>\n",
              "      <th>184</th>\n",
              "      <td>29.80</td>\n",
              "      <td>4.20</td>\n",
              "      <td>Female</td>\n",
              "      <td>No</td>\n",
              "      <td>Thur</td>\n",
              "      <td>Lunch</td>\n",
              "      <td>6</td>\n",
              "      <td>17.682742</td>\n",
              "      <td>7.886170</td>\n",
              "    </tr>\n",
              "    <tr>\n",
              "      <th>200</th>\n",
              "      <td>34.30</td>\n",
              "      <td>6.70</td>\n",
              "      <td>Male</td>\n",
              "      <td>No</td>\n",
              "      <td>Thur</td>\n",
              "      <td>Lunch</td>\n",
              "      <td>6</td>\n",
              "      <td>17.682742</td>\n",
              "      <td>7.886170</td>\n",
              "    </tr>\n",
              "    <tr>\n",
              "      <th>201</th>\n",
              "      <td>41.19</td>\n",
              "      <td>5.00</td>\n",
              "      <td>Male</td>\n",
              "      <td>No</td>\n",
              "      <td>Thur</td>\n",
              "      <td>Lunch</td>\n",
              "      <td>5</td>\n",
              "      <td>17.682742</td>\n",
              "      <td>7.886170</td>\n",
              "    </tr>\n",
              "    <tr>\n",
              "      <th>202</th>\n",
              "      <td>27.05</td>\n",
              "      <td>5.00</td>\n",
              "      <td>Female</td>\n",
              "      <td>No</td>\n",
              "      <td>Thur</td>\n",
              "      <td>Lunch</td>\n",
              "      <td>6</td>\n",
              "      <td>17.682742</td>\n",
              "      <td>7.886170</td>\n",
              "    </tr>\n",
              "    <tr>\n",
              "      <th>210</th>\n",
              "      <td>28.44</td>\n",
              "      <td>2.56</td>\n",
              "      <td>Male</td>\n",
              "      <td>Yes</td>\n",
              "      <td>Thur</td>\n",
              "      <td>Lunch</td>\n",
              "      <td>2</td>\n",
              "      <td>17.682742</td>\n",
              "      <td>7.886170</td>\n",
              "    </tr>\n",
              "    <tr>\n",
              "      <th>215</th>\n",
              "      <td>43.11</td>\n",
              "      <td>5.00</td>\n",
              "      <td>Female</td>\n",
              "      <td>Yes</td>\n",
              "      <td>Thur</td>\n",
              "      <td>Lunch</td>\n",
              "      <td>4</td>\n",
              "      <td>17.682742</td>\n",
              "      <td>7.886170</td>\n",
              "    </tr>\n",
              "    <tr>\n",
              "      <th>225</th>\n",
              "      <td>28.97</td>\n",
              "      <td>3.00</td>\n",
              "      <td>Male</td>\n",
              "      <td>Yes</td>\n",
              "      <td>Fri</td>\n",
              "      <td>Dinner</td>\n",
              "      <td>2</td>\n",
              "      <td>17.151579</td>\n",
              "      <td>8.302660</td>\n",
              "    </tr>\n",
              "    <tr>\n",
              "      <th>230</th>\n",
              "      <td>40.17</td>\n",
              "      <td>4.73</td>\n",
              "      <td>Male</td>\n",
              "      <td>Yes</td>\n",
              "      <td>Fri</td>\n",
              "      <td>Dinner</td>\n",
              "      <td>4</td>\n",
              "      <td>17.151579</td>\n",
              "      <td>8.302660</td>\n",
              "    </tr>\n",
              "    <tr>\n",
              "      <th>231</th>\n",
              "      <td>27.28</td>\n",
              "      <td>4.00</td>\n",
              "      <td>Male</td>\n",
              "      <td>Yes</td>\n",
              "      <td>Fri</td>\n",
              "      <td>Dinner</td>\n",
              "      <td>2</td>\n",
              "      <td>17.151579</td>\n",
              "      <td>8.302660</td>\n",
              "    </tr>\n",
              "  </tbody>\n",
              "</table>\n",
              "</div>"
            ],
            "text/plain": [
              "     total_bill    tip     sex smoker   day    time  size       mean       std\n",
              "11        35.26   5.00  Female     No   Sun  Dinner     4  21.410000  8.832122\n",
              "22        30.40   5.60    Male     No   Sun  Dinner     4  21.410000  8.832122\n",
              "25        32.40   6.00    Male     No   Sun  Dinner     4  21.410000  8.832122\n",
              "30        34.81   5.20  Female     No   Sun  Dinner     4  21.410000  8.832122\n",
              "34        38.07   4.00    Male     No   Sun  Dinner     3  21.410000  8.832122\n",
              "45        48.17   5.00    Male     No   Sun  Dinner     6  21.410000  8.832122\n",
              "56        31.71   4.50    Male     No   Sun  Dinner     4  21.410000  8.832122\n",
              "58        31.85   3.18    Male    Yes   Sun  Dinner     2  21.410000  8.832122\n",
              "60        32.90   3.11    Male    Yes   Sun  Dinner     2  21.410000  8.832122\n",
              "64        34.63   3.55    Male    Yes   Sun  Dinner     2  21.410000  8.832122\n",
              "65        34.65   3.68    Male    Yes   Sun  Dinner     4  21.410000  8.832122\n",
              "67        45.35   3.50    Male    Yes   Sun  Dinner     3  21.410000  8.832122\n",
              "69        40.55   3.00    Male    Yes   Sun  Dinner     2  21.410000  8.832122\n",
              "72        30.46   2.00    Male    Yes   Sun  Dinner     5  21.410000  8.832122\n",
              "80        39.42   7.58    Male     No   Sat  Dinner     4  20.441379  9.480419\n",
              "96        31.27   5.00    Male     No   Sat  Dinner     3  20.441379  9.480419\n",
              "98        38.01   3.00    Male    Yes   Sat  Dinner     4  20.441379  9.480419\n",
              "101       48.27   6.73    Male     No   Sat  Dinner     4  20.441379  9.480419\n",
              "119       44.30   2.50  Female    Yes   Sat  Dinner     3  20.441379  9.480419\n",
              "131       50.81  10.00    Male    Yes   Sat  Dinner     3  20.441379  9.480419\n",
              "134       38.73   3.00    Male    Yes   Sat  Dinner     4  20.441379  9.480419\n",
              "137       30.06   2.00    Male    Yes   Sat  Dinner     3  20.441379  9.480419\n",
              "139       48.33   9.00    Male     No   Sat  Dinner     4  20.441379  9.480419\n",
              "146       30.14   3.09  Female    Yes   Sat  Dinner     4  20.441379  9.480419\n",
              "157       32.83   1.17    Male    Yes   Sat  Dinner     2  20.441379  9.480419\n",
              "158       35.83   4.67  Female     No   Sat  Dinner     3  20.441379  9.480419\n",
              "163       27.20   4.00    Male     No  Thur   Lunch     4  17.682742  7.886170\n",
              "169       32.68   5.00    Male    Yes  Thur   Lunch     2  17.682742  7.886170\n",
              "171       34.83   5.17  Female     No  Thur   Lunch     4  17.682742  7.886170\n",
              "184       29.80   4.20  Female     No  Thur   Lunch     6  17.682742  7.886170\n",
              "200       34.30   6.70    Male     No  Thur   Lunch     6  17.682742  7.886170\n",
              "201       41.19   5.00    Male     No  Thur   Lunch     5  17.682742  7.886170\n",
              "202       27.05   5.00  Female     No  Thur   Lunch     6  17.682742  7.886170\n",
              "210       28.44   2.56    Male    Yes  Thur   Lunch     2  17.682742  7.886170\n",
              "215       43.11   5.00  Female    Yes  Thur   Lunch     4  17.682742  7.886170\n",
              "225       28.97   3.00    Male    Yes   Fri  Dinner     2  17.151579  8.302660\n",
              "230       40.17   4.73    Male    Yes   Fri  Dinner     4  17.151579  8.302660\n",
              "231       27.28   4.00    Male    Yes   Fri  Dinner     2  17.151579  8.302660"
            ]
          },
          "metadata": {
            "tags": []
          },
          "execution_count": 16
        }
      ]
    },
    {
      "metadata": {
        "collapsed": true,
        "id": "GSVno83FSDrY",
        "colab_type": "text"
      },
      "cell_type": "markdown",
      "source": [
        "## Ejercicio 4\n",
        "<img src=\"https://www.shareicon.net/data/256x256/2016/06/09/778169_game_512x512.png\" alt=\"Exercise\" width=\"50\"/> \n",
        "\n",
        "La base de datos `income` se utiliza para predecir si el salario de una persona es mayor o menor de 50.000 dolares anuales. Para cada persona, contiene la siguiente información:\n",
        "* age: La edad de la persona en cuestión.\n",
        "* education: nivel de estudios.\n",
        "* marital.status: estado civil.\n",
        "* relationship: puesto que ocupa en su familia.\n",
        "* race: raza.\n",
        "* sex: género.\n",
        "* hourspeerweek: horas de trabajo por semana.\n",
        "* nativecountry: país de origen.\n",
        "* income: variable que indica si el salario es mayor o menor de 50k.\n",
        "\n",
        "Lee los datos, y elimina cualquier fila que contenga algún valor missing. Puedes utilizar en método `dropna`. También, por comodidad, sustituye los valores de `Income` por 0 (si el salario es menor o igual a 50k) y 1 (si es mayor)."
      ]
    },
    {
      "metadata": {
        "id": "6benqPOfms7W",
        "colab_type": "code",
        "colab": {}
      },
      "cell_type": "code",
      "source": [
        "url='https://raw.githubusercontent.com/dgullate/Curso-IE/master/Week_1/data/income.csv?token=Ah4VEhWjRnc0HbDfNneCcguB6hDE7hsrks5cqN84wA%3D%3D'\n",
        "inc = pd.read_csv(url)"
      ],
      "execution_count": 0,
      "outputs": []
    },
    {
      "metadata": {
        "id": "0mAXJF4GnVjh",
        "colab_type": "code",
        "outputId": "e13f9f6a-5ff4-437e-cf7a-829931e67a3f",
        "colab": {
          "base_uri": "https://localhost:8080/",
          "height": 204
        }
      },
      "cell_type": "code",
      "source": [
        "inc.head()"
      ],
      "execution_count": 0,
      "outputs": [
        {
          "output_type": "execute_result",
          "data": {
            "text/html": [
              "<div>\n",
              "<style scoped>\n",
              "    .dataframe tbody tr th:only-of-type {\n",
              "        vertical-align: middle;\n",
              "    }\n",
              "\n",
              "    .dataframe tbody tr th {\n",
              "        vertical-align: top;\n",
              "    }\n",
              "\n",
              "    .dataframe thead th {\n",
              "        text-align: right;\n",
              "    }\n",
              "</style>\n",
              "<table border=\"1\" class=\"dataframe\">\n",
              "  <thead>\n",
              "    <tr style=\"text-align: right;\">\n",
              "      <th></th>\n",
              "      <th>age</th>\n",
              "      <th>education</th>\n",
              "      <th>marital.status</th>\n",
              "      <th>relationship</th>\n",
              "      <th>race</th>\n",
              "      <th>sex</th>\n",
              "      <th>hoursperweek</th>\n",
              "      <th>nativecountry</th>\n",
              "      <th>income</th>\n",
              "    </tr>\n",
              "  </thead>\n",
              "  <tbody>\n",
              "    <tr>\n",
              "      <th>0</th>\n",
              "      <td>39</td>\n",
              "      <td>Bachelors</td>\n",
              "      <td>Never-married</td>\n",
              "      <td>Not-in-family</td>\n",
              "      <td>White</td>\n",
              "      <td>Male</td>\n",
              "      <td>40</td>\n",
              "      <td>United-States</td>\n",
              "      <td>&lt;=50K</td>\n",
              "    </tr>\n",
              "    <tr>\n",
              "      <th>1</th>\n",
              "      <td>50</td>\n",
              "      <td>Bachelors</td>\n",
              "      <td>Married-civ-spouse</td>\n",
              "      <td>Husband</td>\n",
              "      <td>White</td>\n",
              "      <td>Male</td>\n",
              "      <td>13</td>\n",
              "      <td>United-States</td>\n",
              "      <td>&lt;=50K</td>\n",
              "    </tr>\n",
              "    <tr>\n",
              "      <th>2</th>\n",
              "      <td>38</td>\n",
              "      <td>HS-grad</td>\n",
              "      <td>Divorced</td>\n",
              "      <td>Not-in-family</td>\n",
              "      <td>White</td>\n",
              "      <td>Male</td>\n",
              "      <td>40</td>\n",
              "      <td>United-States</td>\n",
              "      <td>&lt;=50K</td>\n",
              "    </tr>\n",
              "    <tr>\n",
              "      <th>3</th>\n",
              "      <td>53</td>\n",
              "      <td>11th</td>\n",
              "      <td>Married-civ-spouse</td>\n",
              "      <td>Husband</td>\n",
              "      <td>Black</td>\n",
              "      <td>Male</td>\n",
              "      <td>40</td>\n",
              "      <td>United-States</td>\n",
              "      <td>&lt;=50K</td>\n",
              "    </tr>\n",
              "    <tr>\n",
              "      <th>4</th>\n",
              "      <td>28</td>\n",
              "      <td>Bachelors</td>\n",
              "      <td>Married-civ-spouse</td>\n",
              "      <td>Wife</td>\n",
              "      <td>Black</td>\n",
              "      <td>Female</td>\n",
              "      <td>40</td>\n",
              "      <td>Cuba</td>\n",
              "      <td>&lt;=50K</td>\n",
              "    </tr>\n",
              "  </tbody>\n",
              "</table>\n",
              "</div>"
            ],
            "text/plain": [
              "   age  education      marital.status   relationship   race     sex  \\\n",
              "0   39  Bachelors       Never-married  Not-in-family  White    Male   \n",
              "1   50  Bachelors  Married-civ-spouse        Husband  White    Male   \n",
              "2   38    HS-grad            Divorced  Not-in-family  White    Male   \n",
              "3   53       11th  Married-civ-spouse        Husband  Black    Male   \n",
              "4   28  Bachelors  Married-civ-spouse           Wife  Black  Female   \n",
              "\n",
              "   hoursperweek  nativecountry income  \n",
              "0            40  United-States  <=50K  \n",
              "1            13  United-States  <=50K  \n",
              "2            40  United-States  <=50K  \n",
              "3            40  United-States  <=50K  \n",
              "4            40           Cuba  <=50K  "
            ]
          },
          "metadata": {
            "tags": []
          },
          "execution_count": 39
        }
      ]
    },
    {
      "metadata": {
        "id": "pWsNAwQOSDra",
        "colab_type": "code",
        "outputId": "5af70b79-e834-4644-8c60-eae9eb19e9d7",
        "colab": {
          "base_uri": "https://localhost:8080/",
          "height": 669
        }
      },
      "cell_type": "code",
      "source": [
        "inc.dropna(inplace=True)\n",
        "inc.loc[inc.income == '<=50K', \"income\"] = 0\n",
        "inc.loc[inc.income == '>50K', \"income\"] = 1\n",
        "inc.head(20)"
      ],
      "execution_count": 0,
      "outputs": [
        {
          "output_type": "execute_result",
          "data": {
            "text/html": [
              "<div>\n",
              "<style scoped>\n",
              "    .dataframe tbody tr th:only-of-type {\n",
              "        vertical-align: middle;\n",
              "    }\n",
              "\n",
              "    .dataframe tbody tr th {\n",
              "        vertical-align: top;\n",
              "    }\n",
              "\n",
              "    .dataframe thead th {\n",
              "        text-align: right;\n",
              "    }\n",
              "</style>\n",
              "<table border=\"1\" class=\"dataframe\">\n",
              "  <thead>\n",
              "    <tr style=\"text-align: right;\">\n",
              "      <th></th>\n",
              "      <th>age</th>\n",
              "      <th>education</th>\n",
              "      <th>marital.status</th>\n",
              "      <th>relationship</th>\n",
              "      <th>race</th>\n",
              "      <th>sex</th>\n",
              "      <th>hoursperweek</th>\n",
              "      <th>nativecountry</th>\n",
              "      <th>income</th>\n",
              "    </tr>\n",
              "  </thead>\n",
              "  <tbody>\n",
              "    <tr>\n",
              "      <th>0</th>\n",
              "      <td>39</td>\n",
              "      <td>Bachelors</td>\n",
              "      <td>Never-married</td>\n",
              "      <td>Not-in-family</td>\n",
              "      <td>White</td>\n",
              "      <td>Male</td>\n",
              "      <td>40</td>\n",
              "      <td>United-States</td>\n",
              "      <td>0</td>\n",
              "    </tr>\n",
              "    <tr>\n",
              "      <th>1</th>\n",
              "      <td>50</td>\n",
              "      <td>Bachelors</td>\n",
              "      <td>Married-civ-spouse</td>\n",
              "      <td>Husband</td>\n",
              "      <td>White</td>\n",
              "      <td>Male</td>\n",
              "      <td>13</td>\n",
              "      <td>United-States</td>\n",
              "      <td>0</td>\n",
              "    </tr>\n",
              "    <tr>\n",
              "      <th>2</th>\n",
              "      <td>38</td>\n",
              "      <td>HS-grad</td>\n",
              "      <td>Divorced</td>\n",
              "      <td>Not-in-family</td>\n",
              "      <td>White</td>\n",
              "      <td>Male</td>\n",
              "      <td>40</td>\n",
              "      <td>United-States</td>\n",
              "      <td>0</td>\n",
              "    </tr>\n",
              "    <tr>\n",
              "      <th>3</th>\n",
              "      <td>53</td>\n",
              "      <td>11th</td>\n",
              "      <td>Married-civ-spouse</td>\n",
              "      <td>Husband</td>\n",
              "      <td>Black</td>\n",
              "      <td>Male</td>\n",
              "      <td>40</td>\n",
              "      <td>United-States</td>\n",
              "      <td>0</td>\n",
              "    </tr>\n",
              "    <tr>\n",
              "      <th>4</th>\n",
              "      <td>28</td>\n",
              "      <td>Bachelors</td>\n",
              "      <td>Married-civ-spouse</td>\n",
              "      <td>Wife</td>\n",
              "      <td>Black</td>\n",
              "      <td>Female</td>\n",
              "      <td>40</td>\n",
              "      <td>Cuba</td>\n",
              "      <td>0</td>\n",
              "    </tr>\n",
              "    <tr>\n",
              "      <th>5</th>\n",
              "      <td>37</td>\n",
              "      <td>Masters</td>\n",
              "      <td>Married-civ-spouse</td>\n",
              "      <td>Wife</td>\n",
              "      <td>White</td>\n",
              "      <td>Female</td>\n",
              "      <td>40</td>\n",
              "      <td>United-States</td>\n",
              "      <td>0</td>\n",
              "    </tr>\n",
              "    <tr>\n",
              "      <th>6</th>\n",
              "      <td>49</td>\n",
              "      <td>9th</td>\n",
              "      <td>Married-spouse-absent</td>\n",
              "      <td>Not-in-family</td>\n",
              "      <td>Black</td>\n",
              "      <td>Female</td>\n",
              "      <td>16</td>\n",
              "      <td>Jamaica</td>\n",
              "      <td>0</td>\n",
              "    </tr>\n",
              "    <tr>\n",
              "      <th>7</th>\n",
              "      <td>52</td>\n",
              "      <td>HS-grad</td>\n",
              "      <td>Married-civ-spouse</td>\n",
              "      <td>Husband</td>\n",
              "      <td>White</td>\n",
              "      <td>Male</td>\n",
              "      <td>45</td>\n",
              "      <td>United-States</td>\n",
              "      <td>1</td>\n",
              "    </tr>\n",
              "    <tr>\n",
              "      <th>8</th>\n",
              "      <td>31</td>\n",
              "      <td>Masters</td>\n",
              "      <td>Never-married</td>\n",
              "      <td>Not-in-family</td>\n",
              "      <td>White</td>\n",
              "      <td>Female</td>\n",
              "      <td>50</td>\n",
              "      <td>United-States</td>\n",
              "      <td>1</td>\n",
              "    </tr>\n",
              "    <tr>\n",
              "      <th>9</th>\n",
              "      <td>42</td>\n",
              "      <td>Bachelors</td>\n",
              "      <td>Married-civ-spouse</td>\n",
              "      <td>Husband</td>\n",
              "      <td>White</td>\n",
              "      <td>Male</td>\n",
              "      <td>40</td>\n",
              "      <td>United-States</td>\n",
              "      <td>1</td>\n",
              "    </tr>\n",
              "    <tr>\n",
              "      <th>10</th>\n",
              "      <td>37</td>\n",
              "      <td>Some-college</td>\n",
              "      <td>Married-civ-spouse</td>\n",
              "      <td>Husband</td>\n",
              "      <td>Black</td>\n",
              "      <td>Male</td>\n",
              "      <td>80</td>\n",
              "      <td>United-States</td>\n",
              "      <td>1</td>\n",
              "    </tr>\n",
              "    <tr>\n",
              "      <th>11</th>\n",
              "      <td>30</td>\n",
              "      <td>Bachelors</td>\n",
              "      <td>Married-civ-spouse</td>\n",
              "      <td>Husband</td>\n",
              "      <td>Asian-Pac-Islander</td>\n",
              "      <td>Male</td>\n",
              "      <td>40</td>\n",
              "      <td>India</td>\n",
              "      <td>1</td>\n",
              "    </tr>\n",
              "    <tr>\n",
              "      <th>12</th>\n",
              "      <td>23</td>\n",
              "      <td>Bachelors</td>\n",
              "      <td>Never-married</td>\n",
              "      <td>Own-child</td>\n",
              "      <td>White</td>\n",
              "      <td>Female</td>\n",
              "      <td>30</td>\n",
              "      <td>United-States</td>\n",
              "      <td>0</td>\n",
              "    </tr>\n",
              "    <tr>\n",
              "      <th>13</th>\n",
              "      <td>32</td>\n",
              "      <td>Assoc-acdm</td>\n",
              "      <td>Never-married</td>\n",
              "      <td>Not-in-family</td>\n",
              "      <td>Black</td>\n",
              "      <td>Male</td>\n",
              "      <td>50</td>\n",
              "      <td>United-States</td>\n",
              "      <td>0</td>\n",
              "    </tr>\n",
              "    <tr>\n",
              "      <th>15</th>\n",
              "      <td>34</td>\n",
              "      <td>7th-8th</td>\n",
              "      <td>Married-civ-spouse</td>\n",
              "      <td>Husband</td>\n",
              "      <td>Amer-Indian-Eskimo</td>\n",
              "      <td>Male</td>\n",
              "      <td>45</td>\n",
              "      <td>Mexico</td>\n",
              "      <td>0</td>\n",
              "    </tr>\n",
              "    <tr>\n",
              "      <th>16</th>\n",
              "      <td>25</td>\n",
              "      <td>HS-grad</td>\n",
              "      <td>Never-married</td>\n",
              "      <td>Own-child</td>\n",
              "      <td>White</td>\n",
              "      <td>Male</td>\n",
              "      <td>35</td>\n",
              "      <td>United-States</td>\n",
              "      <td>0</td>\n",
              "    </tr>\n",
              "    <tr>\n",
              "      <th>17</th>\n",
              "      <td>32</td>\n",
              "      <td>HS-grad</td>\n",
              "      <td>Never-married</td>\n",
              "      <td>Unmarried</td>\n",
              "      <td>White</td>\n",
              "      <td>Male</td>\n",
              "      <td>40</td>\n",
              "      <td>United-States</td>\n",
              "      <td>0</td>\n",
              "    </tr>\n",
              "    <tr>\n",
              "      <th>18</th>\n",
              "      <td>38</td>\n",
              "      <td>11th</td>\n",
              "      <td>Married-civ-spouse</td>\n",
              "      <td>Husband</td>\n",
              "      <td>White</td>\n",
              "      <td>Male</td>\n",
              "      <td>50</td>\n",
              "      <td>United-States</td>\n",
              "      <td>0</td>\n",
              "    </tr>\n",
              "    <tr>\n",
              "      <th>19</th>\n",
              "      <td>43</td>\n",
              "      <td>Masters</td>\n",
              "      <td>Divorced</td>\n",
              "      <td>Unmarried</td>\n",
              "      <td>White</td>\n",
              "      <td>Female</td>\n",
              "      <td>45</td>\n",
              "      <td>United-States</td>\n",
              "      <td>1</td>\n",
              "    </tr>\n",
              "    <tr>\n",
              "      <th>20</th>\n",
              "      <td>40</td>\n",
              "      <td>Doctorate</td>\n",
              "      <td>Married-civ-spouse</td>\n",
              "      <td>Husband</td>\n",
              "      <td>White</td>\n",
              "      <td>Male</td>\n",
              "      <td>60</td>\n",
              "      <td>United-States</td>\n",
              "      <td>1</td>\n",
              "    </tr>\n",
              "  </tbody>\n",
              "</table>\n",
              "</div>"
            ],
            "text/plain": [
              "    age     education         marital.status   relationship  \\\n",
              "0    39     Bachelors          Never-married  Not-in-family   \n",
              "1    50     Bachelors     Married-civ-spouse        Husband   \n",
              "2    38       HS-grad               Divorced  Not-in-family   \n",
              "3    53          11th     Married-civ-spouse        Husband   \n",
              "4    28     Bachelors     Married-civ-spouse           Wife   \n",
              "5    37       Masters     Married-civ-spouse           Wife   \n",
              "6    49           9th  Married-spouse-absent  Not-in-family   \n",
              "7    52       HS-grad     Married-civ-spouse        Husband   \n",
              "8    31       Masters          Never-married  Not-in-family   \n",
              "9    42     Bachelors     Married-civ-spouse        Husband   \n",
              "10   37  Some-college     Married-civ-spouse        Husband   \n",
              "11   30     Bachelors     Married-civ-spouse        Husband   \n",
              "12   23     Bachelors          Never-married      Own-child   \n",
              "13   32    Assoc-acdm          Never-married  Not-in-family   \n",
              "15   34       7th-8th     Married-civ-spouse        Husband   \n",
              "16   25       HS-grad          Never-married      Own-child   \n",
              "17   32       HS-grad          Never-married      Unmarried   \n",
              "18   38          11th     Married-civ-spouse        Husband   \n",
              "19   43       Masters               Divorced      Unmarried   \n",
              "20   40     Doctorate     Married-civ-spouse        Husband   \n",
              "\n",
              "                  race     sex  hoursperweek  nativecountry  income  \n",
              "0                White    Male            40  United-States       0  \n",
              "1                White    Male            13  United-States       0  \n",
              "2                White    Male            40  United-States       0  \n",
              "3                Black    Male            40  United-States       0  \n",
              "4                Black  Female            40           Cuba       0  \n",
              "5                White  Female            40  United-States       0  \n",
              "6                Black  Female            16        Jamaica       0  \n",
              "7                White    Male            45  United-States       1  \n",
              "8                White  Female            50  United-States       1  \n",
              "9                White    Male            40  United-States       1  \n",
              "10               Black    Male            80  United-States       1  \n",
              "11  Asian-Pac-Islander    Male            40          India       1  \n",
              "12               White  Female            30  United-States       0  \n",
              "13               Black    Male            50  United-States       0  \n",
              "15  Amer-Indian-Eskimo    Male            45         Mexico       0  \n",
              "16               White    Male            35  United-States       0  \n",
              "17               White    Male            40  United-States       0  \n",
              "18               White    Male            50  United-States       0  \n",
              "19               White  Female            45  United-States       1  \n",
              "20               White    Male            60  United-States       1  "
            ]
          },
          "metadata": {
            "tags": []
          },
          "execution_count": 40
        }
      ]
    },
    {
      "metadata": {
        "id": "aV7RzdygSDrc",
        "colab_type": "text"
      },
      "cell_type": "markdown",
      "source": [
        "Elabora una regla para predecir la variable `income`, y almacena los resultados en la variable `income_pred`. Puedes comprobar cómo de buena es tu regla utilizando la función acierto, que recibe dos vectores, `income` que es el valor real e `income_pred` que es la predicción."
      ]
    },
    {
      "metadata": {
        "id": "uARyk0cdSDrd",
        "colab_type": "code",
        "colab": {}
      },
      "cell_type": "code",
      "source": [
        "def acierto(income, income_pred):\n",
        "    ac = sum(income == income_pred)*100/(len(income))\n",
        "    return \"Porcentaje de acierto: \" + str(ac) + \"%\"\n"
      ],
      "execution_count": 0,
      "outputs": []
    },
    {
      "metadata": {
        "id": "TvNzAKY0SDre",
        "colab_type": "text"
      },
      "cell_type": "markdown",
      "source": [
        "Este es un ejemplo muy sencillo. La regla es: diremos que cobran más de 50k aquelos cuyo nivel de estudios sea  doctorado"
      ]
    },
    {
      "metadata": {
        "id": "HUOUDhuDSDre",
        "colab_type": "code",
        "outputId": "29f45fd0-7de1-426c-9bde-22acdd0f9f2d",
        "colab": {
          "base_uri": "https://localhost:8080/",
          "height": 34
        }
      },
      "cell_type": "code",
      "source": [
        "inc[\"income_pred\"] = 0\n",
        "\n",
        "condicion = (inc.education.isin([\"Doctorate\"])) \n",
        "inc.loc[condicion, \"income_pred\"] = 1\n",
        "acierto(inc.income, inc.income_pred)"
      ],
      "execution_count": 0,
      "outputs": [
        {
          "output_type": "execute_result",
          "data": {
            "text/plain": [
              "'Porcentaje de acierto: 76.53699418350115%'"
            ]
          },
          "metadata": {
            "tags": []
          },
          "execution_count": 45
        }
      ]
    },
    {
      "metadata": {
        "id": "jelFdVofEXg8",
        "colab_type": "text"
      },
      "cell_type": "markdown",
      "source": [
        "Intenta buscar una regla que supere el 80% de cierto"
      ]
    },
    {
      "metadata": {
        "id": "4ESBcwS0SDrg",
        "colab_type": "code",
        "colab": {}
      },
      "cell_type": "code",
      "source": [
        ""
      ],
      "execution_count": 0,
      "outputs": []
    }
  ]
}