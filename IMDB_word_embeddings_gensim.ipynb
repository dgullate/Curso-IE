{
  "nbformat": 4,
  "nbformat_minor": 0,
  "metadata": {
    "colab": {
      "name": "IMDB_word_embeddings_gensim.ipynb",
      "version": "0.3.2",
      "provenance": [],
      "include_colab_link": true
    },
    "kernelspec": {
      "name": "python3",
      "display_name": "Python 3"
    }
  },
  "cells": [
    {
      "cell_type": "markdown",
      "metadata": {
        "id": "view-in-github",
        "colab_type": "text"
      },
      "source": [
        "<a href=\"https://colab.research.google.com/github/dgullate/Curso-IE/blob/master/IMDB_word_embeddings_gensim.ipynb\" target=\"_parent\"><img src=\"https://colab.research.google.com/assets/colab-badge.svg\" alt=\"Open In Colab\"/></a>"
      ]
    },
    {
      "cell_type": "code",
      "metadata": {
        "id": "DwdLNkPX22qO",
        "colab_type": "code",
        "colab": {
          "base_uri": "https://localhost:8080/",
          "height": 52
        },
        "outputId": "3b6b947c-0bcd-44c9-a0a4-08e0bf7f0999"
      },
      "source": [
        "import pandas as pd\n",
        "import nltk\n",
        "nltk.download('stopwords')\n",
        "# import warnings filter\n",
        "from warnings import simplefilter\n",
        "# ignore all future warnings\n",
        "simplefilter(action='ignore', category=FutureWarning)\n",
        "simplefilter(action='ignore', category=DeprecationWarning)"
      ],
      "execution_count": 30,
      "outputs": [
        {
          "output_type": "stream",
          "text": [
            "[nltk_data] Downloading package stopwords to /root/nltk_data...\n",
            "[nltk_data]   Unzipping corpora/stopwords.zip.\n"
          ],
          "name": "stdout"
        }
      ]
    },
    {
      "cell_type": "markdown",
      "metadata": {
        "id": "zoNijbj6CBZ5",
        "colab_type": "text"
      },
      "source": [
        "## Loading the data"
      ]
    },
    {
      "cell_type": "markdown",
      "metadata": {
        "id": "28AMSlZ420gM",
        "colab_type": "text"
      },
      "source": [
        "First, we read in the data with pandas, as we did in Part 1. Unlike Part 1, we now use unlabeledTrain.tsv, which contains 50,000 additional reviews with no labels. When we built the Bag of Words model in Part 1, extra unlabeled training reviews were not useful. However, since Word2Vec can learn from unlabeled data, these extra 50,000 reviews can now be used."
      ]
    },
    {
      "cell_type": "code",
      "metadata": {
        "id": "oo9N8k1l2eux",
        "colab_type": "code",
        "colab": {}
      },
      "source": [
        "train_data_path='https://github.com/dgullate/Curso-IE/blob/master/Week_4/IMDB/data/labeledTrainData.tsv?raw=true'\n",
        "test_data_path='https://github.com/dgullate/Curso-IE/blob/master/Week_4/IMDB/data/testData.tsv?raw=true'\n",
        "unlabeled_data_path='https://github.com/dgullate/Curso-IE/blob/master/Week_4/IMDB/data/unlabeledTrainData.tsv?raw=true'\n",
        "train = pd.read_csv(train_data_path, header=0, delimiter=\"\\t\", quoting=3)\n",
        "unlabeled_train = pd.read_csv(unlabeled_data_path, header=0, delimiter=\"\\t\", quoting=3)\n",
        "test = pd.read_csv(test_data_path, header=0, delimiter=\"\\t\", quoting=3)"
      ],
      "execution_count": 0,
      "outputs": []
    },
    {
      "cell_type": "markdown",
      "metadata": {
        "id": "04Uk3sOTCGnc",
        "colab_type": "text"
      },
      "source": [
        "## Data cleaning and preprocessing"
      ]
    },
    {
      "cell_type": "markdown",
      "metadata": {
        "id": "RSbIKeCA3BzO",
        "colab_type": "text"
      },
      "source": [
        "The functions we write to clean the data are also similar to Part 1, although now there are a couple of differences. First, to train Word2Vec it is better not to remove stop words because the algorithm relies on the broader context of the sentence in order to produce high-quality word vectors. For this reason, we will make stop word removal optional in the functions below. It also might be better not to remove numbers, but we leave that as an exercise for the reader."
      ]
    },
    {
      "cell_type": "code",
      "metadata": {
        "id": "rgw7xVDD2qDd",
        "colab_type": "code",
        "colab": {}
      },
      "source": [
        "# Import various modules for string cleaning\n",
        "from bs4 import BeautifulSoup\n",
        "import re\n",
        "from nltk.corpus import stopwords\n",
        "\n",
        "def review_to_wordlist( review, remove_stopwords=False ):\n",
        "    # Function to convert a document to a sequence of words,\n",
        "    # optionally removing stop words.  Returns a list of words.\n",
        "    #\n",
        "    # 1. Remove HTML\n",
        "    review_text = BeautifulSoup(review).get_text()\n",
        "    #  \n",
        "    # 2. Remove non-letters\n",
        "    review_text = re.sub(\"[^a-zA-Z]\",\" \", review_text)\n",
        "    #\n",
        "    # 3. Convert words to lower case and split them\n",
        "    words = review_text.lower().split()\n",
        "    #\n",
        "    # 4. Optionally remove stop words (false by default)\n",
        "    if remove_stopwords:\n",
        "        stops = set(stopwords.words(\"english\"))\n",
        "        words = [w for w in words if not w in stops]\n",
        "    #\n",
        "    # 5. Return a list of words\n",
        "    return(words)"
      ],
      "execution_count": 0,
      "outputs": []
    },
    {
      "cell_type": "markdown",
      "metadata": {
        "id": "CkdYhsq43bqb",
        "colab_type": "text"
      },
      "source": [
        "Next, we want a specific input format. Word2Vec expects single sentences, each one as a list of words. In other words, the input format is a list of lists.\n",
        "\n",
        "It is not at all straightforward how to split a paragraph into sentences. There are all kinds of gotchas in natural language. English sentences can end with \"?\", \"!\", \"\"\", or \".\", among other things, and spacing and capitalization are not reliable guides either. For this reason, we'll use NLTK's punkt tokenizer for sentence splitting. In order to use this, you will need to install NLTK and use nltk.download() to download the relevant training file for punkt."
      ]
    },
    {
      "cell_type": "code",
      "metadata": {
        "id": "JnIuMzfm3cYs",
        "colab_type": "code",
        "colab": {
          "base_uri": "https://localhost:8080/",
          "height": 52
        },
        "outputId": "0a6ff977-a506-4ef2-86bf-959fb8e2037f"
      },
      "source": [
        "# Download the punkt tokenizer for sentence splitting\n",
        "import nltk.data\n",
        "nltk.download('punkt')   \n",
        "\n",
        "# Load the punkt tokenizer\n",
        "tokenizer = nltk.data.load('tokenizers/punkt/english.pickle')\n",
        "\n",
        "# Define a function to split a review into parsed sentences\n",
        "def review_to_sentences( review, tokenizer, remove_stopwords=False ):\n",
        "    # Function to split a review into parsed sentences. Returns a \n",
        "    # list of sentences, where each sentence is a list of words\n",
        "    #\n",
        "    # 1. Use the NLTK tokenizer to split the paragraph into sentences\n",
        "    raw_sentences = tokenizer.tokenize(review.strip())\n",
        "    #\n",
        "    # 2. Loop over each sentence\n",
        "    sentences = []\n",
        "    for raw_sentence in raw_sentences:\n",
        "        # If a sentence is empty, skip it\n",
        "        if len(raw_sentence) > 0:\n",
        "            # Otherwise, call review_to_wordlist to get a list of words\n",
        "            sentences.append(review_to_wordlist(raw_sentence,remove_stopwords))\n",
        "    #\n",
        "    # Return the list of sentences (each sentence is a list of words,\n",
        "    # so this returns a list of lists\n",
        "    return sentences"
      ],
      "execution_count": 4,
      "outputs": [
        {
          "output_type": "stream",
          "text": [
            "[nltk_data] Downloading package punkt to /root/nltk_data...\n",
            "[nltk_data]   Unzipping tokenizers/punkt.zip.\n"
          ],
          "name": "stdout"
        }
      ]
    },
    {
      "cell_type": "markdown",
      "metadata": {
        "id": "LYpwEgMm43gA",
        "colab_type": "text"
      },
      "source": [
        "Let us look at one review and the output of this last function on it:"
      ]
    },
    {
      "cell_type": "code",
      "metadata": {
        "id": "7IlIeN9y32VC",
        "colab_type": "code",
        "colab": {
          "base_uri": "https://localhost:8080/",
          "height": 193
        },
        "outputId": "56c9cca1-11c8-4b04-c787-074b3724bbd5"
      },
      "source": [
        "sentences= review_to_sentences(train['review'][7],tokenizer)\n",
        "for sentence in sentences:\n",
        "  print(sentence)"
      ],
      "execution_count": 5,
      "outputs": [
        {
          "output_type": "stream",
          "text": [
            "['i', 'watched', 'this', 'video', 'at', 'a', 'friend', 's', 'house']\n",
            "['i', 'm', 'glad', 'i', 'did', 'not', 'waste', 'money', 'buying', 'this', 'one']\n",
            "['the', 'video', 'cover', 'has', 'a', 'scene', 'from', 'the', 'movie', 'capricorn', 'one']\n",
            "['the', 'movie', 'starts', 'out', 'with', 'several', 'clips', 'of', 'rocket', 'blow', 'ups', 'most', 'not', 'related', 'to', 'manned', 'flight']\n",
            "['sibrel', 's', 'smoking', 'gun', 'is', 'a', 'short', 'video', 'clip', 'of', 'the', 'astronauts', 'preparing', 'a', 'video', 'broadcast']\n",
            "['he', 'edits', 'in', 'his', 'own', 'voice', 'over', 'instead', 'of', 'letting', 'us', 'listen', 'to', 'what', 'the', 'crew', 'had', 'to', 'say']\n",
            "['the', 'video', 'curiously', 'ends', 'with', 'a', 'showing', 'of', 'the', 'zapruder', 'film']\n",
            "['his', 'claims', 'about', 'radiation', 'shielding', 'star', 'photography', 'and', 'others', 'lead', 'me', 'to', 'believe', 'is', 'he', 'extremely', 'ignorant', 'or', 'has', 'some', 'sort', 'of', 'ax', 'to', 'grind', 'against', 'nasa', 'the', 'astronauts', 'or', 'american', 'in', 'general']\n",
            "['his', 'science', 'is', 'bad', 'and', 'so', 'is', 'this', 'video']\n"
          ],
          "name": "stdout"
        }
      ]
    },
    {
      "cell_type": "markdown",
      "metadata": {
        "id": "-NJhxG606M21",
        "colab_type": "text"
      },
      "source": [
        "Now we can apply this function to prepare our data for input to Word2Vec (this will take a couple minutes):"
      ]
    },
    {
      "cell_type": "code",
      "metadata": {
        "id": "6tIgoh3U5liB",
        "colab_type": "code",
        "colab": {
          "base_uri": "https://localhost:8080/",
          "height": 609
        },
        "outputId": "1601f472-59fd-484c-cc1d-4001e7142ed0"
      },
      "source": [
        "sentences = []  # Initialize an empty list of sentences\n",
        "\n",
        "print (\"Parsing sentences from training set\")\n",
        "n=0\n",
        "for review in train[\"review\"]:\n",
        "    sentences += review_to_sentences(review, tokenizer)\n",
        "    n+=1\n",
        "    if n%5000==0:\n",
        "      print('Already parsed {} files'.format(n))\n",
        "n=0\n",
        "print (\"Parsing sentences from unlabeled set\")\n",
        "for review in unlabeled_train[\"review\"]:\n",
        "    sentences += review_to_sentences(review, tokenizer)\n",
        "    n+=1\n",
        "    if n%5000==0:\n",
        "      print('Already parsed {} files'.format(n))\n"
      ],
      "execution_count": 6,
      "outputs": [
        {
          "output_type": "stream",
          "text": [
            "Parsing sentences from training set\n"
          ],
          "name": "stdout"
        },
        {
          "output_type": "stream",
          "text": [
            "/usr/local/lib/python3.6/dist-packages/bs4/__init__.py:273: UserWarning: \"b'.'\" looks like a filename, not markup. You should probably open this file and pass the filehandle into Beautiful Soup.\n",
            "  ' Beautiful Soup.' % markup)\n",
            "/usr/local/lib/python3.6/dist-packages/bs4/__init__.py:336: UserWarning: \"http://www.happierabroad.com\"\" looks like a URL. Beautiful Soup is not an HTTP client. You should probably use an HTTP client like requests to get the document behind the URL, and feed that document to Beautiful Soup.\n",
            "  ' that document to Beautiful Soup.' % decoded_markup\n"
          ],
          "name": "stderr"
        },
        {
          "output_type": "stream",
          "text": [
            "Already parsed 5000 files\n",
            "Already parsed 10000 files\n",
            "Already parsed 15000 files\n",
            "Already parsed 20000 files\n",
            "Already parsed 25000 files\n",
            "Parsing sentences from unlabeled set\n"
          ],
          "name": "stdout"
        },
        {
          "output_type": "stream",
          "text": [
            "/usr/local/lib/python3.6/dist-packages/bs4/__init__.py:336: UserWarning: \"http://www.archive.org/details/LovefromaStranger\"\" looks like a URL. Beautiful Soup is not an HTTP client. You should probably use an HTTP client like requests to get the document behind the URL, and feed that document to Beautiful Soup.\n",
            "  ' that document to Beautiful Soup.' % decoded_markup\n",
            "/usr/local/lib/python3.6/dist-packages/bs4/__init__.py:336: UserWarning: \"http://www.loosechangeguide.com/LooseChangeGuide.html\"\" looks like a URL. Beautiful Soup is not an HTTP client. You should probably use an HTTP client like requests to get the document behind the URL, and feed that document to Beautiful Soup.\n",
            "  ' that document to Beautiful Soup.' % decoded_markup\n"
          ],
          "name": "stderr"
        },
        {
          "output_type": "stream",
          "text": [
            "Already parsed 5000 files\n",
            "Already parsed 10000 files\n",
            "Already parsed 15000 files\n",
            "Already parsed 20000 files\n"
          ],
          "name": "stdout"
        },
        {
          "output_type": "stream",
          "text": [
            "/usr/local/lib/python3.6/dist-packages/bs4/__init__.py:336: UserWarning: \"http://www.msnbc.msn.com/id/4972055/site/newsweek/\"\" looks like a URL. Beautiful Soup is not an HTTP client. You should probably use an HTTP client like requests to get the document behind the URL, and feed that document to Beautiful Soup.\n",
            "  ' that document to Beautiful Soup.' % decoded_markup\n"
          ],
          "name": "stderr"
        },
        {
          "output_type": "stream",
          "text": [
            "Already parsed 25000 files\n",
            "Already parsed 30000 files\n"
          ],
          "name": "stdout"
        },
        {
          "output_type": "stream",
          "text": [
            "/usr/local/lib/python3.6/dist-packages/bs4/__init__.py:273: UserWarning: \"b'..'\" looks like a filename, not markup. You should probably open this file and pass the filehandle into Beautiful Soup.\n",
            "  ' Beautiful Soup.' % markup)\n"
          ],
          "name": "stderr"
        },
        {
          "output_type": "stream",
          "text": [
            "Already parsed 35000 files\n"
          ],
          "name": "stdout"
        },
        {
          "output_type": "stream",
          "text": [
            "/usr/local/lib/python3.6/dist-packages/bs4/__init__.py:336: UserWarning: \"http://www.youtube.com/watch?v=a0KSqelmgN8\"\" looks like a URL. Beautiful Soup is not an HTTP client. You should probably use an HTTP client like requests to get the document behind the URL, and feed that document to Beautiful Soup.\n",
            "  ' that document to Beautiful Soup.' % decoded_markup\n"
          ],
          "name": "stderr"
        },
        {
          "output_type": "stream",
          "text": [
            "Already parsed 40000 files\n",
            "Already parsed 45000 files\n"
          ],
          "name": "stdout"
        },
        {
          "output_type": "stream",
          "text": [
            "/usr/local/lib/python3.6/dist-packages/bs4/__init__.py:336: UserWarning: \"http://jake-weird.blogspot.com/2007/08/beneath.html\"\" looks like a URL. Beautiful Soup is not an HTTP client. You should probably use an HTTP client like requests to get the document behind the URL, and feed that document to Beautiful Soup.\n",
            "  ' that document to Beautiful Soup.' % decoded_markup\n"
          ],
          "name": "stderr"
        },
        {
          "output_type": "stream",
          "text": [
            "Already parsed 50000 files\n"
          ],
          "name": "stdout"
        }
      ]
    },
    {
      "cell_type": "markdown",
      "metadata": {
        "id": "vkYhITuY8izZ",
        "colab_type": "text"
      },
      "source": [
        "You may get a few warnings from BeautifulSoup about URLs in the sentences. These are nothing to worry about (although you may want to consider removing URLs when cleaning the text). \n",
        "\n",
        "We can take a look at the output to see how this differs from Part 1:"
      ]
    },
    {
      "cell_type": "code",
      "metadata": {
        "id": "8OoQzY2X6Rwt",
        "colab_type": "code",
        "colab": {
          "base_uri": "https://localhost:8080/",
          "height": 589
        },
        "outputId": "b81a0919-a3fc-4fd1-e415-14dd78d46e14"
      },
      "source": [
        "print(len(sentences))\n",
        "sentences[0]"
      ],
      "execution_count": 11,
      "outputs": [
        {
          "output_type": "stream",
          "text": [
            "795538\n"
          ],
          "name": "stdout"
        },
        {
          "output_type": "execute_result",
          "data": {
            "text/plain": [
              "['with',\n",
              " 'all',\n",
              " 'this',\n",
              " 'stuff',\n",
              " 'going',\n",
              " 'down',\n",
              " 'at',\n",
              " 'the',\n",
              " 'moment',\n",
              " 'with',\n",
              " 'mj',\n",
              " 'i',\n",
              " 've',\n",
              " 'started',\n",
              " 'listening',\n",
              " 'to',\n",
              " 'his',\n",
              " 'music',\n",
              " 'watching',\n",
              " 'the',\n",
              " 'odd',\n",
              " 'documentary',\n",
              " 'here',\n",
              " 'and',\n",
              " 'there',\n",
              " 'watched',\n",
              " 'the',\n",
              " 'wiz',\n",
              " 'and',\n",
              " 'watched',\n",
              " 'moonwalker',\n",
              " 'again']"
            ]
          },
          "metadata": {
            "tags": []
          },
          "execution_count": 11
        }
      ]
    },
    {
      "cell_type": "markdown",
      "metadata": {
        "id": "c16z-LtACQtb",
        "colab_type": "text"
      },
      "source": [
        "## Training word2vec on our dataset"
      ]
    },
    {
      "cell_type": "markdown",
      "metadata": {
        "id": "7HjgRn6l9n28",
        "colab_type": "text"
      },
      "source": [
        "With the list of nicely parsed sentences, we're ready to train the model. There are a number of parameter choices that affect the run time and the quality of the final model that is produced. For details on the algorithms below, see the word2vec API documentation as well as the Google documentation. \n",
        "\n",
        "1. **Architecture**: Architecture options are skip-gram (default) or continuous bag of words. We found that skip-gram was very slightly slower but produced better results.\n",
        "\n",
        "2. **Training algorithm**: Hierarchical softmax (default) or negative sampling. For us, the default worked well.\n",
        "Downsampling of frequent words: The Google documentation recommends values between .00001 and .001. For us, values closer 0.001 seemed to improve the accuracy of the final model.\n",
        "\n",
        "3. **Word vector dimensionality**: More features result in longer runtimes, and often, but not always, result in better models. Reasonable values can be in the tens to hundreds; we used 300.\n",
        "\n",
        "4. **Context / window size**: How many words of context should the training algorithm take into account? 10 seems to work well for hierarchical softmax (more is better, up to a point).\n",
        "\n",
        "5. **Worker threads**: Number of parallel processes to run. This is computer-specific, but between 4 and 6 should work on most systems.\n",
        "\n",
        "6. **Minimum word count**: This helps limit the size of the vocabulary to meaningful words. Any word that does not occur at least this many times across all documents is ignored. Reasonable values could be between 10 and 100. In this case, since each movie occurs 30 times, we set the minimum word count to 40, to avoid attaching too much importance to individual movie titles. This resulted in an overall vocabulary size of around 15,000 words. Higher values also help limit run time.\n",
        "\n",
        "Choosing parameters is not easy, but once we have chosen our parameters, creating a Word2Vec model is straightforward:"
      ]
    },
    {
      "cell_type": "code",
      "metadata": {
        "id": "_3Tnwgwk80n6",
        "colab_type": "code",
        "colab": {
          "base_uri": "https://localhost:8080/",
          "height": 5463
        },
        "outputId": "da876fa5-82ff-48a0-cb7e-2279248b5777"
      },
      "source": [
        "## NOTE: This calculation takes aprox. 4 min. on Google colab\n",
        "\n",
        "# Import the built-in logging module and configure it so that Word2Vec \n",
        "# creates nice output messages\n",
        "import logging\n",
        "logging.basicConfig(format='%(asctime)s : %(levelname)s : %(message)s',\\\n",
        "    level=logging.INFO)\n",
        "\n",
        "# Set values for various parameters\n",
        "num_features = 300    # Word vector dimensionality                      \n",
        "min_word_count = 40   # Minimum word count                        \n",
        "num_workers = 4       # Number of threads to run in parallel\n",
        "context = 10          # Context window size                                                                                    \n",
        "downsampling = 1e-3   # Downsample setting for frequent words\n",
        "\n",
        "# Initialize and train the model (this will take some time)\n",
        "from gensim.models import word2vec\n",
        "print (\"Training model...\")\n",
        "model = word2vec.Word2Vec(sentences, workers=num_workers, \\\n",
        "            size=num_features, min_count = min_word_count, \\\n",
        "            window = context, sample = downsampling)\n",
        "\n",
        "# If you don't plan to train the model any further, calling \n",
        "# init_sims will make the model much more memory-efficient.\n",
        "model.init_sims(replace=True)\n",
        "\n",
        "# It can be helpful to create a meaningful model name and \n",
        "# save the model for later use. You can load it later using Word2Vec.load()\n",
        "model_name = \"300features_40minwords_10context\"\n",
        "model.save(model_name)"
      ],
      "execution_count": 12,
      "outputs": [
        {
          "output_type": "stream",
          "text": [
            "2019-05-20 16:58:44,269 : INFO : 'pattern' package not found; tag filters are not available for English\n",
            "2019-05-20 16:58:44,281 : INFO : collecting all words and their counts\n",
            "2019-05-20 16:58:44,282 : INFO : PROGRESS: at sentence #0, processed 0 words, keeping 0 word types\n",
            "2019-05-20 16:58:44,345 : INFO : PROGRESS: at sentence #10000, processed 225803 words, keeping 17776 word types\n",
            "2019-05-20 16:58:44,409 : INFO : PROGRESS: at sentence #20000, processed 451892 words, keeping 24948 word types\n",
            "2019-05-20 16:58:44,468 : INFO : PROGRESS: at sentence #30000, processed 671315 words, keeping 30034 word types\n"
          ],
          "name": "stderr"
        },
        {
          "output_type": "stream",
          "text": [
            "Training model...\n"
          ],
          "name": "stdout"
        },
        {
          "output_type": "stream",
          "text": [
            "2019-05-20 16:58:44,531 : INFO : PROGRESS: at sentence #40000, processed 897815 words, keeping 34348 word types\n",
            "2019-05-20 16:58:44,588 : INFO : PROGRESS: at sentence #50000, processed 1116963 words, keeping 37761 word types\n",
            "2019-05-20 16:58:44,650 : INFO : PROGRESS: at sentence #60000, processed 1338404 words, keeping 40723 word types\n",
            "2019-05-20 16:58:44,709 : INFO : PROGRESS: at sentence #70000, processed 1561580 words, keeping 43333 word types\n",
            "2019-05-20 16:58:44,769 : INFO : PROGRESS: at sentence #80000, processed 1780887 words, keeping 45714 word types\n",
            "2019-05-20 16:58:44,828 : INFO : PROGRESS: at sentence #90000, processed 2004996 words, keeping 48135 word types\n",
            "2019-05-20 16:58:44,888 : INFO : PROGRESS: at sentence #100000, processed 2226966 words, keeping 50207 word types\n",
            "2019-05-20 16:58:44,948 : INFO : PROGRESS: at sentence #110000, processed 2446580 words, keeping 52081 word types\n",
            "2019-05-20 16:58:45,008 : INFO : PROGRESS: at sentence #120000, processed 2668775 words, keeping 54119 word types\n",
            "2019-05-20 16:58:45,071 : INFO : PROGRESS: at sentence #130000, processed 2894303 words, keeping 55847 word types\n",
            "2019-05-20 16:58:45,131 : INFO : PROGRESS: at sentence #140000, processed 3107005 words, keeping 57346 word types\n",
            "2019-05-20 16:58:45,194 : INFO : PROGRESS: at sentence #150000, processed 3332627 words, keeping 59055 word types\n",
            "2019-05-20 16:58:45,258 : INFO : PROGRESS: at sentence #160000, processed 3555315 words, keeping 60617 word types\n",
            "2019-05-20 16:58:45,323 : INFO : PROGRESS: at sentence #170000, processed 3778655 words, keeping 62077 word types\n",
            "2019-05-20 16:58:45,385 : INFO : PROGRESS: at sentence #180000, processed 3999236 words, keeping 63496 word types\n",
            "2019-05-20 16:58:45,449 : INFO : PROGRESS: at sentence #190000, processed 4224449 words, keeping 64794 word types\n",
            "2019-05-20 16:58:45,511 : INFO : PROGRESS: at sentence #200000, processed 4448603 words, keeping 66087 word types\n",
            "2019-05-20 16:58:45,574 : INFO : PROGRESS: at sentence #210000, processed 4669967 words, keeping 67390 word types\n",
            "2019-05-20 16:58:45,637 : INFO : PROGRESS: at sentence #220000, processed 4894968 words, keeping 68697 word types\n",
            "2019-05-20 16:58:45,698 : INFO : PROGRESS: at sentence #230000, processed 5117545 words, keeping 69958 word types\n",
            "2019-05-20 16:58:45,761 : INFO : PROGRESS: at sentence #240000, processed 5345050 words, keeping 71167 word types\n",
            "2019-05-20 16:58:45,821 : INFO : PROGRESS: at sentence #250000, processed 5559165 words, keeping 72351 word types\n",
            "2019-05-20 16:58:45,881 : INFO : PROGRESS: at sentence #260000, processed 5779146 words, keeping 73478 word types\n",
            "2019-05-20 16:58:45,942 : INFO : PROGRESS: at sentence #270000, processed 6000435 words, keeping 74767 word types\n",
            "2019-05-20 16:58:46,006 : INFO : PROGRESS: at sentence #280000, processed 6226314 words, keeping 76369 word types\n",
            "2019-05-20 16:58:46,069 : INFO : PROGRESS: at sentence #290000, processed 6449474 words, keeping 77839 word types\n",
            "2019-05-20 16:58:46,132 : INFO : PROGRESS: at sentence #300000, processed 6674077 words, keeping 79171 word types\n",
            "2019-05-20 16:58:46,194 : INFO : PROGRESS: at sentence #310000, processed 6899391 words, keeping 80480 word types\n",
            "2019-05-20 16:58:46,257 : INFO : PROGRESS: at sentence #320000, processed 7124278 words, keeping 81808 word types\n",
            "2019-05-20 16:58:46,323 : INFO : PROGRESS: at sentence #330000, processed 7346021 words, keeping 83030 word types\n",
            "2019-05-20 16:58:46,390 : INFO : PROGRESS: at sentence #340000, processed 7575533 words, keeping 84280 word types\n",
            "2019-05-20 16:58:46,454 : INFO : PROGRESS: at sentence #350000, processed 7798803 words, keeping 85425 word types\n",
            "2019-05-20 16:58:46,516 : INFO : PROGRESS: at sentence #360000, processed 8019427 words, keeping 86596 word types\n",
            "2019-05-20 16:58:46,583 : INFO : PROGRESS: at sentence #370000, processed 8246619 words, keeping 87708 word types\n",
            "2019-05-20 16:58:46,647 : INFO : PROGRESS: at sentence #380000, processed 8471766 words, keeping 88878 word types\n",
            "2019-05-20 16:58:46,716 : INFO : PROGRESS: at sentence #390000, processed 8701497 words, keeping 89907 word types\n",
            "2019-05-20 16:58:46,781 : INFO : PROGRESS: at sentence #400000, processed 8924446 words, keeping 90916 word types\n",
            "2019-05-20 16:58:46,849 : INFO : PROGRESS: at sentence #410000, processed 9145796 words, keeping 91880 word types\n",
            "2019-05-20 16:58:46,916 : INFO : PROGRESS: at sentence #420000, processed 9366876 words, keeping 92912 word types\n",
            "2019-05-20 16:58:46,985 : INFO : PROGRESS: at sentence #430000, processed 9594413 words, keeping 93932 word types\n",
            "2019-05-20 16:58:47,053 : INFO : PROGRESS: at sentence #440000, processed 9821166 words, keeping 94906 word types\n",
            "2019-05-20 16:58:47,121 : INFO : PROGRESS: at sentence #450000, processed 10044928 words, keeping 96036 word types\n",
            "2019-05-20 16:58:47,191 : INFO : PROGRESS: at sentence #460000, processed 10277688 words, keeping 97088 word types\n",
            "2019-05-20 16:58:47,259 : INFO : PROGRESS: at sentence #470000, processed 10505613 words, keeping 97933 word types\n",
            "2019-05-20 16:58:47,327 : INFO : PROGRESS: at sentence #480000, processed 10725997 words, keeping 98862 word types\n",
            "2019-05-20 16:58:47,397 : INFO : PROGRESS: at sentence #490000, processed 10952741 words, keeping 99871 word types\n",
            "2019-05-20 16:58:47,469 : INFO : PROGRESS: at sentence #500000, processed 11174397 words, keeping 100765 word types\n",
            "2019-05-20 16:58:47,537 : INFO : PROGRESS: at sentence #510000, processed 11399672 words, keeping 101699 word types\n",
            "2019-05-20 16:58:47,604 : INFO : PROGRESS: at sentence #520000, processed 11623020 words, keeping 102598 word types\n",
            "2019-05-20 16:58:47,671 : INFO : PROGRESS: at sentence #530000, processed 11847418 words, keeping 103400 word types\n",
            "2019-05-20 16:58:47,738 : INFO : PROGRESS: at sentence #540000, processed 12072033 words, keeping 104265 word types\n",
            "2019-05-20 16:58:47,807 : INFO : PROGRESS: at sentence #550000, processed 12297571 words, keeping 105133 word types\n",
            "2019-05-20 16:58:47,875 : INFO : PROGRESS: at sentence #560000, processed 12518861 words, keeping 105997 word types\n",
            "2019-05-20 16:58:47,945 : INFO : PROGRESS: at sentence #570000, processed 12747916 words, keeping 106787 word types\n",
            "2019-05-20 16:58:48,012 : INFO : PROGRESS: at sentence #580000, processed 12969412 words, keeping 107665 word types\n",
            "2019-05-20 16:58:48,081 : INFO : PROGRESS: at sentence #590000, processed 13194937 words, keeping 108501 word types\n",
            "2019-05-20 16:58:48,151 : INFO : PROGRESS: at sentence #600000, processed 13417135 words, keeping 109218 word types\n",
            "2019-05-20 16:58:48,218 : INFO : PROGRESS: at sentence #610000, processed 13638158 words, keeping 110092 word types\n",
            "2019-05-20 16:58:48,287 : INFO : PROGRESS: at sentence #620000, processed 13864483 words, keeping 110837 word types\n",
            "2019-05-20 16:58:48,357 : INFO : PROGRESS: at sentence #630000, processed 14088769 words, keeping 111610 word types\n",
            "2019-05-20 16:58:48,427 : INFO : PROGRESS: at sentence #640000, processed 14309552 words, keeping 112416 word types\n",
            "2019-05-20 16:58:48,496 : INFO : PROGRESS: at sentence #650000, processed 14535308 words, keeping 113196 word types\n",
            "2019-05-20 16:58:48,564 : INFO : PROGRESS: at sentence #660000, processed 14758098 words, keeping 113945 word types\n",
            "2019-05-20 16:58:48,632 : INFO : PROGRESS: at sentence #670000, processed 14981482 words, keeping 114643 word types\n",
            "2019-05-20 16:58:48,702 : INFO : PROGRESS: at sentence #680000, processed 15206314 words, keeping 115354 word types\n",
            "2019-05-20 16:58:48,770 : INFO : PROGRESS: at sentence #690000, processed 15428507 words, keeping 116131 word types\n",
            "2019-05-20 16:58:48,838 : INFO : PROGRESS: at sentence #700000, processed 15657213 words, keeping 116943 word types\n",
            "2019-05-20 16:58:48,906 : INFO : PROGRESS: at sentence #710000, processed 15880202 words, keeping 117596 word types\n",
            "2019-05-20 16:58:48,972 : INFO : PROGRESS: at sentence #720000, processed 16105489 words, keeping 118221 word types\n",
            "2019-05-20 16:58:49,041 : INFO : PROGRESS: at sentence #730000, processed 16331870 words, keeping 118954 word types\n",
            "2019-05-20 16:58:49,107 : INFO : PROGRESS: at sentence #740000, processed 16552903 words, keeping 119668 word types\n",
            "2019-05-20 16:58:49,172 : INFO : PROGRESS: at sentence #750000, processed 16771230 words, keeping 120295 word types\n",
            "2019-05-20 16:58:49,242 : INFO : PROGRESS: at sentence #760000, processed 16990622 words, keeping 120930 word types\n",
            "2019-05-20 16:58:49,312 : INFO : PROGRESS: at sentence #770000, processed 17217759 words, keeping 121703 word types\n",
            "2019-05-20 16:58:49,380 : INFO : PROGRESS: at sentence #780000, processed 17447905 words, keeping 122402 word types\n",
            "2019-05-20 16:58:49,448 : INFO : PROGRESS: at sentence #790000, processed 17674981 words, keeping 123066 word types\n",
            "2019-05-20 16:58:49,487 : INFO : collected 123504 word types from a corpus of 17798082 raw words and 795538 sentences\n",
            "2019-05-20 16:58:49,488 : INFO : Loading a fresh vocabulary\n",
            "2019-05-20 16:58:49,591 : INFO : effective_min_count=40 retains 16490 unique words (13% of original 123504, drops 107014)\n",
            "2019-05-20 16:58:49,592 : INFO : effective_min_count=40 leaves 17238940 word corpus (96% of original 17798082, drops 559142)\n",
            "2019-05-20 16:58:49,653 : INFO : deleting the raw counts dictionary of 123504 items\n",
            "2019-05-20 16:58:49,660 : INFO : sample=0.001 downsamples 48 most-common words\n",
            "2019-05-20 16:58:49,661 : INFO : downsampling leaves estimated 12749658 word corpus (74.0% of prior 17238940)\n",
            "2019-05-20 16:58:49,728 : INFO : estimated required memory for 16490 words and 300 dimensions: 47821000 bytes\n",
            "2019-05-20 16:58:49,729 : INFO : resetting layer weights\n",
            "2019-05-20 16:58:49,944 : INFO : training model with 4 workers on 16490 vocabulary and 300 features, using sg=0 hs=0 sample=0.001 negative=5 window=10\n",
            "2019-05-20 16:58:51,018 : INFO : EPOCH 1 - PROGRESS: at 2.62% examples, 316946 words/s, in_qsize 7, out_qsize 0\n",
            "2019-05-20 16:58:52,049 : INFO : EPOCH 1 - PROGRESS: at 5.30% examples, 324829 words/s, in_qsize 7, out_qsize 0\n",
            "2019-05-20 16:58:53,070 : INFO : EPOCH 1 - PROGRESS: at 8.06% examples, 328318 words/s, in_qsize 7, out_qsize 0\n",
            "2019-05-20 16:58:54,079 : INFO : EPOCH 1 - PROGRESS: at 10.64% examples, 327792 words/s, in_qsize 7, out_qsize 0\n",
            "2019-05-20 16:58:55,080 : INFO : EPOCH 1 - PROGRESS: at 13.32% examples, 329482 words/s, in_qsize 7, out_qsize 0\n",
            "2019-05-20 16:58:56,109 : INFO : EPOCH 1 - PROGRESS: at 15.95% examples, 329027 words/s, in_qsize 6, out_qsize 1\n",
            "2019-05-20 16:58:57,121 : INFO : EPOCH 1 - PROGRESS: at 18.69% examples, 330370 words/s, in_qsize 7, out_qsize 0\n",
            "2019-05-20 16:58:58,133 : INFO : EPOCH 1 - PROGRESS: at 21.24% examples, 328921 words/s, in_qsize 7, out_qsize 0\n",
            "2019-05-20 16:58:59,148 : INFO : EPOCH 1 - PROGRESS: at 23.87% examples, 329218 words/s, in_qsize 6, out_qsize 1\n",
            "2019-05-20 16:59:00,197 : INFO : EPOCH 1 - PROGRESS: at 26.63% examples, 329685 words/s, in_qsize 7, out_qsize 0\n",
            "2019-05-20 16:59:01,205 : INFO : EPOCH 1 - PROGRESS: at 29.20% examples, 329384 words/s, in_qsize 6, out_qsize 0\n",
            "2019-05-20 16:59:02,222 : INFO : EPOCH 1 - PROGRESS: at 31.85% examples, 328851 words/s, in_qsize 7, out_qsize 0\n",
            "2019-05-20 16:59:03,240 : INFO : EPOCH 1 - PROGRESS: at 34.44% examples, 328355 words/s, in_qsize 7, out_qsize 0\n",
            "2019-05-20 16:59:04,261 : INFO : EPOCH 1 - PROGRESS: at 37.06% examples, 328390 words/s, in_qsize 7, out_qsize 0\n",
            "2019-05-20 16:59:05,281 : INFO : EPOCH 1 - PROGRESS: at 39.70% examples, 328488 words/s, in_qsize 7, out_qsize 0\n",
            "2019-05-20 16:59:06,296 : INFO : EPOCH 1 - PROGRESS: at 42.24% examples, 328210 words/s, in_qsize 7, out_qsize 0\n",
            "2019-05-20 16:59:07,307 : INFO : EPOCH 1 - PROGRESS: at 44.84% examples, 328064 words/s, in_qsize 7, out_qsize 0\n",
            "2019-05-20 16:59:08,328 : INFO : EPOCH 1 - PROGRESS: at 47.56% examples, 328907 words/s, in_qsize 7, out_qsize 0\n",
            "2019-05-20 16:59:09,368 : INFO : EPOCH 1 - PROGRESS: at 50.22% examples, 328969 words/s, in_qsize 7, out_qsize 0\n",
            "2019-05-20 16:59:10,421 : INFO : EPOCH 1 - PROGRESS: at 52.95% examples, 328821 words/s, in_qsize 8, out_qsize 1\n",
            "2019-05-20 16:59:11,446 : INFO : EPOCH 1 - PROGRESS: at 55.61% examples, 329105 words/s, in_qsize 8, out_qsize 0\n",
            "2019-05-20 16:59:12,472 : INFO : EPOCH 1 - PROGRESS: at 58.18% examples, 329201 words/s, in_qsize 7, out_qsize 0\n",
            "2019-05-20 16:59:13,477 : INFO : EPOCH 1 - PROGRESS: at 60.80% examples, 329238 words/s, in_qsize 7, out_qsize 0\n",
            "2019-05-20 16:59:14,497 : INFO : EPOCH 1 - PROGRESS: at 63.45% examples, 329258 words/s, in_qsize 7, out_qsize 0\n",
            "2019-05-20 16:59:15,522 : INFO : EPOCH 1 - PROGRESS: at 66.06% examples, 329290 words/s, in_qsize 7, out_qsize 0\n",
            "2019-05-20 16:59:16,538 : INFO : EPOCH 1 - PROGRESS: at 68.72% examples, 329280 words/s, in_qsize 7, out_qsize 0\n",
            "2019-05-20 16:59:17,550 : INFO : EPOCH 1 - PROGRESS: at 71.43% examples, 329911 words/s, in_qsize 8, out_qsize 0\n",
            "2019-05-20 16:59:18,556 : INFO : EPOCH 1 - PROGRESS: at 74.07% examples, 330070 words/s, in_qsize 7, out_qsize 0\n",
            "2019-05-20 16:59:19,572 : INFO : EPOCH 1 - PROGRESS: at 76.61% examples, 329587 words/s, in_qsize 6, out_qsize 1\n",
            "2019-05-20 16:59:20,581 : INFO : EPOCH 1 - PROGRESS: at 79.17% examples, 329478 words/s, in_qsize 7, out_qsize 0\n",
            "2019-05-20 16:59:21,617 : INFO : EPOCH 1 - PROGRESS: at 81.87% examples, 329526 words/s, in_qsize 6, out_qsize 1\n",
            "2019-05-20 16:59:22,652 : INFO : EPOCH 1 - PROGRESS: at 84.56% examples, 329607 words/s, in_qsize 6, out_qsize 1\n",
            "2019-05-20 16:59:23,676 : INFO : EPOCH 1 - PROGRESS: at 87.26% examples, 329777 words/s, in_qsize 7, out_qsize 0\n",
            "2019-05-20 16:59:24,725 : INFO : EPOCH 1 - PROGRESS: at 89.91% examples, 329708 words/s, in_qsize 7, out_qsize 0\n",
            "2019-05-20 16:59:25,758 : INFO : EPOCH 1 - PROGRESS: at 92.51% examples, 329379 words/s, in_qsize 8, out_qsize 1\n",
            "2019-05-20 16:59:26,823 : INFO : EPOCH 1 - PROGRESS: at 95.30% examples, 329381 words/s, in_qsize 7, out_qsize 0\n",
            "2019-05-20 16:59:27,847 : INFO : EPOCH 1 - PROGRESS: at 97.89% examples, 329349 words/s, in_qsize 7, out_qsize 0\n",
            "2019-05-20 16:59:28,557 : INFO : worker thread finished; awaiting finish of 3 more threads\n",
            "2019-05-20 16:59:28,560 : INFO : worker thread finished; awaiting finish of 2 more threads\n",
            "2019-05-20 16:59:28,597 : INFO : worker thread finished; awaiting finish of 1 more threads\n",
            "2019-05-20 16:59:28,607 : INFO : worker thread finished; awaiting finish of 0 more threads\n",
            "2019-05-20 16:59:28,608 : INFO : EPOCH - 1 : training on 17798082 raw words (12751019 effective words) took 38.7s, 329894 effective words/s\n",
            "2019-05-20 16:59:29,672 : INFO : EPOCH 2 - PROGRESS: at 2.62% examples, 319110 words/s, in_qsize 7, out_qsize 0\n",
            "2019-05-20 16:59:30,685 : INFO : EPOCH 2 - PROGRESS: at 5.30% examples, 328989 words/s, in_qsize 7, out_qsize 0\n",
            "2019-05-20 16:59:31,686 : INFO : EPOCH 2 - PROGRESS: at 8.06% examples, 333350 words/s, in_qsize 8, out_qsize 0\n",
            "2019-05-20 16:59:32,697 : INFO : EPOCH 2 - PROGRESS: at 10.64% examples, 331566 words/s, in_qsize 7, out_qsize 0\n",
            "2019-05-20 16:59:33,723 : INFO : EPOCH 2 - PROGRESS: at 13.31% examples, 330924 words/s, in_qsize 7, out_qsize 0\n",
            "2019-05-20 16:59:34,741 : INFO : EPOCH 2 - PROGRESS: at 15.95% examples, 330805 words/s, in_qsize 7, out_qsize 0\n",
            "2019-05-20 16:59:35,771 : INFO : EPOCH 2 - PROGRESS: at 18.58% examples, 329063 words/s, in_qsize 7, out_qsize 0\n",
            "2019-05-20 16:59:36,833 : INFO : EPOCH 2 - PROGRESS: at 21.35% examples, 329309 words/s, in_qsize 7, out_qsize 1\n",
            "2019-05-20 16:59:37,841 : INFO : EPOCH 2 - PROGRESS: at 24.04% examples, 330438 words/s, in_qsize 7, out_qsize 0\n",
            "2019-05-20 16:59:38,849 : INFO : EPOCH 2 - PROGRESS: at 26.63% examples, 329960 words/s, in_qsize 5, out_qsize 2\n",
            "2019-05-20 16:59:39,890 : INFO : EPOCH 2 - PROGRESS: at 29.36% examples, 330549 words/s, in_qsize 8, out_qsize 1\n",
            "2019-05-20 16:59:40,905 : INFO : EPOCH 2 - PROGRESS: at 32.07% examples, 330547 words/s, in_qsize 7, out_qsize 0\n",
            "2019-05-20 16:59:41,915 : INFO : EPOCH 2 - PROGRESS: at 34.70% examples, 330719 words/s, in_qsize 7, out_qsize 1\n",
            "2019-05-20 16:59:42,935 : INFO : EPOCH 2 - PROGRESS: at 37.34% examples, 330673 words/s, in_qsize 7, out_qsize 0\n",
            "2019-05-20 16:59:43,945 : INFO : EPOCH 2 - PROGRESS: at 39.96% examples, 330826 words/s, in_qsize 7, out_qsize 0\n",
            "2019-05-20 16:59:44,957 : INFO : EPOCH 2 - PROGRESS: at 42.57% examples, 330884 words/s, in_qsize 7, out_qsize 0\n",
            "2019-05-20 16:59:45,973 : INFO : EPOCH 2 - PROGRESS: at 45.12% examples, 330061 words/s, in_qsize 7, out_qsize 0\n",
            "2019-05-20 16:59:46,994 : INFO : EPOCH 2 - PROGRESS: at 47.73% examples, 330020 words/s, in_qsize 7, out_qsize 0\n",
            "2019-05-20 16:59:48,008 : INFO : EPOCH 2 - PROGRESS: at 50.28% examples, 329956 words/s, in_qsize 7, out_qsize 0\n",
            "2019-05-20 16:59:49,034 : INFO : EPOCH 2 - PROGRESS: at 52.89% examples, 329267 words/s, in_qsize 7, out_qsize 0\n",
            "2019-05-20 16:59:50,053 : INFO : EPOCH 2 - PROGRESS: at 55.49% examples, 329290 words/s, in_qsize 7, out_qsize 0\n",
            "2019-05-20 16:59:51,055 : INFO : EPOCH 2 - PROGRESS: at 57.96% examples, 328890 words/s, in_qsize 7, out_qsize 0\n",
            "2019-05-20 16:59:52,081 : INFO : EPOCH 2 - PROGRESS: at 60.41% examples, 327930 words/s, in_qsize 6, out_qsize 1\n",
            "2019-05-20 16:59:53,107 : INFO : EPOCH 2 - PROGRESS: at 63.05% examples, 327903 words/s, in_qsize 7, out_qsize 0\n",
            "2019-05-20 16:59:54,120 : INFO : EPOCH 2 - PROGRESS: at 65.68% examples, 328066 words/s, in_qsize 7, out_qsize 0\n",
            "2019-05-20 16:59:55,126 : INFO : EPOCH 2 - PROGRESS: at 68.26% examples, 328023 words/s, in_qsize 7, out_qsize 0\n",
            "2019-05-20 16:59:56,165 : INFO : EPOCH 2 - PROGRESS: at 70.88% examples, 327865 words/s, in_qsize 7, out_qsize 1\n",
            "2019-05-20 16:59:57,166 : INFO : EPOCH 2 - PROGRESS: at 73.44% examples, 327890 words/s, in_qsize 7, out_qsize 0\n",
            "2019-05-20 16:59:58,171 : INFO : EPOCH 2 - PROGRESS: at 75.99% examples, 327625 words/s, in_qsize 7, out_qsize 0\n",
            "2019-05-20 16:59:59,212 : INFO : EPOCH 2 - PROGRESS: at 78.73% examples, 327927 words/s, in_qsize 7, out_qsize 0\n",
            "2019-05-20 17:00:00,217 : INFO : EPOCH 2 - PROGRESS: at 81.26% examples, 327665 words/s, in_qsize 8, out_qsize 3\n",
            "2019-05-20 17:00:01,299 : INFO : EPOCH 2 - PROGRESS: at 84.06% examples, 327765 words/s, in_qsize 7, out_qsize 0\n",
            "2019-05-20 17:00:02,324 : INFO : EPOCH 2 - PROGRESS: at 86.76% examples, 327994 words/s, in_qsize 7, out_qsize 0\n",
            "2019-05-20 17:00:03,358 : INFO : EPOCH 2 - PROGRESS: at 89.31% examples, 327698 words/s, in_qsize 7, out_qsize 0\n",
            "2019-05-20 17:00:04,408 : INFO : EPOCH 2 - PROGRESS: at 91.98% examples, 327688 words/s, in_qsize 7, out_qsize 0\n",
            "2019-05-20 17:00:05,416 : INFO : EPOCH 2 - PROGRESS: at 94.71% examples, 328043 words/s, in_qsize 7, out_qsize 0\n",
            "2019-05-20 17:00:06,418 : INFO : EPOCH 2 - PROGRESS: at 97.29% examples, 328045 words/s, in_qsize 7, out_qsize 0\n",
            "2019-05-20 17:00:07,419 : INFO : EPOCH 2 - PROGRESS: at 99.72% examples, 327700 words/s, in_qsize 5, out_qsize 0\n",
            "2019-05-20 17:00:07,456 : INFO : worker thread finished; awaiting finish of 3 more threads\n",
            "2019-05-20 17:00:07,467 : INFO : worker thread finished; awaiting finish of 2 more threads\n",
            "2019-05-20 17:00:07,490 : INFO : worker thread finished; awaiting finish of 1 more threads\n",
            "2019-05-20 17:00:07,505 : INFO : worker thread finished; awaiting finish of 0 more threads\n",
            "2019-05-20 17:00:07,506 : INFO : EPOCH - 2 : training on 17798082 raw words (12750518 effective words) took 38.9s, 327878 effective words/s\n",
            "2019-05-20 17:00:08,521 : INFO : EPOCH 3 - PROGRESS: at 2.39% examples, 306802 words/s, in_qsize 7, out_qsize 0\n",
            "2019-05-20 17:00:09,543 : INFO : EPOCH 3 - PROGRESS: at 5.03% examples, 317630 words/s, in_qsize 6, out_qsize 1\n",
            "2019-05-20 17:00:10,546 : INFO : EPOCH 3 - PROGRESS: at 7.60% examples, 318515 words/s, in_qsize 7, out_qsize 0\n",
            "2019-05-20 17:00:11,549 : INFO : EPOCH 3 - PROGRESS: at 10.15% examples, 319194 words/s, in_qsize 7, out_qsize 0\n",
            "2019-05-20 17:00:12,555 : INFO : EPOCH 3 - PROGRESS: at 12.68% examples, 319430 words/s, in_qsize 7, out_qsize 0\n",
            "2019-05-20 17:00:13,598 : INFO : EPOCH 3 - PROGRESS: at 15.34% examples, 319979 words/s, in_qsize 7, out_qsize 0\n",
            "2019-05-20 17:00:14,618 : INFO : EPOCH 3 - PROGRESS: at 17.97% examples, 320381 words/s, in_qsize 7, out_qsize 0\n",
            "2019-05-20 17:00:15,624 : INFO : EPOCH 3 - PROGRESS: at 20.56% examples, 321141 words/s, in_qsize 7, out_qsize 0\n",
            "2019-05-20 17:00:16,658 : INFO : EPOCH 3 - PROGRESS: at 23.21% examples, 322041 words/s, in_qsize 7, out_qsize 1\n",
            "2019-05-20 17:00:17,649 : INFO : EPOCH 3 - PROGRESS: at 25.75% examples, 321906 words/s, in_qsize 7, out_qsize 0\n",
            "2019-05-20 17:00:18,704 : INFO : EPOCH 3 - PROGRESS: at 28.37% examples, 321553 words/s, in_qsize 7, out_qsize 0\n",
            "2019-05-20 17:00:19,712 : INFO : EPOCH 3 - PROGRESS: at 30.98% examples, 321941 words/s, in_qsize 7, out_qsize 0\n",
            "2019-05-20 17:00:20,757 : INFO : EPOCH 3 - PROGRESS: at 33.72% examples, 322458 words/s, in_qsize 7, out_qsize 0\n",
            "2019-05-20 17:00:21,758 : INFO : EPOCH 3 - PROGRESS: at 36.29% examples, 322876 words/s, in_qsize 7, out_qsize 0\n",
            "2019-05-20 17:00:22,758 : INFO : EPOCH 3 - PROGRESS: at 38.85% examples, 323320 words/s, in_qsize 7, out_qsize 0\n",
            "2019-05-20 17:00:23,779 : INFO : EPOCH 3 - PROGRESS: at 41.42% examples, 323232 words/s, in_qsize 7, out_qsize 0\n",
            "2019-05-20 17:00:24,824 : INFO : EPOCH 3 - PROGRESS: at 44.15% examples, 323984 words/s, in_qsize 7, out_qsize 0\n",
            "2019-05-20 17:00:25,838 : INFO : EPOCH 3 - PROGRESS: at 46.88% examples, 325159 words/s, in_qsize 7, out_qsize 0\n",
            "2019-05-20 17:00:26,851 : INFO : EPOCH 3 - PROGRESS: at 49.44% examples, 325175 words/s, in_qsize 7, out_qsize 0\n",
            "2019-05-20 17:00:27,863 : INFO : EPOCH 3 - PROGRESS: at 52.10% examples, 325531 words/s, in_qsize 7, out_qsize 0\n",
            "2019-05-20 17:00:28,891 : INFO : EPOCH 3 - PROGRESS: at 54.70% examples, 325570 words/s, in_qsize 7, out_qsize 0\n",
            "2019-05-20 17:00:29,947 : INFO : EPOCH 3 - PROGRESS: at 57.42% examples, 325866 words/s, in_qsize 8, out_qsize 0\n",
            "2019-05-20 17:00:31,014 : INFO : EPOCH 3 - PROGRESS: at 60.06% examples, 325668 words/s, in_qsize 7, out_qsize 0\n",
            "2019-05-20 17:00:32,034 : INFO : EPOCH 3 - PROGRESS: at 62.77% examples, 326106 words/s, in_qsize 7, out_qsize 0\n",
            "2019-05-20 17:00:33,038 : INFO : EPOCH 3 - PROGRESS: at 65.17% examples, 325342 words/s, in_qsize 7, out_qsize 0\n",
            "2019-05-20 17:00:34,044 : INFO : EPOCH 3 - PROGRESS: at 67.69% examples, 325134 words/s, in_qsize 7, out_qsize 0\n",
            "2019-05-20 17:00:35,079 : INFO : EPOCH 3 - PROGRESS: at 70.28% examples, 324876 words/s, in_qsize 6, out_qsize 1\n",
            "2019-05-20 17:00:36,100 : INFO : EPOCH 3 - PROGRESS: at 72.84% examples, 324787 words/s, in_qsize 8, out_qsize 1\n",
            "2019-05-20 17:00:37,102 : INFO : EPOCH 3 - PROGRESS: at 75.42% examples, 324923 words/s, in_qsize 7, out_qsize 0\n",
            "2019-05-20 17:00:38,121 : INFO : EPOCH 3 - PROGRESS: at 77.83% examples, 324143 words/s, in_qsize 7, out_qsize 0\n",
            "2019-05-20 17:00:39,149 : INFO : EPOCH 3 - PROGRESS: at 80.36% examples, 323774 words/s, in_qsize 7, out_qsize 0\n",
            "2019-05-20 17:00:40,164 : INFO : EPOCH 3 - PROGRESS: at 82.88% examples, 323577 words/s, in_qsize 6, out_qsize 1\n",
            "2019-05-20 17:00:41,190 : INFO : EPOCH 3 - PROGRESS: at 85.40% examples, 323295 words/s, in_qsize 6, out_qsize 1\n",
            "2019-05-20 17:00:42,241 : INFO : EPOCH 3 - PROGRESS: at 87.96% examples, 322976 words/s, in_qsize 8, out_qsize 0\n",
            "2019-05-20 17:00:43,248 : INFO : EPOCH 3 - PROGRESS: at 90.42% examples, 322674 words/s, in_qsize 7, out_qsize 0\n",
            "2019-05-20 17:00:44,252 : INFO : EPOCH 3 - PROGRESS: at 92.90% examples, 322430 words/s, in_qsize 7, out_qsize 0\n",
            "2019-05-20 17:00:45,288 : INFO : EPOCH 3 - PROGRESS: at 95.41% examples, 321906 words/s, in_qsize 7, out_qsize 0\n",
            "2019-05-20 17:00:46,288 : INFO : EPOCH 3 - PROGRESS: at 97.78% examples, 321534 words/s, in_qsize 7, out_qsize 0\n",
            "2019-05-20 17:00:47,119 : INFO : worker thread finished; awaiting finish of 3 more threads\n",
            "2019-05-20 17:00:47,143 : INFO : worker thread finished; awaiting finish of 2 more threads\n",
            "2019-05-20 17:00:47,159 : INFO : worker thread finished; awaiting finish of 1 more threads\n",
            "2019-05-20 17:00:47,168 : INFO : worker thread finished; awaiting finish of 0 more threads\n",
            "2019-05-20 17:00:47,169 : INFO : EPOCH - 3 : training on 17798082 raw words (12751684 effective words) took 39.7s, 321593 effective words/s\n",
            "2019-05-20 17:00:48,242 : INFO : EPOCH 4 - PROGRESS: at 2.50% examples, 303249 words/s, in_qsize 7, out_qsize 0\n",
            "2019-05-20 17:00:49,261 : INFO : EPOCH 4 - PROGRESS: at 5.03% examples, 309198 words/s, in_qsize 6, out_qsize 1\n",
            "2019-05-20 17:00:50,279 : INFO : EPOCH 4 - PROGRESS: at 7.60% examples, 311340 words/s, in_qsize 7, out_qsize 0\n",
            "2019-05-20 17:00:51,317 : INFO : EPOCH 4 - PROGRESS: at 10.09% examples, 309359 words/s, in_qsize 7, out_qsize 0\n",
            "2019-05-20 17:00:52,331 : INFO : EPOCH 4 - PROGRESS: at 12.63% examples, 310925 words/s, in_qsize 7, out_qsize 0\n",
            "2019-05-20 17:00:53,350 : INFO : EPOCH 4 - PROGRESS: at 15.12% examples, 310622 words/s, in_qsize 7, out_qsize 0\n",
            "2019-05-20 17:00:54,387 : INFO : EPOCH 4 - PROGRESS: at 17.80% examples, 313188 words/s, in_qsize 8, out_qsize 0\n",
            "2019-05-20 17:00:55,383 : INFO : EPOCH 4 - PROGRESS: at 20.39% examples, 314662 words/s, in_qsize 7, out_qsize 0\n",
            "2019-05-20 17:00:56,456 : INFO : EPOCH 4 - PROGRESS: at 23.10% examples, 315280 words/s, in_qsize 7, out_qsize 0\n",
            "2019-05-20 17:00:57,472 : INFO : EPOCH 4 - PROGRESS: at 25.74% examples, 316873 words/s, in_qsize 6, out_qsize 1\n",
            "2019-05-20 17:00:58,510 : INFO : EPOCH 4 - PROGRESS: at 28.43% examples, 318102 words/s, in_qsize 7, out_qsize 0\n",
            "2019-05-20 17:00:59,551 : INFO : EPOCH 4 - PROGRESS: at 31.03% examples, 317910 words/s, in_qsize 6, out_qsize 1\n",
            "2019-05-20 17:01:00,559 : INFO : EPOCH 4 - PROGRESS: at 33.72% examples, 319031 words/s, in_qsize 7, out_qsize 0\n",
            "2019-05-20 17:01:01,566 : INFO : EPOCH 4 - PROGRESS: at 36.34% examples, 320055 words/s, in_qsize 7, out_qsize 0\n",
            "2019-05-20 17:01:02,588 : INFO : EPOCH 4 - PROGRESS: at 39.01% examples, 321114 words/s, in_qsize 7, out_qsize 0\n",
            "2019-05-20 17:01:03,610 : INFO : EPOCH 4 - PROGRESS: at 41.76% examples, 322482 words/s, in_qsize 7, out_qsize 0\n",
            "2019-05-20 17:01:04,614 : INFO : EPOCH 4 - PROGRESS: at 44.27% examples, 322391 words/s, in_qsize 7, out_qsize 0\n",
            "2019-05-20 17:01:05,656 : INFO : EPOCH 4 - PROGRESS: at 46.99% examples, 323168 words/s, in_qsize 6, out_qsize 1\n",
            "2019-05-20 17:01:06,662 : INFO : EPOCH 4 - PROGRESS: at 49.66% examples, 324111 words/s, in_qsize 7, out_qsize 0\n",
            "2019-05-20 17:01:07,687 : INFO : EPOCH 4 - PROGRESS: at 52.32% examples, 324468 words/s, in_qsize 7, out_qsize 1\n",
            "2019-05-20 17:01:08,683 : INFO : EPOCH 4 - PROGRESS: at 54.99% examples, 325215 words/s, in_qsize 7, out_qsize 0\n",
            "2019-05-20 17:01:09,689 : INFO : EPOCH 4 - PROGRESS: at 57.57% examples, 325600 words/s, in_qsize 7, out_qsize 0\n",
            "2019-05-20 17:01:10,690 : INFO : EPOCH 4 - PROGRESS: at 60.06% examples, 325432 words/s, in_qsize 7, out_qsize 0\n",
            "2019-05-20 17:01:11,693 : INFO : EPOCH 4 - PROGRESS: at 62.72% examples, 325810 words/s, in_qsize 7, out_qsize 0\n",
            "2019-05-20 17:01:12,715 : INFO : EPOCH 4 - PROGRESS: at 65.40% examples, 326238 words/s, in_qsize 7, out_qsize 0\n",
            "2019-05-20 17:01:13,724 : INFO : EPOCH 4 - PROGRESS: at 68.10% examples, 326784 words/s, in_qsize 7, out_qsize 0\n",
            "2019-05-20 17:01:14,775 : INFO : EPOCH 4 - PROGRESS: at 70.77% examples, 326785 words/s, in_qsize 7, out_qsize 0\n",
            "2019-05-20 17:01:15,798 : INFO : EPOCH 4 - PROGRESS: at 73.44% examples, 327099 words/s, in_qsize 7, out_qsize 0\n",
            "2019-05-20 17:01:16,809 : INFO : EPOCH 4 - PROGRESS: at 76.05% examples, 327037 words/s, in_qsize 7, out_qsize 0\n",
            "2019-05-20 17:01:17,826 : INFO : EPOCH 4 - PROGRESS: at 78.67% examples, 327160 words/s, in_qsize 7, out_qsize 0\n",
            "2019-05-20 17:01:18,835 : INFO : EPOCH 4 - PROGRESS: at 81.26% examples, 327124 words/s, in_qsize 7, out_qsize 0\n",
            "2019-05-20 17:01:19,835 : INFO : EPOCH 4 - PROGRESS: at 83.84% examples, 327185 words/s, in_qsize 6, out_qsize 1\n",
            "2019-05-20 17:01:20,847 : INFO : EPOCH 4 - PROGRESS: at 86.42% examples, 327144 words/s, in_qsize 6, out_qsize 1\n",
            "2019-05-20 17:01:21,853 : INFO : EPOCH 4 - PROGRESS: at 88.98% examples, 327134 words/s, in_qsize 7, out_qsize 0\n",
            "2019-05-20 17:01:22,864 : INFO : EPOCH 4 - PROGRESS: at 91.65% examples, 327488 words/s, in_qsize 7, out_qsize 0\n",
            "2019-05-20 17:01:23,884 : INFO : EPOCH 4 - PROGRESS: at 94.26% examples, 327352 words/s, in_qsize 7, out_qsize 1\n",
            "2019-05-20 17:01:24,890 : INFO : EPOCH 4 - PROGRESS: at 96.96% examples, 327733 words/s, in_qsize 7, out_qsize 0\n",
            "2019-05-20 17:01:25,895 : INFO : EPOCH 4 - PROGRESS: at 99.49% examples, 327730 words/s, in_qsize 7, out_qsize 0\n",
            "2019-05-20 17:01:26,003 : INFO : worker thread finished; awaiting finish of 3 more threads\n",
            "2019-05-20 17:01:26,037 : INFO : worker thread finished; awaiting finish of 2 more threads\n",
            "2019-05-20 17:01:26,039 : INFO : worker thread finished; awaiting finish of 1 more threads\n",
            "2019-05-20 17:01:26,047 : INFO : worker thread finished; awaiting finish of 0 more threads\n",
            "2019-05-20 17:01:26,048 : INFO : EPOCH - 4 : training on 17798082 raw words (12751663 effective words) took 38.9s, 328078 effective words/s\n",
            "2019-05-20 17:01:27,068 : INFO : EPOCH 5 - PROGRESS: at 2.50% examples, 317982 words/s, in_qsize 7, out_qsize 0\n",
            "2019-05-20 17:01:28,089 : INFO : EPOCH 5 - PROGRESS: at 5.19% examples, 327148 words/s, in_qsize 7, out_qsize 0\n",
            "2019-05-20 17:01:29,093 : INFO : EPOCH 5 - PROGRESS: at 7.94% examples, 331745 words/s, in_qsize 7, out_qsize 0\n",
            "2019-05-20 17:01:30,123 : INFO : EPOCH 5 - PROGRESS: at 10.47% examples, 326907 words/s, in_qsize 6, out_qsize 1\n",
            "2019-05-20 17:01:31,144 : INFO : EPOCH 5 - PROGRESS: at 13.25% examples, 330344 words/s, in_qsize 7, out_qsize 0\n",
            "2019-05-20 17:01:32,205 : INFO : EPOCH 5 - PROGRESS: at 16.01% examples, 330896 words/s, in_qsize 7, out_qsize 0\n",
            "2019-05-20 17:01:33,244 : INFO : EPOCH 5 - PROGRESS: at 18.81% examples, 331280 words/s, in_qsize 8, out_qsize 0\n",
            "2019-05-20 17:01:34,261 : INFO : EPOCH 5 - PROGRESS: at 21.46% examples, 331186 words/s, in_qsize 7, out_qsize 0\n",
            "2019-05-20 17:01:35,315 : INFO : EPOCH 5 - PROGRESS: at 24.21% examples, 331357 words/s, in_qsize 7, out_qsize 0\n",
            "2019-05-20 17:01:36,339 : INFO : EPOCH 5 - PROGRESS: at 26.86% examples, 330950 words/s, in_qsize 7, out_qsize 0\n",
            "2019-05-20 17:01:37,351 : INFO : EPOCH 5 - PROGRESS: at 29.42% examples, 330426 words/s, in_qsize 6, out_qsize 1\n",
            "2019-05-20 17:01:38,378 : INFO : EPOCH 5 - PROGRESS: at 32.12% examples, 330073 words/s, in_qsize 7, out_qsize 0\n",
            "2019-05-20 17:01:39,395 : INFO : EPOCH 5 - PROGRESS: at 34.71% examples, 329544 words/s, in_qsize 7, out_qsize 0\n",
            "2019-05-20 17:01:40,417 : INFO : EPOCH 5 - PROGRESS: at 37.34% examples, 329491 words/s, in_qsize 7, out_qsize 0\n",
            "2019-05-20 17:01:41,427 : INFO : EPOCH 5 - PROGRESS: at 39.90% examples, 329273 words/s, in_qsize 7, out_qsize 0\n",
            "2019-05-20 17:01:42,455 : INFO : EPOCH 5 - PROGRESS: at 42.63% examples, 330001 words/s, in_qsize 6, out_qsize 1\n",
            "2019-05-20 17:01:43,455 : INFO : EPOCH 5 - PROGRESS: at 45.35% examples, 330749 words/s, in_qsize 7, out_qsize 0\n",
            "2019-05-20 17:01:44,468 : INFO : EPOCH 5 - PROGRESS: at 47.90% examples, 330406 words/s, in_qsize 7, out_qsize 0\n",
            "2019-05-20 17:01:45,482 : INFO : EPOCH 5 - PROGRESS: at 50.51% examples, 330488 words/s, in_qsize 6, out_qsize 1\n",
            "2019-05-20 17:01:46,483 : INFO : EPOCH 5 - PROGRESS: at 53.16% examples, 330737 words/s, in_qsize 7, out_qsize 0\n",
            "2019-05-20 17:01:47,486 : INFO : EPOCH 5 - PROGRESS: at 55.66% examples, 330280 words/s, in_qsize 7, out_qsize 0\n",
            "2019-05-20 17:01:48,495 : INFO : EPOCH 5 - PROGRESS: at 58.24% examples, 330391 words/s, in_qsize 7, out_qsize 0\n",
            "2019-05-20 17:01:49,517 : INFO : EPOCH 5 - PROGRESS: at 60.90% examples, 330609 words/s, in_qsize 7, out_qsize 0\n",
            "2019-05-20 17:01:50,569 : INFO : EPOCH 5 - PROGRESS: at 63.60% examples, 330438 words/s, in_qsize 7, out_qsize 1\n",
            "2019-05-20 17:01:51,593 : INFO : EPOCH 5 - PROGRESS: at 66.22% examples, 330349 words/s, in_qsize 8, out_qsize 1\n",
            "2019-05-20 17:01:52,624 : INFO : EPOCH 5 - PROGRESS: at 68.93% examples, 330443 words/s, in_qsize 7, out_qsize 0\n",
            "2019-05-20 17:01:53,631 : INFO : EPOCH 5 - PROGRESS: at 71.59% examples, 330832 words/s, in_qsize 8, out_qsize 0\n",
            "2019-05-20 17:01:54,641 : INFO : EPOCH 5 - PROGRESS: at 74.07% examples, 330153 words/s, in_qsize 7, out_qsize 0\n",
            "2019-05-20 17:01:55,684 : INFO : EPOCH 5 - PROGRESS: at 76.77% examples, 330112 words/s, in_qsize 5, out_qsize 2\n",
            "2019-05-20 17:01:56,689 : INFO : EPOCH 5 - PROGRESS: at 79.46% examples, 330494 words/s, in_qsize 7, out_qsize 1\n",
            "2019-05-20 17:01:57,707 : INFO : EPOCH 5 - PROGRESS: at 82.15% examples, 330696 words/s, in_qsize 7, out_qsize 0\n",
            "2019-05-20 17:01:58,710 : INFO : EPOCH 5 - PROGRESS: at 84.67% examples, 330395 words/s, in_qsize 7, out_qsize 0\n",
            "2019-05-20 17:01:59,735 : INFO : EPOCH 5 - PROGRESS: at 87.37% examples, 330545 words/s, in_qsize 7, out_qsize 0\n",
            "2019-05-20 17:02:00,738 : INFO : EPOCH 5 - PROGRESS: at 89.96% examples, 330678 words/s, in_qsize 7, out_qsize 0\n",
            "2019-05-20 17:02:01,752 : INFO : EPOCH 5 - PROGRESS: at 92.56% examples, 330508 words/s, in_qsize 8, out_qsize 1\n",
            "2019-05-20 17:02:02,791 : INFO : EPOCH 5 - PROGRESS: at 95.24% examples, 330305 words/s, in_qsize 7, out_qsize 0\n",
            "2019-05-20 17:02:03,792 : INFO : EPOCH 5 - PROGRESS: at 97.78% examples, 330269 words/s, in_qsize 7, out_qsize 0\n",
            "2019-05-20 17:02:04,598 : INFO : worker thread finished; awaiting finish of 3 more threads\n",
            "2019-05-20 17:02:04,613 : INFO : worker thread finished; awaiting finish of 2 more threads\n",
            "2019-05-20 17:02:04,620 : INFO : worker thread finished; awaiting finish of 1 more threads\n",
            "2019-05-20 17:02:04,624 : INFO : worker thread finished; awaiting finish of 0 more threads\n",
            "2019-05-20 17:02:04,626 : INFO : EPOCH - 5 : training on 17798082 raw words (12748521 effective words) took 38.6s, 330537 effective words/s\n",
            "2019-05-20 17:02:04,627 : INFO : training on a 88990410 raw words (63753405 effective words) took 194.7s, 327475 effective words/s\n",
            "2019-05-20 17:02:04,628 : INFO : precomputing L2-norms of word weight vectors\n",
            "2019-05-20 17:02:04,771 : INFO : saving Word2Vec object under 300features_40minwords_10context, separately None\n",
            "2019-05-20 17:02:04,772 : INFO : not storing attribute vectors_norm\n",
            "2019-05-20 17:02:04,773 : INFO : not storing attribute cum_table\n",
            "2019-05-20 17:02:04,774 : WARNING : this function is deprecated, use smart_open.open instead\n",
            "2019-05-20 17:02:05,335 : INFO : saved 300features_40minwords_10context\n"
          ],
          "name": "stderr"
        }
      ]
    },
    {
      "cell_type": "markdown",
      "metadata": {
        "id": "SKrQiQR3_qxc",
        "colab_type": "text"
      },
      "source": [
        "## Exploring the Model Results\n",
        "Let's take a look at the model we created out of our 75,000 training reviews.\n",
        "\n",
        "The `doesnt_match` function will try to deduce which word in a set is most dissimilar from the others:"
      ]
    },
    {
      "cell_type": "code",
      "metadata": {
        "id": "x8lKsxlV-XTT",
        "colab_type": "code",
        "colab": {
          "base_uri": "https://localhost:8080/",
          "height": 35
        },
        "outputId": "d86ecf7c-61d9-4f50-d99c-d84535a2b7fb"
      },
      "source": [
        "model.doesnt_match(\"man woman child kitchen\".split())"
      ],
      "execution_count": 13,
      "outputs": [
        {
          "output_type": "execute_result",
          "data": {
            "text/plain": [
              "'kitchen'"
            ]
          },
          "metadata": {
            "tags": []
          },
          "execution_count": 13
        }
      ]
    },
    {
      "cell_type": "markdown",
      "metadata": {
        "id": "kI7VsBSNAQYI",
        "colab_type": "text"
      },
      "source": [
        "Our model is capable of distinguishing differences in meaning! It knows that men, women and children are more similar to each other than they are to kitchens. More exploration shows that the model is sensitive to more subtle differences in meaning, such as differences between countries and cities:"
      ]
    },
    {
      "cell_type": "code",
      "metadata": {
        "id": "_Ft0B4NR_0QW",
        "colab_type": "code",
        "colab": {
          "base_uri": "https://localhost:8080/",
          "height": 35
        },
        "outputId": "5bbadc3c-b137-4f88-fb72-7d9102d14216"
      },
      "source": [
        "model.doesnt_match(\"france england spain madrid\".split())"
      ],
      "execution_count": 14,
      "outputs": [
        {
          "output_type": "execute_result",
          "data": {
            "text/plain": [
              "'madrid'"
            ]
          },
          "metadata": {
            "tags": []
          },
          "execution_count": 14
        }
      ]
    },
    {
      "cell_type": "markdown",
      "metadata": {
        "id": "nGnKxISUAnqm",
        "colab_type": "text"
      },
      "source": [
        "We can also use the \"most_similar\" function to get insight into the model's word clusters:\n",
        "\n"
      ]
    },
    {
      "cell_type": "code",
      "metadata": {
        "id": "mPY6a2dyAX4i",
        "colab_type": "code",
        "colab": {
          "base_uri": "https://localhost:8080/",
          "height": 191
        },
        "outputId": "ad998317-f170-44ba-c1e1-d29823616f42"
      },
      "source": [
        "model.most_similar(\"man\")"
      ],
      "execution_count": 37,
      "outputs": [
        {
          "output_type": "execute_result",
          "data": {
            "text/plain": [
              "[('woman', 0.6234472990036011),\n",
              " ('lady', 0.6112213134765625),\n",
              " ('lad', 0.5950173139572144),\n",
              " ('monk', 0.55019611120224),\n",
              " ('chap', 0.536170482635498),\n",
              " ('guy', 0.5299067497253418),\n",
              " ('men', 0.5216111540794373),\n",
              " ('soldier', 0.5134493112564087),\n",
              " ('boy', 0.5083514451980591),\n",
              " ('millionaire', 0.5068236589431763)]"
            ]
          },
          "metadata": {
            "tags": []
          },
          "execution_count": 37
        }
      ]
    },
    {
      "cell_type": "code",
      "metadata": {
        "id": "BURw01cqAqwG",
        "colab_type": "code",
        "colab": {
          "base_uri": "https://localhost:8080/",
          "height": 191
        },
        "outputId": "84a5ac21-9816-4276-f52e-0261e6d0896b"
      },
      "source": [
        "model.most_similar(\"philosophy\")"
      ],
      "execution_count": 15,
      "outputs": [
        {
          "output_type": "execute_result",
          "data": {
            "text/plain": [
              "[('psychology', 0.6522006988525391),\n",
              " ('ethics', 0.6438441276550293),\n",
              " ('religion', 0.6426934599876404),\n",
              " ('alienation', 0.6314270496368408),\n",
              " ('spiritual', 0.6280637979507446),\n",
              " ('sexuality', 0.623652458190918),\n",
              " ('ideals', 0.6229167580604553),\n",
              " ('homosexuality', 0.6200724840164185),\n",
              " ('cultural', 0.6139366626739502),\n",
              " ('philosophical', 0.613634467124939)]"
            ]
          },
          "metadata": {
            "tags": []
          },
          "execution_count": 15
        }
      ]
    },
    {
      "cell_type": "code",
      "metadata": {
        "id": "Mm8Le52JAxFl",
        "colab_type": "code",
        "colab": {
          "base_uri": "https://localhost:8080/",
          "height": 191
        },
        "outputId": "700d862c-bea6-4c85-9742-6db13848d1bb"
      },
      "source": [
        "model.most_similar(\"queen\")"
      ],
      "execution_count": 16,
      "outputs": [
        {
          "output_type": "execute_result",
          "data": {
            "text/plain": [
              "[('princess', 0.6843096613883972),\n",
              " ('bride', 0.6176869869232178),\n",
              " ('belle', 0.6127505302429199),\n",
              " ('victoria', 0.5895715951919556),\n",
              " ('maria', 0.5855535864830017),\n",
              " ('maid', 0.5800403356552124),\n",
              " ('prince', 0.5783246755599976),\n",
              " ('mistress', 0.5782764554023743),\n",
              " ('goddess', 0.565935492515564),\n",
              " ('sybil', 0.5643234252929688)]"
            ]
          },
          "metadata": {
            "tags": []
          },
          "execution_count": 16
        }
      ]
    },
    {
      "cell_type": "markdown",
      "metadata": {
        "id": "klQxB7gpBKO4",
        "colab_type": "text"
      },
      "source": [
        "Or, more relevant for sentiment analysis:"
      ]
    },
    {
      "cell_type": "code",
      "metadata": {
        "id": "ttxP_PzEA9Qn",
        "colab_type": "code",
        "colab": {
          "base_uri": "https://localhost:8080/",
          "height": 191
        },
        "outputId": "b8087eaf-ae4c-4f00-9973-46a6a62a5dfc"
      },
      "source": [
        "model.most_similar(\"awful\")"
      ],
      "execution_count": 17,
      "outputs": [
        {
          "output_type": "execute_result",
          "data": {
            "text/plain": [
              "[('terrible', 0.7762552499771118),\n",
              " ('atrocious', 0.7497725486755371),\n",
              " ('horrible', 0.7409049272537231),\n",
              " ('dreadful', 0.7130718231201172),\n",
              " ('abysmal', 0.707388699054718),\n",
              " ('horrendous', 0.70050048828125),\n",
              " ('horrid', 0.6918109059333801),\n",
              " ('appalling', 0.671273410320282),\n",
              " ('lousy', 0.6340524554252625),\n",
              " ('amateurish', 0.624087929725647)]"
            ]
          },
          "metadata": {
            "tags": []
          },
          "execution_count": 17
        }
      ]
    },
    {
      "cell_type": "code",
      "metadata": {
        "id": "ahPi5fQoBN6o",
        "colab_type": "code",
        "colab": {
          "base_uri": "https://localhost:8080/",
          "height": 35
        },
        "outputId": "5d717c85-46f7-44cf-f9fb-0da6eb22b351"
      },
      "source": [
        "model.doesnt_match(\"france england spain mexico\".split())"
      ],
      "execution_count": 23,
      "outputs": [
        {
          "output_type": "execute_result",
          "data": {
            "text/plain": [
              "'mexico'"
            ]
          },
          "metadata": {
            "tags": []
          },
          "execution_count": 23
        }
      ]
    },
    {
      "cell_type": "markdown",
      "metadata": {
        "id": "b1fFfc7dCsZU",
        "colab_type": "text"
      },
      "source": [
        "## Numeric Representations of Words\n",
        "Now that we have a trained model with some semantic understanding of words, how should we use it? If you look beneath the hood, the Word2Vec model trained above consists of a feature vector for each word in the vocabulary, stored in a numpy array called \"syn0\":"
      ]
    },
    {
      "cell_type": "code",
      "metadata": {
        "id": "ewojvBV6CubY",
        "colab_type": "code",
        "colab": {
          "base_uri": "https://localhost:8080/",
          "height": 156
        },
        "outputId": "377d512b-e284-4111-e660-a883c0fc3642"
      },
      "source": [
        "# Load the model that we created in Part 2\n",
        "from gensim.models import Word2Vec\n",
        "model = Word2Vec.load(\"300features_40minwords_10context\")"
      ],
      "execution_count": 24,
      "outputs": [
        {
          "output_type": "stream",
          "text": [
            "2019-05-20 17:05:21,109 : INFO : loading Word2Vec object from 300features_40minwords_10context\n",
            "2019-05-20 17:05:21,111 : WARNING : this function is deprecated, use smart_open.open instead\n",
            "2019-05-20 17:05:21,471 : INFO : loading wv recursively from 300features_40minwords_10context.wv.* with mmap=None\n",
            "2019-05-20 17:05:21,472 : INFO : setting ignored attribute vectors_norm to None\n",
            "2019-05-20 17:05:21,473 : INFO : loading vocabulary recursively from 300features_40minwords_10context.vocabulary.* with mmap=None\n",
            "2019-05-20 17:05:21,474 : INFO : loading trainables recursively from 300features_40minwords_10context.trainables.* with mmap=None\n",
            "2019-05-20 17:05:21,475 : INFO : setting ignored attribute cum_table to None\n",
            "2019-05-20 17:05:21,476 : INFO : loaded 300features_40minwords_10context\n"
          ],
          "name": "stderr"
        }
      ]
    },
    {
      "cell_type": "markdown",
      "metadata": {
        "id": "VlHW8BozGoQ-",
        "colab_type": "text"
      },
      "source": [
        "The model is a big matrix with as many rows as words in our dictionary (), and as many columns as the latent dimension (the dimension of the embeddings, which we chose to be 300).\n"
      ]
    },
    {
      "cell_type": "code",
      "metadata": {
        "id": "dfD1KnY1JfM7",
        "colab_type": "code",
        "colab": {
          "base_uri": "https://localhost:8080/",
          "height": 52
        },
        "outputId": "e02fd4b5-088d-4f57-8190-b154da644d70"
      },
      "source": [
        "print(model.wv.syn0.shape)\n",
        "len(model.wv.syn0[0])"
      ],
      "execution_count": 25,
      "outputs": [
        {
          "output_type": "stream",
          "text": [
            "(16490, 300)\n"
          ],
          "name": "stdout"
        },
        {
          "output_type": "execute_result",
          "data": {
            "text/plain": [
              "300"
            ]
          },
          "metadata": {
            "tags": []
          },
          "execution_count": 25
        }
      ]
    },
    {
      "cell_type": "markdown",
      "metadata": {
        "id": "BfPH3Q5gNOCR",
        "colab_type": "text"
      },
      "source": [
        "Now we can retrieve the embedding of any word in our dictionary, as a dense vector  in this 300-dimensional space."
      ]
    },
    {
      "cell_type": "code",
      "metadata": {
        "id": "nKKkfUifC64P",
        "colab_type": "code",
        "colab": {
          "base_uri": "https://localhost:8080/",
          "height": 1335
        },
        "outputId": "bcc793f5-9ae0-4166-ea09-2459ce1b8af8"
      },
      "source": [
        "model['apple']"
      ],
      "execution_count": 26,
      "outputs": [
        {
          "output_type": "execute_result",
          "data": {
            "text/plain": [
              "array([-2.45181546e-02, -2.71881502e-02,  7.83065520e-03,  4.11549844e-02,\n",
              "        1.01373030e-03, -1.54032242e-02, -8.20618719e-02, -5.07392474e-02,\n",
              "       -7.38434047e-02, -5.61182247e-03,  1.49452705e-02,  8.50087106e-02,\n",
              "       -8.10130220e-03, -6.22096413e-04, -4.75194678e-02,  3.89971547e-02,\n",
              "        3.46173230e-03,  4.73913271e-03,  1.08233087e-01,  1.72881354e-02,\n",
              "       -5.63459881e-02, -6.82060868e-02,  1.18901990e-02,  3.27156298e-02,\n",
              "        5.89986555e-02,  1.15192860e-01,  8.59185413e-04, -1.02000706e-01,\n",
              "       -3.39285582e-02,  3.05047575e-02, -4.64416407e-02,  2.29347367e-02,\n",
              "       -2.56928545e-03, -3.20303366e-02, -3.21944095e-02, -1.37880230e-02,\n",
              "        4.47443575e-02, -3.71000506e-02,  1.94447245e-02,  6.35240274e-03,\n",
              "       -4.74460758e-02,  9.31219608e-02,  6.74689412e-02,  1.21563263e-01,\n",
              "       -7.09020719e-02, -1.31394297e-01,  2.88513564e-02, -5.46351410e-02,\n",
              "       -4.63539995e-02,  4.19577770e-02, -1.25627117e-02, -7.03739077e-02,\n",
              "       -8.53957310e-02, -3.61269861e-02,  1.28204944e-02, -2.25559063e-02,\n",
              "        3.10541783e-02, -8.23600739e-02, -8.48099664e-02, -5.06499223e-02,\n",
              "       -2.41243504e-02, -4.46497201e-04, -2.26751100e-02,  8.83916300e-03,\n",
              "        2.21710708e-02, -1.90092959e-02, -1.54527172e-01,  1.95034780e-02,\n",
              "       -1.23503357e-01, -9.93049052e-03,  1.68605801e-02, -5.45655414e-02,\n",
              "        3.10996938e-02,  7.55738690e-02, -9.22514200e-02,  5.23913279e-02,\n",
              "       -7.08097517e-02, -6.36717677e-02,  1.01901088e-02,  3.51288170e-02,\n",
              "        1.52524363e-03,  2.21348945e-02, -1.39086405e-02,  4.40610014e-02,\n",
              "       -1.22219868e-01,  1.76065718e-03,  1.18964352e-01,  1.82828419e-02,\n",
              "       -5.45815267e-02, -9.76004917e-03, -5.94963953e-02, -5.99772036e-02,\n",
              "        1.03659317e-01,  8.42528865e-02,  4.54258546e-02, -1.06223546e-01,\n",
              "        6.41481653e-02, -1.83937177e-02, -3.81114520e-02, -2.14492083e-02,\n",
              "       -6.03814647e-02,  4.26115170e-02, -4.11799969e-03,  9.30169821e-02,\n",
              "       -1.57854166e-02,  6.75163046e-02, -2.53441930e-02,  4.79952320e-02,\n",
              "        2.13221442e-02,  1.78729445e-02,  5.48611321e-02, -1.28270999e-01,\n",
              "        7.00735301e-02, -3.08927540e-02, -2.59600673e-02,  2.80461200e-02,\n",
              "        6.28798679e-02,  1.14612505e-01,  1.09202219e-02, -4.92642634e-02,\n",
              "       -2.89076716e-02, -8.75245407e-02, -6.45975918e-02, -7.84604102e-02,\n",
              "        4.19590529e-03, -7.72526208e-03, -9.14190188e-02, -5.07936953e-03,\n",
              "       -3.15250196e-02,  6.69549406e-02, -7.20301718e-02,  6.34360015e-02,\n",
              "        2.44618151e-02, -1.47221744e-01, -7.23257214e-02, -5.00231236e-02,\n",
              "        3.27876769e-02,  4.27319296e-02, -3.02883182e-02, -2.33698860e-02,\n",
              "        1.02288000e-01, -2.98348796e-02, -5.73671656e-03, -1.23040065e-01,\n",
              "       -1.31589537e-02,  5.72454631e-02,  2.25642696e-02,  4.42104042e-02,\n",
              "       -6.53813481e-02,  2.73024403e-02,  1.19339846e-01,  6.48576245e-02,\n",
              "        1.17731817e-01, -7.91029185e-02, -1.84639415e-03, -1.43734142e-01,\n",
              "        1.58407167e-02, -1.33329868e-01, -1.91818979e-02, -2.94346572e-03,\n",
              "        2.88343206e-02, -9.35659483e-02, -2.15880591e-02,  2.41737552e-02,\n",
              "       -3.06973252e-02,  7.03982189e-02, -5.40960394e-02, -6.92502856e-02,\n",
              "        1.07834060e-02,  6.14114776e-02,  1.03684686e-01, -6.51118755e-02,\n",
              "       -1.16566252e-05,  6.46997020e-02, -2.09709015e-02,  2.94407774e-02,\n",
              "       -3.98152098e-02,  6.71875430e-03,  1.52011104e-02, -2.40515731e-02,\n",
              "       -5.64056300e-02,  3.27618187e-03,  8.53608921e-02,  1.08098760e-02,\n",
              "       -4.92760092e-02, -4.88668717e-02,  2.39285976e-02,  6.76133810e-03,\n",
              "        1.05293831e-02, -4.93525788e-02, -3.77463885e-02,  1.50921494e-02,\n",
              "        7.62697086e-02,  2.87791584e-02,  2.37107091e-02,  3.29688564e-02,\n",
              "        7.06682205e-02,  1.01540321e-02,  7.00667799e-02,  3.86489108e-02,\n",
              "        7.82482624e-02,  4.89535779e-02,  2.82775965e-02,  2.52458919e-02,\n",
              "        4.69541131e-03,  2.29827384e-03, -1.73901860e-02,  2.29053292e-02,\n",
              "       -3.96893322e-02,  2.18692701e-02, -6.64633438e-02, -4.69937287e-02,\n",
              "       -1.81973241e-02,  3.85986269e-02,  2.23298483e-02, -1.37726158e-01,\n",
              "       -4.91289161e-02, -2.25229263e-02, -2.97709741e-02, -2.82680262e-02,\n",
              "        2.66312202e-03,  7.30619878e-02, -1.08395912e-01, -1.92428916e-03,\n",
              "       -4.85381708e-02, -3.95745747e-02, -3.68636218e-03,  1.82560727e-03,\n",
              "        5.31305671e-02, -1.28509611e-01, -8.78924038e-03, -6.84701502e-02,\n",
              "        3.53032835e-02,  1.20051943e-01,  7.79654309e-02,  8.44426528e-02,\n",
              "        4.45278212e-02, -5.18376827e-02, -7.86076859e-02, -7.32425377e-02,\n",
              "        3.96526605e-02, -6.65358792e-04,  7.65452161e-02,  3.53681371e-02,\n",
              "        6.17323332e-02, -4.51725423e-02,  2.22629309e-02, -5.34241423e-02,\n",
              "        1.09415859e-01,  6.13583997e-02, -6.76394850e-02, -4.87801433e-03,\n",
              "       -4.74077314e-02, -5.77334911e-02, -9.63270850e-03, -3.13676931e-02,\n",
              "        6.76016584e-02,  1.54247889e-02,  3.11054233e-02,  6.04687184e-02,\n",
              "       -2.92823762e-02, -5.25694154e-03,  8.64436179e-02,  6.26105517e-02,\n",
              "        4.33330946e-02,  8.61444846e-02,  9.78302956e-02,  3.27593945e-02,\n",
              "        2.97031421e-02,  2.58082915e-02,  1.53997343e-03, -2.26272810e-02,\n",
              "       -4.76844311e-02,  3.45093347e-02, -7.32579753e-02, -4.70627174e-02,\n",
              "        3.50578912e-02,  1.52252868e-01,  9.61576682e-03,  1.02322862e-01,\n",
              "        5.63380197e-02,  3.03389486e-02, -2.61376463e-02, -2.76704021e-02,\n",
              "        9.81609896e-02, -5.12200110e-02, -5.45989461e-02, -3.51023041e-02,\n",
              "       -4.15589176e-02, -2.20420212e-02,  1.69247482e-02,  1.07844984e-02,\n",
              "        7.76785687e-02, -3.43238860e-02, -7.53826350e-02,  6.53093159e-02,\n",
              "        2.15015262e-02, -4.49759550e-02, -1.38214473e-02,  1.00242707e-03],\n",
              "      dtype=float32)"
            ]
          },
          "metadata": {
            "tags": []
          },
          "execution_count": 26
        }
      ]
    },
    {
      "cell_type": "markdown",
      "metadata": {
        "id": "gVzWp3QZH4d0",
        "colab_type": "text"
      },
      "source": [
        "### From Words To Paragraphs, Attempt 1: Vector Averaging\n",
        "One challenge with the IMDB dataset is the variable-length reviews. We need to find a way to take individual word vectors and transform them into a feature set that is the same length for every review.\n",
        "\n",
        "Since each word is a vector in 300-dimensional space, we can use vector operations to combine the words in each review. One method we tried was to simply average the word vectors in a given review (for this purpose, we removed stop words, which would just add noise).\n",
        "\n",
        "The following code averages the feature vectors, building on our code from Part 2. "
      ]
    },
    {
      "cell_type": "code",
      "metadata": {
        "id": "QRT7xMZSHKDF",
        "colab_type": "code",
        "colab": {}
      },
      "source": [
        "import numpy as np  # Make sure that numpy is imported\n",
        "\n",
        "def makeFeatureVec(words, model, num_features):\n",
        "    # Function to average all of the word vectors in a given\n",
        "    # paragraph\n",
        "    #\n",
        "    # Pre-initialize an empty numpy array (for speed)\n",
        "    featureVec = np.zeros((num_features,),dtype=\"float32\")\n",
        "    #\n",
        "    nwords = 0.\n",
        "    # \n",
        "    # Index2word is a list that contains the names of the words in \n",
        "    # the model's vocabulary. Convert it to a set, for speed \n",
        "    index2word_set = set(model.wv.index2word)\n",
        "    #\n",
        "    # Loop over each word in the review and, if it is in the model's\n",
        "    # vocaublary, add its feature vector to the total\n",
        "    for word in words:\n",
        "        if word in index2word_set: \n",
        "            nwords = nwords + 1.\n",
        "            featureVec = np.add(featureVec,model[word])\n",
        "    # \n",
        "    # Divide the result by the number of words to get the average\n",
        "    featureVec = np.divide(featureVec,nwords)\n",
        "    return featureVec\n",
        "\n",
        "\n",
        "def getAvgFeatureVecs(reviews, model, num_features):\n",
        "    # Given a set of reviews (each one a list of words), calculate \n",
        "    # the average feature vector for each one and return a 2D numpy array \n",
        "    \n",
        "    # Initialize a counter\n",
        "    counter = 0\n",
        "    # \n",
        "    # Preallocate a 2D numpy array, for speed\n",
        "    reviewFeatureVecs = np.zeros((len(reviews),num_features),dtype=\"float32\")\n",
        "    # \n",
        "    # Loop through the reviews\n",
        "    for review in reviews:\n",
        "       #\n",
        "       # Print a status message every 1000th review\n",
        "       if counter%1000. == 0.:\n",
        "           print (\"Review %d of %d\" % (counter, len(reviews)))\n",
        "       # \n",
        "       # Call the function (defined above) that makes average feature vectors\n",
        "       reviewFeatureVecs[counter] = makeFeatureVec(review, model,num_features)\n",
        "       #\n",
        "       # Increment the counter\n",
        "       counter = counter + 1\n",
        "    return reviewFeatureVecs"
      ],
      "execution_count": 0,
      "outputs": []
    },
    {
      "cell_type": "markdown",
      "metadata": {
        "id": "4w5ii3AqPgjJ",
        "colab_type": "text"
      },
      "source": [
        "As an example, let us calculate the embedding for a single review:"
      ]
    },
    {
      "cell_type": "code",
      "metadata": {
        "id": "Tkjo1mXYPs4j",
        "colab_type": "code",
        "colab": {
          "base_uri": "https://localhost:8080/",
          "height": 52
        },
        "outputId": "23603e4e-6b59-46c3-d8c2-f6da651c78b8"
      },
      "source": [
        "review_example=review_to_wordlist( train['review'][0],remove_stopwords=True )\n",
        "print('This review has {} words'.format(len(review_example)))\n",
        "emb_review=makeFeatureVec(review_example, model, num_features)\n",
        "emb_review.shape"
      ],
      "execution_count": 43,
      "outputs": [
        {
          "output_type": "stream",
          "text": [
            "This review has 219 words\n"
          ],
          "name": "stdout"
        },
        {
          "output_type": "execute_result",
          "data": {
            "text/plain": [
              "(300,)"
            ]
          },
          "metadata": {
            "tags": []
          },
          "execution_count": 43
        }
      ]
    },
    {
      "cell_type": "markdown",
      "metadata": {
        "id": "MRmin0lNIeJd",
        "colab_type": "text"
      },
      "source": [
        "Now, we can call these functions to create average vectors for each review. The following operations will take a few minutes:"
      ]
    },
    {
      "cell_type": "code",
      "metadata": {
        "id": "C1h5o2XBH_2m",
        "colab_type": "code",
        "colab": {
          "base_uri": "https://localhost:8080/",
          "height": 901
        },
        "outputId": "7f682be2-e5a3-4e71-ff8f-da5e80fdf01e"
      },
      "source": [
        "# ****************************************************************\n",
        "# Calculate average feature vectors for training and testing sets,\n",
        "# using the functions we defined above. Notice that we now use stop word\n",
        "# removal.\n",
        "\n",
        "clean_train_reviews = []\n",
        "for review in train[\"review\"]:\n",
        "    clean_train_reviews.append( review_to_wordlist( review,remove_stopwords=True ))\n",
        "\n",
        "trainDataVecs = getAvgFeatureVecs( clean_train_reviews, model, num_features )\n",
        "\n",
        "print (\"Creating average feature vecs for test reviews\")\n",
        "clean_test_reviews = []\n",
        "for review in test[\"review\"]:\n",
        "    clean_test_reviews.append( review_to_wordlist( review, remove_stopwords=True ))\n",
        "\n",
        "testDataVecs = getAvgFeatureVecs( clean_test_reviews, model, num_features )"
      ],
      "execution_count": 46,
      "outputs": [
        {
          "output_type": "stream",
          "text": [
            "Review 0 of 25000\n",
            "Review 1000 of 25000\n",
            "Review 2000 of 25000\n",
            "Review 3000 of 25000\n",
            "Review 4000 of 25000\n",
            "Review 5000 of 25000\n",
            "Review 6000 of 25000\n",
            "Review 7000 of 25000\n",
            "Review 8000 of 25000\n",
            "Review 9000 of 25000\n",
            "Review 10000 of 25000\n",
            "Review 11000 of 25000\n",
            "Review 12000 of 25000\n",
            "Review 13000 of 25000\n",
            "Review 14000 of 25000\n",
            "Review 15000 of 25000\n",
            "Review 16000 of 25000\n",
            "Review 17000 of 25000\n",
            "Review 18000 of 25000\n",
            "Review 19000 of 25000\n",
            "Review 20000 of 25000\n",
            "Review 21000 of 25000\n",
            "Review 22000 of 25000\n",
            "Review 23000 of 25000\n",
            "Review 24000 of 25000\n",
            "Creating average feature vecs for test reviews\n",
            "Review 0 of 25000\n",
            "Review 1000 of 25000\n",
            "Review 2000 of 25000\n",
            "Review 3000 of 25000\n",
            "Review 4000 of 25000\n",
            "Review 5000 of 25000\n",
            "Review 6000 of 25000\n",
            "Review 7000 of 25000\n",
            "Review 8000 of 25000\n",
            "Review 9000 of 25000\n",
            "Review 10000 of 25000\n",
            "Review 11000 of 25000\n",
            "Review 12000 of 25000\n",
            "Review 13000 of 25000\n",
            "Review 14000 of 25000\n",
            "Review 15000 of 25000\n",
            "Review 16000 of 25000\n",
            "Review 17000 of 25000\n",
            "Review 18000 of 25000\n",
            "Review 19000 of 25000\n",
            "Review 20000 of 25000\n",
            "Review 21000 of 25000\n",
            "Review 22000 of 25000\n",
            "Review 23000 of 25000\n",
            "Review 24000 of 25000\n"
          ],
          "name": "stdout"
        }
      ]
    },
    {
      "cell_type": "markdown",
      "metadata": {
        "id": "RBI9-dLXStkf",
        "colab_type": "text"
      },
      "source": [
        "## Applying classification models\n",
        "\n",
        "In Part 1, each review was encoded as a sparse vector of length 5.000 (size of vocabulary) and integer entries specifying the number of occurrences each word in the review. In Part 2, we encode each review as a dense vector of dimension 300, which is an average of the word embeddings of each word in the review.\n",
        "\n",
        "Now we can use this encoding to train our favourite classifiers and look at their performance."
      ]
    },
    {
      "cell_type": "markdown",
      "metadata": {
        "id": "1pwnk_OKUQKc",
        "colab_type": "text"
      },
      "source": [
        "### Logistic regression"
      ]
    },
    {
      "cell_type": "code",
      "metadata": {
        "id": "Fewzb68yIluv",
        "colab_type": "code",
        "colab": {}
      },
      "source": [
        "from sklearn.model_selection import train_test_split\n",
        "\n",
        "X_train, X_val, y_train, y_val = train_test_split(trainDataVecs, train[\"sentiment\"], test_size=0.25, random_state=42)"
      ],
      "execution_count": 0,
      "outputs": []
    },
    {
      "cell_type": "code",
      "metadata": {
        "id": "RtZbqUj-Toe7",
        "colab_type": "code",
        "colab": {
          "base_uri": "https://localhost:8080/",
          "height": 35
        },
        "outputId": "cb8d8071-45d8-4c73-fc47-dc16c45c7862"
      },
      "source": [
        "X_train.shape"
      ],
      "execution_count": 48,
      "outputs": [
        {
          "output_type": "execute_result",
          "data": {
            "text/plain": [
              "(18750, 300)"
            ]
          },
          "metadata": {
            "tags": []
          },
          "execution_count": 48
        }
      ]
    },
    {
      "cell_type": "code",
      "metadata": {
        "id": "sUw0CzLITq4x",
        "colab_type": "code",
        "colab": {
          "base_uri": "https://localhost:8080/",
          "height": 52
        },
        "outputId": "197a66cf-96c5-4758-d112-e640e026845c"
      },
      "source": [
        "from sklearn.linear_model import LogisticRegression\n",
        "\n",
        "# import warnings filter\n",
        "from warnings import simplefilter\n",
        "# ignore all future warnings\n",
        "simplefilter(action='ignore', category=FutureWarning)\n",
        "\n",
        "clf=LogisticRegression()\n",
        "clf.fit(X_train,y_train)\n",
        "print('Accuracy on the training set: ',clf.score(X_train,y_train))\n",
        "print('Accuracy on the validation set: ',clf.score(X_val,y_val))"
      ],
      "execution_count": 49,
      "outputs": [
        {
          "output_type": "stream",
          "text": [
            "Accuracy on the training set:  0.8552\n",
            "Accuracy on the validation set:  0.8544\n"
          ],
          "name": "stdout"
        }
      ]
    },
    {
      "cell_type": "markdown",
      "metadata": {
        "id": "VQyxBPqCT6--",
        "colab_type": "text"
      },
      "source": [
        "Observe that, as opposed to Part 1 where we had many more features, the default Logistic Regression classifier does not overfit."
      ]
    },
    {
      "cell_type": "code",
      "metadata": {
        "id": "7nMowr8eTySU",
        "colab_type": "code",
        "colab": {
          "base_uri": "https://localhost:8080/",
          "height": 173
        },
        "outputId": "86d5cdfb-bed5-47ad-dca6-e109521296d9"
      },
      "source": [
        "from sklearn.model_selection import GridSearchCV\n",
        "parameters = {'C':[0.1,1,10],'penalty':['l1','l2']}\n",
        "clf=LogisticRegression( )\n",
        "grid_clf = GridSearchCV(clf, parameters, cv=3)\n",
        "grid_clf.fit(X_train,y_train)"
      ],
      "execution_count": 50,
      "outputs": [
        {
          "output_type": "execute_result",
          "data": {
            "text/plain": [
              "GridSearchCV(cv=3, error_score='raise-deprecating',\n",
              "       estimator=LogisticRegression(C=1.0, class_weight=None, dual=False, fit_intercept=True,\n",
              "          intercept_scaling=1, max_iter=100, multi_class='warn',\n",
              "          n_jobs=None, penalty='l2', random_state=None, solver='warn',\n",
              "          tol=0.0001, verbose=0, warm_start=False),\n",
              "       fit_params=None, iid='warn', n_jobs=None,\n",
              "       param_grid={'C': [0.1, 1, 10], 'penalty': ['l1', 'l2']},\n",
              "       pre_dispatch='2*n_jobs', refit=True, return_train_score='warn',\n",
              "       scoring=None, verbose=0)"
            ]
          },
          "metadata": {
            "tags": []
          },
          "execution_count": 50
        }
      ]
    },
    {
      "cell_type": "code",
      "metadata": {
        "id": "-DwHEOPKUJoS",
        "colab_type": "code",
        "colab": {
          "base_uri": "https://localhost:8080/",
          "height": 52
        },
        "outputId": "2f9a4e31-b051-428c-e1ee-f5e5cddb64ce"
      },
      "source": [
        "print('Accuracy on the training set: ',grid_clf.score(X_train,y_train))\n",
        "print('Accuracy on the validation set: ',grid_clf.score(X_val,y_val))"
      ],
      "execution_count": 51,
      "outputs": [
        {
          "output_type": "stream",
          "text": [
            "Accuracy on the training set:  0.8776\n",
            "Accuracy on the validation set:  0.87456\n"
          ],
          "name": "stdout"
        }
      ]
    },
    {
      "cell_type": "markdown",
      "metadata": {
        "id": "5g-gA_khU65z",
        "colab_type": "text"
      },
      "source": [
        "A grid search improves 2 points on the accuracy result. Let's look at the best parameters"
      ]
    },
    {
      "cell_type": "code",
      "metadata": {
        "id": "wb10j5CdU3-N",
        "colab_type": "code",
        "colab": {
          "base_uri": "https://localhost:8080/",
          "height": 87
        },
        "outputId": "d5204e49-023f-4581-d8e4-026ba7233fa0"
      },
      "source": [
        "grid_clf.best_estimator_"
      ],
      "execution_count": 52,
      "outputs": [
        {
          "output_type": "execute_result",
          "data": {
            "text/plain": [
              "LogisticRegression(C=10, class_weight=None, dual=False, fit_intercept=True,\n",
              "          intercept_scaling=1, max_iter=100, multi_class='warn',\n",
              "          n_jobs=None, penalty='l1', random_state=None, solver='warn',\n",
              "          tol=0.0001, verbose=0, warm_start=False)"
            ]
          },
          "metadata": {
            "tags": []
          },
          "execution_count": 52
        }
      ]
    },
    {
      "cell_type": "markdown",
      "metadata": {
        "id": "AlmQFihiV2nY",
        "colab_type": "text"
      },
      "source": [
        "### Random Forest"
      ]
    },
    {
      "cell_type": "code",
      "metadata": {
        "id": "EiRGtyIhVHs6",
        "colab_type": "code",
        "colab": {
          "base_uri": "https://localhost:8080/",
          "height": 35
        },
        "outputId": "e12e921e-e75a-4d6e-8816-58b17e97e13f"
      },
      "source": [
        "print (\"Training the random forest...\")\n",
        "from sklearn.ensemble import RandomForestClassifier\n",
        "\n",
        "# Initialize a Random Forest classifier with 100 trees\n",
        "forest = RandomForestClassifier(n_estimators = 100) \n",
        "\n",
        "# Fit the forest to the training set, using the bag of words as \n",
        "# features and the sentiment labels as the response variable\n",
        "#\n",
        "# This may take a few minutes to run\n",
        "forest = forest.fit( X_train, y_train )"
      ],
      "execution_count": 55,
      "outputs": [
        {
          "output_type": "stream",
          "text": [
            "Training the random forest...\n"
          ],
          "name": "stdout"
        }
      ]
    },
    {
      "cell_type": "code",
      "metadata": {
        "id": "O_qUovaRV0qI",
        "colab_type": "code",
        "colab": {
          "base_uri": "https://localhost:8080/",
          "height": 35
        },
        "outputId": "8f01cb7f-5d5f-4e84-9280-7c86e4a8e01d"
      },
      "source": [
        "forest.score(X_val,y_val)"
      ],
      "execution_count": 56,
      "outputs": [
        {
          "output_type": "execute_result",
          "data": {
            "text/plain": [
              "0.83872"
            ]
          },
          "metadata": {
            "tags": []
          },
          "execution_count": 56
        }
      ]
    },
    {
      "cell_type": "markdown",
      "metadata": {
        "id": "lTUrZokFXASm",
        "colab_type": "text"
      },
      "source": [
        "## Comparison between Bag of Words and Word embeddings"
      ]
    },
    {
      "cell_type": "markdown",
      "metadata": {
        "id": "62ygw7XRXIfA",
        "colab_type": "text"
      },
      "source": [
        "Here we compare performance of classifiers (Logistic Regression and Random Forest) with two different review encodings: BoW and word embeddings.\n",
        "As a conclusion, performance is similar, no huge differences, but we did improve 2% accuracy with regularized LR on the word embeddings.\n",
        "\n",
        "**Question:** Can you explain why there is not such a huge difference in performance ? Are the two review encodings really that different ?\n",
        "\n",
        "**Improvements:** A standard way of weighting word vectors is to apply \"tf-idf\" weights, which measure how important a given word is within a given set of documents. One way to extract tf-idf weights in Python is by using scikit-learn's TfidfVectorizer, which has an interface similar to the CountVectorizer that we used in Part 1. "
      ]
    },
    {
      "cell_type": "code",
      "metadata": {
        "id": "AJ7jGJ_0WJRm",
        "colab_type": "code",
        "colab": {}
      },
      "source": [
        ""
      ],
      "execution_count": 0,
      "outputs": []
    }
  ]
}