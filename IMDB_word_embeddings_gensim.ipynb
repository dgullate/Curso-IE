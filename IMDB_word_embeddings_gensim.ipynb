{
  "nbformat": 4,
  "nbformat_minor": 0,
  "metadata": {
    "colab": {
      "name": "IMDB_word_embeddings_gensim.ipynb",
      "version": "0.3.2",
      "provenance": [],
      "include_colab_link": true
    },
    "kernelspec": {
      "name": "python3",
      "display_name": "Python 3"
    }
  },
  "cells": [
    {
      "cell_type": "markdown",
      "metadata": {
        "id": "view-in-github",
        "colab_type": "text"
      },
      "source": [
        "<a href=\"https://colab.research.google.com/github/dgullate/Curso-IE/blob/master/IMDB_word_embeddings_gensim.ipynb\" target=\"_parent\"><img src=\"https://colab.research.google.com/assets/colab-badge.svg\" alt=\"Open In Colab\"/></a>"
      ]
    },
    {
      "cell_type": "code",
      "metadata": {
        "id": "DwdLNkPX22qO",
        "colab_type": "code",
        "colab": {}
      },
      "source": [
        "import pandas as pd\n",
        "\n",
        "# import warnings filter\n",
        "from warnings import simplefilter\n",
        "# ignore all future warnings\n",
        "simplefilter(action='ignore', category=FutureWarning)\n",
        "simplefilter(action='ignore', category=DeprecationWarning)"
      ],
      "execution_count": 0,
      "outputs": []
    },
    {
      "cell_type": "markdown",
      "metadata": {
        "id": "28AMSlZ420gM",
        "colab_type": "text"
      },
      "source": [
        "First, we read in the data with pandas, as we did in Part 1. Unlike Part 1, we now use unlabeledTrain.tsv, which contains 50,000 additional reviews with no labels. When we built the Bag of Words model in Part 1, extra unlabeled training reviews were not useful. However, since Word2Vec can learn from unlabeled data, these extra 50,000 reviews can now be used."
      ]
    },
    {
      "cell_type": "code",
      "metadata": {
        "id": "oo9N8k1l2eux",
        "colab_type": "code",
        "colab": {}
      },
      "source": [
        "train_data_path='https://github.com/dgullate/Curso-IE/blob/master/Week_4/IMDB/data/labeledTrainData.tsv?raw=true'\n",
        "test_data_path='https://github.com/dgullate/Curso-IE/blob/master/Week_4/IMDB/data/testData.tsv?raw=true'\n",
        "unlabeled_data_path='https://github.com/dgullate/Curso-IE/blob/master/Week_4/IMDB/data/unlabeledTrainData.tsv?raw=true'\n",
        "train = pd.read_csv(train_data_path, header=0, delimiter=\"\\t\", quoting=3)\n",
        "unlabeled_train = pd.read_csv(unlabeled_data_path, header=0, delimiter=\"\\t\", quoting=3)\n",
        "raw_test_data = pd.read_csv(test_data_path, header=0, delimiter=\"\\t\", quoting=3)"
      ],
      "execution_count": 0,
      "outputs": []
    },
    {
      "cell_type": "markdown",
      "metadata": {
        "id": "RSbIKeCA3BzO",
        "colab_type": "text"
      },
      "source": [
        "The functions we write to clean the data are also similar to Part 1, although now there are a couple of differences. First, to train Word2Vec it is better not to remove stop words because the algorithm relies on the broader context of the sentence in order to produce high-quality word vectors. For this reason, we will make stop word removal optional in the functions below. It also might be better not to remove numbers, but we leave that as an exercise for the reader."
      ]
    },
    {
      "cell_type": "code",
      "metadata": {
        "id": "rgw7xVDD2qDd",
        "colab_type": "code",
        "colab": {}
      },
      "source": [
        "# Import various modules for string cleaning\n",
        "from bs4 import BeautifulSoup\n",
        "import re\n",
        "from nltk.corpus import stopwords\n",
        "\n",
        "def review_to_wordlist( review, remove_stopwords=False ):\n",
        "    # Function to convert a document to a sequence of words,\n",
        "    # optionally removing stop words.  Returns a list of words.\n",
        "    #\n",
        "    # 1. Remove HTML\n",
        "    review_text = BeautifulSoup(review).get_text()\n",
        "    #  \n",
        "    # 2. Remove non-letters\n",
        "    review_text = re.sub(\"[^a-zA-Z]\",\" \", review_text)\n",
        "    #\n",
        "    # 3. Convert words to lower case and split them\n",
        "    words = review_text.lower().split()\n",
        "    #\n",
        "    # 4. Optionally remove stop words (false by default)\n",
        "    if remove_stopwords:\n",
        "        stops = set(stopwords.words(\"english\"))\n",
        "        words = [w for w in words if not w in stops]\n",
        "    #\n",
        "    # 5. Return a list of words\n",
        "    return(words)"
      ],
      "execution_count": 0,
      "outputs": []
    },
    {
      "cell_type": "markdown",
      "metadata": {
        "id": "CkdYhsq43bqb",
        "colab_type": "text"
      },
      "source": [
        "Next, we want a specific input format. Word2Vec expects single sentences, each one as a list of words. In other words, the input format is a list of lists.\n",
        "\n",
        "It is not at all straightforward how to split a paragraph into sentences. There are all kinds of gotchas in natural language. English sentences can end with \"?\", \"!\", \"\"\", or \".\", among other things, and spacing and capitalization are not reliable guides either. For this reason, we'll use NLTK's punkt tokenizer for sentence splitting. In order to use this, you will need to install NLTK and use nltk.download() to download the relevant training file for punkt."
      ]
    },
    {
      "cell_type": "code",
      "metadata": {
        "id": "JnIuMzfm3cYs",
        "colab_type": "code",
        "colab": {
          "base_uri": "https://localhost:8080/",
          "height": 52
        },
        "outputId": "85523a59-873b-4005-cb83-4f23187f10f4"
      },
      "source": [
        "# Download the punkt tokenizer for sentence splitting\n",
        "import nltk.data\n",
        "nltk.download('punkt')   \n",
        "\n",
        "# Load the punkt tokenizer\n",
        "tokenizer = nltk.data.load('tokenizers/punkt/english.pickle')\n",
        "\n",
        "# Define a function to split a review into parsed sentences\n",
        "def review_to_sentences( review, tokenizer, remove_stopwords=False ):\n",
        "    # Function to split a review into parsed sentences. Returns a \n",
        "    # list of sentences, where each sentence is a list of words\n",
        "    #\n",
        "    # 1. Use the NLTK tokenizer to split the paragraph into sentences\n",
        "    raw_sentences = tokenizer.tokenize(review.strip())\n",
        "    #\n",
        "    # 2. Loop over each sentence\n",
        "    sentences = []\n",
        "    for raw_sentence in raw_sentences:\n",
        "        # If a sentence is empty, skip it\n",
        "        if len(raw_sentence) > 0:\n",
        "            # Otherwise, call review_to_wordlist to get a list of words\n",
        "            sentences.append(review_to_wordlist(raw_sentence,remove_stopwords))\n",
        "    #\n",
        "    # Return the list of sentences (each sentence is a list of words,\n",
        "    # so this returns a list of lists\n",
        "    return sentences"
      ],
      "execution_count": 5,
      "outputs": [
        {
          "output_type": "stream",
          "text": [
            "[nltk_data] Downloading package punkt to /root/nltk_data...\n",
            "[nltk_data]   Unzipping tokenizers/punkt.zip.\n"
          ],
          "name": "stdout"
        }
      ]
    },
    {
      "cell_type": "markdown",
      "metadata": {
        "id": "LYpwEgMm43gA",
        "colab_type": "text"
      },
      "source": [
        "Let us look at one review and the output of this last function on it:"
      ]
    },
    {
      "cell_type": "code",
      "metadata": {
        "id": "7IlIeN9y32VC",
        "colab_type": "code",
        "colab": {
          "base_uri": "https://localhost:8080/",
          "height": 193
        },
        "outputId": "3d66459d-d7db-49bf-c4dc-edf248da8c58"
      },
      "source": [
        "sentences= review_to_sentences(train['review'][7],tokenizer)\n",
        "for sentence in sentences:\n",
        "  print(sentence)"
      ],
      "execution_count": 18,
      "outputs": [
        {
          "output_type": "stream",
          "text": [
            "['i', 'watched', 'this', 'video', 'at', 'a', 'friend', 's', 'house']\n",
            "['i', 'm', 'glad', 'i', 'did', 'not', 'waste', 'money', 'buying', 'this', 'one']\n",
            "['the', 'video', 'cover', 'has', 'a', 'scene', 'from', 'the', 'movie', 'capricorn', 'one']\n",
            "['the', 'movie', 'starts', 'out', 'with', 'several', 'clips', 'of', 'rocket', 'blow', 'ups', 'most', 'not', 'related', 'to', 'manned', 'flight']\n",
            "['sibrel', 's', 'smoking', 'gun', 'is', 'a', 'short', 'video', 'clip', 'of', 'the', 'astronauts', 'preparing', 'a', 'video', 'broadcast']\n",
            "['he', 'edits', 'in', 'his', 'own', 'voice', 'over', 'instead', 'of', 'letting', 'us', 'listen', 'to', 'what', 'the', 'crew', 'had', 'to', 'say']\n",
            "['the', 'video', 'curiously', 'ends', 'with', 'a', 'showing', 'of', 'the', 'zapruder', 'film']\n",
            "['his', 'claims', 'about', 'radiation', 'shielding', 'star', 'photography', 'and', 'others', 'lead', 'me', 'to', 'believe', 'is', 'he', 'extremely', 'ignorant', 'or', 'has', 'some', 'sort', 'of', 'ax', 'to', 'grind', 'against', 'nasa', 'the', 'astronauts', 'or', 'american', 'in', 'general']\n",
            "['his', 'science', 'is', 'bad', 'and', 'so', 'is', 'this', 'video']\n"
          ],
          "name": "stdout"
        }
      ]
    },
    {
      "cell_type": "markdown",
      "metadata": {
        "id": "-NJhxG606M21",
        "colab_type": "text"
      },
      "source": [
        "Now we can apply this function to prepare our data for input to Word2Vec (this will take a couple minutes):"
      ]
    },
    {
      "cell_type": "code",
      "metadata": {
        "id": "6tIgoh3U5liB",
        "colab_type": "code",
        "colab": {
          "base_uri": "https://localhost:8080/",
          "height": 783
        },
        "outputId": "907a960a-cf47-4ee3-fb83-fd317cbcfb92"
      },
      "source": [
        "sentences = []  # Initialize an empty list of sentences\n",
        "\n",
        "print (\"Parsing sentences from training set\")\n",
        "n=0\n",
        "for review in train[\"review\"]:\n",
        "    sentences += review_to_sentences(review, tokenizer)\n",
        "    n+=1\n",
        "    if n%5000==0:\n",
        "      print('Already parsed {} files'.format(n))\n",
        "n=0\n",
        "print (\"Parsing sentences from unlabeled set\")\n",
        "for review in unlabeled_train[\"review\"]:\n",
        "    sentences += review_to_sentences(review, tokenizer)\n",
        "    n+=1\n",
        "    if n%5000==0:\n",
        "      print('Already parsed {} files'.format(n))\n"
      ],
      "execution_count": 25,
      "outputs": [
        {
          "output_type": "stream",
          "text": [
            "Parsing sentences from training set\n"
          ],
          "name": "stdout"
        },
        {
          "output_type": "stream",
          "text": [
            "/usr/local/lib/python3.6/dist-packages/bs4/__init__.py:273: UserWarning: \"b'.'\" looks like a filename, not markup. You should probably open this file and pass the filehandle into Beautiful Soup.\n",
            "  ' Beautiful Soup.' % markup)\n"
          ],
          "name": "stderr"
        },
        {
          "output_type": "stream",
          "text": [
            "Already parsed 1000 files\n"
          ],
          "name": "stdout"
        },
        {
          "output_type": "stream",
          "text": [
            "/usr/local/lib/python3.6/dist-packages/bs4/__init__.py:336: UserWarning: \"http://www.happierabroad.com\"\" looks like a URL. Beautiful Soup is not an HTTP client. You should probably use an HTTP client like requests to get the document behind the URL, and feed that document to Beautiful Soup.\n",
            "  ' that document to Beautiful Soup.' % decoded_markup\n"
          ],
          "name": "stderr"
        },
        {
          "output_type": "stream",
          "text": [
            "Already parsed 2000 files\n",
            "Already parsed 3000 files\n",
            "Already parsed 4000 files\n",
            "Already parsed 5000 files\n",
            "Already parsed 6000 files\n",
            "Already parsed 7000 files\n",
            "Already parsed 8000 files\n",
            "Already parsed 9000 files\n",
            "Already parsed 10000 files\n",
            "Already parsed 11000 files\n",
            "Already parsed 12000 files\n",
            "Already parsed 13000 files\n",
            "Already parsed 14000 files\n",
            "Already parsed 15000 files\n",
            "Already parsed 16000 files\n",
            "Already parsed 17000 files\n",
            "Already parsed 18000 files\n",
            "Already parsed 19000 files\n",
            "Already parsed 20000 files\n",
            "Already parsed 21000 files\n",
            "Already parsed 22000 files\n",
            "Already parsed 23000 files\n",
            "Already parsed 24000 files\n",
            "Already parsed 25000 files\n",
            "Parsing sentences from unlabeled set\n"
          ],
          "name": "stdout"
        },
        {
          "output_type": "stream",
          "text": [
            "/usr/local/lib/python3.6/dist-packages/bs4/__init__.py:336: UserWarning: \"http://www.archive.org/details/LovefromaStranger\"\" looks like a URL. Beautiful Soup is not an HTTP client. You should probably use an HTTP client like requests to get the document behind the URL, and feed that document to Beautiful Soup.\n",
            "  ' that document to Beautiful Soup.' % decoded_markup\n",
            "/usr/local/lib/python3.6/dist-packages/bs4/__init__.py:336: UserWarning: \"http://www.loosechangeguide.com/LooseChangeGuide.html\"\" looks like a URL. Beautiful Soup is not an HTTP client. You should probably use an HTTP client like requests to get the document behind the URL, and feed that document to Beautiful Soup.\n",
            "  ' that document to Beautiful Soup.' % decoded_markup\n",
            "/usr/local/lib/python3.6/dist-packages/bs4/__init__.py:336: UserWarning: \"http://www.msnbc.msn.com/id/4972055/site/newsweek/\"\" looks like a URL. Beautiful Soup is not an HTTP client. You should probably use an HTTP client like requests to get the document behind the URL, and feed that document to Beautiful Soup.\n",
            "  ' that document to Beautiful Soup.' % decoded_markup\n",
            "/usr/local/lib/python3.6/dist-packages/bs4/__init__.py:273: UserWarning: \"b'..'\" looks like a filename, not markup. You should probably open this file and pass the filehandle into Beautiful Soup.\n",
            "  ' Beautiful Soup.' % markup)\n",
            "/usr/local/lib/python3.6/dist-packages/bs4/__init__.py:336: UserWarning: \"http://www.youtube.com/watch?v=a0KSqelmgN8\"\" looks like a URL. Beautiful Soup is not an HTTP client. You should probably use an HTTP client like requests to get the document behind the URL, and feed that document to Beautiful Soup.\n",
            "  ' that document to Beautiful Soup.' % decoded_markup\n",
            "/usr/local/lib/python3.6/dist-packages/bs4/__init__.py:336: UserWarning: \"http://jake-weird.blogspot.com/2007/08/beneath.html\"\" looks like a URL. Beautiful Soup is not an HTTP client. You should probably use an HTTP client like requests to get the document behind the URL, and feed that document to Beautiful Soup.\n",
            "  ' that document to Beautiful Soup.' % decoded_markup\n"
          ],
          "name": "stderr"
        }
      ]
    },
    {
      "cell_type": "markdown",
      "metadata": {
        "id": "vkYhITuY8izZ",
        "colab_type": "text"
      },
      "source": [
        "You may get a few warnings from BeautifulSoup about URLs in the sentences. These are nothing to worry about (although you may want to consider removing URLs when cleaning the text). \n",
        "\n",
        "We can take a look at the output to see how this differs from Part 1:"
      ]
    },
    {
      "cell_type": "code",
      "metadata": {
        "id": "8OoQzY2X6Rwt",
        "colab_type": "code",
        "colab": {
          "base_uri": "https://localhost:8080/",
          "height": 35
        },
        "outputId": "57eb5689-f03d-4f91-fd56-56ab78e813eb"
      },
      "source": [
        "print(len(sentences))"
      ],
      "execution_count": 27,
      "outputs": [
        {
          "output_type": "stream",
          "text": [
            "795538\n"
          ],
          "name": "stdout"
        }
      ]
    },
    {
      "cell_type": "markdown",
      "metadata": {
        "id": "7HjgRn6l9n28",
        "colab_type": "text"
      },
      "source": [
        "With the list of nicely parsed sentences, we're ready to train the model. There are a number of parameter choices that affect the run time and the quality of the final model that is produced. For details on the algorithms below, see the word2vec API documentation as well as the Google documentation. \n",
        "\n",
        "1. **Architecture**: Architecture options are skip-gram (default) or continuous bag of words. We found that skip-gram was very slightly slower but produced better results.\n",
        "\n",
        "2. **Training algorithm**: Hierarchical softmax (default) or negative sampling. For us, the default worked well.\n",
        "Downsampling of frequent words: The Google documentation recommends values between .00001 and .001. For us, values closer 0.001 seemed to improve the accuracy of the final model.\n",
        "\n",
        "3. **Word vector dimensionality**: More features result in longer runtimes, and often, but not always, result in better models. Reasonable values can be in the tens to hundreds; we used 300.\n",
        "\n",
        "4. **Context / window size**: How many words of context should the training algorithm take into account? 10 seems to work well for hierarchical softmax (more is better, up to a point).\n",
        "\n",
        "5. **Worker threads**: Number of parallel processes to run. This is computer-specific, but between 4 and 6 should work on most systems.\n",
        "\n",
        "6. **Minimum word count**: This helps limit the size of the vocabulary to meaningful words. Any word that does not occur at least this many times across all documents is ignored. Reasonable values could be between 10 and 100. In this case, since each movie occurs 30 times, we set the minimum word count to 40, to avoid attaching too much importance to individual movie titles. This resulted in an overall vocabulary size of around 15,000 words. Higher values also help limit run time.\n",
        "\n",
        "Choosing parameters is not easy, but once we have chosen our parameters, creating a Word2Vec model is straightforward:"
      ]
    },
    {
      "cell_type": "code",
      "metadata": {
        "id": "_3Tnwgwk80n6",
        "colab_type": "code",
        "colab": {
          "base_uri": "https://localhost:8080/",
          "height": 5497
        },
        "outputId": "f002eb73-8890-4942-e507-1d26c3352823"
      },
      "source": [
        "# Import the built-in logging module and configure it so that Word2Vec \n",
        "# creates nice output messages\n",
        "import logging\n",
        "logging.basicConfig(format='%(asctime)s : %(levelname)s : %(message)s',\\\n",
        "    level=logging.INFO)\n",
        "\n",
        "# Set values for various parameters\n",
        "num_features = 300    # Word vector dimensionality                      \n",
        "min_word_count = 40   # Minimum word count                        \n",
        "num_workers = 4       # Number of threads to run in parallel\n",
        "context = 10          # Context window size                                                                                    \n",
        "downsampling = 1e-3   # Downsample setting for frequent words\n",
        "\n",
        "# Initialize and train the model (this will take some time)\n",
        "from gensim.models import word2vec\n",
        "print (\"Training model...\")\n",
        "model = word2vec.Word2Vec(sentences, workers=num_workers, \\\n",
        "            size=num_features, min_count = min_word_count, \\\n",
        "            window = context, sample = downsampling)\n",
        "\n",
        "# If you don't plan to train the model any further, calling \n",
        "# init_sims will make the model much more memory-efficient.\n",
        "model.init_sims(replace=True)\n",
        "\n",
        "# It can be helpful to create a meaningful model name and \n",
        "# save the model for later use. You can load it later using Word2Vec.load()\n",
        "model_name = \"300features_40minwords_10context\"\n",
        "model.save(model_name)"
      ],
      "execution_count": 29,
      "outputs": [
        {
          "output_type": "stream",
          "text": [
            "2019-05-19 16:43:09,824 : INFO : 'pattern' package not found; tag filters are not available for English\n",
            "2019-05-19 16:43:09,833 : INFO : collecting all words and their counts\n",
            "2019-05-19 16:43:09,834 : INFO : PROGRESS: at sentence #0, processed 0 words, keeping 0 word types\n",
            "2019-05-19 16:43:09,898 : INFO : PROGRESS: at sentence #10000, processed 225803 words, keeping 17776 word types\n",
            "2019-05-19 16:43:09,961 : INFO : PROGRESS: at sentence #20000, processed 451892 words, keeping 24948 word types\n",
            "2019-05-19 16:43:10,027 : INFO : PROGRESS: at sentence #30000, processed 671315 words, keeping 30034 word types\n"
          ],
          "name": "stderr"
        },
        {
          "output_type": "stream",
          "text": [
            "Training model...\n"
          ],
          "name": "stdout"
        },
        {
          "output_type": "stream",
          "text": [
            "2019-05-19 16:43:10,097 : INFO : PROGRESS: at sentence #40000, processed 897815 words, keeping 34348 word types\n",
            "2019-05-19 16:43:10,162 : INFO : PROGRESS: at sentence #50000, processed 1116963 words, keeping 37761 word types\n",
            "2019-05-19 16:43:10,229 : INFO : PROGRESS: at sentence #60000, processed 1338404 words, keeping 40723 word types\n",
            "2019-05-19 16:43:10,295 : INFO : PROGRESS: at sentence #70000, processed 1561580 words, keeping 43333 word types\n",
            "2019-05-19 16:43:10,361 : INFO : PROGRESS: at sentence #80000, processed 1780887 words, keeping 45714 word types\n",
            "2019-05-19 16:43:10,428 : INFO : PROGRESS: at sentence #90000, processed 2004996 words, keeping 48135 word types\n",
            "2019-05-19 16:43:10,494 : INFO : PROGRESS: at sentence #100000, processed 2226966 words, keeping 50207 word types\n",
            "2019-05-19 16:43:10,560 : INFO : PROGRESS: at sentence #110000, processed 2446580 words, keeping 52081 word types\n",
            "2019-05-19 16:43:10,625 : INFO : PROGRESS: at sentence #120000, processed 2668775 words, keeping 54119 word types\n",
            "2019-05-19 16:43:10,694 : INFO : PROGRESS: at sentence #130000, processed 2894303 words, keeping 55847 word types\n",
            "2019-05-19 16:43:10,759 : INFO : PROGRESS: at sentence #140000, processed 3107005 words, keeping 57346 word types\n",
            "2019-05-19 16:43:10,824 : INFO : PROGRESS: at sentence #150000, processed 3332627 words, keeping 59055 word types\n",
            "2019-05-19 16:43:10,891 : INFO : PROGRESS: at sentence #160000, processed 3555315 words, keeping 60617 word types\n",
            "2019-05-19 16:43:10,957 : INFO : PROGRESS: at sentence #170000, processed 3778655 words, keeping 62077 word types\n",
            "2019-05-19 16:43:11,022 : INFO : PROGRESS: at sentence #180000, processed 3999236 words, keeping 63496 word types\n",
            "2019-05-19 16:43:11,088 : INFO : PROGRESS: at sentence #190000, processed 4224449 words, keeping 64794 word types\n",
            "2019-05-19 16:43:11,154 : INFO : PROGRESS: at sentence #200000, processed 4448603 words, keeping 66087 word types\n",
            "2019-05-19 16:43:11,219 : INFO : PROGRESS: at sentence #210000, processed 4669967 words, keeping 67390 word types\n",
            "2019-05-19 16:43:11,284 : INFO : PROGRESS: at sentence #220000, processed 4894968 words, keeping 68697 word types\n",
            "2019-05-19 16:43:11,349 : INFO : PROGRESS: at sentence #230000, processed 5117545 words, keeping 69958 word types\n",
            "2019-05-19 16:43:11,415 : INFO : PROGRESS: at sentence #240000, processed 5345050 words, keeping 71167 word types\n",
            "2019-05-19 16:43:11,481 : INFO : PROGRESS: at sentence #250000, processed 5559165 words, keeping 72351 word types\n",
            "2019-05-19 16:43:11,547 : INFO : PROGRESS: at sentence #260000, processed 5779146 words, keeping 73478 word types\n",
            "2019-05-19 16:43:11,613 : INFO : PROGRESS: at sentence #270000, processed 6000435 words, keeping 74767 word types\n",
            "2019-05-19 16:43:11,678 : INFO : PROGRESS: at sentence #280000, processed 6226314 words, keeping 76369 word types\n",
            "2019-05-19 16:43:11,743 : INFO : PROGRESS: at sentence #290000, processed 6449474 words, keeping 77839 word types\n",
            "2019-05-19 16:43:11,809 : INFO : PROGRESS: at sentence #300000, processed 6674077 words, keeping 79171 word types\n",
            "2019-05-19 16:43:11,876 : INFO : PROGRESS: at sentence #310000, processed 6899391 words, keeping 80480 word types\n",
            "2019-05-19 16:43:11,943 : INFO : PROGRESS: at sentence #320000, processed 7124278 words, keeping 81808 word types\n",
            "2019-05-19 16:43:12,012 : INFO : PROGRESS: at sentence #330000, processed 7346021 words, keeping 83030 word types\n",
            "2019-05-19 16:43:12,080 : INFO : PROGRESS: at sentence #340000, processed 7575533 words, keeping 84280 word types\n",
            "2019-05-19 16:43:12,145 : INFO : PROGRESS: at sentence #350000, processed 7798803 words, keeping 85425 word types\n",
            "2019-05-19 16:43:12,211 : INFO : PROGRESS: at sentence #360000, processed 8019427 words, keeping 86596 word types\n",
            "2019-05-19 16:43:12,281 : INFO : PROGRESS: at sentence #370000, processed 8246619 words, keeping 87708 word types\n",
            "2019-05-19 16:43:12,354 : INFO : PROGRESS: at sentence #380000, processed 8471766 words, keeping 88878 word types\n",
            "2019-05-19 16:43:12,425 : INFO : PROGRESS: at sentence #390000, processed 8701497 words, keeping 89907 word types\n",
            "2019-05-19 16:43:12,494 : INFO : PROGRESS: at sentence #400000, processed 8924446 words, keeping 90916 word types\n",
            "2019-05-19 16:43:12,563 : INFO : PROGRESS: at sentence #410000, processed 9145796 words, keeping 91880 word types\n",
            "2019-05-19 16:43:12,628 : INFO : PROGRESS: at sentence #420000, processed 9366876 words, keeping 92912 word types\n",
            "2019-05-19 16:43:12,695 : INFO : PROGRESS: at sentence #430000, processed 9594413 words, keeping 93932 word types\n",
            "2019-05-19 16:43:12,760 : INFO : PROGRESS: at sentence #440000, processed 9821166 words, keeping 94906 word types\n",
            "2019-05-19 16:43:12,824 : INFO : PROGRESS: at sentence #450000, processed 10044928 words, keeping 96036 word types\n",
            "2019-05-19 16:43:12,891 : INFO : PROGRESS: at sentence #460000, processed 10277688 words, keeping 97088 word types\n",
            "2019-05-19 16:43:12,955 : INFO : PROGRESS: at sentence #470000, processed 10505613 words, keeping 97933 word types\n",
            "2019-05-19 16:43:13,018 : INFO : PROGRESS: at sentence #480000, processed 10725997 words, keeping 98862 word types\n",
            "2019-05-19 16:43:13,084 : INFO : PROGRESS: at sentence #490000, processed 10952741 words, keeping 99871 word types\n",
            "2019-05-19 16:43:13,148 : INFO : PROGRESS: at sentence #500000, processed 11174397 words, keeping 100765 word types\n",
            "2019-05-19 16:43:13,217 : INFO : PROGRESS: at sentence #510000, processed 11399672 words, keeping 101699 word types\n",
            "2019-05-19 16:43:13,290 : INFO : PROGRESS: at sentence #520000, processed 11623020 words, keeping 102598 word types\n",
            "2019-05-19 16:43:13,355 : INFO : PROGRESS: at sentence #530000, processed 11847418 words, keeping 103400 word types\n",
            "2019-05-19 16:43:13,422 : INFO : PROGRESS: at sentence #540000, processed 12072033 words, keeping 104265 word types\n",
            "2019-05-19 16:43:13,489 : INFO : PROGRESS: at sentence #550000, processed 12297571 words, keeping 105133 word types\n",
            "2019-05-19 16:43:13,555 : INFO : PROGRESS: at sentence #560000, processed 12518861 words, keeping 105997 word types\n",
            "2019-05-19 16:43:13,626 : INFO : PROGRESS: at sentence #570000, processed 12747916 words, keeping 106787 word types\n",
            "2019-05-19 16:43:13,697 : INFO : PROGRESS: at sentence #580000, processed 12969412 words, keeping 107665 word types\n",
            "2019-05-19 16:43:13,769 : INFO : PROGRESS: at sentence #590000, processed 13194937 words, keeping 108501 word types\n",
            "2019-05-19 16:43:13,836 : INFO : PROGRESS: at sentence #600000, processed 13417135 words, keeping 109218 word types\n",
            "2019-05-19 16:43:13,907 : INFO : PROGRESS: at sentence #610000, processed 13638158 words, keeping 110092 word types\n",
            "2019-05-19 16:43:13,978 : INFO : PROGRESS: at sentence #620000, processed 13864483 words, keeping 110837 word types\n",
            "2019-05-19 16:43:14,050 : INFO : PROGRESS: at sentence #630000, processed 14088769 words, keeping 111610 word types\n",
            "2019-05-19 16:43:14,121 : INFO : PROGRESS: at sentence #640000, processed 14309552 words, keeping 112416 word types\n",
            "2019-05-19 16:43:14,194 : INFO : PROGRESS: at sentence #650000, processed 14535308 words, keeping 113196 word types\n",
            "2019-05-19 16:43:14,265 : INFO : PROGRESS: at sentence #660000, processed 14758098 words, keeping 113945 word types\n",
            "2019-05-19 16:43:14,338 : INFO : PROGRESS: at sentence #670000, processed 14981482 words, keeping 114643 word types\n",
            "2019-05-19 16:43:14,414 : INFO : PROGRESS: at sentence #680000, processed 15206314 words, keeping 115354 word types\n",
            "2019-05-19 16:43:14,486 : INFO : PROGRESS: at sentence #690000, processed 15428507 words, keeping 116131 word types\n",
            "2019-05-19 16:43:14,558 : INFO : PROGRESS: at sentence #700000, processed 15657213 words, keeping 116943 word types\n",
            "2019-05-19 16:43:14,629 : INFO : PROGRESS: at sentence #710000, processed 15880202 words, keeping 117596 word types\n",
            "2019-05-19 16:43:14,696 : INFO : PROGRESS: at sentence #720000, processed 16105489 words, keeping 118221 word types\n",
            "2019-05-19 16:43:14,763 : INFO : PROGRESS: at sentence #730000, processed 16331870 words, keeping 118954 word types\n",
            "2019-05-19 16:43:14,832 : INFO : PROGRESS: at sentence #740000, processed 16552903 words, keeping 119668 word types\n",
            "2019-05-19 16:43:14,904 : INFO : PROGRESS: at sentence #750000, processed 16771230 words, keeping 120295 word types\n",
            "2019-05-19 16:43:14,974 : INFO : PROGRESS: at sentence #760000, processed 16990622 words, keeping 120930 word types\n",
            "2019-05-19 16:43:15,044 : INFO : PROGRESS: at sentence #770000, processed 17217759 words, keeping 121703 word types\n",
            "2019-05-19 16:43:15,116 : INFO : PROGRESS: at sentence #780000, processed 17447905 words, keeping 122402 word types\n",
            "2019-05-19 16:43:15,186 : INFO : PROGRESS: at sentence #790000, processed 17674981 words, keeping 123066 word types\n",
            "2019-05-19 16:43:15,227 : INFO : collected 123504 word types from a corpus of 17798082 raw words and 795538 sentences\n",
            "2019-05-19 16:43:15,228 : INFO : Loading a fresh vocabulary\n",
            "2019-05-19 16:43:15,334 : INFO : effective_min_count=40 retains 16490 unique words (13% of original 123504, drops 107014)\n",
            "2019-05-19 16:43:15,335 : INFO : effective_min_count=40 leaves 17238940 word corpus (96% of original 17798082, drops 559142)\n",
            "2019-05-19 16:43:15,397 : INFO : deleting the raw counts dictionary of 123504 items\n",
            "2019-05-19 16:43:15,402 : INFO : sample=0.001 downsamples 48 most-common words\n",
            "2019-05-19 16:43:15,403 : INFO : downsampling leaves estimated 12749658 word corpus (74.0% of prior 17238940)\n",
            "2019-05-19 16:43:15,468 : INFO : estimated required memory for 16490 words and 300 dimensions: 47821000 bytes\n",
            "2019-05-19 16:43:15,470 : INFO : resetting layer weights\n",
            "2019-05-19 16:43:15,679 : INFO : training model with 4 workers on 16490 vocabulary and 300 features, using sg=0 hs=0 sample=0.001 negative=5 window=10\n",
            "2019-05-19 16:43:16,694 : INFO : EPOCH 1 - PROGRESS: at 2.39% examples, 306325 words/s, in_qsize 7, out_qsize 0\n",
            "2019-05-19 16:43:17,707 : INFO : EPOCH 1 - PROGRESS: at 4.97% examples, 315290 words/s, in_qsize 7, out_qsize 0\n",
            "2019-05-19 16:43:18,731 : INFO : EPOCH 1 - PROGRESS: at 7.60% examples, 317160 words/s, in_qsize 7, out_qsize 0\n",
            "2019-05-19 16:43:19,753 : INFO : EPOCH 1 - PROGRESS: at 10.26% examples, 320184 words/s, in_qsize 7, out_qsize 0\n",
            "2019-05-19 16:43:20,766 : INFO : EPOCH 1 - PROGRESS: at 12.80% examples, 319731 words/s, in_qsize 7, out_qsize 0\n",
            "2019-05-19 16:43:21,788 : INFO : EPOCH 1 - PROGRESS: at 15.45% examples, 321248 words/s, in_qsize 7, out_qsize 0\n",
            "2019-05-19 16:43:22,815 : INFO : EPOCH 1 - PROGRESS: at 18.13% examples, 322072 words/s, in_qsize 7, out_qsize 0\n",
            "2019-05-19 16:43:23,846 : INFO : EPOCH 1 - PROGRESS: at 20.73% examples, 321672 words/s, in_qsize 6, out_qsize 1\n",
            "2019-05-19 16:43:24,851 : INFO : EPOCH 1 - PROGRESS: at 23.32% examples, 322294 words/s, in_qsize 7, out_qsize 0\n",
            "2019-05-19 16:43:25,885 : INFO : EPOCH 1 - PROGRESS: at 25.91% examples, 321905 words/s, in_qsize 7, out_qsize 0\n",
            "2019-05-19 16:43:26,903 : INFO : EPOCH 1 - PROGRESS: at 28.53% examples, 322576 words/s, in_qsize 6, out_qsize 1\n",
            "2019-05-19 16:43:27,933 : INFO : EPOCH 1 - PROGRESS: at 31.26% examples, 323439 words/s, in_qsize 7, out_qsize 0\n",
            "2019-05-19 16:43:28,941 : INFO : EPOCH 1 - PROGRESS: at 33.88% examples, 323612 words/s, in_qsize 7, out_qsize 0\n",
            "2019-05-19 16:43:29,958 : INFO : EPOCH 1 - PROGRESS: at 36.45% examples, 323573 words/s, in_qsize 7, out_qsize 0\n",
            "2019-05-19 16:43:30,959 : INFO : EPOCH 1 - PROGRESS: at 38.96% examples, 323485 words/s, in_qsize 7, out_qsize 0\n",
            "2019-05-19 16:43:31,992 : INFO : EPOCH 1 - PROGRESS: at 41.54% examples, 323128 words/s, in_qsize 7, out_qsize 0\n",
            "2019-05-19 16:43:33,016 : INFO : EPOCH 1 - PROGRESS: at 44.15% examples, 323434 words/s, in_qsize 7, out_qsize 0\n",
            "2019-05-19 16:43:34,026 : INFO : EPOCH 1 - PROGRESS: at 46.67% examples, 323165 words/s, in_qsize 7, out_qsize 0\n",
            "2019-05-19 16:43:35,053 : INFO : EPOCH 1 - PROGRESS: at 49.15% examples, 322676 words/s, in_qsize 7, out_qsize 0\n",
            "2019-05-19 16:43:36,076 : INFO : EPOCH 1 - PROGRESS: at 51.76% examples, 322801 words/s, in_qsize 7, out_qsize 0\n",
            "2019-05-19 16:43:37,099 : INFO : EPOCH 1 - PROGRESS: at 54.31% examples, 322556 words/s, in_qsize 7, out_qsize 0\n",
            "2019-05-19 16:43:38,129 : INFO : EPOCH 1 - PROGRESS: at 56.93% examples, 322734 words/s, in_qsize 7, out_qsize 0\n",
            "2019-05-19 16:43:39,152 : INFO : EPOCH 1 - PROGRESS: at 59.45% examples, 322692 words/s, in_qsize 7, out_qsize 0\n",
            "2019-05-19 16:43:40,169 : INFO : EPOCH 1 - PROGRESS: at 62.03% examples, 322714 words/s, in_qsize 7, out_qsize 0\n",
            "2019-05-19 16:43:41,174 : INFO : EPOCH 1 - PROGRESS: at 64.68% examples, 323177 words/s, in_qsize 8, out_qsize 1\n",
            "2019-05-19 16:43:42,180 : INFO : EPOCH 1 - PROGRESS: at 67.29% examples, 323583 words/s, in_qsize 7, out_qsize 0\n",
            "2019-05-19 16:43:43,180 : INFO : EPOCH 1 - PROGRESS: at 69.82% examples, 323514 words/s, in_qsize 7, out_qsize 0\n",
            "2019-05-19 16:43:44,199 : INFO : EPOCH 1 - PROGRESS: at 72.32% examples, 323251 words/s, in_qsize 7, out_qsize 0\n",
            "2019-05-19 16:43:45,205 : INFO : EPOCH 1 - PROGRESS: at 74.85% examples, 323134 words/s, in_qsize 7, out_qsize 0\n",
            "2019-05-19 16:43:46,215 : INFO : EPOCH 1 - PROGRESS: at 77.43% examples, 323218 words/s, in_qsize 7, out_qsize 0\n",
            "2019-05-19 16:43:47,219 : INFO : EPOCH 1 - PROGRESS: at 80.02% examples, 323355 words/s, in_qsize 7, out_qsize 0\n",
            "2019-05-19 16:43:48,221 : INFO : EPOCH 1 - PROGRESS: at 82.50% examples, 323058 words/s, in_qsize 7, out_qsize 0\n",
            "2019-05-19 16:43:49,242 : INFO : EPOCH 1 - PROGRESS: at 85.05% examples, 323028 words/s, in_qsize 8, out_qsize 0\n",
            "2019-05-19 16:43:50,260 : INFO : EPOCH 1 - PROGRESS: at 87.59% examples, 322831 words/s, in_qsize 7, out_qsize 0\n",
            "2019-05-19 16:43:51,288 : INFO : EPOCH 1 - PROGRESS: at 90.18% examples, 322939 words/s, in_qsize 7, out_qsize 0\n",
            "2019-05-19 16:43:52,313 : INFO : EPOCH 1 - PROGRESS: at 92.79% examples, 322885 words/s, in_qsize 6, out_qsize 1\n",
            "2019-05-19 16:43:53,318 : INFO : EPOCH 1 - PROGRESS: at 95.36% examples, 322811 words/s, in_qsize 7, out_qsize 0\n",
            "2019-05-19 16:43:54,338 : INFO : EPOCH 1 - PROGRESS: at 97.84% examples, 322619 words/s, in_qsize 7, out_qsize 0\n",
            "2019-05-19 16:43:55,155 : INFO : worker thread finished; awaiting finish of 3 more threads\n",
            "2019-05-19 16:43:55,178 : INFO : worker thread finished; awaiting finish of 2 more threads\n",
            "2019-05-19 16:43:55,196 : INFO : worker thread finished; awaiting finish of 1 more threads\n",
            "2019-05-19 16:43:55,204 : INFO : worker thread finished; awaiting finish of 0 more threads\n",
            "2019-05-19 16:43:55,206 : INFO : EPOCH - 1 : training on 17798082 raw words (12747375 effective words) took 39.5s, 322584 effective words/s\n",
            "2019-05-19 16:43:56,249 : INFO : EPOCH 2 - PROGRESS: at 2.45% examples, 304378 words/s, in_qsize 7, out_qsize 0\n",
            "2019-05-19 16:43:57,250 : INFO : EPOCH 2 - PROGRESS: at 5.03% examples, 316344 words/s, in_qsize 7, out_qsize 0\n",
            "2019-05-19 16:43:58,258 : INFO : EPOCH 2 - PROGRESS: at 7.77% examples, 324159 words/s, in_qsize 7, out_qsize 0\n",
            "2019-05-19 16:43:59,301 : INFO : EPOCH 2 - PROGRESS: at 10.31% examples, 320252 words/s, in_qsize 7, out_qsize 1\n",
            "2019-05-19 16:44:00,306 : INFO : EPOCH 2 - PROGRESS: at 12.92% examples, 321767 words/s, in_qsize 7, out_qsize 0\n",
            "2019-05-19 16:44:01,321 : INFO : EPOCH 2 - PROGRESS: at 15.45% examples, 320940 words/s, in_qsize 6, out_qsize 1\n",
            "2019-05-19 16:44:02,336 : INFO : EPOCH 2 - PROGRESS: at 18.08% examples, 321365 words/s, in_qsize 7, out_qsize 0\n",
            "2019-05-19 16:44:03,350 : INFO : EPOCH 2 - PROGRESS: at 20.73% examples, 322628 words/s, in_qsize 7, out_qsize 0\n",
            "2019-05-19 16:44:04,389 : INFO : EPOCH 2 - PROGRESS: at 23.38% examples, 322717 words/s, in_qsize 7, out_qsize 0\n",
            "2019-05-19 16:44:05,405 : INFO : EPOCH 2 - PROGRESS: at 25.91% examples, 322603 words/s, in_qsize 7, out_qsize 0\n",
            "2019-05-19 16:44:06,398 : INFO : EPOCH 2 - PROGRESS: at 28.48% examples, 322883 words/s, in_qsize 7, out_qsize 0\n",
            "2019-05-19 16:44:07,426 : INFO : EPOCH 2 - PROGRESS: at 31.26% examples, 324402 words/s, in_qsize 6, out_qsize 1\n",
            "2019-05-19 16:44:08,458 : INFO : EPOCH 2 - PROGRESS: at 33.88% examples, 323918 words/s, in_qsize 7, out_qsize 0\n",
            "2019-05-19 16:44:09,466 : INFO : EPOCH 2 - PROGRESS: at 36.40% examples, 323555 words/s, in_qsize 7, out_qsize 0\n",
            "2019-05-19 16:44:10,471 : INFO : EPOCH 2 - PROGRESS: at 39.07% examples, 324765 words/s, in_qsize 8, out_qsize 0\n",
            "2019-05-19 16:44:11,487 : INFO : EPOCH 2 - PROGRESS: at 41.59% examples, 324282 words/s, in_qsize 7, out_qsize 0\n",
            "2019-05-19 16:44:12,490 : INFO : EPOCH 2 - PROGRESS: at 44.20% examples, 324918 words/s, in_qsize 7, out_qsize 0\n",
            "2019-05-19 16:44:13,509 : INFO : EPOCH 2 - PROGRESS: at 46.72% examples, 324408 words/s, in_qsize 6, out_qsize 1\n",
            "2019-05-19 16:44:14,534 : INFO : EPOCH 2 - PROGRESS: at 49.27% examples, 324218 words/s, in_qsize 7, out_qsize 0\n",
            "2019-05-19 16:44:15,548 : INFO : EPOCH 2 - PROGRESS: at 51.81% examples, 323874 words/s, in_qsize 7, out_qsize 0\n",
            "2019-05-19 16:44:16,563 : INFO : EPOCH 2 - PROGRESS: at 54.37% examples, 323853 words/s, in_qsize 7, out_qsize 0\n",
            "2019-05-19 16:44:17,574 : INFO : EPOCH 2 - PROGRESS: at 56.88% examples, 323631 words/s, in_qsize 7, out_qsize 1\n",
            "2019-05-19 16:44:18,602 : INFO : EPOCH 2 - PROGRESS: at 59.45% examples, 323759 words/s, in_qsize 7, out_qsize 0\n",
            "2019-05-19 16:44:19,619 : INFO : EPOCH 2 - PROGRESS: at 62.02% examples, 323730 words/s, in_qsize 6, out_qsize 1\n",
            "2019-05-19 16:44:20,635 : INFO : EPOCH 2 - PROGRESS: at 64.62% examples, 323758 words/s, in_qsize 7, out_qsize 1\n",
            "2019-05-19 16:44:21,675 : INFO : EPOCH 2 - PROGRESS: at 67.23% examples, 323723 words/s, in_qsize 7, out_qsize 0\n",
            "2019-05-19 16:44:22,701 : INFO : EPOCH 2 - PROGRESS: at 69.87% examples, 323887 words/s, in_qsize 7, out_qsize 0\n",
            "2019-05-19 16:44:23,714 : INFO : EPOCH 2 - PROGRESS: at 72.44% examples, 323911 words/s, in_qsize 8, out_qsize 0\n",
            "2019-05-19 16:44:24,757 : INFO : EPOCH 2 - PROGRESS: at 75.08% examples, 323856 words/s, in_qsize 7, out_qsize 0\n",
            "2019-05-19 16:44:25,757 : INFO : EPOCH 2 - PROGRESS: at 77.55% examples, 323547 words/s, in_qsize 8, out_qsize 0\n",
            "2019-05-19 16:44:26,773 : INFO : EPOCH 2 - PROGRESS: at 80.08% examples, 323336 words/s, in_qsize 6, out_qsize 1\n",
            "2019-05-19 16:44:27,800 : INFO : EPOCH 2 - PROGRESS: at 82.66% examples, 323244 words/s, in_qsize 6, out_qsize 1\n",
            "2019-05-19 16:44:28,810 : INFO : EPOCH 2 - PROGRESS: at 85.23% examples, 323331 words/s, in_qsize 7, out_qsize 0\n",
            "2019-05-19 16:44:29,814 : INFO : EPOCH 2 - PROGRESS: at 87.74% examples, 323256 words/s, in_qsize 5, out_qsize 2\n",
            "2019-05-19 16:44:30,827 : INFO : EPOCH 2 - PROGRESS: at 90.37% examples, 323512 words/s, in_qsize 8, out_qsize 0\n",
            "2019-05-19 16:44:31,831 : INFO : EPOCH 2 - PROGRESS: at 92.90% examples, 323425 words/s, in_qsize 7, out_qsize 0\n",
            "2019-05-19 16:44:32,875 : INFO : EPOCH 2 - PROGRESS: at 95.59% examples, 323383 words/s, in_qsize 7, out_qsize 0\n",
            "2019-05-19 16:44:33,907 : INFO : EPOCH 2 - PROGRESS: at 98.11% examples, 323384 words/s, in_qsize 7, out_qsize 0\n",
            "2019-05-19 16:44:34,559 : INFO : worker thread finished; awaiting finish of 3 more threads\n",
            "2019-05-19 16:44:34,589 : INFO : worker thread finished; awaiting finish of 2 more threads\n",
            "2019-05-19 16:44:34,602 : INFO : worker thread finished; awaiting finish of 1 more threads\n",
            "2019-05-19 16:44:34,612 : INFO : worker thread finished; awaiting finish of 0 more threads\n",
            "2019-05-19 16:44:34,613 : INFO : EPOCH - 2 : training on 17798082 raw words (12750979 effective words) took 39.4s, 323638 effective words/s\n",
            "2019-05-19 16:44:35,677 : INFO : EPOCH 3 - PROGRESS: at 2.50% examples, 305968 words/s, in_qsize 7, out_qsize 0\n",
            "2019-05-19 16:44:36,680 : INFO : EPOCH 3 - PROGRESS: at 4.98% examples, 309627 words/s, in_qsize 8, out_qsize 1\n",
            "2019-05-19 16:44:37,707 : INFO : EPOCH 3 - PROGRESS: at 7.66% examples, 315380 words/s, in_qsize 7, out_qsize 0\n",
            "2019-05-19 16:44:38,741 : INFO : EPOCH 3 - PROGRESS: at 10.26% examples, 316167 words/s, in_qsize 6, out_qsize 1\n",
            "2019-05-19 16:44:39,779 : INFO : EPOCH 3 - PROGRESS: at 13.08% examples, 321936 words/s, in_qsize 7, out_qsize 0\n",
            "2019-05-19 16:44:40,797 : INFO : EPOCH 3 - PROGRESS: at 15.62% examples, 321043 words/s, in_qsize 6, out_qsize 1\n",
            "2019-05-19 16:44:41,798 : INFO : EPOCH 3 - PROGRESS: at 18.30% examples, 323004 words/s, in_qsize 7, out_qsize 0\n",
            "2019-05-19 16:44:42,815 : INFO : EPOCH 3 - PROGRESS: at 20.84% examples, 322226 words/s, in_qsize 7, out_qsize 0\n",
            "2019-05-19 16:44:43,831 : INFO : EPOCH 3 - PROGRESS: at 23.43% examples, 322411 words/s, in_qsize 7, out_qsize 0\n",
            "2019-05-19 16:44:44,835 : INFO : EPOCH 3 - PROGRESS: at 25.97% examples, 322237 words/s, in_qsize 7, out_qsize 0\n",
            "2019-05-19 16:44:45,843 : INFO : EPOCH 3 - PROGRESS: at 28.53% examples, 322529 words/s, in_qsize 7, out_qsize 0\n",
            "2019-05-19 16:44:46,846 : INFO : EPOCH 3 - PROGRESS: at 31.09% examples, 322353 words/s, in_qsize 7, out_qsize 0\n",
            "2019-05-19 16:44:47,861 : INFO : EPOCH 3 - PROGRESS: at 33.66% examples, 321886 words/s, in_qsize 7, out_qsize 0\n",
            "2019-05-19 16:44:48,880 : INFO : EPOCH 3 - PROGRESS: at 36.17% examples, 321444 words/s, in_qsize 7, out_qsize 0\n",
            "2019-05-19 16:44:49,881 : INFO : EPOCH 3 - PROGRESS: at 38.79% examples, 322398 words/s, in_qsize 7, out_qsize 0\n",
            "2019-05-19 16:44:50,941 : INFO : EPOCH 3 - PROGRESS: at 41.42% examples, 322039 words/s, in_qsize 7, out_qsize 0\n",
            "2019-05-19 16:44:51,984 : INFO : EPOCH 3 - PROGRESS: at 44.04% examples, 322082 words/s, in_qsize 7, out_qsize 0\n",
            "2019-05-19 16:44:53,025 : INFO : EPOCH 3 - PROGRESS: at 46.72% examples, 322477 words/s, in_qsize 8, out_qsize 0\n",
            "2019-05-19 16:44:54,050 : INFO : EPOCH 3 - PROGRESS: at 49.33% examples, 322790 words/s, in_qsize 7, out_qsize 0\n",
            "2019-05-19 16:44:55,068 : INFO : EPOCH 3 - PROGRESS: at 51.92% examples, 322817 words/s, in_qsize 7, out_qsize 0\n",
            "2019-05-19 16:44:56,074 : INFO : EPOCH 3 - PROGRESS: at 54.43% examples, 322668 words/s, in_qsize 7, out_qsize 0\n",
            "2019-05-19 16:44:57,074 : INFO : EPOCH 3 - PROGRESS: at 56.99% examples, 322911 words/s, in_qsize 7, out_qsize 0\n",
            "2019-05-19 16:44:58,079 : INFO : EPOCH 3 - PROGRESS: at 59.45% examples, 322813 words/s, in_qsize 7, out_qsize 0\n",
            "2019-05-19 16:44:59,125 : INFO : EPOCH 3 - PROGRESS: at 62.08% examples, 322727 words/s, in_qsize 6, out_qsize 1\n",
            "2019-05-19 16:45:00,141 : INFO : EPOCH 3 - PROGRESS: at 64.72% examples, 323058 words/s, in_qsize 7, out_qsize 0\n",
            "2019-05-19 16:45:01,152 : INFO : EPOCH 3 - PROGRESS: at 67.23% examples, 322882 words/s, in_qsize 6, out_qsize 1\n",
            "2019-05-19 16:45:02,162 : INFO : EPOCH 3 - PROGRESS: at 69.94% examples, 323502 words/s, in_qsize 7, out_qsize 0\n",
            "2019-05-19 16:45:03,182 : INFO : EPOCH 3 - PROGRESS: at 72.54% examples, 323717 words/s, in_qsize 7, out_qsize 0\n",
            "2019-05-19 16:45:04,189 : INFO : EPOCH 3 - PROGRESS: at 75.08% examples, 323584 words/s, in_qsize 6, out_qsize 1\n",
            "2019-05-19 16:45:05,194 : INFO : EPOCH 3 - PROGRESS: at 77.60% examples, 323479 words/s, in_qsize 7, out_qsize 0\n",
            "2019-05-19 16:45:06,237 : INFO : EPOCH 3 - PROGRESS: at 80.20% examples, 323207 words/s, in_qsize 6, out_qsize 1\n",
            "2019-05-19 16:45:07,262 : INFO : EPOCH 3 - PROGRESS: at 82.72% examples, 322919 words/s, in_qsize 7, out_qsize 0\n",
            "2019-05-19 16:45:08,302 : INFO : EPOCH 3 - PROGRESS: at 85.23% examples, 322502 words/s, in_qsize 7, out_qsize 0\n",
            "2019-05-19 16:45:09,315 : INFO : EPOCH 3 - PROGRESS: at 87.69% examples, 322161 words/s, in_qsize 7, out_qsize 0\n",
            "2019-05-19 16:45:10,345 : INFO : EPOCH 3 - PROGRESS: at 90.18% examples, 321883 words/s, in_qsize 7, out_qsize 0\n",
            "2019-05-19 16:45:11,360 : INFO : EPOCH 3 - PROGRESS: at 92.74% examples, 321763 words/s, in_qsize 7, out_qsize 0\n",
            "2019-05-19 16:45:12,369 : INFO : EPOCH 3 - PROGRESS: at 95.30% examples, 321680 words/s, in_qsize 7, out_qsize 0\n",
            "2019-05-19 16:45:13,386 : INFO : EPOCH 3 - PROGRESS: at 97.84% examples, 321730 words/s, in_qsize 7, out_qsize 0\n",
            "2019-05-19 16:45:14,211 : INFO : worker thread finished; awaiting finish of 3 more threads\n",
            "2019-05-19 16:45:14,232 : INFO : worker thread finished; awaiting finish of 2 more threads\n",
            "2019-05-19 16:45:14,238 : INFO : worker thread finished; awaiting finish of 1 more threads\n",
            "2019-05-19 16:45:14,252 : INFO : worker thread finished; awaiting finish of 0 more threads\n",
            "2019-05-19 16:45:14,253 : INFO : EPOCH - 3 : training on 17798082 raw words (12748997 effective words) took 39.6s, 321722 effective words/s\n",
            "2019-05-19 16:45:15,295 : INFO : EPOCH 4 - PROGRESS: at 2.39% examples, 298544 words/s, in_qsize 7, out_qsize 0\n",
            "2019-05-19 16:45:16,316 : INFO : EPOCH 4 - PROGRESS: at 4.93% examples, 307042 words/s, in_qsize 7, out_qsize 0\n",
            "2019-05-19 16:45:17,356 : INFO : EPOCH 4 - PROGRESS: at 7.54% examples, 310074 words/s, in_qsize 7, out_qsize 0\n",
            "2019-05-19 16:45:18,391 : INFO : EPOCH 4 - PROGRESS: at 10.14% examples, 312073 words/s, in_qsize 7, out_qsize 0\n",
            "2019-05-19 16:45:19,450 : INFO : EPOCH 4 - PROGRESS: at 12.87% examples, 315164 words/s, in_qsize 7, out_qsize 0\n",
            "2019-05-19 16:45:20,466 : INFO : EPOCH 4 - PROGRESS: at 15.45% examples, 316195 words/s, in_qsize 7, out_qsize 0\n",
            "2019-05-19 16:45:21,502 : INFO : EPOCH 4 - PROGRESS: at 18.08% examples, 316314 words/s, in_qsize 6, out_qsize 1\n",
            "2019-05-19 16:45:22,537 : INFO : EPOCH 4 - PROGRESS: at 20.68% examples, 316519 words/s, in_qsize 7, out_qsize 0\n",
            "2019-05-19 16:45:23,553 : INFO : EPOCH 4 - PROGRESS: at 23.27% examples, 317308 words/s, in_qsize 7, out_qsize 0\n",
            "2019-05-19 16:45:24,589 : INFO : EPOCH 4 - PROGRESS: at 25.85% examples, 317319 words/s, in_qsize 7, out_qsize 0\n",
            "2019-05-19 16:45:25,597 : INFO : EPOCH 4 - PROGRESS: at 28.43% examples, 318098 words/s, in_qsize 6, out_qsize 1\n",
            "2019-05-19 16:45:26,621 : INFO : EPOCH 4 - PROGRESS: at 31.03% examples, 318329 words/s, in_qsize 7, out_qsize 0\n",
            "2019-05-19 16:45:27,630 : INFO : EPOCH 4 - PROGRESS: at 33.66% examples, 318871 words/s, in_qsize 7, out_qsize 0\n",
            "2019-05-19 16:45:28,643 : INFO : EPOCH 4 - PROGRESS: at 36.11% examples, 318265 words/s, in_qsize 8, out_qsize 0\n",
            "2019-05-19 16:45:29,656 : INFO : EPOCH 4 - PROGRESS: at 38.68% examples, 318704 words/s, in_qsize 7, out_qsize 0\n",
            "2019-05-19 16:45:30,671 : INFO : EPOCH 4 - PROGRESS: at 41.27% examples, 319031 words/s, in_qsize 7, out_qsize 0\n",
            "2019-05-19 16:45:31,680 : INFO : EPOCH 4 - PROGRESS: at 43.75% examples, 319040 words/s, in_qsize 5, out_qsize 2\n",
            "2019-05-19 16:45:32,689 : INFO : EPOCH 4 - PROGRESS: at 46.34% examples, 319406 words/s, in_qsize 7, out_qsize 0\n",
            "2019-05-19 16:45:33,702 : INFO : EPOCH 4 - PROGRESS: at 48.82% examples, 319313 words/s, in_qsize 6, out_qsize 1\n",
            "2019-05-19 16:45:34,707 : INFO : EPOCH 4 - PROGRESS: at 51.42% examples, 319746 words/s, in_qsize 7, out_qsize 0\n",
            "2019-05-19 16:45:35,734 : INFO : EPOCH 4 - PROGRESS: at 53.99% examples, 319764 words/s, in_qsize 7, out_qsize 0\n",
            "2019-05-19 16:45:36,763 : INFO : EPOCH 4 - PROGRESS: at 56.55% examples, 319733 words/s, in_qsize 7, out_qsize 0\n",
            "2019-05-19 16:45:37,766 : INFO : EPOCH 4 - PROGRESS: at 59.00% examples, 319805 words/s, in_qsize 7, out_qsize 0\n",
            "2019-05-19 16:45:38,769 : INFO : EPOCH 4 - PROGRESS: at 61.52% examples, 319826 words/s, in_qsize 8, out_qsize 1\n",
            "2019-05-19 16:45:39,769 : INFO : EPOCH 4 - PROGRESS: at 64.01% examples, 319622 words/s, in_qsize 7, out_qsize 0\n",
            "2019-05-19 16:45:40,795 : INFO : EPOCH 4 - PROGRESS: at 66.63% examples, 319943 words/s, in_qsize 7, out_qsize 0\n",
            "2019-05-19 16:45:41,822 : INFO : EPOCH 4 - PROGRESS: at 69.25% examples, 320226 words/s, in_qsize 7, out_qsize 0\n",
            "2019-05-19 16:45:42,825 : INFO : EPOCH 4 - PROGRESS: at 71.76% examples, 320248 words/s, in_qsize 7, out_qsize 0\n",
            "2019-05-19 16:45:43,850 : INFO : EPOCH 4 - PROGRESS: at 74.46% examples, 320759 words/s, in_qsize 7, out_qsize 0\n",
            "2019-05-19 16:45:44,863 : INFO : EPOCH 4 - PROGRESS: at 77.21% examples, 321585 words/s, in_qsize 7, out_qsize 0\n",
            "2019-05-19 16:45:45,875 : INFO : EPOCH 4 - PROGRESS: at 79.75% examples, 321476 words/s, in_qsize 8, out_qsize 0\n",
            "2019-05-19 16:45:46,909 : INFO : EPOCH 4 - PROGRESS: at 82.38% examples, 321570 words/s, in_qsize 7, out_qsize 0\n",
            "2019-05-19 16:45:47,922 : INFO : EPOCH 4 - PROGRESS: at 84.94% examples, 321678 words/s, in_qsize 5, out_qsize 2\n",
            "2019-05-19 16:45:48,929 : INFO : EPOCH 4 - PROGRESS: at 87.53% examples, 321843 words/s, in_qsize 7, out_qsize 1\n",
            "2019-05-19 16:45:49,979 : INFO : EPOCH 4 - PROGRESS: at 90.07% examples, 321587 words/s, in_qsize 6, out_qsize 1\n",
            "2019-05-19 16:45:50,996 : INFO : EPOCH 4 - PROGRESS: at 92.74% examples, 321832 words/s, in_qsize 7, out_qsize 0\n",
            "2019-05-19 16:45:51,998 : INFO : EPOCH 4 - PROGRESS: at 95.36% examples, 322000 words/s, in_qsize 7, out_qsize 0\n",
            "2019-05-19 16:45:53,051 : INFO : EPOCH 4 - PROGRESS: at 97.89% examples, 321750 words/s, in_qsize 7, out_qsize 0\n",
            "2019-05-19 16:45:53,793 : INFO : worker thread finished; awaiting finish of 3 more threads\n",
            "2019-05-19 16:45:53,796 : INFO : worker thread finished; awaiting finish of 2 more threads\n",
            "2019-05-19 16:45:53,828 : INFO : worker thread finished; awaiting finish of 1 more threads\n",
            "2019-05-19 16:45:53,838 : INFO : worker thread finished; awaiting finish of 0 more threads\n",
            "2019-05-19 16:45:53,840 : INFO : EPOCH - 4 : training on 17798082 raw words (12750611 effective words) took 39.6s, 322198 effective words/s\n",
            "2019-05-19 16:45:54,870 : INFO : EPOCH 5 - PROGRESS: at 2.50% examples, 315882 words/s, in_qsize 7, out_qsize 0\n",
            "2019-05-19 16:45:55,872 : INFO : EPOCH 5 - PROGRESS: at 5.03% examples, 318576 words/s, in_qsize 7, out_qsize 0\n",
            "2019-05-19 16:45:56,915 : INFO : EPOCH 5 - PROGRESS: at 7.66% examples, 317408 words/s, in_qsize 7, out_qsize 0\n",
            "2019-05-19 16:45:57,934 : INFO : EPOCH 5 - PROGRESS: at 10.26% examples, 318800 words/s, in_qsize 7, out_qsize 0\n",
            "2019-05-19 16:45:58,944 : INFO : EPOCH 5 - PROGRESS: at 12.80% examples, 318765 words/s, in_qsize 7, out_qsize 0\n",
            "2019-05-19 16:45:59,962 : INFO : EPOCH 5 - PROGRESS: at 15.34% examples, 318350 words/s, in_qsize 7, out_qsize 0\n",
            "2019-05-19 16:46:00,988 : INFO : EPOCH 5 - PROGRESS: at 18.02% examples, 319695 words/s, in_qsize 7, out_qsize 0\n",
            "2019-05-19 16:46:02,004 : INFO : EPOCH 5 - PROGRESS: at 20.62% examples, 320223 words/s, in_qsize 7, out_qsize 0\n",
            "2019-05-19 16:46:03,031 : INFO : EPOCH 5 - PROGRESS: at 23.27% examples, 321030 words/s, in_qsize 7, out_qsize 0\n",
            "2019-05-19 16:46:04,043 : INFO : EPOCH 5 - PROGRESS: at 25.86% examples, 321434 words/s, in_qsize 7, out_qsize 0\n",
            "2019-05-19 16:46:05,047 : INFO : EPOCH 5 - PROGRESS: at 28.43% examples, 321934 words/s, in_qsize 7, out_qsize 0\n",
            "2019-05-19 16:46:06,086 : INFO : EPOCH 5 - PROGRESS: at 31.03% examples, 321416 words/s, in_qsize 7, out_qsize 0\n",
            "2019-05-19 16:46:07,095 : INFO : EPOCH 5 - PROGRESS: at 33.78% examples, 322799 words/s, in_qsize 6, out_qsize 1\n",
            "2019-05-19 16:46:08,106 : INFO : EPOCH 5 - PROGRESS: at 36.45% examples, 323989 words/s, in_qsize 7, out_qsize 0\n",
            "2019-05-19 16:46:09,120 : INFO : EPOCH 5 - PROGRESS: at 38.91% examples, 323111 words/s, in_qsize 7, out_qsize 0\n",
            "2019-05-19 16:46:10,152 : INFO : EPOCH 5 - PROGRESS: at 41.54% examples, 323259 words/s, in_qsize 7, out_qsize 0\n",
            "2019-05-19 16:46:11,170 : INFO : EPOCH 5 - PROGRESS: at 44.04% examples, 322852 words/s, in_qsize 7, out_qsize 0\n",
            "2019-05-19 16:46:12,205 : INFO : EPOCH 5 - PROGRESS: at 46.72% examples, 323319 words/s, in_qsize 7, out_qsize 0\n",
            "2019-05-19 16:46:13,207 : INFO : EPOCH 5 - PROGRESS: at 49.27% examples, 323594 words/s, in_qsize 7, out_qsize 0\n",
            "2019-05-19 16:46:14,238 : INFO : EPOCH 5 - PROGRESS: at 51.93% examples, 323720 words/s, in_qsize 6, out_qsize 1\n",
            "2019-05-19 16:46:15,241 : INFO : EPOCH 5 - PROGRESS: at 54.49% examples, 323918 words/s, in_qsize 7, out_qsize 0\n",
            "2019-05-19 16:46:16,270 : INFO : EPOCH 5 - PROGRESS: at 57.04% examples, 323709 words/s, in_qsize 6, out_qsize 1\n",
            "2019-05-19 16:46:17,277 : INFO : EPOCH 5 - PROGRESS: at 59.51% examples, 323523 words/s, in_qsize 7, out_qsize 0\n",
            "2019-05-19 16:46:18,322 : INFO : EPOCH 5 - PROGRESS: at 62.13% examples, 323473 words/s, in_qsize 7, out_qsize 1\n",
            "2019-05-19 16:46:19,322 : INFO : EPOCH 5 - PROGRESS: at 64.62% examples, 323102 words/s, in_qsize 7, out_qsize 0\n",
            "2019-05-19 16:46:20,331 : INFO : EPOCH 5 - PROGRESS: at 67.23% examples, 323487 words/s, in_qsize 7, out_qsize 0\n",
            "2019-05-19 16:46:21,336 : INFO : EPOCH 5 - PROGRESS: at 69.65% examples, 322852 words/s, in_qsize 7, out_qsize 0\n",
            "2019-05-19 16:46:22,392 : INFO : EPOCH 5 - PROGRESS: at 72.32% examples, 322943 words/s, in_qsize 7, out_qsize 0\n",
            "2019-05-19 16:46:23,441 : INFO : EPOCH 5 - PROGRESS: at 74.96% examples, 322859 words/s, in_qsize 7, out_qsize 0\n",
            "2019-05-19 16:46:24,454 : INFO : EPOCH 5 - PROGRESS: at 77.60% examples, 323150 words/s, in_qsize 6, out_qsize 1\n",
            "2019-05-19 16:46:25,533 : INFO : EPOCH 5 - PROGRESS: at 80.20% examples, 322611 words/s, in_qsize 8, out_qsize 2\n",
            "2019-05-19 16:46:26,535 : INFO : EPOCH 5 - PROGRESS: at 82.72% examples, 322499 words/s, in_qsize 7, out_qsize 0\n",
            "2019-05-19 16:46:27,569 : INFO : EPOCH 5 - PROGRESS: at 85.28% examples, 322368 words/s, in_qsize 6, out_qsize 1\n",
            "2019-05-19 16:46:28,578 : INFO : EPOCH 5 - PROGRESS: at 87.80% examples, 322266 words/s, in_qsize 7, out_qsize 0\n",
            "2019-05-19 16:46:29,628 : INFO : EPOCH 5 - PROGRESS: at 90.47% examples, 322399 words/s, in_qsize 7, out_qsize 0\n",
            "2019-05-19 16:46:30,640 : INFO : EPOCH 5 - PROGRESS: at 93.06% examples, 322471 words/s, in_qsize 6, out_qsize 1\n",
            "2019-05-19 16:46:31,665 : INFO : EPOCH 5 - PROGRESS: at 95.71% examples, 322415 words/s, in_qsize 7, out_qsize 0\n",
            "2019-05-19 16:46:32,695 : INFO : EPOCH 5 - PROGRESS: at 98.40% examples, 322903 words/s, in_qsize 6, out_qsize 1\n",
            "2019-05-19 16:46:33,210 : INFO : worker thread finished; awaiting finish of 3 more threads\n",
            "2019-05-19 16:46:33,225 : INFO : worker thread finished; awaiting finish of 2 more threads\n",
            "2019-05-19 16:46:33,227 : INFO : worker thread finished; awaiting finish of 1 more threads\n",
            "2019-05-19 16:46:33,233 : INFO : worker thread finished; awaiting finish of 0 more threads\n",
            "2019-05-19 16:46:33,234 : INFO : EPOCH - 5 : training on 17798082 raw words (12749396 effective words) took 39.4s, 323733 effective words/s\n",
            "2019-05-19 16:46:33,235 : INFO : training on a 88990410 raw words (63747358 effective words) took 197.6s, 322681 effective words/s\n",
            "2019-05-19 16:46:33,236 : INFO : precomputing L2-norms of word weight vectors\n",
            "2019-05-19 16:46:33,382 : INFO : saving Word2Vec object under 300features_40minwords_10context, separately None\n",
            "2019-05-19 16:46:33,383 : INFO : not storing attribute vectors_norm\n",
            "2019-05-19 16:46:33,385 : INFO : not storing attribute cum_table\n",
            "2019-05-19 16:46:33,386 : WARNING : this function is deprecated, use smart_open.open instead\n",
            "2019-05-19 16:46:33,890 : INFO : saved 300features_40minwords_10context\n"
          ],
          "name": "stderr"
        }
      ]
    },
    {
      "cell_type": "markdown",
      "metadata": {
        "id": "SKrQiQR3_qxc",
        "colab_type": "text"
      },
      "source": [
        "## Exploring the Model Results\n",
        "Let's take a look at the model we created out of our 75,000 training reviews.\n",
        "\n",
        "The `doesnt_match` function will try to deduce which word in a set is most dissimilar from the others:"
      ]
    },
    {
      "cell_type": "code",
      "metadata": {
        "id": "x8lKsxlV-XTT",
        "colab_type": "code",
        "colab": {
          "base_uri": "https://localhost:8080/",
          "height": 35
        },
        "outputId": "a4b0c617-b7d6-4327-ee19-91f2c2f810f7"
      },
      "source": [
        "model.doesnt_match(\"man woman child kitchen\".split())"
      ],
      "execution_count": 33,
      "outputs": [
        {
          "output_type": "execute_result",
          "data": {
            "text/plain": [
              "'kitchen'"
            ]
          },
          "metadata": {
            "tags": []
          },
          "execution_count": 33
        }
      ]
    },
    {
      "cell_type": "markdown",
      "metadata": {
        "id": "kI7VsBSNAQYI",
        "colab_type": "text"
      },
      "source": [
        "Our model is capable of distinguishing differences in meaning! It knows that men, women and children are more similar to each other than they are to kitchens. More exploration shows that the model is sensitive to more subtle differences in meaning, such as differences between countries and cities:"
      ]
    },
    {
      "cell_type": "code",
      "metadata": {
        "id": "_Ft0B4NR_0QW",
        "colab_type": "code",
        "colab": {
          "base_uri": "https://localhost:8080/",
          "height": 35
        },
        "outputId": "c700c6cd-9b3a-42e6-989e-13bf8348f24c"
      },
      "source": [
        "model.doesnt_match(\"france england spain madrid\".split())"
      ],
      "execution_count": 36,
      "outputs": [
        {
          "output_type": "execute_result",
          "data": {
            "text/plain": [
              "'madrid'"
            ]
          },
          "metadata": {
            "tags": []
          },
          "execution_count": 36
        }
      ]
    },
    {
      "cell_type": "markdown",
      "metadata": {
        "id": "nGnKxISUAnqm",
        "colab_type": "text"
      },
      "source": [
        "We can also use the \"most_similar\" function to get insight into the model's word clusters:\n",
        "\n"
      ]
    },
    {
      "cell_type": "code",
      "metadata": {
        "id": "mPY6a2dyAX4i",
        "colab_type": "code",
        "colab": {
          "base_uri": "https://localhost:8080/",
          "height": 191
        },
        "outputId": "ad998317-f170-44ba-c1e1-d29823616f42"
      },
      "source": [
        "model.most_similar(\"man\")"
      ],
      "execution_count": 37,
      "outputs": [
        {
          "output_type": "execute_result",
          "data": {
            "text/plain": [
              "[('woman', 0.6234472990036011),\n",
              " ('lady', 0.6112213134765625),\n",
              " ('lad', 0.5950173139572144),\n",
              " ('monk', 0.55019611120224),\n",
              " ('chap', 0.536170482635498),\n",
              " ('guy', 0.5299067497253418),\n",
              " ('men', 0.5216111540794373),\n",
              " ('soldier', 0.5134493112564087),\n",
              " ('boy', 0.5083514451980591),\n",
              " ('millionaire', 0.5068236589431763)]"
            ]
          },
          "metadata": {
            "tags": []
          },
          "execution_count": 37
        }
      ]
    },
    {
      "cell_type": "code",
      "metadata": {
        "id": "BURw01cqAqwG",
        "colab_type": "code",
        "colab": {
          "base_uri": "https://localhost:8080/",
          "height": 191
        },
        "outputId": "443837c9-f809-491f-ce02-3d05a27606ee"
      },
      "source": [
        "model.most_similar(\"philosophy\")"
      ],
      "execution_count": 39,
      "outputs": [
        {
          "output_type": "execute_result",
          "data": {
            "text/plain": [
              "[('religion', 0.6531770825386047),\n",
              " ('psychology', 0.645232081413269),\n",
              " ('philosophies', 0.6272254586219788),\n",
              " ('philosophical', 0.6229748725891113),\n",
              " ('ideals', 0.6204097270965576),\n",
              " ('alienation', 0.61898273229599),\n",
              " ('meanings', 0.6090627908706665),\n",
              " ('beliefs', 0.6027831435203552),\n",
              " ('morals', 0.6003556847572327),\n",
              " ('sexuality', 0.5974820256233215)]"
            ]
          },
          "metadata": {
            "tags": []
          },
          "execution_count": 39
        }
      ]
    },
    {
      "cell_type": "code",
      "metadata": {
        "id": "Mm8Le52JAxFl",
        "colab_type": "code",
        "colab": {
          "base_uri": "https://localhost:8080/",
          "height": 191
        },
        "outputId": "5239f17a-74b4-4275-d0af-1786fdf9972f"
      },
      "source": [
        "model.most_similar(\"queen\")"
      ],
      "execution_count": 40,
      "outputs": [
        {
          "output_type": "execute_result",
          "data": {
            "text/plain": [
              "[('princess', 0.6830263733863831),\n",
              " ('stepmother', 0.6475095152854919),\n",
              " ('bride', 0.644113302230835),\n",
              " ('belle', 0.6054008603096008),\n",
              " ('eva', 0.6007740497589111),\n",
              " ('antoinette', 0.5970436334609985),\n",
              " ('victoria', 0.5903248190879822),\n",
              " ('goddess', 0.5897488594055176),\n",
              " ('mistress', 0.5894443988800049),\n",
              " ('dame', 0.5798168182373047)]"
            ]
          },
          "metadata": {
            "tags": []
          },
          "execution_count": 40
        }
      ]
    },
    {
      "cell_type": "markdown",
      "metadata": {
        "id": "klQxB7gpBKO4",
        "colab_type": "text"
      },
      "source": [
        "Or, more relevant for sentiment analysis:"
      ]
    },
    {
      "cell_type": "code",
      "metadata": {
        "id": "ttxP_PzEA9Qn",
        "colab_type": "code",
        "colab": {
          "base_uri": "https://localhost:8080/",
          "height": 191
        },
        "outputId": "8ab1d10d-dae7-42aa-c966-46bafba780b7"
      },
      "source": [
        "model.most_similar(\"awful\")"
      ],
      "execution_count": 41,
      "outputs": [
        {
          "output_type": "execute_result",
          "data": {
            "text/plain": [
              "[('terrible', 0.7632062435150146),\n",
              " ('horrible', 0.7374094724655151),\n",
              " ('abysmal', 0.7110364437103271),\n",
              " ('dreadful', 0.7106900215148926),\n",
              " ('atrocious', 0.7014745473861694),\n",
              " ('horrendous', 0.6905228495597839),\n",
              " ('appalling', 0.6663126945495605),\n",
              " ('horrid', 0.661719799041748),\n",
              " ('lousy', 0.614993691444397),\n",
              " ('amateurish', 0.613572359085083)]"
            ]
          },
          "metadata": {
            "tags": []
          },
          "execution_count": 41
        }
      ]
    },
    {
      "cell_type": "code",
      "metadata": {
        "id": "ahPi5fQoBN6o",
        "colab_type": "code",
        "colab": {}
      },
      "source": [
        ""
      ],
      "execution_count": 0,
      "outputs": []
    }
  ]
}